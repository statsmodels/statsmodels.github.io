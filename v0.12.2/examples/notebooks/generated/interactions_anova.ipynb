{
 "cells": [
  {
   "cell_type": "markdown",
   "metadata": {},
   "source": [
    "# Interactions and ANOVA"
   ]
  },
  {
   "cell_type": "markdown",
   "metadata": {},
   "source": [
    "Note: This script is based heavily on Jonathan Taylor's class notes https://web.stanford.edu/class/stats191/notebooks/Interactions.html\n",
    "\n",
    "Download and format data:"
   ]
  },
  {
   "cell_type": "code",
   "execution_count": 1,
   "metadata": {
    "collapsed": true,
    "execution": {
     "iopub.execute_input": "2021-02-02T06:51:51.356785Z",
     "iopub.status.busy": "2021-02-02T06:51:51.346501Z",
     "iopub.status.idle": "2021-02-02T06:51:51.809467Z",
     "shell.execute_reply": "2021-02-02T06:51:51.810637Z"
    }
   },
   "outputs": [],
   "source": [
    "%matplotlib inline"
   ]
  },
  {
   "cell_type": "code",
   "execution_count": 2,
   "metadata": {
    "execution": {
     "iopub.execute_input": "2021-02-02T06:51:51.815940Z",
     "iopub.status.busy": "2021-02-02T06:51:51.814293Z",
     "iopub.status.idle": "2021-02-02T06:51:52.682646Z",
     "shell.execute_reply": "2021-02-02T06:51:52.684085Z"
    }
   },
   "outputs": [],
   "source": [
    "from urllib.request import urlopen\n",
    "import numpy as np\n",
    "np.set_printoptions(precision=4, suppress=True)\n",
    "\n",
    "import pandas as pd\n",
    "pd.set_option(\"display.width\", 100)\n",
    "import matplotlib.pyplot as plt\n",
    "from statsmodels.formula.api import ols\n",
    "from statsmodels.graphics.api import interaction_plot, abline_plot\n",
    "from statsmodels.stats.anova import anova_lm\n",
    "\n",
    "try:\n",
    "    salary_table = pd.read_csv('salary.table')\n",
    "except:  # recent pandas can read URL without urlopen\n",
    "    url = 'http://stats191.stanford.edu/data/salary.table'\n",
    "    fh = urlopen(url)\n",
    "    salary_table = pd.read_table(fh)\n",
    "    salary_table.to_csv('salary.table')\n",
    "\n",
    "E = salary_table.E\n",
    "M = salary_table.M\n",
    "X = salary_table.X\n",
    "S = salary_table.S"
   ]
  },
  {
   "cell_type": "markdown",
   "metadata": {},
   "source": [
    "Take a look at the data:"
   ]
  },
  {
   "cell_type": "code",
   "execution_count": 3,
   "metadata": {
    "execution": {
     "iopub.execute_input": "2021-02-02T06:51:52.689175Z",
     "iopub.status.busy": "2021-02-02T06:51:52.687845Z",
     "iopub.status.idle": "2021-02-02T06:51:52.986496Z",
     "shell.execute_reply": "2021-02-02T06:51:52.987784Z"
    }
   },
   "outputs": [
    {
     "data": {
      "text/plain": [
       "Text(0, 0.5, 'Salary')"
      ]
     },
     "execution_count": 1,
     "metadata": {},
     "output_type": "execute_result"
    },
    {
     "data": {
      "image/png": "[encoded data removed]",
      "text/plain": [
       "<Figure size 432x432 with 1 Axes>"
      ]
     },
     "metadata": {
      "needs_background": "light"
     },
     "output_type": "display_data"
    }
   ],
   "source": [
    "plt.figure(figsize=(6,6))\n",
    "symbols = ['D', '^']\n",
    "colors = ['r', 'g', 'blue']\n",
    "factor_groups = salary_table.groupby(['E','M'])\n",
    "for values, group in factor_groups:\n",
    "    i,j = values\n",
    "    plt.scatter(group['X'], group['S'], marker=symbols[j], color=colors[i-1],\n",
    "               s=144)\n",
    "plt.xlabel('Experience');\n",
    "plt.ylabel('Salary');"
   ]
  },
  {
   "cell_type": "markdown",
   "metadata": {},
   "source": [
    "Fit a linear model:"
   ]
  },
  {
   "cell_type": "code",
   "execution_count": 4,
   "metadata": {
    "execution": {
     "iopub.execute_input": "2021-02-02T06:51:52.993184Z",
     "iopub.status.busy": "2021-02-02T06:51:52.991846Z",
     "iopub.status.idle": "2021-02-02T06:51:53.028157Z",
     "shell.execute_reply": "2021-02-02T06:51:53.029288Z"
    }
   },
   "outputs": [
    {
     "name": "stdout",
     "output_type": "stream",
     "text": [
      "                            OLS Regression Results                            \n",
      "==============================================================================\n",
      "Dep. Variable:                      S   R-squared:                       0.957\n",
      "Model:                            OLS   Adj. R-squared:                  0.953\n",
      "Method:                 Least Squares   F-statistic:                     226.8\n",
      "Date:                Tue, 02 Feb 2021   Prob (F-statistic):           2.23e-27\n",
      "Time:                        06:51:53   Log-Likelihood:                -381.63\n",
      "No. Observations:                  46   AIC:                             773.3\n",
      "Df Residuals:                      41   BIC:                             782.4\n",
      "Df Model:                           4                                         \n",
      "Covariance Type:            nonrobust                                         \n",
      "==============================================================================\n",
      "                 coef    std err          t      P>|t|      [0.025      0.975]\n",
      "------------------------------------------------------------------------------\n",
      "Intercept   8035.5976    386.689     20.781      0.000    7254.663    8816.532\n",
      "C(E)[T.2]   3144.0352    361.968      8.686      0.000    2413.025    3875.045\n",
      "C(E)[T.3]   2996.2103    411.753      7.277      0.000    2164.659    3827.762\n",
      "C(M)[T.1]   6883.5310    313.919     21.928      0.000    6249.559    7517.503\n",
      "X            546.1840     30.519     17.896      0.000     484.549     607.819\n",
      "==============================================================================\n",
      "Omnibus:                        2.293   Durbin-Watson:                   2.237\n",
      "Prob(Omnibus):                  0.318   Jarque-Bera (JB):                1.362\n",
      "Skew:                          -0.077   Prob(JB):                        0.506\n",
      "Kurtosis:                       2.171   Cond. No.                         33.5\n",
      "==============================================================================\n",
      "\n",
      "Notes:\n",
      "[1] Standard Errors assume that the covariance matrix of the errors is correctly specified.\n"
     ]
    }
   ],
   "source": [
    "formula = 'S ~ C(E) + C(M) + X'\n",
    "lm = ols(formula, salary_table).fit()\n",
    "print(lm.summary())"
   ]
  },
  {
   "cell_type": "markdown",
   "metadata": {},
   "source": [
    "Have a look at the created design matrix: "
   ]
  },
  {
   "cell_type": "code",
   "execution_count": 5,
   "metadata": {
    "execution": {
     "iopub.execute_input": "2021-02-02T06:51:53.034173Z",
     "iopub.status.busy": "2021-02-02T06:51:53.032680Z",
     "iopub.status.idle": "2021-02-02T06:51:53.042105Z",
     "shell.execute_reply": "2021-02-02T06:51:53.043145Z"
    }
   },
   "outputs": [
    {
     "data": {
      "text/plain": [
       "array([[1., 0., 0., 1., 1.],\n",
       "       [1., 0., 1., 0., 1.],\n",
       "       [1., 0., 1., 1., 1.],\n",
       "       [1., 1., 0., 0., 1.],\n",
       "       [1., 0., 1., 0., 1.]])"
      ]
     },
     "execution_count": 1,
     "metadata": {},
     "output_type": "execute_result"
    }
   ],
   "source": [
    "lm.model.exog[:5]"
   ]
  },
  {
   "cell_type": "markdown",
   "metadata": {},
   "source": [
    "Or since we initially passed in a DataFrame, we have a DataFrame available in"
   ]
  },
  {
   "cell_type": "code",
   "execution_count": 6,
   "metadata": {
    "execution": {
     "iopub.execute_input": "2021-02-02T06:51:53.048057Z",
     "iopub.status.busy": "2021-02-02T06:51:53.046419Z",
     "iopub.status.idle": "2021-02-02T06:51:53.068406Z",
     "shell.execute_reply": "2021-02-02T06:51:53.069569Z"
    }
   },
   "outputs": [
    {
     "data": {
      "text/html": [
       "<div>\n",
       "<style scoped>\n",
       "    .dataframe tbody tr th:only-of-type {\n",
       "        vertical-align: middle;\n",
       "    }\n",
       "\n",
       "    .dataframe tbody tr th {\n",
       "        vertical-align: top;\n",
       "    }\n",
       "\n",
       "    .dataframe thead th {\n",
       "        text-align: right;\n",
       "    }\n",
       "</style>\n",
       "<table border=\"1\" class=\"dataframe\">\n",
       "  <thead>\n",
       "    <tr style=\"text-align: right;\">\n",
       "      <th></th>\n",
       "      <th>Intercept</th>\n",
       "      <th>C(E)[T.2]</th>\n",
       "      <th>C(E)[T.3]</th>\n",
       "      <th>C(M)[T.1]</th>\n",
       "      <th>X</th>\n",
       "    </tr>\n",
       "  </thead>\n",
       "  <tbody>\n",
       "    <tr>\n",
       "      <th>0</th>\n",
       "      <td>1.0</td>\n",
       "      <td>0.0</td>\n",
       "      <td>0.0</td>\n",
       "      <td>1.0</td>\n",
       "      <td>1.0</td>\n",
       "    </tr>\n",
       "    <tr>\n",
       "      <th>1</th>\n",
       "      <td>1.0</td>\n",
       "      <td>0.0</td>\n",
       "      <td>1.0</td>\n",
       "      <td>0.0</td>\n",
       "      <td>1.0</td>\n",
       "    </tr>\n",
       "    <tr>\n",
       "      <th>2</th>\n",
       "      <td>1.0</td>\n",
       "      <td>0.0</td>\n",
       "      <td>1.0</td>\n",
       "      <td>1.0</td>\n",
       "      <td>1.0</td>\n",
       "    </tr>\n",
       "    <tr>\n",
       "      <th>3</th>\n",
       "      <td>1.0</td>\n",
       "      <td>1.0</td>\n",
       "      <td>0.0</td>\n",
       "      <td>0.0</td>\n",
       "      <td>1.0</td>\n",
       "    </tr>\n",
       "    <tr>\n",
       "      <th>4</th>\n",
       "      <td>1.0</td>\n",
       "      <td>0.0</td>\n",
       "      <td>1.0</td>\n",
       "      <td>0.0</td>\n",
       "      <td>1.0</td>\n",
       "    </tr>\n",
       "  </tbody>\n",
       "</table>\n",
       "</div>"
      ],
      "text/plain": [
       "   Intercept  C(E)[T.2]  C(E)[T.3]  C(M)[T.1]    X\n",
       "0        1.0        0.0        0.0        1.0  1.0\n",
       "1        1.0        0.0        1.0        0.0  1.0\n",
       "2        1.0        0.0        1.0        1.0  1.0\n",
       "3        1.0        1.0        0.0        0.0  1.0\n",
       "4        1.0        0.0        1.0        0.0  1.0"
      ]
     },
     "execution_count": 1,
     "metadata": {},
     "output_type": "execute_result"
    }
   ],
   "source": [
    "lm.model.data.orig_exog[:5]"
   ]
  },
  {
   "cell_type": "markdown",
   "metadata": {},
   "source": [
    "We keep a reference to the original untouched data in"
   ]
  },
  {
   "cell_type": "code",
   "execution_count": 7,
   "metadata": {
    "execution": {
     "iopub.execute_input": "2021-02-02T06:51:53.074290Z",
     "iopub.status.busy": "2021-02-02T06:51:53.072796Z",
     "iopub.status.idle": "2021-02-02T06:51:53.087016Z",
     "shell.execute_reply": "2021-02-02T06:51:53.088185Z"
    }
   },
   "outputs": [
    {
     "data": {
      "text/html": [
       "<div>\n",
       "<style scoped>\n",
       "    .dataframe tbody tr th:only-of-type {\n",
       "        vertical-align: middle;\n",
       "    }\n",
       "\n",
       "    .dataframe tbody tr th {\n",
       "        vertical-align: top;\n",
       "    }\n",
       "\n",
       "    .dataframe thead th {\n",
       "        text-align: right;\n",
       "    }\n",
       "</style>\n",
       "<table border=\"1\" class=\"dataframe\">\n",
       "  <thead>\n",
       "    <tr style=\"text-align: right;\">\n",
       "      <th></th>\n",
       "      <th>Unnamed: 0</th>\n",
       "      <th>S</th>\n",
       "      <th>X</th>\n",
       "      <th>E</th>\n",
       "      <th>M</th>\n",
       "    </tr>\n",
       "  </thead>\n",
       "  <tbody>\n",
       "    <tr>\n",
       "      <th>0</th>\n",
       "      <td>0</td>\n",
       "      <td>13876</td>\n",
       "      <td>1</td>\n",
       "      <td>1</td>\n",
       "      <td>1</td>\n",
       "    </tr>\n",
       "    <tr>\n",
       "      <th>1</th>\n",
       "      <td>1</td>\n",
       "      <td>11608</td>\n",
       "      <td>1</td>\n",
       "      <td>3</td>\n",
       "      <td>0</td>\n",
       "    </tr>\n",
       "    <tr>\n",
       "      <th>2</th>\n",
       "      <td>2</td>\n",
       "      <td>18701</td>\n",
       "      <td>1</td>\n",
       "      <td>3</td>\n",
       "      <td>1</td>\n",
       "    </tr>\n",
       "    <tr>\n",
       "      <th>3</th>\n",
       "      <td>3</td>\n",
       "      <td>11283</td>\n",
       "      <td>1</td>\n",
       "      <td>2</td>\n",
       "      <td>0</td>\n",
       "    </tr>\n",
       "    <tr>\n",
       "      <th>4</th>\n",
       "      <td>4</td>\n",
       "      <td>11767</td>\n",
       "      <td>1</td>\n",
       "      <td>3</td>\n",
       "      <td>0</td>\n",
       "    </tr>\n",
       "  </tbody>\n",
       "</table>\n",
       "</div>"
      ],
      "text/plain": [
       "   Unnamed: 0      S  X  E  M\n",
       "0           0  13876  1  1  1\n",
       "1           1  11608  1  3  0\n",
       "2           2  18701  1  3  1\n",
       "3           3  11283  1  2  0\n",
       "4           4  11767  1  3  0"
      ]
     },
     "execution_count": 1,
     "metadata": {},
     "output_type": "execute_result"
    }
   ],
   "source": [
    "lm.model.data.frame[:5]"
   ]
  },
  {
   "cell_type": "markdown",
   "metadata": {},
   "source": [
    "Influence statistics"
   ]
  },
  {
   "cell_type": "code",
   "execution_count": 8,
   "metadata": {
    "execution": {
     "iopub.execute_input": "2021-02-02T06:51:53.093115Z",
     "iopub.status.busy": "2021-02-02T06:51:53.091589Z",
     "iopub.status.idle": "2021-02-02T06:51:53.162822Z",
     "shell.execute_reply": "2021-02-02T06:51:53.163765Z"
    }
   },
   "outputs": [
    {
     "name": "stdout",
     "output_type": "stream",
     "text": [
      "==================================================================================================\n",
      "       obs      endog     fitted     Cook's   student.   hat diag    dffits   ext.stud.     dffits\n",
      "                           value          d   residual              internal   residual           \n",
      "--------------------------------------------------------------------------------------------------\n",
      "         0  13876.000  15465.313      0.104     -1.683      0.155     -0.722     -1.723     -0.739\n",
      "         1  11608.000  11577.992      0.000      0.031      0.130      0.012      0.031      0.012\n",
      "         2  18701.000  18461.523      0.001      0.247      0.109      0.086      0.244      0.085\n",
      "         3  11283.000  11725.817      0.005     -0.458      0.113     -0.163     -0.453     -0.162\n",
      "         4  11767.000  11577.992      0.001      0.197      0.130      0.076      0.195      0.075\n",
      "         5  20872.000  19155.532      0.092      1.787      0.126      0.678      1.838      0.698\n",
      "         6  11772.000  12272.001      0.006     -0.513      0.101     -0.172     -0.509     -0.170\n",
      "         7  10535.000   9127.966      0.056      1.457      0.116      0.529      1.478      0.537\n",
      "         8  12195.000  12124.176      0.000      0.074      0.123      0.028      0.073      0.027\n",
      "         9  12313.000  12818.185      0.005     -0.516      0.091     -0.163     -0.511     -0.161\n",
      "        10  14975.000  16557.681      0.084     -1.655      0.134     -0.650     -1.692     -0.664\n",
      "        11  21371.000  19701.716      0.078      1.728      0.116      0.624      1.772      0.640\n",
      "        12  19800.000  19553.891      0.001      0.252      0.096      0.082      0.249      0.081\n",
      "        13  11417.000  10220.334      0.033      1.227      0.098      0.405      1.234      0.408\n",
      "        14  20263.000  20100.075      0.001      0.166      0.093      0.053      0.165      0.053\n",
      "        15  13231.000  13216.544      0.000      0.015      0.114      0.005      0.015      0.005\n",
      "        16  12884.000  13364.369      0.004     -0.488      0.082     -0.146     -0.483     -0.145\n",
      "        17  13245.000  13910.553      0.007     -0.674      0.075     -0.192     -0.669     -0.191\n",
      "        18  13677.000  13762.728      0.000     -0.089      0.113     -0.032     -0.087     -0.031\n",
      "        19  15965.000  17650.049      0.082     -1.747      0.119     -0.642     -1.794     -0.659\n",
      "        20  12336.000  11312.702      0.021      1.043      0.087      0.323      1.044      0.323\n",
      "        21  21352.000  21192.443      0.001      0.163      0.091      0.052      0.161      0.051\n",
      "        22  13839.000  14456.737      0.006     -0.624      0.070     -0.171     -0.619     -0.170\n",
      "        23  22884.000  21340.268      0.052      1.579      0.095      0.511      1.610      0.521\n",
      "        24  16978.000  18742.417      0.083     -1.822      0.111     -0.644     -1.877     -0.664\n",
      "        25  14803.000  15549.105      0.008     -0.751      0.065     -0.199     -0.747     -0.198\n",
      "        26  17404.000  19288.601      0.093     -1.944      0.110     -0.684     -2.016     -0.709\n",
      "        27  22184.000  22284.811      0.000     -0.103      0.096     -0.034     -0.102     -0.033\n",
      "        28  13548.000  12405.070      0.025      1.162      0.083      0.350      1.167      0.352\n",
      "        29  14467.000  13497.438      0.018      0.987      0.086      0.304      0.987      0.304\n",
      "        30  15942.000  16641.473      0.007     -0.705      0.068     -0.190     -0.701     -0.189\n",
      "        31  23174.000  23377.179      0.001     -0.209      0.108     -0.073     -0.207     -0.072\n",
      "        32  23780.000  23525.004      0.001      0.260      0.092      0.083      0.257      0.082\n",
      "        33  25410.000  24071.188      0.040      1.370      0.096      0.446      1.386      0.451\n",
      "        34  14861.000  14043.622      0.014      0.834      0.091      0.263      0.831      0.262\n",
      "        35  16882.000  17733.841      0.012     -0.863      0.077     -0.249     -0.860     -0.249\n",
      "        36  24170.000  24469.547      0.003     -0.312      0.127     -0.119     -0.309     -0.118\n",
      "        37  15990.000  15135.990      0.018      0.878      0.104      0.300      0.876      0.299\n",
      "        38  26330.000  25163.556      0.035      1.202      0.109      0.420      1.209      0.422\n",
      "        39  17949.000  18826.209      0.017     -0.897      0.093     -0.288     -0.895     -0.287\n",
      "        40  25685.000  26108.099      0.008     -0.452      0.169     -0.204     -0.447     -0.202\n",
      "        41  27837.000  26802.108      0.039      1.087      0.141      0.440      1.089      0.441\n",
      "        42  18838.000  19918.577      0.033     -1.119      0.117     -0.407     -1.123     -0.408\n",
      "        43  17483.000  16774.542      0.018      0.743      0.138      0.297      0.739      0.295\n",
      "        44  19207.000  20464.761      0.052     -1.313      0.131     -0.511     -1.325     -0.515\n",
      "        45  19346.000  18959.278      0.009      0.423      0.208      0.216      0.419      0.214\n",
      "==================================================================================================\n"
     ]
    }
   ],
   "source": [
    "infl = lm.get_influence()\n",
    "print(infl.summary_table())"
   ]
  },
  {
   "cell_type": "markdown",
   "metadata": {},
   "source": [
    "or get a dataframe"
   ]
  },
  {
   "cell_type": "code",
   "execution_count": 9,
   "metadata": {
    "execution": {
     "iopub.execute_input": "2021-02-02T06:51:53.168772Z",
     "iopub.status.busy": "2021-02-02T06:51:53.167184Z",
     "iopub.status.idle": "2021-02-02T06:51:53.175562Z",
     "shell.execute_reply": "2021-02-02T06:51:53.176498Z"
    }
   },
   "outputs": [],
   "source": [
    "df_infl = infl.summary_frame()"
   ]
  },
  {
   "cell_type": "code",
   "execution_count": 10,
   "metadata": {
    "execution": {
     "iopub.execute_input": "2021-02-02T06:51:53.181363Z",
     "iopub.status.busy": "2021-02-02T06:51:53.179847Z",
     "iopub.status.idle": "2021-02-02T06:51:53.204995Z",
     "shell.execute_reply": "2021-02-02T06:51:53.206217Z"
    }
   },
   "outputs": [
    {
     "data": {
      "text/html": [
       "<div>\n",
       "<style scoped>\n",
       "    .dataframe tbody tr th:only-of-type {\n",
       "        vertical-align: middle;\n",
       "    }\n",
       "\n",
       "    .dataframe tbody tr th {\n",
       "        vertical-align: top;\n",
       "    }\n",
       "\n",
       "    .dataframe thead th {\n",
       "        text-align: right;\n",
       "    }\n",
       "</style>\n",
       "<table border=\"1\" class=\"dataframe\">\n",
       "  <thead>\n",
       "    <tr style=\"text-align: right;\">\n",
       "      <th></th>\n",
       "      <th>dfb_Intercept</th>\n",
       "      <th>dfb_C(E)[T.2]</th>\n",
       "      <th>dfb_C(E)[T.3]</th>\n",
       "      <th>dfb_C(M)[T.1]</th>\n",
       "      <th>dfb_X</th>\n",
       "      <th>cooks_d</th>\n",
       "      <th>standard_resid</th>\n",
       "      <th>hat_diag</th>\n",
       "      <th>dffits_internal</th>\n",
       "      <th>student_resid</th>\n",
       "      <th>dffits</th>\n",
       "    </tr>\n",
       "  </thead>\n",
       "  <tbody>\n",
       "    <tr>\n",
       "      <th>0</th>\n",
       "      <td>-0.505123</td>\n",
       "      <td>0.376134</td>\n",
       "      <td>0.483977</td>\n",
       "      <td>-0.369677</td>\n",
       "      <td>0.399111</td>\n",
       "      <td>0.104186</td>\n",
       "      <td>-1.683099</td>\n",
       "      <td>0.155327</td>\n",
       "      <td>-0.721753</td>\n",
       "      <td>-1.723037</td>\n",
       "      <td>-0.738880</td>\n",
       "    </tr>\n",
       "    <tr>\n",
       "      <th>1</th>\n",
       "      <td>0.004663</td>\n",
       "      <td>0.000145</td>\n",
       "      <td>0.006733</td>\n",
       "      <td>-0.006220</td>\n",
       "      <td>-0.004449</td>\n",
       "      <td>0.000029</td>\n",
       "      <td>0.031318</td>\n",
       "      <td>0.130266</td>\n",
       "      <td>0.012120</td>\n",
       "      <td>0.030934</td>\n",
       "      <td>0.011972</td>\n",
       "    </tr>\n",
       "    <tr>\n",
       "      <th>2</th>\n",
       "      <td>0.013627</td>\n",
       "      <td>0.000367</td>\n",
       "      <td>0.036876</td>\n",
       "      <td>0.030514</td>\n",
       "      <td>-0.034970</td>\n",
       "      <td>0.001492</td>\n",
       "      <td>0.246931</td>\n",
       "      <td>0.109021</td>\n",
       "      <td>0.086377</td>\n",
       "      <td>0.244082</td>\n",
       "      <td>0.085380</td>\n",
       "    </tr>\n",
       "    <tr>\n",
       "      <th>3</th>\n",
       "      <td>-0.083152</td>\n",
       "      <td>-0.074411</td>\n",
       "      <td>0.009704</td>\n",
       "      <td>0.053783</td>\n",
       "      <td>0.105122</td>\n",
       "      <td>0.005338</td>\n",
       "      <td>-0.457630</td>\n",
       "      <td>0.113030</td>\n",
       "      <td>-0.163364</td>\n",
       "      <td>-0.453173</td>\n",
       "      <td>-0.161773</td>\n",
       "    </tr>\n",
       "    <tr>\n",
       "      <th>4</th>\n",
       "      <td>0.029382</td>\n",
       "      <td>0.000917</td>\n",
       "      <td>0.042425</td>\n",
       "      <td>-0.039198</td>\n",
       "      <td>-0.028036</td>\n",
       "      <td>0.001166</td>\n",
       "      <td>0.197257</td>\n",
       "      <td>0.130266</td>\n",
       "      <td>0.076340</td>\n",
       "      <td>0.194929</td>\n",
       "      <td>0.075439</td>\n",
       "    </tr>\n",
       "  </tbody>\n",
       "</table>\n",
       "</div>"
      ],
      "text/plain": [
       "   dfb_Intercept  dfb_C(E)[T.2]  dfb_C(E)[T.3]  dfb_C(M)[T.1]     dfb_X   cooks_d  standard_resid  \\\n",
       "0      -0.505123       0.376134       0.483977      -0.369677  0.399111  0.104186       -1.683099   \n",
       "1       0.004663       0.000145       0.006733      -0.006220 -0.004449  0.000029        0.031318   \n",
       "2       0.013627       0.000367       0.036876       0.030514 -0.034970  0.001492        0.246931   \n",
       "3      -0.083152      -0.074411       0.009704       0.053783  0.105122  0.005338       -0.457630   \n",
       "4       0.029382       0.000917       0.042425      -0.039198 -0.028036  0.001166        0.197257   \n",
       "\n",
       "   hat_diag  dffits_internal  student_resid    dffits  \n",
       "0  0.155327        -0.721753      -1.723037 -0.738880  \n",
       "1  0.130266         0.012120       0.030934  0.011972  \n",
       "2  0.109021         0.086377       0.244082  0.085380  \n",
       "3  0.113030        -0.163364      -0.453173 -0.161773  \n",
       "4  0.130266         0.076340       0.194929  0.075439  "
      ]
     },
     "execution_count": 1,
     "metadata": {},
     "output_type": "execute_result"
    }
   ],
   "source": [
    "df_infl[:5]"
   ]
  },
  {
   "cell_type": "markdown",
   "metadata": {},
   "source": [
    "Now plot the residuals within the groups separately:"
   ]
  },
  {
   "cell_type": "code",
   "execution_count": 11,
   "metadata": {
    "execution": {
     "iopub.execute_input": "2021-02-02T06:51:53.211311Z",
     "iopub.status.busy": "2021-02-02T06:51:53.209866Z",
     "iopub.status.idle": "2021-02-02T06:51:53.487055Z",
     "shell.execute_reply": "2021-02-02T06:51:53.488091Z"
    }
   },
   "outputs": [
    {
     "data": {
      "text/plain": [
       "Text(0, 0.5, 'Residuals')"
      ]
     },
     "execution_count": 1,
     "metadata": {},
     "output_type": "execute_result"
    },
    {
     "data": {
      "image/png": "[encoded data removed]",
      "text/plain": [
       "<Figure size 432x432 with 1 Axes>"
      ]
     },
     "metadata": {
      "needs_background": "light"
     },
     "output_type": "display_data"
    }
   ],
   "source": [
    "resid = lm.resid\n",
    "plt.figure(figsize=(6,6));\n",
    "for values, group in factor_groups:\n",
    "    i,j = values\n",
    "    group_num = i*2 + j - 1  # for plotting purposes\n",
    "    x = [group_num] * len(group)\n",
    "    plt.scatter(x, resid[group.index], marker=symbols[j], color=colors[i-1],\n",
    "            s=144, edgecolors='black')\n",
    "plt.xlabel('Group');\n",
    "plt.ylabel('Residuals');"
   ]
  },
  {
   "cell_type": "markdown",
   "metadata": {},
   "source": [
    "Now we will test some interactions using anova or f_test"
   ]
  },
  {
   "cell_type": "code",
   "execution_count": 12,
   "metadata": {
    "execution": {
     "iopub.execute_input": "2021-02-02T06:51:53.493661Z",
     "iopub.status.busy": "2021-02-02T06:51:53.492034Z",
     "iopub.status.idle": "2021-02-02T06:51:53.593820Z",
     "shell.execute_reply": "2021-02-02T06:51:53.594863Z"
    }
   },
   "outputs": [
    {
     "name": "stdout",
     "output_type": "stream",
     "text": [
      "                            OLS Regression Results                            \n",
      "==============================================================================\n",
      "Dep. Variable:                      S   R-squared:                       0.961\n",
      "Model:                            OLS   Adj. R-squared:                  0.955\n",
      "Method:                 Least Squares   F-statistic:                     158.6\n",
      "Date:                Tue, 02 Feb 2021   Prob (F-statistic):           8.23e-26\n",
      "Time:                        06:51:53   Log-Likelihood:                -379.47\n",
      "No. Observations:                  46   AIC:                             772.9\n",
      "Df Residuals:                      39   BIC:                             785.7\n",
      "Df Model:                           6                                         \n",
      "Covariance Type:            nonrobust                                         \n",
      "===============================================================================\n",
      "                  coef    std err          t      P>|t|      [0.025      0.975]\n",
      "-------------------------------------------------------------------------------\n",
      "Intercept    7256.2800    549.494     13.205      0.000    6144.824    8367.736\n",
      "C(E)[T.2]    4172.5045    674.966      6.182      0.000    2807.256    5537.753\n",
      "C(E)[T.3]    3946.3649    686.693      5.747      0.000    2557.396    5335.333\n",
      "C(M)[T.1]    7102.4539    333.442     21.300      0.000    6428.005    7776.903\n",
      "X             632.2878     53.185     11.888      0.000     524.710     739.865\n",
      "C(E)[T.2]:X  -125.5147     69.863     -1.797      0.080    -266.826      15.796\n",
      "C(E)[T.3]:X  -141.2741     89.281     -1.582      0.122    -321.861      39.313\n",
      "==============================================================================\n",
      "Omnibus:                        0.432   Durbin-Watson:                   2.179\n",
      "Prob(Omnibus):                  0.806   Jarque-Bera (JB):                0.590\n",
      "Skew:                           0.144   Prob(JB):                        0.744\n",
      "Kurtosis:                       2.526   Cond. No.                         69.7\n",
      "==============================================================================\n",
      "\n",
      "Notes:\n",
      "[1] Standard Errors assume that the covariance matrix of the errors is correctly specified.\n"
     ]
    }
   ],
   "source": [
    "interX_lm = ols(\"S ~ C(E) * X + C(M)\", salary_table).fit()\n",
    "print(interX_lm.summary())"
   ]
  },
  {
   "cell_type": "markdown",
   "metadata": {},
   "source": [
    "Do an ANOVA check"
   ]
  },
  {
   "cell_type": "code",
   "execution_count": 13,
   "metadata": {
    "execution": {
     "iopub.execute_input": "2021-02-02T06:51:53.600415Z",
     "iopub.status.busy": "2021-02-02T06:51:53.598710Z",
     "iopub.status.idle": "2021-02-02T06:51:53.671144Z",
     "shell.execute_reply": "2021-02-02T06:51:53.672411Z"
    }
   },
   "outputs": [
    {
     "name": "stdout",
     "output_type": "stream",
     "text": [
      "   df_resid           ssr  df_diff       ss_diff         F    Pr(>F)\n",
      "0      41.0  4.328072e+07      0.0           NaN       NaN       NaN\n",
      "1      39.0  3.941068e+07      2.0  3.870040e+06  1.914856  0.160964\n",
      "                            OLS Regression Results                            \n",
      "==============================================================================\n",
      "Dep. Variable:                      S   R-squared:                       0.999\n",
      "Model:                            OLS   Adj. R-squared:                  0.999\n",
      "Method:                 Least Squares   F-statistic:                     5517.\n",
      "Date:                Tue, 02 Feb 2021   Prob (F-statistic):           1.67e-55\n",
      "Time:                        06:51:53   Log-Likelihood:                -298.74\n",
      "No. Observations:                  46   AIC:                             611.5\n",
      "Df Residuals:                      39   BIC:                             624.3\n",
      "Df Model:                           6                                         \n",
      "Covariance Type:            nonrobust                                         \n",
      "=======================================================================================\n",
      "                          coef    std err          t      P>|t|      [0.025      0.975]\n",
      "---------------------------------------------------------------------------------------\n",
      "Intercept            9472.6854     80.344    117.902      0.000    9310.175    9635.196\n",
      "C(E)[T.2]            1381.6706     77.319     17.870      0.000    1225.279    1538.063\n",
      "C(E)[T.3]            1730.7483    105.334     16.431      0.000    1517.690    1943.806\n",
      "C(M)[T.1]            3981.3769    101.175     39.351      0.000    3776.732    4186.022\n",
      "C(E)[T.2]:C(M)[T.1]  4902.5231    131.359     37.322      0.000    4636.825    5168.222\n",
      "C(E)[T.3]:C(M)[T.1]  3066.0351    149.330     20.532      0.000    2763.986    3368.084\n",
      "X                     496.9870      5.566     89.283      0.000     485.728     508.246\n",
      "==============================================================================\n",
      "Omnibus:                       74.761   Durbin-Watson:                   2.244\n",
      "Prob(Omnibus):                  0.000   Jarque-Bera (JB):             1037.873\n",
      "Skew:                          -4.103   Prob(JB):                    4.25e-226\n",
      "Kurtosis:                      24.776   Cond. No.                         79.0\n",
      "==============================================================================\n",
      "\n",
      "Notes:\n",
      "[1] Standard Errors assume that the covariance matrix of the errors is correctly specified.\n",
      "   df_resid           ssr  df_diff       ss_diff           F        Pr(>F)\n",
      "0      41.0  4.328072e+07      0.0           NaN         NaN           NaN\n",
      "1      39.0  1.178168e+06      2.0  4.210255e+07  696.844466  3.025504e-31\n"
     ]
    }
   ],
   "source": [
    "from statsmodels.stats.api import anova_lm\n",
    "\n",
    "table1 = anova_lm(lm, interX_lm)\n",
    "print(table1)\n",
    "\n",
    "interM_lm = ols(\"S ~ X + C(E)*C(M)\", data=salary_table).fit()\n",
    "print(interM_lm.summary())\n",
    "\n",
    "table2 = anova_lm(lm, interM_lm)\n",
    "print(table2)"
   ]
  },
  {
   "cell_type": "markdown",
   "metadata": {},
   "source": [
    "The design matrix as a DataFrame"
   ]
  },
  {
   "cell_type": "code",
   "execution_count": 14,
   "metadata": {
    "execution": {
     "iopub.execute_input": "2021-02-02T06:51:53.677743Z",
     "iopub.status.busy": "2021-02-02T06:51:53.676139Z",
     "iopub.status.idle": "2021-02-02T06:51:53.701212Z",
     "shell.execute_reply": "2021-02-02T06:51:53.702439Z"
    }
   },
   "outputs": [
    {
     "data": {
      "text/html": [
       "<div>\n",
       "<style scoped>\n",
       "    .dataframe tbody tr th:only-of-type {\n",
       "        vertical-align: middle;\n",
       "    }\n",
       "\n",
       "    .dataframe tbody tr th {\n",
       "        vertical-align: top;\n",
       "    }\n",
       "\n",
       "    .dataframe thead th {\n",
       "        text-align: right;\n",
       "    }\n",
       "</style>\n",
       "<table border=\"1\" class=\"dataframe\">\n",
       "  <thead>\n",
       "    <tr style=\"text-align: right;\">\n",
       "      <th></th>\n",
       "      <th>Intercept</th>\n",
       "      <th>C(E)[T.2]</th>\n",
       "      <th>C(E)[T.3]</th>\n",
       "      <th>C(M)[T.1]</th>\n",
       "      <th>C(E)[T.2]:C(M)[T.1]</th>\n",
       "      <th>C(E)[T.3]:C(M)[T.1]</th>\n",
       "      <th>X</th>\n",
       "    </tr>\n",
       "  </thead>\n",
       "  <tbody>\n",
       "    <tr>\n",
       "      <th>0</th>\n",
       "      <td>1.0</td>\n",
       "      <td>0.0</td>\n",
       "      <td>0.0</td>\n",
       "      <td>1.0</td>\n",
       "      <td>0.0</td>\n",
       "      <td>0.0</td>\n",
       "      <td>1.0</td>\n",
       "    </tr>\n",
       "    <tr>\n",
       "      <th>1</th>\n",
       "      <td>1.0</td>\n",
       "      <td>0.0</td>\n",
       "      <td>1.0</td>\n",
       "      <td>0.0</td>\n",
       "      <td>0.0</td>\n",
       "      <td>0.0</td>\n",
       "      <td>1.0</td>\n",
       "    </tr>\n",
       "    <tr>\n",
       "      <th>2</th>\n",
       "      <td>1.0</td>\n",
       "      <td>0.0</td>\n",
       "      <td>1.0</td>\n",
       "      <td>1.0</td>\n",
       "      <td>0.0</td>\n",
       "      <td>1.0</td>\n",
       "      <td>1.0</td>\n",
       "    </tr>\n",
       "    <tr>\n",
       "      <th>3</th>\n",
       "      <td>1.0</td>\n",
       "      <td>1.0</td>\n",
       "      <td>0.0</td>\n",
       "      <td>0.0</td>\n",
       "      <td>0.0</td>\n",
       "      <td>0.0</td>\n",
       "      <td>1.0</td>\n",
       "    </tr>\n",
       "    <tr>\n",
       "      <th>4</th>\n",
       "      <td>1.0</td>\n",
       "      <td>0.0</td>\n",
       "      <td>1.0</td>\n",
       "      <td>0.0</td>\n",
       "      <td>0.0</td>\n",
       "      <td>0.0</td>\n",
       "      <td>1.0</td>\n",
       "    </tr>\n",
       "  </tbody>\n",
       "</table>\n",
       "</div>"
      ],
      "text/plain": [
       "   Intercept  C(E)[T.2]  C(E)[T.3]  C(M)[T.1]  C(E)[T.2]:C(M)[T.1]  C(E)[T.3]:C(M)[T.1]    X\n",
       "0        1.0        0.0        0.0        1.0                  0.0                  0.0  1.0\n",
       "1        1.0        0.0        1.0        0.0                  0.0                  0.0  1.0\n",
       "2        1.0        0.0        1.0        1.0                  0.0                  1.0  1.0\n",
       "3        1.0        1.0        0.0        0.0                  0.0                  0.0  1.0\n",
       "4        1.0        0.0        1.0        0.0                  0.0                  0.0  1.0"
      ]
     },
     "execution_count": 1,
     "metadata": {},
     "output_type": "execute_result"
    }
   ],
   "source": [
    "interM_lm.model.data.orig_exog[:5]"
   ]
  },
  {
   "cell_type": "markdown",
   "metadata": {},
   "source": [
    "The design matrix as an ndarray"
   ]
  },
  {
   "cell_type": "code",
   "execution_count": 15,
   "metadata": {
    "execution": {
     "iopub.execute_input": "2021-02-02T06:51:53.707294Z",
     "iopub.status.busy": "2021-02-02T06:51:53.705717Z",
     "iopub.status.idle": "2021-02-02T06:51:53.715088Z",
     "shell.execute_reply": "2021-02-02T06:51:53.716309Z"
    }
   },
   "outputs": [
    {
     "data": {
      "text/plain": [
       "['Intercept',\n",
       " 'C(E)[T.2]',\n",
       " 'C(E)[T.3]',\n",
       " 'C(M)[T.1]',\n",
       " 'C(E)[T.2]:C(M)[T.1]',\n",
       " 'C(E)[T.3]:C(M)[T.1]',\n",
       " 'X']"
      ]
     },
     "execution_count": 1,
     "metadata": {},
     "output_type": "execute_result"
    }
   ],
   "source": [
    "interM_lm.model.exog\n",
    "interM_lm.model.exog_names"
   ]
  },
  {
   "cell_type": "code",
   "execution_count": 16,
   "metadata": {
    "execution": {
     "iopub.execute_input": "2021-02-02T06:51:53.721101Z",
     "iopub.status.busy": "2021-02-02T06:51:53.719676Z",
     "iopub.status.idle": "2021-02-02T06:51:54.007018Z",
     "shell.execute_reply": "2021-02-02T06:51:54.008283Z"
    }
   },
   "outputs": [
    {
     "data": {
      "text/plain": [
       "Text(0, 0.5, 'standardized resids')"
      ]
     },
     "execution_count": 1,
     "metadata": {},
     "output_type": "execute_result"
    },
    {
     "data": {
      "image/png": "[encoded data removed]",
      "text/plain": [
       "<Figure size 432x432 with 1 Axes>"
      ]
     },
     "metadata": {
      "needs_background": "light"
     },
     "output_type": "display_data"
    }
   ],
   "source": [
    "infl = interM_lm.get_influence()\n",
    "resid = infl.resid_studentized_internal\n",
    "plt.figure(figsize=(6,6))\n",
    "for values, group in factor_groups:\n",
    "    i,j = values\n",
    "    idx = group.index\n",
    "    plt.scatter(X[idx], resid[idx], marker=symbols[j], color=colors[i-1],\n",
    "            s=144, edgecolors='black')\n",
    "plt.xlabel('X');\n",
    "plt.ylabel('standardized resids');"
   ]
  },
  {
   "cell_type": "markdown",
   "metadata": {},
   "source": [
    "Looks like one observation is an outlier."
   ]
  },
  {
   "cell_type": "code",
   "execution_count": 17,
   "metadata": {
    "execution": {
     "iopub.execute_input": "2021-02-02T06:51:54.013434Z",
     "iopub.status.busy": "2021-02-02T06:51:54.012051Z",
     "iopub.status.idle": "2021-02-02T06:51:54.107539Z",
     "shell.execute_reply": "2021-02-02T06:51:54.108736Z"
    }
   },
   "outputs": [
    {
     "name": "stdout",
     "output_type": "stream",
     "text": [
      "32\n",
      "                            OLS Regression Results                            \n",
      "==============================================================================\n",
      "Dep. Variable:                      S   R-squared:                       0.955\n",
      "Model:                            OLS   Adj. R-squared:                  0.950\n",
      "Method:                 Least Squares   F-statistic:                     211.7\n",
      "Date:                Tue, 02 Feb 2021   Prob (F-statistic):           2.45e-26\n",
      "Time:                        06:51:54   Log-Likelihood:                -373.79\n",
      "No. Observations:                  45   AIC:                             757.6\n",
      "Df Residuals:                      40   BIC:                             766.6\n",
      "Df Model:                           4                                         \n",
      "Covariance Type:            nonrobust                                         \n",
      "==============================================================================\n",
      "                 coef    std err          t      P>|t|      [0.025      0.975]\n",
      "------------------------------------------------------------------------------\n",
      "Intercept   8044.7518    392.781     20.482      0.000    7250.911    8838.592\n",
      "C(E)[T.2]   3129.5286    370.470      8.447      0.000    2380.780    3878.277\n",
      "C(E)[T.3]   2999.4451    416.712      7.198      0.000    2157.238    3841.652\n",
      "C(M)[T.1]   6866.9856    323.991     21.195      0.000    6212.175    7521.796\n",
      "X            545.7855     30.912     17.656      0.000     483.311     608.260\n",
      "==============================================================================\n",
      "Omnibus:                        2.511   Durbin-Watson:                   2.265\n",
      "Prob(Omnibus):                  0.285   Jarque-Bera (JB):                1.400\n",
      "Skew:                          -0.044   Prob(JB):                        0.496\n",
      "Kurtosis:                       2.140   Cond. No.                         33.1\n",
      "==============================================================================\n",
      "\n",
      "Notes:\n",
      "[1] Standard Errors assume that the covariance matrix of the errors is correctly specified.\n",
      "\n",
      "\n",
      "                            OLS Regression Results                            \n",
      "==============================================================================\n",
      "Dep. Variable:                      S   R-squared:                       0.959\n",
      "Model:                            OLS   Adj. R-squared:                  0.952\n",
      "Method:                 Least Squares   F-statistic:                     147.7\n",
      "Date:                Tue, 02 Feb 2021   Prob (F-statistic):           8.97e-25\n",
      "Time:                        06:51:54   Log-Likelihood:                -371.70\n",
      "No. Observations:                  45   AIC:                             757.4\n",
      "Df Residuals:                      38   BIC:                             770.0\n",
      "Df Model:                           6                                         \n",
      "Covariance Type:            nonrobust                                         \n",
      "===============================================================================\n",
      "                  coef    std err          t      P>|t|      [0.025      0.975]\n",
      "-------------------------------------------------------------------------------\n",
      "Intercept    7266.0887    558.872     13.001      0.000    6134.711    8397.466\n",
      "C(E)[T.2]    4162.0846    685.728      6.070      0.000    2773.900    5550.269\n",
      "C(E)[T.3]    3940.4359    696.067      5.661      0.000    2531.322    5349.549\n",
      "C(M)[T.1]    7088.6387    345.587     20.512      0.000    6389.035    7788.243\n",
      "X             631.6892     53.950     11.709      0.000     522.473     740.905\n",
      "C(E)[T.2]:X  -125.5009     70.744     -1.774      0.084    -268.714      17.712\n",
      "C(E)[T.3]:X  -139.8410     90.728     -1.541      0.132    -323.511      43.829\n",
      "==============================================================================\n",
      "Omnibus:                        0.617   Durbin-Watson:                   2.194\n",
      "Prob(Omnibus):                  0.734   Jarque-Bera (JB):                0.728\n",
      "Skew:                           0.162   Prob(JB):                        0.695\n",
      "Kurtosis:                       2.468   Cond. No.                         68.7\n",
      "==============================================================================\n",
      "\n",
      "Notes:\n",
      "[1] Standard Errors assume that the covariance matrix of the errors is correctly specified.\n",
      "\n",
      "\n",
      "   df_resid           ssr  df_diff       ss_diff         F    Pr(>F)\n",
      "0      40.0  4.320910e+07      0.0           NaN       NaN       NaN\n",
      "1      38.0  3.937424e+07      2.0  3.834859e+06  1.850508  0.171042\n",
      "\n",
      "\n",
      "   df_resid           ssr  df_diff       ss_diff            F        Pr(>F)\n",
      "0      40.0  4.320910e+07      0.0           NaN          NaN           NaN\n",
      "1      38.0  1.711881e+05      2.0  4.303791e+07  4776.734853  2.291239e-46\n",
      "\n",
      "\n"
     ]
    }
   ],
   "source": [
    "drop_idx = abs(resid).argmax()\n",
    "print(drop_idx)  # zero-based index\n",
    "idx = salary_table.index.drop(drop_idx)\n",
    "\n",
    "lm32 = ols('S ~ C(E) + X + C(M)', data=salary_table, subset=idx).fit()\n",
    "\n",
    "print(lm32.summary())\n",
    "print('\\n')\n",
    "\n",
    "interX_lm32 = ols('S ~ C(E) * X + C(M)', data=salary_table, subset=idx).fit()\n",
    "\n",
    "print(interX_lm32.summary())\n",
    "print('\\n')\n",
    "\n",
    "\n",
    "table3 = anova_lm(lm32, interX_lm32)\n",
    "print(table3)\n",
    "print('\\n')\n",
    "\n",
    "\n",
    "interM_lm32 = ols('S ~ X + C(E) * C(M)', data=salary_table, subset=idx).fit()\n",
    "\n",
    "table4 = anova_lm(lm32, interM_lm32)\n",
    "print(table4)\n",
    "print('\\n')"
   ]
  },
  {
   "cell_type": "markdown",
   "metadata": {},
   "source": [
    " Replot the residuals"
   ]
  },
  {
   "cell_type": "code",
   "execution_count": 18,
   "metadata": {
    "execution": {
     "iopub.execute_input": "2021-02-02T06:51:54.113779Z",
     "iopub.status.busy": "2021-02-02T06:51:54.112285Z",
     "iopub.status.idle": "2021-02-02T06:51:54.422729Z",
     "shell.execute_reply": "2021-02-02T06:51:54.423847Z"
    }
   },
   "outputs": [
    {
     "data": {
      "text/plain": [
       "Text(0, 0.5, 'standardized resids')"
      ]
     },
     "execution_count": 1,
     "metadata": {},
     "output_type": "execute_result"
    },
    {
     "data": {
      "image/png": "[encoded data removed]",
      "text/plain": [
       "<Figure size 432x432 with 1 Axes>"
      ]
     },
     "metadata": {
      "needs_background": "light"
     },
     "output_type": "display_data"
    }
   ],
   "source": [
    "resid = interM_lm32.get_influence().summary_frame()['standard_resid']\n",
    "\n",
    "plt.figure(figsize=(6,6))\n",
    "resid = resid.reindex(X.index)\n",
    "for values, group in factor_groups:\n",
    "    i,j = values\n",
    "    idx = group.index\n",
    "    plt.scatter(X.loc[idx], resid.loc[idx], marker=symbols[j], color=colors[i-1],\n",
    "            s=144, edgecolors='black')\n",
    "plt.xlabel('X[~[32]]');\n",
    "plt.ylabel('standardized resids');"
   ]
  },
  {
   "cell_type": "markdown",
   "metadata": {},
   "source": [
    " Plot the fitted values"
   ]
  },
  {
   "cell_type": "code",
   "execution_count": 19,
   "metadata": {
    "execution": {
     "iopub.execute_input": "2021-02-02T06:51:54.428888Z",
     "iopub.status.busy": "2021-02-02T06:51:54.427426Z",
     "iopub.status.idle": "2021-02-02T06:51:54.740526Z",
     "shell.execute_reply": "2021-02-02T06:51:54.741690Z"
    }
   },
   "outputs": [
    {
     "data": {
      "text/plain": [
       "Text(0, 0.5, 'Salary')"
      ]
     },
     "execution_count": 1,
     "metadata": {},
     "output_type": "execute_result"
    },
    {
     "data": {
      "image/png": "[encoded data removed]",
      "text/plain": [
       "<Figure size 432x432 with 1 Axes>"
      ]
     },
     "metadata": {
      "needs_background": "light"
     },
     "output_type": "display_data"
    }
   ],
   "source": [
    "lm_final = ols('S ~ X + C(E)*C(M)', data = salary_table.drop([drop_idx])).fit()\n",
    "mf = lm_final.model.data.orig_exog\n",
    "lstyle = ['-','--']\n",
    "\n",
    "plt.figure(figsize=(6,6))\n",
    "for values, group in factor_groups:\n",
    "    i,j = values\n",
    "    idx = group.index\n",
    "    plt.scatter(X[idx], S[idx], marker=symbols[j], color=colors[i-1],\n",
    "                s=144, edgecolors='black')\n",
    "    # drop NA because there is no idx 32 in the final model\n",
    "    fv = lm_final.fittedvalues.reindex(idx).dropna()\n",
    "    x = mf.X.reindex(idx).dropna()\n",
    "    plt.plot(x, fv, ls=lstyle[j], color=colors[i-1])\n",
    "plt.xlabel('Experience');\n",
    "plt.ylabel('Salary');"
   ]
  },
  {
   "cell_type": "markdown",
   "metadata": {},
   "source": [
    "From our first look at the data, the difference between Master's and PhD in the management group is different than in the non-management group. This is an interaction between the two qualitative variables management,M and education,E. We can visualize this by first removing the effect of experience, then plotting the means within each of the 6 groups using interaction.plot."
   ]
  },
  {
   "cell_type": "code",
   "execution_count": 20,
   "metadata": {
    "execution": {
     "iopub.execute_input": "2021-02-02T06:51:54.746797Z",
     "iopub.status.busy": "2021-02-02T06:51:54.745359Z",
     "iopub.status.idle": "2021-02-02T06:51:55.187636Z",
     "shell.execute_reply": "2021-02-02T06:51:55.188807Z"
    }
   },
   "outputs": [
    {
     "data": {
      "image/png": "[encoded data removed]",
      "text/plain": [
       "<Figure size 432x432 with 1 Axes>"
      ]
     },
     "execution_count": 1,
     "metadata": {},
     "output_type": "execute_result"
    },
    {
     "data": {
      "image/png": "[encoded data removed]",
      "text/plain": [
       "<Figure size 432x432 with 1 Axes>"
      ]
     },
     "metadata": {
      "needs_background": "light"
     },
     "output_type": "display_data"
    }
   ],
   "source": [
    "U = S - X * interX_lm32.params['X']\n",
    "\n",
    "plt.figure(figsize=(6,6))\n",
    "interaction_plot(E, M, U, colors=['red','blue'], markers=['^','D'],\n",
    "        markersize=10, ax=plt.gca())"
   ]
  },
  {
   "cell_type": "markdown",
   "metadata": {},
   "source": [
    "## Minority Employment Data"
   ]
  },
  {
   "cell_type": "code",
   "execution_count": 21,
   "metadata": {
    "execution": {
     "iopub.execute_input": "2021-02-02T06:51:55.194082Z",
     "iopub.status.busy": "2021-02-02T06:51:55.192469Z",
     "iopub.status.idle": "2021-02-02T06:51:55.959963Z",
     "shell.execute_reply": "2021-02-02T06:51:55.961090Z"
    }
   },
   "outputs": [
    {
     "data": {
      "text/plain": [
       "Text(0, 0.5, 'JPERF')"
      ]
     },
     "execution_count": 1,
     "metadata": {},
     "output_type": "execute_result"
    },
    {
     "data": {
      "image/png": "[encoded data removed]",
      "text/plain": [
       "<Figure size 432x432 with 1 Axes>"
      ]
     },
     "metadata": {
      "needs_background": "light"
     },
     "output_type": "display_data"
    }
   ],
   "source": [
    "try:\n",
    "    jobtest_table = pd.read_table('jobtest.table')\n",
    "except:  # do not have data already\n",
    "    url = 'http://stats191.stanford.edu/data/jobtest.table'\n",
    "    jobtest_table = pd.read_table(url)\n",
    "\n",
    "factor_group = jobtest_table.groupby(['MINORITY'])\n",
    "\n",
    "fig, ax = plt.subplots(figsize=(6,6))\n",
    "colors = ['purple', 'green']\n",
    "markers = ['o', 'v']\n",
    "for factor, group in factor_group:\n",
    "    ax.scatter(group['TEST'], group['JPERF'], color=colors[factor],\n",
    "                marker=markers[factor], s=12**2)\n",
    "ax.set_xlabel('TEST');\n",
    "ax.set_ylabel('JPERF');"
   ]
  },
  {
   "cell_type": "code",
   "execution_count": 22,
   "metadata": {
    "execution": {
     "iopub.execute_input": "2021-02-02T06:51:55.966167Z",
     "iopub.status.busy": "2021-02-02T06:51:55.964605Z",
     "iopub.status.idle": "2021-02-02T06:51:55.991029Z",
     "shell.execute_reply": "2021-02-02T06:51:55.992056Z"
    }
   },
   "outputs": [
    {
     "name": "stdout",
     "output_type": "stream",
     "text": [
      "                            OLS Regression Results                            \n",
      "==============================================================================\n",
      "Dep. Variable:                  JPERF   R-squared:                       0.517\n",
      "Model:                            OLS   Adj. R-squared:                  0.490\n",
      "Method:                 Least Squares   F-statistic:                     19.25\n",
      "Date:                Tue, 02 Feb 2021   Prob (F-statistic):           0.000356\n",
      "Time:                        06:51:55   Log-Likelihood:                -36.614\n",
      "No. Observations:                  20   AIC:                             77.23\n",
      "Df Residuals:                      18   BIC:                             79.22\n",
      "Df Model:                           1                                         \n",
      "Covariance Type:            nonrobust                                         \n",
      "==============================================================================\n",
      "                 coef    std err          t      P>|t|      [0.025      0.975]\n",
      "------------------------------------------------------------------------------\n",
      "Intercept      1.0350      0.868      1.192      0.249      -0.789       2.859\n",
      "TEST           2.3605      0.538      4.387      0.000       1.230       3.491\n",
      "==============================================================================\n",
      "Omnibus:                        0.324   Durbin-Watson:                   2.896\n",
      "Prob(Omnibus):                  0.850   Jarque-Bera (JB):                0.483\n",
      "Skew:                          -0.186   Prob(JB):                        0.785\n",
      "Kurtosis:                       2.336   Cond. No.                         5.26\n",
      "==============================================================================\n",
      "\n",
      "Notes:\n",
      "[1] Standard Errors assume that the covariance matrix of the errors is correctly specified.\n"
     ]
    }
   ],
   "source": [
    "min_lm = ols('JPERF ~ TEST', data=jobtest_table).fit()\n",
    "print(min_lm.summary())"
   ]
  },
  {
   "cell_type": "code",
   "execution_count": 23,
   "metadata": {
    "execution": {
     "iopub.execute_input": "2021-02-02T06:51:55.996682Z",
     "iopub.status.busy": "2021-02-02T06:51:55.995025Z",
     "iopub.status.idle": "2021-02-02T06:51:56.219956Z",
     "shell.execute_reply": "2021-02-02T06:51:56.221094Z"
    }
   },
   "outputs": [
    {
     "data": {
      "image/png": "[encoded data removed]",
      "text/plain": [
       "<Figure size 432x432 with 1 Axes>"
      ]
     },
     "metadata": {
      "needs_background": "light"
     },
     "output_type": "display_data"
    }
   ],
   "source": [
    "fig, ax = plt.subplots(figsize=(6,6));\n",
    "for factor, group in factor_group:\n",
    "    ax.scatter(group['TEST'], group['JPERF'], color=colors[factor],\n",
    "                marker=markers[factor], s=12**2)\n",
    "\n",
    "ax.set_xlabel('TEST')\n",
    "ax.set_ylabel('JPERF')\n",
    "fig = abline_plot(model_results = min_lm, ax=ax)"
   ]
  },
  {
   "cell_type": "code",
   "execution_count": 24,
   "metadata": {
    "execution": {
     "iopub.execute_input": "2021-02-02T06:51:56.226204Z",
     "iopub.status.busy": "2021-02-02T06:51:56.224543Z",
     "iopub.status.idle": "2021-02-02T06:51:56.255618Z",
     "shell.execute_reply": "2021-02-02T06:51:56.256620Z"
    }
   },
   "outputs": [
    {
     "name": "stdout",
     "output_type": "stream",
     "text": [
      "                            OLS Regression Results                            \n",
      "==============================================================================\n",
      "Dep. Variable:                  JPERF   R-squared:                       0.632\n",
      "Model:                            OLS   Adj. R-squared:                  0.589\n",
      "Method:                 Least Squares   F-statistic:                     14.59\n",
      "Date:                Tue, 02 Feb 2021   Prob (F-statistic):           0.000204\n",
      "Time:                        06:51:56   Log-Likelihood:                -33.891\n",
      "No. Observations:                  20   AIC:                             73.78\n",
      "Df Residuals:                      17   BIC:                             76.77\n",
      "Df Model:                           2                                         \n",
      "Covariance Type:            nonrobust                                         \n",
      "=================================================================================\n",
      "                    coef    std err          t      P>|t|      [0.025      0.975]\n",
      "---------------------------------------------------------------------------------\n",
      "Intercept         1.1211      0.780      1.437      0.169      -0.525       2.768\n",
      "TEST              1.8276      0.536      3.412      0.003       0.698       2.958\n",
      "TEST:MINORITY     0.9161      0.397      2.306      0.034       0.078       1.754\n",
      "==============================================================================\n",
      "Omnibus:                        0.388   Durbin-Watson:                   3.008\n",
      "Prob(Omnibus):                  0.823   Jarque-Bera (JB):                0.514\n",
      "Skew:                           0.050   Prob(JB):                        0.773\n",
      "Kurtosis:                       2.221   Cond. No.                         5.96\n",
      "==============================================================================\n",
      "\n",
      "Notes:\n",
      "[1] Standard Errors assume that the covariance matrix of the errors is correctly specified.\n"
     ]
    }
   ],
   "source": [
    "min_lm2 = ols('JPERF ~ TEST + TEST:MINORITY',\n",
    "        data=jobtest_table).fit()\n",
    "\n",
    "print(min_lm2.summary())"
   ]
  },
  {
   "cell_type": "code",
   "execution_count": 25,
   "metadata": {
    "execution": {
     "iopub.execute_input": "2021-02-02T06:51:56.261930Z",
     "iopub.status.busy": "2021-02-02T06:51:56.260243Z",
     "iopub.status.idle": "2021-02-02T06:51:56.515612Z",
     "shell.execute_reply": "2021-02-02T06:51:56.516777Z"
    }
   },
   "outputs": [
    {
     "data": {
      "image/png": "[encoded data removed]",
      "text/plain": [
       "<Figure size 432x432 with 1 Axes>"
      ]
     },
     "metadata": {
      "needs_background": "light"
     },
     "output_type": "display_data"
    }
   ],
   "source": [
    "fig, ax = plt.subplots(figsize=(6,6));\n",
    "for factor, group in factor_group:\n",
    "    ax.scatter(group['TEST'], group['JPERF'], color=colors[factor],\n",
    "                marker=markers[factor], s=12**2)\n",
    "\n",
    "fig = abline_plot(intercept = min_lm2.params['Intercept'],\n",
    "                 slope = min_lm2.params['TEST'], ax=ax, color='purple');\n",
    "fig = abline_plot(intercept = min_lm2.params['Intercept'],\n",
    "        slope = min_lm2.params['TEST'] + min_lm2.params['TEST:MINORITY'],\n",
    "        ax=ax, color='green');"
   ]
  },
  {
   "cell_type": "code",
   "execution_count": 26,
   "metadata": {
    "execution": {
     "iopub.execute_input": "2021-02-02T06:51:56.521831Z",
     "iopub.status.busy": "2021-02-02T06:51:56.520247Z",
     "iopub.status.idle": "2021-02-02T06:51:56.548480Z",
     "shell.execute_reply": "2021-02-02T06:51:56.549536Z"
    }
   },
   "outputs": [
    {
     "name": "stdout",
     "output_type": "stream",
     "text": [
      "                            OLS Regression Results                            \n",
      "==============================================================================\n",
      "Dep. Variable:                  JPERF   R-squared:                       0.572\n",
      "Model:                            OLS   Adj. R-squared:                  0.522\n",
      "Method:                 Least Squares   F-statistic:                     11.38\n",
      "Date:                Tue, 02 Feb 2021   Prob (F-statistic):           0.000731\n",
      "Time:                        06:51:56   Log-Likelihood:                -35.390\n",
      "No. Observations:                  20   AIC:                             76.78\n",
      "Df Residuals:                      17   BIC:                             79.77\n",
      "Df Model:                           2                                         \n",
      "Covariance Type:            nonrobust                                         \n",
      "==============================================================================\n",
      "                 coef    std err          t      P>|t|      [0.025      0.975]\n",
      "------------------------------------------------------------------------------\n",
      "Intercept      0.6120      0.887      0.690      0.500      -1.260       2.483\n",
      "TEST           2.2988      0.522      4.400      0.000       1.197       3.401\n",
      "MINORITY       1.0276      0.691      1.487      0.155      -0.430       2.485\n",
      "==============================================================================\n",
      "Omnibus:                        0.251   Durbin-Watson:                   3.028\n",
      "Prob(Omnibus):                  0.882   Jarque-Bera (JB):                0.437\n",
      "Skew:                          -0.059   Prob(JB):                        0.804\n",
      "Kurtosis:                       2.286   Cond. No.                         5.72\n",
      "==============================================================================\n",
      "\n",
      "Notes:\n",
      "[1] Standard Errors assume that the covariance matrix of the errors is correctly specified.\n"
     ]
    }
   ],
   "source": [
    "min_lm3 = ols('JPERF ~ TEST + MINORITY', data = jobtest_table).fit()\n",
    "print(min_lm3.summary())"
   ]
  },
  {
   "cell_type": "code",
   "execution_count": 27,
   "metadata": {
    "execution": {
     "iopub.execute_input": "2021-02-02T06:51:56.554303Z",
     "iopub.status.busy": "2021-02-02T06:51:56.552838Z",
     "iopub.status.idle": "2021-02-02T06:51:56.805483Z",
     "shell.execute_reply": "2021-02-02T06:51:56.806452Z"
    }
   },
   "outputs": [
    {
     "data": {
      "image/png": "[encoded data removed]",
      "text/plain": [
       "<Figure size 432x432 with 1 Axes>"
      ]
     },
     "metadata": {
      "needs_background": "light"
     },
     "output_type": "display_data"
    }
   ],
   "source": [
    "fig, ax = plt.subplots(figsize=(6,6));\n",
    "for factor, group in factor_group:\n",
    "    ax.scatter(group['TEST'], group['JPERF'], color=colors[factor],\n",
    "                marker=markers[factor], s=12**2)\n",
    "\n",
    "fig = abline_plot(intercept = min_lm3.params['Intercept'],\n",
    "                 slope = min_lm3.params['TEST'], ax=ax, color='purple');\n",
    "fig = abline_plot(intercept = min_lm3.params['Intercept'] + min_lm3.params['MINORITY'],\n",
    "        slope = min_lm3.params['TEST'], ax=ax, color='green');"
   ]
  },
  {
   "cell_type": "code",
   "execution_count": 28,
   "metadata": {
    "execution": {
     "iopub.execute_input": "2021-02-02T06:51:56.811636Z",
     "iopub.status.busy": "2021-02-02T06:51:56.810079Z",
     "iopub.status.idle": "2021-02-02T06:51:56.839801Z",
     "shell.execute_reply": "2021-02-02T06:51:56.840942Z"
    }
   },
   "outputs": [
    {
     "name": "stdout",
     "output_type": "stream",
     "text": [
      "                            OLS Regression Results                            \n",
      "==============================================================================\n",
      "Dep. Variable:                  JPERF   R-squared:                       0.664\n",
      "Model:                            OLS   Adj. R-squared:                  0.601\n",
      "Method:                 Least Squares   F-statistic:                     10.55\n",
      "Date:                Tue, 02 Feb 2021   Prob (F-statistic):           0.000451\n",
      "Time:                        06:51:56   Log-Likelihood:                -32.971\n",
      "No. Observations:                  20   AIC:                             73.94\n",
      "Df Residuals:                      16   BIC:                             77.92\n",
      "Df Model:                           3                                         \n",
      "Covariance Type:            nonrobust                                         \n",
      "=================================================================================\n",
      "                    coef    std err          t      P>|t|      [0.025      0.975]\n",
      "---------------------------------------------------------------------------------\n",
      "Intercept         2.0103      1.050      1.914      0.074      -0.216       4.236\n",
      "TEST              1.3134      0.670      1.959      0.068      -0.108       2.735\n",
      "MINORITY         -1.9132      1.540     -1.242      0.232      -5.179       1.352\n",
      "TEST:MINORITY     1.9975      0.954      2.093      0.053      -0.026       4.021\n",
      "==============================================================================\n",
      "Omnibus:                        3.377   Durbin-Watson:                   3.015\n",
      "Prob(Omnibus):                  0.185   Jarque-Bera (JB):                1.330\n",
      "Skew:                           0.120   Prob(JB):                        0.514\n",
      "Kurtosis:                       1.760   Cond. No.                         13.8\n",
      "==============================================================================\n",
      "\n",
      "Notes:\n",
      "[1] Standard Errors assume that the covariance matrix of the errors is correctly specified.\n"
     ]
    }
   ],
   "source": [
    "min_lm4 = ols('JPERF ~ TEST * MINORITY', data = jobtest_table).fit()\n",
    "print(min_lm4.summary())"
   ]
  },
  {
   "cell_type": "code",
   "execution_count": 29,
   "metadata": {
    "execution": {
     "iopub.execute_input": "2021-02-02T06:51:56.845520Z",
     "iopub.status.busy": "2021-02-02T06:51:56.844049Z",
     "iopub.status.idle": "2021-02-02T06:51:57.104249Z",
     "shell.execute_reply": "2021-02-02T06:51:57.105289Z"
    }
   },
   "outputs": [
    {
     "data": {
      "image/png": "[encoded data removed]",
      "text/plain": [
       "<Figure size 576x432 with 1 Axes>"
      ]
     },
     "metadata": {
      "needs_background": "light"
     },
     "output_type": "display_data"
    }
   ],
   "source": [
    "fig, ax = plt.subplots(figsize=(8,6));\n",
    "for factor, group in factor_group:\n",
    "    ax.scatter(group['TEST'], group['JPERF'], color=colors[factor],\n",
    "                marker=markers[factor], s=12**2)\n",
    "\n",
    "fig = abline_plot(intercept = min_lm4.params['Intercept'],\n",
    "                 slope = min_lm4.params['TEST'], ax=ax, color='purple');\n",
    "fig = abline_plot(intercept = min_lm4.params['Intercept'] + min_lm4.params['MINORITY'],\n",
    "        slope = min_lm4.params['TEST'] + min_lm4.params['TEST:MINORITY'],\n",
    "        ax=ax, color='green');"
   ]
  },
  {
   "cell_type": "code",
   "execution_count": 30,
   "metadata": {
    "execution": {
     "iopub.execute_input": "2021-02-02T06:51:57.110427Z",
     "iopub.status.busy": "2021-02-02T06:51:57.108833Z",
     "iopub.status.idle": "2021-02-02T06:51:57.127141Z",
     "shell.execute_reply": "2021-02-02T06:51:57.128347Z"
    }
   },
   "outputs": [
    {
     "name": "stdout",
     "output_type": "stream",
     "text": [
      "   df_resid        ssr  df_diff    ss_diff         F    Pr(>F)\n",
      "0      18.0  45.568297      0.0        NaN       NaN       NaN\n",
      "1      16.0  31.655473      2.0  13.912824  3.516061  0.054236\n"
     ]
    }
   ],
   "source": [
    "# is there any effect of MINORITY on slope or intercept?\n",
    "table5 = anova_lm(min_lm, min_lm4)\n",
    "print(table5)"
   ]
  },
  {
   "cell_type": "code",
   "execution_count": 31,
   "metadata": {
    "execution": {
     "iopub.execute_input": "2021-02-02T06:51:57.132887Z",
     "iopub.status.busy": "2021-02-02T06:51:57.131569Z",
     "iopub.status.idle": "2021-02-02T06:51:57.148656Z",
     "shell.execute_reply": "2021-02-02T06:51:57.149654Z"
    }
   },
   "outputs": [
    {
     "name": "stdout",
     "output_type": "stream",
     "text": [
      "   df_resid        ssr  df_diff   ss_diff         F    Pr(>F)\n",
      "0      18.0  45.568297      0.0       NaN       NaN       NaN\n",
      "1      17.0  40.321546      1.0  5.246751  2.212087  0.155246\n"
     ]
    }
   ],
   "source": [
    "# is there any effect of MINORITY on intercept\n",
    "table6 = anova_lm(min_lm, min_lm3)\n",
    "print(table6)"
   ]
  },
  {
   "cell_type": "code",
   "execution_count": 32,
   "metadata": {
    "execution": {
     "iopub.execute_input": "2021-02-02T06:51:57.154290Z",
     "iopub.status.busy": "2021-02-02T06:51:57.152655Z",
     "iopub.status.idle": "2021-02-02T06:51:57.169681Z",
     "shell.execute_reply": "2021-02-02T06:51:57.170659Z"
    }
   },
   "outputs": [
    {
     "name": "stdout",
     "output_type": "stream",
     "text": [
      "   df_resid        ssr  df_diff    ss_diff         F    Pr(>F)\n",
      "0      18.0  45.568297      0.0        NaN       NaN       NaN\n",
      "1      17.0  34.707653      1.0  10.860644  5.319603  0.033949\n"
     ]
    }
   ],
   "source": [
    "# is there any effect of MINORITY on slope\n",
    "table7 = anova_lm(min_lm, min_lm2)\n",
    "print(table7)"
   ]
  },
  {
   "cell_type": "code",
   "execution_count": 33,
   "metadata": {
    "execution": {
     "iopub.execute_input": "2021-02-02T06:51:57.175243Z",
     "iopub.status.busy": "2021-02-02T06:51:57.173785Z",
     "iopub.status.idle": "2021-02-02T06:51:57.190601Z",
     "shell.execute_reply": "2021-02-02T06:51:57.191620Z"
    }
   },
   "outputs": [
    {
     "name": "stdout",
     "output_type": "stream",
     "text": [
      "   df_resid        ssr  df_diff  ss_diff         F    Pr(>F)\n",
      "0      17.0  34.707653      0.0      NaN       NaN       NaN\n",
      "1      16.0  31.655473      1.0  3.05218  1.542699  0.232115\n"
     ]
    }
   ],
   "source": [
    "# is it just the slope or both?\n",
    "table8 = anova_lm(min_lm2, min_lm4)\n",
    "print(table8)"
   ]
  },
  {
   "cell_type": "markdown",
   "metadata": {},
   "source": [
    "## One-way ANOVA"
   ]
  },
  {
   "cell_type": "code",
   "execution_count": 34,
   "metadata": {
    "execution": {
     "iopub.execute_input": "2021-02-02T06:51:57.196484Z",
     "iopub.status.busy": "2021-02-02T06:51:57.195007Z",
     "iopub.status.idle": "2021-02-02T06:51:57.429184Z",
     "shell.execute_reply": "2021-02-02T06:51:57.430217Z"
    }
   },
   "outputs": [
    {
     "data": {
      "image/png": "[encoded data removed]",
      "text/plain": [
       "<Figure size 576x432 with 1 Axes>"
      ]
     },
     "metadata": {
      "needs_background": "light"
     },
     "output_type": "display_data"
    }
   ],
   "source": [
    "try:\n",
    "    rehab_table = pd.read_csv('rehab.table')\n",
    "except:\n",
    "    url = 'http://stats191.stanford.edu/data/rehab.csv'\n",
    "    rehab_table = pd.read_table(url, delimiter=\",\")\n",
    "    rehab_table.to_csv('rehab.table')\n",
    "\n",
    "fig, ax = plt.subplots(figsize=(8,6))\n",
    "fig = rehab_table.boxplot('Time', 'Fitness', ax=ax, grid=False)"
   ]
  },
  {
   "cell_type": "code",
   "execution_count": 35,
   "metadata": {
    "execution": {
     "iopub.execute_input": "2021-02-02T06:51:57.435114Z",
     "iopub.status.busy": "2021-02-02T06:51:57.433503Z",
     "iopub.status.idle": "2021-02-02T06:51:57.468491Z",
     "shell.execute_reply": "2021-02-02T06:51:57.469501Z"
    }
   },
   "outputs": [
    {
     "name": "stdout",
     "output_type": "stream",
     "text": [
      "              df  sum_sq     mean_sq          F    PR(>F)\n",
      "C(Fitness)   2.0   672.0  336.000000  16.961538  0.000041\n",
      "Residual    21.0   416.0   19.809524        NaN       NaN\n",
      "    Intercept  C(Fitness)[T.2]  C(Fitness)[T.3]\n",
      "0         1.0              0.0              0.0\n",
      "1         1.0              0.0              0.0\n",
      "2         1.0              0.0              0.0\n",
      "3         1.0              0.0              0.0\n",
      "4         1.0              0.0              0.0\n",
      "5         1.0              0.0              0.0\n",
      "6         1.0              0.0              0.0\n",
      "7         1.0              0.0              0.0\n",
      "8         1.0              1.0              0.0\n",
      "9         1.0              1.0              0.0\n",
      "10        1.0              1.0              0.0\n",
      "11        1.0              1.0              0.0\n",
      "12        1.0              1.0              0.0\n",
      "13        1.0              1.0              0.0\n",
      "14        1.0              1.0              0.0\n",
      "15        1.0              1.0              0.0\n",
      "16        1.0              1.0              0.0\n",
      "17        1.0              1.0              0.0\n",
      "18        1.0              0.0              1.0\n",
      "19        1.0              0.0              1.0\n",
      "20        1.0              0.0              1.0\n",
      "21        1.0              0.0              1.0\n",
      "22        1.0              0.0              1.0\n",
      "23        1.0              0.0              1.0\n"
     ]
    }
   ],
   "source": [
    "rehab_lm = ols('Time ~ C(Fitness)', data=rehab_table).fit()\n",
    "table9 = anova_lm(rehab_lm)\n",
    "print(table9)\n",
    "\n",
    "print(rehab_lm.model.data.orig_exog)"
   ]
  },
  {
   "cell_type": "code",
   "execution_count": 36,
   "metadata": {
    "execution": {
     "iopub.execute_input": "2021-02-02T06:51:57.474322Z",
     "iopub.status.busy": "2021-02-02T06:51:57.472917Z",
     "iopub.status.idle": "2021-02-02T06:51:57.579637Z",
     "shell.execute_reply": "2021-02-02T06:51:57.580718Z"
    }
   },
   "outputs": [
    {
     "name": "stdout",
     "output_type": "stream",
     "text": [
      "                            OLS Regression Results                            \n",
      "==============================================================================\n",
      "Dep. Variable:                   Time   R-squared:                       0.618\n",
      "Model:                            OLS   Adj. R-squared:                  0.581\n",
      "Method:                 Least Squares   F-statistic:                     16.96\n",
      "Date:                Tue, 02 Feb 2021   Prob (F-statistic):           4.13e-05\n",
      "Time:                        06:51:57   Log-Likelihood:                -68.286\n",
      "No. Observations:                  24   AIC:                             142.6\n",
      "Df Residuals:                      21   BIC:                             146.1\n",
      "Df Model:                           2                                         \n",
      "Covariance Type:            nonrobust                                         \n",
      "===================================================================================\n",
      "                      coef    std err          t      P>|t|      [0.025      0.975]\n",
      "-----------------------------------------------------------------------------------\n",
      "Intercept          38.0000      1.574     24.149      0.000      34.728      41.272\n",
      "C(Fitness)[T.2]    -6.0000      2.111     -2.842      0.010     -10.390      -1.610\n",
      "C(Fitness)[T.3]   -14.0000      2.404     -5.824      0.000     -18.999      -9.001\n",
      "==============================================================================\n",
      "Omnibus:                        0.163   Durbin-Watson:                   2.209\n",
      "Prob(Omnibus):                  0.922   Jarque-Bera (JB):                0.211\n",
      "Skew:                          -0.163   Prob(JB):                        0.900\n",
      "Kurtosis:                       2.675   Cond. No.                         3.80\n",
      "==============================================================================\n",
      "\n",
      "Notes:\n",
      "[1] Standard Errors assume that the covariance matrix of the errors is correctly specified.\n"
     ]
    }
   ],
   "source": [
    "print(rehab_lm.summary())"
   ]
  },
  {
   "cell_type": "markdown",
   "metadata": {},
   "source": [
    "## Two-way ANOVA"
   ]
  },
  {
   "cell_type": "code",
   "execution_count": 37,
   "metadata": {
    "execution": {
     "iopub.execute_input": "2021-02-02T06:51:57.597468Z",
     "iopub.status.busy": "2021-02-02T06:51:57.591824Z",
     "iopub.status.idle": "2021-02-02T06:51:58.121631Z",
     "shell.execute_reply": "2021-02-02T06:51:58.122941Z"
    }
   },
   "outputs": [],
   "source": [
    "try:\n",
    "    kidney_table = pd.read_table('./kidney.table')\n",
    "except:\n",
    "    url = 'http://stats191.stanford.edu/data/kidney.table'\n",
    "    kidney_table = pd.read_csv(url, delim_whitespace=True)"
   ]
  },
  {
   "cell_type": "markdown",
   "metadata": {},
   "source": [
    "Explore the dataset"
   ]
  },
  {
   "cell_type": "code",
   "execution_count": 38,
   "metadata": {
    "execution": {
     "iopub.execute_input": "2021-02-02T06:51:58.128014Z",
     "iopub.status.busy": "2021-02-02T06:51:58.126563Z",
     "iopub.status.idle": "2021-02-02T06:51:58.142757Z",
     "shell.execute_reply": "2021-02-02T06:51:58.143767Z"
    }
   },
   "outputs": [
    {
     "data": {
      "text/html": [
       "<div>\n",
       "<style scoped>\n",
       "    .dataframe tbody tr th:only-of-type {\n",
       "        vertical-align: middle;\n",
       "    }\n",
       "\n",
       "    .dataframe tbody tr th {\n",
       "        vertical-align: top;\n",
       "    }\n",
       "\n",
       "    .dataframe thead th {\n",
       "        text-align: right;\n",
       "    }\n",
       "</style>\n",
       "<table border=\"1\" class=\"dataframe\">\n",
       "  <thead>\n",
       "    <tr style=\"text-align: right;\">\n",
       "      <th></th>\n",
       "      <th>Days</th>\n",
       "      <th>Duration</th>\n",
       "      <th>Weight</th>\n",
       "      <th>ID</th>\n",
       "    </tr>\n",
       "  </thead>\n",
       "  <tbody>\n",
       "    <tr>\n",
       "      <th>0</th>\n",
       "      <td>0.0</td>\n",
       "      <td>1</td>\n",
       "      <td>1</td>\n",
       "      <td>1</td>\n",
       "    </tr>\n",
       "    <tr>\n",
       "      <th>1</th>\n",
       "      <td>2.0</td>\n",
       "      <td>1</td>\n",
       "      <td>1</td>\n",
       "      <td>2</td>\n",
       "    </tr>\n",
       "    <tr>\n",
       "      <th>2</th>\n",
       "      <td>1.0</td>\n",
       "      <td>1</td>\n",
       "      <td>1</td>\n",
       "      <td>3</td>\n",
       "    </tr>\n",
       "    <tr>\n",
       "      <th>3</th>\n",
       "      <td>3.0</td>\n",
       "      <td>1</td>\n",
       "      <td>1</td>\n",
       "      <td>4</td>\n",
       "    </tr>\n",
       "    <tr>\n",
       "      <th>4</th>\n",
       "      <td>0.0</td>\n",
       "      <td>1</td>\n",
       "      <td>1</td>\n",
       "      <td>5</td>\n",
       "    </tr>\n",
       "    <tr>\n",
       "      <th>5</th>\n",
       "      <td>2.0</td>\n",
       "      <td>1</td>\n",
       "      <td>1</td>\n",
       "      <td>6</td>\n",
       "    </tr>\n",
       "    <tr>\n",
       "      <th>6</th>\n",
       "      <td>0.0</td>\n",
       "      <td>1</td>\n",
       "      <td>1</td>\n",
       "      <td>7</td>\n",
       "    </tr>\n",
       "    <tr>\n",
       "      <th>7</th>\n",
       "      <td>5.0</td>\n",
       "      <td>1</td>\n",
       "      <td>1</td>\n",
       "      <td>8</td>\n",
       "    </tr>\n",
       "    <tr>\n",
       "      <th>8</th>\n",
       "      <td>6.0</td>\n",
       "      <td>1</td>\n",
       "      <td>1</td>\n",
       "      <td>9</td>\n",
       "    </tr>\n",
       "    <tr>\n",
       "      <th>9</th>\n",
       "      <td>8.0</td>\n",
       "      <td>1</td>\n",
       "      <td>1</td>\n",
       "      <td>10</td>\n",
       "    </tr>\n",
       "  </tbody>\n",
       "</table>\n",
       "</div>"
      ],
      "text/plain": [
       "   Days  Duration  Weight  ID\n",
       "0   0.0         1       1   1\n",
       "1   2.0         1       1   2\n",
       "2   1.0         1       1   3\n",
       "3   3.0         1       1   4\n",
       "4   0.0         1       1   5\n",
       "5   2.0         1       1   6\n",
       "6   0.0         1       1   7\n",
       "7   5.0         1       1   8\n",
       "8   6.0         1       1   9\n",
       "9   8.0         1       1  10"
      ]
     },
     "execution_count": 1,
     "metadata": {},
     "output_type": "execute_result"
    }
   ],
   "source": [
    "kidney_table.head(10)"
   ]
  },
  {
   "cell_type": "markdown",
   "metadata": {},
   "source": [
    "Balanced panel"
   ]
  },
  {
   "cell_type": "code",
   "execution_count": 39,
   "metadata": {
    "execution": {
     "iopub.execute_input": "2021-02-02T06:51:58.148752Z",
     "iopub.status.busy": "2021-02-02T06:51:58.147145Z",
     "iopub.status.idle": "2021-02-02T06:51:58.434507Z",
     "shell.execute_reply": "2021-02-02T06:51:58.435810Z"
    }
   },
   "outputs": [
    {
     "data": {
      "image/png": "[encoded data removed]",
      "text/plain": [
       "<Figure size 576x432 with 1 Axes>"
      ]
     },
     "metadata": {
      "needs_background": "light"
     },
     "output_type": "display_data"
    }
   ],
   "source": [
    "kt = kidney_table\n",
    "plt.figure(figsize=(8,6))\n",
    "fig = interaction_plot(kt['Weight'], kt['Duration'], np.log(kt['Days']+1),\n",
    "        colors=['red', 'blue'], markers=['D','^'], ms=10, ax=plt.gca())"
   ]
  },
  {
   "cell_type": "markdown",
   "metadata": {},
   "source": [
    "You have things available in the calling namespace available in the formula evaluation namespace"
   ]
  },
  {
   "cell_type": "code",
   "execution_count": 40,
   "metadata": {
    "execution": {
     "iopub.execute_input": "2021-02-02T06:51:58.441388Z",
     "iopub.status.busy": "2021-02-02T06:51:58.439706Z",
     "iopub.status.idle": "2021-02-02T06:51:58.553656Z",
     "shell.execute_reply": "2021-02-02T06:51:58.554843Z"
    }
   },
   "outputs": [
    {
     "name": "stdout",
     "output_type": "stream",
     "text": [
      "   df_resid        ssr  df_diff   ss_diff        F    Pr(>F)\n",
      "0      56.0  29.624856      0.0       NaN      NaN       NaN\n",
      "1      54.0  28.989198      2.0  0.635658  0.59204  0.556748\n",
      "   df_resid        ssr  df_diff    ss_diff          F    Pr(>F)\n",
      "0      58.0  46.596147      0.0        NaN        NaN       NaN\n",
      "1      56.0  29.624856      2.0  16.971291  16.040454  0.000003\n",
      "   df_resid        ssr  df_diff   ss_diff         F   Pr(>F)\n",
      "0      57.0  31.964549      0.0       NaN       NaN      NaN\n",
      "1      56.0  29.624856      1.0  2.339693  4.422732  0.03997\n"
     ]
    }
   ],
   "source": [
    "kidney_lm = ols('np.log(Days+1) ~ C(Duration) * C(Weight)', data=kt).fit()\n",
    "\n",
    "table10 = anova_lm(kidney_lm)\n",
    "\n",
    "print(anova_lm(ols('np.log(Days+1) ~ C(Duration) + C(Weight)',\n",
    "                data=kt).fit(), kidney_lm))\n",
    "print(anova_lm(ols('np.log(Days+1) ~ C(Duration)', data=kt).fit(),\n",
    "               ols('np.log(Days+1) ~ C(Duration) + C(Weight, Sum)',\n",
    "                   data=kt).fit()))\n",
    "print(anova_lm(ols('np.log(Days+1) ~ C(Weight)', data=kt).fit(),\n",
    "               ols('np.log(Days+1) ~ C(Duration) + C(Weight, Sum)',\n",
    "                   data=kt).fit()))"
   ]
  },
  {
   "cell_type": "markdown",
   "metadata": {},
   "source": [
    "## Sum of squares\n",
    "\n",
    " Illustrates the use of different types of sums of squares (I,II,II)\n",
    " and how the Sum contrast can be used to produce the same output between\n",
    " the 3.\n",
    "\n",
    " Types I and II are equivalent under a balanced design.\n",
    "\n",
    " Do not use Type III with non-orthogonal contrast - ie., Treatment"
   ]
  },
  {
   "cell_type": "code",
   "execution_count": 41,
   "metadata": {
    "execution": {
     "iopub.execute_input": "2021-02-02T06:51:58.560227Z",
     "iopub.status.busy": "2021-02-02T06:51:58.558481Z",
     "iopub.status.idle": "2021-02-02T06:51:58.620544Z",
     "shell.execute_reply": "2021-02-02T06:51:58.621767Z"
    }
   },
   "outputs": [
    {
     "name": "stdout",
     "output_type": "stream",
     "text": [
      "                                   df     sum_sq   mean_sq          F    PR(>F)\n",
      "C(Duration, Sum)                  1.0   2.339693  2.339693   4.358293  0.041562\n",
      "C(Weight, Sum)                    2.0  16.971291  8.485645  15.806745  0.000004\n",
      "C(Duration, Sum):C(Weight, Sum)   2.0   0.635658  0.317829   0.592040  0.556748\n",
      "Residual                         54.0  28.989198  0.536837        NaN       NaN\n",
      "                                    sum_sq    df          F    PR(>F)\n",
      "C(Duration, Sum)                  2.339693   1.0   4.358293  0.041562\n",
      "C(Weight, Sum)                   16.971291   2.0  15.806745  0.000004\n",
      "C(Duration, Sum):C(Weight, Sum)   0.635658   2.0   0.592040  0.556748\n",
      "Residual                         28.989198  54.0        NaN       NaN\n",
      "                                     sum_sq    df           F        PR(>F)\n",
      "Intercept                        156.301830   1.0  291.153237  2.077589e-23\n",
      "C(Duration, Sum)                   2.339693   1.0    4.358293  4.156170e-02\n",
      "C(Weight, Sum)                    16.971291   2.0   15.806745  3.944502e-06\n",
      "C(Duration, Sum):C(Weight, Sum)    0.635658   2.0    0.592040  5.567479e-01\n",
      "Residual                          28.989198  54.0         NaN           NaN\n"
     ]
    }
   ],
   "source": [
    "sum_lm = ols('np.log(Days+1) ~ C(Duration, Sum) * C(Weight, Sum)',\n",
    "            data=kt).fit()\n",
    "\n",
    "print(anova_lm(sum_lm))\n",
    "print(anova_lm(sum_lm, typ=2))\n",
    "print(anova_lm(sum_lm, typ=3))"
   ]
  },
  {
   "cell_type": "code",
   "execution_count": 42,
   "metadata": {
    "execution": {
     "iopub.execute_input": "2021-02-02T06:51:58.626812Z",
     "iopub.status.busy": "2021-02-02T06:51:58.625171Z",
     "iopub.status.idle": "2021-02-02T06:51:58.685322Z",
     "shell.execute_reply": "2021-02-02T06:51:58.686575Z"
    }
   },
   "outputs": [
    {
     "name": "stdout",
     "output_type": "stream",
     "text": [
      "                                               df     sum_sq   mean_sq          F    PR(>F)\n",
      "C(Duration, Treatment)                        1.0   2.339693  2.339693   4.358293  0.041562\n",
      "C(Weight, Treatment)                          2.0  16.971291  8.485645  15.806745  0.000004\n",
      "C(Duration, Treatment):C(Weight, Treatment)   2.0   0.635658  0.317829   0.592040  0.556748\n",
      "Residual                                     54.0  28.989198  0.536837        NaN       NaN\n",
      "                                                sum_sq    df          F    PR(>F)\n",
      "C(Duration, Treatment)                        2.339693   1.0   4.358293  0.041562\n",
      "C(Weight, Treatment)                         16.971291   2.0  15.806745  0.000004\n",
      "C(Duration, Treatment):C(Weight, Treatment)   0.635658   2.0   0.592040  0.556748\n",
      "Residual                                     28.989198  54.0        NaN       NaN\n",
      "                                                sum_sq    df          F    PR(>F)\n",
      "Intercept                                    10.427596   1.0  19.424139  0.000050\n",
      "C(Duration, Treatment)                        0.054293   1.0   0.101134  0.751699\n",
      "C(Weight, Treatment)                         11.703387   2.0  10.900317  0.000106\n",
      "C(Duration, Treatment):C(Weight, Treatment)   0.635658   2.0   0.592040  0.556748\n",
      "Residual                                     28.989198  54.0        NaN       NaN\n"
     ]
    }
   ],
   "source": [
    "nosum_lm = ols('np.log(Days+1) ~ C(Duration, Treatment) * C(Weight, Treatment)',\n",
    "            data=kt).fit()\n",
    "print(anova_lm(nosum_lm))\n",
    "print(anova_lm(nosum_lm, typ=2))\n",
    "print(anova_lm(nosum_lm, typ=3))"
   ]
  }
 ],
 "metadata": {
  "kernelspec": {
   "display_name": "Python 3",
   "language": "python",
   "name": "python3"
  },
  "language_info": {
   "codemirror_mode": {
    "name": "ipython",
    "version": 3
   },
   "file_extension": ".py",
   "mimetype": "text/x-python",
   "name": "python",
   "nbconvert_exporter": "python",
   "pygments_lexer": "ipython3",
   "version": "3.7.9"
  }
 },
 "nbformat": 4,
 "nbformat_minor": 1
}
