{
 "cells": [
  {
   "cell_type": "markdown",
   "metadata": {},
   "source": [
    "# Meta-Analysis in statsmodels\n",
    "\n",
    "Statsmodels include basic methods for meta-analysis. This notebook illustrates the current usage.\n",
    "\n",
    "Status: The results have been verified against R meta and metafor packages. However, the API is still experimental and will still change. Some options for additional methods that are available in R meta and metafor are missing.\n",
    "\n",
    "The support for meta-analysis has 3 parts:\n",
    "\n",
    "- effect size functions: this currently includes\n",
    "  ``effectsize_smd`` computes effect size and their standard errors for standardized mean difference,  \n",
    "  ``effectsize_2proportions`` computes effect sizes for comparing two independent proportions using risk difference, (log) risk ratio, (log) odds-ratio or arcsine square root transformation\n",
    "- The `combine_effects` computes fixed and random effects estimate for the overall mean or effect. The returned results instance includes a forest plot function.\n",
    "- helper functions to estimate the random effect variance, tau-squared\n",
    "\n",
    "The estimate of the overall effect size in `combine_effects` can also be performed using WLS or GLM with var_weights.\n",
    "\n",
    "Finally, the meta-analysis functions currently do not include the Mantel-Hanszel method. However, the fixed effects results can be computed directly using `StratifiedTable` as illustrated below."
   ]
  },
  {
   "cell_type": "code",
   "execution_count": 1,
   "metadata": {
    "execution": {
     "iopub.execute_input": "2021-02-02T06:55:21.986988Z",
     "iopub.status.busy": "2021-02-02T06:55:21.986218Z",
     "iopub.status.idle": "2021-02-02T06:55:22.223697Z",
     "shell.execute_reply": "2021-02-02T06:55:22.224135Z"
    }
   },
   "outputs": [],
   "source": [
    "%matplotlib inline"
   ]
  },
  {
   "cell_type": "code",
   "execution_count": 2,
   "metadata": {
    "execution": {
     "iopub.execute_input": "2021-02-02T06:55:22.228978Z",
     "iopub.status.busy": "2021-02-02T06:55:22.228247Z",
     "iopub.status.idle": "2021-02-02T06:55:22.655674Z",
     "shell.execute_reply": "2021-02-02T06:55:22.656799Z"
    }
   },
   "outputs": [],
   "source": [
    "import numpy as np\n",
    "import pandas as pd\n",
    "from scipy import stats, optimize\n",
    "\n",
    "from statsmodels.regression.linear_model import WLS\n",
    "from statsmodels.genmod.generalized_linear_model import GLM\n",
    "\n",
    "from statsmodels.stats.meta_analysis import (\n",
    "    effectsize_smd, effectsize_2proportions, combine_effects,\n",
    "    _fit_tau_iterative, _fit_tau_mm, _fit_tau_iter_mm)\n",
    "\n",
    "# increase line length for pandas\n",
    "pd.set_option('display.width', 100)"
   ]
  },
  {
   "cell_type": "markdown",
   "metadata": {},
   "source": [
    "## Example"
   ]
  },
  {
   "cell_type": "code",
   "execution_count": 3,
   "metadata": {
    "execution": {
     "iopub.execute_input": "2021-02-02T06:55:22.661460Z",
     "iopub.status.busy": "2021-02-02T06:55:22.660141Z",
     "iopub.status.idle": "2021-02-02T06:55:22.675936Z",
     "shell.execute_reply": "2021-02-02T06:55:22.676815Z"
    }
   },
   "outputs": [
    {
     "data": {
      "text/plain": [
       "['Carroll', 'Grant', 'Peck', 'Donat', 'Stewart', 'Young']"
      ]
     },
     "execution_count": 1,
     "metadata": {},
     "output_type": "execute_result"
    }
   ],
   "source": [
    "data = [\n",
    "[\"Carroll\", 94, 22,60,92, 20,60],\n",
    "[\"Grant\", 98, 21,65, 92,22, 65],\n",
    "[\"Peck\", 98, 28, 40,88 ,26, 40],\n",
    "[\"Donat\", 94,19, 200, 82,17, 200],\n",
    "[\"Stewart\", 98, 21,50, 88,22 , 45],\n",
    "[\"Young\", 96,21,85, 92 ,22, 85]]\n",
    "colnames = [\"study\",\"mean_t\",\"sd_t\",\"n_t\",\"mean_c\",\"sd_c\",\"n_c\"]\n",
    "rownames = [i[0] for i in data]\n",
    "dframe1 = pd.DataFrame(data, columns=colnames)\n",
    "rownames"
   ]
  },
  {
   "cell_type": "code",
   "execution_count": 4,
   "metadata": {
    "execution": {
     "iopub.execute_input": "2021-02-02T06:55:22.680884Z",
     "iopub.status.busy": "2021-02-02T06:55:22.679634Z",
     "iopub.status.idle": "2021-02-02T06:55:22.689478Z",
     "shell.execute_reply": "2021-02-02T06:55:22.690376Z"
    }
   },
   "outputs": [
    {
     "data": {
      "text/plain": [
       "['Carroll', 'Grant', 'Peck', 'Donat', 'Stewart', 'Young']"
      ]
     },
     "execution_count": 1,
     "metadata": {},
     "output_type": "execute_result"
    }
   ],
   "source": [
    "mean2, sd2, nobs2, mean1, sd1, nobs1 = np.asarray(dframe1[[\"mean_t\",\"sd_t\",\"n_t\",\"mean_c\",\"sd_c\",\"n_c\"]]).T\n",
    "rownames = dframe1[\"study\"]\n",
    "rownames.tolist()"
   ]
  },
  {
   "cell_type": "code",
   "execution_count": 5,
   "metadata": {
    "execution": {
     "iopub.execute_input": "2021-02-02T06:55:22.694262Z",
     "iopub.status.busy": "2021-02-02T06:55:22.693053Z",
     "iopub.status.idle": "2021-02-02T06:55:22.700469Z",
     "shell.execute_reply": "2021-02-02T06:55:22.701355Z"
    }
   },
   "outputs": [
    {
     "data": {
      "text/plain": [
       "array([120, 130,  80, 400,  95, 170])"
      ]
     },
     "execution_count": 1,
     "metadata": {},
     "output_type": "execute_result"
    }
   ],
   "source": [
    "np.array(nobs1 + nobs2)"
   ]
  },
  {
   "cell_type": "markdown",
   "metadata": {},
   "source": [
    "### estimate effect size standardized mean difference"
   ]
  },
  {
   "cell_type": "code",
   "execution_count": 6,
   "metadata": {
    "execution": {
     "iopub.execute_input": "2021-02-02T06:55:22.705378Z",
     "iopub.status.busy": "2021-02-02T06:55:22.704143Z",
     "iopub.status.idle": "2021-02-02T06:55:22.709358Z",
     "shell.execute_reply": "2021-02-02T06:55:22.710234Z"
    }
   },
   "outputs": [],
   "source": [
    "eff, var_eff = effectsize_smd(mean2, sd2, nobs2, mean1, sd1, nobs1)"
   ]
  },
  {
   "cell_type": "markdown",
   "metadata": {},
   "source": [
    "### Using one-step chi2, DerSimonian-Laird estimate for random effects variance tau\n",
    "\n",
    "Method option for random effect `method_re=\"chi2\"` or `method_re=\"dl\"`, both names are accepted.\n",
    "This is commonly referred to as the DerSimonian-Laird method, it is based on a moment estimator based on pearson chi2 from the fixed effects estimate."
   ]
  },
  {
   "cell_type": "code",
   "execution_count": 7,
   "metadata": {
    "execution": {
     "iopub.execute_input": "2021-02-02T06:55:22.714230Z",
     "iopub.status.busy": "2021-02-02T06:55:22.712975Z",
     "iopub.status.idle": "2021-02-02T06:55:22.729816Z",
     "shell.execute_reply": "2021-02-02T06:55:22.730710Z"
    }
   },
   "outputs": [
    {
     "name": "stdout",
     "output_type": "stream",
     "text": [
      "                        eff    sd_eff    ci_low    ci_upp      w_fe      w_re\n",
      "Carroll            0.094524  0.182680 -0.267199  0.456248  0.123885  0.157529\n",
      "Grant              0.277356  0.176279 -0.071416  0.626129  0.133045  0.162828\n",
      "Peck               0.366546  0.225573 -0.082446  0.815538  0.081250  0.126223\n",
      "Donat              0.664385  0.102748  0.462389  0.866381  0.391606  0.232734\n",
      "Stewart            0.461808  0.208310  0.048203  0.875413  0.095275  0.137949\n",
      "Young              0.185165  0.153729 -0.118312  0.488641  0.174939  0.182736\n",
      "fixed effect       0.414961  0.064298  0.249677  0.580245  1.000000       NaN\n",
      "random effect      0.358486  0.105462  0.087388  0.629583       NaN  1.000000\n",
      "fixed effect wls   0.414961  0.099237  0.159864  0.670058  1.000000       NaN\n",
      "random effect wls  0.358486  0.090328  0.126290  0.590682       NaN  1.000000\n"
     ]
    }
   ],
   "source": [
    "res3 = combine_effects(eff, var_eff, method_re=\"chi2\", use_t=True, row_names=rownames)\n",
    "# TODO: we still need better information about conf_int of individual samples\n",
    "# We don't have enough information in the model for individual confidence intervals\n",
    "# if those are not based on normal distribution.\n",
    "res3.conf_int_samples(nobs=np.array(nobs1 + nobs2))\n",
    "print(res3.summary_frame())"
   ]
  },
  {
   "cell_type": "code",
   "execution_count": 8,
   "metadata": {
    "execution": {
     "iopub.execute_input": "2021-02-02T06:55:22.734786Z",
     "iopub.status.busy": "2021-02-02T06:55:22.733554Z",
     "iopub.status.idle": "2021-02-02T06:55:22.741420Z",
     "shell.execute_reply": "2021-02-02T06:55:22.742370Z"
    }
   },
   "outputs": [
    {
     "data": {
      "text/plain": [
       "{(0.05,\n",
       "  True): (array([-0.26719942, -0.07141628, -0.08244568,  0.46238908,  0.04820269,\n",
       "         -0.1183121 ]), array([0.45624817, 0.62612908, 0.81553838, 0.86638112, 0.87541326,\n",
       "         0.48864139]))}"
      ]
     },
     "execution_count": 1,
     "metadata": {},
     "output_type": "execute_result"
    }
   ],
   "source": [
    "res3.cache_ci"
   ]
  },
  {
   "cell_type": "code",
   "execution_count": 9,
   "metadata": {
    "execution": {
     "iopub.execute_input": "2021-02-02T06:55:22.746243Z",
     "iopub.status.busy": "2021-02-02T06:55:22.744988Z",
     "iopub.status.idle": "2021-02-02T06:55:22.752078Z",
     "shell.execute_reply": "2021-02-02T06:55:22.752990Z"
    }
   },
   "outputs": [
    {
     "data": {
      "text/plain": [
       "'chi2'"
      ]
     },
     "execution_count": 1,
     "metadata": {},
     "output_type": "execute_result"
    }
   ],
   "source": [
    "res3.method_re"
   ]
  },
  {
   "cell_type": "code",
   "execution_count": 10,
   "metadata": {
    "execution": {
     "iopub.execute_input": "2021-02-02T06:55:22.757080Z",
     "iopub.status.busy": "2021-02-02T06:55:22.755811Z",
     "iopub.status.idle": "2021-02-02T06:55:23.063084Z",
     "shell.execute_reply": "2021-02-02T06:55:23.061998Z"
    }
   },
   "outputs": [
    {
     "data": {
      "image/png": "[encoded data removed]",
      "text/plain": [
       "<Figure size 432x432 with 1 Axes>"
      ]
     },
     "metadata": {
      "needs_background": "light"
     },
     "output_type": "display_data"
    }
   ],
   "source": [
    "fig = res3.plot_forest()\n",
    "fig.set_figheight(6)\n",
    "fig.set_figwidth(6)"
   ]
  },
  {
   "cell_type": "code",
   "execution_count": 11,
   "metadata": {
    "execution": {
     "iopub.execute_input": "2021-02-02T06:55:23.070064Z",
     "iopub.status.busy": "2021-02-02T06:55:23.069297Z",
     "iopub.status.idle": "2021-02-02T06:55:23.083053Z",
     "shell.execute_reply": "2021-02-02T06:55:23.084061Z"
    }
   },
   "outputs": [
    {
     "name": "stdout",
     "output_type": "stream",
     "text": [
      "                        eff    sd_eff    ci_low    ci_upp      w_fe      w_re\n",
      "Carroll            0.094524  0.182680 -0.263521  0.452570  0.123885  0.157529\n",
      "Grant              0.277356  0.176279 -0.068144  0.622857  0.133045  0.162828\n",
      "Peck               0.366546  0.225573 -0.075569  0.808662  0.081250  0.126223\n",
      "Donat              0.664385  0.102748  0.463002  0.865768  0.391606  0.232734\n",
      "Stewart            0.461808  0.208310  0.053527  0.870089  0.095275  0.137949\n",
      "Young              0.185165  0.153729 -0.116139  0.486468  0.174939  0.182736\n",
      "fixed effect       0.414961  0.064298  0.288939  0.540984  1.000000       NaN\n",
      "random effect      0.358486  0.105462  0.151785  0.565187       NaN  1.000000\n",
      "fixed effect wls   0.414961  0.099237  0.220460  0.609462  1.000000       NaN\n",
      "random effect wls  0.358486  0.090328  0.181446  0.535526       NaN  1.000000\n"
     ]
    }
   ],
   "source": [
    "res3 = combine_effects(eff, var_eff, method_re=\"chi2\", use_t=False, row_names=rownames)\n",
    "# TODO: we still need better information about conf_int of individual samples\n",
    "# We don't have enough information in the model for individual confidence intervals\n",
    "# if those are not based on normal distribution.\n",
    "res3.conf_int_samples(nobs=np.array(nobs1 + nobs2))\n",
    "print(res3.summary_frame())"
   ]
  },
  {
   "cell_type": "markdown",
   "metadata": {},
   "source": [
    "### Using iterated, Paule-Mandel estimate for random effects variance tau\n",
    "\n",
    "The method commonly referred to as Paule-Mandel estimate is a method of moment estimate for the random effects variance that iterates between mean and variance estimate until convergence.\n"
   ]
  },
  {
   "cell_type": "code",
   "execution_count": 12,
   "metadata": {
    "execution": {
     "iopub.execute_input": "2021-02-02T06:55:23.089070Z",
     "iopub.status.busy": "2021-02-02T06:55:23.087270Z",
     "iopub.status.idle": "2021-02-02T06:55:23.281205Z",
     "shell.execute_reply": "2021-02-02T06:55:23.280785Z"
    }
   },
   "outputs": [
    {
     "name": "stdout",
     "output_type": "stream",
     "text": [
      "method RE: iterated\n",
      "                        eff    sd_eff    ci_low    ci_upp      w_fe      w_re\n",
      "Carroll            0.094524  0.182680 -0.263521  0.452570  0.123885  0.152619\n",
      "Grant              0.277356  0.176279 -0.068144  0.622857  0.133045  0.159157\n",
      "Peck               0.366546  0.225573 -0.075569  0.808662  0.081250  0.116228\n",
      "Donat              0.664385  0.102748  0.463002  0.865768  0.391606  0.257767\n",
      "Stewart            0.461808  0.208310  0.053527  0.870089  0.095275  0.129428\n",
      "Young              0.185165  0.153729 -0.116139  0.486468  0.174939  0.184799\n",
      "fixed effect       0.414961  0.064298  0.288939  0.540984  1.000000       NaN\n",
      "random effect      0.366419  0.092390  0.185338  0.547500       NaN  1.000000\n",
      "fixed effect wls   0.414961  0.099237  0.220460  0.609462  1.000000       NaN\n",
      "random effect wls  0.366419  0.092390  0.185338  0.547500       NaN  1.000000\n"
     ]
    },
    {
     "data": {
      "image/png": "[encoded data removed]",
      "text/plain": [
       "<Figure size 432x288 with 1 Axes>"
      ]
     },
     "metadata": {
      "needs_background": "light"
     },
     "output_type": "display_data"
    }
   ],
   "source": [
    "res4 = combine_effects(eff, var_eff, method_re=\"iterated\", use_t=False, row_names=rownames)\n",
    "res4_df = res4.summary_frame()\n",
    "print(\"method RE:\", res4.method_re)\n",
    "print(res4.summary_frame())\n",
    "fig = res4.plot_forest()\n"
   ]
  },
  {
   "cell_type": "code",
   "execution_count": null,
   "metadata": {},
   "outputs": [],
   "source": []
  },
  {
   "cell_type": "markdown",
   "metadata": {},
   "source": [
    "## Example Kacker interlaboratory mean\n",
    "\n",
    "In this example the effect size is the mean of measurements in a lab. We combine the estimates from several labs to estimate and overall average."
   ]
  },
  {
   "cell_type": "code",
   "execution_count": 13,
   "metadata": {
    "execution": {
     "iopub.execute_input": "2021-02-02T06:55:23.285652Z",
     "iopub.status.busy": "2021-02-02T06:55:23.285222Z",
     "iopub.status.idle": "2021-02-02T06:55:23.288591Z",
     "shell.execute_reply": "2021-02-02T06:55:23.288198Z"
    }
   },
   "outputs": [],
   "source": [
    "eff = np.array([61.00, 61.40, 62.21, 62.30, 62.34, 62.60, 62.70,\n",
    "                62.84, 65.90])\n",
    "var_eff = np.array([0.2025, 1.2100, 0.0900, 0.2025, 0.3844, 0.5625,\n",
    "                    0.0676, 0.0225, 1.8225])\n",
    "rownames = ['PTB', 'NMi', 'NIMC', 'KRISS', 'LGC', 'NRC', 'IRMM', 'NIST', 'LNE']"
   ]
  },
  {
   "cell_type": "code",
   "execution_count": 14,
   "metadata": {
    "execution": {
     "iopub.execute_input": "2021-02-02T06:55:23.313282Z",
     "iopub.status.busy": "2021-02-02T06:55:23.293505Z",
     "iopub.status.idle": "2021-02-02T06:55:23.501613Z",
     "shell.execute_reply": "2021-02-02T06:55:23.501180Z"
    }
   },
   "outputs": [
    {
     "name": "stdout",
     "output_type": "stream",
     "text": [
      "method RE: dl\n",
      "                         eff    sd_eff     ci_low     ci_upp      w_fe      w_re\n",
      "PTB                61.000000  0.450000  60.118016  61.881984  0.057436  0.123113\n",
      "NMi                61.400000  1.100000  59.244040  63.555960  0.009612  0.040314\n",
      "NIMC               62.210000  0.300000  61.622011  62.797989  0.129230  0.159749\n",
      "KRISS              62.300000  0.450000  61.418016  63.181984  0.057436  0.123113\n",
      "LGC                62.340000  0.620000  61.124822  63.555178  0.030257  0.089810\n",
      "NRC                62.600000  0.750000  61.130027  64.069973  0.020677  0.071005\n",
      "IRMM               62.700000  0.260000  62.190409  63.209591  0.172052  0.169810\n",
      "NIST               62.840000  0.150000  62.546005  63.133995  0.516920  0.194471\n",
      "LNE                65.900000  1.350000  63.254049  68.545951  0.006382  0.028615\n",
      "fixed effect       62.583397  0.107846  62.334704  62.832090  1.000000       NaN\n",
      "random effect      62.390139  0.245750  61.823439  62.956838       NaN  1.000000\n",
      "fixed effect wls   62.583397  0.189889  62.145512  63.021282  1.000000       NaN\n",
      "random effect wls  62.390139  0.294776  61.710384  63.069893       NaN  1.000000\n"
     ]
    },
    {
     "name": "stderr",
     "output_type": "stream",
     "text": [
      "/home/travis/build/statsmodels/statsmodels/statsmodels/stats/meta_analysis.py:106: UserWarning: `use_t=True` requires `nobs` for each sample or `ci_func`. Using normal distribution for confidence interval of individual samples.\n",
      "  warnings.warn(msg)\n"
     ]
    },
    {
     "data": {
      "image/png": "[encoded data removed]",
      "text/plain": [
       "<Figure size 432x432 with 1 Axes>"
      ]
     },
     "metadata": {
      "needs_background": "light"
     },
     "output_type": "display_data"
    }
   ],
   "source": [
    "res2_DL = combine_effects(eff, var_eff, method_re=\"dl\", use_t=True, row_names=rownames)\n",
    "print(\"method RE:\", res2_DL.method_re)\n",
    "print(res2_DL.summary_frame())\n",
    "fig = res2_DL.plot_forest()\n",
    "fig.set_figheight(6)\n",
    "fig.set_figwidth(6)"
   ]
  },
  {
   "cell_type": "code",
   "execution_count": 15,
   "metadata": {
    "execution": {
     "iopub.execute_input": "2021-02-02T06:55:23.512647Z",
     "iopub.status.busy": "2021-02-02T06:55:23.506224Z",
     "iopub.status.idle": "2021-02-02T06:55:23.829207Z",
     "shell.execute_reply": "2021-02-02T06:55:23.829832Z"
    }
   },
   "outputs": [
    {
     "name": "stdout",
     "output_type": "stream",
     "text": [
      "method RE: pm\n",
      "                         eff    sd_eff     ci_low     ci_upp      w_fe      w_re\n",
      "PTB                61.000000  0.450000  60.118016  61.881984  0.057436  0.125857\n",
      "NMi                61.400000  1.100000  59.244040  63.555960  0.009612  0.059656\n",
      "NIMC               62.210000  0.300000  61.622011  62.797989  0.129230  0.143658\n",
      "KRISS              62.300000  0.450000  61.418016  63.181984  0.057436  0.125857\n",
      "LGC                62.340000  0.620000  61.124822  63.555178  0.030257  0.104850\n",
      "NRC                62.600000  0.750000  61.130027  64.069973  0.020677  0.090122\n",
      "IRMM               62.700000  0.260000  62.190409  63.209591  0.172052  0.147821\n",
      "NIST               62.840000  0.150000  62.546005  63.133995  0.516920  0.156980\n",
      "LNE                65.900000  1.350000  63.254049  68.545951  0.006382  0.045201\n",
      "fixed effect       62.583397  0.107846  62.334704  62.832090  1.000000       NaN\n",
      "random effect      62.407620  0.338030  61.628120  63.187119       NaN  1.000000\n",
      "fixed effect wls   62.583397  0.189889  62.145512  63.021282  1.000000       NaN\n",
      "random effect wls  62.407620  0.338030  61.628120  63.187120       NaN  1.000000\n"
     ]
    },
    {
     "name": "stderr",
     "output_type": "stream",
     "text": [
      "/home/travis/build/statsmodels/statsmodels/statsmodels/stats/meta_analysis.py:106: UserWarning: `use_t=True` requires `nobs` for each sample or `ci_func`. Using normal distribution for confidence interval of individual samples.\n",
      "  warnings.warn(msg)\n"
     ]
    },
    {
     "data": {
      "image/png": "[encoded data removed]",
      "text/plain": [
       "<Figure size 432x432 with 1 Axes>"
      ]
     },
     "metadata": {
      "needs_background": "light"
     },
     "output_type": "display_data"
    }
   ],
   "source": [
    "res2_PM = combine_effects(eff, var_eff, method_re=\"pm\", use_t=True, row_names=rownames)\n",
    "print(\"method RE:\", res2_PM.method_re)\n",
    "print(res2_PM.summary_frame())\n",
    "fig = res2_PM.plot_forest()\n",
    "fig.set_figheight(6)\n",
    "fig.set_figwidth(6)"
   ]
  },
  {
   "cell_type": "code",
   "execution_count": null,
   "metadata": {},
   "outputs": [],
   "source": []
  },
  {
   "cell_type": "markdown",
   "metadata": {},
   "source": [
    "## Meta-analysis of proportions\n",
    "\n",
    "In the following example the random effect variance tau is estimated to be zero. \n",
    "I then change two counts in the data, so the second example has random effects variance greater than zero."
   ]
  },
  {
   "cell_type": "code",
   "execution_count": 16,
   "metadata": {
    "execution": {
     "iopub.execute_input": "2021-02-02T06:55:23.833073Z",
     "iopub.status.busy": "2021-02-02T06:55:23.832355Z",
     "iopub.status.idle": "2021-02-02T06:55:23.835868Z",
     "shell.execute_reply": "2021-02-02T06:55:23.836328Z"
    }
   },
   "outputs": [],
   "source": [
    "import io"
   ]
  },
  {
   "cell_type": "code",
   "execution_count": 17,
   "metadata": {
    "execution": {
     "iopub.execute_input": "2021-02-02T06:55:23.839318Z",
     "iopub.status.busy": "2021-02-02T06:55:23.838586Z",
     "iopub.status.idle": "2021-02-02T06:55:23.848790Z",
     "shell.execute_reply": "2021-02-02T06:55:23.849231Z"
    }
   },
   "outputs": [],
   "source": [
    "\n",
    "ss = \"\"\"\\\n",
    "    study,nei,nci,e1i,c1i,e2i,c2i,e3i,c3i,e4i,c4i\n",
    "    1,19,22,16.0,20.0,11,12,4.0,8.0,4,3\n",
    "    2,34,35,22.0,22.0,18,12,15.0,8.0,15,6\n",
    "    3,72,68,44.0,40.0,21,15,10.0,3.0,3,0\n",
    "    4,22,20,19.0,12.0,14,5,5.0,4.0,2,3\n",
    "    5,70,32,62.0,27.0,42,13,26.0,6.0,15,5\n",
    "    6,183,94,130.0,65.0,80,33,47.0,14.0,30,11\n",
    "    7,26,50,24.0,30.0,13,18,5.0,10.0,3,9\n",
    "    8,61,55,51.0,44.0,37,30,19.0,19.0,11,15\n",
    "    9,36,25,30.0,17.0,23,12,13.0,4.0,10,4\n",
    "    10,45,35,43.0,35.0,19,14,8.0,4.0,6,0\n",
    "    11,246,208,169.0,139.0,106,76,67.0,42.0,51,35\n",
    "    12,386,141,279.0,97.0,170,46,97.0,21.0,73,8\n",
    "    13,59,32,56.0,30.0,34,17,21.0,9.0,20,7\n",
    "    14,45,15,42.0,10.0,18,3,9.0,1.0,9,1\n",
    "    15,14,18,14.0,18.0,13,14,12.0,13.0,9,12\n",
    "    16,26,19,21.0,15.0,12,10,6.0,4.0,5,1\n",
    "    17,74,75,,,42,40,,,23,30\"\"\"\n",
    "df3 = pd.read_csv(io.StringIO(ss))\n",
    "df_12y = df3[[\"e2i\", \"nei\", \"c2i\", \"nci\"]]\n",
    "# TODO: currently 1 is reference, switch labels\n",
    "count1, nobs1, count2, nobs2 = df_12y.values.T\n",
    "dta = df_12y.values.T"
   ]
  },
  {
   "cell_type": "code",
   "execution_count": 18,
   "metadata": {
    "execution": {
     "iopub.execute_input": "2021-02-02T06:55:23.852165Z",
     "iopub.status.busy": "2021-02-02T06:55:23.851403Z",
     "iopub.status.idle": "2021-02-02T06:55:23.854943Z",
     "shell.execute_reply": "2021-02-02T06:55:23.855377Z"
    }
   },
   "outputs": [],
   "source": [
    "eff, var_eff = effectsize_2proportions(*dta, statistic=\"rd\")"
   ]
  },
  {
   "cell_type": "code",
   "execution_count": 19,
   "metadata": {
    "execution": {
     "iopub.execute_input": "2021-02-02T06:55:23.858290Z",
     "iopub.status.busy": "2021-02-02T06:55:23.857537Z",
     "iopub.status.idle": "2021-02-02T06:55:23.863524Z",
     "shell.execute_reply": "2021-02-02T06:55:23.864228Z"
    }
   },
   "outputs": [
    {
     "data": {
      "text/plain": [
       "(array([ 0.03349282,  0.18655462,  0.07107843,  0.38636364,  0.19375   ,\n",
       "         0.08609464,  0.14      ,  0.06110283,  0.15888889,  0.02222222,\n",
       "         0.06550969,  0.11417337,  0.04502119,  0.2       ,  0.15079365,\n",
       "        -0.06477733,  0.03423423]),\n",
       " array([0.02409958, 0.01376482, 0.00539777, 0.01989341, 0.01096641,\n",
       "        0.00376814, 0.01422338, 0.00842011, 0.01639261, 0.01227827,\n",
       "        0.00211165, 0.00219739, 0.01192067, 0.016     , 0.0143398 ,\n",
       "        0.02267994, 0.0066352 ]))"
      ]
     },
     "execution_count": 1,
     "metadata": {},
     "output_type": "execute_result"
    }
   ],
   "source": [
    "eff, var_eff"
   ]
  },
  {
   "cell_type": "code",
   "execution_count": 20,
   "metadata": {
    "execution": {
     "iopub.execute_input": "2021-02-02T06:55:23.874716Z",
     "iopub.status.busy": "2021-02-02T06:55:23.872830Z",
     "iopub.status.idle": "2021-02-02T06:55:24.388368Z",
     "shell.execute_reply": "2021-02-02T06:55:24.389430Z"
    }
   },
   "outputs": [
    {
     "name": "stdout",
     "output_type": "stream",
     "text": [
      "method RE: iterated\n",
      "RE variance tau2: 0\n",
      "                        eff    sd_eff    ci_low    ci_upp      w_fe      w_re\n",
      "0                  0.033493  0.155240 -0.270773  0.337758  0.017454  0.017454\n",
      "1                  0.186555  0.117324 -0.043395  0.416505  0.030559  0.030559\n",
      "2                  0.071078  0.073470 -0.072919  0.215076  0.077928  0.077928\n",
      "3                  0.386364  0.141044  0.109922  0.662805  0.021145  0.021145\n",
      "4                  0.193750  0.104721 -0.011499  0.398999  0.038357  0.038357\n",
      "5                  0.086095  0.061385 -0.034218  0.206407  0.111630  0.111630\n",
      "6                  0.140000  0.119262 -0.093749  0.373749  0.029574  0.029574\n",
      "7                  0.061103  0.091761 -0.118746  0.240951  0.049956  0.049956\n",
      "8                  0.158889  0.128034 -0.092052  0.409830  0.025660  0.025660\n",
      "9                  0.022222  0.110807 -0.194956  0.239401  0.034259  0.034259\n",
      "10                 0.065510  0.045953 -0.024556  0.155575  0.199199  0.199199\n",
      "11                 0.114173  0.046876  0.022297  0.206049  0.191426  0.191426\n",
      "12                 0.045021  0.109182 -0.168971  0.259014  0.035286  0.035286\n",
      "13                 0.200000  0.126491 -0.047918  0.447918  0.026290  0.026290\n",
      "14                 0.150794  0.119749 -0.083910  0.385497  0.029334  0.029334\n",
      "15                -0.064777  0.150599 -0.359945  0.230390  0.018547  0.018547\n",
      "16                 0.034234  0.081457 -0.125418  0.193887  0.063395  0.063395\n",
      "fixed effect       0.096212  0.020509  0.056014  0.136410  1.000000       NaN\n",
      "random effect      0.096212  0.020509  0.056014  0.136410       NaN  1.000000\n",
      "fixed effect wls   0.096212  0.016521  0.063831  0.128593  1.000000       NaN\n",
      "random effect wls  0.096212  0.016521  0.063831  0.128593       NaN  1.000000\n"
     ]
    },
    {
     "data": {
      "image/png": "[encoded data removed]",
      "text/plain": [
       "<Figure size 432x576 with 1 Axes>"
      ]
     },
     "metadata": {
      "needs_background": "light"
     },
     "output_type": "display_data"
    }
   ],
   "source": [
    "res5 = combine_effects(eff, var_eff, method_re=\"iterated\", use_t=False)#, row_names=rownames)\n",
    "res5_df = res5.summary_frame()\n",
    "print(\"method RE:\", res5.method_re)\n",
    "print(\"RE variance tau2:\", res5.tau2)\n",
    "print(res5.summary_frame())\n",
    "fig = res5.plot_forest()\n",
    "fig.set_figheight(8)\n",
    "fig.set_figwidth(6)"
   ]
  },
  {
   "cell_type": "markdown",
   "metadata": {},
   "source": [
    "### changing data to have positive random effects variance"
   ]
  },
  {
   "cell_type": "code",
   "execution_count": 21,
   "metadata": {
    "execution": {
     "iopub.execute_input": "2021-02-02T06:55:24.393787Z",
     "iopub.status.busy": "2021-02-02T06:55:24.392529Z",
     "iopub.status.idle": "2021-02-02T06:55:24.400747Z",
     "shell.execute_reply": "2021-02-02T06:55:24.401608Z"
    }
   },
   "outputs": [
    {
     "data": {
      "text/plain": [
       "array([[ 18,  19,  12,  22],\n",
       "       [ 22,  34,  12,  35],\n",
       "       [ 21,  72,  15,  68],\n",
       "       [ 14,  22,   5,  20],\n",
       "       [ 42,  70,  13,  32],\n",
       "       [ 80, 183,  33,  94],\n",
       "       [ 13,  26,  18,  50],\n",
       "       [ 37,  61,  30,  55],\n",
       "       [ 23,  36,  12,  25],\n",
       "       [ 19,  45,  14,  35],\n",
       "       [106, 246,  76, 208],\n",
       "       [170, 386,  46, 141],\n",
       "       [ 34,  59,  17,  32],\n",
       "       [ 18,  45,   3,  15],\n",
       "       [ 13,  14,  14,  18],\n",
       "       [ 12,  26,  10,  19],\n",
       "       [ 42,  74,  40,  75]])"
      ]
     },
     "execution_count": 1,
     "metadata": {},
     "output_type": "execute_result"
    }
   ],
   "source": [
    "dta_c = dta.copy()\n",
    "dta_c.T[0, 0] = 18\n",
    "dta_c.T[1, 0] = 22\n",
    "dta_c.T"
   ]
  },
  {
   "cell_type": "code",
   "execution_count": 22,
   "metadata": {
    "execution": {
     "iopub.execute_input": "2021-02-02T06:55:24.405536Z",
     "iopub.status.busy": "2021-02-02T06:55:24.404287Z",
     "iopub.status.idle": "2021-02-02T06:55:24.830808Z",
     "shell.execute_reply": "2021-02-02T06:55:24.831807Z"
    }
   },
   "outputs": [
    {
     "name": "stdout",
     "output_type": "stream",
     "text": [
      "method RE: iterated\n",
      "                        eff    sd_eff    ci_low    ci_upp      w_fe      w_re\n",
      "0                  0.401914  0.117873  0.170887  0.632940  0.029850  0.038415\n",
      "1                  0.304202  0.114692  0.079410  0.528993  0.031529  0.040258\n",
      "2                  0.071078  0.073470 -0.072919  0.215076  0.076834  0.081017\n",
      "3                  0.386364  0.141044  0.109922  0.662805  0.020848  0.028013\n",
      "4                  0.193750  0.104721 -0.011499  0.398999  0.037818  0.046915\n",
      "5                  0.086095  0.061385 -0.034218  0.206407  0.110063  0.102907\n",
      "6                  0.140000  0.119262 -0.093749  0.373749  0.029159  0.037647\n",
      "7                  0.061103  0.091761 -0.118746  0.240951  0.049255  0.058097\n",
      "8                  0.158889  0.128034 -0.092052  0.409830  0.025300  0.033270\n",
      "9                  0.022222  0.110807 -0.194956  0.239401  0.033778  0.042683\n",
      "10                 0.065510  0.045953 -0.024556  0.155575  0.196403  0.141871\n",
      "11                 0.114173  0.046876  0.022297  0.206049  0.188739  0.139144\n",
      "12                 0.045021  0.109182 -0.168971  0.259014  0.034791  0.043759\n",
      "13                 0.200000  0.126491 -0.047918  0.447918  0.025921  0.033985\n",
      "14                 0.150794  0.119749 -0.083910  0.385497  0.028922  0.037383\n",
      "15                -0.064777  0.150599 -0.359945  0.230390  0.018286  0.024884\n",
      "16                 0.034234  0.081457 -0.125418  0.193887  0.062505  0.069751\n",
      "fixed effect       0.110252  0.020365  0.070337  0.150167  1.000000       NaN\n",
      "random effect      0.117633  0.024913  0.068804  0.166463       NaN  1.000000\n",
      "fixed effect wls   0.110252  0.022289  0.066567  0.153937  1.000000       NaN\n",
      "random effect wls  0.117633  0.024913  0.068804  0.166463       NaN  1.000000\n"
     ]
    },
    {
     "data": {
      "image/png": "[encoded data removed]",
      "text/plain": [
       "<Figure size 432x576 with 1 Axes>"
      ]
     },
     "metadata": {
      "needs_background": "light"
     },
     "output_type": "display_data"
    }
   ],
   "source": [
    "eff, var_eff = effectsize_2proportions(*dta_c, statistic=\"rd\")\n",
    "res5 = combine_effects(eff, var_eff, method_re=\"iterated\", use_t=False)#, row_names=rownames)\n",
    "res5_df = res5.summary_frame()\n",
    "print(\"method RE:\", res5.method_re)\n",
    "print(res5.summary_frame())\n",
    "fig = res5.plot_forest()\n",
    "fig.set_figheight(8)\n",
    "fig.set_figwidth(6)"
   ]
  },
  {
   "cell_type": "code",
   "execution_count": 23,
   "metadata": {
    "execution": {
     "iopub.execute_input": "2021-02-02T06:55:24.836146Z",
     "iopub.status.busy": "2021-02-02T06:55:24.834845Z",
     "iopub.status.idle": "2021-02-02T06:55:25.208539Z",
     "shell.execute_reply": "2021-02-02T06:55:25.208131Z"
    }
   },
   "outputs": [
    {
     "name": "stdout",
     "output_type": "stream",
     "text": [
      "method RE: chi2\n",
      "                        eff    sd_eff    ci_low    ci_upp      w_fe      w_re\n",
      "0                  0.401914  0.117873  0.170887  0.632940  0.029850  0.036114\n",
      "1                  0.304202  0.114692  0.079410  0.528993  0.031529  0.037940\n",
      "2                  0.071078  0.073470 -0.072919  0.215076  0.076834  0.080779\n",
      "3                  0.386364  0.141044  0.109922  0.662805  0.020848  0.025973\n",
      "4                  0.193750  0.104721 -0.011499  0.398999  0.037818  0.044614\n",
      "5                  0.086095  0.061385 -0.034218  0.206407  0.110063  0.105901\n",
      "6                  0.140000  0.119262 -0.093749  0.373749  0.029159  0.035356\n",
      "7                  0.061103  0.091761 -0.118746  0.240951  0.049255  0.056098\n",
      "8                  0.158889  0.128034 -0.092052  0.409830  0.025300  0.031063\n",
      "9                  0.022222  0.110807 -0.194956  0.239401  0.033778  0.040357\n",
      "10                 0.065510  0.045953 -0.024556  0.155575  0.196403  0.154854\n",
      "11                 0.114173  0.046876  0.022297  0.206049  0.188739  0.151236\n",
      "12                 0.045021  0.109182 -0.168971  0.259014  0.034791  0.041435\n",
      "13                 0.200000  0.126491 -0.047918  0.447918  0.025921  0.031761\n",
      "14                 0.150794  0.119749 -0.083910  0.385497  0.028922  0.035095\n",
      "15                -0.064777  0.150599 -0.359945  0.230390  0.018286  0.022976\n",
      "16                 0.034234  0.081457 -0.125418  0.193887  0.062505  0.068449\n",
      "fixed effect       0.110252  0.020365  0.070337  0.150167  1.000000       NaN\n",
      "random effect      0.115580  0.023557  0.069410  0.161751       NaN  1.000000\n",
      "fixed effect wls   0.110252  0.022289  0.066567  0.153937  1.000000       NaN\n",
      "random effect wls  0.115580  0.024241  0.068068  0.163093       NaN  1.000000\n"
     ]
    },
    {
     "data": {
      "image/png": "[encoded data removed]",
      "text/plain": [
       "<Figure size 432x576 with 1 Axes>"
      ]
     },
     "metadata": {
      "needs_background": "light"
     },
     "output_type": "display_data"
    }
   ],
   "source": [
    "res5 = combine_effects(eff, var_eff, method_re=\"chi2\", use_t=False)\n",
    "res5_df = res5.summary_frame()\n",
    "print(\"method RE:\", res5.method_re)\n",
    "print(res5.summary_frame())\n",
    "fig = res5.plot_forest()\n",
    "fig.set_figheight(8)\n",
    "fig.set_figwidth(6)"
   ]
  },
  {
   "cell_type": "markdown",
   "metadata": {},
   "source": [
    "### Replicate fixed effect analysis using GLM with var_weights\n",
    "\n",
    "`combine_effects` computes weighted average estimates which can be replicated using GLM with var_weights or with WLS.\n",
    "The `scale` option in `GLM.fit` can be used to replicate fixed meta-analysis with fixed and with HKSJ/WLS scale"
   ]
  },
  {
   "cell_type": "code",
   "execution_count": 24,
   "metadata": {
    "execution": {
     "iopub.execute_input": "2021-02-02T06:55:25.212185Z",
     "iopub.status.busy": "2021-02-02T06:55:25.211669Z",
     "iopub.status.idle": "2021-02-02T06:55:25.215095Z",
     "shell.execute_reply": "2021-02-02T06:55:25.214725Z"
    }
   },
   "outputs": [],
   "source": [
    "from statsmodels.genmod.generalized_linear_model import GLM"
   ]
  },
  {
   "cell_type": "code",
   "execution_count": 25,
   "metadata": {
    "execution": {
     "iopub.execute_input": "2021-02-02T06:55:25.224950Z",
     "iopub.status.busy": "2021-02-02T06:55:25.223987Z",
     "iopub.status.idle": "2021-02-02T06:55:25.228423Z",
     "shell.execute_reply": "2021-02-02T06:55:25.228760Z"
    }
   },
   "outputs": [
    {
     "name": "stdout",
     "output_type": "stream",
     "text": [
      "                        eff    sd_eff    ci_low    ci_upp  w_fe  w_re\n",
      "fixed effect       0.428037  0.090287  0.251076  0.604997   1.0   NaN\n",
      "random effect      0.429520  0.091377  0.250425  0.608615   NaN   1.0\n",
      "fixed effect wls   0.428037  0.090798  0.250076  0.605997   1.0   NaN\n",
      "random effect wls  0.429520  0.091595  0.249997  0.609044   NaN   1.0\n"
     ]
    }
   ],
   "source": [
    "eff, var_eff = effectsize_2proportions(*dta_c, statistic=\"or\")\n",
    "res = combine_effects(eff, var_eff, method_re=\"chi2\", use_t=False)\n",
    "res_frame = res.summary_frame()\n",
    "print(res_frame.iloc[-4:])"
   ]
  },
  {
   "cell_type": "markdown",
   "metadata": {},
   "source": [
    "We need to fix scale=1 in order to replicate standard errors for the usual meta-analysis."
   ]
  },
  {
   "cell_type": "code",
   "execution_count": 26,
   "metadata": {
    "execution": {
     "iopub.execute_input": "2021-02-02T06:55:25.235781Z",
     "iopub.status.busy": "2021-02-02T06:55:25.234421Z",
     "iopub.status.idle": "2021-02-02T06:55:25.242216Z",
     "shell.execute_reply": "2021-02-02T06:55:25.241851Z"
    }
   },
   "outputs": [
    {
     "name": "stdout",
     "output_type": "stream",
     "text": [
      "==============================================================================\n",
      "                 coef    std err          z      P>|z|      [0.025      0.975]\n",
      "------------------------------------------------------------------------------\n",
      "const          0.4280      0.090      4.741      0.000       0.251       0.605\n",
      "==============================================================================\n"
     ]
    }
   ],
   "source": [
    "weights = 1 / var_eff\n",
    "mod_glm = GLM(eff, np.ones(len(eff)),\n",
    "              var_weights=weights)\n",
    "res_glm = mod_glm.fit(scale=1.)\n",
    "print(res_glm.summary().tables[1])"
   ]
  },
  {
   "cell_type": "code",
   "execution_count": 27,
   "metadata": {
    "execution": {
     "iopub.execute_input": "2021-02-02T06:55:25.247302Z",
     "iopub.status.busy": "2021-02-02T06:55:25.246876Z",
     "iopub.status.idle": "2021-02-02T06:55:25.251822Z",
     "shell.execute_reply": "2021-02-02T06:55:25.251384Z"
    }
   },
   "outputs": [
    {
     "data": {
      "text/plain": [
       "(array(1.), array([[-3.33066907e-16, -4.44089210e-16]]))"
      ]
     },
     "execution_count": 1,
     "metadata": {},
     "output_type": "execute_result"
    }
   ],
   "source": [
    "# check results\n",
    "res_glm.scale, res_glm.conf_int() - res_frame.loc[\"fixed effect\", [\"ci_low\", \"ci_upp\"]].values"
   ]
  },
  {
   "cell_type": "markdown",
   "metadata": {},
   "source": [
    "Using HKSJ variance adjustment in meta-analysis is equivalent to estimating the scale using pearson chi2, which is also the default for the gaussian family."
   ]
  },
  {
   "cell_type": "code",
   "execution_count": 28,
   "metadata": {
    "execution": {
     "iopub.execute_input": "2021-02-02T06:55:25.258739Z",
     "iopub.status.busy": "2021-02-02T06:55:25.258304Z",
     "iopub.status.idle": "2021-02-02T06:55:25.262696Z",
     "shell.execute_reply": "2021-02-02T06:55:25.263287Z"
    }
   },
   "outputs": [
    {
     "name": "stdout",
     "output_type": "stream",
     "text": [
      "==============================================================================\n",
      "                 coef    std err          z      P>|z|      [0.025      0.975]\n",
      "------------------------------------------------------------------------------\n",
      "const          0.4280      0.091      4.714      0.000       0.250       0.606\n",
      "==============================================================================\n"
     ]
    }
   ],
   "source": [
    "res_glm = mod_glm.fit(scale=\"x2\")\n",
    "print(res_glm.summary().tables[1])"
   ]
  },
  {
   "cell_type": "code",
   "execution_count": 29,
   "metadata": {
    "execution": {
     "iopub.execute_input": "2021-02-02T06:55:25.268171Z",
     "iopub.status.busy": "2021-02-02T06:55:25.266412Z",
     "iopub.status.idle": "2021-02-02T06:55:25.271073Z",
     "shell.execute_reply": "2021-02-02T06:55:25.271400Z"
    }
   },
   "outputs": [
    {
     "data": {
      "text/plain": [
       "(1.011335891426438, array([[-0.00100017,  0.00100017]]))"
      ]
     },
     "execution_count": 1,
     "metadata": {},
     "output_type": "execute_result"
    }
   ],
   "source": [
    "# check results\n",
    "res_glm.scale, res_glm.conf_int() - res_frame.loc[\"fixed effect\", [\"ci_low\", \"ci_upp\"]].values"
   ]
  },
  {
   "cell_type": "markdown",
   "metadata": {},
   "source": [
    "### Mantel-Hanszel odds-ratio using contingency tables\n",
    "\n",
    "The fixed effect for the log-odds-ratio using the Mantel-Hanszel can be directly computed using StratifiedTable.\n",
    "\n",
    "We need to create a 2 x 2 x k contingency table to be used with `StratifiedTable`."
   ]
  },
  {
   "cell_type": "code",
   "execution_count": 30,
   "metadata": {
    "execution": {
     "iopub.execute_input": "2021-02-02T06:55:25.275702Z",
     "iopub.status.busy": "2021-02-02T06:55:25.275272Z",
     "iopub.status.idle": "2021-02-02T06:55:25.280416Z",
     "shell.execute_reply": "2021-02-02T06:55:25.279712Z"
    }
   },
   "outputs": [
    {
     "data": {
      "text/plain": [
       "array([[18,  1],\n",
       "       [12, 10]])"
      ]
     },
     "execution_count": 1,
     "metadata": {},
     "output_type": "execute_result"
    }
   ],
   "source": [
    "t, nt, c, nc = dta_c\n",
    "counts = np.column_stack([t, nt - t, c, nc - c])\n",
    "ctables = counts.T.reshape(2, 2, -1)\n",
    "ctables[:, :, 0]"
   ]
  },
  {
   "cell_type": "code",
   "execution_count": 31,
   "metadata": {
    "execution": {
     "iopub.execute_input": "2021-02-02T06:55:25.283664Z",
     "iopub.status.busy": "2021-02-02T06:55:25.283222Z",
     "iopub.status.idle": "2021-02-02T06:55:25.288644Z",
     "shell.execute_reply": "2021-02-02T06:55:25.288262Z"
    }
   },
   "outputs": [
    {
     "data": {
      "text/plain": [
       "array([18,  1, 12, 10])"
      ]
     },
     "execution_count": 1,
     "metadata": {},
     "output_type": "execute_result"
    }
   ],
   "source": [
    "counts[0]"
   ]
  },
  {
   "cell_type": "code",
   "execution_count": 32,
   "metadata": {
    "execution": {
     "iopub.execute_input": "2021-02-02T06:55:25.292183Z",
     "iopub.status.busy": "2021-02-02T06:55:25.291692Z",
     "iopub.status.idle": "2021-02-02T06:55:25.296298Z",
     "shell.execute_reply": "2021-02-02T06:55:25.296625Z"
    }
   },
   "outputs": [
    {
     "data": {
      "text/plain": [
       "array([18, 19, 12, 22])"
      ]
     },
     "execution_count": 1,
     "metadata": {},
     "output_type": "execute_result"
    }
   ],
   "source": [
    "dta_c.T[0]"
   ]
  },
  {
   "cell_type": "code",
   "execution_count": 33,
   "metadata": {
    "execution": {
     "iopub.execute_input": "2021-02-02T06:55:25.300483Z",
     "iopub.status.busy": "2021-02-02T06:55:25.299717Z",
     "iopub.status.idle": "2021-02-02T06:55:25.313307Z",
     "shell.execute_reply": "2021-02-02T06:55:25.313641Z"
    }
   },
   "outputs": [],
   "source": [
    "import statsmodels.stats.api as smstats"
   ]
  },
  {
   "cell_type": "code",
   "execution_count": 34,
   "metadata": {
    "execution": {
     "iopub.execute_input": "2021-02-02T06:55:25.317991Z",
     "iopub.status.busy": "2021-02-02T06:55:25.316912Z",
     "iopub.status.idle": "2021-02-02T06:55:25.319022Z",
     "shell.execute_reply": "2021-02-02T06:55:25.319348Z"
    }
   },
   "outputs": [],
   "source": [
    "st = smstats.StratifiedTable(ctables.astype(np.float64))"
   ]
  },
  {
   "cell_type": "markdown",
   "metadata": {},
   "source": [
    "compare pooled log-odds-ratio and standard error to R meta package"
   ]
  },
  {
   "cell_type": "code",
   "execution_count": 35,
   "metadata": {
    "execution": {
     "iopub.execute_input": "2021-02-02T06:55:25.323873Z",
     "iopub.status.busy": "2021-02-02T06:55:25.323304Z",
     "iopub.status.idle": "2021-02-02T06:55:25.326040Z",
     "shell.execute_reply": "2021-02-02T06:55:25.326405Z"
    }
   },
   "outputs": [
    {
     "data": {
      "text/plain": [
       "(0.4428186730553187, -2.220446049250313e-16)"
      ]
     },
     "execution_count": 1,
     "metadata": {},
     "output_type": "execute_result"
    }
   ],
   "source": [
    "st.logodds_pooled, st.logodds_pooled - 0.4428186730553189  # R meta"
   ]
  },
  {
   "cell_type": "code",
   "execution_count": 36,
   "metadata": {
    "execution": {
     "iopub.execute_input": "2021-02-02T06:55:25.331171Z",
     "iopub.status.busy": "2021-02-02T06:55:25.330645Z",
     "iopub.status.idle": "2021-02-02T06:55:25.333620Z",
     "shell.execute_reply": "2021-02-02T06:55:25.333983Z"
    }
   },
   "outputs": [
    {
     "data": {
      "text/plain": [
       "(0.08928560091027186, 0.0)"
      ]
     },
     "execution_count": 1,
     "metadata": {},
     "output_type": "execute_result"
    }
   ],
   "source": [
    "st.logodds_pooled_se, st.logodds_pooled_se - 0.08928560091027186  # R meta"
   ]
  },
  {
   "cell_type": "code",
   "execution_count": 37,
   "metadata": {
    "execution": {
     "iopub.execute_input": "2021-02-02T06:55:25.345378Z",
     "iopub.status.busy": "2021-02-02T06:55:25.344678Z",
     "iopub.status.idle": "2021-02-02T06:55:25.349615Z",
     "shell.execute_reply": "2021-02-02T06:55:25.349968Z"
    }
   },
   "outputs": [
    {
     "data": {
      "text/plain": [
       "(0.2678221109331691, 0.6178152351774683)"
      ]
     },
     "execution_count": 1,
     "metadata": {},
     "output_type": "execute_result"
    }
   ],
   "source": [
    "st.logodds_pooled_confint()"
   ]
  },
  {
   "cell_type": "code",
   "execution_count": 38,
   "metadata": {
    "execution": {
     "iopub.execute_input": "2021-02-02T06:55:25.354226Z",
     "iopub.status.busy": "2021-02-02T06:55:25.353797Z",
     "iopub.status.idle": "2021-02-02T06:55:25.357103Z",
     "shell.execute_reply": "2021-02-02T06:55:25.357453Z"
    }
   },
   "outputs": [
    {
     "name": "stdout",
     "output_type": "stream",
     "text": [
      "pvalue      0.34496419319878724\n",
      "statistic   17.64707987033203\n"
     ]
    }
   ],
   "source": [
    "print(st.test_equal_odds())"
   ]
  },
  {
   "cell_type": "code",
   "execution_count": 39,
   "metadata": {
    "execution": {
     "iopub.execute_input": "2021-02-02T06:55:25.362329Z",
     "iopub.status.busy": "2021-02-02T06:55:25.361608Z",
     "iopub.status.idle": "2021-02-02T06:55:25.366319Z",
     "shell.execute_reply": "2021-02-02T06:55:25.366903Z"
    }
   },
   "outputs": [
    {
     "name": "stdout",
     "output_type": "stream",
     "text": [
      "pvalue      6.615053645964153e-07\n",
      "statistic   24.724136624311814\n"
     ]
    }
   ],
   "source": [
    "print(st.test_null_odds())"
   ]
  },
  {
   "cell_type": "markdown",
   "metadata": {},
   "source": [
    "check conversion to stratified contingency table\n",
    "\n",
    "Row sums of each table are the sample sizes for treatment and control experiments"
   ]
  },
  {
   "cell_type": "code",
   "execution_count": 40,
   "metadata": {
    "execution": {
     "iopub.execute_input": "2021-02-02T06:55:25.371401Z",
     "iopub.status.busy": "2021-02-02T06:55:25.370959Z",
     "iopub.status.idle": "2021-02-02T06:55:25.375298Z",
     "shell.execute_reply": "2021-02-02T06:55:25.375667Z"
    }
   },
   "outputs": [
    {
     "data": {
      "text/plain": [
       "array([[ 19,  34,  72,  22,  70, 183,  26,  61,  36,  45, 246, 386,  59,\n",
       "         45,  14,  26,  74],\n",
       "       [ 22,  35,  68,  20,  32,  94,  50,  55,  25,  35, 208, 141,  32,\n",
       "         15,  18,  19,  75]])"
      ]
     },
     "execution_count": 1,
     "metadata": {},
     "output_type": "execute_result"
    }
   ],
   "source": [
    "ctables.sum(1)"
   ]
  },
  {
   "cell_type": "code",
   "execution_count": 41,
   "metadata": {
    "execution": {
     "iopub.execute_input": "2021-02-02T06:55:25.379492Z",
     "iopub.status.busy": "2021-02-02T06:55:25.379065Z",
     "iopub.status.idle": "2021-02-02T06:55:25.383618Z",
     "shell.execute_reply": "2021-02-02T06:55:25.383996Z"
    }
   },
   "outputs": [
    {
     "data": {
      "text/plain": [
       "(array([ 19,  34,  72,  22,  70, 183,  26,  61,  36,  45, 246, 386,  59,\n",
       "         45,  14,  26,  74]),\n",
       " array([ 22,  35,  68,  20,  32,  94,  50,  55,  25,  35, 208, 141,  32,\n",
       "         15,  18,  19,  75]))"
      ]
     },
     "execution_count": 1,
     "metadata": {},
     "output_type": "execute_result"
    }
   ],
   "source": [
    "nt, nc"
   ]
  },
  {
   "cell_type": "markdown",
   "metadata": {},
   "source": [
    "**Results from R meta package**\n",
    "\n",
    "```\n",
    "> res_mb_hk = metabin(e2i, nei, c2i, nci, data=dat2, sm=\"OR\", Q.Cochrane=FALSE, method=\"MH\", method.tau=\"DL\", hakn=FALSE, backtransf=FALSE)\n",
    "> res_mb_hk\n",
    "     logOR            95%-CI %W(fixed) %W(random)\n",
    "1   2.7081 [ 0.5265; 4.8896]       0.3        0.7\n",
    "2   1.2567 [ 0.2658; 2.2476]       2.1        3.2\n",
    "3   0.3749 [-0.3911; 1.1410]       5.4        5.4\n",
    "4   1.6582 [ 0.3245; 2.9920]       0.9        1.8\n",
    "5   0.7850 [-0.0673; 1.6372]       3.5        4.4\n",
    "6   0.3617 [-0.1528; 0.8762]      12.1       11.8\n",
    "7   0.5754 [-0.3861; 1.5368]       3.0        3.4\n",
    "8   0.2505 [-0.4881; 0.9892]       6.1        5.8\n",
    "9   0.6506 [-0.3877; 1.6889]       2.5        3.0\n",
    "10  0.0918 [-0.8067; 0.9903]       4.5        3.9\n",
    "11  0.2739 [-0.1047; 0.6525]      23.1       21.4\n",
    "12  0.4858 [ 0.0804; 0.8911]      18.6       18.8\n",
    "13  0.1823 [-0.6830; 1.0476]       4.6        4.2\n",
    "14  0.9808 [-0.4178; 2.3795]       1.3        1.6\n",
    "15  1.3122 [-1.0055; 3.6299]       0.4        0.6\n",
    "16 -0.2595 [-1.4450; 0.9260]       3.1        2.3\n",
    "17  0.1384 [-0.5076; 0.7844]       8.5        7.6\n",
    "\n",
    "Number of studies combined: k = 17\n",
    "\n",
    "                      logOR           95%-CI    z  p-value\n",
    "Fixed effect model   0.4428 [0.2678; 0.6178] 4.96 < 0.0001\n",
    "Random effects model 0.4295 [0.2504; 0.6086] 4.70 < 0.0001\n",
    "\n",
    "Quantifying heterogeneity:\n",
    " tau^2 = 0.0017 [0.0000; 0.4589]; tau = 0.0410 [0.0000; 0.6774];\n",
    " I^2 = 1.1% [0.0%; 51.6%]; H = 1.01 [1.00; 1.44]\n",
    "\n",
    "Test of heterogeneity:\n",
    "     Q d.f. p-value\n",
    " 16.18   16  0.4404\n",
    "\n",
    "Details on meta-analytical method:\n",
    "- Mantel-Haenszel method\n",
    "- DerSimonian-Laird estimator for tau^2\n",
    "- Jackson method for confidence interval of tau^2 and tau\n",
    "\n",
    "> res_mb_hk$TE.fixed\n",
    "[1] 0.4428186730553189\n",
    "> res_mb_hk$seTE.fixed\n",
    "[1] 0.08928560091027186\n",
    "> c(res_mb_hk$lower.fixed, res_mb_hk$upper.fixed)\n",
    "[1] 0.2678221109331694 0.6178152351774684\n",
    " \n",
    "```\n"
   ]
  },
  {
   "cell_type": "code",
   "execution_count": 42,
   "metadata": {
    "execution": {
     "iopub.execute_input": "2021-02-02T06:55:25.392012Z",
     "iopub.status.busy": "2021-02-02T06:55:25.391519Z",
     "iopub.status.idle": "2021-02-02T06:55:25.395541Z",
     "shell.execute_reply": "2021-02-02T06:55:25.395152Z"
    }
   },
   "outputs": [
    {
     "name": "stdout",
     "output_type": "stream",
     "text": [
      "                   Estimate   LCB    UCB \n",
      "-----------------------------------------\n",
      "Pooled odds           1.557   1.307 1.855\n",
      "Pooled log odds       0.443   0.268 0.618\n",
      "Pooled risk ratio     1.270              \n",
      "                                         \n",
      "                 Statistic P-value \n",
      "-----------------------------------\n",
      "Test of OR=1        24.724   0.000 \n",
      "Test constant OR    17.647   0.345 \n",
      "                       \n",
      "-----------------------\n",
      "Number of tables   17  \n",
      "Min n              32  \n",
      "Max n             527  \n",
      "Avg n             139  \n",
      "Total n          2362  \n",
      "-----------------------\n"
     ]
    }
   ],
   "source": [
    "print(st.summary())"
   ]
  }
 ],
 "metadata": {
  "kernelspec": {
   "display_name": "Python 3",
   "language": "python",
   "name": "python3"
  },
  "language_info": {
   "codemirror_mode": {
    "name": "ipython",
    "version": 3
   },
   "file_extension": ".py",
   "mimetype": "text/x-python",
   "name": "python",
   "nbconvert_exporter": "python",
   "pygments_lexer": "ipython3",
   "version": "3.7.9"
  }
 },
 "nbformat": 4,
 "nbformat_minor": 2
}
