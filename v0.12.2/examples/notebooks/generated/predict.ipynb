{
 "cells": [
  {
   "cell_type": "markdown",
   "metadata": {},
   "source": [
    "# Prediction (out of sample)"
   ]
  },
  {
   "cell_type": "code",
   "execution_count": 1,
   "metadata": {
    "collapsed": true,
    "execution": {
     "iopub.execute_input": "2021-02-02T06:51:33.146379Z",
     "iopub.status.busy": "2021-02-02T06:51:33.145621Z",
     "iopub.status.idle": "2021-02-02T06:51:33.379390Z",
     "shell.execute_reply": "2021-02-02T06:51:33.378912Z"
    }
   },
   "outputs": [],
   "source": [
    "%matplotlib inline"
   ]
  },
  {
   "cell_type": "code",
   "execution_count": 2,
   "metadata": {
    "execution": {
     "iopub.execute_input": "2021-02-02T06:51:33.386356Z",
     "iopub.status.busy": "2021-02-02T06:51:33.383012Z",
     "iopub.status.idle": "2021-02-02T06:51:34.303579Z",
     "shell.execute_reply": "2021-02-02T06:51:34.304838Z"
    }
   },
   "outputs": [],
   "source": [
    "import numpy as np\n",
    "import matplotlib.pyplot as plt\n",
    "\n",
    "import statsmodels.api as sm\n",
    "\n",
    "plt.rc(\"figure\", figsize=(16,8))\n",
    "plt.rc(\"font\", size=14)"
   ]
  },
  {
   "cell_type": "markdown",
   "metadata": {},
   "source": [
    "## Artificial data"
   ]
  },
  {
   "cell_type": "code",
   "execution_count": 3,
   "metadata": {
    "execution": {
     "iopub.execute_input": "2021-02-02T06:51:34.309751Z",
     "iopub.status.busy": "2021-02-02T06:51:34.308995Z",
     "iopub.status.idle": "2021-02-02T06:51:34.317285Z",
     "shell.execute_reply": "2021-02-02T06:51:34.318250Z"
    }
   },
   "outputs": [],
   "source": [
    "nsample = 50\n",
    "sig = 0.25\n",
    "x1 = np.linspace(0, 20, nsample)\n",
    "X = np.column_stack((x1, np.sin(x1), (x1-5)**2))\n",
    "X = sm.add_constant(X)\n",
    "beta = [5., 0.5, 0.5, -0.02]\n",
    "y_true = np.dot(X, beta)\n",
    "y = y_true + sig * np.random.normal(size=nsample)"
   ]
  },
  {
   "cell_type": "markdown",
   "metadata": {},
   "source": [
    "## Estimation "
   ]
  },
  {
   "cell_type": "code",
   "execution_count": 4,
   "metadata": {
    "execution": {
     "iopub.execute_input": "2021-02-02T06:51:34.322852Z",
     "iopub.status.busy": "2021-02-02T06:51:34.321478Z",
     "iopub.status.idle": "2021-02-02T06:51:34.353434Z",
     "shell.execute_reply": "2021-02-02T06:51:34.354390Z"
    }
   },
   "outputs": [
    {
     "name": "stdout",
     "output_type": "stream",
     "text": [
      "                            OLS Regression Results                            \n",
      "==============================================================================\n",
      "Dep. Variable:                      y   R-squared:                       0.989\n",
      "Model:                            OLS   Adj. R-squared:                  0.988\n",
      "Method:                 Least Squares   F-statistic:                     1353.\n",
      "Date:                Tue, 02 Feb 2021   Prob (F-statistic):           7.53e-45\n",
      "Time:                        06:51:34   Log-Likelihood:                 9.2333\n",
      "No. Observations:                  50   AIC:                            -10.47\n",
      "Df Residuals:                      46   BIC:                            -2.818\n",
      "Df Model:                           3                                         \n",
      "Covariance Type:            nonrobust                                         \n",
      "==============================================================================\n",
      "                 coef    std err          t      P>|t|      [0.025      0.975]\n",
      "------------------------------------------------------------------------------\n",
      "const          4.9077      0.071     68.652      0.000       4.764       5.052\n",
      "x1             0.5179      0.011     46.976      0.000       0.496       0.540\n",
      "x2             0.4952      0.043     11.426      0.000       0.408       0.582\n",
      "x3            -0.0212      0.001    -21.864      0.000      -0.023      -0.019\n",
      "==============================================================================\n",
      "Omnibus:                        0.349   Durbin-Watson:                   2.124\n",
      "Prob(Omnibus):                  0.840   Jarque-Bera (JB):                0.521\n",
      "Skew:                           0.059   Prob(JB):                        0.771\n",
      "Kurtosis:                       2.514   Cond. No.                         221.\n",
      "==============================================================================\n",
      "\n",
      "Notes:\n",
      "[1] Standard Errors assume that the covariance matrix of the errors is correctly specified.\n"
     ]
    }
   ],
   "source": [
    "olsmod = sm.OLS(y, X)\n",
    "olsres = olsmod.fit()\n",
    "print(olsres.summary())"
   ]
  },
  {
   "cell_type": "markdown",
   "metadata": {},
   "source": [
    "## In-sample prediction"
   ]
  },
  {
   "cell_type": "code",
   "execution_count": 5,
   "metadata": {
    "execution": {
     "iopub.execute_input": "2021-02-02T06:51:34.358836Z",
     "iopub.status.busy": "2021-02-02T06:51:34.357459Z",
     "iopub.status.idle": "2021-02-02T06:51:34.368689Z",
     "shell.execute_reply": "2021-02-02T06:51:34.369677Z"
    }
   },
   "outputs": [
    {
     "name": "stdout",
     "output_type": "stream",
     "text": [
      "[ 4.37860807  4.86941945  5.3208846   5.70601499  6.00756216  6.22085149\n",
      "  6.35455029  6.42924376  6.47405292  6.52185006  6.60385799  6.74452017\n",
      "  6.95748471  7.24336207  7.58962472  7.97266541  8.36167575  8.72370795\n",
      "  9.02908805  9.25629127  9.39547846  9.45011268  9.43639015  9.38057936\n",
      "  9.31470514  9.27128714  9.2779969   9.3531115   9.50251071  9.71871094\n",
      "  9.98209478 10.26413409 10.53207707 10.75432932 10.90564469 10.97127316\n",
      " 10.94938421 10.85136759 10.69996201 10.52551924 10.36101737 10.23664264\n",
      " 10.17482992 10.1865767  10.26963625 10.40888677 10.57881582 10.74771197\n",
      " 10.88287489 10.95598792]\n"
     ]
    }
   ],
   "source": [
    "ypred = olsres.predict(X)\n",
    "print(ypred)"
   ]
  },
  {
   "cell_type": "markdown",
   "metadata": {},
   "source": [
    "## Create a new sample of explanatory variables Xnew, predict and plot"
   ]
  },
  {
   "cell_type": "code",
   "execution_count": 6,
   "metadata": {
    "execution": {
     "iopub.execute_input": "2021-02-02T06:51:34.377097Z",
     "iopub.status.busy": "2021-02-02T06:51:34.372678Z",
     "iopub.status.idle": "2021-02-02T06:51:34.382005Z",
     "shell.execute_reply": "2021-02-02T06:51:34.382955Z"
    }
   },
   "outputs": [
    {
     "name": "stdout",
     "output_type": "stream",
     "text": [
      "[10.93372496 10.78001952 10.51429186 10.18079828  9.83779567  9.54327813\n",
      "  9.34077806  9.24870787  9.25585197  9.32411278]\n"
     ]
    }
   ],
   "source": [
    "x1n = np.linspace(20.5,25, 10)\n",
    "Xnew = np.column_stack((x1n, np.sin(x1n), (x1n-5)**2))\n",
    "Xnew = sm.add_constant(Xnew)\n",
    "ynewpred =  olsres.predict(Xnew) # predict out of sample\n",
    "print(ynewpred)"
   ]
  },
  {
   "cell_type": "markdown",
   "metadata": {},
   "source": [
    "## Plot comparison"
   ]
  },
  {
   "cell_type": "code",
   "execution_count": 7,
   "metadata": {
    "execution": {
     "iopub.execute_input": "2021-02-02T06:51:34.387208Z",
     "iopub.status.busy": "2021-02-02T06:51:34.385835Z",
     "iopub.status.idle": "2021-02-02T06:51:34.757276Z",
     "shell.execute_reply": "2021-02-02T06:51:34.758305Z"
    }
   },
   "outputs": [
    {
     "data": {
      "text/plain": [
       "<matplotlib.legend.Legend at 0x7fd9b3540150>"
      ]
     },
     "execution_count": 1,
     "metadata": {},
     "output_type": "execute_result"
    },
    {
     "data": {
      "image/png": "[encoded data removed]",
      "text/plain": [
       "<Figure size 1152x576 with 1 Axes>"
      ]
     },
     "metadata": {
      "needs_background": "light"
     },
     "output_type": "display_data"
    }
   ],
   "source": [
    "import matplotlib.pyplot as plt\n",
    "\n",
    "fig, ax = plt.subplots()\n",
    "ax.plot(x1, y, 'o', label=\"Data\")\n",
    "ax.plot(x1, y_true, 'b-', label=\"True\")\n",
    "ax.plot(np.hstack((x1, x1n)), np.hstack((ypred, ynewpred)), 'r', label=\"OLS prediction\")\n",
    "ax.legend(loc=\"best\");"
   ]
  },
  {
   "cell_type": "markdown",
   "metadata": {},
   "source": [
    "## Predicting with Formulas"
   ]
  },
  {
   "cell_type": "markdown",
   "metadata": {},
   "source": [
    "Using formulas can make both estimation and prediction a lot easier"
   ]
  },
  {
   "cell_type": "code",
   "execution_count": 8,
   "metadata": {
    "execution": {
     "iopub.execute_input": "2021-02-02T06:51:34.763089Z",
     "iopub.status.busy": "2021-02-02T06:51:34.761717Z",
     "iopub.status.idle": "2021-02-02T06:51:34.774030Z",
     "shell.execute_reply": "2021-02-02T06:51:34.775034Z"
    }
   },
   "outputs": [],
   "source": [
    "from statsmodels.formula.api import ols\n",
    "\n",
    "data = {\"x1\" : x1, \"y\" : y}\n",
    "\n",
    "res = ols(\"y ~ x1 + np.sin(x1) + I((x1-5)**2)\", data=data).fit()"
   ]
  },
  {
   "cell_type": "markdown",
   "metadata": {},
   "source": [
    "We use the `I` to indicate use of the Identity transform. Ie., we do not want any expansion magic from using `**2`"
   ]
  },
  {
   "cell_type": "code",
   "execution_count": 9,
   "metadata": {
    "execution": {
     "iopub.execute_input": "2021-02-02T06:51:34.779526Z",
     "iopub.status.busy": "2021-02-02T06:51:34.778179Z",
     "iopub.status.idle": "2021-02-02T06:51:34.788582Z",
     "shell.execute_reply": "2021-02-02T06:51:34.789551Z"
    }
   },
   "outputs": [
    {
     "data": {
      "text/plain": [
       "Intercept           4.907719\n",
       "x1                  0.517908\n",
       "np.sin(x1)          0.495210\n",
       "I((x1 - 5) ** 2)   -0.021164\n",
       "dtype: float64"
      ]
     },
     "execution_count": 1,
     "metadata": {},
     "output_type": "execute_result"
    }
   ],
   "source": [
    "res.params"
   ]
  },
  {
   "cell_type": "markdown",
   "metadata": {},
   "source": [
    "Now we only have to pass the single variable and we get the transformed right-hand side variables automatically"
   ]
  },
  {
   "cell_type": "code",
   "execution_count": 10,
   "metadata": {
    "execution": {
     "iopub.execute_input": "2021-02-02T06:51:34.793911Z",
     "iopub.status.busy": "2021-02-02T06:51:34.792574Z",
     "iopub.status.idle": "2021-02-02T06:51:34.803099Z",
     "shell.execute_reply": "2021-02-02T06:51:34.804074Z"
    }
   },
   "outputs": [
    {
     "data": {
      "text/plain": [
       "0    10.933725\n",
       "1    10.780020\n",
       "2    10.514292\n",
       "3    10.180798\n",
       "4     9.837796\n",
       "5     9.543278\n",
       "6     9.340778\n",
       "7     9.248708\n",
       "8     9.255852\n",
       "9     9.324113\n",
       "dtype: float64"
      ]
     },
     "execution_count": 1,
     "metadata": {},
     "output_type": "execute_result"
    }
   ],
   "source": [
    "res.predict(exog=dict(x1=x1n))"
   ]
  }
 ],
 "metadata": {
  "kernelspec": {
   "display_name": "Python 3",
   "language": "python",
   "name": "python3"
  },
  "language_info": {
   "codemirror_mode": {
    "name": "ipython",
    "version": 3
   },
   "file_extension": ".py",
   "mimetype": "text/x-python",
   "name": "python",
   "nbconvert_exporter": "python",
   "pygments_lexer": "ipython3",
   "version": "3.7.9"
  }
 },
 "nbformat": 4,
 "nbformat_minor": 1
}
