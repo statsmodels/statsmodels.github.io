{
 "cells": [
  {
   "cell_type": "markdown",
   "id": "8732de12-d3f2-4a09-8c39-e5c52a5ac94a",
   "metadata": {},
   "source": [
    "# Autoregressive Distributed Lag (ARDL) models\n",
    "\n",
    "\n",
    "## ARDL Models\n",
    "\n",
    "Autoregressive Distributed Lag (ARDL) models extend Autoregressive models with lags of explanatory variables. While ARDL models are technically AR-X models, the key difference is that ARDL models focus on the exogenous variables and selecting the correct lag structure from both the endogenous variable and the exogenous variables.  ARDL models are also closely related to Vector Autoregressions, and a single ARDL is effectively one row of a VAR.  The key distinction is that an ARDL assumes that the exogenous variables are exogenous in the sense that it is not necessary to include the endogenous variable as a predictor of the exogenous variables.\n",
    "\n",
    "The full specification of ARDL models is\n",
    "\n",
    "$$\n",
    "Y_t = \\underset{\\text{Constant and Trend}}{\\underbrace{\\delta_0 + \\delta_1 t + \\ldots + \\delta_k t^k}} \n",
    "      + \\underset{\\text{Seasonal}}{\\underbrace{\\sum_{i=0}^{s-1} \\gamma_i S_i}}\n",
    "      + \\underset{\\text{Autoregressive}}{\\underbrace{\\sum_{p=1}^P \\phi_p Y_{t-p}}}\n",
    "      + \\underset{\\text{Distributed Lag}}{\\underbrace{\\sum_{k=1}^M \\sum_{j=0}^{Q_k} \\beta_{k,j} X_{k, t-j}}}\n",
    "      + \\underset{\\text{Fixed}}{\\underbrace{Z_t \\Gamma}} + \\epsilon_t\n",
    "$$\n",
    "\n",
    "The terms in the model are:\n",
    "\n",
    "* $\\delta_i$: constant and deterministic time regressors.  Set using `trend`.\n",
    "* $S_i$ are seasonal dummies which are included if `seasonal=True`.\n",
    "* $X_{k,t-j}$ are the exogenous regressors. There are a number of formats that can be used to specify which lags are included. Note that the included lag lengths do no need to be the same. If `causal=True`, then the lags start with lag 1. Otherwise lags begin with 0 so that the model included the contemporaneous relationship between $Y_t$ and $X_t$.\n",
    "* $Z_t$ are any other fixed regressors that are not part of the distributed lag specification. In practice these regressors may be included when they do no contribute to the long run-relationship between $Y_t$ and the vector of exogenous variables $X_t$.\n",
    "* $\\{\\epsilon_t\\}$ is assumed to be a White Noise process"
   ]
  },
  {
   "cell_type": "code",
   "execution_count": 1,
   "id": "f7bb53a8-63a9-4f11-a9db-eb09280d457d",
   "metadata": {
    "execution": {
     "iopub.execute_input": "2025-09-08T14:04:30.265806Z",
     "iopub.status.busy": "2025-09-08T14:04:30.265585Z",
     "iopub.status.idle": "2025-09-08T14:04:33.806571Z",
     "shell.execute_reply": "2025-09-08T14:04:33.803297Z"
    }
   },
   "outputs": [],
   "source": [
    "import numpy as np\n",
    "import pandas as pd\n",
    "import seaborn as sns\n",
    "\n",
    "sns.set_style(\"darkgrid\")\n",
    "sns.mpl.rc(\"figure\", figsize=(16, 6))\n",
    "sns.mpl.rc(\"font\", size=14)"
   ]
  },
  {
   "cell_type": "markdown",
   "id": "f2df3123-3ef9-4bc5-bc3f-c2d3f2fe945d",
   "metadata": {},
   "source": [
    "### Data\n",
    "\n",
    "This notebook makes use of money demand data from Denmark, as first used in  S. Johansen and K. Juselius (1990).  The key variables are:\n",
    "\n",
    "* `lrm`: Log of real money measured using M2\n",
    "* `lry`: Log of real income\n",
    "* `ibo`: Interest rate on bonds\n",
    "* `ide`: Interest rate of bank deposits\n",
    "\n",
    "The standard model uses `lrm` as the dependent variable and the other three as exogenous drivers.\n",
    "\n",
    "Johansen, S. and Juselius, K. (1990), Maximum Likelihood Estimation and Inference on Cointegration – with Applications to the Demand for Money, Oxford Bulletin of Economics and Statistics, 52, 2, 169–210.\n",
    "\n",
    "We start by loading the data and examining it."
   ]
  },
  {
   "cell_type": "code",
   "execution_count": 2,
   "id": "e835b518-53f6-45de-9c93-d397eaa08831",
   "metadata": {
    "execution": {
     "iopub.execute_input": "2025-09-08T14:04:33.814624Z",
     "iopub.status.busy": "2025-09-08T14:04:33.813312Z",
     "iopub.status.idle": "2025-09-08T14:04:34.412033Z",
     "shell.execute_reply": "2025-09-08T14:04:34.411286Z"
    }
   },
   "outputs": [
    {
     "data": {
      "text/html": [
       "<div>\n",
       "<style scoped>\n",
       "    .dataframe tbody tr th:only-of-type {\n",
       "        vertical-align: middle;\n",
       "    }\n",
       "\n",
       "    .dataframe tbody tr th {\n",
       "        vertical-align: top;\n",
       "    }\n",
       "\n",
       "    .dataframe thead th {\n",
       "        text-align: right;\n",
       "    }\n",
       "</style>\n",
       "<table border=\"1\" class=\"dataframe\">\n",
       "  <thead>\n",
       "    <tr style=\"text-align: right;\">\n",
       "      <th></th>\n",
       "      <th>lrm</th>\n",
       "      <th>lry</th>\n",
       "      <th>ibo</th>\n",
       "      <th>ide</th>\n",
       "    </tr>\n",
       "    <tr>\n",
       "      <th>period</th>\n",
       "      <th></th>\n",
       "      <th></th>\n",
       "      <th></th>\n",
       "      <th></th>\n",
       "    </tr>\n",
       "  </thead>\n",
       "  <tbody>\n",
       "    <tr>\n",
       "      <th>1986-07-01</th>\n",
       "      <td>12.056189</td>\n",
       "      <td>6.098992</td>\n",
       "      <td>0.111500</td>\n",
       "      <td>0.067941</td>\n",
       "    </tr>\n",
       "    <tr>\n",
       "      <th>1986-10-01</th>\n",
       "      <td>12.071628</td>\n",
       "      <td>6.080706</td>\n",
       "      <td>0.114267</td>\n",
       "      <td>0.075396</td>\n",
       "    </tr>\n",
       "    <tr>\n",
       "      <th>1987-01-01</th>\n",
       "      <td>12.027952</td>\n",
       "      <td>6.061175</td>\n",
       "      <td>0.119333</td>\n",
       "      <td>0.076653</td>\n",
       "    </tr>\n",
       "    <tr>\n",
       "      <th>1987-04-01</th>\n",
       "      <td>12.039788</td>\n",
       "      <td>6.063730</td>\n",
       "      <td>0.117333</td>\n",
       "      <td>0.076259</td>\n",
       "    </tr>\n",
       "    <tr>\n",
       "      <th>1987-07-01</th>\n",
       "      <td>12.015294</td>\n",
       "      <td>6.050830</td>\n",
       "      <td>0.118967</td>\n",
       "      <td>0.075163</td>\n",
       "    </tr>\n",
       "  </tbody>\n",
       "</table>\n",
       "</div>"
      ],
      "text/plain": [
       "                  lrm       lry       ibo       ide\n",
       "period                                             \n",
       "1986-07-01  12.056189  6.098992  0.111500  0.067941\n",
       "1986-10-01  12.071628  6.080706  0.114267  0.075396\n",
       "1987-01-01  12.027952  6.061175  0.119333  0.076653\n",
       "1987-04-01  12.039788  6.063730  0.117333  0.076259\n",
       "1987-07-01  12.015294  6.050830  0.118967  0.075163"
      ]
     },
     "execution_count": 2,
     "metadata": {},
     "output_type": "execute_result"
    }
   ],
   "source": [
    "from statsmodels.datasets.danish_data import load\n",
    "from statsmodels.tsa.api import ARDL\n",
    "from statsmodels.tsa.ardl import ardl_select_order\n",
    "\n",
    "data = load().data\n",
    "data = data[[\"lrm\", \"lry\", \"ibo\", \"ide\"]]\n",
    "data.tail()"
   ]
  },
  {
   "cell_type": "markdown",
   "id": "32139ec2-4e69-4e53-a5b9-a6aef64edefe",
   "metadata": {},
   "source": [
    "We plot the demeaned data so that all series appear on the same scale. The `lrm` series appears to be non-stationary, as does `lry`. The stationarity of the other two is less obvious."
   ]
  },
  {
   "cell_type": "code",
   "execution_count": 3,
   "id": "6ca52a18-3752-4c65-9043-6c91ba543d44",
   "metadata": {
    "execution": {
     "iopub.execute_input": "2025-09-08T14:04:34.418014Z",
     "iopub.status.busy": "2025-09-08T14:04:34.417775Z",
     "iopub.status.idle": "2025-09-08T14:04:35.058662Z",
     "shell.execute_reply": "2025-09-08T14:04:35.055602Z"
    }
   },
   "outputs": [
    {
     "data": {
      "image/png": "[encoded data removed]",
      "text/plain": [
       "<Figure size 1600x600 with 1 Axes>"
      ]
     },
     "metadata": {},
     "output_type": "display_data"
    }
   ],
   "source": [
    "_ = (data - data.mean()).plot()"
   ]
  },
  {
   "cell_type": "markdown",
   "id": "176dacd0-70c0-456a-969f-3c4ae980948f",
   "metadata": {},
   "source": [
    "### Model Selection\n",
    "\n",
    "`ardl_select_order` can be used to automatically select the order. Here we use min the minimum AIC among all modes that consider up to 3 lags of the endogenous variable and 3 lags of each exogenous variable. `trend=\"c\"` indicates that a constant should be included in the model."
   ]
  },
  {
   "cell_type": "code",
   "execution_count": 4,
   "id": "2da134f2-5cf5-484c-833e-b70ddef76d4d",
   "metadata": {
    "execution": {
     "iopub.execute_input": "2025-09-08T14:04:35.062135Z",
     "iopub.status.busy": "2025-09-08T14:04:35.061756Z",
     "iopub.status.idle": "2025-09-08T14:04:35.203604Z",
     "shell.execute_reply": "2025-09-08T14:04:35.198021Z"
    }
   },
   "outputs": [
    {
     "name": "stdout",
     "output_type": "stream",
     "text": [
      "The optimal order is: (3, 1, 3, 2)\n"
     ]
    }
   ],
   "source": [
    "sel_res = ardl_select_order(\n",
    "    data.lrm, 3, data[[\"lry\", \"ibo\", \"ide\"]], 3, ic=\"aic\", trend=\"c\"\n",
    ")\n",
    "print(f\"The optimal order is: {sel_res.model.ardl_order}\")"
   ]
  },
  {
   "cell_type": "markdown",
   "id": "3ecf7091-5de4-4bbb-8952-326ca32b99b6",
   "metadata": {},
   "source": [
    "The optimal order is returned as the number of lags of the endogenous variable followed by each of the exogenous regressors.  The attribute `model` on `sel_res` contains the model `ARDL` specification which can be used to call `fit`. Here we look at the summary where the `L#` indicates that lag length (e.g., `L0` is no lag, i.e., $X_{k,t}$, `L2` is 2 lags, i.e., $X_{k,t-2}$)."
   ]
  },
  {
   "cell_type": "code",
   "execution_count": 5,
   "id": "b5416d92-6b08-4b09-ac70-bccb4711dd7e",
   "metadata": {
    "execution": {
     "iopub.execute_input": "2025-09-08T14:04:35.210151Z",
     "iopub.status.busy": "2025-09-08T14:04:35.209763Z",
     "iopub.status.idle": "2025-09-08T14:04:35.283323Z",
     "shell.execute_reply": "2025-09-08T14:04:35.282347Z"
    }
   },
   "outputs": [
    {
     "data": {
      "text/html": [
       "<table class=\"simpletable\">\n",
       "<caption>ARDL Model Results</caption>\n",
       "<tr>\n",
       "  <th>Dep. Variable:</th>        <td>lrm</td>       <th>  No. Observations:  </th>    <td>55</td>   \n",
       "</tr>\n",
       "<tr>\n",
       "  <th>Model:</th>         <td>ARDL(3, 1, 3, 2)</td> <th>  Log Likelihood     </th>  <td>139.513</td>\n",
       "</tr>\n",
       "<tr>\n",
       "  <th>Method:</th>         <td>Conditional MLE</td> <th>  S.D. of innovations</th>   <td>0.017</td> \n",
       "</tr>\n",
       "<tr>\n",
       "  <th>Date:</th>          <td>Mon, 08 Sep 2025</td> <th>  AIC                </th> <td>-251.026</td>\n",
       "</tr>\n",
       "<tr>\n",
       "  <th>Time:</th>              <td>14:04:35</td>     <th>  BIC                </th> <td>-223.708</td>\n",
       "</tr>\n",
       "<tr>\n",
       "  <th>Sample:</th>           <td>10-01-1974</td>    <th>  HQIC               </th> <td>-240.553</td>\n",
       "</tr>\n",
       "<tr>\n",
       "  <th></th>                 <td>- 07-01-1987</td>   <th>                     </th>     <td> </td>   \n",
       "</tr>\n",
       "</table>\n",
       "<table class=\"simpletable\">\n",
       "<tr>\n",
       "     <td></td>       <th>coef</th>     <th>std err</th>      <th>z</th>      <th>P>|z|</th>  <th>[0.025</th>    <th>0.975]</th>  \n",
       "</tr>\n",
       "<tr>\n",
       "  <th>const</th>  <td>    2.6202</td> <td>    0.568</td> <td>    4.615</td> <td> 0.000</td> <td>    1.472</td> <td>    3.769</td>\n",
       "</tr>\n",
       "<tr>\n",
       "  <th>lrm.L1</th> <td>    0.3192</td> <td>    0.137</td> <td>    2.336</td> <td> 0.025</td> <td>    0.043</td> <td>    0.596</td>\n",
       "</tr>\n",
       "<tr>\n",
       "  <th>lrm.L2</th> <td>    0.5326</td> <td>    0.132</td> <td>    4.024</td> <td> 0.000</td> <td>    0.265</td> <td>    0.800</td>\n",
       "</tr>\n",
       "<tr>\n",
       "  <th>lrm.L3</th> <td>   -0.2687</td> <td>    0.102</td> <td>   -2.631</td> <td> 0.012</td> <td>   -0.475</td> <td>   -0.062</td>\n",
       "</tr>\n",
       "<tr>\n",
       "  <th>lry.L0</th> <td>    0.6728</td> <td>    0.131</td> <td>    5.129</td> <td> 0.000</td> <td>    0.407</td> <td>    0.938</td>\n",
       "</tr>\n",
       "<tr>\n",
       "  <th>lry.L1</th> <td>   -0.2574</td> <td>    0.147</td> <td>   -1.749</td> <td> 0.088</td> <td>   -0.555</td> <td>    0.040</td>\n",
       "</tr>\n",
       "<tr>\n",
       "  <th>ibo.L0</th> <td>   -1.0785</td> <td>    0.322</td> <td>   -3.353</td> <td> 0.002</td> <td>   -1.729</td> <td>   -0.428</td>\n",
       "</tr>\n",
       "<tr>\n",
       "  <th>ibo.L1</th> <td>   -0.1062</td> <td>    0.586</td> <td>   -0.181</td> <td> 0.857</td> <td>   -1.291</td> <td>    1.079</td>\n",
       "</tr>\n",
       "<tr>\n",
       "  <th>ibo.L2</th> <td>    0.2877</td> <td>    0.569</td> <td>    0.505</td> <td> 0.616</td> <td>   -0.863</td> <td>    1.439</td>\n",
       "</tr>\n",
       "<tr>\n",
       "  <th>ibo.L3</th> <td>   -0.9947</td> <td>    0.393</td> <td>   -2.534</td> <td> 0.015</td> <td>   -1.789</td> <td>   -0.201</td>\n",
       "</tr>\n",
       "<tr>\n",
       "  <th>ide.L0</th> <td>    0.1255</td> <td>    0.554</td> <td>    0.226</td> <td> 0.822</td> <td>   -0.996</td> <td>    1.247</td>\n",
       "</tr>\n",
       "<tr>\n",
       "  <th>ide.L1</th> <td>   -0.3280</td> <td>    0.721</td> <td>   -0.455</td> <td> 0.652</td> <td>   -1.787</td> <td>    1.131</td>\n",
       "</tr>\n",
       "<tr>\n",
       "  <th>ide.L2</th> <td>    1.4079</td> <td>    0.552</td> <td>    2.550</td> <td> 0.015</td> <td>    0.291</td> <td>    2.524</td>\n",
       "</tr>\n",
       "</table>"
      ],
      "text/latex": [
       "\\begin{center}\n",
       "\\begin{tabular}{lclc}\n",
       "\\toprule\n",
       "\\textbf{Dep. Variable:} &       lrm        & \\textbf{  No. Observations:  } &     55      \\\\\n",
       "\\textbf{Model:}         & ARDL(3, 1, 3, 2) & \\textbf{  Log Likelihood     } &  139.513    \\\\\n",
       "\\textbf{Method:}        & Conditional MLE  & \\textbf{  S.D. of innovations} &   0.017     \\\\\n",
       "\\textbf{Date:}          & Mon, 08 Sep 2025 & \\textbf{  AIC                } &  -251.026   \\\\\n",
       "\\textbf{Time:}          &     14:04:35     & \\textbf{  BIC                } &  -223.708   \\\\\n",
       "\\textbf{Sample:}        &    10-01-1974    & \\textbf{  HQIC               } &  -240.553   \\\\\n",
       "\\textbf{}               &   - 07-01-1987   & \\textbf{                     } &             \\\\\n",
       "\\bottomrule\n",
       "\\end{tabular}\n",
       "\\begin{tabular}{lcccccc}\n",
       "                & \\textbf{coef} & \\textbf{std err} & \\textbf{z} & \\textbf{P$> |$z$|$} & \\textbf{[0.025} & \\textbf{0.975]}  \\\\\n",
       "\\midrule\n",
       "\\textbf{const}  &       2.6202  &        0.568     &     4.615  &         0.000        &        1.472    &        3.769     \\\\\n",
       "\\textbf{lrm.L1} &       0.3192  &        0.137     &     2.336  &         0.025        &        0.043    &        0.596     \\\\\n",
       "\\textbf{lrm.L2} &       0.5326  &        0.132     &     4.024  &         0.000        &        0.265    &        0.800     \\\\\n",
       "\\textbf{lrm.L3} &      -0.2687  &        0.102     &    -2.631  &         0.012        &       -0.475    &       -0.062     \\\\\n",
       "\\textbf{lry.L0} &       0.6728  &        0.131     &     5.129  &         0.000        &        0.407    &        0.938     \\\\\n",
       "\\textbf{lry.L1} &      -0.2574  &        0.147     &    -1.749  &         0.088        &       -0.555    &        0.040     \\\\\n",
       "\\textbf{ibo.L0} &      -1.0785  &        0.322     &    -3.353  &         0.002        &       -1.729    &       -0.428     \\\\\n",
       "\\textbf{ibo.L1} &      -0.1062  &        0.586     &    -0.181  &         0.857        &       -1.291    &        1.079     \\\\\n",
       "\\textbf{ibo.L2} &       0.2877  &        0.569     &     0.505  &         0.616        &       -0.863    &        1.439     \\\\\n",
       "\\textbf{ibo.L3} &      -0.9947  &        0.393     &    -2.534  &         0.015        &       -1.789    &       -0.201     \\\\\n",
       "\\textbf{ide.L0} &       0.1255  &        0.554     &     0.226  &         0.822        &       -0.996    &        1.247     \\\\\n",
       "\\textbf{ide.L1} &      -0.3280  &        0.721     &    -0.455  &         0.652        &       -1.787    &        1.131     \\\\\n",
       "\\textbf{ide.L2} &       1.4079  &        0.552     &     2.550  &         0.015        &        0.291    &        2.524     \\\\\n",
       "\\bottomrule\n",
       "\\end{tabular}\n",
       "%\\caption{ARDL Model Results}\n",
       "\\end{center}"
      ],
      "text/plain": [
       "<class 'statsmodels.iolib.summary.Summary'>\n",
       "\"\"\"\n",
       "                              ARDL Model Results                              \n",
       "==============================================================================\n",
       "Dep. Variable:                    lrm   No. Observations:                   55\n",
       "Model:               ARDL(3, 1, 3, 2)   Log Likelihood                 139.513\n",
       "Method:               Conditional MLE   S.D. of innovations              0.017\n",
       "Date:                Mon, 08 Sep 2025   AIC                           -251.026\n",
       "Time:                        14:04:35   BIC                           -223.708\n",
       "Sample:                    10-01-1974   HQIC                          -240.553\n",
       "                         - 07-01-1987                                         \n",
       "==============================================================================\n",
       "                 coef    std err          z      P>|z|      [0.025      0.975]\n",
       "------------------------------------------------------------------------------\n",
       "const          2.6202      0.568      4.615      0.000       1.472       3.769\n",
       "lrm.L1         0.3192      0.137      2.336      0.025       0.043       0.596\n",
       "lrm.L2         0.5326      0.132      4.024      0.000       0.265       0.800\n",
       "lrm.L3        -0.2687      0.102     -2.631      0.012      -0.475      -0.062\n",
       "lry.L0         0.6728      0.131      5.129      0.000       0.407       0.938\n",
       "lry.L1        -0.2574      0.147     -1.749      0.088      -0.555       0.040\n",
       "ibo.L0        -1.0785      0.322     -3.353      0.002      -1.729      -0.428\n",
       "ibo.L1        -0.1062      0.586     -0.181      0.857      -1.291       1.079\n",
       "ibo.L2         0.2877      0.569      0.505      0.616      -0.863       1.439\n",
       "ibo.L3        -0.9947      0.393     -2.534      0.015      -1.789      -0.201\n",
       "ide.L0         0.1255      0.554      0.226      0.822      -0.996       1.247\n",
       "ide.L1        -0.3280      0.721     -0.455      0.652      -1.787       1.131\n",
       "ide.L2         1.4079      0.552      2.550      0.015       0.291       2.524\n",
       "==============================================================================\n",
       "\"\"\""
      ]
     },
     "execution_count": 5,
     "metadata": {},
     "output_type": "execute_result"
    }
   ],
   "source": [
    "res = sel_res.model.fit()\n",
    "res.summary()"
   ]
  },
  {
   "cell_type": "markdown",
   "id": "65f52544-1804-4266-80ea-10556b315003",
   "metadata": {},
   "source": [
    "### Global searches\n",
    "\n",
    "The selection criteria can be switched the BIC which chooses a smaller model. Here we also use the `glob=True` option to perform a global search which considers models with any subset of lags up to the maximum lag allowed (3 here).  This option lets the model selection choose non-contiguous lag specifications."
   ]
  },
  {
   "cell_type": "code",
   "execution_count": 6,
   "id": "eb24d882-facd-4e61-ad72-0a2ac5e362c8",
   "metadata": {
    "execution": {
     "iopub.execute_input": "2025-09-08T14:04:35.288628Z",
     "iopub.status.busy": "2025-09-08T14:04:35.288373Z",
     "iopub.status.idle": "2025-09-08T14:04:44.612048Z",
     "shell.execute_reply": "2025-09-08T14:04:44.611415Z"
    }
   },
   "outputs": [
    {
     "data": {
      "text/plain": [
       "(3, 0, 3, 2)"
      ]
     },
     "execution_count": 6,
     "metadata": {},
     "output_type": "execute_result"
    }
   ],
   "source": [
    "sel_res = ardl_select_order(\n",
    "    data.lrm, 3, data[[\"lry\", \"ibo\", \"ide\"]], 3, ic=\"bic\", trend=\"c\", glob=True\n",
    ")\n",
    "sel_res.model.ardl_order"
   ]
  },
  {
   "cell_type": "markdown",
   "id": "39c7de3e-8370-4e9d-adbd-fa9ffcddaa8c",
   "metadata": {},
   "source": [
    "While the `ardl_order` shows the largest included lag of each variable, `ar_lags` and `dl_lags` show the specific lags included.  The AR component is regular in the sense that all 3 lags are included.  The DL component is not since `ibo` selects only lags 0 and 3 and ide selects only lags 2."
   ]
  },
  {
   "cell_type": "code",
   "execution_count": 7,
   "id": "51c98acb-9409-4305-85a0-c62bda98807b",
   "metadata": {
    "execution": {
     "iopub.execute_input": "2025-09-08T14:04:44.615464Z",
     "iopub.status.busy": "2025-09-08T14:04:44.614578Z",
     "iopub.status.idle": "2025-09-08T14:04:44.622879Z",
     "shell.execute_reply": "2025-09-08T14:04:44.622276Z"
    }
   },
   "outputs": [
    {
     "data": {
      "text/plain": [
       "[1, 2, 3]"
      ]
     },
     "execution_count": 7,
     "metadata": {},
     "output_type": "execute_result"
    }
   ],
   "source": [
    "sel_res.model.ar_lags"
   ]
  },
  {
   "cell_type": "code",
   "execution_count": 8,
   "id": "546ec94c-6327-4d98-ad8e-a3d62961394b",
   "metadata": {
    "execution": {
     "iopub.execute_input": "2025-09-08T14:04:44.625250Z",
     "iopub.status.busy": "2025-09-08T14:04:44.625037Z",
     "iopub.status.idle": "2025-09-08T14:04:44.632859Z",
     "shell.execute_reply": "2025-09-08T14:04:44.632255Z"
    }
   },
   "outputs": [
    {
     "data": {
      "text/plain": [
       "{'lry': [0], 'ibo': [0, 3], 'ide': [2]}"
      ]
     },
     "execution_count": 8,
     "metadata": {},
     "output_type": "execute_result"
    }
   ],
   "source": [
    "sel_res.model.dl_lags"
   ]
  },
  {
   "cell_type": "markdown",
   "id": "da5b5fcf-f2d0-41bb-8f08-5d3daff450ca",
   "metadata": {},
   "source": [
    "We can take a look at the best performing models according to the BIC which are stored in the `bic` property. `ibo` at lags 0 and 3 is consistently selected, as is `ide` at either lag 2 or 3, and `lry` at lag 0. The selected AR lags vary more, although all of the best specifications select some. "
   ]
  },
  {
   "cell_type": "code",
   "execution_count": 9,
   "id": "b3b6f0bf-8408-466b-99c9-0bce16213fa9",
   "metadata": {
    "execution": {
     "iopub.execute_input": "2025-09-08T14:04:44.634979Z",
     "iopub.status.busy": "2025-09-08T14:04:44.634766Z",
     "iopub.status.idle": "2025-09-08T14:04:44.641750Z",
     "shell.execute_reply": "2025-09-08T14:04:44.641233Z"
    }
   },
   "outputs": [
    {
     "name": "stdout",
     "output_type": "stream",
     "text": [
      "1: ((1, 2, 3), {'lry': (0,), 'ibo': (0, 3), 'ide': (2,)})\n",
      "2: ((1, 2, 3), {'lry': (0, 1), 'ibo': (0, 3), 'ide': (2,)})\n",
      "3: ((2,), {'lry': (0,), 'ibo': (0, 3), 'ide': (3,)})\n",
      "4: ((1, 2, 3), {'lry': (0, 2), 'ibo': (0, 3), 'ide': (2,)})\n",
      "5: ((2,), {'lry': (0, 2), 'ibo': (0, 3), 'ide': (2,)})\n",
      "6: ((2,), {'lry': (0, 3), 'ibo': (0, 3), 'ide': (2,)})\n",
      "7: ((2, 3), {'lry': (0,), 'ibo': (0, 3), 'ide': (2,)})\n",
      "8: ((1, 2, 3), {'lry': (0,), 'ibo': (0, 3), 'ide': (2, 3)})\n",
      "9: ((2,), {'lry': (0,), 'ibo': (0, 3), 'ide': (2, 3)})\n",
      "10: ((1, 2), {'lry': (0,), 'ibo': (0, 3), 'ide': (3,)})\n"
     ]
    }
   ],
   "source": [
    "for i, val in enumerate(sel_res.bic.head(10)):\n",
    "    print(f\"{i+1}: {val}\")"
   ]
  },
  {
   "cell_type": "markdown",
   "id": "b7b4151f-4308-4b97-a7b0-1a4a4e231d9f",
   "metadata": {},
   "source": [
    "### Direct Parameterization\n",
    "\n",
    "ARDL models can be directly specified using the `ARDL` class.  The first argument is the endogenous variable ($Y_t$). The second is the AR lags. It can be a constant, in which case lags 1, 2, ..., $P$ are included, or a list of specific lags indices to include (e.g., `[1, 4]`).  The third are the exogenous variables, and the fourth is the list of lags to include.  This can be one of\n",
    "\n",
    "* An `int`: Include lags 0, 1, ..., Q\n",
    "* A dict with column names when `exog` is a `DataFrame` or numeric column locations when `exog` is a NumPy array (e.g., `{0:1, 1: 2, 2:3}`, would match the specification below if a NumPy array was used.\n",
    "* A dict with column names (DataFrames) or integers (NumPy arrays) that contains a list of specific lags to include (e.g., `{\"lry\":[0,2], \"ibo\":[1,2]}`).\n",
    "\n",
    "The specification below matches that model selected by `ardl_select_order`."
   ]
  },
  {
   "cell_type": "code",
   "execution_count": 10,
   "id": "edc6cca1-acda-4ff0-886a-fcb69866e077",
   "metadata": {
    "execution": {
     "iopub.execute_input": "2025-09-08T14:04:44.644656Z",
     "iopub.status.busy": "2025-09-08T14:04:44.644439Z",
     "iopub.status.idle": "2025-09-08T14:04:44.699397Z",
     "shell.execute_reply": "2025-09-08T14:04:44.698876Z"
    }
   },
   "outputs": [
    {
     "data": {
      "text/html": [
       "<table class=\"simpletable\">\n",
       "<caption>ARDL Model Results</caption>\n",
       "<tr>\n",
       "  <th>Dep. Variable:</th>        <td>lrm</td>       <th>  No. Observations:  </th>    <td>55</td>   \n",
       "</tr>\n",
       "<tr>\n",
       "  <th>Model:</th>         <td>ARDL(2, 1, 2, 3)</td> <th>  Log Likelihood     </th>  <td>136.252</td>\n",
       "</tr>\n",
       "<tr>\n",
       "  <th>Method:</th>         <td>Conditional MLE</td> <th>  S.D. of innovations</th>   <td>0.019</td> \n",
       "</tr>\n",
       "<tr>\n",
       "  <th>Date:</th>          <td>Mon, 08 Sep 2025</td> <th>  AIC                </th> <td>-246.504</td>\n",
       "</tr>\n",
       "<tr>\n",
       "  <th>Time:</th>              <td>14:04:44</td>     <th>  BIC                </th> <td>-220.890</td>\n",
       "</tr>\n",
       "<tr>\n",
       "  <th>Sample:</th>           <td>10-01-1974</td>    <th>  HQIC               </th> <td>-236.654</td>\n",
       "</tr>\n",
       "<tr>\n",
       "  <th></th>                 <td>- 07-01-1987</td>   <th>                     </th>     <td> </td>   \n",
       "</tr>\n",
       "</table>\n",
       "<table class=\"simpletable\">\n",
       "<tr>\n",
       "     <td></td>       <th>coef</th>     <th>std err</th>      <th>z</th>      <th>P>|z|</th>  <th>[0.025</th>    <th>0.975]</th>  \n",
       "</tr>\n",
       "<tr>\n",
       "  <th>const</th>  <td>    2.4440</td> <td>    0.546</td> <td>    4.479</td> <td> 0.000</td> <td>    1.342</td> <td>    3.546</td>\n",
       "</tr>\n",
       "<tr>\n",
       "  <th>lrm.L1</th> <td>    0.2695</td> <td>    0.139</td> <td>    1.944</td> <td> 0.059</td> <td>   -0.011</td> <td>    0.550</td>\n",
       "</tr>\n",
       "<tr>\n",
       "  <th>lrm.L2</th> <td>    0.3409</td> <td>    0.114</td> <td>    2.993</td> <td> 0.005</td> <td>    0.111</td> <td>    0.571</td>\n",
       "</tr>\n",
       "<tr>\n",
       "  <th>lry.L0</th> <td>    0.6344</td> <td>    0.145</td> <td>    4.368</td> <td> 0.000</td> <td>    0.341</td> <td>    0.928</td>\n",
       "</tr>\n",
       "<tr>\n",
       "  <th>lry.L1</th> <td>   -0.2426</td> <td>    0.159</td> <td>   -1.527</td> <td> 0.134</td> <td>   -0.563</td> <td>    0.078</td>\n",
       "</tr>\n",
       "<tr>\n",
       "  <th>ibo.L0</th> <td>   -1.1316</td> <td>    0.359</td> <td>   -3.157</td> <td> 0.003</td> <td>   -1.856</td> <td>   -0.408</td>\n",
       "</tr>\n",
       "<tr>\n",
       "  <th>ibo.L1</th> <td>    0.1056</td> <td>    0.640</td> <td>    0.165</td> <td> 0.870</td> <td>   -1.186</td> <td>    1.397</td>\n",
       "</tr>\n",
       "<tr>\n",
       "  <th>ibo.L2</th> <td>   -0.8347</td> <td>    0.497</td> <td>   -1.679</td> <td> 0.101</td> <td>   -1.839</td> <td>    0.170</td>\n",
       "</tr>\n",
       "<tr>\n",
       "  <th>ide.L0</th> <td>    0.2849</td> <td>    0.614</td> <td>    0.464</td> <td> 0.645</td> <td>   -0.954</td> <td>    1.524</td>\n",
       "</tr>\n",
       "<tr>\n",
       "  <th>ide.L1</th> <td>    0.0433</td> <td>    0.805</td> <td>    0.054</td> <td> 0.957</td> <td>   -1.582</td> <td>    1.669</td>\n",
       "</tr>\n",
       "<tr>\n",
       "  <th>ide.L2</th> <td>    0.4429</td> <td>    0.770</td> <td>    0.575</td> <td> 0.568</td> <td>   -1.112</td> <td>    1.998</td>\n",
       "</tr>\n",
       "<tr>\n",
       "  <th>ide.L3</th> <td>    0.3671</td> <td>    0.515</td> <td>    0.713</td> <td> 0.480</td> <td>   -0.673</td> <td>    1.408</td>\n",
       "</tr>\n",
       "</table>"
      ],
      "text/latex": [
       "\\begin{center}\n",
       "\\begin{tabular}{lclc}\n",
       "\\toprule\n",
       "\\textbf{Dep. Variable:} &       lrm        & \\textbf{  No. Observations:  } &     55      \\\\\n",
       "\\textbf{Model:}         & ARDL(2, 1, 2, 3) & \\textbf{  Log Likelihood     } &  136.252    \\\\\n",
       "\\textbf{Method:}        & Conditional MLE  & \\textbf{  S.D. of innovations} &   0.019     \\\\\n",
       "\\textbf{Date:}          & Mon, 08 Sep 2025 & \\textbf{  AIC                } &  -246.504   \\\\\n",
       "\\textbf{Time:}          &     14:04:44     & \\textbf{  BIC                } &  -220.890   \\\\\n",
       "\\textbf{Sample:}        &    10-01-1974    & \\textbf{  HQIC               } &  -236.654   \\\\\n",
       "\\textbf{}               &   - 07-01-1987   & \\textbf{                     } &             \\\\\n",
       "\\bottomrule\n",
       "\\end{tabular}\n",
       "\\begin{tabular}{lcccccc}\n",
       "                & \\textbf{coef} & \\textbf{std err} & \\textbf{z} & \\textbf{P$> |$z$|$} & \\textbf{[0.025} & \\textbf{0.975]}  \\\\\n",
       "\\midrule\n",
       "\\textbf{const}  &       2.4440  &        0.546     &     4.479  &         0.000        &        1.342    &        3.546     \\\\\n",
       "\\textbf{lrm.L1} &       0.2695  &        0.139     &     1.944  &         0.059        &       -0.011    &        0.550     \\\\\n",
       "\\textbf{lrm.L2} &       0.3409  &        0.114     &     2.993  &         0.005        &        0.111    &        0.571     \\\\\n",
       "\\textbf{lry.L0} &       0.6344  &        0.145     &     4.368  &         0.000        &        0.341    &        0.928     \\\\\n",
       "\\textbf{lry.L1} &      -0.2426  &        0.159     &    -1.527  &         0.134        &       -0.563    &        0.078     \\\\\n",
       "\\textbf{ibo.L0} &      -1.1316  &        0.359     &    -3.157  &         0.003        &       -1.856    &       -0.408     \\\\\n",
       "\\textbf{ibo.L1} &       0.1056  &        0.640     &     0.165  &         0.870        &       -1.186    &        1.397     \\\\\n",
       "\\textbf{ibo.L2} &      -0.8347  &        0.497     &    -1.679  &         0.101        &       -1.839    &        0.170     \\\\\n",
       "\\textbf{ide.L0} &       0.2849  &        0.614     &     0.464  &         0.645        &       -0.954    &        1.524     \\\\\n",
       "\\textbf{ide.L1} &       0.0433  &        0.805     &     0.054  &         0.957        &       -1.582    &        1.669     \\\\\n",
       "\\textbf{ide.L2} &       0.4429  &        0.770     &     0.575  &         0.568        &       -1.112    &        1.998     \\\\\n",
       "\\textbf{ide.L3} &       0.3671  &        0.515     &     0.713  &         0.480        &       -0.673    &        1.408     \\\\\n",
       "\\bottomrule\n",
       "\\end{tabular}\n",
       "%\\caption{ARDL Model Results}\n",
       "\\end{center}"
      ],
      "text/plain": [
       "<class 'statsmodels.iolib.summary.Summary'>\n",
       "\"\"\"\n",
       "                              ARDL Model Results                              \n",
       "==============================================================================\n",
       "Dep. Variable:                    lrm   No. Observations:                   55\n",
       "Model:               ARDL(2, 1, 2, 3)   Log Likelihood                 136.252\n",
       "Method:               Conditional MLE   S.D. of innovations              0.019\n",
       "Date:                Mon, 08 Sep 2025   AIC                           -246.504\n",
       "Time:                        14:04:44   BIC                           -220.890\n",
       "Sample:                    10-01-1974   HQIC                          -236.654\n",
       "                         - 07-01-1987                                         \n",
       "==============================================================================\n",
       "                 coef    std err          z      P>|z|      [0.025      0.975]\n",
       "------------------------------------------------------------------------------\n",
       "const          2.4440      0.546      4.479      0.000       1.342       3.546\n",
       "lrm.L1         0.2695      0.139      1.944      0.059      -0.011       0.550\n",
       "lrm.L2         0.3409      0.114      2.993      0.005       0.111       0.571\n",
       "lry.L0         0.6344      0.145      4.368      0.000       0.341       0.928\n",
       "lry.L1        -0.2426      0.159     -1.527      0.134      -0.563       0.078\n",
       "ibo.L0        -1.1316      0.359     -3.157      0.003      -1.856      -0.408\n",
       "ibo.L1         0.1056      0.640      0.165      0.870      -1.186       1.397\n",
       "ibo.L2        -0.8347      0.497     -1.679      0.101      -1.839       0.170\n",
       "ide.L0         0.2849      0.614      0.464      0.645      -0.954       1.524\n",
       "ide.L1         0.0433      0.805      0.054      0.957      -1.582       1.669\n",
       "ide.L2         0.4429      0.770      0.575      0.568      -1.112       1.998\n",
       "ide.L3         0.3671      0.515      0.713      0.480      -0.673       1.408\n",
       "==============================================================================\n",
       "\"\"\""
      ]
     },
     "execution_count": 10,
     "metadata": {},
     "output_type": "execute_result"
    }
   ],
   "source": [
    "res = ARDL(\n",
    "    data.lrm, 2, data[[\"lry\", \"ibo\", \"ide\"]], {\"lry\": 1, \"ibo\": 2, \"ide\": 3}, trend=\"c\"\n",
    ").fit()\n",
    "res.summary()"
   ]
  },
  {
   "cell_type": "markdown",
   "id": "9c879d6b-da6e-4fd7-b6fd-28d1f334d397",
   "metadata": {},
   "source": [
    "### NumPy Data\n",
    "\n",
    "Below we see how the specification of ARDL models differs when using NumPy arrays.  The key difference is that the keys in the dictionary are now integers which indicate the column of `x` to use. This model is identical to the previously fit model and all key value match exactly (e.g., Log Likelihood)."
   ]
  },
  {
   "cell_type": "code",
   "execution_count": 11,
   "id": "3fcbead5-eef8-431a-83cc-6333dc1257e8",
   "metadata": {
    "execution": {
     "iopub.execute_input": "2025-09-08T14:04:44.701791Z",
     "iopub.status.busy": "2025-09-08T14:04:44.701571Z",
     "iopub.status.idle": "2025-09-08T14:04:44.761655Z",
     "shell.execute_reply": "2025-09-08T14:04:44.758592Z"
    }
   },
   "outputs": [
    {
     "data": {
      "text/html": [
       "<table class=\"simpletable\">\n",
       "<caption>ARDL Model Results</caption>\n",
       "<tr>\n",
       "  <th>Dep. Variable:</th>         <td>y</td>        <th>  No. Observations:  </th>    <td>55</td>   \n",
       "</tr>\n",
       "<tr>\n",
       "  <th>Model:</th>         <td>ARDL(2, 1, 2, 3)</td> <th>  Log Likelihood     </th>  <td>136.252</td>\n",
       "</tr>\n",
       "<tr>\n",
       "  <th>Method:</th>         <td>Conditional MLE</td> <th>  S.D. of innovations</th>   <td>0.019</td> \n",
       "</tr>\n",
       "<tr>\n",
       "  <th>Date:</th>          <td>Mon, 08 Sep 2025</td> <th>  AIC                </th> <td>-246.504</td>\n",
       "</tr>\n",
       "<tr>\n",
       "  <th>Time:</th>              <td>14:04:44</td>     <th>  BIC                </th> <td>-220.890</td>\n",
       "</tr>\n",
       "<tr>\n",
       "  <th>Sample:</th>                <td>3</td>        <th>  HQIC               </th> <td>-236.654</td>\n",
       "</tr>\n",
       "<tr>\n",
       "  <th></th>                      <td>55</td>        <th>                     </th>     <td> </td>   \n",
       "</tr>\n",
       "</table>\n",
       "<table class=\"simpletable\">\n",
       "<tr>\n",
       "    <td></td>       <th>coef</th>     <th>std err</th>      <th>z</th>      <th>P>|z|</th>  <th>[0.025</th>    <th>0.975]</th>  \n",
       "</tr>\n",
       "<tr>\n",
       "  <th>const</th> <td>    2.4440</td> <td>    0.546</td> <td>    4.479</td> <td> 0.000</td> <td>    1.342</td> <td>    3.546</td>\n",
       "</tr>\n",
       "<tr>\n",
       "  <th>y.L1</th>  <td>    0.2695</td> <td>    0.139</td> <td>    1.944</td> <td> 0.059</td> <td>   -0.011</td> <td>    0.550</td>\n",
       "</tr>\n",
       "<tr>\n",
       "  <th>y.L2</th>  <td>    0.3409</td> <td>    0.114</td> <td>    2.993</td> <td> 0.005</td> <td>    0.111</td> <td>    0.571</td>\n",
       "</tr>\n",
       "<tr>\n",
       "  <th>x0.L0</th> <td>    0.6344</td> <td>    0.145</td> <td>    4.368</td> <td> 0.000</td> <td>    0.341</td> <td>    0.928</td>\n",
       "</tr>\n",
       "<tr>\n",
       "  <th>x0.L1</th> <td>   -0.2426</td> <td>    0.159</td> <td>   -1.527</td> <td> 0.134</td> <td>   -0.563</td> <td>    0.078</td>\n",
       "</tr>\n",
       "<tr>\n",
       "  <th>x1.L0</th> <td>   -1.1316</td> <td>    0.359</td> <td>   -3.157</td> <td> 0.003</td> <td>   -1.856</td> <td>   -0.408</td>\n",
       "</tr>\n",
       "<tr>\n",
       "  <th>x1.L1</th> <td>    0.1056</td> <td>    0.640</td> <td>    0.165</td> <td> 0.870</td> <td>   -1.186</td> <td>    1.397</td>\n",
       "</tr>\n",
       "<tr>\n",
       "  <th>x1.L2</th> <td>   -0.8347</td> <td>    0.497</td> <td>   -1.679</td> <td> 0.101</td> <td>   -1.839</td> <td>    0.170</td>\n",
       "</tr>\n",
       "<tr>\n",
       "  <th>x2.L0</th> <td>    0.2849</td> <td>    0.614</td> <td>    0.464</td> <td> 0.645</td> <td>   -0.954</td> <td>    1.524</td>\n",
       "</tr>\n",
       "<tr>\n",
       "  <th>x2.L1</th> <td>    0.0433</td> <td>    0.805</td> <td>    0.054</td> <td> 0.957</td> <td>   -1.582</td> <td>    1.669</td>\n",
       "</tr>\n",
       "<tr>\n",
       "  <th>x2.L2</th> <td>    0.4429</td> <td>    0.770</td> <td>    0.575</td> <td> 0.568</td> <td>   -1.112</td> <td>    1.998</td>\n",
       "</tr>\n",
       "<tr>\n",
       "  <th>x2.L3</th> <td>    0.3671</td> <td>    0.515</td> <td>    0.713</td> <td> 0.480</td> <td>   -0.673</td> <td>    1.408</td>\n",
       "</tr>\n",
       "</table>"
      ],
      "text/latex": [
       "\\begin{center}\n",
       "\\begin{tabular}{lclc}\n",
       "\\toprule\n",
       "\\textbf{Dep. Variable:} &        y         & \\textbf{  No. Observations:  } &     55      \\\\\n",
       "\\textbf{Model:}         & ARDL(2, 1, 2, 3) & \\textbf{  Log Likelihood     } &  136.252    \\\\\n",
       "\\textbf{Method:}        & Conditional MLE  & \\textbf{  S.D. of innovations} &   0.019     \\\\\n",
       "\\textbf{Date:}          & Mon, 08 Sep 2025 & \\textbf{  AIC                } &  -246.504   \\\\\n",
       "\\textbf{Time:}          &     14:04:44     & \\textbf{  BIC                } &  -220.890   \\\\\n",
       "\\textbf{Sample:}        &        3         & \\textbf{  HQIC               } &  -236.654   \\\\\n",
       "\\textbf{}               &        55        & \\textbf{                     } &             \\\\\n",
       "\\bottomrule\n",
       "\\end{tabular}\n",
       "\\begin{tabular}{lcccccc}\n",
       "               & \\textbf{coef} & \\textbf{std err} & \\textbf{z} & \\textbf{P$> |$z$|$} & \\textbf{[0.025} & \\textbf{0.975]}  \\\\\n",
       "\\midrule\n",
       "\\textbf{const} &       2.4440  &        0.546     &     4.479  &         0.000        &        1.342    &        3.546     \\\\\n",
       "\\textbf{y.L1}  &       0.2695  &        0.139     &     1.944  &         0.059        &       -0.011    &        0.550     \\\\\n",
       "\\textbf{y.L2}  &       0.3409  &        0.114     &     2.993  &         0.005        &        0.111    &        0.571     \\\\\n",
       "\\textbf{x0.L0} &       0.6344  &        0.145     &     4.368  &         0.000        &        0.341    &        0.928     \\\\\n",
       "\\textbf{x0.L1} &      -0.2426  &        0.159     &    -1.527  &         0.134        &       -0.563    &        0.078     \\\\\n",
       "\\textbf{x1.L0} &      -1.1316  &        0.359     &    -3.157  &         0.003        &       -1.856    &       -0.408     \\\\\n",
       "\\textbf{x1.L1} &       0.1056  &        0.640     &     0.165  &         0.870        &       -1.186    &        1.397     \\\\\n",
       "\\textbf{x1.L2} &      -0.8347  &        0.497     &    -1.679  &         0.101        &       -1.839    &        0.170     \\\\\n",
       "\\textbf{x2.L0} &       0.2849  &        0.614     &     0.464  &         0.645        &       -0.954    &        1.524     \\\\\n",
       "\\textbf{x2.L1} &       0.0433  &        0.805     &     0.054  &         0.957        &       -1.582    &        1.669     \\\\\n",
       "\\textbf{x2.L2} &       0.4429  &        0.770     &     0.575  &         0.568        &       -1.112    &        1.998     \\\\\n",
       "\\textbf{x2.L3} &       0.3671  &        0.515     &     0.713  &         0.480        &       -0.673    &        1.408     \\\\\n",
       "\\bottomrule\n",
       "\\end{tabular}\n",
       "%\\caption{ARDL Model Results}\n",
       "\\end{center}"
      ],
      "text/plain": [
       "<class 'statsmodels.iolib.summary.Summary'>\n",
       "\"\"\"\n",
       "                              ARDL Model Results                              \n",
       "==============================================================================\n",
       "Dep. Variable:                      y   No. Observations:                   55\n",
       "Model:               ARDL(2, 1, 2, 3)   Log Likelihood                 136.252\n",
       "Method:               Conditional MLE   S.D. of innovations              0.019\n",
       "Date:                Mon, 08 Sep 2025   AIC                           -246.504\n",
       "Time:                        14:04:44   BIC                           -220.890\n",
       "Sample:                             3   HQIC                          -236.654\n",
       "                                   55                                         \n",
       "==============================================================================\n",
       "                 coef    std err          z      P>|z|      [0.025      0.975]\n",
       "------------------------------------------------------------------------------\n",
       "const          2.4440      0.546      4.479      0.000       1.342       3.546\n",
       "y.L1           0.2695      0.139      1.944      0.059      -0.011       0.550\n",
       "y.L2           0.3409      0.114      2.993      0.005       0.111       0.571\n",
       "x0.L0          0.6344      0.145      4.368      0.000       0.341       0.928\n",
       "x0.L1         -0.2426      0.159     -1.527      0.134      -0.563       0.078\n",
       "x1.L0         -1.1316      0.359     -3.157      0.003      -1.856      -0.408\n",
       "x1.L1          0.1056      0.640      0.165      0.870      -1.186       1.397\n",
       "x1.L2         -0.8347      0.497     -1.679      0.101      -1.839       0.170\n",
       "x2.L0          0.2849      0.614      0.464      0.645      -0.954       1.524\n",
       "x2.L1          0.0433      0.805      0.054      0.957      -1.582       1.669\n",
       "x2.L2          0.4429      0.770      0.575      0.568      -1.112       1.998\n",
       "x2.L3          0.3671      0.515      0.713      0.480      -0.673       1.408\n",
       "==============================================================================\n",
       "\"\"\""
      ]
     },
     "execution_count": 11,
     "metadata": {},
     "output_type": "execute_result"
    }
   ],
   "source": [
    "y = np.asarray(data.lrm)\n",
    "x = np.asarray(data[[\"lry\", \"ibo\", \"ide\"]])\n",
    "res = ARDL(y, 2, x, {0: 1, 1: 2, 2: 3}, trend=\"c\").fit()\n",
    "res.summary()"
   ]
  },
  {
   "cell_type": "markdown",
   "id": "b9c00153-e811-4482-bfdc-b319a440e27b",
   "metadata": {},
   "source": [
    "### Causal models\n",
    "\n",
    "Using the `causal=True` flag eliminates lag 0 from the DL components, so that all variables included in the model are known at time $t-1$ when modeling $Y_t$."
   ]
  },
  {
   "cell_type": "code",
   "execution_count": 12,
   "id": "e29bae15-3ad8-4614-a0e7-5e4ed9022d96",
   "metadata": {
    "execution": {
     "iopub.execute_input": "2025-09-08T14:04:44.763917Z",
     "iopub.status.busy": "2025-09-08T14:04:44.763697Z",
     "iopub.status.idle": "2025-09-08T14:04:44.818981Z",
     "shell.execute_reply": "2025-09-08T14:04:44.818414Z"
    }
   },
   "outputs": [
    {
     "data": {
      "text/html": [
       "<table class=\"simpletable\">\n",
       "<caption>ARDL Model Results</caption>\n",
       "<tr>\n",
       "  <th>Dep. Variable:</th>        <td>lrm</td>       <th>  No. Observations:  </th>    <td>55</td>   \n",
       "</tr>\n",
       "<tr>\n",
       "  <th>Model:</th>         <td>ARDL(2, 1, 2, 3)</td> <th>  Log Likelihood     </th>  <td>121.130</td>\n",
       "</tr>\n",
       "<tr>\n",
       "  <th>Method:</th>         <td>Conditional MLE</td> <th>  S.D. of innovations</th>   <td>0.025</td> \n",
       "</tr>\n",
       "<tr>\n",
       "  <th>Date:</th>          <td>Mon, 08 Sep 2025</td> <th>  AIC                </th> <td>-222.260</td>\n",
       "</tr>\n",
       "<tr>\n",
       "  <th>Time:</th>              <td>14:04:44</td>     <th>  BIC                </th> <td>-202.557</td>\n",
       "</tr>\n",
       "<tr>\n",
       "  <th>Sample:</th>           <td>10-01-1974</td>    <th>  HQIC               </th> <td>-214.683</td>\n",
       "</tr>\n",
       "<tr>\n",
       "  <th></th>                 <td>- 07-01-1987</td>   <th>                     </th>     <td> </td>   \n",
       "</tr>\n",
       "</table>\n",
       "<table class=\"simpletable\">\n",
       "<tr>\n",
       "     <td></td>       <th>coef</th>     <th>std err</th>      <th>z</th>      <th>P>|z|</th>  <th>[0.025</th>    <th>0.975]</th>  \n",
       "</tr>\n",
       "<tr>\n",
       "  <th>const</th>  <td>    2.3885</td> <td>    0.696</td> <td>    3.434</td> <td> 0.001</td> <td>    0.987</td> <td>    3.790</td>\n",
       "</tr>\n",
       "<tr>\n",
       "  <th>lrm.L1</th> <td>    0.4294</td> <td>    0.169</td> <td>    2.538</td> <td> 0.015</td> <td>    0.088</td> <td>    0.770</td>\n",
       "</tr>\n",
       "<tr>\n",
       "  <th>lrm.L2</th> <td>    0.2777</td> <td>    0.139</td> <td>    2.003</td> <td> 0.051</td> <td>   -0.002</td> <td>    0.557</td>\n",
       "</tr>\n",
       "<tr>\n",
       "  <th>lry.L1</th> <td>    0.2064</td> <td>    0.139</td> <td>    1.481</td> <td> 0.146</td> <td>   -0.074</td> <td>    0.487</td>\n",
       "</tr>\n",
       "<tr>\n",
       "  <th>ibo.L1</th> <td>   -1.2787</td> <td>    0.467</td> <td>   -2.736</td> <td> 0.009</td> <td>   -2.221</td> <td>   -0.337</td>\n",
       "</tr>\n",
       "<tr>\n",
       "  <th>ibo.L2</th> <td>   -0.3403</td> <td>    0.568</td> <td>   -0.600</td> <td> 0.552</td> <td>   -1.484</td> <td>    0.804</td>\n",
       "</tr>\n",
       "<tr>\n",
       "  <th>ide.L1</th> <td>   -0.1234</td> <td>    0.746</td> <td>   -0.165</td> <td> 0.869</td> <td>   -1.627</td> <td>    1.380</td>\n",
       "</tr>\n",
       "<tr>\n",
       "  <th>ide.L2</th> <td>    0.5001</td> <td>    0.978</td> <td>    0.511</td> <td> 0.612</td> <td>   -1.471</td> <td>    2.472</td>\n",
       "</tr>\n",
       "<tr>\n",
       "  <th>ide.L3</th> <td>    0.6106</td> <td>    0.656</td> <td>    0.931</td> <td> 0.357</td> <td>   -0.711</td> <td>    1.933</td>\n",
       "</tr>\n",
       "</table>"
      ],
      "text/latex": [
       "\\begin{center}\n",
       "\\begin{tabular}{lclc}\n",
       "\\toprule\n",
       "\\textbf{Dep. Variable:} &       lrm        & \\textbf{  No. Observations:  } &     55      \\\\\n",
       "\\textbf{Model:}         & ARDL(2, 1, 2, 3) & \\textbf{  Log Likelihood     } &  121.130    \\\\\n",
       "\\textbf{Method:}        & Conditional MLE  & \\textbf{  S.D. of innovations} &   0.025     \\\\\n",
       "\\textbf{Date:}          & Mon, 08 Sep 2025 & \\textbf{  AIC                } &  -222.260   \\\\\n",
       "\\textbf{Time:}          &     14:04:44     & \\textbf{  BIC                } &  -202.557   \\\\\n",
       "\\textbf{Sample:}        &    10-01-1974    & \\textbf{  HQIC               } &  -214.683   \\\\\n",
       "\\textbf{}               &   - 07-01-1987   & \\textbf{                     } &             \\\\\n",
       "\\bottomrule\n",
       "\\end{tabular}\n",
       "\\begin{tabular}{lcccccc}\n",
       "                & \\textbf{coef} & \\textbf{std err} & \\textbf{z} & \\textbf{P$> |$z$|$} & \\textbf{[0.025} & \\textbf{0.975]}  \\\\\n",
       "\\midrule\n",
       "\\textbf{const}  &       2.3885  &        0.696     &     3.434  &         0.001        &        0.987    &        3.790     \\\\\n",
       "\\textbf{lrm.L1} &       0.4294  &        0.169     &     2.538  &         0.015        &        0.088    &        0.770     \\\\\n",
       "\\textbf{lrm.L2} &       0.2777  &        0.139     &     2.003  &         0.051        &       -0.002    &        0.557     \\\\\n",
       "\\textbf{lry.L1} &       0.2064  &        0.139     &     1.481  &         0.146        &       -0.074    &        0.487     \\\\\n",
       "\\textbf{ibo.L1} &      -1.2787  &        0.467     &    -2.736  &         0.009        &       -2.221    &       -0.337     \\\\\n",
       "\\textbf{ibo.L2} &      -0.3403  &        0.568     &    -0.600  &         0.552        &       -1.484    &        0.804     \\\\\n",
       "\\textbf{ide.L1} &      -0.1234  &        0.746     &    -0.165  &         0.869        &       -1.627    &        1.380     \\\\\n",
       "\\textbf{ide.L2} &       0.5001  &        0.978     &     0.511  &         0.612        &       -1.471    &        2.472     \\\\\n",
       "\\textbf{ide.L3} &       0.6106  &        0.656     &     0.931  &         0.357        &       -0.711    &        1.933     \\\\\n",
       "\\bottomrule\n",
       "\\end{tabular}\n",
       "%\\caption{ARDL Model Results}\n",
       "\\end{center}"
      ],
      "text/plain": [
       "<class 'statsmodels.iolib.summary.Summary'>\n",
       "\"\"\"\n",
       "                              ARDL Model Results                              \n",
       "==============================================================================\n",
       "Dep. Variable:                    lrm   No. Observations:                   55\n",
       "Model:               ARDL(2, 1, 2, 3)   Log Likelihood                 121.130\n",
       "Method:               Conditional MLE   S.D. of innovations              0.025\n",
       "Date:                Mon, 08 Sep 2025   AIC                           -222.260\n",
       "Time:                        14:04:44   BIC                           -202.557\n",
       "Sample:                    10-01-1974   HQIC                          -214.683\n",
       "                         - 07-01-1987                                         \n",
       "==============================================================================\n",
       "                 coef    std err          z      P>|z|      [0.025      0.975]\n",
       "------------------------------------------------------------------------------\n",
       "const          2.3885      0.696      3.434      0.001       0.987       3.790\n",
       "lrm.L1         0.4294      0.169      2.538      0.015       0.088       0.770\n",
       "lrm.L2         0.2777      0.139      2.003      0.051      -0.002       0.557\n",
       "lry.L1         0.2064      0.139      1.481      0.146      -0.074       0.487\n",
       "ibo.L1        -1.2787      0.467     -2.736      0.009      -2.221      -0.337\n",
       "ibo.L2        -0.3403      0.568     -0.600      0.552      -1.484       0.804\n",
       "ide.L1        -0.1234      0.746     -0.165      0.869      -1.627       1.380\n",
       "ide.L2         0.5001      0.978      0.511      0.612      -1.471       2.472\n",
       "ide.L3         0.6106      0.656      0.931      0.357      -0.711       1.933\n",
       "==============================================================================\n",
       "\"\"\""
      ]
     },
     "execution_count": 12,
     "metadata": {},
     "output_type": "execute_result"
    }
   ],
   "source": [
    "res = ARDL(\n",
    "    data.lrm,\n",
    "    2,\n",
    "    data[[\"lry\", \"ibo\", \"ide\"]],\n",
    "    {\"lry\": 1, \"ibo\": 2, \"ide\": 3},\n",
    "    trend=\"c\",\n",
    "    causal=True,\n",
    ").fit()\n",
    "res.summary()"
   ]
  },
  {
   "cell_type": "markdown",
   "id": "6ac0a3be-996b-4ade-8d96-13629e661600",
   "metadata": {},
   "source": [
    "## Unconstrained Error Correction Models (UECM)\n",
    "\n",
    "Unconstrained Error Correction Models reparameterize ARDL model to focus on the long-run component of a time series.  The reparameterized model is\n",
    "\n",
    "$$\n",
    "\\Delta Y_t = \\underset{\\text{Constant and Trend}}{\\underbrace{\\delta_0 + \\delta_1 t + \\ldots + \\delta_k t^k}} \n",
    "      + \\underset{\\text{Seasonal}}{\\underbrace{\\sum_{i=0}^{s-1} \\gamma_i S_i}}\n",
    "      + \\underset{\\text{Long-Run}}{\\underbrace{\\lambda_0 Y_{t-1} + \\sum_{b=1}^M \\lambda_i  X_{b,t-1}}}\n",
    "      + \\underset{\\text{Autoregressive}}{\\underbrace{\\sum_{p=1}^P \\phi_p \\Delta Y_{t-p}}}\n",
    "      + \\underset{\\text{Distributed Lag}}{\\underbrace{\\sum_{k=1}^M \\sum_{j=0}^{Q_k} \\beta_{k,j} \\Delta X_{k, t-j}}}\n",
    "      + \\underset{\\text{Fixed}}{\\underbrace{Z_t \\Gamma}} + \\epsilon_t\n",
    "$$\n",
    "\n",
    "\n",
    "Most of the components are the same.  The key differences are:\n",
    "\n",
    "* The levels only enter at lag 1\n",
    "* All other lags of $Y_t$ or $X_{k,t}$ are differenced\n",
    "\n",
    "Due to their structure, UECM models _do not_ support irregular lag specifications, and so lags specifications must be integers. The AR lag length must be an integer or `None`, while the DL lag specification can be an integer or a dictionary of integers.  Other options such as `trend`, `seasonal`, and `causal` are identical.\n",
    "\n",
    "Below we select a model and then using the class method `from_ardl` to construct the UECM.  The parameter estimates prefixed with `D.` are differences."
   ]
  },
  {
   "cell_type": "code",
   "execution_count": 13,
   "id": "9645823c-8d25-487e-a34a-5350f0c11912",
   "metadata": {
    "execution": {
     "iopub.execute_input": "2025-09-08T14:04:44.821882Z",
     "iopub.status.busy": "2025-09-08T14:04:44.821516Z",
     "iopub.status.idle": "2025-09-08T14:04:45.147989Z",
     "shell.execute_reply": "2025-09-08T14:04:45.147251Z"
    }
   },
   "outputs": [
    {
     "data": {
      "text/html": [
       "<table class=\"simpletable\">\n",
       "<caption>UECM Model Results</caption>\n",
       "<tr>\n",
       "  <th>Dep. Variable:</th>       <td>D.lrm</td>      <th>  No. Observations:  </th>    <td>55</td>   \n",
       "</tr>\n",
       "<tr>\n",
       "  <th>Model:</th>         <td>UECM(3, 1, 3, 2)</td> <th>  Log Likelihood     </th>  <td>139.513</td>\n",
       "</tr>\n",
       "<tr>\n",
       "  <th>Method:</th>         <td>Conditional MLE</td> <th>  S.D. of innovations</th>   <td>0.017</td> \n",
       "</tr>\n",
       "<tr>\n",
       "  <th>Date:</th>          <td>Mon, 08 Sep 2025</td> <th>  AIC                </th> <td>-251.026</td>\n",
       "</tr>\n",
       "<tr>\n",
       "  <th>Time:</th>              <td>14:04:45</td>     <th>  BIC                </th> <td>-223.708</td>\n",
       "</tr>\n",
       "<tr>\n",
       "  <th>Sample:</th>           <td>10-01-1974</td>    <th>  HQIC               </th> <td>-240.553</td>\n",
       "</tr>\n",
       "<tr>\n",
       "  <th></th>                 <td>- 07-01-1987</td>   <th>                     </th>     <td> </td>   \n",
       "</tr>\n",
       "</table>\n",
       "<table class=\"simpletable\">\n",
       "<tr>\n",
       "      <td></td>        <th>coef</th>     <th>std err</th>      <th>z</th>      <th>P>|z|</th>  <th>[0.025</th>    <th>0.975]</th>  \n",
       "</tr>\n",
       "<tr>\n",
       "  <th>const</th>    <td>    2.6202</td> <td>    0.568</td> <td>    4.615</td> <td> 0.000</td> <td>    1.472</td> <td>    3.769</td>\n",
       "</tr>\n",
       "<tr>\n",
       "  <th>lrm.L1</th>   <td>   -0.4169</td> <td>    0.092</td> <td>   -4.548</td> <td> 0.000</td> <td>   -0.602</td> <td>   -0.231</td>\n",
       "</tr>\n",
       "<tr>\n",
       "  <th>lry.L1</th>   <td>    0.4154</td> <td>    0.118</td> <td>    3.532</td> <td> 0.001</td> <td>    0.177</td> <td>    0.653</td>\n",
       "</tr>\n",
       "<tr>\n",
       "  <th>ibo.L1</th>   <td>   -1.8917</td> <td>    0.391</td> <td>   -4.837</td> <td> 0.000</td> <td>   -2.683</td> <td>   -1.101</td>\n",
       "</tr>\n",
       "<tr>\n",
       "  <th>ide.L1</th>   <td>    1.2053</td> <td>    0.447</td> <td>    2.697</td> <td> 0.010</td> <td>    0.301</td> <td>    2.109</td>\n",
       "</tr>\n",
       "<tr>\n",
       "  <th>D.lrm.L1</th> <td>   -0.2639</td> <td>    0.102</td> <td>   -2.590</td> <td> 0.013</td> <td>   -0.470</td> <td>   -0.058</td>\n",
       "</tr>\n",
       "<tr>\n",
       "  <th>D.lrm.L2</th> <td>    0.2687</td> <td>    0.102</td> <td>    2.631</td> <td> 0.012</td> <td>    0.062</td> <td>    0.475</td>\n",
       "</tr>\n",
       "<tr>\n",
       "  <th>D.lry.L0</th> <td>    0.6728</td> <td>    0.131</td> <td>    5.129</td> <td> 0.000</td> <td>    0.407</td> <td>    0.938</td>\n",
       "</tr>\n",
       "<tr>\n",
       "  <th>D.ibo.L0</th> <td>   -1.0785</td> <td>    0.322</td> <td>   -3.353</td> <td> 0.002</td> <td>   -1.729</td> <td>   -0.428</td>\n",
       "</tr>\n",
       "<tr>\n",
       "  <th>D.ibo.L1</th> <td>    0.7070</td> <td>    0.469</td> <td>    1.508</td> <td> 0.140</td> <td>   -0.241</td> <td>    1.655</td>\n",
       "</tr>\n",
       "<tr>\n",
       "  <th>D.ibo.L2</th> <td>    0.9947</td> <td>    0.393</td> <td>    2.534</td> <td> 0.015</td> <td>    0.201</td> <td>    1.789</td>\n",
       "</tr>\n",
       "<tr>\n",
       "  <th>D.ide.L0</th> <td>    0.1255</td> <td>    0.554</td> <td>    0.226</td> <td> 0.822</td> <td>   -0.996</td> <td>    1.247</td>\n",
       "</tr>\n",
       "<tr>\n",
       "  <th>D.ide.L1</th> <td>   -1.4079</td> <td>    0.552</td> <td>   -2.550</td> <td> 0.015</td> <td>   -2.524</td> <td>   -0.291</td>\n",
       "</tr>\n",
       "</table>"
      ],
      "text/latex": [
       "\\begin{center}\n",
       "\\begin{tabular}{lclc}\n",
       "\\toprule\n",
       "\\textbf{Dep. Variable:} &      D.lrm       & \\textbf{  No. Observations:  } &     55      \\\\\n",
       "\\textbf{Model:}         & UECM(3, 1, 3, 2) & \\textbf{  Log Likelihood     } &  139.513    \\\\\n",
       "\\textbf{Method:}        & Conditional MLE  & \\textbf{  S.D. of innovations} &   0.017     \\\\\n",
       "\\textbf{Date:}          & Mon, 08 Sep 2025 & \\textbf{  AIC                } &  -251.026   \\\\\n",
       "\\textbf{Time:}          &     14:04:45     & \\textbf{  BIC                } &  -223.708   \\\\\n",
       "\\textbf{Sample:}        &    10-01-1974    & \\textbf{  HQIC               } &  -240.553   \\\\\n",
       "\\textbf{}               &   - 07-01-1987   & \\textbf{                     } &             \\\\\n",
       "\\bottomrule\n",
       "\\end{tabular}\n",
       "\\begin{tabular}{lcccccc}\n",
       "                  & \\textbf{coef} & \\textbf{std err} & \\textbf{z} & \\textbf{P$> |$z$|$} & \\textbf{[0.025} & \\textbf{0.975]}  \\\\\n",
       "\\midrule\n",
       "\\textbf{const}    &       2.6202  &        0.568     &     4.615  &         0.000        &        1.472    &        3.769     \\\\\n",
       "\\textbf{lrm.L1}   &      -0.4169  &        0.092     &    -4.548  &         0.000        &       -0.602    &       -0.231     \\\\\n",
       "\\textbf{lry.L1}   &       0.4154  &        0.118     &     3.532  &         0.001        &        0.177    &        0.653     \\\\\n",
       "\\textbf{ibo.L1}   &      -1.8917  &        0.391     &    -4.837  &         0.000        &       -2.683    &       -1.101     \\\\\n",
       "\\textbf{ide.L1}   &       1.2053  &        0.447     &     2.697  &         0.010        &        0.301    &        2.109     \\\\\n",
       "\\textbf{D.lrm.L1} &      -0.2639  &        0.102     &    -2.590  &         0.013        &       -0.470    &       -0.058     \\\\\n",
       "\\textbf{D.lrm.L2} &       0.2687  &        0.102     &     2.631  &         0.012        &        0.062    &        0.475     \\\\\n",
       "\\textbf{D.lry.L0} &       0.6728  &        0.131     &     5.129  &         0.000        &        0.407    &        0.938     \\\\\n",
       "\\textbf{D.ibo.L0} &      -1.0785  &        0.322     &    -3.353  &         0.002        &       -1.729    &       -0.428     \\\\\n",
       "\\textbf{D.ibo.L1} &       0.7070  &        0.469     &     1.508  &         0.140        &       -0.241    &        1.655     \\\\\n",
       "\\textbf{D.ibo.L2} &       0.9947  &        0.393     &     2.534  &         0.015        &        0.201    &        1.789     \\\\\n",
       "\\textbf{D.ide.L0} &       0.1255  &        0.554     &     0.226  &         0.822        &       -0.996    &        1.247     \\\\\n",
       "\\textbf{D.ide.L1} &      -1.4079  &        0.552     &    -2.550  &         0.015        &       -2.524    &       -0.291     \\\\\n",
       "\\bottomrule\n",
       "\\end{tabular}\n",
       "%\\caption{UECM Model Results}\n",
       "\\end{center}"
      ],
      "text/plain": [
       "<class 'statsmodels.iolib.summary.Summary'>\n",
       "\"\"\"\n",
       "                              UECM Model Results                              \n",
       "==============================================================================\n",
       "Dep. Variable:                  D.lrm   No. Observations:                   55\n",
       "Model:               UECM(3, 1, 3, 2)   Log Likelihood                 139.513\n",
       "Method:               Conditional MLE   S.D. of innovations              0.017\n",
       "Date:                Mon, 08 Sep 2025   AIC                           -251.026\n",
       "Time:                        14:04:45   BIC                           -223.708\n",
       "Sample:                    10-01-1974   HQIC                          -240.553\n",
       "                         - 07-01-1987                                         \n",
       "==============================================================================\n",
       "                 coef    std err          z      P>|z|      [0.025      0.975]\n",
       "------------------------------------------------------------------------------\n",
       "const          2.6202      0.568      4.615      0.000       1.472       3.769\n",
       "lrm.L1        -0.4169      0.092     -4.548      0.000      -0.602      -0.231\n",
       "lry.L1         0.4154      0.118      3.532      0.001       0.177       0.653\n",
       "ibo.L1        -1.8917      0.391     -4.837      0.000      -2.683      -1.101\n",
       "ide.L1         1.2053      0.447      2.697      0.010       0.301       2.109\n",
       "D.lrm.L1      -0.2639      0.102     -2.590      0.013      -0.470      -0.058\n",
       "D.lrm.L2       0.2687      0.102      2.631      0.012       0.062       0.475\n",
       "D.lry.L0       0.6728      0.131      5.129      0.000       0.407       0.938\n",
       "D.ibo.L0      -1.0785      0.322     -3.353      0.002      -1.729      -0.428\n",
       "D.ibo.L1       0.7070      0.469      1.508      0.140      -0.241       1.655\n",
       "D.ibo.L2       0.9947      0.393      2.534      0.015       0.201       1.789\n",
       "D.ide.L0       0.1255      0.554      0.226      0.822      -0.996       1.247\n",
       "D.ide.L1      -1.4079      0.552     -2.550      0.015      -2.524      -0.291\n",
       "==============================================================================\n",
       "\"\"\""
      ]
     },
     "execution_count": 13,
     "metadata": {},
     "output_type": "execute_result"
    }
   ],
   "source": [
    "from statsmodels.tsa.api import UECM\n",
    "\n",
    "sel_res = ardl_select_order(\n",
    "    data.lrm, 3, data[[\"lry\", \"ibo\", \"ide\"]], 3, ic=\"aic\", trend=\"c\"\n",
    ")\n",
    "\n",
    "ecm = UECM.from_ardl(sel_res.model)\n",
    "ecm_res = ecm.fit()\n",
    "ecm_res.summary()"
   ]
  },
  {
   "cell_type": "markdown",
   "id": "9ecf6cab-9477-4492-b83a-40fe92665697",
   "metadata": {},
   "source": [
    "### Cointegrating Relationships\n",
    "\n",
    "Because the focus is on the long-run relationship, the results of UECM model fits contains a number of properties that focus on the long-run relationship. These are all prefixed `ci_`, for cointegrating.  `ci_summary` contains the normalized estimates of the cointegrating relationship and associated estimated values. "
   ]
  },
  {
   "cell_type": "code",
   "execution_count": 14,
   "id": "fed4cc4e-100c-4b6d-bea4-6ed180bda5df",
   "metadata": {
    "execution": {
     "iopub.execute_input": "2025-09-08T14:04:45.151234Z",
     "iopub.status.busy": "2025-09-08T14:04:45.150986Z",
     "iopub.status.idle": "2025-09-08T14:04:45.197614Z",
     "shell.execute_reply": "2025-09-08T14:04:45.196743Z"
    }
   },
   "outputs": [
    {
     "data": {
      "text/html": [
       "<table class=\"simpletable\">\n",
       "<caption>Cointegrating Vector</caption>\n",
       "<tr>\n",
       "     <td></td>       <th>coef</th>     <th>std err</th>      <th>t</th>      <th>P>|t|</th>  <th>[0.025</th>    <th>0.975]</th>  \n",
       "</tr>\n",
       "<tr>\n",
       "  <th>const</th>  <td>   -6.2857</td> <td>    0.772</td> <td>   -8.143</td> <td> 0.000</td> <td>   -7.847</td> <td>   -4.724</td>\n",
       "</tr>\n",
       "<tr>\n",
       "  <th>lrm.L1</th> <td>    1.0000</td> <td>        0</td> <td>      nan</td> <td>   nan</td> <td>    1.000</td> <td>    1.000</td>\n",
       "</tr>\n",
       "<tr>\n",
       "  <th>lry.L1</th> <td>   -0.9965</td> <td>    0.124</td> <td>   -8.041</td> <td> 0.000</td> <td>   -1.247</td> <td>   -0.746</td>\n",
       "</tr>\n",
       "<tr>\n",
       "  <th>ibo.L1</th> <td>    4.5381</td> <td>    0.520</td> <td>    8.722</td> <td> 0.000</td> <td>    3.486</td> <td>    5.591</td>\n",
       "</tr>\n",
       "<tr>\n",
       "  <th>ide.L1</th> <td>   -2.8915</td> <td>    0.995</td> <td>   -2.906</td> <td> 0.004</td> <td>   -4.904</td> <td>   -0.879</td>\n",
       "</tr>\n",
       "</table>"
      ],
      "text/latex": [
       "\\begin{center}\n",
       "\\begin{tabular}{lcccccc}\n",
       "\\toprule\n",
       "                & \\textbf{coef} & \\textbf{std err} & \\textbf{t} & \\textbf{P$> |$t$|$} & \\textbf{[0.025} & \\textbf{0.975]}  \\\\\n",
       "\\midrule\n",
       "\\textbf{const}  &      -6.2857  &        0.772     &    -8.143  &         0.000        &       -7.847    &       -4.724     \\\\\n",
       "\\textbf{lrm.L1} &       1.0000  &            0     &       nan  &           nan        &        1.000    &        1.000     \\\\\n",
       "\\textbf{lry.L1} &      -0.9965  &        0.124     &    -8.041  &         0.000        &       -1.247    &       -0.746     \\\\\n",
       "\\textbf{ibo.L1} &       4.5381  &        0.520     &     8.722  &         0.000        &        3.486    &        5.591     \\\\\n",
       "\\textbf{ide.L1} &      -2.8915  &        0.995     &    -2.906  &         0.004        &       -4.904    &       -0.879     \\\\\n",
       "\\bottomrule\n",
       "\\end{tabular}\n",
       "%\\caption{Cointegrating Vector}\n",
       "\\end{center}"
      ],
      "text/plain": [
       "<class 'statsmodels.iolib.summary.Summary'>\n",
       "\"\"\"\n",
       "                             Cointegrating Vector                             \n",
       "==============================================================================\n",
       "                 coef    std err          t      P>|t|      [0.025      0.975]\n",
       "------------------------------------------------------------------------------\n",
       "const         -6.2857      0.772     -8.143      0.000      -7.847      -4.724\n",
       "lrm.L1         1.0000          0        nan        nan       1.000       1.000\n",
       "lry.L1        -0.9965      0.124     -8.041      0.000      -1.247      -0.746\n",
       "ibo.L1         4.5381      0.520      8.722      0.000       3.486       5.591\n",
       "ide.L1        -2.8915      0.995     -2.906      0.004      -4.904      -0.879\n",
       "==============================================================================\n",
       "\"\"\""
      ]
     },
     "execution_count": 14,
     "metadata": {},
     "output_type": "execute_result"
    }
   ],
   "source": [
    "ecm_res.ci_summary()"
   ]
  },
  {
   "cell_type": "markdown",
   "id": "d730dc12-b3c9-427e-89da-2fcabb5deea7",
   "metadata": {},
   "source": [
    "`ci_resids` contains the long-run residual, which is the error the drives figure changes in $\\Delta Y_t$."
   ]
  },
  {
   "cell_type": "code",
   "execution_count": 15,
   "id": "b8e12dc7-f12e-442d-b0cd-d081e8f0447b",
   "metadata": {
    "execution": {
     "iopub.execute_input": "2025-09-08T14:04:45.208995Z",
     "iopub.status.busy": "2025-09-08T14:04:45.208759Z",
     "iopub.status.idle": "2025-09-08T14:04:45.790851Z",
     "shell.execute_reply": "2025-09-08T14:04:45.790194Z"
    }
   },
   "outputs": [
    {
     "data": {
      "image/png": "[encoded data removed]",
      "text/plain": [
       "<Figure size 1600x600 with 1 Axes>"
      ]
     },
     "metadata": {},
     "output_type": "display_data"
    }
   ],
   "source": [
    "_ = ecm_res.ci_resids.plot(title=\"Cointegrating Error\")"
   ]
  },
  {
   "cell_type": "markdown",
   "id": "7b4cd8e8-97d7-49d6-8c49-ebdd2b08f04f",
   "metadata": {},
   "source": [
    "### Seasonal Dummies\n",
    "\n",
    "Here we add seasonal terms, which appear to be statistically significant."
   ]
  },
  {
   "cell_type": "code",
   "execution_count": 16,
   "id": "3618d391-0136-4d59-9ee8-33eef938f2bc",
   "metadata": {
    "execution": {
     "iopub.execute_input": "2025-09-08T14:04:45.794268Z",
     "iopub.status.busy": "2025-09-08T14:04:45.793843Z",
     "iopub.status.idle": "2025-09-08T14:04:45.861499Z",
     "shell.execute_reply": "2025-09-08T14:04:45.860829Z"
    }
   },
   "outputs": [
    {
     "data": {
      "text/html": [
       "<table class=\"simpletable\">\n",
       "<caption>UECM Model Results</caption>\n",
       "<tr>\n",
       "  <th>Dep. Variable:</th>          <td>D.lrm</td>         <th>  No. Observations:  </th>    <td>55</td>   \n",
       "</tr>\n",
       "<tr>\n",
       "  <th>Model:</th>         <td>Seas. UECM(2, 2, 2, 2)</td> <th>  Log Likelihood     </th>  <td>150.609</td>\n",
       "</tr>\n",
       "<tr>\n",
       "  <th>Method:</th>            <td>Conditional MLE</td>    <th>  S.D. of innovations</th>   <td>0.014</td> \n",
       "</tr>\n",
       "<tr>\n",
       "  <th>Date:</th>             <td>Mon, 08 Sep 2025</td>    <th>  AIC                </th> <td>-269.218</td>\n",
       "</tr>\n",
       "<tr>\n",
       "  <th>Time:</th>                 <td>14:04:45</td>        <th>  BIC                </th> <td>-237.694</td>\n",
       "</tr>\n",
       "<tr>\n",
       "  <th>Sample:</th>              <td>07-01-1974</td>       <th>  HQIC               </th> <td>-257.096</td>\n",
       "</tr>\n",
       "<tr>\n",
       "  <th></th>                    <td>- 07-01-1987</td>      <th>                     </th>     <td> </td>   \n",
       "</tr>\n",
       "</table>\n",
       "<table class=\"simpletable\">\n",
       "<tr>\n",
       "      <td></td>        <th>coef</th>     <th>std err</th>      <th>z</th>      <th>P>|z|</th>  <th>[0.025</th>    <th>0.975]</th>  \n",
       "</tr>\n",
       "<tr>\n",
       "  <th>const</th>    <td>    1.6501</td> <td>    0.429</td> <td>    3.848</td> <td> 0.000</td> <td>    0.782</td> <td>    2.518</td>\n",
       "</tr>\n",
       "<tr>\n",
       "  <th>s(2,4)</th>   <td>    0.0328</td> <td>    0.011</td> <td>    2.943</td> <td> 0.006</td> <td>    0.010</td> <td>    0.055</td>\n",
       "</tr>\n",
       "<tr>\n",
       "  <th>s(3,4)</th>   <td>    0.0153</td> <td>    0.008</td> <td>    1.965</td> <td> 0.057</td> <td>   -0.000</td> <td>    0.031</td>\n",
       "</tr>\n",
       "<tr>\n",
       "  <th>s(4,4)</th>   <td>    0.0460</td> <td>    0.009</td> <td>    5.060</td> <td> 0.000</td> <td>    0.028</td> <td>    0.064</td>\n",
       "</tr>\n",
       "<tr>\n",
       "  <th>lrm.L1</th>   <td>   -0.2543</td> <td>    0.072</td> <td>   -3.530</td> <td> 0.001</td> <td>   -0.400</td> <td>   -0.108</td>\n",
       "</tr>\n",
       "<tr>\n",
       "  <th>lry.L1</th>   <td>    0.2437</td> <td>    0.100</td> <td>    2.444</td> <td> 0.019</td> <td>    0.042</td> <td>    0.446</td>\n",
       "</tr>\n",
       "<tr>\n",
       "  <th>ibo.L1</th>   <td>   -1.2113</td> <td>    0.297</td> <td>   -4.083</td> <td> 0.000</td> <td>   -1.812</td> <td>   -0.611</td>\n",
       "</tr>\n",
       "<tr>\n",
       "  <th>ide.L1</th>   <td>    0.6537</td> <td>    0.384</td> <td>    1.701</td> <td> 0.097</td> <td>   -0.124</td> <td>    1.432</td>\n",
       "</tr>\n",
       "<tr>\n",
       "  <th>D.lrm.L1</th> <td>    0.0377</td> <td>    0.156</td> <td>    0.241</td> <td> 0.811</td> <td>   -0.279</td> <td>    0.354</td>\n",
       "</tr>\n",
       "<tr>\n",
       "  <th>D.lry.L0</th> <td>    0.4624</td> <td>    0.121</td> <td>    3.827</td> <td> 0.000</td> <td>    0.218</td> <td>    0.707</td>\n",
       "</tr>\n",
       "<tr>\n",
       "  <th>D.lry.L1</th> <td>    0.0457</td> <td>    0.130</td> <td>    0.351</td> <td> 0.727</td> <td>   -0.218</td> <td>    0.309</td>\n",
       "</tr>\n",
       "<tr>\n",
       "  <th>D.ibo.L0</th> <td>   -0.9562</td> <td>    0.312</td> <td>   -3.062</td> <td> 0.004</td> <td>   -1.588</td> <td>   -0.324</td>\n",
       "</tr>\n",
       "<tr>\n",
       "  <th>D.ibo.L1</th> <td>    0.4133</td> <td>    0.360</td> <td>    1.148</td> <td> 0.258</td> <td>   -0.315</td> <td>    1.142</td>\n",
       "</tr>\n",
       "<tr>\n",
       "  <th>D.ide.L0</th> <td>   -0.3945</td> <td>    0.505</td> <td>   -0.781</td> <td> 0.440</td> <td>   -1.417</td> <td>    0.628</td>\n",
       "</tr>\n",
       "<tr>\n",
       "  <th>D.ide.L1</th> <td>   -0.1430</td> <td>    0.466</td> <td>   -0.307</td> <td> 0.761</td> <td>   -1.086</td> <td>    0.800</td>\n",
       "</tr>\n",
       "</table>"
      ],
      "text/latex": [
       "\\begin{center}\n",
       "\\begin{tabular}{lclc}\n",
       "\\toprule\n",
       "\\textbf{Dep. Variable:} &         D.lrm          & \\textbf{  No. Observations:  } &     55      \\\\\n",
       "\\textbf{Model:}         & Seas. UECM(2, 2, 2, 2) & \\textbf{  Log Likelihood     } &  150.609    \\\\\n",
       "\\textbf{Method:}        &    Conditional MLE     & \\textbf{  S.D. of innovations} &   0.014     \\\\\n",
       "\\textbf{Date:}          &    Mon, 08 Sep 2025    & \\textbf{  AIC                } &  -269.218   \\\\\n",
       "\\textbf{Time:}          &        14:04:45        & \\textbf{  BIC                } &  -237.694   \\\\\n",
       "\\textbf{Sample:}        &       07-01-1974       & \\textbf{  HQIC               } &  -257.096   \\\\\n",
       "\\textbf{}               &      - 07-01-1987      & \\textbf{                     } &             \\\\\n",
       "\\bottomrule\n",
       "\\end{tabular}\n",
       "\\begin{tabular}{lcccccc}\n",
       "                  & \\textbf{coef} & \\textbf{std err} & \\textbf{z} & \\textbf{P$> |$z$|$} & \\textbf{[0.025} & \\textbf{0.975]}  \\\\\n",
       "\\midrule\n",
       "\\textbf{const}    &       1.6501  &        0.429     &     3.848  &         0.000        &        0.782    &        2.518     \\\\\n",
       "\\textbf{s(2,4)}   &       0.0328  &        0.011     &     2.943  &         0.006        &        0.010    &        0.055     \\\\\n",
       "\\textbf{s(3,4)}   &       0.0153  &        0.008     &     1.965  &         0.057        &       -0.000    &        0.031     \\\\\n",
       "\\textbf{s(4,4)}   &       0.0460  &        0.009     &     5.060  &         0.000        &        0.028    &        0.064     \\\\\n",
       "\\textbf{lrm.L1}   &      -0.2543  &        0.072     &    -3.530  &         0.001        &       -0.400    &       -0.108     \\\\\n",
       "\\textbf{lry.L1}   &       0.2437  &        0.100     &     2.444  &         0.019        &        0.042    &        0.446     \\\\\n",
       "\\textbf{ibo.L1}   &      -1.2113  &        0.297     &    -4.083  &         0.000        &       -1.812    &       -0.611     \\\\\n",
       "\\textbf{ide.L1}   &       0.6537  &        0.384     &     1.701  &         0.097        &       -0.124    &        1.432     \\\\\n",
       "\\textbf{D.lrm.L1} &       0.0377  &        0.156     &     0.241  &         0.811        &       -0.279    &        0.354     \\\\\n",
       "\\textbf{D.lry.L0} &       0.4624  &        0.121     &     3.827  &         0.000        &        0.218    &        0.707     \\\\\n",
       "\\textbf{D.lry.L1} &       0.0457  &        0.130     &     0.351  &         0.727        &       -0.218    &        0.309     \\\\\n",
       "\\textbf{D.ibo.L0} &      -0.9562  &        0.312     &    -3.062  &         0.004        &       -1.588    &       -0.324     \\\\\n",
       "\\textbf{D.ibo.L1} &       0.4133  &        0.360     &     1.148  &         0.258        &       -0.315    &        1.142     \\\\\n",
       "\\textbf{D.ide.L0} &      -0.3945  &        0.505     &    -0.781  &         0.440        &       -1.417    &        0.628     \\\\\n",
       "\\textbf{D.ide.L1} &      -0.1430  &        0.466     &    -0.307  &         0.761        &       -1.086    &        0.800     \\\\\n",
       "\\bottomrule\n",
       "\\end{tabular}\n",
       "%\\caption{UECM Model Results}\n",
       "\\end{center}"
      ],
      "text/plain": [
       "<class 'statsmodels.iolib.summary.Summary'>\n",
       "\"\"\"\n",
       "                                UECM Model Results                                \n",
       "==================================================================================\n",
       "Dep. Variable:                      D.lrm   No. Observations:                   55\n",
       "Model:             Seas. UECM(2, 2, 2, 2)   Log Likelihood                 150.609\n",
       "Method:                   Conditional MLE   S.D. of innovations              0.014\n",
       "Date:                    Mon, 08 Sep 2025   AIC                           -269.218\n",
       "Time:                            14:04:45   BIC                           -237.694\n",
       "Sample:                        07-01-1974   HQIC                          -257.096\n",
       "                             - 07-01-1987                                         \n",
       "==============================================================================\n",
       "                 coef    std err          z      P>|z|      [0.025      0.975]\n",
       "------------------------------------------------------------------------------\n",
       "const          1.6501      0.429      3.848      0.000       0.782       2.518\n",
       "s(2,4)         0.0328      0.011      2.943      0.006       0.010       0.055\n",
       "s(3,4)         0.0153      0.008      1.965      0.057      -0.000       0.031\n",
       "s(4,4)         0.0460      0.009      5.060      0.000       0.028       0.064\n",
       "lrm.L1        -0.2543      0.072     -3.530      0.001      -0.400      -0.108\n",
       "lry.L1         0.2437      0.100      2.444      0.019       0.042       0.446\n",
       "ibo.L1        -1.2113      0.297     -4.083      0.000      -1.812      -0.611\n",
       "ide.L1         0.6537      0.384      1.701      0.097      -0.124       1.432\n",
       "D.lrm.L1       0.0377      0.156      0.241      0.811      -0.279       0.354\n",
       "D.lry.L0       0.4624      0.121      3.827      0.000       0.218       0.707\n",
       "D.lry.L1       0.0457      0.130      0.351      0.727      -0.218       0.309\n",
       "D.ibo.L0      -0.9562      0.312     -3.062      0.004      -1.588      -0.324\n",
       "D.ibo.L1       0.4133      0.360      1.148      0.258      -0.315       1.142\n",
       "D.ide.L0      -0.3945      0.505     -0.781      0.440      -1.417       0.628\n",
       "D.ide.L1      -0.1430      0.466     -0.307      0.761      -1.086       0.800\n",
       "==============================================================================\n",
       "\"\"\""
      ]
     },
     "execution_count": 16,
     "metadata": {},
     "output_type": "execute_result"
    }
   ],
   "source": [
    "ecm = UECM(data.lrm, 2, data[[\"lry\", \"ibo\", \"ide\"]], 2, seasonal=True)\n",
    "seasonal_ecm_res = ecm.fit()\n",
    "seasonal_ecm_res.summary()"
   ]
  },
  {
   "cell_type": "markdown",
   "id": "e31719ac-78c4-4c8f-8fe9-81a77454ae82",
   "metadata": {},
   "source": [
    "All deterministic terms are included in the `ci_` prefixed terms.  Here we see the normalized seasonal effects in the summary."
   ]
  },
  {
   "cell_type": "code",
   "execution_count": 17,
   "id": "d0ac53f2-990a-4379-bf1a-e031c0482150",
   "metadata": {
    "execution": {
     "iopub.execute_input": "2025-09-08T14:04:45.863947Z",
     "iopub.status.busy": "2025-09-08T14:04:45.863717Z",
     "iopub.status.idle": "2025-09-08T14:04:45.901190Z",
     "shell.execute_reply": "2025-09-08T14:04:45.900586Z"
    }
   },
   "outputs": [
    {
     "data": {
      "text/html": [
       "<table class=\"simpletable\">\n",
       "<caption>Cointegrating Vector</caption>\n",
       "<tr>\n",
       "     <td></td>       <th>coef</th>     <th>std err</th>      <th>t</th>      <th>P>|t|</th>  <th>[0.025</th>    <th>0.975]</th>  \n",
       "</tr>\n",
       "<tr>\n",
       "  <th>const</th>  <td>   -6.4899</td> <td>    1.155</td> <td>   -5.621</td> <td> 0.000</td> <td>   -8.827</td> <td>   -4.152</td>\n",
       "</tr>\n",
       "<tr>\n",
       "  <th>s(2,4)</th> <td>   -0.1291</td> <td>    0.066</td> <td>   -1.956</td> <td> 0.050</td> <td>   -0.263</td> <td>    0.005</td>\n",
       "</tr>\n",
       "<tr>\n",
       "  <th>s(3,4)</th> <td>   -0.0603</td> <td>    0.039</td> <td>   -1.545</td> <td> 0.122</td> <td>   -0.139</td> <td>    0.019</td>\n",
       "</tr>\n",
       "<tr>\n",
       "  <th>s(4,4)</th> <td>   -0.1810</td> <td>    0.071</td> <td>   -2.562</td> <td> 0.010</td> <td>   -0.324</td> <td>   -0.038</td>\n",
       "</tr>\n",
       "<tr>\n",
       "  <th>lrm.L1</th> <td>    1.0000</td> <td>        0</td> <td>      nan</td> <td>   nan</td> <td>    1.000</td> <td>    1.000</td>\n",
       "</tr>\n",
       "<tr>\n",
       "  <th>lry.L1</th> <td>   -0.9585</td> <td>    0.187</td> <td>   -5.137</td> <td> 0.000</td> <td>   -1.336</td> <td>   -0.581</td>\n",
       "</tr>\n",
       "<tr>\n",
       "  <th>ibo.L1</th> <td>    4.7641</td> <td>    0.826</td> <td>    5.768</td> <td> 0.000</td> <td>    3.092</td> <td>    6.436</td>\n",
       "</tr>\n",
       "<tr>\n",
       "  <th>ide.L1</th> <td>   -2.5708</td> <td>    1.461</td> <td>   -1.760</td> <td> 0.078</td> <td>   -5.529</td> <td>    0.387</td>\n",
       "</tr>\n",
       "</table>"
      ],
      "text/latex": [
       "\\begin{center}\n",
       "\\begin{tabular}{lcccccc}\n",
       "\\toprule\n",
       "                & \\textbf{coef} & \\textbf{std err} & \\textbf{t} & \\textbf{P$> |$t$|$} & \\textbf{[0.025} & \\textbf{0.975]}  \\\\\n",
       "\\midrule\n",
       "\\textbf{const}  &      -6.4899  &        1.155     &    -5.621  &         0.000        &       -8.827    &       -4.152     \\\\\n",
       "\\textbf{s(2,4)} &      -0.1291  &        0.066     &    -1.956  &         0.050        &       -0.263    &        0.005     \\\\\n",
       "\\textbf{s(3,4)} &      -0.0603  &        0.039     &    -1.545  &         0.122        &       -0.139    &        0.019     \\\\\n",
       "\\textbf{s(4,4)} &      -0.1810  &        0.071     &    -2.562  &         0.010        &       -0.324    &       -0.038     \\\\\n",
       "\\textbf{lrm.L1} &       1.0000  &            0     &       nan  &           nan        &        1.000    &        1.000     \\\\\n",
       "\\textbf{lry.L1} &      -0.9585  &        0.187     &    -5.137  &         0.000        &       -1.336    &       -0.581     \\\\\n",
       "\\textbf{ibo.L1} &       4.7641  &        0.826     &     5.768  &         0.000        &        3.092    &        6.436     \\\\\n",
       "\\textbf{ide.L1} &      -2.5708  &        1.461     &    -1.760  &         0.078        &       -5.529    &        0.387     \\\\\n",
       "\\bottomrule\n",
       "\\end{tabular}\n",
       "%\\caption{Cointegrating Vector}\n",
       "\\end{center}"
      ],
      "text/plain": [
       "<class 'statsmodels.iolib.summary.Summary'>\n",
       "\"\"\"\n",
       "                             Cointegrating Vector                             \n",
       "==============================================================================\n",
       "                 coef    std err          t      P>|t|      [0.025      0.975]\n",
       "------------------------------------------------------------------------------\n",
       "const         -6.4899      1.155     -5.621      0.000      -8.827      -4.152\n",
       "s(2,4)        -0.1291      0.066     -1.956      0.050      -0.263       0.005\n",
       "s(3,4)        -0.0603      0.039     -1.545      0.122      -0.139       0.019\n",
       "s(4,4)        -0.1810      0.071     -2.562      0.010      -0.324      -0.038\n",
       "lrm.L1         1.0000          0        nan        nan       1.000       1.000\n",
       "lry.L1        -0.9585      0.187     -5.137      0.000      -1.336      -0.581\n",
       "ibo.L1         4.7641      0.826      5.768      0.000       3.092       6.436\n",
       "ide.L1        -2.5708      1.461     -1.760      0.078      -5.529       0.387\n",
       "==============================================================================\n",
       "\"\"\""
      ]
     },
     "execution_count": 17,
     "metadata": {},
     "output_type": "execute_result"
    }
   ],
   "source": [
    "seasonal_ecm_res.ci_summary()"
   ]
  },
  {
   "cell_type": "markdown",
   "id": "09de88a7-ba21-4126-8b63-1f8d201f1412",
   "metadata": {},
   "source": [
    "The residuals are somewhat more random in appearance."
   ]
  },
  {
   "cell_type": "code",
   "execution_count": 18,
   "id": "cb22aa49-5c7b-4e4e-8382-4b2df05f9980",
   "metadata": {
    "execution": {
     "iopub.execute_input": "2025-09-08T14:04:45.904418Z",
     "iopub.status.busy": "2025-09-08T14:04:45.903534Z",
     "iopub.status.idle": "2025-09-08T14:04:46.467470Z",
     "shell.execute_reply": "2025-09-08T14:04:46.466777Z"
    }
   },
   "outputs": [
    {
     "data": {
      "image/png": "[encoded data removed]",
      "text/plain": [
       "<Figure size 1600x600 with 1 Axes>"
      ]
     },
     "metadata": {},
     "output_type": "display_data"
    }
   ],
   "source": [
    "_ = seasonal_ecm_res.ci_resids.plot(title=\"Cointegrating Error with Seasonality\")"
   ]
  },
  {
   "cell_type": "markdown",
   "id": "a394c3ac-c4de-4e13-8286-c578afa22095",
   "metadata": {},
   "source": [
    "## The relationship between Consumption and Growth\n",
    "\n",
    "Here we look at an example from Greene's _Econometric analysis_ which focuses on teh long-run relationship between consumption and growth. We start by downloading the raw data.\n",
    "\n",
    "Greene, W. H. (2000). Econometric analysis 4th edition. International edition, New Jersey: Prentice Hall, 201-215."
   ]
  },
  {
   "cell_type": "code",
   "execution_count": 19,
   "id": "db8d65eb-2ea5-4ced-bd72-45159dd72787",
   "metadata": {
    "execution": {
     "iopub.execute_input": "2025-09-08T14:04:46.472522Z",
     "iopub.status.busy": "2025-09-08T14:04:46.472264Z",
     "iopub.status.idle": "2025-09-08T14:04:46.820545Z",
     "shell.execute_reply": "2025-09-08T14:04:46.819860Z"
    }
   },
   "outputs": [
    {
     "data": {
      "text/html": [
       "<div>\n",
       "<style scoped>\n",
       "    .dataframe tbody tr th:only-of-type {\n",
       "        vertical-align: middle;\n",
       "    }\n",
       "\n",
       "    .dataframe tbody tr th {\n",
       "        vertical-align: top;\n",
       "    }\n",
       "\n",
       "    .dataframe thead th {\n",
       "        text-align: right;\n",
       "    }\n",
       "</style>\n",
       "<table border=\"1\" class=\"dataframe\">\n",
       "  <thead>\n",
       "    <tr style=\"text-align: right;\">\n",
       "      <th></th>\n",
       "      <th>Year</th>\n",
       "      <th>qtr</th>\n",
       "      <th>realgdp</th>\n",
       "      <th>realcons</th>\n",
       "      <th>realinvs realgovt realdpi cpi_u M1</th>\n",
       "      <th>tbilrate</th>\n",
       "      <th>unemp</th>\n",
       "      <th>pop</th>\n",
       "      <th>infl</th>\n",
       "      <th>realint</th>\n",
       "    </tr>\n",
       "  </thead>\n",
       "  <tbody>\n",
       "    <tr>\n",
       "      <th>0</th>\n",
       "      <td>1950.0</td>\n",
       "      <td>1.0</td>\n",
       "      <td>1610.5</td>\n",
       "      <td>1058.9</td>\n",
       "      <td>198.1   361.0  1186.1  70.6   110.20</td>\n",
       "      <td>1.12</td>\n",
       "      <td>6.4</td>\n",
       "      <td>149.461</td>\n",
       "      <td>0.0000</td>\n",
       "      <td>0.0000</td>\n",
       "    </tr>\n",
       "    <tr>\n",
       "      <th>1</th>\n",
       "      <td>1950.0</td>\n",
       "      <td>2.0</td>\n",
       "      <td>1658.8</td>\n",
       "      <td>1075.9</td>\n",
       "      <td>220.4   366.4  1178.1  71.4   111.75</td>\n",
       "      <td>1.17</td>\n",
       "      <td>5.6</td>\n",
       "      <td>150.260</td>\n",
       "      <td>4.5071</td>\n",
       "      <td>-3.3404</td>\n",
       "    </tr>\n",
       "    <tr>\n",
       "      <th>2</th>\n",
       "      <td>1950.0</td>\n",
       "      <td>3.0</td>\n",
       "      <td>1723.0</td>\n",
       "      <td>1131.0</td>\n",
       "      <td>239.7   359.6  1196.5  73.2   112.95</td>\n",
       "      <td>1.23</td>\n",
       "      <td>4.6</td>\n",
       "      <td>151.064</td>\n",
       "      <td>9.9590</td>\n",
       "      <td>-8.7290</td>\n",
       "    </tr>\n",
       "    <tr>\n",
       "      <th>3</th>\n",
       "      <td>1950.0</td>\n",
       "      <td>4.0</td>\n",
       "      <td>1753.9</td>\n",
       "      <td>1097.6</td>\n",
       "      <td>271.8   382.5  1210.0  74.9   113.93</td>\n",
       "      <td>1.35</td>\n",
       "      <td>4.2</td>\n",
       "      <td>151.871</td>\n",
       "      <td>9.1834</td>\n",
       "      <td>-7.8301</td>\n",
       "    </tr>\n",
       "    <tr>\n",
       "      <th>4</th>\n",
       "      <td>1951.0</td>\n",
       "      <td>1.0</td>\n",
       "      <td>1773.5</td>\n",
       "      <td>1122.8</td>\n",
       "      <td>242.9   421.9  1207.9  77.3   115.08</td>\n",
       "      <td>1.40</td>\n",
       "      <td>3.5</td>\n",
       "      <td>152.393</td>\n",
       "      <td>12.6160</td>\n",
       "      <td>-11.2160</td>\n",
       "    </tr>\n",
       "  </tbody>\n",
       "</table>\n",
       "</div>"
      ],
      "text/plain": [
       "     Year  qtr  realgdp  realcons    realinvs realgovt realdpi cpi_u M1  \\\n",
       "0  1950.0  1.0   1610.5    1058.9  198.1   361.0  1186.1  70.6   110.20   \n",
       "1  1950.0  2.0   1658.8    1075.9  220.4   366.4  1178.1  71.4   111.75   \n",
       "2  1950.0  3.0   1723.0    1131.0  239.7   359.6  1196.5  73.2   112.95   \n",
       "3  1950.0  4.0   1753.9    1097.6  271.8   382.5  1210.0  74.9   113.93   \n",
       "4  1951.0  1.0   1773.5    1122.8  242.9   421.9  1207.9  77.3   115.08   \n",
       "\n",
       "   tbilrate  unemp      pop     infl  realint  \n",
       "0      1.12    6.4  149.461   0.0000   0.0000  \n",
       "1      1.17    5.6  150.260   4.5071  -3.3404  \n",
       "2      1.23    4.6  151.064   9.9590  -8.7290  \n",
       "3      1.35    4.2  151.871   9.1834  -7.8301  \n",
       "4      1.40    3.5  152.393  12.6160 -11.2160  "
      ]
     },
     "execution_count": 19,
     "metadata": {},
     "output_type": "execute_result"
    }
   ],
   "source": [
    "greene = pd.read_fwf(\n",
    "    \"https://raw.githubusercontent.com/statsmodels/smdatasets/main/data/autoregressive-distributed-lag/green/ardl_data.txt\"\n",
    ")\n",
    "greene.head()"
   ]
  },
  {
   "cell_type": "markdown",
   "id": "9c3b0d83-e9b2-4f60-86b3-d7672fd73fe9",
   "metadata": {},
   "source": [
    "We then transform the index to be a pandas `DatetimeIndex` so that we can easily use seasonal terms."
   ]
  },
  {
   "cell_type": "code",
   "execution_count": 20,
   "id": "96110bd7-6445-45c6-838b-cb091c526a9b",
   "metadata": {
    "execution": {
     "iopub.execute_input": "2025-09-08T14:04:46.826538Z",
     "iopub.status.busy": "2025-09-08T14:04:46.822989Z",
     "iopub.status.idle": "2025-09-08T14:04:46.858923Z",
     "shell.execute_reply": "2025-09-08T14:04:46.858256Z"
    }
   },
   "outputs": [
    {
     "name": "stderr",
     "output_type": "stream",
     "text": [
      "/tmp/ipykernel_5614/2457281465.py:1: UserWarning: Could not infer format, so each element will be parsed individually, falling back to `dateutil`. To ensure parsing is consistent and as-expected, please specify a format.\n",
      "  index = pd.to_datetime(\n"
     ]
    },
    {
     "data": {
      "text/html": [
       "<div>\n",
       "<style scoped>\n",
       "    .dataframe tbody tr th:only-of-type {\n",
       "        vertical-align: middle;\n",
       "    }\n",
       "\n",
       "    .dataframe tbody tr th {\n",
       "        vertical-align: top;\n",
       "    }\n",
       "\n",
       "    .dataframe thead th {\n",
       "        text-align: right;\n",
       "    }\n",
       "</style>\n",
       "<table border=\"1\" class=\"dataframe\">\n",
       "  <thead>\n",
       "    <tr style=\"text-align: right;\">\n",
       "      <th></th>\n",
       "      <th>Year</th>\n",
       "      <th>qtr</th>\n",
       "      <th>realgdp</th>\n",
       "      <th>realcons</th>\n",
       "      <th>realinvs realgovt realdpi cpi_u M1</th>\n",
       "      <th>tbilrate</th>\n",
       "      <th>unemp</th>\n",
       "      <th>pop</th>\n",
       "      <th>infl</th>\n",
       "      <th>realint</th>\n",
       "    </tr>\n",
       "  </thead>\n",
       "  <tbody>\n",
       "    <tr>\n",
       "      <th>1950-01-01</th>\n",
       "      <td>1950.0</td>\n",
       "      <td>1.0</td>\n",
       "      <td>1610.5</td>\n",
       "      <td>1058.9</td>\n",
       "      <td>198.1   361.0  1186.1  70.6   110.20</td>\n",
       "      <td>1.12</td>\n",
       "      <td>6.4</td>\n",
       "      <td>149.461</td>\n",
       "      <td>0.0000</td>\n",
       "      <td>0.0000</td>\n",
       "    </tr>\n",
       "    <tr>\n",
       "      <th>1950-04-01</th>\n",
       "      <td>1950.0</td>\n",
       "      <td>2.0</td>\n",
       "      <td>1658.8</td>\n",
       "      <td>1075.9</td>\n",
       "      <td>220.4   366.4  1178.1  71.4   111.75</td>\n",
       "      <td>1.17</td>\n",
       "      <td>5.6</td>\n",
       "      <td>150.260</td>\n",
       "      <td>4.5071</td>\n",
       "      <td>-3.3404</td>\n",
       "    </tr>\n",
       "    <tr>\n",
       "      <th>1950-07-01</th>\n",
       "      <td>1950.0</td>\n",
       "      <td>3.0</td>\n",
       "      <td>1723.0</td>\n",
       "      <td>1131.0</td>\n",
       "      <td>239.7   359.6  1196.5  73.2   112.95</td>\n",
       "      <td>1.23</td>\n",
       "      <td>4.6</td>\n",
       "      <td>151.064</td>\n",
       "      <td>9.9590</td>\n",
       "      <td>-8.7290</td>\n",
       "    </tr>\n",
       "    <tr>\n",
       "      <th>1950-10-01</th>\n",
       "      <td>1950.0</td>\n",
       "      <td>4.0</td>\n",
       "      <td>1753.9</td>\n",
       "      <td>1097.6</td>\n",
       "      <td>271.8   382.5  1210.0  74.9   113.93</td>\n",
       "      <td>1.35</td>\n",
       "      <td>4.2</td>\n",
       "      <td>151.871</td>\n",
       "      <td>9.1834</td>\n",
       "      <td>-7.8301</td>\n",
       "    </tr>\n",
       "    <tr>\n",
       "      <th>1951-01-01</th>\n",
       "      <td>1951.0</td>\n",
       "      <td>1.0</td>\n",
       "      <td>1773.5</td>\n",
       "      <td>1122.8</td>\n",
       "      <td>242.9   421.9  1207.9  77.3   115.08</td>\n",
       "      <td>1.40</td>\n",
       "      <td>3.5</td>\n",
       "      <td>152.393</td>\n",
       "      <td>12.6160</td>\n",
       "      <td>-11.2160</td>\n",
       "    </tr>\n",
       "  </tbody>\n",
       "</table>\n",
       "</div>"
      ],
      "text/plain": [
       "              Year  qtr  realgdp  realcons  \\\n",
       "1950-01-01  1950.0  1.0   1610.5    1058.9   \n",
       "1950-04-01  1950.0  2.0   1658.8    1075.9   \n",
       "1950-07-01  1950.0  3.0   1723.0    1131.0   \n",
       "1950-10-01  1950.0  4.0   1753.9    1097.6   \n",
       "1951-01-01  1951.0  1.0   1773.5    1122.8   \n",
       "\n",
       "              realinvs realgovt realdpi cpi_u M1  tbilrate  unemp      pop  \\\n",
       "1950-01-01  198.1   361.0  1186.1  70.6   110.20      1.12    6.4  149.461   \n",
       "1950-04-01  220.4   366.4  1178.1  71.4   111.75      1.17    5.6  150.260   \n",
       "1950-07-01  239.7   359.6  1196.5  73.2   112.95      1.23    4.6  151.064   \n",
       "1950-10-01  271.8   382.5  1210.0  74.9   113.93      1.35    4.2  151.871   \n",
       "1951-01-01  242.9   421.9  1207.9  77.3   115.08      1.40    3.5  152.393   \n",
       "\n",
       "               infl  realint  \n",
       "1950-01-01   0.0000   0.0000  \n",
       "1950-04-01   4.5071  -3.3404  \n",
       "1950-07-01   9.9590  -8.7290  \n",
       "1950-10-01   9.1834  -7.8301  \n",
       "1951-01-01  12.6160 -11.2160  "
      ]
     },
     "execution_count": 20,
     "metadata": {},
     "output_type": "execute_result"
    }
   ],
   "source": [
    "index = pd.to_datetime(\n",
    "    greene.Year.astype(\"int\").astype(\"str\")\n",
    "    + \"Q\"\n",
    "    + greene.qtr.astype(\"int\").astype(\"str\")\n",
    ")\n",
    "greene.index = index\n",
    "greene.index.freq = greene.index.inferred_freq\n",
    "greene.head()"
   ]
  },
  {
   "cell_type": "markdown",
   "id": "2b7f7b30-72a5-4263-92f4-4365f9d0cbfb",
   "metadata": {},
   "source": [
    "We defined `g` as the log of real gdp and `c` as the log of real consumption."
   ]
  },
  {
   "cell_type": "code",
   "execution_count": 21,
   "id": "78428267-7756-434f-899a-f40ae180e7e4",
   "metadata": {
    "execution": {
     "iopub.execute_input": "2025-09-08T14:04:46.862914Z",
     "iopub.status.busy": "2025-09-08T14:04:46.862697Z",
     "iopub.status.idle": "2025-09-08T14:04:46.869900Z",
     "shell.execute_reply": "2025-09-08T14:04:46.869291Z"
    }
   },
   "outputs": [],
   "source": [
    "greene[\"c\"] = np.log(greene.realcons)\n",
    "greene[\"g\"] = np.log(greene.realgdp)"
   ]
  },
  {
   "cell_type": "markdown",
   "id": "9def354e-f815-40e2-a1b0-f1e3f0f89d0d",
   "metadata": {},
   "source": [
    "### Lag Length Selection\n",
    "\n",
    "The selected model contains 5 lags of consumption and 2 of growth (0 and 1). Here we include seasonal terms although these are not significant."
   ]
  },
  {
   "cell_type": "code",
   "execution_count": 22,
   "id": "d5160337-96e1-429c-8cee-7dd096e1ee04",
   "metadata": {
    "execution": {
     "iopub.execute_input": "2025-09-08T14:04:46.871982Z",
     "iopub.status.busy": "2025-09-08T14:04:46.871771Z",
     "iopub.status.idle": "2025-09-08T14:04:46.927604Z",
     "shell.execute_reply": "2025-09-08T14:04:46.921410Z"
    }
   },
   "outputs": [
    {
     "data": {
      "text/plain": [
       "(5, 1)"
      ]
     },
     "execution_count": 22,
     "metadata": {},
     "output_type": "execute_result"
    }
   ],
   "source": [
    "sel_res = ardl_select_order(\n",
    "    greene.c, 8, greene[[\"g\"]], 8, trend=\"c\", seasonal=True, ic=\"aic\"\n",
    ")\n",
    "ardl = sel_res.model\n",
    "ardl.ardl_order"
   ]
  },
  {
   "cell_type": "code",
   "execution_count": 23,
   "id": "deba851b-1617-4ab2-acc5-0909d1835edc",
   "metadata": {
    "execution": {
     "iopub.execute_input": "2025-09-08T14:04:46.932223Z",
     "iopub.status.busy": "2025-09-08T14:04:46.931994Z",
     "iopub.status.idle": "2025-09-08T14:04:47.004791Z",
     "shell.execute_reply": "2025-09-08T14:04:47.004199Z"
    }
   },
   "outputs": [
    {
     "data": {
      "text/html": [
       "<table class=\"simpletable\">\n",
       "<caption>ARDL Model Results</caption>\n",
       "<tr>\n",
       "  <th>Dep. Variable:</th>         <td>c</td>        <th>  No. Observations:  </th>    <td>204</td>   \n",
       "</tr>\n",
       "<tr>\n",
       "  <th>Model:</th>         <td>Seas. ARDL(5, 1)</td> <th>  Log Likelihood     </th>  <td>747.939</td> \n",
       "</tr>\n",
       "<tr>\n",
       "  <th>Method:</th>         <td>Conditional MLE</td> <th>  S.D. of innovations</th>   <td>0.006</td>  \n",
       "</tr>\n",
       "<tr>\n",
       "  <th>Date:</th>          <td>Mon, 08 Sep 2025</td> <th>  AIC                </th> <td>-1471.878</td>\n",
       "</tr>\n",
       "<tr>\n",
       "  <th>Time:</th>              <td>14:04:46</td>     <th>  BIC                </th> <td>-1432.358</td>\n",
       "</tr>\n",
       "<tr>\n",
       "  <th>Sample:</th>           <td>04-01-1951</td>    <th>  HQIC               </th> <td>-1455.883</td>\n",
       "</tr>\n",
       "<tr>\n",
       "  <th></th>                 <td>- 10-01-2000</td>   <th>                     </th>     <td> </td>    \n",
       "</tr>\n",
       "</table>\n",
       "<table class=\"simpletable\">\n",
       "<tr>\n",
       "     <td></td>       <th>coef</th>     <th>std err</th>      <th>z</th>      <th>P>|z|</th>  <th>[0.025</th>    <th>0.975]</th>  \n",
       "</tr>\n",
       "<tr>\n",
       "  <th>const</th>  <td>   -0.0586</td> <td>    0.028</td> <td>   -2.103</td> <td> 0.037</td> <td>   -0.113</td> <td>   -0.004</td>\n",
       "</tr>\n",
       "<tr>\n",
       "  <th>s(2,4)</th> <td>   -0.0001</td> <td>    0.001</td> <td>   -0.087</td> <td> 0.930</td> <td>   -0.002</td> <td>    0.002</td>\n",
       "</tr>\n",
       "<tr>\n",
       "  <th>s(3,4)</th> <td>    0.0012</td> <td>    0.001</td> <td>    1.026</td> <td> 0.306</td> <td>   -0.001</td> <td>    0.004</td>\n",
       "</tr>\n",
       "<tr>\n",
       "  <th>s(4,4)</th> <td>    0.0003</td> <td>    0.001</td> <td>    0.296</td> <td> 0.768</td> <td>   -0.002</td> <td>    0.003</td>\n",
       "</tr>\n",
       "<tr>\n",
       "  <th>c.L1</th>   <td>    0.8545</td> <td>    0.064</td> <td>   13.263</td> <td> 0.000</td> <td>    0.727</td> <td>    0.982</td>\n",
       "</tr>\n",
       "<tr>\n",
       "  <th>c.L2</th>   <td>    0.2588</td> <td>    0.082</td> <td>    3.151</td> <td> 0.002</td> <td>    0.097</td> <td>    0.421</td>\n",
       "</tr>\n",
       "<tr>\n",
       "  <th>c.L3</th>   <td>   -0.1566</td> <td>    0.072</td> <td>   -2.190</td> <td> 0.030</td> <td>   -0.298</td> <td>   -0.016</td>\n",
       "</tr>\n",
       "<tr>\n",
       "  <th>c.L4</th>   <td>   -0.1941</td> <td>    0.070</td> <td>   -2.754</td> <td> 0.006</td> <td>   -0.333</td> <td>   -0.055</td>\n",
       "</tr>\n",
       "<tr>\n",
       "  <th>c.L5</th>   <td>    0.1695</td> <td>    0.048</td> <td>    3.495</td> <td> 0.001</td> <td>    0.074</td> <td>    0.265</td>\n",
       "</tr>\n",
       "<tr>\n",
       "  <th>g.L0</th>   <td>    0.5476</td> <td>    0.048</td> <td>   11.350</td> <td> 0.000</td> <td>    0.452</td> <td>    0.643</td>\n",
       "</tr>\n",
       "<tr>\n",
       "  <th>g.L1</th>   <td>   -0.4757</td> <td>    0.051</td> <td>   -9.311</td> <td> 0.000</td> <td>   -0.576</td> <td>   -0.375</td>\n",
       "</tr>\n",
       "</table>"
      ],
      "text/latex": [
       "\\begin{center}\n",
       "\\begin{tabular}{lclc}\n",
       "\\toprule\n",
       "\\textbf{Dep. Variable:} &        c         & \\textbf{  No. Observations:  } &    204      \\\\\n",
       "\\textbf{Model:}         & Seas. ARDL(5, 1) & \\textbf{  Log Likelihood     } &  747.939    \\\\\n",
       "\\textbf{Method:}        & Conditional MLE  & \\textbf{  S.D. of innovations} &   0.006     \\\\\n",
       "\\textbf{Date:}          & Mon, 08 Sep 2025 & \\textbf{  AIC                } & -1471.878   \\\\\n",
       "\\textbf{Time:}          &     14:04:46     & \\textbf{  BIC                } & -1432.358   \\\\\n",
       "\\textbf{Sample:}        &    04-01-1951    & \\textbf{  HQIC               } & -1455.883   \\\\\n",
       "\\textbf{}               &   - 10-01-2000   & \\textbf{                     } &             \\\\\n",
       "\\bottomrule\n",
       "\\end{tabular}\n",
       "\\begin{tabular}{lcccccc}\n",
       "                & \\textbf{coef} & \\textbf{std err} & \\textbf{z} & \\textbf{P$> |$z$|$} & \\textbf{[0.025} & \\textbf{0.975]}  \\\\\n",
       "\\midrule\n",
       "\\textbf{const}  &      -0.0586  &        0.028     &    -2.103  &         0.037        &       -0.113    &       -0.004     \\\\\n",
       "\\textbf{s(2,4)} &      -0.0001  &        0.001     &    -0.087  &         0.930        &       -0.002    &        0.002     \\\\\n",
       "\\textbf{s(3,4)} &       0.0012  &        0.001     &     1.026  &         0.306        &       -0.001    &        0.004     \\\\\n",
       "\\textbf{s(4,4)} &       0.0003  &        0.001     &     0.296  &         0.768        &       -0.002    &        0.003     \\\\\n",
       "\\textbf{c.L1}   &       0.8545  &        0.064     &    13.263  &         0.000        &        0.727    &        0.982     \\\\\n",
       "\\textbf{c.L2}   &       0.2588  &        0.082     &     3.151  &         0.002        &        0.097    &        0.421     \\\\\n",
       "\\textbf{c.L3}   &      -0.1566  &        0.072     &    -2.190  &         0.030        &       -0.298    &       -0.016     \\\\\n",
       "\\textbf{c.L4}   &      -0.1941  &        0.070     &    -2.754  &         0.006        &       -0.333    &       -0.055     \\\\\n",
       "\\textbf{c.L5}   &       0.1695  &        0.048     &     3.495  &         0.001        &        0.074    &        0.265     \\\\\n",
       "\\textbf{g.L0}   &       0.5476  &        0.048     &    11.350  &         0.000        &        0.452    &        0.643     \\\\\n",
       "\\textbf{g.L1}   &      -0.4757  &        0.051     &    -9.311  &         0.000        &       -0.576    &       -0.375     \\\\\n",
       "\\bottomrule\n",
       "\\end{tabular}\n",
       "%\\caption{ARDL Model Results}\n",
       "\\end{center}"
      ],
      "text/plain": [
       "<class 'statsmodels.iolib.summary.Summary'>\n",
       "\"\"\"\n",
       "                              ARDL Model Results                              \n",
       "==============================================================================\n",
       "Dep. Variable:                      c   No. Observations:                  204\n",
       "Model:               Seas. ARDL(5, 1)   Log Likelihood                 747.939\n",
       "Method:               Conditional MLE   S.D. of innovations              0.006\n",
       "Date:                Mon, 08 Sep 2025   AIC                          -1471.878\n",
       "Time:                        14:04:46   BIC                          -1432.358\n",
       "Sample:                    04-01-1951   HQIC                         -1455.883\n",
       "                         - 10-01-2000                                         \n",
       "==============================================================================\n",
       "                 coef    std err          z      P>|z|      [0.025      0.975]\n",
       "------------------------------------------------------------------------------\n",
       "const         -0.0586      0.028     -2.103      0.037      -0.113      -0.004\n",
       "s(2,4)        -0.0001      0.001     -0.087      0.930      -0.002       0.002\n",
       "s(3,4)         0.0012      0.001      1.026      0.306      -0.001       0.004\n",
       "s(4,4)         0.0003      0.001      0.296      0.768      -0.002       0.003\n",
       "c.L1           0.8545      0.064     13.263      0.000       0.727       0.982\n",
       "c.L2           0.2588      0.082      3.151      0.002       0.097       0.421\n",
       "c.L3          -0.1566      0.072     -2.190      0.030      -0.298      -0.016\n",
       "c.L4          -0.1941      0.070     -2.754      0.006      -0.333      -0.055\n",
       "c.L5           0.1695      0.048      3.495      0.001       0.074       0.265\n",
       "g.L0           0.5476      0.048     11.350      0.000       0.452       0.643\n",
       "g.L1          -0.4757      0.051     -9.311      0.000      -0.576      -0.375\n",
       "==============================================================================\n",
       "\"\"\""
      ]
     },
     "execution_count": 23,
     "metadata": {},
     "output_type": "execute_result"
    }
   ],
   "source": [
    "res = ardl.fit(use_t=True)\n",
    "res.summary()"
   ]
  },
  {
   "cell_type": "markdown",
   "id": "1bc10eb0-4a92-4885-a774-91d3192b1200",
   "metadata": {},
   "source": [
    "`from_ardl` is a simple way to get the equivalent UECM specification. Here we rerun the selection without the seasonal terms."
   ]
  },
  {
   "cell_type": "code",
   "execution_count": 24,
   "id": "d4f97468-beaa-47d0-9078-e7eee3d3da64",
   "metadata": {
    "execution": {
     "iopub.execute_input": "2025-09-08T14:04:47.007260Z",
     "iopub.status.busy": "2025-09-08T14:04:47.007004Z",
     "iopub.status.idle": "2025-09-08T14:04:47.102012Z",
     "shell.execute_reply": "2025-09-08T14:04:47.101408Z"
    }
   },
   "outputs": [
    {
     "data": {
      "text/html": [
       "<table class=\"simpletable\">\n",
       "<caption>UECM Model Results</caption>\n",
       "<tr>\n",
       "  <th>Dep. Variable:</th>        <td>D.c</td>       <th>  No. Observations:  </th>    <td>204</td>   \n",
       "</tr>\n",
       "<tr>\n",
       "  <th>Model:</th>            <td>UECM(5, 1)</td>    <th>  Log Likelihood     </th>  <td>747.131</td> \n",
       "</tr>\n",
       "<tr>\n",
       "  <th>Method:</th>         <td>Conditional MLE</td> <th>  S.D. of innovations</th>   <td>0.006</td>  \n",
       "</tr>\n",
       "<tr>\n",
       "  <th>Date:</th>          <td>Mon, 08 Sep 2025</td> <th>  AIC                </th> <td>-1476.262</td>\n",
       "</tr>\n",
       "<tr>\n",
       "  <th>Time:</th>              <td>14:04:47</td>     <th>  BIC                </th> <td>-1446.622</td>\n",
       "</tr>\n",
       "<tr>\n",
       "  <th>Sample:</th>           <td>04-01-1951</td>    <th>  HQIC               </th> <td>-1464.266</td>\n",
       "</tr>\n",
       "<tr>\n",
       "  <th></th>                 <td>- 10-01-2000</td>   <th>                     </th>     <td> </td>    \n",
       "</tr>\n",
       "</table>\n",
       "<table class=\"simpletable\">\n",
       "<tr>\n",
       "     <td></td>       <th>coef</th>     <th>std err</th>      <th>z</th>      <th>P>|z|</th>  <th>[0.025</th>    <th>0.975]</th>  \n",
       "</tr>\n",
       "<tr>\n",
       "  <th>const</th>  <td>   -0.0586</td> <td>    0.028</td> <td>   -2.115</td> <td> 0.036</td> <td>   -0.113</td> <td>   -0.004</td>\n",
       "</tr>\n",
       "<tr>\n",
       "  <th>c.L1</th>   <td>   -0.0684</td> <td>    0.028</td> <td>   -2.406</td> <td> 0.017</td> <td>   -0.125</td> <td>   -0.012</td>\n",
       "</tr>\n",
       "<tr>\n",
       "  <th>g.L1</th>   <td>    0.0725</td> <td>    0.030</td> <td>    2.400</td> <td> 0.017</td> <td>    0.013</td> <td>    0.132</td>\n",
       "</tr>\n",
       "<tr>\n",
       "  <th>D.c.L1</th> <td>   -0.0767</td> <td>    0.059</td> <td>   -1.302</td> <td> 0.195</td> <td>   -0.193</td> <td>    0.040</td>\n",
       "</tr>\n",
       "<tr>\n",
       "  <th>D.c.L2</th> <td>    0.1842</td> <td>    0.053</td> <td>    3.495</td> <td> 0.001</td> <td>    0.080</td> <td>    0.288</td>\n",
       "</tr>\n",
       "<tr>\n",
       "  <th>D.c.L3</th> <td>    0.0198</td> <td>    0.049</td> <td>    0.404</td> <td> 0.687</td> <td>   -0.077</td> <td>    0.116</td>\n",
       "</tr>\n",
       "<tr>\n",
       "  <th>D.c.L4</th> <td>   -0.1664</td> <td>    0.048</td> <td>   -3.460</td> <td> 0.001</td> <td>   -0.261</td> <td>   -0.072</td>\n",
       "</tr>\n",
       "<tr>\n",
       "  <th>D.g.L0</th> <td>    0.5440</td> <td>    0.048</td> <td>   11.372</td> <td> 0.000</td> <td>    0.450</td> <td>    0.638</td>\n",
       "</tr>\n",
       "</table>"
      ],
      "text/latex": [
       "\\begin{center}\n",
       "\\begin{tabular}{lclc}\n",
       "\\toprule\n",
       "\\textbf{Dep. Variable:} &       D.c        & \\textbf{  No. Observations:  } &    204      \\\\\n",
       "\\textbf{Model:}         &    UECM(5, 1)    & \\textbf{  Log Likelihood     } &  747.131    \\\\\n",
       "\\textbf{Method:}        & Conditional MLE  & \\textbf{  S.D. of innovations} &   0.006     \\\\\n",
       "\\textbf{Date:}          & Mon, 08 Sep 2025 & \\textbf{  AIC                } & -1476.262   \\\\\n",
       "\\textbf{Time:}          &     14:04:47     & \\textbf{  BIC                } & -1446.622   \\\\\n",
       "\\textbf{Sample:}        &    04-01-1951    & \\textbf{  HQIC               } & -1464.266   \\\\\n",
       "\\textbf{}               &   - 10-01-2000   & \\textbf{                     } &             \\\\\n",
       "\\bottomrule\n",
       "\\end{tabular}\n",
       "\\begin{tabular}{lcccccc}\n",
       "                & \\textbf{coef} & \\textbf{std err} & \\textbf{z} & \\textbf{P$> |$z$|$} & \\textbf{[0.025} & \\textbf{0.975]}  \\\\\n",
       "\\midrule\n",
       "\\textbf{const}  &      -0.0586  &        0.028     &    -2.115  &         0.036        &       -0.113    &       -0.004     \\\\\n",
       "\\textbf{c.L1}   &      -0.0684  &        0.028     &    -2.406  &         0.017        &       -0.125    &       -0.012     \\\\\n",
       "\\textbf{g.L1}   &       0.0725  &        0.030     &     2.400  &         0.017        &        0.013    &        0.132     \\\\\n",
       "\\textbf{D.c.L1} &      -0.0767  &        0.059     &    -1.302  &         0.195        &       -0.193    &        0.040     \\\\\n",
       "\\textbf{D.c.L2} &       0.1842  &        0.053     &     3.495  &         0.001        &        0.080    &        0.288     \\\\\n",
       "\\textbf{D.c.L3} &       0.0198  &        0.049     &     0.404  &         0.687        &       -0.077    &        0.116     \\\\\n",
       "\\textbf{D.c.L4} &      -0.1664  &        0.048     &    -3.460  &         0.001        &       -0.261    &       -0.072     \\\\\n",
       "\\textbf{D.g.L0} &       0.5440  &        0.048     &    11.372  &         0.000        &        0.450    &        0.638     \\\\\n",
       "\\bottomrule\n",
       "\\end{tabular}\n",
       "%\\caption{UECM Model Results}\n",
       "\\end{center}"
      ],
      "text/plain": [
       "<class 'statsmodels.iolib.summary.Summary'>\n",
       "\"\"\"\n",
       "                              UECM Model Results                              \n",
       "==============================================================================\n",
       "Dep. Variable:                    D.c   No. Observations:                  204\n",
       "Model:                     UECM(5, 1)   Log Likelihood                 747.131\n",
       "Method:               Conditional MLE   S.D. of innovations              0.006\n",
       "Date:                Mon, 08 Sep 2025   AIC                          -1476.262\n",
       "Time:                        14:04:47   BIC                          -1446.622\n",
       "Sample:                    04-01-1951   HQIC                         -1464.266\n",
       "                         - 10-01-2000                                         \n",
       "==============================================================================\n",
       "                 coef    std err          z      P>|z|      [0.025      0.975]\n",
       "------------------------------------------------------------------------------\n",
       "const         -0.0586      0.028     -2.115      0.036      -0.113      -0.004\n",
       "c.L1          -0.0684      0.028     -2.406      0.017      -0.125      -0.012\n",
       "g.L1           0.0725      0.030      2.400      0.017       0.013       0.132\n",
       "D.c.L1        -0.0767      0.059     -1.302      0.195      -0.193       0.040\n",
       "D.c.L2         0.1842      0.053      3.495      0.001       0.080       0.288\n",
       "D.c.L3         0.0198      0.049      0.404      0.687      -0.077       0.116\n",
       "D.c.L4        -0.1664      0.048     -3.460      0.001      -0.261      -0.072\n",
       "D.g.L0         0.5440      0.048     11.372      0.000       0.450       0.638\n",
       "==============================================================================\n",
       "\"\"\""
      ]
     },
     "execution_count": 24,
     "metadata": {},
     "output_type": "execute_result"
    }
   ],
   "source": [
    "sel_res = ardl_select_order(greene.c, 8, greene[[\"g\"]], 8, trend=\"c\", ic=\"aic\")\n",
    "\n",
    "uecm = UECM.from_ardl(sel_res.model)\n",
    "uecm_res = uecm.fit()\n",
    "uecm_res.summary()"
   ]
  },
  {
   "cell_type": "markdown",
   "id": "71443176-fca6-4105-80c8-eb18261f9724",
   "metadata": {},
   "source": [
    "We see that for every % increase in consumption, we need a 1.05% increase in gdp. In other words, the saving rate is estimated to be around 5%."
   ]
  },
  {
   "cell_type": "code",
   "execution_count": 25,
   "id": "43a66215-0416-4c6e-8c9f-423d87944a47",
   "metadata": {
    "execution": {
     "iopub.execute_input": "2025-09-08T14:04:47.107198Z",
     "iopub.status.busy": "2025-09-08T14:04:47.106976Z",
     "iopub.status.idle": "2025-09-08T14:04:47.141096Z",
     "shell.execute_reply": "2025-09-08T14:04:47.140524Z"
    }
   },
   "outputs": [
    {
     "data": {
      "text/html": [
       "<table class=\"simpletable\">\n",
       "<caption>Cointegrating Vector</caption>\n",
       "<tr>\n",
       "    <td></td>       <th>coef</th>     <th>std err</th>      <th>t</th>      <th>P>|t|</th>  <th>[0.025</th>    <th>0.975]</th>  \n",
       "</tr>\n",
       "<tr>\n",
       "  <th>const</th> <td>    0.8572</td> <td>    0.112</td> <td>    7.632</td> <td> 0.000</td> <td>    0.636</td> <td>    1.079</td>\n",
       "</tr>\n",
       "<tr>\n",
       "  <th>c.L1</th>  <td>    1.0000</td> <td>        0</td> <td>      nan</td> <td>   nan</td> <td>    1.000</td> <td>    1.000</td>\n",
       "</tr>\n",
       "<tr>\n",
       "  <th>g.L1</th>  <td>   -1.0590</td> <td>    0.013</td> <td>  -83.157</td> <td> 0.000</td> <td>   -1.084</td> <td>   -1.034</td>\n",
       "</tr>\n",
       "</table>"
      ],
      "text/latex": [
       "\\begin{center}\n",
       "\\begin{tabular}{lcccccc}\n",
       "\\toprule\n",
       "               & \\textbf{coef} & \\textbf{std err} & \\textbf{t} & \\textbf{P$> |$t$|$} & \\textbf{[0.025} & \\textbf{0.975]}  \\\\\n",
       "\\midrule\n",
       "\\textbf{const} &       0.8572  &        0.112     &     7.632  &         0.000        &        0.636    &        1.079     \\\\\n",
       "\\textbf{c.L1}  &       1.0000  &            0     &       nan  &           nan        &        1.000    &        1.000     \\\\\n",
       "\\textbf{g.L1}  &      -1.0590  &        0.013     &   -83.157  &         0.000        &       -1.084    &       -1.034     \\\\\n",
       "\\bottomrule\n",
       "\\end{tabular}\n",
       "%\\caption{Cointegrating Vector}\n",
       "\\end{center}"
      ],
      "text/plain": [
       "<class 'statsmodels.iolib.summary.Summary'>\n",
       "\"\"\"\n",
       "                             Cointegrating Vector                             \n",
       "==============================================================================\n",
       "                 coef    std err          t      P>|t|      [0.025      0.975]\n",
       "------------------------------------------------------------------------------\n",
       "const          0.8572      0.112      7.632      0.000       0.636       1.079\n",
       "c.L1           1.0000          0        nan        nan       1.000       1.000\n",
       "g.L1          -1.0590      0.013    -83.157      0.000      -1.084      -1.034\n",
       "==============================================================================\n",
       "\"\"\""
      ]
     },
     "execution_count": 25,
     "metadata": {},
     "output_type": "execute_result"
    }
   ],
   "source": [
    "uecm_res.ci_summary()"
   ]
  },
  {
   "cell_type": "code",
   "execution_count": 26,
   "id": "9e97dfd1-0c68-42db-b5f9-5038dd5719d5",
   "metadata": {
    "execution": {
     "iopub.execute_input": "2025-09-08T14:04:47.149960Z",
     "iopub.status.busy": "2025-09-08T14:04:47.149740Z",
     "iopub.status.idle": "2025-09-08T14:04:47.742671Z",
     "shell.execute_reply": "2025-09-08T14:04:47.734050Z"
    }
   },
   "outputs": [
    {
     "data": {
      "image/png": "[encoded data removed]",
      "text/plain": [
       "<Figure size 1600x600 with 1 Axes>"
      ]
     },
     "metadata": {},
     "output_type": "display_data"
    }
   ],
   "source": [
    "_ = uecm_res.ci_resids.plot(title=\"Cointegrating Error\")"
   ]
  },
  {
   "cell_type": "markdown",
   "id": "0e8eb317-74fc-4028-8cce-c17a311dff40",
   "metadata": {},
   "source": [
    "### Direct Specification of `UECM` models\n",
    "\n",
    "`UECM` can be used to directly specify model lag lengths."
   ]
  },
  {
   "cell_type": "code",
   "execution_count": 27,
   "id": "a4180f7b-65e8-4389-b68a-a7567aca759e",
   "metadata": {
    "execution": {
     "iopub.execute_input": "2025-09-08T14:04:47.753030Z",
     "iopub.status.busy": "2025-09-08T14:04:47.752793Z",
     "iopub.status.idle": "2025-09-08T14:04:47.814806Z",
     "shell.execute_reply": "2025-09-08T14:04:47.814202Z"
    }
   },
   "outputs": [
    {
     "data": {
      "text/html": [
       "<table class=\"simpletable\">\n",
       "<caption>UECM Model Results</caption>\n",
       "<tr>\n",
       "  <th>Dep. Variable:</th>        <td>D.c</td>       <th>  No. Observations:  </th>    <td>204</td>   \n",
       "</tr>\n",
       "<tr>\n",
       "  <th>Model:</th>            <td>UECM(2, 1)</td>    <th>  Log Likelihood     </th>  <td>724.499</td> \n",
       "</tr>\n",
       "<tr>\n",
       "  <th>Method:</th>         <td>Conditional MLE</td> <th>  S.D. of innovations</th>   <td>0.007</td>  \n",
       "</tr>\n",
       "<tr>\n",
       "  <th>Date:</th>          <td>Mon, 08 Sep 2025</td> <th>  AIC                </th> <td>-1436.998</td>\n",
       "</tr>\n",
       "<tr>\n",
       "  <th>Time:</th>              <td>14:04:47</td>     <th>  BIC                </th> <td>-1417.149</td>\n",
       "</tr>\n",
       "<tr>\n",
       "  <th>Sample:</th>           <td>07-01-1950</td>    <th>  HQIC               </th> <td>-1428.967</td>\n",
       "</tr>\n",
       "<tr>\n",
       "  <th></th>                 <td>- 10-01-2000</td>   <th>                     </th>     <td> </td>    \n",
       "</tr>\n",
       "</table>\n",
       "<table class=\"simpletable\">\n",
       "<tr>\n",
       "     <td></td>       <th>coef</th>     <th>std err</th>      <th>z</th>      <th>P>|z|</th>  <th>[0.025</th>    <th>0.975]</th>  \n",
       "</tr>\n",
       "<tr>\n",
       "  <th>const</th>  <td>   -0.0778</td> <td>    0.030</td> <td>   -2.601</td> <td> 0.010</td> <td>   -0.137</td> <td>   -0.019</td>\n",
       "</tr>\n",
       "<tr>\n",
       "  <th>c.L1</th>   <td>   -0.0885</td> <td>    0.031</td> <td>   -2.854</td> <td> 0.005</td> <td>   -0.150</td> <td>   -0.027</td>\n",
       "</tr>\n",
       "<tr>\n",
       "  <th>g.L1</th>   <td>    0.0939</td> <td>    0.033</td> <td>    2.857</td> <td> 0.005</td> <td>    0.029</td> <td>    0.159</td>\n",
       "</tr>\n",
       "<tr>\n",
       "  <th>D.c.L1</th> <td>   -0.1926</td> <td>    0.058</td> <td>   -3.340</td> <td> 0.001</td> <td>   -0.306</td> <td>   -0.079</td>\n",
       "</tr>\n",
       "<tr>\n",
       "  <th>D.g.L0</th> <td>    0.6395</td> <td>    0.053</td> <td>   12.050</td> <td> 0.000</td> <td>    0.535</td> <td>    0.744</td>\n",
       "</tr>\n",
       "</table>"
      ],
      "text/latex": [
       "\\begin{center}\n",
       "\\begin{tabular}{lclc}\n",
       "\\toprule\n",
       "\\textbf{Dep. Variable:} &       D.c        & \\textbf{  No. Observations:  } &    204      \\\\\n",
       "\\textbf{Model:}         &    UECM(2, 1)    & \\textbf{  Log Likelihood     } &  724.499    \\\\\n",
       "\\textbf{Method:}        & Conditional MLE  & \\textbf{  S.D. of innovations} &   0.007     \\\\\n",
       "\\textbf{Date:}          & Mon, 08 Sep 2025 & \\textbf{  AIC                } & -1436.998   \\\\\n",
       "\\textbf{Time:}          &     14:04:47     & \\textbf{  BIC                } & -1417.149   \\\\\n",
       "\\textbf{Sample:}        &    07-01-1950    & \\textbf{  HQIC               } & -1428.967   \\\\\n",
       "\\textbf{}               &   - 10-01-2000   & \\textbf{                     } &             \\\\\n",
       "\\bottomrule\n",
       "\\end{tabular}\n",
       "\\begin{tabular}{lcccccc}\n",
       "                & \\textbf{coef} & \\textbf{std err} & \\textbf{z} & \\textbf{P$> |$z$|$} & \\textbf{[0.025} & \\textbf{0.975]}  \\\\\n",
       "\\midrule\n",
       "\\textbf{const}  &      -0.0778  &        0.030     &    -2.601  &         0.010        &       -0.137    &       -0.019     \\\\\n",
       "\\textbf{c.L1}   &      -0.0885  &        0.031     &    -2.854  &         0.005        &       -0.150    &       -0.027     \\\\\n",
       "\\textbf{g.L1}   &       0.0939  &        0.033     &     2.857  &         0.005        &        0.029    &        0.159     \\\\\n",
       "\\textbf{D.c.L1} &      -0.1926  &        0.058     &    -3.340  &         0.001        &       -0.306    &       -0.079     \\\\\n",
       "\\textbf{D.g.L0} &       0.6395  &        0.053     &    12.050  &         0.000        &        0.535    &        0.744     \\\\\n",
       "\\bottomrule\n",
       "\\end{tabular}\n",
       "%\\caption{UECM Model Results}\n",
       "\\end{center}"
      ],
      "text/plain": [
       "<class 'statsmodels.iolib.summary.Summary'>\n",
       "\"\"\"\n",
       "                              UECM Model Results                              \n",
       "==============================================================================\n",
       "Dep. Variable:                    D.c   No. Observations:                  204\n",
       "Model:                     UECM(2, 1)   Log Likelihood                 724.499\n",
       "Method:               Conditional MLE   S.D. of innovations              0.007\n",
       "Date:                Mon, 08 Sep 2025   AIC                          -1436.998\n",
       "Time:                        14:04:47   BIC                          -1417.149\n",
       "Sample:                    07-01-1950   HQIC                         -1428.967\n",
       "                         - 10-01-2000                                         \n",
       "==============================================================================\n",
       "                 coef    std err          z      P>|z|      [0.025      0.975]\n",
       "------------------------------------------------------------------------------\n",
       "const         -0.0778      0.030     -2.601      0.010      -0.137      -0.019\n",
       "c.L1          -0.0885      0.031     -2.854      0.005      -0.150      -0.027\n",
       "g.L1           0.0939      0.033      2.857      0.005       0.029       0.159\n",
       "D.c.L1        -0.1926      0.058     -3.340      0.001      -0.306      -0.079\n",
       "D.g.L0         0.6395      0.053     12.050      0.000       0.535       0.744\n",
       "==============================================================================\n",
       "\"\"\""
      ]
     },
     "execution_count": 27,
     "metadata": {},
     "output_type": "execute_result"
    }
   ],
   "source": [
    "uecm = UECM(greene.c, 2, greene[[\"g\"]], 1, trend=\"c\")\n",
    "uecm_res = uecm.fit()\n",
    "uecm_res.summary()"
   ]
  },
  {
   "cell_type": "markdown",
   "id": "f9259982-b1e9-4384-bd2e-f7c41a7e1165",
   "metadata": {},
   "source": [
    "The changes in the lag structure make little difference in the estimated long-run relationship."
   ]
  },
  {
   "cell_type": "code",
   "execution_count": 28,
   "id": "90124be5-398c-4261-ac16-415454d7f468",
   "metadata": {
    "execution": {
     "iopub.execute_input": "2025-09-08T14:04:47.817890Z",
     "iopub.status.busy": "2025-09-08T14:04:47.817017Z",
     "iopub.status.idle": "2025-09-08T14:04:47.841610Z",
     "shell.execute_reply": "2025-09-08T14:04:47.841018Z"
    }
   },
   "outputs": [
    {
     "data": {
      "text/html": [
       "<table class=\"simpletable\">\n",
       "<caption>Cointegrating Vector</caption>\n",
       "<tr>\n",
       "    <td></td>       <th>coef</th>     <th>std err</th>      <th>t</th>      <th>P>|t|</th>  <th>[0.025</th>    <th>0.975]</th>  \n",
       "</tr>\n",
       "<tr>\n",
       "  <th>const</th> <td>    0.8789</td> <td>    0.096</td> <td>    9.183</td> <td> 0.000</td> <td>    0.690</td> <td>    1.068</td>\n",
       "</tr>\n",
       "<tr>\n",
       "  <th>c.L1</th>  <td>    1.0000</td> <td>        0</td> <td>      nan</td> <td>   nan</td> <td>    1.000</td> <td>    1.000</td>\n",
       "</tr>\n",
       "<tr>\n",
       "  <th>g.L1</th>  <td>   -1.0605</td> <td>    0.011</td> <td>  -94.148</td> <td> 0.000</td> <td>   -1.083</td> <td>   -1.038</td>\n",
       "</tr>\n",
       "</table>"
      ],
      "text/latex": [
       "\\begin{center}\n",
       "\\begin{tabular}{lcccccc}\n",
       "\\toprule\n",
       "               & \\textbf{coef} & \\textbf{std err} & \\textbf{t} & \\textbf{P$> |$t$|$} & \\textbf{[0.025} & \\textbf{0.975]}  \\\\\n",
       "\\midrule\n",
       "\\textbf{const} &       0.8789  &        0.096     &     9.183  &         0.000        &        0.690    &        1.068     \\\\\n",
       "\\textbf{c.L1}  &       1.0000  &            0     &       nan  &           nan        &        1.000    &        1.000     \\\\\n",
       "\\textbf{g.L1}  &      -1.0605  &        0.011     &   -94.148  &         0.000        &       -1.083    &       -1.038     \\\\\n",
       "\\bottomrule\n",
       "\\end{tabular}\n",
       "%\\caption{Cointegrating Vector}\n",
       "\\end{center}"
      ],
      "text/plain": [
       "<class 'statsmodels.iolib.summary.Summary'>\n",
       "\"\"\"\n",
       "                             Cointegrating Vector                             \n",
       "==============================================================================\n",
       "                 coef    std err          t      P>|t|      [0.025      0.975]\n",
       "------------------------------------------------------------------------------\n",
       "const          0.8789      0.096      9.183      0.000       0.690       1.068\n",
       "c.L1           1.0000          0        nan        nan       1.000       1.000\n",
       "g.L1          -1.0605      0.011    -94.148      0.000      -1.083      -1.038\n",
       "==============================================================================\n",
       "\"\"\""
      ]
     },
     "execution_count": 28,
     "metadata": {},
     "output_type": "execute_result"
    }
   ],
   "source": [
    "uecm_res.ci_summary()"
   ]
  },
  {
   "cell_type": "markdown",
   "id": "86c7dfb3-e2e6-48d6-9ae4-c9ad8404cf84",
   "metadata": {},
   "source": [
    "## Bounds Testing\n",
    "\n",
    "`UECMResults` expose the bounds test of Pesaran, Shin, and Smith (2001).  This test facilitates testing whether there is a level relationship between a set of variables without identifying which variables are I(1). This test provides two sets of critical and p-values.  If the test statistic is below the critical value for the lower bound, then there appears to be no levels relationship irrespective of the order or integration in the $X$ variables.  If it is above the upper bound, then there appears to be a levels relationship again, irrespective of the order of integration of the $X$ variables. There are 5 cases covered in the paper that include different combinations of deterministic regressors in the model or the test.\n",
    "\n",
    "\n",
    "$$\\Delta Y_{t}=\\delta_{0} + \\delta_{1}t + Z_{t-1}\\beta + \\sum_{j=0}^{P}\\Delta X_{t-j}\\Gamma + \\epsilon_{t}$$\n",
    "\n",
    "where $Z_{t-1}$ includes both $Y_{t-1}$ and $X_{t-1}$.\n",
    "\n",
    "The cases determine which deterministic terms are included in the model and which are tested as part of the test.\n",
    "\n",
    "1. No deterministic terms\n",
    "2. Constant included in both the model and the test\n",
    "3. Constant included in the model but not in the test\n",
    "4. Constant and trend included in the model, only trend included in the test\n",
    "5. Constant and trend included in the model, neither included in the test\n",
    "\n",
    "Here we run the test on the Danish money demand data set. Here we see the test statistic is above the 95% critical value for both the lower and upper.\n",
    "\n",
    "\n",
    "Pesaran, M. H., Shin, Y., & Smith, R. J. (2001). Bounds testing approaches to the analysis of level relationships. Journal of applied econometrics, 16(3), 289-326."
   ]
  },
  {
   "cell_type": "code",
   "execution_count": 29,
   "id": "a05b5719-4d4c-4dbf-888a-06b2d6f08183",
   "metadata": {
    "execution": {
     "iopub.execute_input": "2025-09-08T14:04:47.844237Z",
     "iopub.status.busy": "2025-09-08T14:04:47.844020Z",
     "iopub.status.idle": "2025-09-08T14:04:47.871697Z",
     "shell.execute_reply": "2025-09-08T14:04:47.869354Z"
    }
   },
   "outputs": [
    {
     "data": {
      "text/plain": [
       "BoundsTestResult\n",
       "Stat: 5.07063\n",
       "Upper P-value: 0.0068\n",
       "Lower P-value: 0.000751\n",
       "Null: No Cointegration\n",
       "Alternative: Possible Cointegration"
      ]
     },
     "execution_count": 29,
     "metadata": {},
     "output_type": "execute_result"
    }
   ],
   "source": [
    "ecm = UECM(data.lrm, 3, data[[\"lry\", \"ibo\", \"ide\"]], 3, trend=\"c\")\n",
    "ecm_fit = ecm.fit()\n",
    "bounds_test = ecm_fit.bounds_test(case=4)\n",
    "bounds_test"
   ]
  },
  {
   "cell_type": "code",
   "execution_count": 30,
   "id": "ba3abe46-ea62-4ee8-833a-d7a8acb57197",
   "metadata": {
    "execution": {
     "iopub.execute_input": "2025-09-08T14:04:47.874799Z",
     "iopub.status.busy": "2025-09-08T14:04:47.873930Z",
     "iopub.status.idle": "2025-09-08T14:04:47.888569Z",
     "shell.execute_reply": "2025-09-08T14:04:47.887925Z"
    }
   },
   "outputs": [
    {
     "data": {
      "text/html": [
       "<div>\n",
       "<style scoped>\n",
       "    .dataframe tbody tr th:only-of-type {\n",
       "        vertical-align: middle;\n",
       "    }\n",
       "\n",
       "    .dataframe tbody tr th {\n",
       "        vertical-align: top;\n",
       "    }\n",
       "\n",
       "    .dataframe thead th {\n",
       "        text-align: right;\n",
       "    }\n",
       "</style>\n",
       "<table border=\"1\" class=\"dataframe\">\n",
       "  <thead>\n",
       "    <tr style=\"text-align: right;\">\n",
       "      <th></th>\n",
       "      <th>lower</th>\n",
       "      <th>upper</th>\n",
       "    </tr>\n",
       "    <tr>\n",
       "      <th>percentile</th>\n",
       "      <th></th>\n",
       "      <th></th>\n",
       "    </tr>\n",
       "  </thead>\n",
       "  <tbody>\n",
       "    <tr>\n",
       "      <th>90.0</th>\n",
       "      <td>2.690222</td>\n",
       "      <td>3.523115</td>\n",
       "    </tr>\n",
       "    <tr>\n",
       "      <th>95.0</th>\n",
       "      <td>3.069910</td>\n",
       "      <td>3.957893</td>\n",
       "    </tr>\n",
       "    <tr>\n",
       "      <th>99.0</th>\n",
       "      <td>3.877333</td>\n",
       "      <td>4.867071</td>\n",
       "    </tr>\n",
       "    <tr>\n",
       "      <th>99.9</th>\n",
       "      <td>4.940583</td>\n",
       "      <td>6.040331</td>\n",
       "    </tr>\n",
       "  </tbody>\n",
       "</table>\n",
       "</div>"
      ],
      "text/plain": [
       "               lower     upper\n",
       "percentile                    \n",
       "90.0        2.690222  3.523115\n",
       "95.0        3.069910  3.957893\n",
       "99.0        3.877333  4.867071\n",
       "99.9        4.940583  6.040331"
      ]
     },
     "execution_count": 30,
     "metadata": {},
     "output_type": "execute_result"
    }
   ],
   "source": [
    "bounds_test.crit_vals"
   ]
  },
  {
   "cell_type": "markdown",
   "id": "16640819-83e7-451b-8fe9-a76cc5598204",
   "metadata": {},
   "source": [
    "Case 3 also rejects the null of no levels relationship."
   ]
  },
  {
   "cell_type": "code",
   "execution_count": 31,
   "id": "717c3deb-fac2-40a2-b719-be3f8b28d747",
   "metadata": {
    "execution": {
     "iopub.execute_input": "2025-09-08T14:04:47.891956Z",
     "iopub.status.busy": "2025-09-08T14:04:47.891037Z",
     "iopub.status.idle": "2025-09-08T14:04:47.918707Z",
     "shell.execute_reply": "2025-09-08T14:04:47.915661Z"
    }
   },
   "outputs": [
    {
     "data": {
      "text/plain": [
       "BoundsTestResult\n",
       "Stat: 5.99305\n",
       "Upper P-value: 0.00205\n",
       "Lower P-value: 0.000138\n",
       "Null: No Cointegration\n",
       "Alternative: Possible Cointegration"
      ]
     },
     "execution_count": 31,
     "metadata": {},
     "output_type": "execute_result"
    }
   ],
   "source": [
    "ecm = UECM(data.lrm, 3, data[[\"lry\", \"ibo\", \"ide\"]], 3, trend=\"c\")\n",
    "ecm_fit = ecm.fit()\n",
    "bounds_test = ecm_fit.bounds_test(case=3)\n",
    "bounds_test"
   ]
  }
 ],
 "metadata": {
  "kernelspec": {
   "display_name": "Python 3 (ipykernel)",
   "language": "python",
   "name": "python3"
  },
  "language_info": {
   "codemirror_mode": {
    "name": "ipython",
    "version": 3
   },
   "file_extension": ".py",
   "mimetype": "text/x-python",
   "name": "python",
   "nbconvert_exporter": "python",
   "pygments_lexer": "ipython3",
   "version": "3.10.18"
  }
 },
 "nbformat": 4,
 "nbformat_minor": 5
}
