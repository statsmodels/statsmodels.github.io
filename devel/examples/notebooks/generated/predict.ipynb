{
 "cells": [
  {
   "cell_type": "markdown",
   "metadata": {},
   "source": [
    "# Prediction (out of sample)"
   ]
  },
  {
   "cell_type": "code",
   "execution_count": 1,
   "metadata": {
    "execution": {
     "iopub.execute_input": "2024-09-15T22:52:58.473688Z",
     "iopub.status.busy": "2024-09-15T22:52:58.473302Z",
     "iopub.status.idle": "2024-09-15T22:53:00.063341Z",
     "shell.execute_reply": "2024-09-15T22:53:00.062684Z"
    }
   },
   "outputs": [],
   "source": [
    "%matplotlib inline"
   ]
  },
  {
   "cell_type": "code",
   "execution_count": 2,
   "metadata": {
    "execution": {
     "iopub.execute_input": "2024-09-15T22:53:00.067905Z",
     "iopub.status.busy": "2024-09-15T22:53:00.066802Z",
     "iopub.status.idle": "2024-09-15T22:53:02.949382Z",
     "shell.execute_reply": "2024-09-15T22:53:02.948698Z"
    }
   },
   "outputs": [],
   "source": [
    "import numpy as np\n",
    "import matplotlib.pyplot as plt\n",
    "\n",
    "import statsmodels.api as sm\n",
    "\n",
    "plt.rc(\"figure\", figsize=(16, 8))\n",
    "plt.rc(\"font\", size=14)"
   ]
  },
  {
   "cell_type": "markdown",
   "metadata": {},
   "source": [
    "## Artificial data"
   ]
  },
  {
   "cell_type": "code",
   "execution_count": 3,
   "metadata": {
    "execution": {
     "iopub.execute_input": "2024-09-15T22:53:02.954230Z",
     "iopub.status.busy": "2024-09-15T22:53:02.953000Z",
     "iopub.status.idle": "2024-09-15T22:53:02.964003Z",
     "shell.execute_reply": "2024-09-15T22:53:02.963415Z"
    }
   },
   "outputs": [],
   "source": [
    "nsample = 50\n",
    "sig = 0.25\n",
    "x1 = np.linspace(0, 20, nsample)\n",
    "X = np.column_stack((x1, np.sin(x1), (x1 - 5) ** 2))\n",
    "X = sm.add_constant(X)\n",
    "beta = [5.0, 0.5, 0.5, -0.02]\n",
    "y_true = np.dot(X, beta)\n",
    "y = y_true + sig * np.random.normal(size=nsample)"
   ]
  },
  {
   "cell_type": "markdown",
   "metadata": {},
   "source": [
    "## Estimation "
   ]
  },
  {
   "cell_type": "code",
   "execution_count": 4,
   "metadata": {
    "execution": {
     "iopub.execute_input": "2024-09-15T22:53:02.968603Z",
     "iopub.status.busy": "2024-09-15T22:53:02.967059Z",
     "iopub.status.idle": "2024-09-15T22:53:03.007085Z",
     "shell.execute_reply": "2024-09-15T22:53:03.006457Z"
    }
   },
   "outputs": [
    {
     "name": "stdout",
     "output_type": "stream",
     "text": [
      "                            OLS Regression Results                            \n",
      "==============================================================================\n",
      "Dep. Variable:                      y   R-squared:                       0.985\n",
      "Model:                            OLS   Adj. R-squared:                  0.984\n",
      "Method:                 Least Squares   F-statistic:                     983.3\n",
      "Date:                Sun, 15 Sep 2024   Prob (F-statistic):           1.05e-41\n",
      "Time:                        22:53:02   Log-Likelihood:                 3.6233\n",
      "No. Observations:                  50   AIC:                            0.7533\n",
      "Df Residuals:                      46   BIC:                             8.401\n",
      "Df Model:                           3                                         \n",
      "Covariance Type:            nonrobust                                         \n",
      "==============================================================================\n",
      "                 coef    std err          t      P>|t|      [0.025      0.975]\n",
      "------------------------------------------------------------------------------\n",
      "const          5.0644      0.080     63.326      0.000       4.903       5.225\n",
      "x1             0.5005      0.012     40.579      0.000       0.476       0.525\n",
      "x2             0.5246      0.048     10.820      0.000       0.427       0.622\n",
      "x3            -0.0210      0.001    -19.389      0.000      -0.023      -0.019\n",
      "==============================================================================\n",
      "Omnibus:                        1.893   Durbin-Watson:                   2.487\n",
      "Prob(Omnibus):                  0.388   Jarque-Bera (JB):                1.115\n",
      "Skew:                           0.326   Prob(JB):                        0.573\n",
      "Kurtosis:                       3.330   Cond. No.                         221.\n",
      "==============================================================================\n",
      "\n",
      "Notes:\n",
      "[1] Standard Errors assume that the covariance matrix of the errors is correctly specified.\n"
     ]
    }
   ],
   "source": [
    "olsmod = sm.OLS(y, X)\n",
    "olsres = olsmod.fit()\n",
    "print(olsres.summary())"
   ]
  },
  {
   "cell_type": "markdown",
   "metadata": {},
   "source": [
    "## In-sample prediction"
   ]
  },
  {
   "cell_type": "code",
   "execution_count": 5,
   "metadata": {
    "execution": {
     "iopub.execute_input": "2024-09-15T22:53:03.011158Z",
     "iopub.status.busy": "2024-09-15T22:53:03.010077Z",
     "iopub.status.idle": "2024-09-15T22:53:03.019952Z",
     "shell.execute_reply": "2024-09-15T22:53:03.019378Z"
    }
   },
   "outputs": [
    {
     "name": "stdout",
     "output_type": "stream",
     "text": [
      "[ 4.53948891  5.03421328  5.48772974  5.87144753  6.16709415  6.36971745\n",
      "  6.48849933  6.54524708  6.57081058  6.60001373  6.66593297  6.79446291\n",
      "  7.00006196  7.2833768   7.63113618  8.0183313   8.41232474  8.77821264\n",
      "  9.08455936  9.30856223  9.43979796  9.48193518  9.4521317   9.3782155\n",
      "  9.29411268  9.23427352  9.22801238  9.29469144  9.44053952  9.65762875\n",
      "  9.92517707 10.21296266 10.4862893  10.71168689 10.86241044 10.92283425\n",
      " 10.89101913 10.77903103 10.61095861 10.41895557 10.23795787 10.09994385\n",
      " 10.02868031 10.03581763 10.11897572 10.26213499 10.43826839 10.61378183\n",
      " 10.75403361 10.82902595]\n"
     ]
    }
   ],
   "source": [
    "ypred = olsres.predict(X)\n",
    "print(ypred)"
   ]
  },
  {
   "cell_type": "markdown",
   "metadata": {},
   "source": [
    "## Create a new sample of explanatory variables Xnew, predict and plot"
   ]
  },
  {
   "cell_type": "code",
   "execution_count": 6,
   "metadata": {
    "execution": {
     "iopub.execute_input": "2024-09-15T22:53:03.023924Z",
     "iopub.status.busy": "2024-09-15T22:53:03.022890Z",
     "iopub.status.idle": "2024-09-15T22:53:03.035160Z",
     "shell.execute_reply": "2024-09-15T22:53:03.034569Z"
    }
   },
   "outputs": [
    {
     "name": "stdout",
     "output_type": "stream",
     "text": [
      "[10.80307252 10.63858476 10.35613589 10.00260963  9.63972148  9.32890857\n",
      "  9.11628775  9.02136453  9.03225748  9.10860723]\n"
     ]
    }
   ],
   "source": [
    "x1n = np.linspace(20.5, 25, 10)\n",
    "Xnew = np.column_stack((x1n, np.sin(x1n), (x1n - 5) ** 2))\n",
    "Xnew = sm.add_constant(Xnew)\n",
    "ynewpred = olsres.predict(Xnew)  # predict out of sample\n",
    "print(ynewpred)"
   ]
  },
  {
   "cell_type": "markdown",
   "metadata": {},
   "source": [
    "## Plot comparison"
   ]
  },
  {
   "cell_type": "code",
   "execution_count": 7,
   "metadata": {
    "execution": {
     "iopub.execute_input": "2024-09-15T22:53:03.039160Z",
     "iopub.status.busy": "2024-09-15T22:53:03.038094Z",
     "iopub.status.idle": "2024-09-15T22:53:03.767417Z",
     "shell.execute_reply": "2024-09-15T22:53:03.766773Z"
    }
   },
   "outputs": [
    {
     "data": {
      "text/plain": [
       "<matplotlib.legend.Legend at 0x7f1146006050>"
      ]
     },
     "execution_count": 7,
     "metadata": {},
     "output_type": "execute_result"
    },
    {
     "data": {
      "image/png": "[encoded data removed]",
      "text/plain": [
       "<Figure size 1600x800 with 1 Axes>"
      ]
     },
     "metadata": {},
     "output_type": "display_data"
    }
   ],
   "source": [
    "import matplotlib.pyplot as plt\n",
    "\n",
    "fig, ax = plt.subplots()\n",
    "ax.plot(x1, y, \"o\", label=\"Data\")\n",
    "ax.plot(x1, y_true, \"b-\", label=\"True\")\n",
    "ax.plot(np.hstack((x1, x1n)), np.hstack((ypred, ynewpred)), \"r\", label=\"OLS prediction\")\n",
    "ax.legend(loc=\"best\")"
   ]
  },
  {
   "cell_type": "markdown",
   "metadata": {},
   "source": [
    "## Predicting with Formulas"
   ]
  },
  {
   "cell_type": "markdown",
   "metadata": {},
   "source": [
    "Using formulas can make both estimation and prediction a lot easier"
   ]
  },
  {
   "cell_type": "code",
   "execution_count": 8,
   "metadata": {
    "execution": {
     "iopub.execute_input": "2024-09-15T22:53:03.770717Z",
     "iopub.status.busy": "2024-09-15T22:53:03.770454Z",
     "iopub.status.idle": "2024-09-15T22:53:03.779270Z",
     "shell.execute_reply": "2024-09-15T22:53:03.778686Z"
    }
   },
   "outputs": [],
   "source": [
    "from statsmodels.formula.api import ols\n",
    "\n",
    "data = {\"x1\": x1, \"y\": y}\n",
    "\n",
    "res = ols(\"y ~ x1 + np.sin(x1) + I((x1-5)**2)\", data=data).fit()"
   ]
  },
  {
   "cell_type": "markdown",
   "metadata": {},
   "source": [
    "We use the `I` to indicate use of the Identity transform. Ie., we do not want any expansion magic from using `**2`"
   ]
  },
  {
   "cell_type": "code",
   "execution_count": 9,
   "metadata": {
    "execution": {
     "iopub.execute_input": "2024-09-15T22:53:03.783343Z",
     "iopub.status.busy": "2024-09-15T22:53:03.782275Z",
     "iopub.status.idle": "2024-09-15T22:53:03.805864Z",
     "shell.execute_reply": "2024-09-15T22:53:03.805297Z"
    }
   },
   "outputs": [
    {
     "data": {
      "text/plain": [
       "Intercept           5.064428\n",
       "x1                  0.500505\n",
       "np.sin(x1)          0.524610\n",
       "I((x1 - 5) ** 2)   -0.020998\n",
       "dtype: float64"
      ]
     },
     "execution_count": 9,
     "metadata": {},
     "output_type": "execute_result"
    }
   ],
   "source": [
    "res.params"
   ]
  },
  {
   "cell_type": "markdown",
   "metadata": {},
   "source": [
    "Now we only have to pass the single variable and we get the transformed right-hand side variables automatically"
   ]
  },
  {
   "cell_type": "code",
   "execution_count": 10,
   "metadata": {
    "execution": {
     "iopub.execute_input": "2024-09-15T22:53:03.809879Z",
     "iopub.status.busy": "2024-09-15T22:53:03.808835Z",
     "iopub.status.idle": "2024-09-15T22:53:03.823245Z",
     "shell.execute_reply": "2024-09-15T22:53:03.822673Z"
    }
   },
   "outputs": [
    {
     "data": {
      "text/plain": [
       "0    10.803073\n",
       "1    10.638585\n",
       "2    10.356136\n",
       "3    10.002610\n",
       "4     9.639721\n",
       "5     9.328909\n",
       "6     9.116288\n",
       "7     9.021365\n",
       "8     9.032257\n",
       "9     9.108607\n",
       "dtype: float64"
      ]
     },
     "execution_count": 10,
     "metadata": {},
     "output_type": "execute_result"
    }
   ],
   "source": [
    "res.predict(exog=dict(x1=x1n))"
   ]
  }
 ],
 "metadata": {
  "kernelspec": {
   "display_name": "Python 3",
   "language": "python",
   "name": "python3"
  },
  "language_info": {
   "codemirror_mode": {
    "name": "ipython",
    "version": 3
   },
   "file_extension": ".py",
   "mimetype": "text/x-python",
   "name": "python",
   "nbconvert_exporter": "python",
   "pygments_lexer": "ipython3",
   "version": "3.10.14"
  }
 },
 "nbformat": 4,
 "nbformat_minor": 4
}
