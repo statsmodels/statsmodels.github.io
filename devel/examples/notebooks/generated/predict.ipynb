{
 "cells": [
  {
   "cell_type": "markdown",
   "metadata": {},
   "source": [
    "# Prediction (out of sample)"
   ]
  },
  {
   "cell_type": "code",
   "execution_count": 1,
   "metadata": {
    "execution": {
     "iopub.execute_input": "2025-09-25T18:45:43.381170Z",
     "iopub.status.busy": "2025-09-25T18:45:43.380900Z",
     "iopub.status.idle": "2025-09-25T18:45:45.076868Z",
     "shell.execute_reply": "2025-09-25T18:45:45.076118Z"
    }
   },
   "outputs": [],
   "source": [
    "%matplotlib inline"
   ]
  },
  {
   "cell_type": "code",
   "execution_count": 2,
   "metadata": {
    "execution": {
     "iopub.execute_input": "2025-09-25T18:45:45.079489Z",
     "iopub.status.busy": "2025-09-25T18:45:45.079216Z",
     "iopub.status.idle": "2025-09-25T18:45:46.259216Z",
     "shell.execute_reply": "2025-09-25T18:45:46.258484Z"
    }
   },
   "outputs": [],
   "source": [
    "import numpy as np\n",
    "import matplotlib.pyplot as plt\n",
    "\n",
    "import statsmodels.api as sm\n",
    "\n",
    "plt.rc(\"figure\", figsize=(16, 8))\n",
    "plt.rc(\"font\", size=14)"
   ]
  },
  {
   "cell_type": "markdown",
   "metadata": {},
   "source": [
    "## Artificial data"
   ]
  },
  {
   "cell_type": "code",
   "execution_count": 3,
   "metadata": {
    "execution": {
     "iopub.execute_input": "2025-09-25T18:45:46.262654Z",
     "iopub.status.busy": "2025-09-25T18:45:46.262269Z",
     "iopub.status.idle": "2025-09-25T18:45:46.268544Z",
     "shell.execute_reply": "2025-09-25T18:45:46.267873Z"
    }
   },
   "outputs": [],
   "source": [
    "nsample = 50\n",
    "sig = 0.25\n",
    "x1 = np.linspace(0, 20, nsample)\n",
    "X = np.column_stack((x1, np.sin(x1), (x1 - 5) ** 2))\n",
    "X = sm.add_constant(X)\n",
    "beta = [5.0, 0.5, 0.5, -0.02]\n",
    "y_true = np.dot(X, beta)\n",
    "y = y_true + sig * np.random.normal(size=nsample)"
   ]
  },
  {
   "cell_type": "markdown",
   "metadata": {},
   "source": [
    "## Estimation "
   ]
  },
  {
   "cell_type": "code",
   "execution_count": 4,
   "metadata": {
    "execution": {
     "iopub.execute_input": "2025-09-25T18:45:46.271354Z",
     "iopub.status.busy": "2025-09-25T18:45:46.270899Z",
     "iopub.status.idle": "2025-09-25T18:45:46.287280Z",
     "shell.execute_reply": "2025-09-25T18:45:46.284349Z"
    }
   },
   "outputs": [
    {
     "name": "stdout",
     "output_type": "stream",
     "text": [
      "                            OLS Regression Results                            \n",
      "==============================================================================\n",
      "Dep. Variable:                      y   R-squared:                       0.981\n",
      "Model:                            OLS   Adj. R-squared:                  0.980\n",
      "Method:                 Least Squares   F-statistic:                     799.4\n",
      "Date:                Thu, 25 Sep 2025   Prob (F-statistic):           1.13e-39\n",
      "Time:                        18:45:46   Log-Likelihood:                -3.5427\n",
      "No. Observations:                  50   AIC:                             15.09\n",
      "Df Residuals:                      46   BIC:                             22.73\n",
      "Df Model:                           3                                         \n",
      "Covariance Type:            nonrobust                                         \n",
      "==============================================================================\n",
      "                 coef    std err          t      P>|t|      [0.025      0.975]\n",
      "------------------------------------------------------------------------------\n",
      "const          4.9253      0.092     53.363      0.000       4.740       5.111\n",
      "x1             0.5133      0.014     36.059      0.000       0.485       0.542\n",
      "x2             0.5656      0.056     10.107      0.000       0.453       0.678\n",
      "x3            -0.0209      0.001    -16.752      0.000      -0.023      -0.018\n",
      "==============================================================================\n",
      "Omnibus:                        0.902   Durbin-Watson:                   2.247\n",
      "Prob(Omnibus):                  0.637   Jarque-Bera (JB):                0.832\n",
      "Skew:                           0.015   Prob(JB):                        0.660\n",
      "Kurtosis:                       2.369   Cond. No.                         221.\n",
      "==============================================================================\n",
      "\n",
      "Notes:\n",
      "[1] Standard Errors assume that the covariance matrix of the errors is correctly specified.\n"
     ]
    }
   ],
   "source": [
    "olsmod = sm.OLS(y, X)\n",
    "olsres = olsmod.fit()\n",
    "print(olsres.summary())"
   ]
  },
  {
   "cell_type": "markdown",
   "metadata": {},
   "source": [
    "## In-sample prediction"
   ]
  },
  {
   "cell_type": "code",
   "execution_count": 5,
   "metadata": {
    "execution": {
     "iopub.execute_input": "2025-09-25T18:45:46.341039Z",
     "iopub.status.busy": "2025-09-25T18:45:46.339452Z",
     "iopub.status.idle": "2025-09-25T18:45:46.347409Z",
     "shell.execute_reply": "2025-09-25T18:45:46.346636Z"
    }
   },
   "outputs": [
    {
     "name": "stdout",
     "output_type": "stream",
     "text": [
      "[ 4.40188168  4.91785529  5.38996832  5.78739625  6.09043897  6.29375745\n",
      "  6.40725094  6.45443051  6.46855629  6.4871729   6.545941    6.67277832\n",
      "  6.88327285  7.17812181  7.54301709  7.95099599  8.36687118  8.75301183\n",
      "  9.07552627  9.30983029  9.44468626  9.48404944  9.44641813  9.36179447\n",
      "  9.26675517  9.19844203  9.18845972  9.25768312  9.41282773  9.64534627\n",
      "  9.93283302 10.24270497 10.53755516 10.7812985  10.94510047 11.01211457\n",
      " 10.98025008 10.86251566 10.68488197 10.48201483 10.29157969 10.14805332\n",
      " 10.07705935 10.09115841 10.18778445 10.3496663  10.54766532 10.74556278\n",
      " 10.90601046 10.99666693]\n"
     ]
    }
   ],
   "source": [
    "ypred = olsres.predict(X)\n",
    "print(ypred)"
   ]
  },
  {
   "cell_type": "markdown",
   "metadata": {},
   "source": [
    "## Create a new sample of explanatory variables Xnew, predict and plot"
   ]
  },
  {
   "cell_type": "code",
   "execution_count": 6,
   "metadata": {
    "execution": {
     "iopub.execute_input": "2025-09-25T18:45:46.350403Z",
     "iopub.status.busy": "2025-09-25T18:45:46.350120Z",
     "iopub.status.idle": "2025-09-25T18:45:46.358184Z",
     "shell.execute_reply": "2025-09-25T18:45:46.357384Z"
    }
   },
   "outputs": [
    {
     "name": "stdout",
     "output_type": "stream",
     "text": [
      "[10.98146952 10.81776493 10.52773371 10.16192255  9.78686866  9.46880917\n",
      "  9.25746396  9.17386246  9.205195    9.30794896]\n"
     ]
    }
   ],
   "source": [
    "x1n = np.linspace(20.5, 25, 10)\n",
    "Xnew = np.column_stack((x1n, np.sin(x1n), (x1n - 5) ** 2))\n",
    "Xnew = sm.add_constant(Xnew)\n",
    "ynewpred = olsres.predict(Xnew)  # predict out of sample\n",
    "print(ynewpred)"
   ]
  },
  {
   "cell_type": "markdown",
   "metadata": {},
   "source": [
    "## Plot comparison"
   ]
  },
  {
   "cell_type": "code",
   "execution_count": 7,
   "metadata": {
    "execution": {
     "iopub.execute_input": "2025-09-25T18:45:46.361059Z",
     "iopub.status.busy": "2025-09-25T18:45:46.360752Z",
     "iopub.status.idle": "2025-09-25T18:45:46.618389Z",
     "shell.execute_reply": "2025-09-25T18:45:46.617568Z"
    }
   },
   "outputs": [
    {
     "data": {
      "text/plain": [
       "<matplotlib.legend.Legend at 0x7f1b9f5b9f90>"
      ]
     },
     "execution_count": 7,
     "metadata": {},
     "output_type": "execute_result"
    },
    {
     "data": {
      "image/png": "[encoded data removed]",
      "text/plain": [
       "<Figure size 1600x800 with 1 Axes>"
      ]
     },
     "metadata": {},
     "output_type": "display_data"
    }
   ],
   "source": [
    "import matplotlib.pyplot as plt\n",
    "\n",
    "fig, ax = plt.subplots()\n",
    "ax.plot(x1, y, \"o\", label=\"Data\")\n",
    "ax.plot(x1, y_true, \"b-\", label=\"True\")\n",
    "ax.plot(np.hstack((x1, x1n)), np.hstack((ypred, ynewpred)), \"r\", label=\"OLS prediction\")\n",
    "ax.legend(loc=\"best\")"
   ]
  },
  {
   "cell_type": "markdown",
   "metadata": {},
   "source": [
    "## Predicting with Formulas"
   ]
  },
  {
   "cell_type": "markdown",
   "metadata": {},
   "source": [
    "Using formulas can make both estimation and prediction a lot easier"
   ]
  },
  {
   "cell_type": "code",
   "execution_count": 8,
   "metadata": {
    "execution": {
     "iopub.execute_input": "2025-09-25T18:45:46.621492Z",
     "iopub.status.busy": "2025-09-25T18:45:46.621211Z",
     "iopub.status.idle": "2025-09-25T18:45:46.632036Z",
     "shell.execute_reply": "2025-09-25T18:45:46.631175Z"
    }
   },
   "outputs": [],
   "source": [
    "from statsmodels.formula.api import ols\n",
    "\n",
    "data = {\"x1\": x1, \"y\": y}\n",
    "\n",
    "res = ols(\"y ~ x1 + np.sin(x1) + I((x1-5)**2)\", data=data).fit()"
   ]
  },
  {
   "cell_type": "markdown",
   "metadata": {},
   "source": [
    "We use the `I` to indicate use of the Identity transform. Ie., we do not want any expansion magic from using `**2`"
   ]
  },
  {
   "cell_type": "code",
   "execution_count": 9,
   "metadata": {
    "execution": {
     "iopub.execute_input": "2025-09-25T18:45:46.634894Z",
     "iopub.status.busy": "2025-09-25T18:45:46.634585Z",
     "iopub.status.idle": "2025-09-25T18:45:46.643849Z",
     "shell.execute_reply": "2025-09-25T18:45:46.643108Z"
    }
   },
   "outputs": [
    {
     "data": {
      "text/plain": [
       "Intercept           4.925303\n",
       "x1                  0.513290\n",
       "np.sin(x1)          0.565597\n",
       "I((x1 - 5) ** 2)   -0.020937\n",
       "dtype: float64"
      ]
     },
     "execution_count": 9,
     "metadata": {},
     "output_type": "execute_result"
    }
   ],
   "source": [
    "res.params"
   ]
  },
  {
   "cell_type": "markdown",
   "metadata": {},
   "source": [
    "Now we only have to pass the single variable and we get the transformed right-hand side variables automatically"
   ]
  },
  {
   "cell_type": "code",
   "execution_count": 10,
   "metadata": {
    "execution": {
     "iopub.execute_input": "2025-09-25T18:45:46.647165Z",
     "iopub.status.busy": "2025-09-25T18:45:46.646877Z",
     "iopub.status.idle": "2025-09-25T18:45:46.657107Z",
     "shell.execute_reply": "2025-09-25T18:45:46.656356Z"
    }
   },
   "outputs": [
    {
     "data": {
      "text/plain": [
       "0    10.981470\n",
       "1    10.817765\n",
       "2    10.527734\n",
       "3    10.161923\n",
       "4     9.786869\n",
       "5     9.468809\n",
       "6     9.257464\n",
       "7     9.173862\n",
       "8     9.205195\n",
       "9     9.307949\n",
       "dtype: float64"
      ]
     },
     "execution_count": 10,
     "metadata": {},
     "output_type": "execute_result"
    }
   ],
   "source": [
    "res.predict(exog=dict(x1=x1n))"
   ]
  }
 ],
 "metadata": {
  "kernelspec": {
   "display_name": "Python 3",
   "language": "python",
   "name": "python3"
  },
  "language_info": {
   "codemirror_mode": {
    "name": "ipython",
    "version": 3
   },
   "file_extension": ".py",
   "mimetype": "text/x-python",
   "name": "python",
   "nbconvert_exporter": "python",
   "pygments_lexer": "ipython3",
   "version": "3.10.18"
  }
 },
 "nbformat": 4,
 "nbformat_minor": 4
}
