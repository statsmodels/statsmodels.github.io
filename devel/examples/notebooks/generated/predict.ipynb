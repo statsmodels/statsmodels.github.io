{
 "cells": [
  {
   "cell_type": "markdown",
   "metadata": {},
   "source": [
    "# Prediction (out of sample)"
   ]
  },
  {
   "cell_type": "code",
   "execution_count": 1,
   "metadata": {
    "execution": {
     "iopub.execute_input": "2025-05-06T15:57:13.694510Z",
     "iopub.status.busy": "2025-05-06T15:57:13.694292Z",
     "iopub.status.idle": "2025-05-06T15:57:15.014169Z",
     "shell.execute_reply": "2025-05-06T15:57:15.011280Z"
    }
   },
   "outputs": [],
   "source": [
    "%matplotlib inline"
   ]
  },
  {
   "cell_type": "code",
   "execution_count": 2,
   "metadata": {
    "execution": {
     "iopub.execute_input": "2025-05-06T15:57:15.018957Z",
     "iopub.status.busy": "2025-05-06T15:57:15.018442Z",
     "iopub.status.idle": "2025-05-06T15:57:17.420711Z",
     "shell.execute_reply": "2025-05-06T15:57:17.419928Z"
    }
   },
   "outputs": [],
   "source": [
    "import numpy as np\n",
    "import matplotlib.pyplot as plt\n",
    "\n",
    "import statsmodels.api as sm\n",
    "\n",
    "plt.rc(\"figure\", figsize=(16, 8))\n",
    "plt.rc(\"font\", size=14)"
   ]
  },
  {
   "cell_type": "markdown",
   "metadata": {},
   "source": [
    "## Artificial data"
   ]
  },
  {
   "cell_type": "code",
   "execution_count": 3,
   "metadata": {
    "execution": {
     "iopub.execute_input": "2025-05-06T15:57:17.429962Z",
     "iopub.status.busy": "2025-05-06T15:57:17.429592Z",
     "iopub.status.idle": "2025-05-06T15:57:17.445399Z",
     "shell.execute_reply": "2025-05-06T15:57:17.444730Z"
    }
   },
   "outputs": [],
   "source": [
    "nsample = 50\n",
    "sig = 0.25\n",
    "x1 = np.linspace(0, 20, nsample)\n",
    "X = np.column_stack((x1, np.sin(x1), (x1 - 5) ** 2))\n",
    "X = sm.add_constant(X)\n",
    "beta = [5.0, 0.5, 0.5, -0.02]\n",
    "y_true = np.dot(X, beta)\n",
    "y = y_true + sig * np.random.normal(size=nsample)"
   ]
  },
  {
   "cell_type": "markdown",
   "metadata": {},
   "source": [
    "## Estimation "
   ]
  },
  {
   "cell_type": "code",
   "execution_count": 4,
   "metadata": {
    "execution": {
     "iopub.execute_input": "2025-05-06T15:57:17.447646Z",
     "iopub.status.busy": "2025-05-06T15:57:17.447425Z",
     "iopub.status.idle": "2025-05-06T15:57:17.472209Z",
     "shell.execute_reply": "2025-05-06T15:57:17.471595Z"
    }
   },
   "outputs": [
    {
     "name": "stdout",
     "output_type": "stream",
     "text": [
      "                            OLS Regression Results                            \n",
      "==============================================================================\n",
      "Dep. Variable:                      y   R-squared:                       0.985\n",
      "Model:                            OLS   Adj. R-squared:                  0.984\n",
      "Method:                 Least Squares   F-statistic:                     1020.\n",
      "Date:                Tue, 06 May 2025   Prob (F-statistic):           4.61e-42\n",
      "Time:                        15:57:17   Log-Likelihood:                 2.5345\n",
      "No. Observations:                  50   AIC:                             2.931\n",
      "Df Residuals:                      46   BIC:                             10.58\n",
      "Df Model:                           3                                         \n",
      "Covariance Type:            nonrobust                                         \n",
      "==============================================================================\n",
      "                 coef    std err          t      P>|t|      [0.025      0.975]\n",
      "------------------------------------------------------------------------------\n",
      "const          4.9295      0.082     60.310      0.000       4.765       5.094\n",
      "x1             0.5069      0.013     40.210      0.000       0.481       0.532\n",
      "x2             0.4447      0.050      8.974      0.000       0.345       0.544\n",
      "x3            -0.0201      0.001    -18.191      0.000      -0.022      -0.018\n",
      "==============================================================================\n",
      "Omnibus:                        0.057   Durbin-Watson:                   1.963\n",
      "Prob(Omnibus):                  0.972   Jarque-Bera (JB):                0.027\n",
      "Skew:                           0.017   Prob(JB):                        0.986\n",
      "Kurtosis:                       2.890   Cond. No.                         221.\n",
      "==============================================================================\n",
      "\n",
      "Notes:\n",
      "[1] Standard Errors assume that the covariance matrix of the errors is correctly specified.\n"
     ]
    }
   ],
   "source": [
    "olsmod = sm.OLS(y, X)\n",
    "olsres = olsmod.fit()\n",
    "print(olsres.summary())"
   ]
  },
  {
   "cell_type": "markdown",
   "metadata": {},
   "source": [
    "## In-sample prediction"
   ]
  },
  {
   "cell_type": "code",
   "execution_count": 5,
   "metadata": {
    "execution": {
     "iopub.execute_input": "2025-05-06T15:57:17.477609Z",
     "iopub.status.busy": "2025-05-06T15:57:17.477368Z",
     "iopub.status.idle": "2025-05-06T15:57:17.484488Z",
     "shell.execute_reply": "2025-05-06T15:57:17.482007Z"
    }
   },
   "outputs": [
    {
     "name": "stdout",
     "output_type": "stream",
     "text": [
      "[ 4.42611012  4.88833219  5.31484542  5.68141409  5.97254904  6.18405248\n",
      "  6.32370764  6.41000008  6.46908048  6.53046825  6.62220148  6.76623043\n",
      "  6.97481113  7.24849178  7.57602263  7.93620434  8.30137093  8.64193526\n",
      "  8.93125005  9.14998604  9.28930766  9.35232472  9.35358148  9.31666704\n",
      "  9.27033977  9.24380235  9.26190385  9.34105713  9.48654221  9.69163884\n",
      "  9.93873054 10.20219901 10.45263309 10.66166097 10.80661157 10.87423935\n",
      " 10.86290051 10.78282305 10.65442637 10.5049664  10.3640575  10.25880696\n",
      " 10.20936132 10.22559634 10.30549446 10.43547628 10.59263158 10.74848348\n",
      " 10.87366702 10.94275382]\n"
     ]
    }
   ],
   "source": [
    "ypred = olsres.predict(X)\n",
    "print(ypred)"
   ]
  },
  {
   "cell_type": "markdown",
   "metadata": {},
   "source": [
    "## Create a new sample of explanatory variables Xnew, predict and plot"
   ]
  },
  {
   "cell_type": "code",
   "execution_count": 6,
   "metadata": {
    "execution": {
     "iopub.execute_input": "2025-05-06T15:57:17.490817Z",
     "iopub.status.busy": "2025-05-06T15:57:17.486663Z",
     "iopub.status.idle": "2025-05-06T15:57:17.496160Z",
     "shell.execute_reply": "2025-05-06T15:57:17.495559Z"
    }
   },
   "outputs": [
    {
     "name": "stdout",
     "output_type": "stream",
     "text": [
      "[10.92645263 10.79155189 10.55549101 10.25801222  9.95143026  9.68782393\n",
      "  9.50628537  9.42334895  9.42894306  9.48885603]\n"
     ]
    }
   ],
   "source": [
    "x1n = np.linspace(20.5, 25, 10)\n",
    "Xnew = np.column_stack((x1n, np.sin(x1n), (x1n - 5) ** 2))\n",
    "Xnew = sm.add_constant(Xnew)\n",
    "ynewpred = olsres.predict(Xnew)  # predict out of sample\n",
    "print(ynewpred)"
   ]
  },
  {
   "cell_type": "markdown",
   "metadata": {},
   "source": [
    "## Plot comparison"
   ]
  },
  {
   "cell_type": "code",
   "execution_count": 7,
   "metadata": {
    "execution": {
     "iopub.execute_input": "2025-05-06T15:57:17.501008Z",
     "iopub.status.busy": "2025-05-06T15:57:17.500792Z",
     "iopub.status.idle": "2025-05-06T15:57:18.035677Z",
     "shell.execute_reply": "2025-05-06T15:57:18.034967Z"
    }
   },
   "outputs": [
    {
     "data": {
      "text/plain": [
       "<matplotlib.legend.Legend at 0x7f8c2483d2d0>"
      ]
     },
     "execution_count": 7,
     "metadata": {},
     "output_type": "execute_result"
    },
    {
     "data": {
      "image/png": "[encoded data removed]",
      "text/plain": [
       "<Figure size 1600x800 with 1 Axes>"
      ]
     },
     "metadata": {},
     "output_type": "display_data"
    }
   ],
   "source": [
    "import matplotlib.pyplot as plt\n",
    "\n",
    "fig, ax = plt.subplots()\n",
    "ax.plot(x1, y, \"o\", label=\"Data\")\n",
    "ax.plot(x1, y_true, \"b-\", label=\"True\")\n",
    "ax.plot(np.hstack((x1, x1n)), np.hstack((ypred, ynewpred)), \"r\", label=\"OLS prediction\")\n",
    "ax.legend(loc=\"best\")"
   ]
  },
  {
   "cell_type": "markdown",
   "metadata": {},
   "source": [
    "## Predicting with Formulas"
   ]
  },
  {
   "cell_type": "markdown",
   "metadata": {},
   "source": [
    "Using formulas can make both estimation and prediction a lot easier"
   ]
  },
  {
   "cell_type": "code",
   "execution_count": 8,
   "metadata": {
    "execution": {
     "iopub.execute_input": "2025-05-06T15:57:18.043955Z",
     "iopub.status.busy": "2025-05-06T15:57:18.043673Z",
     "iopub.status.idle": "2025-05-06T15:57:18.058948Z",
     "shell.execute_reply": "2025-05-06T15:57:18.058427Z"
    }
   },
   "outputs": [],
   "source": [
    "from statsmodels.formula.api import ols\n",
    "\n",
    "data = {\"x1\": x1, \"y\": y}\n",
    "\n",
    "res = ols(\"y ~ x1 + np.sin(x1) + I((x1-5)**2)\", data=data).fit()"
   ]
  },
  {
   "cell_type": "markdown",
   "metadata": {},
   "source": [
    "We use the `I` to indicate use of the Identity transform. Ie., we do not want any expansion magic from using `**2`"
   ]
  },
  {
   "cell_type": "code",
   "execution_count": 9,
   "metadata": {
    "execution": {
     "iopub.execute_input": "2025-05-06T15:57:18.061979Z",
     "iopub.status.busy": "2025-05-06T15:57:18.061744Z",
     "iopub.status.idle": "2025-05-06T15:57:18.073697Z",
     "shell.execute_reply": "2025-05-06T15:57:18.073060Z"
    }
   },
   "outputs": [
    {
     "data": {
      "text/plain": [
       "Intercept           4.929454\n",
       "x1                  0.506870\n",
       "np.sin(x1)          0.444699\n",
       "I((x1 - 5) ** 2)   -0.020134\n",
       "dtype: float64"
      ]
     },
     "execution_count": 9,
     "metadata": {},
     "output_type": "execute_result"
    }
   ],
   "source": [
    "res.params"
   ]
  },
  {
   "cell_type": "markdown",
   "metadata": {},
   "source": [
    "Now we only have to pass the single variable and we get the transformed right-hand side variables automatically"
   ]
  },
  {
   "cell_type": "code",
   "execution_count": 10,
   "metadata": {
    "execution": {
     "iopub.execute_input": "2025-05-06T15:57:18.076643Z",
     "iopub.status.busy": "2025-05-06T15:57:18.076213Z",
     "iopub.status.idle": "2025-05-06T15:57:18.089943Z",
     "shell.execute_reply": "2025-05-06T15:57:18.089318Z"
    }
   },
   "outputs": [
    {
     "data": {
      "text/plain": [
       "0    10.926453\n",
       "1    10.791552\n",
       "2    10.555491\n",
       "3    10.258012\n",
       "4     9.951430\n",
       "5     9.687824\n",
       "6     9.506285\n",
       "7     9.423349\n",
       "8     9.428943\n",
       "9     9.488856\n",
       "dtype: float64"
      ]
     },
     "execution_count": 10,
     "metadata": {},
     "output_type": "execute_result"
    }
   ],
   "source": [
    "res.predict(exog=dict(x1=x1n))"
   ]
  }
 ],
 "metadata": {
  "kernelspec": {
   "display_name": "Python 3",
   "language": "python",
   "name": "python3"
  },
  "language_info": {
   "codemirror_mode": {
    "name": "ipython",
    "version": 3
   },
   "file_extension": ".py",
   "mimetype": "text/x-python",
   "name": "python",
   "nbconvert_exporter": "python",
   "pygments_lexer": "ipython3",
   "version": "3.10.17"
  }
 },
 "nbformat": 4,
 "nbformat_minor": 4
}
