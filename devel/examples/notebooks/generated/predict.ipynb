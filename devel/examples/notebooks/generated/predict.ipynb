{
 "cells": [
  {
   "cell_type": "markdown",
   "metadata": {},
   "source": [
    "# Prediction (out of sample)"
   ]
  },
  {
   "cell_type": "code",
   "execution_count": 1,
   "metadata": {
    "execution": {
     "iopub.execute_input": "2024-03-18T09:24:16.712271Z",
     "iopub.status.busy": "2024-03-18T09:24:16.711899Z",
     "iopub.status.idle": "2024-03-18T09:24:18.567588Z",
     "shell.execute_reply": "2024-03-18T09:24:18.566472Z"
    }
   },
   "outputs": [],
   "source": [
    "%matplotlib inline"
   ]
  },
  {
   "cell_type": "code",
   "execution_count": 2,
   "metadata": {
    "execution": {
     "iopub.execute_input": "2024-03-18T09:24:18.575364Z",
     "iopub.status.busy": "2024-03-18T09:24:18.572305Z",
     "iopub.status.idle": "2024-03-18T09:24:21.808283Z",
     "shell.execute_reply": "2024-03-18T09:24:21.807368Z"
    }
   },
   "outputs": [],
   "source": [
    "import numpy as np\n",
    "import matplotlib.pyplot as plt\n",
    "\n",
    "import statsmodels.api as sm\n",
    "\n",
    "plt.rc(\"figure\", figsize=(16, 8))\n",
    "plt.rc(\"font\", size=14)"
   ]
  },
  {
   "cell_type": "markdown",
   "metadata": {},
   "source": [
    "## Artificial data"
   ]
  },
  {
   "cell_type": "code",
   "execution_count": 3,
   "metadata": {
    "execution": {
     "iopub.execute_input": "2024-03-18T09:24:21.815622Z",
     "iopub.status.busy": "2024-03-18T09:24:21.814033Z",
     "iopub.status.idle": "2024-03-18T09:24:21.826896Z",
     "shell.execute_reply": "2024-03-18T09:24:21.826305Z"
    }
   },
   "outputs": [],
   "source": [
    "nsample = 50\n",
    "sig = 0.25\n",
    "x1 = np.linspace(0, 20, nsample)\n",
    "X = np.column_stack((x1, np.sin(x1), (x1 - 5) ** 2))\n",
    "X = sm.add_constant(X)\n",
    "beta = [5.0, 0.5, 0.5, -0.02]\n",
    "y_true = np.dot(X, beta)\n",
    "y = y_true + sig * np.random.normal(size=nsample)"
   ]
  },
  {
   "cell_type": "markdown",
   "metadata": {},
   "source": [
    "## Estimation "
   ]
  },
  {
   "cell_type": "code",
   "execution_count": 4,
   "metadata": {
    "execution": {
     "iopub.execute_input": "2024-03-18T09:24:21.833260Z",
     "iopub.status.busy": "2024-03-18T09:24:21.831117Z",
     "iopub.status.idle": "2024-03-18T09:24:21.870414Z",
     "shell.execute_reply": "2024-03-18T09:24:21.869597Z"
    }
   },
   "outputs": [
    {
     "name": "stdout",
     "output_type": "stream",
     "text": [
      "                            OLS Regression Results                            \n",
      "==============================================================================\n",
      "Dep. Variable:                      y   R-squared:                       0.985\n",
      "Model:                            OLS   Adj. R-squared:                  0.984\n",
      "Method:                 Least Squares   F-statistic:                     1022.\n",
      "Date:                Mon, 18 Mar 2024   Prob (F-statistic):           4.33e-42\n",
      "Time:                        09:24:21   Log-Likelihood:                 2.3512\n",
      "No. Observations:                  50   AIC:                             3.298\n",
      "Df Residuals:                      46   BIC:                             10.95\n",
      "Df Model:                           3                                         \n",
      "Covariance Type:            nonrobust                                         \n",
      "==============================================================================\n",
      "                 coef    std err          t      P>|t|      [0.025      0.975]\n",
      "------------------------------------------------------------------------------\n",
      "const          4.8959      0.082     59.680      0.000       4.731       5.061\n",
      "x1             0.5201      0.013     41.108      0.000       0.495       0.546\n",
      "x2             0.5294      0.050     10.645      0.000       0.429       0.630\n",
      "x3            -0.0215      0.001    -19.387      0.000      -0.024      -0.019\n",
      "==============================================================================\n",
      "Omnibus:                        1.040   Durbin-Watson:                   1.635\n",
      "Prob(Omnibus):                  0.595   Jarque-Bera (JB):                1.056\n",
      "Skew:                          -0.229   Prob(JB):                        0.590\n",
      "Kurtosis:                       2.454   Cond. No.                         221.\n",
      "==============================================================================\n",
      "\n",
      "Notes:\n",
      "[1] Standard Errors assume that the covariance matrix of the errors is correctly specified.\n"
     ]
    }
   ],
   "source": [
    "olsmod = sm.OLS(y, X)\n",
    "olsres = olsmod.fit()\n",
    "print(olsres.summary())"
   ]
  },
  {
   "cell_type": "markdown",
   "metadata": {},
   "source": [
    "## In-sample prediction"
   ]
  },
  {
   "cell_type": "code",
   "execution_count": 5,
   "metadata": {
    "execution": {
     "iopub.execute_input": "2024-03-18T09:24:21.877063Z",
     "iopub.status.busy": "2024-03-18T09:24:21.874983Z",
     "iopub.status.idle": "2024-03-18T09:24:21.886129Z",
     "shell.execute_reply": "2024-03-18T09:24:21.885497Z"
    }
   },
   "outputs": [
    {
     "name": "stdout",
     "output_type": "stream",
     "text": [
      "[ 4.35746669  4.86421366  5.32925826  5.72374652  6.02923773  6.24073419\n",
      "  6.36750228  6.43155007  6.4640114   6.50003075  6.57298902  6.70901921\n",
      "  6.92271281  7.21472247  7.57165475  7.96827065  8.37163231  8.74651457\n",
      "  9.06119242  9.29265326  9.43037787  9.47806865  9.45304135  9.38338011\n",
      "  9.30332335  9.24763846  9.24590965  9.31767733  9.46922768  9.69255983\n",
      "  9.96670042 10.26114943 10.54089125 10.77214767 10.92792752 10.99246125\n",
      " 10.96379181 10.85409623 10.68768492 10.49700755 10.31732169 10.18090005\n",
      " 10.1117282  10.12156379 10.20800479 10.35488418 10.53492608 10.71422718\n",
      " 10.85782687 10.93545126]\n"
     ]
    }
   ],
   "source": [
    "ypred = olsres.predict(X)\n",
    "print(ypred)"
   ]
  },
  {
   "cell_type": "markdown",
   "metadata": {},
   "source": [
    "## Create a new sample of explanatory variables Xnew, predict and plot"
   ]
  },
  {
   "cell_type": "code",
   "execution_count": 6,
   "metadata": {
    "execution": {
     "iopub.execute_input": "2024-03-18T09:24:21.892306Z",
     "iopub.status.busy": "2024-03-18T09:24:21.890343Z",
     "iopub.status.idle": "2024-03-18T09:24:21.903354Z",
     "shell.execute_reply": "2024-03-18T09:24:21.902636Z"
    }
   },
   "outputs": [
    {
     "name": "stdout",
     "output_type": "stream",
     "text": [
      "[10.9114806  10.74752758 10.46435478 10.10927752  9.74457941  9.43226313\n",
      "  9.21887004  9.12408521  9.13591784  9.21363705]\n"
     ]
    }
   ],
   "source": [
    "x1n = np.linspace(20.5, 25, 10)\n",
    "Xnew = np.column_stack((x1n, np.sin(x1n), (x1n - 5) ** 2))\n",
    "Xnew = sm.add_constant(Xnew)\n",
    "ynewpred = olsres.predict(Xnew)  # predict out of sample\n",
    "print(ynewpred)"
   ]
  },
  {
   "cell_type": "markdown",
   "metadata": {},
   "source": [
    "## Plot comparison"
   ]
  },
  {
   "cell_type": "code",
   "execution_count": 7,
   "metadata": {
    "execution": {
     "iopub.execute_input": "2024-03-18T09:24:21.909722Z",
     "iopub.status.busy": "2024-03-18T09:24:21.907826Z",
     "iopub.status.idle": "2024-03-18T09:24:22.772787Z",
     "shell.execute_reply": "2024-03-18T09:24:22.772057Z"
    }
   },
   "outputs": [
    {
     "data": {
      "text/plain": [
       "<matplotlib.legend.Legend at 0x7089fb187760>"
      ]
     },
     "execution_count": 7,
     "metadata": {},
     "output_type": "execute_result"
    },
    {
     "data": {
      "image/png": "[encoded data removed]",
      "text/plain": [
       "<Figure size 1600x800 with 1 Axes>"
      ]
     },
     "metadata": {},
     "output_type": "display_data"
    }
   ],
   "source": [
    "import matplotlib.pyplot as plt\n",
    "\n",
    "fig, ax = plt.subplots()\n",
    "ax.plot(x1, y, \"o\", label=\"Data\")\n",
    "ax.plot(x1, y_true, \"b-\", label=\"True\")\n",
    "ax.plot(np.hstack((x1, x1n)), np.hstack((ypred, ynewpred)), \"r\", label=\"OLS prediction\")\n",
    "ax.legend(loc=\"best\")"
   ]
  },
  {
   "cell_type": "markdown",
   "metadata": {},
   "source": [
    "## Predicting with Formulas"
   ]
  },
  {
   "cell_type": "markdown",
   "metadata": {},
   "source": [
    "Using formulas can make both estimation and prediction a lot easier"
   ]
  },
  {
   "cell_type": "code",
   "execution_count": 8,
   "metadata": {
    "execution": {
     "iopub.execute_input": "2024-03-18T09:24:22.777751Z",
     "iopub.status.busy": "2024-03-18T09:24:22.776530Z",
     "iopub.status.idle": "2024-03-18T09:24:22.791491Z",
     "shell.execute_reply": "2024-03-18T09:24:22.790823Z"
    }
   },
   "outputs": [],
   "source": [
    "from statsmodels.formula.api import ols\n",
    "\n",
    "data = {\"x1\": x1, \"y\": y}\n",
    "\n",
    "res = ols(\"y ~ x1 + np.sin(x1) + I((x1-5)**2)\", data=data).fit()"
   ]
  },
  {
   "cell_type": "markdown",
   "metadata": {},
   "source": [
    "We use the `I` to indicate use of the Identity transform. Ie., we do not want any expansion magic from using `**2`"
   ]
  },
  {
   "cell_type": "code",
   "execution_count": 9,
   "metadata": {
    "execution": {
     "iopub.execute_input": "2024-03-18T09:24:22.798096Z",
     "iopub.status.busy": "2024-03-18T09:24:22.795619Z",
     "iopub.status.idle": "2024-03-18T09:24:22.815531Z",
     "shell.execute_reply": "2024-03-18T09:24:22.814856Z"
    }
   },
   "outputs": [
    {
     "data": {
      "text/plain": [
       "Intercept           4.895877\n",
       "x1                  0.520096\n",
       "np.sin(x1)          0.529439\n",
       "I((x1 - 5) ** 2)   -0.021536\n",
       "dtype: float64"
      ]
     },
     "execution_count": 9,
     "metadata": {},
     "output_type": "execute_result"
    }
   ],
   "source": [
    "res.params"
   ]
  },
  {
   "cell_type": "markdown",
   "metadata": {},
   "source": [
    "Now we only have to pass the single variable and we get the transformed right-hand side variables automatically"
   ]
  },
  {
   "cell_type": "code",
   "execution_count": 10,
   "metadata": {
    "execution": {
     "iopub.execute_input": "2024-03-18T09:24:22.820366Z",
     "iopub.status.busy": "2024-03-18T09:24:22.818942Z",
     "iopub.status.idle": "2024-03-18T09:24:22.838230Z",
     "shell.execute_reply": "2024-03-18T09:24:22.837567Z"
    }
   },
   "outputs": [
    {
     "data": {
      "text/plain": [
       "0    10.911481\n",
       "1    10.747528\n",
       "2    10.464355\n",
       "3    10.109278\n",
       "4     9.744579\n",
       "5     9.432263\n",
       "6     9.218870\n",
       "7     9.124085\n",
       "8     9.135918\n",
       "9     9.213637\n",
       "dtype: float64"
      ]
     },
     "execution_count": 10,
     "metadata": {},
     "output_type": "execute_result"
    }
   ],
   "source": [
    "res.predict(exog=dict(x1=x1n))"
   ]
  }
 ],
 "metadata": {
  "kernelspec": {
   "display_name": "Python 3",
   "language": "python",
   "name": "python3"
  },
  "language_info": {
   "codemirror_mode": {
    "name": "ipython",
    "version": 3
   },
   "file_extension": ".py",
   "mimetype": "text/x-python",
   "name": "python",
   "nbconvert_exporter": "python",
   "pygments_lexer": "ipython3",
   "version": "3.10.13"
  }
 },
 "nbformat": 4,
 "nbformat_minor": 4
}
