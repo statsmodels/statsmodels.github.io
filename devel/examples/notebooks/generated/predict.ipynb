{
 "cells": [
  {
   "cell_type": "markdown",
   "metadata": {},
   "source": [
    "# Prediction (out of sample)"
   ]
  },
  {
   "cell_type": "code",
   "execution_count": 1,
   "metadata": {
    "execution": {
     "iopub.execute_input": "2024-12-16T11:21:14.004145Z",
     "iopub.status.busy": "2024-12-16T11:21:14.003604Z",
     "iopub.status.idle": "2024-12-16T11:21:15.693196Z",
     "shell.execute_reply": "2024-12-16T11:21:15.692534Z"
    }
   },
   "outputs": [],
   "source": [
    "%matplotlib inline"
   ]
  },
  {
   "cell_type": "code",
   "execution_count": 2,
   "metadata": {
    "execution": {
     "iopub.execute_input": "2024-12-16T11:21:15.700318Z",
     "iopub.status.busy": "2024-12-16T11:21:15.699811Z",
     "iopub.status.idle": "2024-12-16T11:21:18.770564Z",
     "shell.execute_reply": "2024-12-16T11:21:18.764481Z"
    }
   },
   "outputs": [],
   "source": [
    "import numpy as np\n",
    "import matplotlib.pyplot as plt\n",
    "\n",
    "import statsmodels.api as sm\n",
    "\n",
    "plt.rc(\"figure\", figsize=(16, 8))\n",
    "plt.rc(\"font\", size=14)"
   ]
  },
  {
   "cell_type": "markdown",
   "metadata": {},
   "source": [
    "## Artificial data"
   ]
  },
  {
   "cell_type": "code",
   "execution_count": 3,
   "metadata": {
    "execution": {
     "iopub.execute_input": "2024-12-16T11:21:18.776873Z",
     "iopub.status.busy": "2024-12-16T11:21:18.775704Z",
     "iopub.status.idle": "2024-12-16T11:21:18.789936Z",
     "shell.execute_reply": "2024-12-16T11:21:18.789341Z"
    }
   },
   "outputs": [],
   "source": [
    "nsample = 50\n",
    "sig = 0.25\n",
    "x1 = np.linspace(0, 20, nsample)\n",
    "X = np.column_stack((x1, np.sin(x1), (x1 - 5) ** 2))\n",
    "X = sm.add_constant(X)\n",
    "beta = [5.0, 0.5, 0.5, -0.02]\n",
    "y_true = np.dot(X, beta)\n",
    "y = y_true + sig * np.random.normal(size=nsample)"
   ]
  },
  {
   "cell_type": "markdown",
   "metadata": {},
   "source": [
    "## Estimation "
   ]
  },
  {
   "cell_type": "code",
   "execution_count": 4,
   "metadata": {
    "execution": {
     "iopub.execute_input": "2024-12-16T11:21:18.793261Z",
     "iopub.status.busy": "2024-12-16T11:21:18.792447Z",
     "iopub.status.idle": "2024-12-16T11:21:18.830198Z",
     "shell.execute_reply": "2024-12-16T11:21:18.829633Z"
    }
   },
   "outputs": [
    {
     "name": "stdout",
     "output_type": "stream",
     "text": [
      "                            OLS Regression Results                            \n",
      "==============================================================================\n",
      "Dep. Variable:                      y   R-squared:                       0.980\n",
      "Model:                            OLS   Adj. R-squared:                  0.979\n",
      "Method:                 Least Squares   F-statistic:                     757.6\n",
      "Date:                Mon, 16 Dec 2024   Prob (F-statistic):           3.79e-39\n",
      "Time:                        11:21:18   Log-Likelihood:                -2.3280\n",
      "No. Observations:                  50   AIC:                             12.66\n",
      "Df Residuals:                      46   BIC:                             20.30\n",
      "Df Model:                           3                                         \n",
      "Covariance Type:            nonrobust                                         \n",
      "==============================================================================\n",
      "                 coef    std err          t      P>|t|      [0.025      0.975]\n",
      "------------------------------------------------------------------------------\n",
      "const          5.1848      0.090     57.556      0.000       5.003       5.366\n",
      "x1             0.4733      0.014     34.066      0.000       0.445       0.501\n",
      "x2             0.4780      0.055      8.753      0.000       0.368       0.588\n",
      "x3            -0.0181      0.001    -14.869      0.000      -0.021      -0.016\n",
      "==============================================================================\n",
      "Omnibus:                        1.503   Durbin-Watson:                   2.348\n",
      "Prob(Omnibus):                  0.472   Jarque-Bera (JB):                1.476\n",
      "Skew:                          -0.381   Prob(JB):                        0.478\n",
      "Kurtosis:                       2.643   Cond. No.                         221.\n",
      "==============================================================================\n",
      "\n",
      "Notes:\n",
      "[1] Standard Errors assume that the covariance matrix of the errors is correctly specified.\n"
     ]
    }
   ],
   "source": [
    "olsmod = sm.OLS(y, X)\n",
    "olsres = olsmod.fit()\n",
    "print(olsres.summary())"
   ]
  },
  {
   "cell_type": "markdown",
   "metadata": {},
   "source": [
    "## In-sample prediction"
   ]
  },
  {
   "cell_type": "code",
   "execution_count": 5,
   "metadata": {
    "execution": {
     "iopub.execute_input": "2024-12-16T11:21:18.837837Z",
     "iopub.status.busy": "2024-12-16T11:21:18.837618Z",
     "iopub.status.idle": "2024-12-16T11:21:18.847817Z",
     "shell.execute_reply": "2024-12-16T11:21:18.847256Z"
    }
   },
   "outputs": [
    {
     "name": "stdout",
     "output_type": "stream",
     "text": [
      "[ 4.73136423  5.18528879  5.60199658  5.95543591  6.228957    6.4180475\n",
      "  6.53107388  6.58790679  6.61665643  6.64905407  6.71523875  6.83880546\n",
      "  7.03292857  7.29819736  7.62251914  7.98310609  8.3502192   8.69205435\n",
      "  8.97996758  9.19318126  9.32219778  9.37035996  9.35330188  9.29638018\n",
      "  9.23050811  9.1870765   9.1927964   9.26531047  9.41029439  9.62052434\n",
      "  9.87706384 10.15237498 10.41484283 10.63396965 10.78538562 10.85485269\n",
      " 10.8406039  10.75363364 10.61589134 10.45667521 10.30781867 10.19846015\n",
      " 10.15025578 10.17382131 10.26698802 10.41515897 10.59370731 10.77202233\n",
      " 10.91853877 11.00592286]\n"
     ]
    }
   ],
   "source": [
    "ypred = olsres.predict(X)\n",
    "print(ypred)"
   ]
  },
  {
   "cell_type": "markdown",
   "metadata": {},
   "source": [
    "## Create a new sample of explanatory variables Xnew, predict and plot"
   ]
  },
  {
   "cell_type": "code",
   "execution_count": 6,
   "metadata": {
    "execution": {
     "iopub.execute_input": "2024-12-16T11:21:18.852852Z",
     "iopub.status.busy": "2024-12-16T11:21:18.852635Z",
     "iopub.status.idle": "2024-12-16T11:21:18.866593Z",
     "shell.execute_reply": "2024-12-16T11:21:18.864457Z"
    }
   },
   "outputs": [
    {
     "name": "stdout",
     "output_type": "stream",
     "text": [
      "[11.00606439 10.88047202 10.6478919  10.35104418 10.04616356  9.78923112\n",
      "  9.62226821  9.56304811  9.60074457  9.69858238]\n"
     ]
    }
   ],
   "source": [
    "x1n = np.linspace(20.5, 25, 10)\n",
    "Xnew = np.column_stack((x1n, np.sin(x1n), (x1n - 5) ** 2))\n",
    "Xnew = sm.add_constant(Xnew)\n",
    "ynewpred = olsres.predict(Xnew)  # predict out of sample\n",
    "print(ynewpred)"
   ]
  },
  {
   "cell_type": "markdown",
   "metadata": {},
   "source": [
    "## Plot comparison"
   ]
  },
  {
   "cell_type": "code",
   "execution_count": 7,
   "metadata": {
    "execution": {
     "iopub.execute_input": "2024-12-16T11:21:18.868774Z",
     "iopub.status.busy": "2024-12-16T11:21:18.868556Z",
     "iopub.status.idle": "2024-12-16T11:21:19.534459Z",
     "shell.execute_reply": "2024-12-16T11:21:19.531513Z"
    }
   },
   "outputs": [
    {
     "data": {
      "text/plain": [
       "<matplotlib.legend.Legend at 0x7f6b7ef45150>"
      ]
     },
     "execution_count": 7,
     "metadata": {},
     "output_type": "execute_result"
    },
    {
     "data": {
      "image/png": "[encoded data removed]",
      "text/plain": [
       "<Figure size 1600x800 with 1 Axes>"
      ]
     },
     "metadata": {},
     "output_type": "display_data"
    }
   ],
   "source": [
    "import matplotlib.pyplot as plt\n",
    "\n",
    "fig, ax = plt.subplots()\n",
    "ax.plot(x1, y, \"o\", label=\"Data\")\n",
    "ax.plot(x1, y_true, \"b-\", label=\"True\")\n",
    "ax.plot(np.hstack((x1, x1n)), np.hstack((ypred, ynewpred)), \"r\", label=\"OLS prediction\")\n",
    "ax.legend(loc=\"best\")"
   ]
  },
  {
   "cell_type": "markdown",
   "metadata": {},
   "source": [
    "## Predicting with Formulas"
   ]
  },
  {
   "cell_type": "markdown",
   "metadata": {},
   "source": [
    "Using formulas can make both estimation and prediction a lot easier"
   ]
  },
  {
   "cell_type": "code",
   "execution_count": 8,
   "metadata": {
    "execution": {
     "iopub.execute_input": "2024-12-16T11:21:19.541162Z",
     "iopub.status.busy": "2024-12-16T11:21:19.540311Z",
     "iopub.status.idle": "2024-12-16T11:21:19.566588Z",
     "shell.execute_reply": "2024-12-16T11:21:19.563379Z"
    }
   },
   "outputs": [],
   "source": [
    "from statsmodels.formula.api import ols\n",
    "\n",
    "data = {\"x1\": x1, \"y\": y}\n",
    "\n",
    "res = ols(\"y ~ x1 + np.sin(x1) + I((x1-5)**2)\", data=data).fit()"
   ]
  },
  {
   "cell_type": "markdown",
   "metadata": {},
   "source": [
    "We use the `I` to indicate use of the Identity transform. Ie., we do not want any expansion magic from using `**2`"
   ]
  },
  {
   "cell_type": "code",
   "execution_count": 9,
   "metadata": {
    "execution": {
     "iopub.execute_input": "2024-12-16T11:21:19.569110Z",
     "iopub.status.busy": "2024-12-16T11:21:19.568889Z",
     "iopub.status.idle": "2024-12-16T11:21:19.584854Z",
     "shell.execute_reply": "2024-12-16T11:21:19.584262Z"
    }
   },
   "outputs": [
    {
     "data": {
      "text/plain": [
       "Intercept           5.184805\n",
       "x1                  0.473284\n",
       "np.sin(x1)          0.478021\n",
       "I((x1 - 5) ** 2)   -0.018138\n",
       "dtype: float64"
      ]
     },
     "execution_count": 9,
     "metadata": {},
     "output_type": "execute_result"
    }
   ],
   "source": [
    "res.params"
   ]
  },
  {
   "cell_type": "markdown",
   "metadata": {},
   "source": [
    "Now we only have to pass the single variable and we get the transformed right-hand side variables automatically"
   ]
  },
  {
   "cell_type": "code",
   "execution_count": 10,
   "metadata": {
    "execution": {
     "iopub.execute_input": "2024-12-16T11:21:19.587411Z",
     "iopub.status.busy": "2024-12-16T11:21:19.587163Z",
     "iopub.status.idle": "2024-12-16T11:21:19.603787Z",
     "shell.execute_reply": "2024-12-16T11:21:19.603177Z"
    }
   },
   "outputs": [
    {
     "data": {
      "text/plain": [
       "0    11.006064\n",
       "1    10.880472\n",
       "2    10.647892\n",
       "3    10.351044\n",
       "4    10.046164\n",
       "5     9.789231\n",
       "6     9.622268\n",
       "7     9.563048\n",
       "8     9.600745\n",
       "9     9.698582\n",
       "dtype: float64"
      ]
     },
     "execution_count": 10,
     "metadata": {},
     "output_type": "execute_result"
    }
   ],
   "source": [
    "res.predict(exog=dict(x1=x1n))"
   ]
  }
 ],
 "metadata": {
  "kernelspec": {
   "display_name": "Python 3",
   "language": "python",
   "name": "python3"
  },
  "language_info": {
   "codemirror_mode": {
    "name": "ipython",
    "version": 3
   },
   "file_extension": ".py",
   "mimetype": "text/x-python",
   "name": "python",
   "nbconvert_exporter": "python",
   "pygments_lexer": "ipython3",
   "version": "3.10.15"
  }
 },
 "nbformat": 4,
 "nbformat_minor": 4
}
