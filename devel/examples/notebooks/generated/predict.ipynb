{
 "cells": [
  {
   "cell_type": "markdown",
   "metadata": {},
   "source": [
    "# Prediction (out of sample)"
   ]
  },
  {
   "cell_type": "code",
   "execution_count": 1,
   "metadata": {
    "execution": {
     "iopub.execute_input": "2025-07-10T15:57:24.126329Z",
     "iopub.status.busy": "2025-07-10T15:57:24.126112Z",
     "iopub.status.idle": "2025-07-10T15:57:25.874342Z",
     "shell.execute_reply": "2025-07-10T15:57:25.872642Z"
    }
   },
   "outputs": [],
   "source": [
    "%matplotlib inline"
   ]
  },
  {
   "cell_type": "code",
   "execution_count": 2,
   "metadata": {
    "execution": {
     "iopub.execute_input": "2025-07-10T15:57:25.879112Z",
     "iopub.status.busy": "2025-07-10T15:57:25.876775Z",
     "iopub.status.idle": "2025-07-10T15:57:29.335004Z",
     "shell.execute_reply": "2025-07-10T15:57:29.329162Z"
    }
   },
   "outputs": [],
   "source": [
    "import numpy as np\n",
    "import matplotlib.pyplot as plt\n",
    "\n",
    "import statsmodels.api as sm\n",
    "\n",
    "plt.rc(\"figure\", figsize=(16, 8))\n",
    "plt.rc(\"font\", size=14)"
   ]
  },
  {
   "cell_type": "markdown",
   "metadata": {},
   "source": [
    "## Artificial data"
   ]
  },
  {
   "cell_type": "code",
   "execution_count": 3,
   "metadata": {
    "execution": {
     "iopub.execute_input": "2025-07-10T15:57:29.337678Z",
     "iopub.status.busy": "2025-07-10T15:57:29.337320Z",
     "iopub.status.idle": "2025-07-10T15:57:29.350374Z",
     "shell.execute_reply": "2025-07-10T15:57:29.349790Z"
    }
   },
   "outputs": [],
   "source": [
    "nsample = 50\n",
    "sig = 0.25\n",
    "x1 = np.linspace(0, 20, nsample)\n",
    "X = np.column_stack((x1, np.sin(x1), (x1 - 5) ** 2))\n",
    "X = sm.add_constant(X)\n",
    "beta = [5.0, 0.5, 0.5, -0.02]\n",
    "y_true = np.dot(X, beta)\n",
    "y = y_true + sig * np.random.normal(size=nsample)"
   ]
  },
  {
   "cell_type": "markdown",
   "metadata": {},
   "source": [
    "## Estimation "
   ]
  },
  {
   "cell_type": "code",
   "execution_count": 4,
   "metadata": {
    "execution": {
     "iopub.execute_input": "2025-07-10T15:57:29.359395Z",
     "iopub.status.busy": "2025-07-10T15:57:29.359171Z",
     "iopub.status.idle": "2025-07-10T15:57:29.403172Z",
     "shell.execute_reply": "2025-07-10T15:57:29.402574Z"
    }
   },
   "outputs": [
    {
     "name": "stdout",
     "output_type": "stream",
     "text": [
      "                            OLS Regression Results                            \n",
      "==============================================================================\n",
      "Dep. Variable:                      y   R-squared:                       0.983\n",
      "Model:                            OLS   Adj. R-squared:                  0.982\n",
      "Method:                 Least Squares   F-statistic:                     906.9\n",
      "Date:                Thu, 10 Jul 2025   Prob (F-statistic):           6.53e-41\n",
      "Time:                        15:57:29   Log-Likelihood:              -0.022207\n",
      "No. Observations:                  50   AIC:                             8.044\n",
      "Df Residuals:                      46   BIC:                             15.69\n",
      "Df Model:                           3                                         \n",
      "Covariance Type:            nonrobust                                         \n",
      "==============================================================================\n",
      "                 coef    std err          t      P>|t|      [0.025      0.975]\n",
      "------------------------------------------------------------------------------\n",
      "const          4.9065      0.086     57.037      0.000       4.733       5.080\n",
      "x1             0.5107      0.013     38.496      0.000       0.484       0.537\n",
      "x2             0.5220      0.052     10.008      0.000       0.417       0.627\n",
      "x3            -0.0209      0.001    -17.952      0.000      -0.023      -0.019\n",
      "==============================================================================\n",
      "Omnibus:                        2.258   Durbin-Watson:                   2.290\n",
      "Prob(Omnibus):                  0.323   Jarque-Bera (JB):                1.416\n",
      "Skew:                          -0.117   Prob(JB):                        0.493\n",
      "Kurtosis:                       2.209   Cond. No.                         221.\n",
      "==============================================================================\n",
      "\n",
      "Notes:\n",
      "[1] Standard Errors assume that the covariance matrix of the errors is correctly specified.\n"
     ]
    }
   ],
   "source": [
    "olsmod = sm.OLS(y, X)\n",
    "olsres = olsmod.fit()\n",
    "print(olsres.summary())"
   ]
  },
  {
   "cell_type": "markdown",
   "metadata": {},
   "source": [
    "## In-sample prediction"
   ]
  },
  {
   "cell_type": "code",
   "execution_count": 5,
   "metadata": {
    "execution": {
     "iopub.execute_input": "2025-07-10T15:57:29.405977Z",
     "iopub.status.busy": "2025-07-10T15:57:29.405725Z",
     "iopub.status.idle": "2025-07-10T15:57:29.416152Z",
     "shell.execute_reply": "2025-07-10T15:57:29.415574Z"
    }
   },
   "outputs": [
    {
     "name": "stdout",
     "output_type": "stream",
     "text": [
      "[ 4.38369086  4.88119611  5.33769457  5.72473937  6.02414997  6.23099918\n",
      "  6.35442264  6.41611792  6.44677961  6.48105633  6.55185804  6.68494903\n",
      "  6.89471492  7.18179915  7.53299725  7.92342632  8.32061318  8.68982968\n",
      "  8.99979838  9.22783138  9.36355786  9.41062799  9.38611322  9.31770145\n",
      "  9.23914804  9.18472987  9.18361376  9.25506441  9.40527933  9.62637052\n",
      "  9.89766053 10.18907966 10.46610632 10.69543887 10.85046693 10.91564345\n",
      " 10.88903901 10.78265881 10.62047027 10.43446527 10.25940392 10.12710362\n",
      " 10.06121151 10.07331937 10.16105907 10.30849167 10.48872612 10.66833744\n",
      " 10.81285828 10.89244185]\n"
     ]
    }
   ],
   "source": [
    "ypred = olsres.predict(X)\n",
    "print(ypred)"
   ]
  },
  {
   "cell_type": "markdown",
   "metadata": {},
   "source": [
    "## Create a new sample of explanatory variables Xnew, predict and plot"
   ]
  },
  {
   "cell_type": "code",
   "execution_count": 6,
   "metadata": {
    "execution": {
     "iopub.execute_input": "2025-07-10T15:57:29.423376Z",
     "iopub.status.busy": "2025-07-10T15:57:29.423153Z",
     "iopub.status.idle": "2025-07-10T15:57:29.433510Z",
     "shell.execute_reply": "2025-07-10T15:57:29.432944Z"
    }
   },
   "outputs": [
    {
     "name": "stdout",
     "output_type": "stream",
     "text": [
      "[10.87269709 10.71510584 10.44013774 10.09444056  9.73941916  9.43620144\n",
      "  9.23067213  9.14223859  9.15907917  9.24103765]\n"
     ]
    }
   ],
   "source": [
    "x1n = np.linspace(20.5, 25, 10)\n",
    "Xnew = np.column_stack((x1n, np.sin(x1n), (x1n - 5) ** 2))\n",
    "Xnew = sm.add_constant(Xnew)\n",
    "ynewpred = olsres.predict(Xnew)  # predict out of sample\n",
    "print(ynewpred)"
   ]
  },
  {
   "cell_type": "markdown",
   "metadata": {},
   "source": [
    "## Plot comparison"
   ]
  },
  {
   "cell_type": "code",
   "execution_count": 7,
   "metadata": {
    "execution": {
     "iopub.execute_input": "2025-07-10T15:57:29.440602Z",
     "iopub.status.busy": "2025-07-10T15:57:29.435980Z",
     "iopub.status.idle": "2025-07-10T15:57:30.167294Z",
     "shell.execute_reply": "2025-07-10T15:57:30.166608Z"
    }
   },
   "outputs": [
    {
     "data": {
      "text/plain": [
       "<matplotlib.legend.Legend at 0x7f1c6130a920>"
      ]
     },
     "execution_count": 7,
     "metadata": {},
     "output_type": "execute_result"
    },
    {
     "data": {
      "image/png": "[encoded data removed]",
      "text/plain": [
       "<Figure size 1600x800 with 1 Axes>"
      ]
     },
     "metadata": {},
     "output_type": "display_data"
    }
   ],
   "source": [
    "import matplotlib.pyplot as plt\n",
    "\n",
    "fig, ax = plt.subplots()\n",
    "ax.plot(x1, y, \"o\", label=\"Data\")\n",
    "ax.plot(x1, y_true, \"b-\", label=\"True\")\n",
    "ax.plot(np.hstack((x1, x1n)), np.hstack((ypred, ynewpred)), \"r\", label=\"OLS prediction\")\n",
    "ax.legend(loc=\"best\")"
   ]
  },
  {
   "cell_type": "markdown",
   "metadata": {},
   "source": [
    "## Predicting with Formulas"
   ]
  },
  {
   "cell_type": "markdown",
   "metadata": {},
   "source": [
    "Using formulas can make both estimation and prediction a lot easier"
   ]
  },
  {
   "cell_type": "code",
   "execution_count": 8,
   "metadata": {
    "execution": {
     "iopub.execute_input": "2025-07-10T15:57:30.173563Z",
     "iopub.status.busy": "2025-07-10T15:57:30.173253Z",
     "iopub.status.idle": "2025-07-10T15:57:30.193195Z",
     "shell.execute_reply": "2025-07-10T15:57:30.192578Z"
    }
   },
   "outputs": [],
   "source": [
    "from statsmodels.formula.api import ols\n",
    "\n",
    "data = {\"x1\": x1, \"y\": y}\n",
    "\n",
    "res = ols(\"y ~ x1 + np.sin(x1) + I((x1-5)**2)\", data=data).fit()"
   ]
  },
  {
   "cell_type": "markdown",
   "metadata": {},
   "source": [
    "We use the `I` to indicate use of the Identity transform. Ie., we do not want any expansion magic from using `**2`"
   ]
  },
  {
   "cell_type": "code",
   "execution_count": 9,
   "metadata": {
    "execution": {
     "iopub.execute_input": "2025-07-10T15:57:30.195522Z",
     "iopub.status.busy": "2025-07-10T15:57:30.195294Z",
     "iopub.status.idle": "2025-07-10T15:57:30.211362Z",
     "shell.execute_reply": "2025-07-10T15:57:30.210785Z"
    }
   },
   "outputs": [
    {
     "data": {
      "text/plain": [
       "Intercept           4.906460\n",
       "x1                  0.510719\n",
       "np.sin(x1)          0.521969\n",
       "I((x1 - 5) ** 2)   -0.020911\n",
       "dtype: float64"
      ]
     },
     "execution_count": 9,
     "metadata": {},
     "output_type": "execute_result"
    }
   ],
   "source": [
    "res.params"
   ]
  },
  {
   "cell_type": "markdown",
   "metadata": {},
   "source": [
    "Now we only have to pass the single variable and we get the transformed right-hand side variables automatically"
   ]
  },
  {
   "cell_type": "code",
   "execution_count": 10,
   "metadata": {
    "execution": {
     "iopub.execute_input": "2025-07-10T15:57:30.216442Z",
     "iopub.status.busy": "2025-07-10T15:57:30.216220Z",
     "iopub.status.idle": "2025-07-10T15:57:30.232440Z",
     "shell.execute_reply": "2025-07-10T15:57:30.231871Z"
    }
   },
   "outputs": [
    {
     "data": {
      "text/plain": [
       "0    10.872697\n",
       "1    10.715106\n",
       "2    10.440138\n",
       "3    10.094441\n",
       "4     9.739419\n",
       "5     9.436201\n",
       "6     9.230672\n",
       "7     9.142239\n",
       "8     9.159079\n",
       "9     9.241038\n",
       "dtype: float64"
      ]
     },
     "execution_count": 10,
     "metadata": {},
     "output_type": "execute_result"
    }
   ],
   "source": [
    "res.predict(exog=dict(x1=x1n))"
   ]
  }
 ],
 "metadata": {
  "kernelspec": {
   "display_name": "Python 3",
   "language": "python",
   "name": "python3"
  },
  "language_info": {
   "codemirror_mode": {
    "name": "ipython",
    "version": 3
   },
   "file_extension": ".py",
   "mimetype": "text/x-python",
   "name": "python",
   "nbconvert_exporter": "python",
   "pygments_lexer": "ipython3",
   "version": "3.10.18"
  }
 },
 "nbformat": 4,
 "nbformat_minor": 4
}
