{
 "cells": [
  {
   "cell_type": "markdown",
   "metadata": {},
   "source": [
    "# Prediction (out of sample)"
   ]
  },
  {
   "cell_type": "code",
   "execution_count": 1,
   "metadata": {
    "execution": {
     "iopub.execute_input": "2023-05-05T11:04:38.119841Z",
     "iopub.status.busy": "2023-05-05T11:04:38.118288Z",
     "iopub.status.idle": "2023-05-05T11:04:38.596622Z",
     "shell.execute_reply": "2023-05-05T11:04:38.595921Z"
    }
   },
   "outputs": [],
   "source": [
    "%matplotlib inline"
   ]
  },
  {
   "cell_type": "code",
   "execution_count": 2,
   "metadata": {
    "execution": {
     "iopub.execute_input": "2023-05-05T11:04:38.600615Z",
     "iopub.status.busy": "2023-05-05T11:04:38.600283Z",
     "iopub.status.idle": "2023-05-05T11:04:39.443723Z",
     "shell.execute_reply": "2023-05-05T11:04:39.442971Z"
    }
   },
   "outputs": [],
   "source": [
    "import numpy as np\n",
    "import matplotlib.pyplot as plt\n",
    "\n",
    "import statsmodels.api as sm\n",
    "\n",
    "plt.rc(\"figure\", figsize=(16, 8))\n",
    "plt.rc(\"font\", size=14)"
   ]
  },
  {
   "cell_type": "markdown",
   "metadata": {},
   "source": [
    "## Artificial data"
   ]
  },
  {
   "cell_type": "code",
   "execution_count": 3,
   "metadata": {
    "execution": {
     "iopub.execute_input": "2023-05-05T11:04:39.448981Z",
     "iopub.status.busy": "2023-05-05T11:04:39.447773Z",
     "iopub.status.idle": "2023-05-05T11:04:39.453951Z",
     "shell.execute_reply": "2023-05-05T11:04:39.453397Z"
    }
   },
   "outputs": [],
   "source": [
    "nsample = 50\n",
    "sig = 0.25\n",
    "x1 = np.linspace(0, 20, nsample)\n",
    "X = np.column_stack((x1, np.sin(x1), (x1 - 5) ** 2))\n",
    "X = sm.add_constant(X)\n",
    "beta = [5.0, 0.5, 0.5, -0.02]\n",
    "y_true = np.dot(X, beta)\n",
    "y = y_true + sig * np.random.normal(size=nsample)"
   ]
  },
  {
   "cell_type": "markdown",
   "metadata": {},
   "source": [
    "## Estimation "
   ]
  },
  {
   "cell_type": "code",
   "execution_count": 4,
   "metadata": {
    "execution": {
     "iopub.execute_input": "2023-05-05T11:04:39.458195Z",
     "iopub.status.busy": "2023-05-05T11:04:39.457099Z",
     "iopub.status.idle": "2023-05-05T11:04:39.470159Z",
     "shell.execute_reply": "2023-05-05T11:04:39.469590Z"
    }
   },
   "outputs": [
    {
     "name": "stdout",
     "output_type": "stream",
     "text": [
      "                            OLS Regression Results                            \n",
      "==============================================================================\n",
      "Dep. Variable:                      y   R-squared:                       0.975\n",
      "Model:                            OLS   Adj. R-squared:                  0.974\n",
      "Method:                 Least Squares   F-statistic:                     606.3\n",
      "Date:                Fri, 05 May 2023   Prob (F-statistic):           5.67e-37\n",
      "Time:                        11:04:39   Log-Likelihood:                -9.9812\n",
      "No. Observations:                  50   AIC:                             27.96\n",
      "Df Residuals:                      46   BIC:                             35.61\n",
      "Df Model:                           3                                         \n",
      "Covariance Type:            nonrobust                                         \n",
      "==============================================================================\n",
      "                 coef    std err          t      P>|t|      [0.025      0.975]\n",
      "------------------------------------------------------------------------------\n",
      "const          5.0374      0.105     47.983      0.000       4.826       5.249\n",
      "x1             0.4964      0.016     30.660      0.000       0.464       0.529\n",
      "x2             0.4521      0.064      7.103      0.000       0.324       0.580\n",
      "x3            -0.0193      0.001    -13.551      0.000      -0.022      -0.016\n",
      "==============================================================================\n",
      "Omnibus:                        0.678   Durbin-Watson:                   1.921\n",
      "Prob(Omnibus):                  0.712   Jarque-Bera (JB):                0.771\n",
      "Skew:                          -0.151   Prob(JB):                        0.680\n",
      "Kurtosis:                       2.472   Cond. No.                         221.\n",
      "==============================================================================\n",
      "\n",
      "Notes:\n",
      "[1] Standard Errors assume that the covariance matrix of the errors is correctly specified.\n"
     ]
    }
   ],
   "source": [
    "olsmod = sm.OLS(y, X)\n",
    "olsres = olsmod.fit()\n",
    "print(olsres.summary())"
   ]
  },
  {
   "cell_type": "markdown",
   "metadata": {},
   "source": [
    "## In-sample prediction"
   ]
  },
  {
   "cell_type": "code",
   "execution_count": 5,
   "metadata": {
    "execution": {
     "iopub.execute_input": "2023-05-05T11:04:39.474381Z",
     "iopub.status.busy": "2023-05-05T11:04:39.473287Z",
     "iopub.status.idle": "2023-05-05T11:04:39.479716Z",
     "shell.execute_reply": "2023-05-05T11:04:39.479144Z"
    }
   },
   "outputs": [
    {
     "name": "stdout",
     "output_type": "stream",
     "text": [
      "[ 4.55580824  5.01328334  5.43485837  5.79589572  6.08064937  6.28485188\n",
      "  6.4164156   6.49413261  6.54458728  6.59778853  6.68223943  6.82025424\n",
      "  7.02429224  7.29491072  7.62067337  7.9800293   8.34485374  8.68506887\n",
      "  8.97358554  9.19075392  9.32759193  9.38726095  9.38454642  9.34342866\n",
      "  9.29314292  9.26337615  9.27938954  9.35786809  9.50417942  9.7114918\n",
      "  9.96189663 10.22935076 10.48395531 10.69686796 10.84504166 10.91501123\n",
      " 10.9051056  10.82572239 10.69761962 10.5485052  10.40848462 10.3051147\n",
      " 10.25887605 10.27980823 10.36586022 10.50322741 10.66861967 10.83308787\n",
      " 10.96678008 11.04384622]\n"
     ]
    }
   ],
   "source": [
    "ypred = olsres.predict(X)\n",
    "print(ypred)"
   ]
  },
  {
   "cell_type": "markdown",
   "metadata": {},
   "source": [
    "## Create a new sample of explanatory variables Xnew, predict and plot"
   ]
  },
  {
   "cell_type": "code",
   "execution_count": 6,
   "metadata": {
    "execution": {
     "iopub.execute_input": "2023-05-05T11:04:39.483950Z",
     "iopub.status.busy": "2023-05-05T11:04:39.482825Z",
     "iopub.status.idle": "2023-05-05T11:04:39.489798Z",
     "shell.execute_reply": "2023-05-05T11:04:39.489242Z"
    }
   },
   "outputs": [
    {
     "name": "stdout",
     "output_type": "stream",
     "text": [
      "[11.03619237 10.90857386 10.67871932 10.38703003 10.0866883   9.83063656\n",
      "  9.65861523  9.58743288  9.60685089  9.68209021]\n"
     ]
    }
   ],
   "source": [
    "x1n = np.linspace(20.5, 25, 10)\n",
    "Xnew = np.column_stack((x1n, np.sin(x1n), (x1n - 5) ** 2))\n",
    "Xnew = sm.add_constant(Xnew)\n",
    "ynewpred = olsres.predict(Xnew)  # predict out of sample\n",
    "print(ynewpred)"
   ]
  },
  {
   "cell_type": "markdown",
   "metadata": {},
   "source": [
    "## Plot comparison"
   ]
  },
  {
   "cell_type": "code",
   "execution_count": 7,
   "metadata": {
    "execution": {
     "iopub.execute_input": "2023-05-05T11:04:39.494001Z",
     "iopub.status.busy": "2023-05-05T11:04:39.492912Z",
     "iopub.status.idle": "2023-05-05T11:04:39.796535Z",
     "shell.execute_reply": "2023-05-05T11:04:39.795842Z"
    }
   },
   "outputs": [
    {
     "data": {
      "text/plain": [
       "<matplotlib.legend.Legend at 0x7fd1e87b7820>"
      ]
     },
     "execution_count": 7,
     "metadata": {},
     "output_type": "execute_result"
    },
    {
     "data": {
      "image/png": "[encoded data removed]",
      "text/plain": [
       "<Figure size 1600x800 with 1 Axes>"
      ]
     },
     "metadata": {},
     "output_type": "display_data"
    }
   ],
   "source": [
    "import matplotlib.pyplot as plt\n",
    "\n",
    "fig, ax = plt.subplots()\n",
    "ax.plot(x1, y, \"o\", label=\"Data\")\n",
    "ax.plot(x1, y_true, \"b-\", label=\"True\")\n",
    "ax.plot(np.hstack((x1, x1n)), np.hstack((ypred, ynewpred)), \"r\", label=\"OLS prediction\")\n",
    "ax.legend(loc=\"best\")"
   ]
  },
  {
   "cell_type": "markdown",
   "metadata": {},
   "source": [
    "## Predicting with Formulas"
   ]
  },
  {
   "cell_type": "markdown",
   "metadata": {},
   "source": [
    "Using formulas can make both estimation and prediction a lot easier"
   ]
  },
  {
   "cell_type": "code",
   "execution_count": 8,
   "metadata": {
    "execution": {
     "iopub.execute_input": "2023-05-05T11:04:39.800411Z",
     "iopub.status.busy": "2023-05-05T11:04:39.800148Z",
     "iopub.status.idle": "2023-05-05T11:04:39.809286Z",
     "shell.execute_reply": "2023-05-05T11:04:39.808709Z"
    }
   },
   "outputs": [],
   "source": [
    "from statsmodels.formula.api import ols\n",
    "\n",
    "data = {\"x1\": x1, \"y\": y}\n",
    "\n",
    "res = ols(\"y ~ x1 + np.sin(x1) + I((x1-5)**2)\", data=data).fit()"
   ]
  },
  {
   "cell_type": "markdown",
   "metadata": {},
   "source": [
    "We use the `I` to indicate use of the Identity transform. Ie., we do not want any expansion magic from using `**2`"
   ]
  },
  {
   "cell_type": "code",
   "execution_count": 9,
   "metadata": {
    "execution": {
     "iopub.execute_input": "2023-05-05T11:04:39.813797Z",
     "iopub.status.busy": "2023-05-05T11:04:39.812680Z",
     "iopub.status.idle": "2023-05-05T11:04:39.820934Z",
     "shell.execute_reply": "2023-05-05T11:04:39.820383Z"
    }
   },
   "outputs": [
    {
     "data": {
      "text/plain": [
       "Intercept           5.037415\n",
       "x1                  0.496409\n",
       "np.sin(x1)          0.452074\n",
       "I((x1 - 5) ** 2)   -0.019264\n",
       "dtype: float64"
      ]
     },
     "execution_count": 9,
     "metadata": {},
     "output_type": "execute_result"
    }
   ],
   "source": [
    "res.params"
   ]
  },
  {
   "cell_type": "markdown",
   "metadata": {},
   "source": [
    "Now we only have to pass the single variable and we get the transformed right-hand side variables automatically"
   ]
  },
  {
   "cell_type": "code",
   "execution_count": 10,
   "metadata": {
    "execution": {
     "iopub.execute_input": "2023-05-05T11:04:39.825169Z",
     "iopub.status.busy": "2023-05-05T11:04:39.824079Z",
     "iopub.status.idle": "2023-05-05T11:04:39.834262Z",
     "shell.execute_reply": "2023-05-05T11:04:39.833719Z"
    }
   },
   "outputs": [
    {
     "data": {
      "text/plain": [
       "0    11.036192\n",
       "1    10.908574\n",
       "2    10.678719\n",
       "3    10.387030\n",
       "4    10.086688\n",
       "5     9.830637\n",
       "6     9.658615\n",
       "7     9.587433\n",
       "8     9.606851\n",
       "9     9.682090\n",
       "dtype: float64"
      ]
     },
     "execution_count": 10,
     "metadata": {},
     "output_type": "execute_result"
    }
   ],
   "source": [
    "res.predict(exog=dict(x1=x1n))"
   ]
  }
 ],
 "metadata": {
  "kernelspec": {
   "display_name": "Python 3",
   "language": "python",
   "name": "python3"
  },
  "language_info": {
   "codemirror_mode": {
    "name": "ipython",
    "version": 3
   },
   "file_extension": ".py",
   "mimetype": "text/x-python",
   "name": "python",
   "nbconvert_exporter": "python",
   "pygments_lexer": "ipython3",
   "version": "3.10.11"
  }
 },
 "nbformat": 4,
 "nbformat_minor": 4
}
