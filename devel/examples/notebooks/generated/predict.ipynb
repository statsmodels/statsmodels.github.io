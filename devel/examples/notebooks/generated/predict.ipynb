{
 "cells": [
  {
   "cell_type": "markdown",
   "metadata": {},
   "source": [
    "# Prediction (out of sample)"
   ]
  },
  {
   "cell_type": "code",
   "execution_count": 1,
   "metadata": {
    "execution": {
     "iopub.execute_input": "2025-04-28T11:47:04.689226Z",
     "iopub.status.busy": "2025-04-28T11:47:04.689010Z",
     "iopub.status.idle": "2025-04-28T11:47:05.932445Z",
     "shell.execute_reply": "2025-04-28T11:47:05.931676Z"
    }
   },
   "outputs": [],
   "source": [
    "%matplotlib inline"
   ]
  },
  {
   "cell_type": "code",
   "execution_count": 2,
   "metadata": {
    "execution": {
     "iopub.execute_input": "2025-04-28T11:47:05.934970Z",
     "iopub.status.busy": "2025-04-28T11:47:05.934685Z",
     "iopub.status.idle": "2025-04-28T11:47:08.751253Z",
     "shell.execute_reply": "2025-04-28T11:47:08.750271Z"
    }
   },
   "outputs": [],
   "source": [
    "import numpy as np\n",
    "import matplotlib.pyplot as plt\n",
    "\n",
    "import statsmodels.api as sm\n",
    "\n",
    "plt.rc(\"figure\", figsize=(16, 8))\n",
    "plt.rc(\"font\", size=14)"
   ]
  },
  {
   "cell_type": "markdown",
   "metadata": {},
   "source": [
    "## Artificial data"
   ]
  },
  {
   "cell_type": "code",
   "execution_count": 3,
   "metadata": {
    "execution": {
     "iopub.execute_input": "2025-04-28T11:47:08.757569Z",
     "iopub.status.busy": "2025-04-28T11:47:08.757172Z",
     "iopub.status.idle": "2025-04-28T11:47:08.772963Z",
     "shell.execute_reply": "2025-04-28T11:47:08.768714Z"
    }
   },
   "outputs": [],
   "source": [
    "nsample = 50\n",
    "sig = 0.25\n",
    "x1 = np.linspace(0, 20, nsample)\n",
    "X = np.column_stack((x1, np.sin(x1), (x1 - 5) ** 2))\n",
    "X = sm.add_constant(X)\n",
    "beta = [5.0, 0.5, 0.5, -0.02]\n",
    "y_true = np.dot(X, beta)\n",
    "y = y_true + sig * np.random.normal(size=nsample)"
   ]
  },
  {
   "cell_type": "markdown",
   "metadata": {},
   "source": [
    "## Estimation "
   ]
  },
  {
   "cell_type": "code",
   "execution_count": 4,
   "metadata": {
    "execution": {
     "iopub.execute_input": "2025-04-28T11:47:08.775871Z",
     "iopub.status.busy": "2025-04-28T11:47:08.775509Z",
     "iopub.status.idle": "2025-04-28T11:47:08.822084Z",
     "shell.execute_reply": "2025-04-28T11:47:08.821259Z"
    }
   },
   "outputs": [
    {
     "name": "stdout",
     "output_type": "stream",
     "text": [
      "                            OLS Regression Results                            \n",
      "==============================================================================\n",
      "Dep. Variable:                      y   R-squared:                       0.986\n",
      "Model:                            OLS   Adj. R-squared:                  0.985\n",
      "Method:                 Least Squares   F-statistic:                     1092.\n",
      "Date:                Mon, 28 Apr 2025   Prob (F-statistic):           9.74e-43\n",
      "Time:                        11:47:08   Log-Likelihood:                 4.9470\n",
      "No. Observations:                  50   AIC:                            -1.894\n",
      "Df Residuals:                      46   BIC:                             5.754\n",
      "Df Model:                           3                                         \n",
      "Covariance Type:            nonrobust                                         \n",
      "==============================================================================\n",
      "                 coef    std err          t      P>|t|      [0.025      0.975]\n",
      "------------------------------------------------------------------------------\n",
      "const          5.0098      0.078     64.324      0.000       4.853       5.167\n",
      "x1             0.5111      0.012     42.553      0.000       0.487       0.535\n",
      "x2             0.5290      0.047     11.202      0.000       0.434       0.624\n",
      "x3            -0.0212      0.001    -20.135      0.000      -0.023      -0.019\n",
      "==============================================================================\n",
      "Omnibus:                        7.504   Durbin-Watson:                   2.047\n",
      "Prob(Omnibus):                  0.023   Jarque-Bera (JB):                8.118\n",
      "Skew:                          -0.544   Prob(JB):                       0.0173\n",
      "Kurtosis:                       4.647   Cond. No.                         221.\n",
      "==============================================================================\n",
      "\n",
      "Notes:\n",
      "[1] Standard Errors assume that the covariance matrix of the errors is correctly specified.\n"
     ]
    }
   ],
   "source": [
    "olsmod = sm.OLS(y, X)\n",
    "olsres = olsmod.fit()\n",
    "print(olsres.summary())"
   ]
  },
  {
   "cell_type": "markdown",
   "metadata": {},
   "source": [
    "## In-sample prediction"
   ]
  },
  {
   "cell_type": "code",
   "execution_count": 5,
   "metadata": {
    "execution": {
     "iopub.execute_input": "2025-04-28T11:47:08.826401Z",
     "iopub.status.busy": "2025-04-28T11:47:08.826077Z",
     "iopub.status.idle": "2025-04-28T11:47:08.841678Z",
     "shell.execute_reply": "2025-04-28T11:47:08.837488Z"
    }
   },
   "outputs": [
    {
     "name": "stdout",
     "output_type": "stream",
     "text": [
      "[ 4.47894225  4.98066834  5.4408231   5.83057833  6.13150976  6.33862415\n",
      "  6.4611796   6.52116456  6.5496851   6.58185433  6.65102338  6.78330194\n",
      "  6.99326847  7.28157504  7.63484017  8.02784738  8.42768817  8.79916884\n",
      "  9.11059264  9.33896753  9.47378367  9.51874016  9.49113728  9.41903414\n",
      "  9.3366386   9.27868705  9.2747373   9.34431232  9.49369268  9.71488466\n",
      "  9.9869336  10.2793667  10.55719959 10.78668418 10.94085339 11.00395172\n",
      " 10.9740239  10.86323607 10.69587696 10.5043673  10.32393319 10.18681856\n",
      " 10.11698757 10.12618739 10.21201814 10.3583272  10.53786305 10.7167526\n",
      " 10.86006646 10.93755772]\n"
     ]
    }
   ],
   "source": [
    "ypred = olsres.predict(X)\n",
    "print(ypred)"
   ]
  },
  {
   "cell_type": "markdown",
   "metadata": {},
   "source": [
    "## Create a new sample of explanatory variables Xnew, predict and plot"
   ]
  },
  {
   "cell_type": "code",
   "execution_count": 6,
   "metadata": {
    "execution": {
     "iopub.execute_input": "2025-04-28T11:47:08.850523Z",
     "iopub.status.busy": "2025-04-28T11:47:08.850230Z",
     "iopub.status.idle": "2025-04-28T11:47:08.865680Z",
     "shell.execute_reply": "2025-04-28T11:47:08.861464Z"
    }
   },
   "outputs": [
    {
     "name": "stdout",
     "output_type": "stream",
     "text": [
      "[10.91365809 10.75004183 10.46745298 10.11316467  9.74940491  9.4381211\n",
      "  9.22581306  9.1321483   9.14514674  9.2241138 ]\n"
     ]
    }
   ],
   "source": [
    "x1n = np.linspace(20.5, 25, 10)\n",
    "Xnew = np.column_stack((x1n, np.sin(x1n), (x1n - 5) ** 2))\n",
    "Xnew = sm.add_constant(Xnew)\n",
    "ynewpred = olsres.predict(Xnew)  # predict out of sample\n",
    "print(ynewpred)"
   ]
  },
  {
   "cell_type": "markdown",
   "metadata": {},
   "source": [
    "## Plot comparison"
   ]
  },
  {
   "cell_type": "code",
   "execution_count": 7,
   "metadata": {
    "execution": {
     "iopub.execute_input": "2025-04-28T11:47:08.872366Z",
     "iopub.status.busy": "2025-04-28T11:47:08.872100Z",
     "iopub.status.idle": "2025-04-28T11:47:09.471157Z",
     "shell.execute_reply": "2025-04-28T11:47:09.470449Z"
    }
   },
   "outputs": [
    {
     "data": {
      "text/plain": [
       "<matplotlib.legend.Legend at 0x7f53da2888e0>"
      ]
     },
     "execution_count": 7,
     "metadata": {},
     "output_type": "execute_result"
    },
    {
     "data": {
      "image/png": "[encoded data removed]",
      "text/plain": [
       "<Figure size 1600x800 with 1 Axes>"
      ]
     },
     "metadata": {},
     "output_type": "display_data"
    }
   ],
   "source": [
    "import matplotlib.pyplot as plt\n",
    "\n",
    "fig, ax = plt.subplots()\n",
    "ax.plot(x1, y, \"o\", label=\"Data\")\n",
    "ax.plot(x1, y_true, \"b-\", label=\"True\")\n",
    "ax.plot(np.hstack((x1, x1n)), np.hstack((ypred, ynewpred)), \"r\", label=\"OLS prediction\")\n",
    "ax.legend(loc=\"best\")"
   ]
  },
  {
   "cell_type": "markdown",
   "metadata": {},
   "source": [
    "## Predicting with Formulas"
   ]
  },
  {
   "cell_type": "markdown",
   "metadata": {},
   "source": [
    "Using formulas can make both estimation and prediction a lot easier"
   ]
  },
  {
   "cell_type": "code",
   "execution_count": 8,
   "metadata": {
    "execution": {
     "iopub.execute_input": "2025-04-28T11:47:09.482280Z",
     "iopub.status.busy": "2025-04-28T11:47:09.481965Z",
     "iopub.status.idle": "2025-04-28T11:47:09.497307Z",
     "shell.execute_reply": "2025-04-28T11:47:09.496560Z"
    }
   },
   "outputs": [],
   "source": [
    "from statsmodels.formula.api import ols\n",
    "\n",
    "data = {\"x1\": x1, \"y\": y}\n",
    "\n",
    "res = ols(\"y ~ x1 + np.sin(x1) + I((x1-5)**2)\", data=data).fit()"
   ]
  },
  {
   "cell_type": "markdown",
   "metadata": {},
   "source": [
    "We use the `I` to indicate use of the Identity transform. Ie., we do not want any expansion magic from using `**2`"
   ]
  },
  {
   "cell_type": "code",
   "execution_count": 9,
   "metadata": {
    "execution": {
     "iopub.execute_input": "2025-04-28T11:47:09.503098Z",
     "iopub.status.busy": "2025-04-28T11:47:09.502862Z",
     "iopub.status.idle": "2025-04-28T11:47:09.513139Z",
     "shell.execute_reply": "2025-04-28T11:47:09.512539Z"
    }
   },
   "outputs": [
    {
     "data": {
      "text/plain": [
       "Intercept           5.009831\n",
       "x1                  0.511140\n",
       "np.sin(x1)          0.528967\n",
       "I((x1 - 5) ** 2)   -0.021236\n",
       "dtype: float64"
      ]
     },
     "execution_count": 9,
     "metadata": {},
     "output_type": "execute_result"
    }
   ],
   "source": [
    "res.params"
   ]
  },
  {
   "cell_type": "markdown",
   "metadata": {},
   "source": [
    "Now we only have to pass the single variable and we get the transformed right-hand side variables automatically"
   ]
  },
  {
   "cell_type": "code",
   "execution_count": 10,
   "metadata": {
    "execution": {
     "iopub.execute_input": "2025-04-28T11:47:09.515774Z",
     "iopub.status.busy": "2025-04-28T11:47:09.515481Z",
     "iopub.status.idle": "2025-04-28T11:47:09.529995Z",
     "shell.execute_reply": "2025-04-28T11:47:09.528841Z"
    }
   },
   "outputs": [
    {
     "data": {
      "text/plain": [
       "0    10.913658\n",
       "1    10.750042\n",
       "2    10.467453\n",
       "3    10.113165\n",
       "4     9.749405\n",
       "5     9.438121\n",
       "6     9.225813\n",
       "7     9.132148\n",
       "8     9.145147\n",
       "9     9.224114\n",
       "dtype: float64"
      ]
     },
     "execution_count": 10,
     "metadata": {},
     "output_type": "execute_result"
    }
   ],
   "source": [
    "res.predict(exog=dict(x1=x1n))"
   ]
  }
 ],
 "metadata": {
  "kernelspec": {
   "display_name": "Python 3",
   "language": "python",
   "name": "python3"
  },
  "language_info": {
   "codemirror_mode": {
    "name": "ipython",
    "version": 3
   },
   "file_extension": ".py",
   "mimetype": "text/x-python",
   "name": "python",
   "nbconvert_exporter": "python",
   "pygments_lexer": "ipython3",
   "version": "3.10.17"
  }
 },
 "nbformat": 4,
 "nbformat_minor": 4
}
