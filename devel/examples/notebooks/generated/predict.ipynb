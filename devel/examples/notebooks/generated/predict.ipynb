{
 "cells": [
  {
   "cell_type": "markdown",
   "metadata": {},
   "source": [
    "# Prediction (out of sample)"
   ]
  },
  {
   "cell_type": "code",
   "execution_count": 1,
   "metadata": {
    "execution": {
     "iopub.execute_input": "2025-03-27T11:34:12.984639Z",
     "iopub.status.busy": "2025-03-27T11:34:12.984377Z",
     "iopub.status.idle": "2025-03-27T11:34:14.156313Z",
     "shell.execute_reply": "2025-03-27T11:34:14.155536Z"
    }
   },
   "outputs": [],
   "source": [
    "%matplotlib inline"
   ]
  },
  {
   "cell_type": "code",
   "execution_count": 2,
   "metadata": {
    "execution": {
     "iopub.execute_input": "2025-03-27T11:34:14.161919Z",
     "iopub.status.busy": "2025-03-27T11:34:14.161351Z",
     "iopub.status.idle": "2025-03-27T11:34:15.965447Z",
     "shell.execute_reply": "2025-03-27T11:34:15.964446Z"
    }
   },
   "outputs": [],
   "source": [
    "import numpy as np\n",
    "import matplotlib.pyplot as plt\n",
    "\n",
    "import statsmodels.api as sm\n",
    "\n",
    "plt.rc(\"figure\", figsize=(16, 8))\n",
    "plt.rc(\"font\", size=14)"
   ]
  },
  {
   "cell_type": "markdown",
   "metadata": {},
   "source": [
    "## Artificial data"
   ]
  },
  {
   "cell_type": "code",
   "execution_count": 3,
   "metadata": {
    "execution": {
     "iopub.execute_input": "2025-03-27T11:34:15.972071Z",
     "iopub.status.busy": "2025-03-27T11:34:15.971545Z",
     "iopub.status.idle": "2025-03-27T11:34:15.983743Z",
     "shell.execute_reply": "2025-03-27T11:34:15.980665Z"
    }
   },
   "outputs": [],
   "source": [
    "nsample = 50\n",
    "sig = 0.25\n",
    "x1 = np.linspace(0, 20, nsample)\n",
    "X = np.column_stack((x1, np.sin(x1), (x1 - 5) ** 2))\n",
    "X = sm.add_constant(X)\n",
    "beta = [5.0, 0.5, 0.5, -0.02]\n",
    "y_true = np.dot(X, beta)\n",
    "y = y_true + sig * np.random.normal(size=nsample)"
   ]
  },
  {
   "cell_type": "markdown",
   "metadata": {},
   "source": [
    "## Estimation "
   ]
  },
  {
   "cell_type": "code",
   "execution_count": 4,
   "metadata": {
    "execution": {
     "iopub.execute_input": "2025-03-27T11:34:15.994436Z",
     "iopub.status.busy": "2025-03-27T11:34:15.991875Z",
     "iopub.status.idle": "2025-03-27T11:34:16.028585Z",
     "shell.execute_reply": "2025-03-27T11:34:16.025546Z"
    }
   },
   "outputs": [
    {
     "name": "stdout",
     "output_type": "stream",
     "text": [
      "                            OLS Regression Results                            \n",
      "==============================================================================\n",
      "Dep. Variable:                      y   R-squared:                       0.981\n",
      "Model:                            OLS   Adj. R-squared:                  0.980\n",
      "Method:                 Least Squares   F-statistic:                     803.3\n",
      "Date:                Thu, 27 Mar 2025   Prob (F-statistic):           1.01e-39\n",
      "Time:                        11:34:16   Log-Likelihood:                -3.3959\n",
      "No. Observations:                  50   AIC:                             14.79\n",
      "Df Residuals:                      46   BIC:                             22.44\n",
      "Df Model:                           3                                         \n",
      "Covariance Type:            nonrobust                                         \n",
      "==============================================================================\n",
      "                 coef    std err          t      P>|t|      [0.025      0.975]\n",
      "------------------------------------------------------------------------------\n",
      "const          4.9548      0.092     53.840      0.000       4.770       5.140\n",
      "x1             0.5068      0.014     35.710      0.000       0.478       0.535\n",
      "x2             0.5255      0.056      9.419      0.000       0.413       0.638\n",
      "x3            -0.0202      0.001    -16.176      0.000      -0.023      -0.018\n",
      "==============================================================================\n",
      "Omnibus:                        3.756   Durbin-Watson:                   2.241\n",
      "Prob(Omnibus):                  0.153   Jarque-Bera (JB):                2.839\n",
      "Skew:                          -0.442   Prob(JB):                        0.242\n",
      "Kurtosis:                       2.236   Cond. No.                         221.\n",
      "==============================================================================\n",
      "\n",
      "Notes:\n",
      "[1] Standard Errors assume that the covariance matrix of the errors is correctly specified.\n"
     ]
    }
   ],
   "source": [
    "olsmod = sm.OLS(y, X)\n",
    "olsres = olsmod.fit()\n",
    "print(olsres.summary())"
   ]
  },
  {
   "cell_type": "markdown",
   "metadata": {},
   "source": [
    "## In-sample prediction"
   ]
  },
  {
   "cell_type": "code",
   "execution_count": 5,
   "metadata": {
    "execution": {
     "iopub.execute_input": "2025-03-27T11:34:16.032523Z",
     "iopub.status.busy": "2025-03-27T11:34:16.032153Z",
     "iopub.status.idle": "2025-03-27T11:34:16.041423Z",
     "shell.execute_reply": "2025-03-27T11:34:16.040561Z"
    }
   },
   "outputs": [
    {
     "name": "stdout",
     "output_type": "stream",
     "text": [
      "[ 4.45083753  4.94521547  5.39860622  5.78236972  6.07820196  6.28114227\n",
      "  6.40038836  6.45778514  6.48423566  6.51462385  6.58208319  6.71255293\n",
      "  6.92051641  7.20662141  7.55757382  7.94832171  8.34617139  8.71615885\n",
      "  9.02679422  9.25523553  9.39104152  9.43788716  9.41295982  9.34413546\n",
      "  9.26539868  9.21125916  9.21108177  9.28426208  9.43703967  9.66147299\n",
      "  9.93674414 10.2325792  10.51422215 10.74814516 10.90755716 10.97680549\n",
      " 10.95394763 10.85107031 10.69230375 10.50985706 10.33872644 10.21094536\n",
      " 10.1503216  10.16852562 10.26317322 10.41821721 10.60658394 10.79462138\n",
      " 10.94762813 11.03555469]\n"
     ]
    }
   ],
   "source": [
    "ypred = olsres.predict(X)\n",
    "print(ypred)"
   ]
  },
  {
   "cell_type": "markdown",
   "metadata": {},
   "source": [
    "## Create a new sample of explanatory variables Xnew, predict and plot"
   ]
  },
  {
   "cell_type": "code",
   "execution_count": 6,
   "metadata": {
    "execution": {
     "iopub.execute_input": "2025-03-27T11:34:16.054408Z",
     "iopub.status.busy": "2025-03-27T11:34:16.051368Z",
     "iopub.status.idle": "2025-03-27T11:34:16.062924Z",
     "shell.execute_reply": "2025-03-27T11:34:16.062220Z"
    }
   },
   "outputs": [
    {
     "name": "stdout",
     "output_type": "stream",
     "text": [
      "[11.02564016 10.87739028 10.61141374 10.27467508  9.92899621  9.63592018\n",
      "  9.44164333  9.36570481  9.39620272  9.49270809]\n"
     ]
    }
   ],
   "source": [
    "x1n = np.linspace(20.5, 25, 10)\n",
    "Xnew = np.column_stack((x1n, np.sin(x1n), (x1n - 5) ** 2))\n",
    "Xnew = sm.add_constant(Xnew)\n",
    "ynewpred = olsres.predict(Xnew)  # predict out of sample\n",
    "print(ynewpred)"
   ]
  },
  {
   "cell_type": "markdown",
   "metadata": {},
   "source": [
    "## Plot comparison"
   ]
  },
  {
   "cell_type": "code",
   "execution_count": 7,
   "metadata": {
    "execution": {
     "iopub.execute_input": "2025-03-27T11:34:16.066808Z",
     "iopub.status.busy": "2025-03-27T11:34:16.066487Z",
     "iopub.status.idle": "2025-03-27T11:34:16.461610Z",
     "shell.execute_reply": "2025-03-27T11:34:16.460697Z"
    }
   },
   "outputs": [
    {
     "data": {
      "text/plain": [
       "<matplotlib.legend.Legend at 0x7f75ee648c10>"
      ]
     },
     "execution_count": 7,
     "metadata": {},
     "output_type": "execute_result"
    },
    {
     "data": {
      "image/png": "[encoded data removed]",
      "text/plain": [
       "<Figure size 1600x800 with 1 Axes>"
      ]
     },
     "metadata": {},
     "output_type": "display_data"
    }
   ],
   "source": [
    "import matplotlib.pyplot as plt\n",
    "\n",
    "fig, ax = plt.subplots()\n",
    "ax.plot(x1, y, \"o\", label=\"Data\")\n",
    "ax.plot(x1, y_true, \"b-\", label=\"True\")\n",
    "ax.plot(np.hstack((x1, x1n)), np.hstack((ypred, ynewpred)), \"r\", label=\"OLS prediction\")\n",
    "ax.legend(loc=\"best\")"
   ]
  },
  {
   "cell_type": "markdown",
   "metadata": {},
   "source": [
    "## Predicting with Formulas"
   ]
  },
  {
   "cell_type": "markdown",
   "metadata": {},
   "source": [
    "Using formulas can make both estimation and prediction a lot easier"
   ]
  },
  {
   "cell_type": "code",
   "execution_count": 8,
   "metadata": {
    "execution": {
     "iopub.execute_input": "2025-03-27T11:34:16.472277Z",
     "iopub.status.busy": "2025-03-27T11:34:16.470728Z",
     "iopub.status.idle": "2025-03-27T11:34:16.490127Z",
     "shell.execute_reply": "2025-03-27T11:34:16.489093Z"
    }
   },
   "outputs": [],
   "source": [
    "from statsmodels.formula.api import ols\n",
    "\n",
    "data = {\"x1\": x1, \"y\": y}\n",
    "\n",
    "res = ols(\"y ~ x1 + np.sin(x1) + I((x1-5)**2)\", data=data).fit()"
   ]
  },
  {
   "cell_type": "markdown",
   "metadata": {},
   "source": [
    "We use the `I` to indicate use of the Identity transform. Ie., we do not want any expansion magic from using `**2`"
   ]
  },
  {
   "cell_type": "code",
   "execution_count": 9,
   "metadata": {
    "execution": {
     "iopub.execute_input": "2025-03-27T11:34:16.496385Z",
     "iopub.status.busy": "2025-03-27T11:34:16.494613Z",
     "iopub.status.idle": "2025-03-27T11:34:16.514227Z",
     "shell.execute_reply": "2025-03-27T11:34:16.509546Z"
    }
   },
   "outputs": [
    {
     "data": {
      "text/plain": [
       "Intercept           4.954791\n",
       "x1                  0.506829\n",
       "np.sin(x1)          0.525514\n",
       "I((x1 - 5) ** 2)   -0.020158\n",
       "dtype: float64"
      ]
     },
     "execution_count": 9,
     "metadata": {},
     "output_type": "execute_result"
    }
   ],
   "source": [
    "res.params"
   ]
  },
  {
   "cell_type": "markdown",
   "metadata": {},
   "source": [
    "Now we only have to pass the single variable and we get the transformed right-hand side variables automatically"
   ]
  },
  {
   "cell_type": "code",
   "execution_count": 10,
   "metadata": {
    "execution": {
     "iopub.execute_input": "2025-03-27T11:34:16.518381Z",
     "iopub.status.busy": "2025-03-27T11:34:16.516989Z",
     "iopub.status.idle": "2025-03-27T11:34:16.531332Z",
     "shell.execute_reply": "2025-03-27T11:34:16.530670Z"
    }
   },
   "outputs": [
    {
     "data": {
      "text/plain": [
       "0    11.025640\n",
       "1    10.877390\n",
       "2    10.611414\n",
       "3    10.274675\n",
       "4     9.928996\n",
       "5     9.635920\n",
       "6     9.441643\n",
       "7     9.365705\n",
       "8     9.396203\n",
       "9     9.492708\n",
       "dtype: float64"
      ]
     },
     "execution_count": 10,
     "metadata": {},
     "output_type": "execute_result"
    }
   ],
   "source": [
    "res.predict(exog=dict(x1=x1n))"
   ]
  }
 ],
 "metadata": {
  "kernelspec": {
   "display_name": "Python 3",
   "language": "python",
   "name": "python3"
  },
  "language_info": {
   "codemirror_mode": {
    "name": "ipython",
    "version": 3
   },
   "file_extension": ".py",
   "mimetype": "text/x-python",
   "name": "python",
   "nbconvert_exporter": "python",
   "pygments_lexer": "ipython3",
   "version": "3.10.16"
  }
 },
 "nbformat": 4,
 "nbformat_minor": 4
}
