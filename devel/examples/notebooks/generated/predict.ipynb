{
 "cells": [
  {
   "cell_type": "markdown",
   "metadata": {},
   "source": [
    "# Prediction (out of sample)"
   ]
  },
  {
   "cell_type": "code",
   "execution_count": 1,
   "metadata": {
    "execution": {
     "iopub.execute_input": "2025-09-30T23:15:04.615809Z",
     "iopub.status.busy": "2025-09-30T23:15:04.615481Z",
     "iopub.status.idle": "2025-09-30T23:15:06.679643Z",
     "shell.execute_reply": "2025-09-30T23:15:06.678894Z"
    }
   },
   "outputs": [],
   "source": [
    "%matplotlib inline"
   ]
  },
  {
   "cell_type": "code",
   "execution_count": 2,
   "metadata": {
    "execution": {
     "iopub.execute_input": "2025-09-30T23:15:06.682793Z",
     "iopub.status.busy": "2025-09-30T23:15:06.682389Z",
     "iopub.status.idle": "2025-09-30T23:15:08.003470Z",
     "shell.execute_reply": "2025-09-30T23:15:08.002478Z"
    }
   },
   "outputs": [],
   "source": [
    "import numpy as np\n",
    "import matplotlib.pyplot as plt\n",
    "\n",
    "import statsmodels.api as sm\n",
    "\n",
    "plt.rc(\"figure\", figsize=(16, 8))\n",
    "plt.rc(\"font\", size=14)"
   ]
  },
  {
   "cell_type": "markdown",
   "metadata": {},
   "source": [
    "## Artificial data"
   ]
  },
  {
   "cell_type": "code",
   "execution_count": 3,
   "metadata": {
    "execution": {
     "iopub.execute_input": "2025-09-30T23:15:08.007823Z",
     "iopub.status.busy": "2025-09-30T23:15:08.007304Z",
     "iopub.status.idle": "2025-09-30T23:15:08.015736Z",
     "shell.execute_reply": "2025-09-30T23:15:08.014802Z"
    }
   },
   "outputs": [],
   "source": [
    "nsample = 50\n",
    "sig = 0.25\n",
    "x1 = np.linspace(0, 20, nsample)\n",
    "X = np.column_stack((x1, np.sin(x1), (x1 - 5) ** 2))\n",
    "X = sm.add_constant(X)\n",
    "beta = [5.0, 0.5, 0.5, -0.02]\n",
    "y_true = np.dot(X, beta)\n",
    "y = y_true + sig * np.random.normal(size=nsample)"
   ]
  },
  {
   "cell_type": "markdown",
   "metadata": {},
   "source": [
    "## Estimation "
   ]
  },
  {
   "cell_type": "code",
   "execution_count": 4,
   "metadata": {
    "execution": {
     "iopub.execute_input": "2025-09-30T23:15:08.019186Z",
     "iopub.status.busy": "2025-09-30T23:15:08.018788Z",
     "iopub.status.idle": "2025-09-30T23:15:08.039944Z",
     "shell.execute_reply": "2025-09-30T23:15:08.038973Z"
    }
   },
   "outputs": [
    {
     "name": "stdout",
     "output_type": "stream",
     "text": [
      "                            OLS Regression Results                            \n",
      "==============================================================================\n",
      "Dep. Variable:                      y   R-squared:                       0.975\n",
      "Model:                            OLS   Adj. R-squared:                  0.973\n",
      "Method:                 Least Squares   F-statistic:                     589.4\n",
      "Date:                Tue, 30 Sep 2025   Prob (F-statistic):           1.07e-36\n",
      "Time:                        23:15:08   Log-Likelihood:                -10.684\n",
      "No. Observations:                  50   AIC:                             29.37\n",
      "Df Residuals:                      46   BIC:                             37.02\n",
      "Df Model:                           3                                         \n",
      "Covariance Type:            nonrobust                                         \n",
      "==============================================================================\n",
      "                 coef    std err          t      P>|t|      [0.025      0.975]\n",
      "------------------------------------------------------------------------------\n",
      "const          5.0185      0.106     47.136      0.000       4.804       5.233\n",
      "x1             0.5031      0.016     30.641      0.000       0.470       0.536\n",
      "x2             0.4914      0.065      7.613      0.000       0.361       0.621\n",
      "x3            -0.0201      0.001    -13.925      0.000      -0.023      -0.017\n",
      "==============================================================================\n",
      "Omnibus:                        1.203   Durbin-Watson:                   1.814\n",
      "Prob(Omnibus):                  0.548   Jarque-Bera (JB):                1.129\n",
      "Skew:                           0.213   Prob(JB):                        0.569\n",
      "Kurtosis:                       2.400   Cond. No.                         221.\n",
      "==============================================================================\n",
      "\n",
      "Notes:\n",
      "[1] Standard Errors assume that the covariance matrix of the errors is correctly specified.\n"
     ]
    }
   ],
   "source": [
    "olsmod = sm.OLS(y, X)\n",
    "olsres = olsmod.fit()\n",
    "print(olsres.summary())"
   ]
  },
  {
   "cell_type": "markdown",
   "metadata": {},
   "source": [
    "## In-sample prediction"
   ]
  },
  {
   "cell_type": "code",
   "execution_count": 5,
   "metadata": {
    "execution": {
     "iopub.execute_input": "2025-09-30T23:15:08.104809Z",
     "iopub.status.busy": "2025-09-30T23:15:08.103162Z",
     "iopub.status.idle": "2025-09-30T23:15:08.111737Z",
     "shell.execute_reply": "2025-09-30T23:15:08.111019Z"
    }
   },
   "outputs": [
    {
     "name": "stdout",
     "output_type": "stream",
     "text": [
      "[ 4.51662894  4.9956418   5.43591859  5.81067762  6.10280258  6.30765467\n",
      "  6.4338348   6.50177041  6.54035938  6.58222214  6.65834222  6.79297579\n",
      "  6.99966638  7.27901977  7.61860443  7.99499399  8.37761614  8.73377556\n",
      "  9.03402567  9.25700664  9.39295469  9.44530635  9.43013375  9.37350408\n",
      "  9.30719678  9.26348231  9.26982016  9.34434739  9.49289869  9.70804783\n",
      "  9.97032771 10.2514288  10.51885026 10.74123978 10.89354467 10.96112793\n",
      " 10.94217308 10.84798258 10.70112091 10.53170726 10.37246702 10.25335513\n",
      " 10.19663454 10.21321847 10.30087742 10.44460545 10.61908562 10.79284949\n",
      " 10.9334473  11.01277937]\n"
     ]
    }
   ],
   "source": [
    "ypred = olsres.predict(X)\n",
    "print(ypred)"
   ]
  },
  {
   "cell_type": "markdown",
   "metadata": {},
   "source": [
    "## Create a new sample of explanatory variables Xnew, predict and plot"
   ]
  },
  {
   "cell_type": "code",
   "execution_count": 6,
   "metadata": {
    "execution": {
     "iopub.execute_input": "2025-09-30T23:15:08.115069Z",
     "iopub.status.busy": "2025-09-30T23:15:08.114710Z",
     "iopub.status.idle": "2025-09-30T23:15:08.124001Z",
     "shell.execute_reply": "2025-09-30T23:15:08.123188Z"
    }
   },
   "outputs": [
    {
     "name": "stdout",
     "output_type": "stream",
     "text": [
      "[10.99941229 10.85607316 10.60203342 10.28121025  9.95141413  9.67019478\n",
      "  9.48075102  9.40135416  9.42087459  9.50150663]\n"
     ]
    }
   ],
   "source": [
    "x1n = np.linspace(20.5, 25, 10)\n",
    "Xnew = np.column_stack((x1n, np.sin(x1n), (x1n - 5) ** 2))\n",
    "Xnew = sm.add_constant(Xnew)\n",
    "ynewpred = olsres.predict(Xnew)  # predict out of sample\n",
    "print(ynewpred)"
   ]
  },
  {
   "cell_type": "markdown",
   "metadata": {},
   "source": [
    "## Plot comparison"
   ]
  },
  {
   "cell_type": "code",
   "execution_count": 7,
   "metadata": {
    "execution": {
     "iopub.execute_input": "2025-09-30T23:15:08.127798Z",
     "iopub.status.busy": "2025-09-30T23:15:08.127445Z",
     "iopub.status.idle": "2025-09-30T23:15:08.347667Z",
     "shell.execute_reply": "2025-09-30T23:15:08.346926Z"
    }
   },
   "outputs": [
    {
     "data": {
      "text/plain": [
       "<matplotlib.legend.Legend at 0x7f08f9488130>"
      ]
     },
     "execution_count": 7,
     "metadata": {},
     "output_type": "execute_result"
    },
    {
     "data": {
      "image/png": "[encoded data removed]",
      "text/plain": [
       "<Figure size 1600x800 with 1 Axes>"
      ]
     },
     "metadata": {},
     "output_type": "display_data"
    }
   ],
   "source": [
    "import matplotlib.pyplot as plt\n",
    "\n",
    "fig, ax = plt.subplots()\n",
    "ax.plot(x1, y, \"o\", label=\"Data\")\n",
    "ax.plot(x1, y_true, \"b-\", label=\"True\")\n",
    "ax.plot(np.hstack((x1, x1n)), np.hstack((ypred, ynewpred)), \"r\", label=\"OLS prediction\")\n",
    "ax.legend(loc=\"best\")"
   ]
  },
  {
   "cell_type": "markdown",
   "metadata": {},
   "source": [
    "## Predicting with Formulas"
   ]
  },
  {
   "cell_type": "markdown",
   "metadata": {},
   "source": [
    "Using formulas can make both estimation and prediction a lot easier"
   ]
  },
  {
   "cell_type": "code",
   "execution_count": 8,
   "metadata": {
    "execution": {
     "iopub.execute_input": "2025-09-30T23:15:08.350214Z",
     "iopub.status.busy": "2025-09-30T23:15:08.349941Z",
     "iopub.status.idle": "2025-09-30T23:15:08.357670Z",
     "shell.execute_reply": "2025-09-30T23:15:08.357078Z"
    }
   },
   "outputs": [],
   "source": [
    "from statsmodels.formula.api import ols\n",
    "\n",
    "data = {\"x1\": x1, \"y\": y}\n",
    "\n",
    "res = ols(\"y ~ x1 + np.sin(x1) + I((x1-5)**2)\", data=data).fit()"
   ]
  },
  {
   "cell_type": "markdown",
   "metadata": {},
   "source": [
    "We use the `I` to indicate use of the Identity transform. Ie., we do not want any expansion magic from using `**2`"
   ]
  },
  {
   "cell_type": "code",
   "execution_count": 9,
   "metadata": {
    "execution": {
     "iopub.execute_input": "2025-09-30T23:15:08.359921Z",
     "iopub.status.busy": "2025-09-30T23:15:08.359679Z",
     "iopub.status.idle": "2025-09-30T23:15:08.365636Z",
     "shell.execute_reply": "2025-09-30T23:15:08.365075Z"
    }
   },
   "outputs": [
    {
     "data": {
      "text/plain": [
       "Intercept           5.018524\n",
       "x1                  0.503134\n",
       "np.sin(x1)          0.491415\n",
       "I((x1 - 5) ** 2)   -0.020076\n",
       "dtype: float64"
      ]
     },
     "execution_count": 9,
     "metadata": {},
     "output_type": "execute_result"
    }
   ],
   "source": [
    "res.params"
   ]
  },
  {
   "cell_type": "markdown",
   "metadata": {},
   "source": [
    "Now we only have to pass the single variable and we get the transformed right-hand side variables automatically"
   ]
  },
  {
   "cell_type": "code",
   "execution_count": 10,
   "metadata": {
    "execution": {
     "iopub.execute_input": "2025-09-30T23:15:08.367744Z",
     "iopub.status.busy": "2025-09-30T23:15:08.367529Z",
     "iopub.status.idle": "2025-09-30T23:15:08.373928Z",
     "shell.execute_reply": "2025-09-30T23:15:08.373337Z"
    }
   },
   "outputs": [
    {
     "data": {
      "text/plain": [
       "0    10.999412\n",
       "1    10.856073\n",
       "2    10.602033\n",
       "3    10.281210\n",
       "4     9.951414\n",
       "5     9.670195\n",
       "6     9.480751\n",
       "7     9.401354\n",
       "8     9.420875\n",
       "9     9.501507\n",
       "dtype: float64"
      ]
     },
     "execution_count": 10,
     "metadata": {},
     "output_type": "execute_result"
    }
   ],
   "source": [
    "res.predict(exog=dict(x1=x1n))"
   ]
  }
 ],
 "metadata": {
  "kernelspec": {
   "display_name": "Python 3",
   "language": "python",
   "name": "python3"
  },
  "language_info": {
   "codemirror_mode": {
    "name": "ipython",
    "version": 3
   },
   "file_extension": ".py",
   "mimetype": "text/x-python",
   "name": "python",
   "nbconvert_exporter": "python",
   "pygments_lexer": "ipython3",
   "version": "3.10.18"
  }
 },
 "nbformat": 4,
 "nbformat_minor": 4
}
