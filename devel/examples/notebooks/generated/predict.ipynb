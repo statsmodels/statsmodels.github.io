{
 "cells": [
  {
   "cell_type": "markdown",
   "metadata": {},
   "source": [
    "# Prediction (out of sample)"
   ]
  },
  {
   "cell_type": "code",
   "execution_count": 1,
   "metadata": {
    "execution": {
     "iopub.execute_input": "2024-09-03T16:56:09.015346Z",
     "iopub.status.busy": "2024-09-03T16:56:09.015074Z",
     "iopub.status.idle": "2024-09-03T16:56:10.659266Z",
     "shell.execute_reply": "2024-09-03T16:56:10.658569Z"
    }
   },
   "outputs": [],
   "source": [
    "%matplotlib inline"
   ]
  },
  {
   "cell_type": "code",
   "execution_count": 2,
   "metadata": {
    "execution": {
     "iopub.execute_input": "2024-09-03T16:56:10.663007Z",
     "iopub.status.busy": "2024-09-03T16:56:10.662494Z",
     "iopub.status.idle": "2024-09-03T16:56:13.535930Z",
     "shell.execute_reply": "2024-09-03T16:56:13.535186Z"
    }
   },
   "outputs": [],
   "source": [
    "import numpy as np\n",
    "import matplotlib.pyplot as plt\n",
    "\n",
    "import statsmodels.api as sm\n",
    "\n",
    "plt.rc(\"figure\", figsize=(16, 8))\n",
    "plt.rc(\"font\", size=14)"
   ]
  },
  {
   "cell_type": "markdown",
   "metadata": {},
   "source": [
    "## Artificial data"
   ]
  },
  {
   "cell_type": "code",
   "execution_count": 3,
   "metadata": {
    "execution": {
     "iopub.execute_input": "2024-09-03T16:56:13.539742Z",
     "iopub.status.busy": "2024-09-03T16:56:13.539087Z",
     "iopub.status.idle": "2024-09-03T16:56:13.545044Z",
     "shell.execute_reply": "2024-09-03T16:56:13.544462Z"
    }
   },
   "outputs": [],
   "source": [
    "nsample = 50\n",
    "sig = 0.25\n",
    "x1 = np.linspace(0, 20, nsample)\n",
    "X = np.column_stack((x1, np.sin(x1), (x1 - 5) ** 2))\n",
    "X = sm.add_constant(X)\n",
    "beta = [5.0, 0.5, 0.5, -0.02]\n",
    "y_true = np.dot(X, beta)\n",
    "y = y_true + sig * np.random.normal(size=nsample)"
   ]
  },
  {
   "cell_type": "markdown",
   "metadata": {},
   "source": [
    "## Estimation "
   ]
  },
  {
   "cell_type": "code",
   "execution_count": 4,
   "metadata": {
    "execution": {
     "iopub.execute_input": "2024-09-03T16:56:13.547805Z",
     "iopub.status.busy": "2024-09-03T16:56:13.547399Z",
     "iopub.status.idle": "2024-09-03T16:56:13.590602Z",
     "shell.execute_reply": "2024-09-03T16:56:13.590025Z"
    }
   },
   "outputs": [
    {
     "name": "stdout",
     "output_type": "stream",
     "text": [
      "                            OLS Regression Results                            \n",
      "==============================================================================\n",
      "Dep. Variable:                      y   R-squared:                       0.981\n",
      "Model:                            OLS   Adj. R-squared:                  0.979\n",
      "Method:                 Least Squares   F-statistic:                     774.9\n",
      "Date:                Tue, 03 Sep 2024   Prob (F-statistic):           2.28e-39\n",
      "Time:                        16:56:13   Log-Likelihood:                -3.3318\n",
      "No. Observations:                  50   AIC:                             14.66\n",
      "Df Residuals:                      46   BIC:                             22.31\n",
      "Df Model:                           3                                         \n",
      "Covariance Type:            nonrobust                                         \n",
      "==============================================================================\n",
      "                 coef    std err          t      P>|t|      [0.025      0.975]\n",
      "------------------------------------------------------------------------------\n",
      "const          5.0280      0.092     54.706      0.000       4.843       5.213\n",
      "x1             0.5019      0.014     35.405      0.000       0.473       0.530\n",
      "x2             0.5573      0.056     10.001      0.000       0.445       0.669\n",
      "x3            -0.0204      0.001    -16.358      0.000      -0.023      -0.018\n",
      "==============================================================================\n",
      "Omnibus:                        0.038   Durbin-Watson:                   2.846\n",
      "Prob(Omnibus):                  0.981   Jarque-Bera (JB):                0.195\n",
      "Skew:                          -0.049   Prob(JB):                        0.907\n",
      "Kurtosis:                       2.710   Cond. No.                         221.\n",
      "==============================================================================\n",
      "\n",
      "Notes:\n",
      "[1] Standard Errors assume that the covariance matrix of the errors is correctly specified.\n"
     ]
    }
   ],
   "source": [
    "olsmod = sm.OLS(y, X)\n",
    "olsres = olsmod.fit()\n",
    "print(olsres.summary())"
   ]
  },
  {
   "cell_type": "markdown",
   "metadata": {},
   "source": [
    "## In-sample prediction"
   ]
  },
  {
   "cell_type": "code",
   "execution_count": 5,
   "metadata": {
    "execution": {
     "iopub.execute_input": "2024-09-03T16:56:13.593810Z",
     "iopub.status.busy": "2024-09-03T16:56:13.593405Z",
     "iopub.status.idle": "2024-09-03T16:56:13.603777Z",
     "shell.execute_reply": "2024-09-03T16:56:13.603201Z"
    }
   },
   "outputs": [
    {
     "name": "stdout",
     "output_type": "stream",
     "text": [
      "[ 4.5190783   5.0248151   5.48742674  5.87654209  6.17275084  6.37079247\n",
      "  6.48042062  6.52480053  6.53670312  6.55312075  6.60918953  6.73241655\n",
      "  6.93816052  7.22710841  7.58516256  7.98575687  8.39422159  8.7734794\n",
      "  9.09013715  9.31997225  9.45191237  9.48985457  9.45202507  9.36798471\n",
      "  9.27377217  9.20598295  9.19575681  9.2636616   9.41631404  9.64529258\n",
      "  9.92852104 10.23389571 10.52455983 10.76495911 10.92668316 10.99313326\n",
      " 10.96224947 10.84684908 10.67252076 10.47342041 10.28665947 10.14620756\n",
      " 10.07731143 10.09234696 10.18878581 10.3496109  10.54611216 10.74260361\n",
      " 10.90228642 10.99329484]\n"
     ]
    }
   ],
   "source": [
    "ypred = olsres.predict(X)\n",
    "print(ypred)"
   ]
  },
  {
   "cell_type": "markdown",
   "metadata": {},
   "source": [
    "## Create a new sample of explanatory variables Xnew, predict and plot"
   ]
  },
  {
   "cell_type": "code",
   "execution_count": 6,
   "metadata": {
    "execution": {
     "iopub.execute_input": "2024-09-03T16:56:13.612106Z",
     "iopub.status.busy": "2024-09-03T16:56:13.611750Z",
     "iopub.status.idle": "2024-09-03T16:56:13.616152Z",
     "shell.execute_reply": "2024-09-03T16:56:13.615582Z"
    }
   },
   "outputs": [
    {
     "name": "stdout",
     "output_type": "stream",
     "text": [
      "[10.98050864 10.82153513 10.5382286  10.18039225  9.81358457  9.50306841\n",
      "  9.29783229  9.21859635  9.2527393   9.35738859]\n"
     ]
    }
   ],
   "source": [
    "x1n = np.linspace(20.5, 25, 10)\n",
    "Xnew = np.column_stack((x1n, np.sin(x1n), (x1n - 5) ** 2))\n",
    "Xnew = sm.add_constant(Xnew)\n",
    "ynewpred = olsres.predict(Xnew)  # predict out of sample\n",
    "print(ynewpred)"
   ]
  },
  {
   "cell_type": "markdown",
   "metadata": {},
   "source": [
    "## Plot comparison"
   ]
  },
  {
   "cell_type": "code",
   "execution_count": 7,
   "metadata": {
    "execution": {
     "iopub.execute_input": "2024-09-03T16:56:13.619415Z",
     "iopub.status.busy": "2024-09-03T16:56:13.619031Z",
     "iopub.status.idle": "2024-09-03T16:56:14.298814Z",
     "shell.execute_reply": "2024-09-03T16:56:14.298179Z"
    }
   },
   "outputs": [
    {
     "data": {
      "text/plain": [
       "<matplotlib.legend.Legend at 0x7f02ca675330>"
      ]
     },
     "execution_count": 7,
     "metadata": {},
     "output_type": "execute_result"
    },
    {
     "data": {
      "image/png": "[encoded data removed]",
      "text/plain": [
       "<Figure size 1600x800 with 1 Axes>"
      ]
     },
     "metadata": {},
     "output_type": "display_data"
    }
   ],
   "source": [
    "import matplotlib.pyplot as plt\n",
    "\n",
    "fig, ax = plt.subplots()\n",
    "ax.plot(x1, y, \"o\", label=\"Data\")\n",
    "ax.plot(x1, y_true, \"b-\", label=\"True\")\n",
    "ax.plot(np.hstack((x1, x1n)), np.hstack((ypred, ynewpred)), \"r\", label=\"OLS prediction\")\n",
    "ax.legend(loc=\"best\")"
   ]
  },
  {
   "cell_type": "markdown",
   "metadata": {},
   "source": [
    "## Predicting with Formulas"
   ]
  },
  {
   "cell_type": "markdown",
   "metadata": {},
   "source": [
    "Using formulas can make both estimation and prediction a lot easier"
   ]
  },
  {
   "cell_type": "code",
   "execution_count": 8,
   "metadata": {
    "execution": {
     "iopub.execute_input": "2024-09-03T16:56:14.304439Z",
     "iopub.status.busy": "2024-09-03T16:56:14.301459Z",
     "iopub.status.idle": "2024-09-03T16:56:14.317940Z",
     "shell.execute_reply": "2024-09-03T16:56:14.317246Z"
    }
   },
   "outputs": [],
   "source": [
    "from statsmodels.formula.api import ols\n",
    "\n",
    "data = {\"x1\": x1, \"y\": y}\n",
    "\n",
    "res = ols(\"y ~ x1 + np.sin(x1) + I((x1-5)**2)\", data=data).fit()"
   ]
  },
  {
   "cell_type": "markdown",
   "metadata": {},
   "source": [
    "We use the `I` to indicate use of the Identity transform. Ie., we do not want any expansion magic from using `**2`"
   ]
  },
  {
   "cell_type": "code",
   "execution_count": 9,
   "metadata": {
    "execution": {
     "iopub.execute_input": "2024-09-03T16:56:14.320936Z",
     "iopub.status.busy": "2024-09-03T16:56:14.320655Z",
     "iopub.status.idle": "2024-09-03T16:56:14.331790Z",
     "shell.execute_reply": "2024-09-03T16:56:14.331204Z"
    }
   },
   "outputs": [
    {
     "data": {
      "text/plain": [
       "Intercept           5.028028\n",
       "x1                  0.501853\n",
       "np.sin(x1)          0.557277\n",
       "I((x1 - 5) ** 2)   -0.020358\n",
       "dtype: float64"
      ]
     },
     "execution_count": 9,
     "metadata": {},
     "output_type": "execute_result"
    }
   ],
   "source": [
    "res.params"
   ]
  },
  {
   "cell_type": "markdown",
   "metadata": {},
   "source": [
    "Now we only have to pass the single variable and we get the transformed right-hand side variables automatically"
   ]
  },
  {
   "cell_type": "code",
   "execution_count": 10,
   "metadata": {
    "execution": {
     "iopub.execute_input": "2024-09-03T16:56:14.335772Z",
     "iopub.status.busy": "2024-09-03T16:56:14.334706Z",
     "iopub.status.idle": "2024-09-03T16:56:14.355790Z",
     "shell.execute_reply": "2024-09-03T16:56:14.355202Z"
    }
   },
   "outputs": [
    {
     "data": {
      "text/plain": [
       "0    10.980509\n",
       "1    10.821535\n",
       "2    10.538229\n",
       "3    10.180392\n",
       "4     9.813585\n",
       "5     9.503068\n",
       "6     9.297832\n",
       "7     9.218596\n",
       "8     9.252739\n",
       "9     9.357389\n",
       "dtype: float64"
      ]
     },
     "execution_count": 10,
     "metadata": {},
     "output_type": "execute_result"
    }
   ],
   "source": [
    "res.predict(exog=dict(x1=x1n))"
   ]
  }
 ],
 "metadata": {
  "kernelspec": {
   "display_name": "Python 3",
   "language": "python",
   "name": "python3"
  },
  "language_info": {
   "codemirror_mode": {
    "name": "ipython",
    "version": 3
   },
   "file_extension": ".py",
   "mimetype": "text/x-python",
   "name": "python",
   "nbconvert_exporter": "python",
   "pygments_lexer": "ipython3",
   "version": "3.10.14"
  }
 },
 "nbformat": 4,
 "nbformat_minor": 4
}
