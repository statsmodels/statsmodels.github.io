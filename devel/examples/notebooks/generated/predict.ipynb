{
 "cells": [
  {
   "cell_type": "markdown",
   "metadata": {},
   "source": [
    "# Prediction (out of sample)"
   ]
  },
  {
   "cell_type": "code",
   "execution_count": 1,
   "metadata": {
    "execution": {
     "iopub.execute_input": "2023-12-13T18:53:32.384008Z",
     "iopub.status.busy": "2023-12-13T18:53:32.383780Z",
     "iopub.status.idle": "2023-12-13T18:53:33.528413Z",
     "shell.execute_reply": "2023-12-13T18:53:33.527670Z"
    }
   },
   "outputs": [],
   "source": [
    "%matplotlib inline"
   ]
  },
  {
   "cell_type": "code",
   "execution_count": 2,
   "metadata": {
    "execution": {
     "iopub.execute_input": "2023-12-13T18:53:33.532178Z",
     "iopub.status.busy": "2023-12-13T18:53:33.531822Z",
     "iopub.status.idle": "2023-12-13T18:53:35.134723Z",
     "shell.execute_reply": "2023-12-13T18:53:35.133997Z"
    }
   },
   "outputs": [],
   "source": [
    "import numpy as np\n",
    "import matplotlib.pyplot as plt\n",
    "\n",
    "import statsmodels.api as sm\n",
    "\n",
    "plt.rc(\"figure\", figsize=(16, 8))\n",
    "plt.rc(\"font\", size=14)"
   ]
  },
  {
   "cell_type": "markdown",
   "metadata": {},
   "source": [
    "## Artificial data"
   ]
  },
  {
   "cell_type": "code",
   "execution_count": 3,
   "metadata": {
    "execution": {
     "iopub.execute_input": "2023-12-13T18:53:35.139254Z",
     "iopub.status.busy": "2023-12-13T18:53:35.138728Z",
     "iopub.status.idle": "2023-12-13T18:53:35.151762Z",
     "shell.execute_reply": "2023-12-13T18:53:35.151096Z"
    }
   },
   "outputs": [],
   "source": [
    "nsample = 50\n",
    "sig = 0.25\n",
    "x1 = np.linspace(0, 20, nsample)\n",
    "X = np.column_stack((x1, np.sin(x1), (x1 - 5) ** 2))\n",
    "X = sm.add_constant(X)\n",
    "beta = [5.0, 0.5, 0.5, -0.02]\n",
    "y_true = np.dot(X, beta)\n",
    "y = y_true + sig * np.random.normal(size=nsample)"
   ]
  },
  {
   "cell_type": "markdown",
   "metadata": {},
   "source": [
    "## Estimation "
   ]
  },
  {
   "cell_type": "code",
   "execution_count": 4,
   "metadata": {
    "execution": {
     "iopub.execute_input": "2023-12-13T18:53:35.155400Z",
     "iopub.status.busy": "2023-12-13T18:53:35.155162Z",
     "iopub.status.idle": "2023-12-13T18:53:35.181310Z",
     "shell.execute_reply": "2023-12-13T18:53:35.180695Z"
    }
   },
   "outputs": [
    {
     "name": "stdout",
     "output_type": "stream",
     "text": [
      "                            OLS Regression Results                            \n",
      "==============================================================================\n",
      "Dep. Variable:                      y   R-squared:                       0.987\n",
      "Model:                            OLS   Adj. R-squared:                  0.986\n",
      "Method:                 Least Squares   F-statistic:                     1135.\n",
      "Date:                Wed, 13 Dec 2023   Prob (F-statistic):           4.09e-43\n",
      "Time:                        18:53:35   Log-Likelihood:                 6.8074\n",
      "No. Observations:                  50   AIC:                            -5.615\n",
      "Df Residuals:                      46   BIC:                             2.033\n",
      "Df Model:                           3                                         \n",
      "Covariance Type:            nonrobust                                         \n",
      "==============================================================================\n",
      "                 coef    std err          t      P>|t|      [0.025      0.975]\n",
      "------------------------------------------------------------------------------\n",
      "const          5.1024      0.075     67.995      0.000       4.951       5.253\n",
      "x1             0.4859      0.012     41.983      0.000       0.463       0.509\n",
      "x2             0.4526      0.045      9.949      0.000       0.361       0.544\n",
      "x3            -0.0189      0.001    -18.593      0.000      -0.021      -0.017\n",
      "==============================================================================\n",
      "Omnibus:                        2.058   Durbin-Watson:                   2.074\n",
      "Prob(Omnibus):                  0.357   Jarque-Bera (JB):                1.754\n",
      "Skew:                          -0.324   Prob(JB):                        0.416\n",
      "Kurtosis:                       2.350   Cond. No.                         221.\n",
      "==============================================================================\n",
      "\n",
      "Notes:\n",
      "[1] Standard Errors assume that the covariance matrix of the errors is correctly specified.\n"
     ]
    }
   ],
   "source": [
    "olsmod = sm.OLS(y, X)\n",
    "olsres = olsmod.fit()\n",
    "print(olsres.summary())"
   ]
  },
  {
   "cell_type": "markdown",
   "metadata": {},
   "source": [
    "## In-sample prediction"
   ]
  },
  {
   "cell_type": "code",
   "execution_count": 5,
   "metadata": {
    "execution": {
     "iopub.execute_input": "2023-12-13T18:53:35.184431Z",
     "iopub.status.busy": "2023-12-13T18:53:35.184192Z",
     "iopub.status.idle": "2023-12-13T18:53:35.188359Z",
     "shell.execute_reply": "2023-12-13T18:53:35.187755Z"
    }
   },
   "outputs": [
    {
     "name": "stdout",
     "output_type": "stream",
     "text": [
      "[ 4.63005539  5.0820064   5.4981435   5.85379773  6.13320301  6.33208651\n",
      "  6.45837062  6.53087133  6.57620685  6.62442427  6.70406292  6.83746548\n",
      "  7.03710706  7.30354565  7.62533042  7.98088303  8.34204294  8.67869405\n",
      "  8.96371276  9.17742423  9.31083494  9.36711031  9.36105459  9.31667859\n",
      "  9.26325478  9.2305079   9.24373123  9.31963104  9.46358175  9.66874297\n",
      "  9.9171833  10.18282644 10.43573549 10.64703141 10.79363785 10.86207248\n",
      " 10.85066211 10.76981759 10.64032335 10.48992256 10.34875901 10.24442457\n",
      " 10.19742594 10.21781542 10.30353939 10.44077569 10.60620454 10.77083999\n",
      " 10.90479211 10.98217796]\n"
     ]
    }
   ],
   "source": [
    "ypred = olsres.predict(X)\n",
    "print(ypred)"
   ]
  },
  {
   "cell_type": "markdown",
   "metadata": {},
   "source": [
    "## Create a new sample of explanatory variables Xnew, predict and plot"
   ]
  },
  {
   "cell_type": "code",
   "execution_count": 6,
   "metadata": {
    "execution": {
     "iopub.execute_input": "2023-12-13T18:53:35.191217Z",
     "iopub.status.busy": "2023-12-13T18:53:35.190959Z",
     "iopub.status.idle": "2023-12-13T18:53:35.195695Z",
     "shell.execute_reply": "2023-12-13T18:53:35.195091Z"
    }
   },
   "outputs": [
    {
     "name": "stdout",
     "output_type": "stream",
     "text": [
      "[10.97496553 10.84783364 10.61853347 10.3275177  10.0280363   9.77309908\n",
      "  9.60249701  9.53306004  9.55453653  9.63210319]\n"
     ]
    }
   ],
   "source": [
    "x1n = np.linspace(20.5, 25, 10)\n",
    "Xnew = np.column_stack((x1n, np.sin(x1n), (x1n - 5) ** 2))\n",
    "Xnew = sm.add_constant(Xnew)\n",
    "ynewpred = olsres.predict(Xnew)  # predict out of sample\n",
    "print(ynewpred)"
   ]
  },
  {
   "cell_type": "markdown",
   "metadata": {},
   "source": [
    "## Plot comparison"
   ]
  },
  {
   "cell_type": "code",
   "execution_count": 7,
   "metadata": {
    "execution": {
     "iopub.execute_input": "2023-12-13T18:53:35.199515Z",
     "iopub.status.busy": "2023-12-13T18:53:35.199285Z",
     "iopub.status.idle": "2023-12-13T18:53:35.713024Z",
     "shell.execute_reply": "2023-12-13T18:53:35.712363Z"
    }
   },
   "outputs": [
    {
     "data": {
      "text/plain": [
       "<matplotlib.legend.Legend at 0x7ff4ad2cad40>"
      ]
     },
     "execution_count": 7,
     "metadata": {},
     "output_type": "execute_result"
    },
    {
     "data": {
      "image/png": "[encoded data removed]",
      "text/plain": [
       "<Figure size 1600x800 with 1 Axes>"
      ]
     },
     "metadata": {},
     "output_type": "display_data"
    }
   ],
   "source": [
    "import matplotlib.pyplot as plt\n",
    "\n",
    "fig, ax = plt.subplots()\n",
    "ax.plot(x1, y, \"o\", label=\"Data\")\n",
    "ax.plot(x1, y_true, \"b-\", label=\"True\")\n",
    "ax.plot(np.hstack((x1, x1n)), np.hstack((ypred, ynewpred)), \"r\", label=\"OLS prediction\")\n",
    "ax.legend(loc=\"best\")"
   ]
  },
  {
   "cell_type": "markdown",
   "metadata": {},
   "source": [
    "## Predicting with Formulas"
   ]
  },
  {
   "cell_type": "markdown",
   "metadata": {},
   "source": [
    "Using formulas can make both estimation and prediction a lot easier"
   ]
  },
  {
   "cell_type": "code",
   "execution_count": 8,
   "metadata": {
    "execution": {
     "iopub.execute_input": "2023-12-13T18:53:35.716211Z",
     "iopub.status.busy": "2023-12-13T18:53:35.715967Z",
     "iopub.status.idle": "2023-12-13T18:53:35.725937Z",
     "shell.execute_reply": "2023-12-13T18:53:35.725218Z"
    }
   },
   "outputs": [],
   "source": [
    "from statsmodels.formula.api import ols\n",
    "\n",
    "data = {\"x1\": x1, \"y\": y}\n",
    "\n",
    "res = ols(\"y ~ x1 + np.sin(x1) + I((x1-5)**2)\", data=data).fit()"
   ]
  },
  {
   "cell_type": "markdown",
   "metadata": {},
   "source": [
    "We use the `I` to indicate use of the Identity transform. Ie., we do not want any expansion magic from using `**2`"
   ]
  },
  {
   "cell_type": "code",
   "execution_count": 9,
   "metadata": {
    "execution": {
     "iopub.execute_input": "2023-12-13T18:53:35.731108Z",
     "iopub.status.busy": "2023-12-13T18:53:35.729793Z",
     "iopub.status.idle": "2023-12-13T18:53:35.738958Z",
     "shell.execute_reply": "2023-12-13T18:53:35.738247Z"
    }
   },
   "outputs": [
    {
     "data": {
      "text/plain": [
       "Intercept           5.102384\n",
       "x1                  0.485875\n",
       "np.sin(x1)          0.452649\n",
       "I((x1 - 5) ** 2)   -0.018893\n",
       "dtype: float64"
      ]
     },
     "execution_count": 9,
     "metadata": {},
     "output_type": "execute_result"
    }
   ],
   "source": [
    "res.params"
   ]
  },
  {
   "cell_type": "markdown",
   "metadata": {},
   "source": [
    "Now we only have to pass the single variable and we get the transformed right-hand side variables automatically"
   ]
  },
  {
   "cell_type": "code",
   "execution_count": 10,
   "metadata": {
    "execution": {
     "iopub.execute_input": "2023-12-13T18:53:35.744790Z",
     "iopub.status.busy": "2023-12-13T18:53:35.743161Z",
     "iopub.status.idle": "2023-12-13T18:53:35.758368Z",
     "shell.execute_reply": "2023-12-13T18:53:35.757646Z"
    }
   },
   "outputs": [
    {
     "data": {
      "text/plain": [
       "0    10.974966\n",
       "1    10.847834\n",
       "2    10.618533\n",
       "3    10.327518\n",
       "4    10.028036\n",
       "5     9.773099\n",
       "6     9.602497\n",
       "7     9.533060\n",
       "8     9.554537\n",
       "9     9.632103\n",
       "dtype: float64"
      ]
     },
     "execution_count": 10,
     "metadata": {},
     "output_type": "execute_result"
    }
   ],
   "source": [
    "res.predict(exog=dict(x1=x1n))"
   ]
  }
 ],
 "metadata": {
  "kernelspec": {
   "display_name": "Python 3",
   "language": "python",
   "name": "python3"
  },
  "language_info": {
   "codemirror_mode": {
    "name": "ipython",
    "version": 3
   },
   "file_extension": ".py",
   "mimetype": "text/x-python",
   "name": "python",
   "nbconvert_exporter": "python",
   "pygments_lexer": "ipython3",
   "version": "3.10.13"
  }
 },
 "nbformat": 4,
 "nbformat_minor": 4
}
