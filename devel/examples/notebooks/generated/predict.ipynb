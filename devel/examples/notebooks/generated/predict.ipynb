{
 "cells": [
  {
   "cell_type": "markdown",
   "metadata": {},
   "source": [
    "# Prediction (out of sample)"
   ]
  },
  {
   "cell_type": "code",
   "execution_count": 1,
   "metadata": {
    "execution": {
     "iopub.execute_input": "2025-07-09T12:33:00.124304Z",
     "iopub.status.busy": "2025-07-09T12:33:00.124067Z",
     "iopub.status.idle": "2025-07-09T12:33:02.021685Z",
     "shell.execute_reply": "2025-07-09T12:33:02.020944Z"
    }
   },
   "outputs": [],
   "source": [
    "%matplotlib inline"
   ]
  },
  {
   "cell_type": "code",
   "execution_count": 2,
   "metadata": {
    "execution": {
     "iopub.execute_input": "2025-07-09T12:33:02.024626Z",
     "iopub.status.busy": "2025-07-09T12:33:02.024289Z",
     "iopub.status.idle": "2025-07-09T12:33:05.719590Z",
     "shell.execute_reply": "2025-07-09T12:33:05.718783Z"
    }
   },
   "outputs": [],
   "source": [
    "import numpy as np\n",
    "import matplotlib.pyplot as plt\n",
    "\n",
    "import statsmodels.api as sm\n",
    "\n",
    "plt.rc(\"figure\", figsize=(16, 8))\n",
    "plt.rc(\"font\", size=14)"
   ]
  },
  {
   "cell_type": "markdown",
   "metadata": {},
   "source": [
    "## Artificial data"
   ]
  },
  {
   "cell_type": "code",
   "execution_count": 3,
   "metadata": {
    "execution": {
     "iopub.execute_input": "2025-07-09T12:33:05.725676Z",
     "iopub.status.busy": "2025-07-09T12:33:05.725271Z",
     "iopub.status.idle": "2025-07-09T12:33:05.742286Z",
     "shell.execute_reply": "2025-07-09T12:33:05.735809Z"
    }
   },
   "outputs": [],
   "source": [
    "nsample = 50\n",
    "sig = 0.25\n",
    "x1 = np.linspace(0, 20, nsample)\n",
    "X = np.column_stack((x1, np.sin(x1), (x1 - 5) ** 2))\n",
    "X = sm.add_constant(X)\n",
    "beta = [5.0, 0.5, 0.5, -0.02]\n",
    "y_true = np.dot(X, beta)\n",
    "y = y_true + sig * np.random.normal(size=nsample)"
   ]
  },
  {
   "cell_type": "markdown",
   "metadata": {},
   "source": [
    "## Estimation "
   ]
  },
  {
   "cell_type": "code",
   "execution_count": 4,
   "metadata": {
    "execution": {
     "iopub.execute_input": "2025-07-09T12:33:05.755609Z",
     "iopub.status.busy": "2025-07-09T12:33:05.755361Z",
     "iopub.status.idle": "2025-07-09T12:33:05.800669Z",
     "shell.execute_reply": "2025-07-09T12:33:05.799948Z"
    }
   },
   "outputs": [
    {
     "name": "stdout",
     "output_type": "stream",
     "text": [
      "                            OLS Regression Results                            \n",
      "==============================================================================\n",
      "Dep. Variable:                      y   R-squared:                       0.987\n",
      "Model:                            OLS   Adj. R-squared:                  0.986\n",
      "Method:                 Least Squares   F-statistic:                     1194.\n",
      "Date:                Wed, 09 Jul 2025   Prob (F-statistic):           1.28e-43\n",
      "Time:                        12:33:05   Log-Likelihood:                 6.2889\n",
      "No. Observations:                  50   AIC:                            -4.578\n",
      "Df Residuals:                      46   BIC:                             3.070\n",
      "Df Model:                           3                                         \n",
      "Covariance Type:            nonrobust                                         \n",
      "==============================================================================\n",
      "                 coef    std err          t      P>|t|      [0.025      0.975]\n",
      "------------------------------------------------------------------------------\n",
      "const          5.0009      0.076     65.956      0.000       4.848       5.154\n",
      "x1             0.4985      0.012     42.631      0.000       0.475       0.522\n",
      "x2             0.4454      0.046      9.690      0.000       0.353       0.538\n",
      "x3            -0.0190      0.001    -18.477      0.000      -0.021      -0.017\n",
      "==============================================================================\n",
      "Omnibus:                        0.840   Durbin-Watson:                   2.230\n",
      "Prob(Omnibus):                  0.657   Jarque-Bera (JB):                0.881\n",
      "Skew:                          -0.168   Prob(JB):                        0.644\n",
      "Kurtosis:                       2.443   Cond. No.                         221.\n",
      "==============================================================================\n",
      "\n",
      "Notes:\n",
      "[1] Standard Errors assume that the covariance matrix of the errors is correctly specified.\n"
     ]
    }
   ],
   "source": [
    "olsmod = sm.OLS(y, X)\n",
    "olsres = olsmod.fit()\n",
    "print(olsres.summary())"
   ]
  },
  {
   "cell_type": "markdown",
   "metadata": {},
   "source": [
    "## In-sample prediction"
   ]
  },
  {
   "cell_type": "code",
   "execution_count": 5,
   "metadata": {
    "execution": {
     "iopub.execute_input": "2025-07-09T12:33:05.808431Z",
     "iopub.status.busy": "2025-07-09T12:33:05.808087Z",
     "iopub.status.idle": "2025-07-09T12:33:05.820189Z",
     "shell.execute_reply": "2025-07-09T12:33:05.817410Z"
    }
   },
   "outputs": [
    {
     "name": "stdout",
     "output_type": "stream",
     "text": [
      "[ 4.52666338  4.98121249  5.40039266  5.75992845  6.04430529  6.24931851\n",
      "  6.38276412  6.46315796  6.51669361  6.57293886  6.65997777  6.79979659\n",
      "  7.00467144  7.27515142  7.59996835  7.95788812  8.32119939  8.66026651\n",
      "  8.94839853  9.16623448  9.30492431  9.36758293  9.36877844  9.33213863\n",
      "  9.28646901  9.26102013  9.28068181  9.3618938   9.50994481  9.71810355\n",
      "  9.96872466 10.23614784 10.49091372 10.70460395 10.85451031 10.92736552\n",
      " 10.9215231  10.84722782 10.72493255 10.58193789 10.44790679 10.34999096\n",
      " 10.30836997 10.33293577 10.42166751 10.5609635  10.72787598 10.89388137\n",
      " 11.02956657 11.10946151]\n"
     ]
    }
   ],
   "source": [
    "ypred = olsres.predict(X)\n",
    "print(ypred)"
   ]
  },
  {
   "cell_type": "markdown",
   "metadata": {},
   "source": [
    "## Create a new sample of explanatory variables Xnew, predict and plot"
   ]
  },
  {
   "cell_type": "code",
   "execution_count": 6,
   "metadata": {
    "execution": {
     "iopub.execute_input": "2025-07-09T12:33:05.827924Z",
     "iopub.status.busy": "2025-07-09T12:33:05.827655Z",
     "iopub.status.idle": "2025-07-09T12:33:05.845152Z",
     "shell.execute_reply": "2025-07-09T12:33:05.844496Z"
    }
   },
   "outputs": [
    {
     "name": "stdout",
     "output_type": "stream",
     "text": [
      "[11.10677783 10.98589808 10.76429026 10.48176177 10.1907131   9.94330845\n",
      "  9.77870405  9.71346137  9.73749229  9.81652905]\n"
     ]
    }
   ],
   "source": [
    "x1n = np.linspace(20.5, 25, 10)\n",
    "Xnew = np.column_stack((x1n, np.sin(x1n), (x1n - 5) ** 2))\n",
    "Xnew = sm.add_constant(Xnew)\n",
    "ynewpred = olsres.predict(Xnew)  # predict out of sample\n",
    "print(ynewpred)"
   ]
  },
  {
   "cell_type": "markdown",
   "metadata": {},
   "source": [
    "## Plot comparison"
   ]
  },
  {
   "cell_type": "code",
   "execution_count": 7,
   "metadata": {
    "execution": {
     "iopub.execute_input": "2025-07-09T12:33:05.853954Z",
     "iopub.status.busy": "2025-07-09T12:33:05.853677Z",
     "iopub.status.idle": "2025-07-09T12:33:06.577275Z",
     "shell.execute_reply": "2025-07-09T12:33:06.576505Z"
    }
   },
   "outputs": [
    {
     "data": {
      "text/plain": [
       "<matplotlib.legend.Legend at 0x7f7852442fe0>"
      ]
     },
     "execution_count": 7,
     "metadata": {},
     "output_type": "execute_result"
    },
    {
     "data": {
      "image/png": "[encoded data removed]",
      "text/plain": [
       "<Figure size 1600x800 with 1 Axes>"
      ]
     },
     "metadata": {},
     "output_type": "display_data"
    }
   ],
   "source": [
    "import matplotlib.pyplot as plt\n",
    "\n",
    "fig, ax = plt.subplots()\n",
    "ax.plot(x1, y, \"o\", label=\"Data\")\n",
    "ax.plot(x1, y_true, \"b-\", label=\"True\")\n",
    "ax.plot(np.hstack((x1, x1n)), np.hstack((ypred, ynewpred)), \"r\", label=\"OLS prediction\")\n",
    "ax.legend(loc=\"best\")"
   ]
  },
  {
   "cell_type": "markdown",
   "metadata": {},
   "source": [
    "## Predicting with Formulas"
   ]
  },
  {
   "cell_type": "markdown",
   "metadata": {},
   "source": [
    "Using formulas can make both estimation and prediction a lot easier"
   ]
  },
  {
   "cell_type": "code",
   "execution_count": 8,
   "metadata": {
    "execution": {
     "iopub.execute_input": "2025-07-09T12:33:06.582346Z",
     "iopub.status.busy": "2025-07-09T12:33:06.579828Z",
     "iopub.status.idle": "2025-07-09T12:33:06.615950Z",
     "shell.execute_reply": "2025-07-09T12:33:06.607953Z"
    }
   },
   "outputs": [],
   "source": [
    "from statsmodels.formula.api import ols\n",
    "\n",
    "data = {\"x1\": x1, \"y\": y}\n",
    "\n",
    "res = ols(\"y ~ x1 + np.sin(x1) + I((x1-5)**2)\", data=data).fit()"
   ]
  },
  {
   "cell_type": "markdown",
   "metadata": {},
   "source": [
    "We use the `I` to indicate use of the Identity transform. Ie., we do not want any expansion magic from using `**2`"
   ]
  },
  {
   "cell_type": "code",
   "execution_count": 9,
   "metadata": {
    "execution": {
     "iopub.execute_input": "2025-07-09T12:33:06.621840Z",
     "iopub.status.busy": "2025-07-09T12:33:06.621549Z",
     "iopub.status.idle": "2025-07-09T12:33:06.649759Z",
     "shell.execute_reply": "2025-07-09T12:33:06.648677Z"
    }
   },
   "outputs": [
    {
     "data": {
      "text/plain": [
       "Intercept           5.000936\n",
       "x1                  0.498516\n",
       "np.sin(x1)          0.445428\n",
       "I((x1 - 5) ** 2)   -0.018971\n",
       "dtype: float64"
      ]
     },
     "execution_count": 9,
     "metadata": {},
     "output_type": "execute_result"
    }
   ],
   "source": [
    "res.params"
   ]
  },
  {
   "cell_type": "markdown",
   "metadata": {},
   "source": [
    "Now we only have to pass the single variable and we get the transformed right-hand side variables automatically"
   ]
  },
  {
   "cell_type": "code",
   "execution_count": 10,
   "metadata": {
    "execution": {
     "iopub.execute_input": "2025-07-09T12:33:06.656649Z",
     "iopub.status.busy": "2025-07-09T12:33:06.656376Z",
     "iopub.status.idle": "2025-07-09T12:33:06.688563Z",
     "shell.execute_reply": "2025-07-09T12:33:06.687779Z"
    }
   },
   "outputs": [
    {
     "data": {
      "text/plain": [
       "0    11.106778\n",
       "1    10.985898\n",
       "2    10.764290\n",
       "3    10.481762\n",
       "4    10.190713\n",
       "5     9.943308\n",
       "6     9.778704\n",
       "7     9.713461\n",
       "8     9.737492\n",
       "9     9.816529\n",
       "dtype: float64"
      ]
     },
     "execution_count": 10,
     "metadata": {},
     "output_type": "execute_result"
    }
   ],
   "source": [
    "res.predict(exog=dict(x1=x1n))"
   ]
  }
 ],
 "metadata": {
  "kernelspec": {
   "display_name": "Python 3",
   "language": "python",
   "name": "python3"
  },
  "language_info": {
   "codemirror_mode": {
    "name": "ipython",
    "version": 3
   },
   "file_extension": ".py",
   "mimetype": "text/x-python",
   "name": "python",
   "nbconvert_exporter": "python",
   "pygments_lexer": "ipython3",
   "version": "3.10.18"
  }
 },
 "nbformat": 4,
 "nbformat_minor": 4
}
