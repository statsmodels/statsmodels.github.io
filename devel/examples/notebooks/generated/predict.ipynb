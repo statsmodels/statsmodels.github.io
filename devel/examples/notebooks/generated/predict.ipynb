{
 "cells": [
  {
   "cell_type": "markdown",
   "metadata": {},
   "source": [
    "# Prediction (out of sample)"
   ]
  },
  {
   "cell_type": "code",
   "execution_count": 1,
   "metadata": {
    "execution": {
     "iopub.execute_input": "2023-05-07T10:53:42.545295Z",
     "iopub.status.busy": "2023-05-07T10:53:42.544810Z",
     "iopub.status.idle": "2023-05-07T10:53:43.044779Z",
     "shell.execute_reply": "2023-05-07T10:53:43.044117Z"
    }
   },
   "outputs": [],
   "source": [
    "%matplotlib inline"
   ]
  },
  {
   "cell_type": "code",
   "execution_count": 2,
   "metadata": {
    "execution": {
     "iopub.execute_input": "2023-05-07T10:53:43.048613Z",
     "iopub.status.busy": "2023-05-07T10:53:43.048270Z",
     "iopub.status.idle": "2023-05-07T10:53:43.850333Z",
     "shell.execute_reply": "2023-05-07T10:53:43.849473Z"
    }
   },
   "outputs": [],
   "source": [
    "import numpy as np\n",
    "import matplotlib.pyplot as plt\n",
    "\n",
    "import statsmodels.api as sm\n",
    "\n",
    "plt.rc(\"figure\", figsize=(16, 8))\n",
    "plt.rc(\"font\", size=14)"
   ]
  },
  {
   "cell_type": "markdown",
   "metadata": {},
   "source": [
    "## Artificial data"
   ]
  },
  {
   "cell_type": "code",
   "execution_count": 3,
   "metadata": {
    "execution": {
     "iopub.execute_input": "2023-05-07T10:53:43.854217Z",
     "iopub.status.busy": "2023-05-07T10:53:43.853959Z",
     "iopub.status.idle": "2023-05-07T10:53:43.859953Z",
     "shell.execute_reply": "2023-05-07T10:53:43.859249Z"
    }
   },
   "outputs": [],
   "source": [
    "nsample = 50\n",
    "sig = 0.25\n",
    "x1 = np.linspace(0, 20, nsample)\n",
    "X = np.column_stack((x1, np.sin(x1), (x1 - 5) ** 2))\n",
    "X = sm.add_constant(X)\n",
    "beta = [5.0, 0.5, 0.5, -0.02]\n",
    "y_true = np.dot(X, beta)\n",
    "y = y_true + sig * np.random.normal(size=nsample)"
   ]
  },
  {
   "cell_type": "markdown",
   "metadata": {},
   "source": [
    "## Estimation "
   ]
  },
  {
   "cell_type": "code",
   "execution_count": 4,
   "metadata": {
    "execution": {
     "iopub.execute_input": "2023-05-07T10:53:43.863273Z",
     "iopub.status.busy": "2023-05-07T10:53:43.863045Z",
     "iopub.status.idle": "2023-05-07T10:53:43.875975Z",
     "shell.execute_reply": "2023-05-07T10:53:43.875303Z"
    }
   },
   "outputs": [
    {
     "name": "stdout",
     "output_type": "stream",
     "text": [
      "                            OLS Regression Results                            \n",
      "==============================================================================\n",
      "Dep. Variable:                      y   R-squared:                       0.987\n",
      "Model:                            OLS   Adj. R-squared:                  0.986\n",
      "Method:                 Least Squares   F-statistic:                     1158.\n",
      "Date:                Sun, 07 May 2023   Prob (F-statistic):           2.55e-43\n",
      "Time:                        10:53:43   Log-Likelihood:                 6.4450\n",
      "No. Observations:                  50   AIC:                            -4.890\n",
      "Df Residuals:                      46   BIC:                             2.758\n",
      "Df Model:                           3                                         \n",
      "Covariance Type:            nonrobust                                         \n",
      "==============================================================================\n",
      "                 coef    std err          t      P>|t|      [0.025      0.975]\n",
      "------------------------------------------------------------------------------\n",
      "const          5.0054      0.076     66.222      0.000       4.853       5.158\n",
      "x1             0.5099      0.012     43.738      0.000       0.486       0.533\n",
      "x2             0.5443      0.046     11.877      0.000       0.452       0.637\n",
      "x3            -0.0211      0.001    -20.619      0.000      -0.023      -0.019\n",
      "==============================================================================\n",
      "Omnibus:                        0.264   Durbin-Watson:                   2.350\n",
      "Prob(Omnibus):                  0.876   Jarque-Bera (JB):                0.359\n",
      "Skew:                          -0.159   Prob(JB):                        0.836\n",
      "Kurtosis:                       2.733   Cond. No.                         221.\n",
      "==============================================================================\n",
      "\n",
      "Notes:\n",
      "[1] Standard Errors assume that the covariance matrix of the errors is correctly specified.\n"
     ]
    }
   ],
   "source": [
    "olsmod = sm.OLS(y, X)\n",
    "olsres = olsmod.fit()\n",
    "print(olsres.summary())"
   ]
  },
  {
   "cell_type": "markdown",
   "metadata": {},
   "source": [
    "## In-sample prediction"
   ]
  },
  {
   "cell_type": "code",
   "execution_count": 5,
   "metadata": {
    "execution": {
     "iopub.execute_input": "2023-05-07T10:53:43.879298Z",
     "iopub.status.busy": "2023-05-07T10:53:43.879061Z",
     "iopub.status.idle": "2023-05-07T10:53:43.884664Z",
     "shell.execute_reply": "2023-05-07T10:53:43.884018Z"
    }
   },
   "outputs": [
    {
     "name": "stdout",
     "output_type": "stream",
     "text": [
      "[ 4.47783928  4.98461244  5.44885902  5.8409159   6.14182522  6.34644911\n",
      "  6.46431382  6.51804461  6.53964846  6.56525541  6.62918252  6.75829566\n",
      "  6.96759551  7.25775303  7.61499918  8.01338716  8.41905538  8.79579085\n",
      "  9.11097884  9.34096141  9.47492432  9.51667381  9.48401122  9.4058083\n",
      "  9.31726363  9.25411964  9.24679019  9.31536368  9.46630257  9.69138164\n",
      "  9.96903934 10.2679203  10.55202694 10.78663376 10.94399267 11.00789185\n",
      " 10.97631941 10.86179383 10.6893073  10.49221951 10.30677679 10.16615692\n",
      " 10.0950181  10.10544772 10.19497639 10.34698369 10.53342884 10.71945772\n",
      " 10.86912931 10.95132069]\n"
     ]
    }
   ],
   "source": [
    "ypred = olsres.predict(X)\n",
    "print(ypred)"
   ]
  },
  {
   "cell_type": "markdown",
   "metadata": {},
   "source": [
    "## Create a new sample of explanatory variables Xnew, predict and plot"
   ]
  },
  {
   "cell_type": "code",
   "execution_count": 6,
   "metadata": {
    "execution": {
     "iopub.execute_input": "2023-05-07T10:53:43.888022Z",
     "iopub.status.busy": "2023-05-07T10:53:43.887791Z",
     "iopub.status.idle": "2023-05-07T10:53:43.893921Z",
     "shell.execute_reply": "2023-05-07T10:53:43.893281Z"
    }
   },
   "outputs": [
    {
     "name": "stdout",
     "output_type": "stream",
     "text": [
      "[10.93007625 10.76544198 10.47876272 10.11868071  9.74922622  9.43414074\n",
      "  9.22127084  9.13085365  9.1505621   9.23852302]\n"
     ]
    }
   ],
   "source": [
    "x1n = np.linspace(20.5, 25, 10)\n",
    "Xnew = np.column_stack((x1n, np.sin(x1n), (x1n - 5) ** 2))\n",
    "Xnew = sm.add_constant(Xnew)\n",
    "ynewpred = olsres.predict(Xnew)  # predict out of sample\n",
    "print(ynewpred)"
   ]
  },
  {
   "cell_type": "markdown",
   "metadata": {},
   "source": [
    "## Plot comparison"
   ]
  },
  {
   "cell_type": "code",
   "execution_count": 7,
   "metadata": {
    "execution": {
     "iopub.execute_input": "2023-05-07T10:53:43.897237Z",
     "iopub.status.busy": "2023-05-07T10:53:43.897011Z",
     "iopub.status.idle": "2023-05-07T10:53:44.228000Z",
     "shell.execute_reply": "2023-05-07T10:53:44.227334Z"
    }
   },
   "outputs": [
    {
     "data": {
      "text/plain": [
       "<matplotlib.legend.Legend at 0x7f234cadca90>"
      ]
     },
     "execution_count": 7,
     "metadata": {},
     "output_type": "execute_result"
    },
    {
     "data": {
      "image/png": "[encoded data removed]",
      "text/plain": [
       "<Figure size 1600x800 with 1 Axes>"
      ]
     },
     "metadata": {},
     "output_type": "display_data"
    }
   ],
   "source": [
    "import matplotlib.pyplot as plt\n",
    "\n",
    "fig, ax = plt.subplots()\n",
    "ax.plot(x1, y, \"o\", label=\"Data\")\n",
    "ax.plot(x1, y_true, \"b-\", label=\"True\")\n",
    "ax.plot(np.hstack((x1, x1n)), np.hstack((ypred, ynewpred)), \"r\", label=\"OLS prediction\")\n",
    "ax.legend(loc=\"best\")"
   ]
  },
  {
   "cell_type": "markdown",
   "metadata": {},
   "source": [
    "## Predicting with Formulas"
   ]
  },
  {
   "cell_type": "markdown",
   "metadata": {},
   "source": [
    "Using formulas can make both estimation and prediction a lot easier"
   ]
  },
  {
   "cell_type": "code",
   "execution_count": 8,
   "metadata": {
    "execution": {
     "iopub.execute_input": "2023-05-07T10:53:44.231793Z",
     "iopub.status.busy": "2023-05-07T10:53:44.231531Z",
     "iopub.status.idle": "2023-05-07T10:53:44.240400Z",
     "shell.execute_reply": "2023-05-07T10:53:44.239831Z"
    }
   },
   "outputs": [],
   "source": [
    "from statsmodels.formula.api import ols\n",
    "\n",
    "data = {\"x1\": x1, \"y\": y}\n",
    "\n",
    "res = ols(\"y ~ x1 + np.sin(x1) + I((x1-5)**2)\", data=data).fit()"
   ]
  },
  {
   "cell_type": "markdown",
   "metadata": {},
   "source": [
    "We use the `I` to indicate use of the Identity transform. Ie., we do not want any expansion magic from using `**2`"
   ]
  },
  {
   "cell_type": "code",
   "execution_count": 9,
   "metadata": {
    "execution": {
     "iopub.execute_input": "2023-05-07T10:53:44.244725Z",
     "iopub.status.busy": "2023-05-07T10:53:44.243623Z",
     "iopub.status.idle": "2023-05-07T10:53:44.251612Z",
     "shell.execute_reply": "2023-05-07T10:53:44.251058Z"
    }
   },
   "outputs": [
    {
     "data": {
      "text/plain": [
       "Intercept           5.005440\n",
       "x1                  0.509869\n",
       "np.sin(x1)          0.544286\n",
       "I((x1 - 5) ** 2)   -0.021104\n",
       "dtype: float64"
      ]
     },
     "execution_count": 9,
     "metadata": {},
     "output_type": "execute_result"
    }
   ],
   "source": [
    "res.params"
   ]
  },
  {
   "cell_type": "markdown",
   "metadata": {},
   "source": [
    "Now we only have to pass the single variable and we get the transformed right-hand side variables automatically"
   ]
  },
  {
   "cell_type": "code",
   "execution_count": 10,
   "metadata": {
    "execution": {
     "iopub.execute_input": "2023-05-07T10:53:44.255830Z",
     "iopub.status.busy": "2023-05-07T10:53:44.254753Z",
     "iopub.status.idle": "2023-05-07T10:53:44.263553Z",
     "shell.execute_reply": "2023-05-07T10:53:44.262987Z"
    }
   },
   "outputs": [
    {
     "data": {
      "text/plain": [
       "0    10.930076\n",
       "1    10.765442\n",
       "2    10.478763\n",
       "3    10.118681\n",
       "4     9.749226\n",
       "5     9.434141\n",
       "6     9.221271\n",
       "7     9.130854\n",
       "8     9.150562\n",
       "9     9.238523\n",
       "dtype: float64"
      ]
     },
     "execution_count": 10,
     "metadata": {},
     "output_type": "execute_result"
    }
   ],
   "source": [
    "res.predict(exog=dict(x1=x1n))"
   ]
  }
 ],
 "metadata": {
  "kernelspec": {
   "display_name": "Python 3",
   "language": "python",
   "name": "python3"
  },
  "language_info": {
   "codemirror_mode": {
    "name": "ipython",
    "version": 3
   },
   "file_extension": ".py",
   "mimetype": "text/x-python",
   "name": "python",
   "nbconvert_exporter": "python",
   "pygments_lexer": "ipython3",
   "version": "3.10.11"
  }
 },
 "nbformat": 4,
 "nbformat_minor": 4
}
