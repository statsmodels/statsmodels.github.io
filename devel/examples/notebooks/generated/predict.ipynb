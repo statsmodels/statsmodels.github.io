{
 "cells": [
  {
   "cell_type": "markdown",
   "metadata": {},
   "source": [
    "# Prediction (out of sample)"
   ]
  },
  {
   "cell_type": "code",
   "execution_count": 1,
   "metadata": {
    "execution": {
     "iopub.execute_input": "2025-02-19T12:34:47.904606Z",
     "iopub.status.busy": "2025-02-19T12:34:47.904322Z",
     "iopub.status.idle": "2025-02-19T12:34:49.267758Z",
     "shell.execute_reply": "2025-02-19T12:34:49.267069Z"
    }
   },
   "outputs": [],
   "source": [
    "%matplotlib inline"
   ]
  },
  {
   "cell_type": "code",
   "execution_count": 2,
   "metadata": {
    "execution": {
     "iopub.execute_input": "2025-02-19T12:34:49.271051Z",
     "iopub.status.busy": "2025-02-19T12:34:49.270753Z",
     "iopub.status.idle": "2025-02-19T12:34:51.955289Z",
     "shell.execute_reply": "2025-02-19T12:34:51.948701Z"
    }
   },
   "outputs": [],
   "source": [
    "import numpy as np\n",
    "import matplotlib.pyplot as plt\n",
    "\n",
    "import statsmodels.api as sm\n",
    "\n",
    "plt.rc(\"figure\", figsize=(16, 8))\n",
    "plt.rc(\"font\", size=14)"
   ]
  },
  {
   "cell_type": "markdown",
   "metadata": {},
   "source": [
    "## Artificial data"
   ]
  },
  {
   "cell_type": "code",
   "execution_count": 3,
   "metadata": {
    "execution": {
     "iopub.execute_input": "2025-02-19T12:34:51.961764Z",
     "iopub.status.busy": "2025-02-19T12:34:51.961417Z",
     "iopub.status.idle": "2025-02-19T12:34:51.972015Z",
     "shell.execute_reply": "2025-02-19T12:34:51.971387Z"
    }
   },
   "outputs": [],
   "source": [
    "nsample = 50\n",
    "sig = 0.25\n",
    "x1 = np.linspace(0, 20, nsample)\n",
    "X = np.column_stack((x1, np.sin(x1), (x1 - 5) ** 2))\n",
    "X = sm.add_constant(X)\n",
    "beta = [5.0, 0.5, 0.5, -0.02]\n",
    "y_true = np.dot(X, beta)\n",
    "y = y_true + sig * np.random.normal(size=nsample)"
   ]
  },
  {
   "cell_type": "markdown",
   "metadata": {},
   "source": [
    "## Estimation "
   ]
  },
  {
   "cell_type": "code",
   "execution_count": 4,
   "metadata": {
    "execution": {
     "iopub.execute_input": "2025-02-19T12:34:51.974611Z",
     "iopub.status.busy": "2025-02-19T12:34:51.974276Z",
     "iopub.status.idle": "2025-02-19T12:34:52.001764Z",
     "shell.execute_reply": "2025-02-19T12:34:51.999876Z"
    }
   },
   "outputs": [
    {
     "name": "stdout",
     "output_type": "stream",
     "text": [
      "                            OLS Regression Results                            \n",
      "==============================================================================\n",
      "Dep. Variable:                      y   R-squared:                       0.984\n",
      "Model:                            OLS   Adj. R-squared:                  0.983\n",
      "Method:                 Least Squares   F-statistic:                     944.8\n",
      "Date:                Wed, 19 Feb 2025   Prob (F-statistic):           2.59e-41\n",
      "Time:                        12:34:51   Log-Likelihood:                0.43447\n",
      "No. Observations:                  50   AIC:                             7.131\n",
      "Df Residuals:                      46   BIC:                             14.78\n",
      "Df Model:                           3                                         \n",
      "Covariance Type:            nonrobust                                         \n",
      "==============================================================================\n",
      "                 coef    std err          t      P>|t|      [0.025      0.975]\n",
      "------------------------------------------------------------------------------\n",
      "const          4.8884      0.085     57.348      0.000       4.717       5.060\n",
      "x1             0.5043      0.013     38.357      0.000       0.478       0.531\n",
      "x2             0.5682      0.052     10.995      0.000       0.464       0.672\n",
      "x3            -0.0197      0.001    -17.050      0.000      -0.022      -0.017\n",
      "==============================================================================\n",
      "Omnibus:                        1.003   Durbin-Watson:                   1.887\n",
      "Prob(Omnibus):                  0.606   Jarque-Bera (JB):                0.391\n",
      "Skew:                           0.158   Prob(JB):                        0.822\n",
      "Kurtosis:                       3.297   Cond. No.                         221.\n",
      "==============================================================================\n",
      "\n",
      "Notes:\n",
      "[1] Standard Errors assume that the covariance matrix of the errors is correctly specified.\n"
     ]
    }
   ],
   "source": [
    "olsmod = sm.OLS(y, X)\n",
    "olsres = olsmod.fit()\n",
    "print(olsres.summary())"
   ]
  },
  {
   "cell_type": "markdown",
   "metadata": {},
   "source": [
    "## In-sample prediction"
   ]
  },
  {
   "cell_type": "code",
   "execution_count": 5,
   "metadata": {
    "execution": {
     "iopub.execute_input": "2025-02-19T12:34:52.004686Z",
     "iopub.status.busy": "2025-02-19T12:34:52.003856Z",
     "iopub.status.idle": "2025-02-19T12:34:52.011755Z",
     "shell.execute_reply": "2025-02-19T12:34:52.010895Z"
    }
   },
   "outputs": [
    {
     "name": "stdout",
     "output_type": "stream",
     "text": [
      "[ 4.39636399  4.90477057  5.36956434  5.75977805  6.05562037  6.25172755\n",
      "  6.35804466  6.39819165  6.40558268  6.41793624  6.47107812  6.59305532\n",
      "  6.79952804  7.09119671  7.45368697  7.85991126  8.27451931  8.65970601\n",
      "  8.98142275  9.21497149  9.34906254  9.38766948  9.34937628  9.26432401\n",
      "  9.16925875  9.10149434  9.09278175  9.16409256  9.32217336  9.55843731\n",
      "  9.8503749  10.16525225 10.46548916 10.71483346 10.88431709 10.95701553\n",
      " 10.93082839 10.81882456 10.64709498 10.45046599 10.26677747 10.13066583\n",
      " 10.06787338 10.0910189  10.19752447 10.37003893 10.57928872 10.78888736\n",
      " 10.9613137  11.06407653]\n"
     ]
    }
   ],
   "source": [
    "ypred = olsres.predict(X)\n",
    "print(ypred)"
   ]
  },
  {
   "cell_type": "markdown",
   "metadata": {},
   "source": [
    "## Create a new sample of explanatory variables Xnew, predict and plot"
   ]
  },
  {
   "cell_type": "code",
   "execution_count": 6,
   "metadata": {
    "execution": {
     "iopub.execute_input": "2025-02-19T12:34:52.017606Z",
     "iopub.status.busy": "2025-02-19T12:34:52.017315Z",
     "iopub.status.idle": "2025-02-19T12:34:52.027517Z",
     "shell.execute_reply": "2025-02-19T12:34:52.026701Z"
    }
   },
   "outputs": [
    {
     "name": "stdout",
     "output_type": "stream",
     "text": [
      "[11.06373926 10.9148837  10.63979315 10.28924835  9.93009466  9.62887592\n",
      "  9.43554225  9.37122049  9.42304162  9.54729155]\n"
     ]
    }
   ],
   "source": [
    "x1n = np.linspace(20.5, 25, 10)\n",
    "Xnew = np.column_stack((x1n, np.sin(x1n), (x1n - 5) ** 2))\n",
    "Xnew = sm.add_constant(Xnew)\n",
    "ynewpred = olsres.predict(Xnew)  # predict out of sample\n",
    "print(ynewpred)"
   ]
  },
  {
   "cell_type": "markdown",
   "metadata": {},
   "source": [
    "## Plot comparison"
   ]
  },
  {
   "cell_type": "code",
   "execution_count": 7,
   "metadata": {
    "execution": {
     "iopub.execute_input": "2025-02-19T12:34:52.032854Z",
     "iopub.status.busy": "2025-02-19T12:34:52.032634Z",
     "iopub.status.idle": "2025-02-19T12:34:52.564748Z",
     "shell.execute_reply": "2025-02-19T12:34:52.564062Z"
    }
   },
   "outputs": [
    {
     "data": {
      "text/plain": [
       "<matplotlib.legend.Legend at 0x7f1688057280>"
      ]
     },
     "execution_count": 7,
     "metadata": {},
     "output_type": "execute_result"
    },
    {
     "data": {
      "image/png": "[encoded data removed]",
      "text/plain": [
       "<Figure size 1600x800 with 1 Axes>"
      ]
     },
     "metadata": {},
     "output_type": "display_data"
    }
   ],
   "source": [
    "import matplotlib.pyplot as plt\n",
    "\n",
    "fig, ax = plt.subplots()\n",
    "ax.plot(x1, y, \"o\", label=\"Data\")\n",
    "ax.plot(x1, y_true, \"b-\", label=\"True\")\n",
    "ax.plot(np.hstack((x1, x1n)), np.hstack((ypred, ynewpred)), \"r\", label=\"OLS prediction\")\n",
    "ax.legend(loc=\"best\")"
   ]
  },
  {
   "cell_type": "markdown",
   "metadata": {},
   "source": [
    "## Predicting with Formulas"
   ]
  },
  {
   "cell_type": "markdown",
   "metadata": {},
   "source": [
    "Using formulas can make both estimation and prediction a lot easier"
   ]
  },
  {
   "cell_type": "code",
   "execution_count": 8,
   "metadata": {
    "execution": {
     "iopub.execute_input": "2025-02-19T12:34:52.570120Z",
     "iopub.status.busy": "2025-02-19T12:34:52.569866Z",
     "iopub.status.idle": "2025-02-19T12:34:52.583458Z",
     "shell.execute_reply": "2025-02-19T12:34:52.581024Z"
    }
   },
   "outputs": [],
   "source": [
    "from statsmodels.formula.api import ols\n",
    "\n",
    "data = {\"x1\": x1, \"y\": y}\n",
    "\n",
    "res = ols(\"y ~ x1 + np.sin(x1) + I((x1-5)**2)\", data=data).fit()"
   ]
  },
  {
   "cell_type": "markdown",
   "metadata": {},
   "source": [
    "We use the `I` to indicate use of the Identity transform. Ie., we do not want any expansion magic from using `**2`"
   ]
  },
  {
   "cell_type": "code",
   "execution_count": 9,
   "metadata": {
    "execution": {
     "iopub.execute_input": "2025-02-19T12:34:52.589253Z",
     "iopub.status.busy": "2025-02-19T12:34:52.585990Z",
     "iopub.status.idle": "2025-02-19T12:34:52.598842Z",
     "shell.execute_reply": "2025-02-19T12:34:52.598228Z"
    }
   },
   "outputs": [
    {
     "data": {
      "text/plain": [
       "Intercept           4.888378\n",
       "x1                  0.504254\n",
       "np.sin(x1)          0.568216\n",
       "I((x1 - 5) ** 2)   -0.019681\n",
       "dtype: float64"
      ]
     },
     "execution_count": 9,
     "metadata": {},
     "output_type": "execute_result"
    }
   ],
   "source": [
    "res.params"
   ]
  },
  {
   "cell_type": "markdown",
   "metadata": {},
   "source": [
    "Now we only have to pass the single variable and we get the transformed right-hand side variables automatically"
   ]
  },
  {
   "cell_type": "code",
   "execution_count": 10,
   "metadata": {
    "execution": {
     "iopub.execute_input": "2025-02-19T12:34:52.601263Z",
     "iopub.status.busy": "2025-02-19T12:34:52.601018Z",
     "iopub.status.idle": "2025-02-19T12:34:52.613555Z",
     "shell.execute_reply": "2025-02-19T12:34:52.612934Z"
    }
   },
   "outputs": [
    {
     "data": {
      "text/plain": [
       "0    11.063739\n",
       "1    10.914884\n",
       "2    10.639793\n",
       "3    10.289248\n",
       "4     9.930095\n",
       "5     9.628876\n",
       "6     9.435542\n",
       "7     9.371220\n",
       "8     9.423042\n",
       "9     9.547292\n",
       "dtype: float64"
      ]
     },
     "execution_count": 10,
     "metadata": {},
     "output_type": "execute_result"
    }
   ],
   "source": [
    "res.predict(exog=dict(x1=x1n))"
   ]
  }
 ],
 "metadata": {
  "kernelspec": {
   "display_name": "Python 3",
   "language": "python",
   "name": "python3"
  },
  "language_info": {
   "codemirror_mode": {
    "name": "ipython",
    "version": 3
   },
   "file_extension": ".py",
   "mimetype": "text/x-python",
   "name": "python",
   "nbconvert_exporter": "python",
   "pygments_lexer": "ipython3",
   "version": "3.10.16"
  }
 },
 "nbformat": 4,
 "nbformat_minor": 4
}
