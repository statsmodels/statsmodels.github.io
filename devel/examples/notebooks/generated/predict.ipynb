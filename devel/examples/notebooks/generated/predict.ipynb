{
 "cells": [
  {
   "cell_type": "markdown",
   "metadata": {},
   "source": [
    "# Prediction (out of sample)"
   ]
  },
  {
   "cell_type": "code",
   "execution_count": 1,
   "metadata": {
    "execution": {
     "iopub.execute_input": "2023-12-11T13:14:03.013263Z",
     "iopub.status.busy": "2023-12-11T13:14:03.013007Z",
     "iopub.status.idle": "2023-12-11T13:14:04.247919Z",
     "shell.execute_reply": "2023-12-11T13:14:04.247190Z"
    }
   },
   "outputs": [],
   "source": [
    "%matplotlib inline"
   ]
  },
  {
   "cell_type": "code",
   "execution_count": 2,
   "metadata": {
    "execution": {
     "iopub.execute_input": "2023-12-11T13:14:04.252143Z",
     "iopub.status.busy": "2023-12-11T13:14:04.251433Z",
     "iopub.status.idle": "2023-12-11T13:14:06.015209Z",
     "shell.execute_reply": "2023-12-11T13:14:06.014481Z"
    }
   },
   "outputs": [],
   "source": [
    "import numpy as np\n",
    "import matplotlib.pyplot as plt\n",
    "\n",
    "import statsmodels.api as sm\n",
    "\n",
    "plt.rc(\"figure\", figsize=(16, 8))\n",
    "plt.rc(\"font\", size=14)"
   ]
  },
  {
   "cell_type": "markdown",
   "metadata": {},
   "source": [
    "## Artificial data"
   ]
  },
  {
   "cell_type": "code",
   "execution_count": 3,
   "metadata": {
    "execution": {
     "iopub.execute_input": "2023-12-11T13:14:06.019242Z",
     "iopub.status.busy": "2023-12-11T13:14:06.018728Z",
     "iopub.status.idle": "2023-12-11T13:14:06.026004Z",
     "shell.execute_reply": "2023-12-11T13:14:06.025272Z"
    }
   },
   "outputs": [],
   "source": [
    "nsample = 50\n",
    "sig = 0.25\n",
    "x1 = np.linspace(0, 20, nsample)\n",
    "X = np.column_stack((x1, np.sin(x1), (x1 - 5) ** 2))\n",
    "X = sm.add_constant(X)\n",
    "beta = [5.0, 0.5, 0.5, -0.02]\n",
    "y_true = np.dot(X, beta)\n",
    "y = y_true + sig * np.random.normal(size=nsample)"
   ]
  },
  {
   "cell_type": "markdown",
   "metadata": {},
   "source": [
    "## Estimation "
   ]
  },
  {
   "cell_type": "code",
   "execution_count": 4,
   "metadata": {
    "execution": {
     "iopub.execute_input": "2023-12-11T13:14:06.029432Z",
     "iopub.status.busy": "2023-12-11T13:14:06.029127Z",
     "iopub.status.idle": "2023-12-11T13:14:06.058934Z",
     "shell.execute_reply": "2023-12-11T13:14:06.058156Z"
    }
   },
   "outputs": [
    {
     "name": "stdout",
     "output_type": "stream",
     "text": [
      "                            OLS Regression Results                            \n",
      "==============================================================================\n",
      "Dep. Variable:                      y   R-squared:                       0.986\n",
      "Model:                            OLS   Adj. R-squared:                  0.985\n",
      "Method:                 Least Squares   F-statistic:                     1086.\n",
      "Date:                Mon, 11 Dec 2023   Prob (F-statistic):           1.10e-42\n",
      "Time:                        13:14:06   Log-Likelihood:                 2.9983\n",
      "No. Observations:                  50   AIC:                             2.003\n",
      "Df Residuals:                      46   BIC:                             9.651\n",
      "Df Model:                           3                                         \n",
      "Covariance Type:            nonrobust                                         \n",
      "==============================================================================\n",
      "                 coef    std err          t      P>|t|      [0.025      0.975]\n",
      "------------------------------------------------------------------------------\n",
      "const          4.8291      0.081     59.633      0.000       4.666       4.992\n",
      "x1             0.5282      0.012     42.292      0.000       0.503       0.553\n",
      "x2             0.5664      0.049     11.537      0.000       0.468       0.665\n",
      "x3            -0.0218      0.001    -19.881      0.000      -0.024      -0.020\n",
      "==============================================================================\n",
      "Omnibus:                        0.110   Durbin-Watson:                   2.322\n",
      "Prob(Omnibus):                  0.946   Jarque-Bera (JB):                0.317\n",
      "Skew:                          -0.012   Prob(JB):                        0.853\n",
      "Kurtosis:                       2.611   Cond. No.                         221.\n",
      "==============================================================================\n",
      "\n",
      "Notes:\n",
      "[1] Standard Errors assume that the covariance matrix of the errors is correctly specified.\n"
     ]
    }
   ],
   "source": [
    "olsmod = sm.OLS(y, X)\n",
    "olsres = olsmod.fit()\n",
    "print(olsres.summary())"
   ]
  },
  {
   "cell_type": "markdown",
   "metadata": {},
   "source": [
    "## In-sample prediction"
   ]
  },
  {
   "cell_type": "code",
   "execution_count": 5,
   "metadata": {
    "execution": {
     "iopub.execute_input": "2023-12-11T13:14:06.062420Z",
     "iopub.status.busy": "2023-12-11T13:14:06.062115Z",
     "iopub.status.idle": "2023-12-11T13:14:06.068369Z",
     "shell.execute_reply": "2023-12-11T13:14:06.066911Z"
    }
   },
   "outputs": [
    {
     "name": "stdout",
     "output_type": "stream",
     "text": [
      "[ 4.28407463  4.80984275  5.29140797  5.69790032  6.00959063  6.221132\n",
      "  6.34243828  6.3970552   6.41829195  6.44374852  6.50913815  6.64241973\n",
      "  6.85920426  7.16018998  7.53104767  7.94477488  8.36613239  8.75743387\n",
      "  9.08473767  9.32342334  9.46223665  9.50513871  9.4706551   9.38883221\n",
      "  9.29630067  9.23025708  9.22235268  9.29349317  9.45040393  9.68452509\n",
      "  9.97341788 10.28445125 10.58016306 10.82441501 10.98833008 11.05503689\n",
      " 11.02244167 10.90357224 10.72443757 10.5197546  10.32724433 10.18143435\n",
      " 10.10798611 10.11947875 10.21334242 10.3722805  10.56711138 10.7615629\n",
      " 10.91823178 11.00472889]\n"
     ]
    }
   ],
   "source": [
    "ypred = olsres.predict(X)\n",
    "print(ypred)"
   ]
  },
  {
   "cell_type": "markdown",
   "metadata": {},
   "source": [
    "## Create a new sample of explanatory variables Xnew, predict and plot"
   ]
  },
  {
   "cell_type": "code",
   "execution_count": 6,
   "metadata": {
    "execution": {
     "iopub.execute_input": "2023-12-11T13:14:06.071419Z",
     "iopub.status.busy": "2023-12-11T13:14:06.071162Z",
     "iopub.status.idle": "2023-12-11T13:14:06.077755Z",
     "shell.execute_reply": "2023-12-11T13:14:06.075790Z"
    }
   },
   "outputs": [
    {
     "name": "stdout",
     "output_type": "stream",
     "text": [
      "[10.98387171 10.81387172 10.51694217 10.1437043   9.76079344  9.43454439\n",
      "  9.21475036  9.1224718   9.14488013  9.23839858]\n"
     ]
    }
   ],
   "source": [
    "x1n = np.linspace(20.5, 25, 10)\n",
    "Xnew = np.column_stack((x1n, np.sin(x1n), (x1n - 5) ** 2))\n",
    "Xnew = sm.add_constant(Xnew)\n",
    "ynewpred = olsres.predict(Xnew)  # predict out of sample\n",
    "print(ynewpred)"
   ]
  },
  {
   "cell_type": "markdown",
   "metadata": {},
   "source": [
    "## Plot comparison"
   ]
  },
  {
   "cell_type": "code",
   "execution_count": 7,
   "metadata": {
    "execution": {
     "iopub.execute_input": "2023-12-11T13:14:06.080974Z",
     "iopub.status.busy": "2023-12-11T13:14:06.080664Z",
     "iopub.status.idle": "2023-12-11T13:14:06.543133Z",
     "shell.execute_reply": "2023-12-11T13:14:06.542295Z"
    }
   },
   "outputs": [
    {
     "data": {
      "text/plain": [
       "<matplotlib.legend.Legend at 0x7f67f8e96bc0>"
      ]
     },
     "execution_count": 7,
     "metadata": {},
     "output_type": "execute_result"
    },
    {
     "data": {
      "image/png": "[encoded data removed]",
      "text/plain": [
       "<Figure size 1600x800 with 1 Axes>"
      ]
     },
     "metadata": {},
     "output_type": "display_data"
    }
   ],
   "source": [
    "import matplotlib.pyplot as plt\n",
    "\n",
    "fig, ax = plt.subplots()\n",
    "ax.plot(x1, y, \"o\", label=\"Data\")\n",
    "ax.plot(x1, y_true, \"b-\", label=\"True\")\n",
    "ax.plot(np.hstack((x1, x1n)), np.hstack((ypred, ynewpred)), \"r\", label=\"OLS prediction\")\n",
    "ax.legend(loc=\"best\")"
   ]
  },
  {
   "cell_type": "markdown",
   "metadata": {},
   "source": [
    "## Predicting with Formulas"
   ]
  },
  {
   "cell_type": "markdown",
   "metadata": {},
   "source": [
    "Using formulas can make both estimation and prediction a lot easier"
   ]
  },
  {
   "cell_type": "code",
   "execution_count": 8,
   "metadata": {
    "execution": {
     "iopub.execute_input": "2023-12-11T13:14:06.547599Z",
     "iopub.status.busy": "2023-12-11T13:14:06.547215Z",
     "iopub.status.idle": "2023-12-11T13:14:06.566550Z",
     "shell.execute_reply": "2023-12-11T13:14:06.565862Z"
    }
   },
   "outputs": [],
   "source": [
    "from statsmodels.formula.api import ols\n",
    "\n",
    "data = {\"x1\": x1, \"y\": y}\n",
    "\n",
    "res = ols(\"y ~ x1 + np.sin(x1) + I((x1-5)**2)\", data=data).fit()"
   ]
  },
  {
   "cell_type": "markdown",
   "metadata": {},
   "source": [
    "We use the `I` to indicate use of the Identity transform. Ie., we do not want any expansion magic from using `**2`"
   ]
  },
  {
   "cell_type": "code",
   "execution_count": 9,
   "metadata": {
    "execution": {
     "iopub.execute_input": "2023-12-11T13:14:06.569922Z",
     "iopub.status.busy": "2023-12-11T13:14:06.569627Z",
     "iopub.status.idle": "2023-12-11T13:14:06.576420Z",
     "shell.execute_reply": "2023-12-11T13:14:06.575634Z"
    }
   },
   "outputs": [
    {
     "data": {
      "text/plain": [
       "Intercept           4.829100\n",
       "x1                  0.528187\n",
       "np.sin(x1)          0.566431\n",
       "I((x1 - 5) ** 2)   -0.021801\n",
       "dtype: float64"
      ]
     },
     "execution_count": 9,
     "metadata": {},
     "output_type": "execute_result"
    }
   ],
   "source": [
    "res.params"
   ]
  },
  {
   "cell_type": "markdown",
   "metadata": {},
   "source": [
    "Now we only have to pass the single variable and we get the transformed right-hand side variables automatically"
   ]
  },
  {
   "cell_type": "code",
   "execution_count": 10,
   "metadata": {
    "execution": {
     "iopub.execute_input": "2023-12-11T13:14:06.579898Z",
     "iopub.status.busy": "2023-12-11T13:14:06.579471Z",
     "iopub.status.idle": "2023-12-11T13:14:06.594549Z",
     "shell.execute_reply": "2023-12-11T13:14:06.593864Z"
    }
   },
   "outputs": [
    {
     "data": {
      "text/plain": [
       "0    10.983872\n",
       "1    10.813872\n",
       "2    10.516942\n",
       "3    10.143704\n",
       "4     9.760793\n",
       "5     9.434544\n",
       "6     9.214750\n",
       "7     9.122472\n",
       "8     9.144880\n",
       "9     9.238399\n",
       "dtype: float64"
      ]
     },
     "execution_count": 10,
     "metadata": {},
     "output_type": "execute_result"
    }
   ],
   "source": [
    "res.predict(exog=dict(x1=x1n))"
   ]
  }
 ],
 "metadata": {
  "kernelspec": {
   "display_name": "Python 3",
   "language": "python",
   "name": "python3"
  },
  "language_info": {
   "codemirror_mode": {
    "name": "ipython",
    "version": 3
   },
   "file_extension": ".py",
   "mimetype": "text/x-python",
   "name": "python",
   "nbconvert_exporter": "python",
   "pygments_lexer": "ipython3",
   "version": "3.10.13"
  }
 },
 "nbformat": 4,
 "nbformat_minor": 4
}
