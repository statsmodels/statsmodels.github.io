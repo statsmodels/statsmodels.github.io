{
 "cells": [
  {
   "cell_type": "markdown",
   "metadata": {},
   "source": [
    "# Prediction (out of sample)"
   ]
  },
  {
   "cell_type": "code",
   "execution_count": 1,
   "metadata": {
    "execution": {
     "iopub.execute_input": "2025-09-29T16:04:25.522329Z",
     "iopub.status.busy": "2025-09-29T16:04:25.522012Z",
     "iopub.status.idle": "2025-09-29T16:04:27.619078Z",
     "shell.execute_reply": "2025-09-29T16:04:27.618312Z"
    }
   },
   "outputs": [],
   "source": [
    "%matplotlib inline"
   ]
  },
  {
   "cell_type": "code",
   "execution_count": 2,
   "metadata": {
    "execution": {
     "iopub.execute_input": "2025-09-29T16:04:27.623030Z",
     "iopub.status.busy": "2025-09-29T16:04:27.622563Z",
     "iopub.status.idle": "2025-09-29T16:04:28.919293Z",
     "shell.execute_reply": "2025-09-29T16:04:28.918389Z"
    }
   },
   "outputs": [],
   "source": [
    "import numpy as np\n",
    "import matplotlib.pyplot as plt\n",
    "\n",
    "import statsmodels.api as sm\n",
    "\n",
    "plt.rc(\"figure\", figsize=(16, 8))\n",
    "plt.rc(\"font\", size=14)"
   ]
  },
  {
   "cell_type": "markdown",
   "metadata": {},
   "source": [
    "## Artificial data"
   ]
  },
  {
   "cell_type": "code",
   "execution_count": 3,
   "metadata": {
    "execution": {
     "iopub.execute_input": "2025-09-29T16:04:28.923289Z",
     "iopub.status.busy": "2025-09-29T16:04:28.922772Z",
     "iopub.status.idle": "2025-09-29T16:04:28.931679Z",
     "shell.execute_reply": "2025-09-29T16:04:28.930815Z"
    }
   },
   "outputs": [],
   "source": [
    "nsample = 50\n",
    "sig = 0.25\n",
    "x1 = np.linspace(0, 20, nsample)\n",
    "X = np.column_stack((x1, np.sin(x1), (x1 - 5) ** 2))\n",
    "X = sm.add_constant(X)\n",
    "beta = [5.0, 0.5, 0.5, -0.02]\n",
    "y_true = np.dot(X, beta)\n",
    "y = y_true + sig * np.random.normal(size=nsample)"
   ]
  },
  {
   "cell_type": "markdown",
   "metadata": {},
   "source": [
    "## Estimation "
   ]
  },
  {
   "cell_type": "code",
   "execution_count": 4,
   "metadata": {
    "execution": {
     "iopub.execute_input": "2025-09-29T16:04:28.935788Z",
     "iopub.status.busy": "2025-09-29T16:04:28.935390Z",
     "iopub.status.idle": "2025-09-29T16:04:28.958726Z",
     "shell.execute_reply": "2025-09-29T16:04:28.957685Z"
    }
   },
   "outputs": [
    {
     "name": "stdout",
     "output_type": "stream",
     "text": [
      "                            OLS Regression Results                            \n",
      "==============================================================================\n",
      "Dep. Variable:                      y   R-squared:                       0.986\n",
      "Model:                            OLS   Adj. R-squared:                  0.985\n",
      "Method:                 Least Squares   F-statistic:                     1055.\n",
      "Date:                Mon, 29 Sep 2025   Prob (F-statistic):           2.11e-42\n",
      "Time:                        16:04:28   Log-Likelihood:                 3.2294\n",
      "No. Observations:                  50   AIC:                             1.541\n",
      "Df Residuals:                      46   BIC:                             9.189\n",
      "Df Model:                           3                                         \n",
      "Covariance Type:            nonrobust                                         \n",
      "==============================================================================\n",
      "                 coef    std err          t      P>|t|      [0.025      0.975]\n",
      "------------------------------------------------------------------------------\n",
      "const          4.9170      0.081     61.000      0.000       4.755       5.079\n",
      "x1             0.5208      0.012     41.895      0.000       0.496       0.546\n",
      "x2             0.5160      0.049     10.558      0.000       0.418       0.614\n",
      "x3            -0.0217      0.001    -19.876      0.000      -0.024      -0.019\n",
      "==============================================================================\n",
      "Omnibus:                        1.841   Durbin-Watson:                   2.056\n",
      "Prob(Omnibus):                  0.398   Jarque-Bera (JB):                1.760\n",
      "Skew:                           0.430   Prob(JB):                        0.415\n",
      "Kurtosis:                       2.675   Cond. No.                         221.\n",
      "==============================================================================\n",
      "\n",
      "Notes:\n",
      "[1] Standard Errors assume that the covariance matrix of the errors is correctly specified.\n"
     ]
    }
   ],
   "source": [
    "olsmod = sm.OLS(y, X)\n",
    "olsres = olsmod.fit()\n",
    "print(olsres.summary())"
   ]
  },
  {
   "cell_type": "markdown",
   "metadata": {},
   "source": [
    "## In-sample prediction"
   ]
  },
  {
   "cell_type": "code",
   "execution_count": 5,
   "metadata": {
    "execution": {
     "iopub.execute_input": "2025-09-29T16:04:29.020907Z",
     "iopub.status.busy": "2025-09-29T16:04:29.020528Z",
     "iopub.status.idle": "2025-09-29T16:04:29.028509Z",
     "shell.execute_reply": "2025-09-29T16:04:29.027693Z"
    }
   },
   "outputs": [
    {
     "name": "stdout",
     "output_type": "stream",
     "text": [
      "[ 4.374651    4.87696612  5.33840484  5.73084766  6.03632325  6.2499611\n",
      "  6.38079175  6.45026306  6.48871642  6.53040173  6.60785024  6.74652976\n",
      "  6.96066037  7.25087811  7.60413045  7.99582083  8.39384977  8.76388872\n",
      "  9.07502018  9.30481734  9.4430287   9.49326245  9.47239356  9.40779133\n",
      "  9.3328227   9.28137009  9.28226468  9.35454951  9.50435074  9.72387118\n",
      "  9.99267129 10.28102739 10.55481518 10.7811162  10.93362632 10.99697737\n",
      " 10.96926214 10.86234768 10.69992563 10.51361969 10.33778998 10.20388778\n",
      " 10.13528811 10.14344934 10.22603061 10.36727638 10.54060506 10.7129763\n",
      " 10.85031938 10.92313097]\n"
     ]
    }
   ],
   "source": [
    "ypred = olsres.predict(X)\n",
    "print(ypred)"
   ]
  },
  {
   "cell_type": "markdown",
   "metadata": {},
   "source": [
    "## Create a new sample of explanatory variables Xnew, predict and plot"
   ]
  },
  {
   "cell_type": "code",
   "execution_count": 6,
   "metadata": {
    "execution": {
     "iopub.execute_input": "2025-09-29T16:04:29.032043Z",
     "iopub.status.busy": "2025-09-29T16:04:29.031715Z",
     "iopub.status.idle": "2025-09-29T16:04:29.040594Z",
     "shell.execute_reply": "2025-09-29T16:04:29.039487Z"
    }
   },
   "outputs": [
    {
     "name": "stdout",
     "output_type": "stream",
     "text": [
      "[10.89597424 10.73204483 10.45157685 10.10068126  9.74005631  9.43012649\n",
      "  9.21624851  9.11760638  9.12251452  9.19127877]\n"
     ]
    }
   ],
   "source": [
    "x1n = np.linspace(20.5, 25, 10)\n",
    "Xnew = np.column_stack((x1n, np.sin(x1n), (x1n - 5) ** 2))\n",
    "Xnew = sm.add_constant(Xnew)\n",
    "ynewpred = olsres.predict(Xnew)  # predict out of sample\n",
    "print(ynewpred)"
   ]
  },
  {
   "cell_type": "markdown",
   "metadata": {},
   "source": [
    "## Plot comparison"
   ]
  },
  {
   "cell_type": "code",
   "execution_count": 7,
   "metadata": {
    "execution": {
     "iopub.execute_input": "2025-09-29T16:04:29.044075Z",
     "iopub.status.busy": "2025-09-29T16:04:29.043747Z",
     "iopub.status.idle": "2025-09-29T16:04:29.326181Z",
     "shell.execute_reply": "2025-09-29T16:04:29.323960Z"
    }
   },
   "outputs": [
    {
     "data": {
      "text/plain": [
       "<matplotlib.legend.Legend at 0x7fc6084a2170>"
      ]
     },
     "execution_count": 7,
     "metadata": {},
     "output_type": "execute_result"
    },
    {
     "data": {
      "image/png": "[encoded data removed]",
      "text/plain": [
       "<Figure size 1600x800 with 1 Axes>"
      ]
     },
     "metadata": {},
     "output_type": "display_data"
    }
   ],
   "source": [
    "import matplotlib.pyplot as plt\n",
    "\n",
    "fig, ax = plt.subplots()\n",
    "ax.plot(x1, y, \"o\", label=\"Data\")\n",
    "ax.plot(x1, y_true, \"b-\", label=\"True\")\n",
    "ax.plot(np.hstack((x1, x1n)), np.hstack((ypred, ynewpred)), \"r\", label=\"OLS prediction\")\n",
    "ax.legend(loc=\"best\")"
   ]
  },
  {
   "cell_type": "markdown",
   "metadata": {},
   "source": [
    "## Predicting with Formulas"
   ]
  },
  {
   "cell_type": "markdown",
   "metadata": {},
   "source": [
    "Using formulas can make both estimation and prediction a lot easier"
   ]
  },
  {
   "cell_type": "code",
   "execution_count": 8,
   "metadata": {
    "execution": {
     "iopub.execute_input": "2025-09-29T16:04:29.329600Z",
     "iopub.status.busy": "2025-09-29T16:04:29.329221Z",
     "iopub.status.idle": "2025-09-29T16:04:29.341067Z",
     "shell.execute_reply": "2025-09-29T16:04:29.340209Z"
    }
   },
   "outputs": [],
   "source": [
    "from statsmodels.formula.api import ols\n",
    "\n",
    "data = {\"x1\": x1, \"y\": y}\n",
    "\n",
    "res = ols(\"y ~ x1 + np.sin(x1) + I((x1-5)**2)\", data=data).fit()"
   ]
  },
  {
   "cell_type": "markdown",
   "metadata": {},
   "source": [
    "We use the `I` to indicate use of the Identity transform. Ie., we do not want any expansion magic from using `**2`"
   ]
  },
  {
   "cell_type": "code",
   "execution_count": 9,
   "metadata": {
    "execution": {
     "iopub.execute_input": "2025-09-29T16:04:29.344737Z",
     "iopub.status.busy": "2025-09-29T16:04:29.344382Z",
     "iopub.status.idle": "2025-09-29T16:04:29.354022Z",
     "shell.execute_reply": "2025-09-29T16:04:29.353319Z"
    }
   },
   "outputs": [
    {
     "data": {
      "text/plain": [
       "Intercept           4.917026\n",
       "x1                  0.520822\n",
       "np.sin(x1)          0.515963\n",
       "I((x1 - 5) ** 2)   -0.021695\n",
       "dtype: float64"
      ]
     },
     "execution_count": 9,
     "metadata": {},
     "output_type": "execute_result"
    }
   ],
   "source": [
    "res.params"
   ]
  },
  {
   "cell_type": "markdown",
   "metadata": {},
   "source": [
    "Now we only have to pass the single variable and we get the transformed right-hand side variables automatically"
   ]
  },
  {
   "cell_type": "code",
   "execution_count": 10,
   "metadata": {
    "execution": {
     "iopub.execute_input": "2025-09-29T16:04:29.357221Z",
     "iopub.status.busy": "2025-09-29T16:04:29.356925Z",
     "iopub.status.idle": "2025-09-29T16:04:29.366801Z",
     "shell.execute_reply": "2025-09-29T16:04:29.366080Z"
    }
   },
   "outputs": [
    {
     "data": {
      "text/plain": [
       "0    10.895974\n",
       "1    10.732045\n",
       "2    10.451577\n",
       "3    10.100681\n",
       "4     9.740056\n",
       "5     9.430126\n",
       "6     9.216249\n",
       "7     9.117606\n",
       "8     9.122515\n",
       "9     9.191279\n",
       "dtype: float64"
      ]
     },
     "execution_count": 10,
     "metadata": {},
     "output_type": "execute_result"
    }
   ],
   "source": [
    "res.predict(exog=dict(x1=x1n))"
   ]
  }
 ],
 "metadata": {
  "kernelspec": {
   "display_name": "Python 3",
   "language": "python",
   "name": "python3"
  },
  "language_info": {
   "codemirror_mode": {
    "name": "ipython",
    "version": 3
   },
   "file_extension": ".py",
   "mimetype": "text/x-python",
   "name": "python",
   "nbconvert_exporter": "python",
   "pygments_lexer": "ipython3",
   "version": "3.10.18"
  }
 },
 "nbformat": 4,
 "nbformat_minor": 4
}
