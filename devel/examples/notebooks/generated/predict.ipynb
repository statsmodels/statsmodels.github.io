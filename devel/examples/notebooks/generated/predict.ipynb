{
 "cells": [
  {
   "cell_type": "markdown",
   "metadata": {},
   "source": [
    "# Prediction (out of sample)"
   ]
  },
  {
   "cell_type": "code",
   "execution_count": 1,
   "metadata": {
    "execution": {
     "iopub.execute_input": "2024-03-29T17:54:34.540215Z",
     "iopub.status.busy": "2024-03-29T17:54:34.539963Z",
     "iopub.status.idle": "2024-03-29T17:54:36.334118Z",
     "shell.execute_reply": "2024-03-29T17:54:36.332904Z"
    }
   },
   "outputs": [],
   "source": [
    "%matplotlib inline"
   ]
  },
  {
   "cell_type": "code",
   "execution_count": 2,
   "metadata": {
    "execution": {
     "iopub.execute_input": "2024-03-29T17:54:36.338518Z",
     "iopub.status.busy": "2024-03-29T17:54:36.337389Z",
     "iopub.status.idle": "2024-03-29T17:54:39.586921Z",
     "shell.execute_reply": "2024-03-29T17:54:39.586166Z"
    }
   },
   "outputs": [],
   "source": [
    "import numpy as np\n",
    "import matplotlib.pyplot as plt\n",
    "\n",
    "import statsmodels.api as sm\n",
    "\n",
    "plt.rc(\"figure\", figsize=(16, 8))\n",
    "plt.rc(\"font\", size=14)"
   ]
  },
  {
   "cell_type": "markdown",
   "metadata": {},
   "source": [
    "## Artificial data"
   ]
  },
  {
   "cell_type": "code",
   "execution_count": 3,
   "metadata": {
    "execution": {
     "iopub.execute_input": "2024-03-29T17:54:39.590822Z",
     "iopub.status.busy": "2024-03-29T17:54:39.590349Z",
     "iopub.status.idle": "2024-03-29T17:54:39.607246Z",
     "shell.execute_reply": "2024-03-29T17:54:39.606601Z"
    }
   },
   "outputs": [],
   "source": [
    "nsample = 50\n",
    "sig = 0.25\n",
    "x1 = np.linspace(0, 20, nsample)\n",
    "X = np.column_stack((x1, np.sin(x1), (x1 - 5) ** 2))\n",
    "X = sm.add_constant(X)\n",
    "beta = [5.0, 0.5, 0.5, -0.02]\n",
    "y_true = np.dot(X, beta)\n",
    "y = y_true + sig * np.random.normal(size=nsample)"
   ]
  },
  {
   "cell_type": "markdown",
   "metadata": {},
   "source": [
    "## Estimation "
   ]
  },
  {
   "cell_type": "code",
   "execution_count": 4,
   "metadata": {
    "execution": {
     "iopub.execute_input": "2024-03-29T17:54:39.611080Z",
     "iopub.status.busy": "2024-03-29T17:54:39.610794Z",
     "iopub.status.idle": "2024-03-29T17:54:39.667972Z",
     "shell.execute_reply": "2024-03-29T17:54:39.667285Z"
    }
   },
   "outputs": [
    {
     "name": "stdout",
     "output_type": "stream",
     "text": [
      "                            OLS Regression Results                            \n",
      "==============================================================================\n",
      "Dep. Variable:                      y   R-squared:                       0.980\n",
      "Model:                            OLS   Adj. R-squared:                  0.978\n",
      "Method:                 Least Squares   F-statistic:                     738.4\n",
      "Date:                Fri, 29 Mar 2024   Prob (F-statistic):           6.76e-39\n",
      "Time:                        17:54:39   Log-Likelihood:                -3.1686\n",
      "No. Observations:                  50   AIC:                             14.34\n",
      "Df Residuals:                      46   BIC:                             21.99\n",
      "Df Model:                           3                                         \n",
      "Covariance Type:            nonrobust                                         \n",
      "==============================================================================\n",
      "                 coef    std err          t      P>|t|      [0.025      0.975]\n",
      "------------------------------------------------------------------------------\n",
      "const          5.0678      0.092     55.319      0.000       4.883       5.252\n",
      "x1             0.4901      0.014     34.690      0.000       0.462       0.519\n",
      "x2             0.4704      0.056      8.469      0.000       0.359       0.582\n",
      "x3            -0.0200      0.001    -16.131      0.000      -0.023      -0.018\n",
      "==============================================================================\n",
      "Omnibus:                        1.838   Durbin-Watson:                   2.354\n",
      "Prob(Omnibus):                  0.399   Jarque-Bera (JB):                1.083\n",
      "Skew:                           0.326   Prob(JB):                        0.582\n",
      "Kurtosis:                       3.308   Cond. No.                         221.\n",
      "==============================================================================\n",
      "\n",
      "Notes:\n",
      "[1] Standard Errors assume that the covariance matrix of the errors is correctly specified.\n"
     ]
    }
   ],
   "source": [
    "olsmod = sm.OLS(y, X)\n",
    "olsres = olsmod.fit()\n",
    "print(olsres.summary())"
   ]
  },
  {
   "cell_type": "markdown",
   "metadata": {},
   "source": [
    "## In-sample prediction"
   ]
  },
  {
   "cell_type": "code",
   "execution_count": 5,
   "metadata": {
    "execution": {
     "iopub.execute_input": "2024-03-29T17:54:39.675968Z",
     "iopub.status.busy": "2024-03-29T17:54:39.675207Z",
     "iopub.status.idle": "2024-03-29T17:54:39.682792Z",
     "shell.execute_reply": "2024-03-29T17:54:39.682072Z"
    }
   },
   "outputs": [
    {
     "name": "stdout",
     "output_type": "stream",
     "text": [
      "[ 4.56755664  5.03265958  5.4604187   5.82519768  6.11061221  6.31222189\n",
      "  6.43825978  6.50827972  6.5499437   6.59447707  6.6715383   6.80434617\n",
      "  7.00586502  7.27667471  7.60487537  7.96804251  8.3369113   8.68018471\n",
      "  8.9696755   9.18493732  9.316624    9.36802506  9.35452528  9.30107705\n",
      "  9.23810068  9.19648653  9.20251973  9.27356165  9.41519748  9.62031857\n",
      "  9.87029037 10.13801405 10.39237877 10.60337304 10.74701561 10.80929546\n",
      " 10.78847378 10.69536968 10.55158261 10.38594365 10.22977863 10.11176141\n",
      " 10.05320281 10.06454933 10.14366681 10.27619108 10.43788792 10.59863471\n",
      " 10.72736946 10.79719425]\n"
     ]
    }
   ],
   "source": [
    "ypred = olsres.predict(X)\n",
    "print(ypred)"
   ]
  },
  {
   "cell_type": "markdown",
   "metadata": {},
   "source": [
    "## Create a new sample of explanatory variables Xnew, predict and plot"
   ]
  },
  {
   "cell_type": "code",
   "execution_count": 6,
   "metadata": {
    "execution": {
     "iopub.execute_input": "2024-03-29T17:54:39.685971Z",
     "iopub.status.busy": "2024-03-29T17:54:39.685406Z",
     "iopub.status.idle": "2024-03-29T17:54:39.698441Z",
     "shell.execute_reply": "2024-03-29T17:54:39.697539Z"
    }
   },
   "outputs": [
    {
     "name": "stdout",
     "output_type": "stream",
     "text": [
      "[10.77654829 10.63109206 10.3792728  10.0631295   9.73800024  9.45897353\n",
      "  9.2674007   9.18077165  9.18843274  9.25419513]\n"
     ]
    }
   ],
   "source": [
    "x1n = np.linspace(20.5, 25, 10)\n",
    "Xnew = np.column_stack((x1n, np.sin(x1n), (x1n - 5) ** 2))\n",
    "Xnew = sm.add_constant(Xnew)\n",
    "ynewpred = olsres.predict(Xnew)  # predict out of sample\n",
    "print(ynewpred)"
   ]
  },
  {
   "cell_type": "markdown",
   "metadata": {},
   "source": [
    "## Plot comparison"
   ]
  },
  {
   "cell_type": "code",
   "execution_count": 7,
   "metadata": {
    "execution": {
     "iopub.execute_input": "2024-03-29T17:54:39.702153Z",
     "iopub.status.busy": "2024-03-29T17:54:39.701109Z",
     "iopub.status.idle": "2024-03-29T17:54:40.658156Z",
     "shell.execute_reply": "2024-03-29T17:54:40.657302Z"
    }
   },
   "outputs": [
    {
     "data": {
      "text/plain": [
       "<matplotlib.legend.Legend at 0x7f942721fc70>"
      ]
     },
     "execution_count": 7,
     "metadata": {},
     "output_type": "execute_result"
    },
    {
     "data": {
      "image/png": "[encoded data removed]",
      "text/plain": [
       "<Figure size 1600x800 with 1 Axes>"
      ]
     },
     "metadata": {},
     "output_type": "display_data"
    }
   ],
   "source": [
    "import matplotlib.pyplot as plt\n",
    "\n",
    "fig, ax = plt.subplots()\n",
    "ax.plot(x1, y, \"o\", label=\"Data\")\n",
    "ax.plot(x1, y_true, \"b-\", label=\"True\")\n",
    "ax.plot(np.hstack((x1, x1n)), np.hstack((ypred, ynewpred)), \"r\", label=\"OLS prediction\")\n",
    "ax.legend(loc=\"best\")"
   ]
  },
  {
   "cell_type": "markdown",
   "metadata": {},
   "source": [
    "## Predicting with Formulas"
   ]
  },
  {
   "cell_type": "markdown",
   "metadata": {},
   "source": [
    "Using formulas can make both estimation and prediction a lot easier"
   ]
  },
  {
   "cell_type": "code",
   "execution_count": 8,
   "metadata": {
    "execution": {
     "iopub.execute_input": "2024-03-29T17:54:40.661632Z",
     "iopub.status.busy": "2024-03-29T17:54:40.661268Z",
     "iopub.status.idle": "2024-03-29T17:54:40.681369Z",
     "shell.execute_reply": "2024-03-29T17:54:40.680631Z"
    }
   },
   "outputs": [],
   "source": [
    "from statsmodels.formula.api import ols\n",
    "\n",
    "data = {\"x1\": x1, \"y\": y}\n",
    "\n",
    "res = ols(\"y ~ x1 + np.sin(x1) + I((x1-5)**2)\", data=data).fit()"
   ]
  },
  {
   "cell_type": "markdown",
   "metadata": {},
   "source": [
    "We use the `I` to indicate use of the Identity transform. Ie., we do not want any expansion magic from using `**2`"
   ]
  },
  {
   "cell_type": "code",
   "execution_count": 9,
   "metadata": {
    "execution": {
     "iopub.execute_input": "2024-03-29T17:54:40.685134Z",
     "iopub.status.busy": "2024-03-29T17:54:40.684439Z",
     "iopub.status.idle": "2024-03-29T17:54:40.699124Z",
     "shell.execute_reply": "2024-03-29T17:54:40.698300Z"
    }
   },
   "outputs": [
    {
     "data": {
      "text/plain": [
       "Intercept           5.067825\n",
       "x1                  0.490117\n",
       "np.sin(x1)          0.470399\n",
       "I((x1 - 5) ** 2)   -0.020011\n",
       "dtype: float64"
      ]
     },
     "execution_count": 9,
     "metadata": {},
     "output_type": "execute_result"
    }
   ],
   "source": [
    "res.params"
   ]
  },
  {
   "cell_type": "markdown",
   "metadata": {},
   "source": [
    "Now we only have to pass the single variable and we get the transformed right-hand side variables automatically"
   ]
  },
  {
   "cell_type": "code",
   "execution_count": 10,
   "metadata": {
    "execution": {
     "iopub.execute_input": "2024-03-29T17:54:40.703178Z",
     "iopub.status.busy": "2024-03-29T17:54:40.702135Z",
     "iopub.status.idle": "2024-03-29T17:54:40.721076Z",
     "shell.execute_reply": "2024-03-29T17:54:40.720038Z"
    }
   },
   "outputs": [
    {
     "data": {
      "text/plain": [
       "0    10.776548\n",
       "1    10.631092\n",
       "2    10.379273\n",
       "3    10.063129\n",
       "4     9.738000\n",
       "5     9.458974\n",
       "6     9.267401\n",
       "7     9.180772\n",
       "8     9.188433\n",
       "9     9.254195\n",
       "dtype: float64"
      ]
     },
     "execution_count": 10,
     "metadata": {},
     "output_type": "execute_result"
    }
   ],
   "source": [
    "res.predict(exog=dict(x1=x1n))"
   ]
  }
 ],
 "metadata": {
  "kernelspec": {
   "display_name": "Python 3",
   "language": "python",
   "name": "python3"
  },
  "language_info": {
   "codemirror_mode": {
    "name": "ipython",
    "version": 3
   },
   "file_extension": ".py",
   "mimetype": "text/x-python",
   "name": "python",
   "nbconvert_exporter": "python",
   "pygments_lexer": "ipython3",
   "version": "3.10.14"
  }
 },
 "nbformat": 4,
 "nbformat_minor": 4
}
