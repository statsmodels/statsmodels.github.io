{
 "cells": [
  {
   "cell_type": "markdown",
   "metadata": {},
   "source": [
    "# Prediction (out of sample)"
   ]
  },
  {
   "cell_type": "code",
   "execution_count": 1,
   "metadata": {
    "execution": {
     "iopub.execute_input": "2025-01-07T15:24:51.279420Z",
     "iopub.status.busy": "2025-01-07T15:24:51.279190Z",
     "iopub.status.idle": "2025-01-07T15:24:53.092996Z",
     "shell.execute_reply": "2025-01-07T15:24:53.092335Z"
    }
   },
   "outputs": [],
   "source": [
    "%matplotlib inline"
   ]
  },
  {
   "cell_type": "code",
   "execution_count": 2,
   "metadata": {
    "execution": {
     "iopub.execute_input": "2025-01-07T15:24:53.095983Z",
     "iopub.status.busy": "2025-01-07T15:24:53.095530Z",
     "iopub.status.idle": "2025-01-07T15:24:56.471343Z",
     "shell.execute_reply": "2025-01-07T15:24:56.461920Z"
    }
   },
   "outputs": [],
   "source": [
    "import numpy as np\n",
    "import matplotlib.pyplot as plt\n",
    "\n",
    "import statsmodels.api as sm\n",
    "\n",
    "plt.rc(\"figure\", figsize=(16, 8))\n",
    "plt.rc(\"font\", size=14)"
   ]
  },
  {
   "cell_type": "markdown",
   "metadata": {},
   "source": [
    "## Artificial data"
   ]
  },
  {
   "cell_type": "code",
   "execution_count": 3,
   "metadata": {
    "execution": {
     "iopub.execute_input": "2025-01-07T15:24:56.477590Z",
     "iopub.status.busy": "2025-01-07T15:24:56.474843Z",
     "iopub.status.idle": "2025-01-07T15:24:56.491646Z",
     "shell.execute_reply": "2025-01-07T15:24:56.490896Z"
    }
   },
   "outputs": [],
   "source": [
    "nsample = 50\n",
    "sig = 0.25\n",
    "x1 = np.linspace(0, 20, nsample)\n",
    "X = np.column_stack((x1, np.sin(x1), (x1 - 5) ** 2))\n",
    "X = sm.add_constant(X)\n",
    "beta = [5.0, 0.5, 0.5, -0.02]\n",
    "y_true = np.dot(X, beta)\n",
    "y = y_true + sig * np.random.normal(size=nsample)"
   ]
  },
  {
   "cell_type": "markdown",
   "metadata": {},
   "source": [
    "## Estimation "
   ]
  },
  {
   "cell_type": "code",
   "execution_count": 4,
   "metadata": {
    "execution": {
     "iopub.execute_input": "2025-01-07T15:24:56.494068Z",
     "iopub.status.busy": "2025-01-07T15:24:56.493837Z",
     "iopub.status.idle": "2025-01-07T15:24:56.544766Z",
     "shell.execute_reply": "2025-01-07T15:24:56.540894Z"
    }
   },
   "outputs": [
    {
     "name": "stdout",
     "output_type": "stream",
     "text": [
      "                            OLS Regression Results                            \n",
      "==============================================================================\n",
      "Dep. Variable:                      y   R-squared:                       0.985\n",
      "Model:                            OLS   Adj. R-squared:                  0.984\n",
      "Method:                 Least Squares   F-statistic:                     1023.\n",
      "Date:                Tue, 07 Jan 2025   Prob (F-statistic):           4.27e-42\n",
      "Time:                        15:24:56   Log-Likelihood:                 4.8000\n",
      "No. Observations:                  50   AIC:                            -1.600\n",
      "Df Residuals:                      46   BIC:                             6.048\n",
      "Df Model:                           3                                         \n",
      "Covariance Type:            nonrobust                                         \n",
      "==============================================================================\n",
      "                 coef    std err          t      P>|t|      [0.025      0.975]\n",
      "------------------------------------------------------------------------------\n",
      "const          5.1297      0.078     65.669      0.000       4.972       5.287\n",
      "x1             0.4830      0.012     40.091      0.000       0.459       0.507\n",
      "x2             0.5356      0.047     11.309      0.000       0.440       0.631\n",
      "x3            -0.0190      0.001    -17.981      0.000      -0.021      -0.017\n",
      "==============================================================================\n",
      "Omnibus:                        0.917   Durbin-Watson:                   1.838\n",
      "Prob(Omnibus):                  0.632   Jarque-Bera (JB):                0.852\n",
      "Skew:                           0.064   Prob(JB):                        0.653\n",
      "Kurtosis:                       2.373   Cond. No.                         221.\n",
      "==============================================================================\n",
      "\n",
      "Notes:\n",
      "[1] Standard Errors assume that the covariance matrix of the errors is correctly specified.\n"
     ]
    }
   ],
   "source": [
    "olsmod = sm.OLS(y, X)\n",
    "olsres = olsmod.fit()\n",
    "print(olsres.summary())"
   ]
  },
  {
   "cell_type": "markdown",
   "metadata": {},
   "source": [
    "## In-sample prediction"
   ]
  },
  {
   "cell_type": "code",
   "execution_count": 5,
   "metadata": {
    "execution": {
     "iopub.execute_input": "2025-01-07T15:24:56.547353Z",
     "iopub.status.busy": "2025-01-07T15:24:56.547096Z",
     "iopub.status.idle": "2025-01-07T15:24:56.571514Z",
     "shell.execute_reply": "2025-01-07T15:24:56.566101Z"
    }
   },
   "outputs": [
    {
     "name": "stdout",
     "output_type": "stream",
     "text": [
      "[ 4.65421947  5.13840838  5.58133205  5.95380087  6.23715962  6.42635244\n",
      "  6.53075351  6.57262692  6.58346871  6.59883218  6.65248656  6.77086887\n",
      "  6.96874034  7.24676119  7.5913822   7.97707075  8.37050581  8.73605245\n",
      "  9.04161659  9.26391792  9.39231486  9.43055288  9.39614915  9.31751453\n",
      "  9.22928573  9.1666346   9.15948951  9.22761818  9.37737991  9.60068077\n",
      "  9.87630341 10.17339299 10.45652658 10.69153301 10.85110711 10.91929589\n",
      " 10.89411955 10.78789675 10.62522072 10.43891862 10.26465817 10.13508752\n",
      " 10.07447126 10.09470382 10.19335523 10.35407038 10.54925612 10.74461471\n",
      " 10.90477886 10.99912247]\n"
     ]
    }
   ],
   "source": [
    "ypred = olsres.predict(X)\n",
    "print(ypred)"
   ]
  },
  {
   "cell_type": "markdown",
   "metadata": {},
   "source": [
    "## Create a new sample of explanatory variables Xnew, predict and plot"
   ]
  },
  {
   "cell_type": "code",
   "execution_count": 6,
   "metadata": {
    "execution": {
     "iopub.execute_input": "2025-01-07T15:24:56.576458Z",
     "iopub.status.busy": "2025-01-07T15:24:56.576157Z",
     "iopub.status.idle": "2025-01-07T15:24:56.593545Z",
     "shell.execute_reply": "2025-01-07T15:24:56.590138Z"
    }
   },
   "outputs": [
    {
     "name": "stdout",
     "output_type": "stream",
     "text": [
      "[10.99550472 10.85166016 10.58859293 10.25416875  9.9113958   9.62299803\n",
      "  9.43605823  9.37049046  9.41416446  9.52587547]\n"
     ]
    }
   ],
   "source": [
    "x1n = np.linspace(20.5, 25, 10)\n",
    "Xnew = np.column_stack((x1n, np.sin(x1n), (x1n - 5) ** 2))\n",
    "Xnew = sm.add_constant(Xnew)\n",
    "ynewpred = olsres.predict(Xnew)  # predict out of sample\n",
    "print(ynewpred)"
   ]
  },
  {
   "cell_type": "markdown",
   "metadata": {},
   "source": [
    "## Plot comparison"
   ]
  },
  {
   "cell_type": "code",
   "execution_count": 7,
   "metadata": {
    "execution": {
     "iopub.execute_input": "2025-01-07T15:24:56.598274Z",
     "iopub.status.busy": "2025-01-07T15:24:56.598047Z",
     "iopub.status.idle": "2025-01-07T15:24:57.321514Z",
     "shell.execute_reply": "2025-01-07T15:24:57.320487Z"
    }
   },
   "outputs": [
    {
     "data": {
      "text/plain": [
       "<matplotlib.legend.Legend at 0x7f0648b0bd00>"
      ]
     },
     "execution_count": 7,
     "metadata": {},
     "output_type": "execute_result"
    },
    {
     "data": {
      "image/png": "[encoded data removed]",
      "text/plain": [
       "<Figure size 1600x800 with 1 Axes>"
      ]
     },
     "metadata": {},
     "output_type": "display_data"
    }
   ],
   "source": [
    "import matplotlib.pyplot as plt\n",
    "\n",
    "fig, ax = plt.subplots()\n",
    "ax.plot(x1, y, \"o\", label=\"Data\")\n",
    "ax.plot(x1, y_true, \"b-\", label=\"True\")\n",
    "ax.plot(np.hstack((x1, x1n)), np.hstack((ypred, ynewpred)), \"r\", label=\"OLS prediction\")\n",
    "ax.legend(loc=\"best\")"
   ]
  },
  {
   "cell_type": "markdown",
   "metadata": {},
   "source": [
    "## Predicting with Formulas"
   ]
  },
  {
   "cell_type": "markdown",
   "metadata": {},
   "source": [
    "Using formulas can make both estimation and prediction a lot easier"
   ]
  },
  {
   "cell_type": "code",
   "execution_count": 8,
   "metadata": {
    "execution": {
     "iopub.execute_input": "2025-01-07T15:24:57.327982Z",
     "iopub.status.busy": "2025-01-07T15:24:57.327753Z",
     "iopub.status.idle": "2025-01-07T15:24:57.349183Z",
     "shell.execute_reply": "2025-01-07T15:24:57.348583Z"
    }
   },
   "outputs": [],
   "source": [
    "from statsmodels.formula.api import ols\n",
    "\n",
    "data = {\"x1\": x1, \"y\": y}\n",
    "\n",
    "res = ols(\"y ~ x1 + np.sin(x1) + I((x1-5)**2)\", data=data).fit()"
   ]
  },
  {
   "cell_type": "markdown",
   "metadata": {},
   "source": [
    "We use the `I` to indicate use of the Identity transform. Ie., we do not want any expansion magic from using `**2`"
   ]
  },
  {
   "cell_type": "code",
   "execution_count": 9,
   "metadata": {
    "execution": {
     "iopub.execute_input": "2025-01-07T15:24:57.355000Z",
     "iopub.status.busy": "2025-01-07T15:24:57.354716Z",
     "iopub.status.idle": "2025-01-07T15:24:57.372909Z",
     "shell.execute_reply": "2025-01-07T15:24:57.372323Z"
    }
   },
   "outputs": [
    {
     "data": {
      "text/plain": [
       "Intercept           5.129694\n",
       "x1                  0.482986\n",
       "np.sin(x1)          0.535598\n",
       "I((x1 - 5) ** 2)   -0.019019\n",
       "dtype: float64"
      ]
     },
     "execution_count": 9,
     "metadata": {},
     "output_type": "execute_result"
    }
   ],
   "source": [
    "res.params"
   ]
  },
  {
   "cell_type": "markdown",
   "metadata": {},
   "source": [
    "Now we only have to pass the single variable and we get the transformed right-hand side variables automatically"
   ]
  },
  {
   "cell_type": "code",
   "execution_count": 10,
   "metadata": {
    "execution": {
     "iopub.execute_input": "2025-01-07T15:24:57.379005Z",
     "iopub.status.busy": "2025-01-07T15:24:57.374943Z",
     "iopub.status.idle": "2025-01-07T15:24:57.394991Z",
     "shell.execute_reply": "2025-01-07T15:24:57.394396Z"
    }
   },
   "outputs": [
    {
     "data": {
      "text/plain": [
       "0    10.995505\n",
       "1    10.851660\n",
       "2    10.588593\n",
       "3    10.254169\n",
       "4     9.911396\n",
       "5     9.622998\n",
       "6     9.436058\n",
       "7     9.370490\n",
       "8     9.414164\n",
       "9     9.525875\n",
       "dtype: float64"
      ]
     },
     "execution_count": 10,
     "metadata": {},
     "output_type": "execute_result"
    }
   ],
   "source": [
    "res.predict(exog=dict(x1=x1n))"
   ]
  }
 ],
 "metadata": {
  "kernelspec": {
   "display_name": "Python 3",
   "language": "python",
   "name": "python3"
  },
  "language_info": {
   "codemirror_mode": {
    "name": "ipython",
    "version": 3
   },
   "file_extension": ".py",
   "mimetype": "text/x-python",
   "name": "python",
   "nbconvert_exporter": "python",
   "pygments_lexer": "ipython3",
   "version": "3.10.15"
  }
 },
 "nbformat": 4,
 "nbformat_minor": 4
}
