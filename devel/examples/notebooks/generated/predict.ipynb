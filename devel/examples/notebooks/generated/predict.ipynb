{
 "cells": [
  {
   "cell_type": "markdown",
   "metadata": {},
   "source": [
    "# Prediction (out of sample)"
   ]
  },
  {
   "cell_type": "code",
   "execution_count": 1,
   "metadata": {
    "execution": {
     "iopub.execute_input": "2024-07-08T00:15:20.964078Z",
     "iopub.status.busy": "2024-07-08T00:15:20.963857Z",
     "iopub.status.idle": "2024-07-08T00:15:22.349298Z",
     "shell.execute_reply": "2024-07-08T00:15:22.348547Z"
    }
   },
   "outputs": [],
   "source": [
    "%matplotlib inline"
   ]
  },
  {
   "cell_type": "code",
   "execution_count": 2,
   "metadata": {
    "execution": {
     "iopub.execute_input": "2024-07-08T00:15:22.353028Z",
     "iopub.status.busy": "2024-07-08T00:15:22.352474Z",
     "iopub.status.idle": "2024-07-08T00:15:24.730096Z",
     "shell.execute_reply": "2024-07-08T00:15:24.729337Z"
    }
   },
   "outputs": [],
   "source": [
    "import numpy as np\n",
    "import matplotlib.pyplot as plt\n",
    "\n",
    "import statsmodels.api as sm\n",
    "\n",
    "plt.rc(\"figure\", figsize=(16, 8))\n",
    "plt.rc(\"font\", size=14)"
   ]
  },
  {
   "cell_type": "markdown",
   "metadata": {},
   "source": [
    "## Artificial data"
   ]
  },
  {
   "cell_type": "code",
   "execution_count": 3,
   "metadata": {
    "execution": {
     "iopub.execute_input": "2024-07-08T00:15:24.734062Z",
     "iopub.status.busy": "2024-07-08T00:15:24.733366Z",
     "iopub.status.idle": "2024-07-08T00:15:24.745829Z",
     "shell.execute_reply": "2024-07-08T00:15:24.745178Z"
    }
   },
   "outputs": [],
   "source": [
    "nsample = 50\n",
    "sig = 0.25\n",
    "x1 = np.linspace(0, 20, nsample)\n",
    "X = np.column_stack((x1, np.sin(x1), (x1 - 5) ** 2))\n",
    "X = sm.add_constant(X)\n",
    "beta = [5.0, 0.5, 0.5, -0.02]\n",
    "y_true = np.dot(X, beta)\n",
    "y = y_true + sig * np.random.normal(size=nsample)"
   ]
  },
  {
   "cell_type": "markdown",
   "metadata": {},
   "source": [
    "## Estimation "
   ]
  },
  {
   "cell_type": "code",
   "execution_count": 4,
   "metadata": {
    "execution": {
     "iopub.execute_input": "2024-07-08T00:15:24.751258Z",
     "iopub.status.busy": "2024-07-08T00:15:24.749583Z",
     "iopub.status.idle": "2024-07-08T00:15:24.777976Z",
     "shell.execute_reply": "2024-07-08T00:15:24.777273Z"
    }
   },
   "outputs": [
    {
     "name": "stdout",
     "output_type": "stream",
     "text": [
      "                            OLS Regression Results                            \n",
      "==============================================================================\n",
      "Dep. Variable:                      y   R-squared:                       0.979\n",
      "Model:                            OLS   Adj. R-squared:                  0.978\n",
      "Method:                 Least Squares   F-statistic:                     729.5\n",
      "Date:                Mon, 08 Jul 2024   Prob (F-statistic):           8.89e-39\n",
      "Time:                        00:15:24   Log-Likelihood:                -5.4346\n",
      "No. Observations:                  50   AIC:                             18.87\n",
      "Df Residuals:                      46   BIC:                             26.52\n",
      "Df Model:                           3                                         \n",
      "Covariance Type:            nonrobust                                         \n",
      "==============================================================================\n",
      "                 coef    std err          t      P>|t|      [0.025      0.975]\n",
      "------------------------------------------------------------------------------\n",
      "const          4.9046      0.096     51.166      0.000       4.712       5.098\n",
      "x1             0.5137      0.015     34.746      0.000       0.484       0.543\n",
      "x2             0.5070      0.058      8.723      0.000       0.390       0.624\n",
      "x3            -0.0213      0.001    -16.406      0.000      -0.024      -0.019\n",
      "==============================================================================\n",
      "Omnibus:                        0.742   Durbin-Watson:                   2.594\n",
      "Prob(Omnibus):                  0.690   Jarque-Bera (JB):                0.842\n",
      "Skew:                           0.243   Prob(JB):                        0.656\n",
      "Kurtosis:                       2.589   Cond. No.                         221.\n",
      "==============================================================================\n",
      "\n",
      "Notes:\n",
      "[1] Standard Errors assume that the covariance matrix of the errors is correctly specified.\n"
     ]
    }
   ],
   "source": [
    "olsmod = sm.OLS(y, X)\n",
    "olsres = olsmod.fit()\n",
    "print(olsres.summary())"
   ]
  },
  {
   "cell_type": "markdown",
   "metadata": {},
   "source": [
    "## In-sample prediction"
   ]
  },
  {
   "cell_type": "code",
   "execution_count": 5,
   "metadata": {
    "execution": {
     "iopub.execute_input": "2024-07-08T00:15:24.783751Z",
     "iopub.status.busy": "2024-07-08T00:15:24.781984Z",
     "iopub.status.idle": "2024-07-08T00:15:24.791398Z",
     "shell.execute_reply": "2024-07-08T00:15:24.790765Z"
    }
   },
   "outputs": [
    {
     "name": "stdout",
     "output_type": "stream",
     "text": [
      "[ 4.37224707  4.86650554  5.32060737  5.70692305  6.00779443  6.21843589\n",
      "  6.34772059  6.41672263  6.45525468  6.49696978  6.5738323   6.71086624\n",
      "  6.92204387  7.20799015  7.55588002  7.94154553  8.33344656  8.6978528\n",
      "  9.00438551  9.23100868  9.36764949  9.41785321  9.39820077  9.33558453\n",
      "  9.26278995  9.21310904  9.21487054  9.28678566  9.43487379  9.65147362\n",
      "  9.91650179 10.20075261 10.47069641 10.69398838 10.84478277 10.90797922\n",
      " 10.88170375 10.77761662 10.61899661 10.43691635 10.26513719 10.13456232\n",
      " 10.06815945 10.07718726 10.15934568 10.29915373 10.47049305 10.64089903\n",
      " 10.77689469 10.84949083]\n"
     ]
    }
   ],
   "source": [
    "ypred = olsres.predict(X)\n",
    "print(ypred)"
   ]
  },
  {
   "cell_type": "markdown",
   "metadata": {},
   "source": [
    "## Create a new sample of explanatory variables Xnew, predict and plot"
   ]
  },
  {
   "cell_type": "code",
   "execution_count": 6,
   "metadata": {
    "execution": {
     "iopub.execute_input": "2024-07-08T00:15:24.796697Z",
     "iopub.status.busy": "2024-07-08T00:15:24.795033Z",
     "iopub.status.idle": "2024-07-08T00:15:24.805630Z",
     "shell.execute_reply": "2024-07-08T00:15:24.805037Z"
    }
   },
   "outputs": [
    {
     "name": "stdout",
     "output_type": "stream",
     "text": [
      "[10.82410784 10.66434675 10.39008904 10.04664216  9.69364662  9.39047393\n",
      "  9.18169041  9.08614577  9.09235807  9.16132486]\n"
     ]
    }
   ],
   "source": [
    "x1n = np.linspace(20.5, 25, 10)\n",
    "Xnew = np.column_stack((x1n, np.sin(x1n), (x1n - 5) ** 2))\n",
    "Xnew = sm.add_constant(Xnew)\n",
    "ynewpred = olsres.predict(Xnew)  # predict out of sample\n",
    "print(ynewpred)"
   ]
  },
  {
   "cell_type": "markdown",
   "metadata": {},
   "source": [
    "## Plot comparison"
   ]
  },
  {
   "cell_type": "code",
   "execution_count": 7,
   "metadata": {
    "execution": {
     "iopub.execute_input": "2024-07-08T00:15:24.810600Z",
     "iopub.status.busy": "2024-07-08T00:15:24.809051Z",
     "iopub.status.idle": "2024-07-08T00:15:25.522903Z",
     "shell.execute_reply": "2024-07-08T00:15:25.522114Z"
    }
   },
   "outputs": [
    {
     "data": {
      "text/plain": [
       "<matplotlib.legend.Legend at 0x7f2b81e25090>"
      ]
     },
     "execution_count": 7,
     "metadata": {},
     "output_type": "execute_result"
    },
    {
     "data": {
      "image/png": "[encoded data removed]",
      "text/plain": [
       "<Figure size 1600x800 with 1 Axes>"
      ]
     },
     "metadata": {},
     "output_type": "display_data"
    }
   ],
   "source": [
    "import matplotlib.pyplot as plt\n",
    "\n",
    "fig, ax = plt.subplots()\n",
    "ax.plot(x1, y, \"o\", label=\"Data\")\n",
    "ax.plot(x1, y_true, \"b-\", label=\"True\")\n",
    "ax.plot(np.hstack((x1, x1n)), np.hstack((ypred, ynewpred)), \"r\", label=\"OLS prediction\")\n",
    "ax.legend(loc=\"best\")"
   ]
  },
  {
   "cell_type": "markdown",
   "metadata": {},
   "source": [
    "## Predicting with Formulas"
   ]
  },
  {
   "cell_type": "markdown",
   "metadata": {},
   "source": [
    "Using formulas can make both estimation and prediction a lot easier"
   ]
  },
  {
   "cell_type": "code",
   "execution_count": 8,
   "metadata": {
    "execution": {
     "iopub.execute_input": "2024-07-08T00:15:25.526501Z",
     "iopub.status.busy": "2024-07-08T00:15:25.525989Z",
     "iopub.status.idle": "2024-07-08T00:15:25.550460Z",
     "shell.execute_reply": "2024-07-08T00:15:25.549782Z"
    }
   },
   "outputs": [],
   "source": [
    "from statsmodels.formula.api import ols\n",
    "\n",
    "data = {\"x1\": x1, \"y\": y}\n",
    "\n",
    "res = ols(\"y ~ x1 + np.sin(x1) + I((x1-5)**2)\", data=data).fit()"
   ]
  },
  {
   "cell_type": "markdown",
   "metadata": {},
   "source": [
    "We use the `I` to indicate use of the Identity transform. Ie., we do not want any expansion magic from using `**2`"
   ]
  },
  {
   "cell_type": "code",
   "execution_count": 9,
   "metadata": {
    "execution": {
     "iopub.execute_input": "2024-07-08T00:15:25.554210Z",
     "iopub.status.busy": "2024-07-08T00:15:25.553738Z",
     "iopub.status.idle": "2024-07-08T00:15:25.566616Z",
     "shell.execute_reply": "2024-07-08T00:15:25.565780Z"
    }
   },
   "outputs": [
    {
     "data": {
      "text/plain": [
       "Intercept           4.904613\n",
       "x1                  0.513667\n",
       "np.sin(x1)          0.506971\n",
       "I((x1 - 5) ** 2)   -0.021295\n",
       "dtype: float64"
      ]
     },
     "execution_count": 9,
     "metadata": {},
     "output_type": "execute_result"
    }
   ],
   "source": [
    "res.params"
   ]
  },
  {
   "cell_type": "markdown",
   "metadata": {},
   "source": [
    "Now we only have to pass the single variable and we get the transformed right-hand side variables automatically"
   ]
  },
  {
   "cell_type": "code",
   "execution_count": 10,
   "metadata": {
    "execution": {
     "iopub.execute_input": "2024-07-08T00:15:25.570064Z",
     "iopub.status.busy": "2024-07-08T00:15:25.569610Z",
     "iopub.status.idle": "2024-07-08T00:15:25.586978Z",
     "shell.execute_reply": "2024-07-08T00:15:25.586323Z"
    }
   },
   "outputs": [
    {
     "data": {
      "text/plain": [
       "0    10.824108\n",
       "1    10.664347\n",
       "2    10.390089\n",
       "3    10.046642\n",
       "4     9.693647\n",
       "5     9.390474\n",
       "6     9.181690\n",
       "7     9.086146\n",
       "8     9.092358\n",
       "9     9.161325\n",
       "dtype: float64"
      ]
     },
     "execution_count": 10,
     "metadata": {},
     "output_type": "execute_result"
    }
   ],
   "source": [
    "res.predict(exog=dict(x1=x1n))"
   ]
  }
 ],
 "metadata": {
  "kernelspec": {
   "display_name": "Python 3",
   "language": "python",
   "name": "python3"
  },
  "language_info": {
   "codemirror_mode": {
    "name": "ipython",
    "version": 3
   },
   "file_extension": ".py",
   "mimetype": "text/x-python",
   "name": "python",
   "nbconvert_exporter": "python",
   "pygments_lexer": "ipython3",
   "version": "3.10.14"
  }
 },
 "nbformat": 4,
 "nbformat_minor": 4
}
