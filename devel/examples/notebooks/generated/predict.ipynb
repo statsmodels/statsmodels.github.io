{
 "cells": [
  {
   "cell_type": "markdown",
   "metadata": {},
   "source": [
    "# Prediction (out of sample)"
   ]
  },
  {
   "cell_type": "code",
   "execution_count": 1,
   "metadata": {
    "execution": {
     "iopub.execute_input": "2025-09-08T13:54:57.137074Z",
     "iopub.status.busy": "2025-09-08T13:54:57.136774Z",
     "iopub.status.idle": "2025-09-08T13:54:57.844376Z",
     "shell.execute_reply": "2025-09-08T13:54:57.843399Z"
    }
   },
   "outputs": [],
   "source": [
    "%matplotlib inline"
   ]
  },
  {
   "cell_type": "code",
   "execution_count": 2,
   "metadata": {
    "execution": {
     "iopub.execute_input": "2025-09-08T13:54:57.847550Z",
     "iopub.status.busy": "2025-09-08T13:54:57.847164Z",
     "iopub.status.idle": "2025-09-08T13:54:59.333033Z",
     "shell.execute_reply": "2025-09-08T13:54:59.332144Z"
    }
   },
   "outputs": [],
   "source": [
    "import numpy as np\n",
    "import matplotlib.pyplot as plt\n",
    "\n",
    "import statsmodels.api as sm\n",
    "\n",
    "plt.rc(\"figure\", figsize=(16, 8))\n",
    "plt.rc(\"font\", size=14)"
   ]
  },
  {
   "cell_type": "markdown",
   "metadata": {},
   "source": [
    "## Artificial data"
   ]
  },
  {
   "cell_type": "code",
   "execution_count": 3,
   "metadata": {
    "execution": {
     "iopub.execute_input": "2025-09-08T13:54:59.336580Z",
     "iopub.status.busy": "2025-09-08T13:54:59.336036Z",
     "iopub.status.idle": "2025-09-08T13:54:59.342897Z",
     "shell.execute_reply": "2025-09-08T13:54:59.341954Z"
    }
   },
   "outputs": [],
   "source": [
    "nsample = 50\n",
    "sig = 0.25\n",
    "x1 = np.linspace(0, 20, nsample)\n",
    "X = np.column_stack((x1, np.sin(x1), (x1 - 5) ** 2))\n",
    "X = sm.add_constant(X)\n",
    "beta = [5.0, 0.5, 0.5, -0.02]\n",
    "y_true = np.dot(X, beta)\n",
    "y = y_true + sig * np.random.normal(size=nsample)"
   ]
  },
  {
   "cell_type": "markdown",
   "metadata": {},
   "source": [
    "## Estimation "
   ]
  },
  {
   "cell_type": "code",
   "execution_count": 4,
   "metadata": {
    "execution": {
     "iopub.execute_input": "2025-09-08T13:54:59.345802Z",
     "iopub.status.busy": "2025-09-08T13:54:59.345511Z",
     "iopub.status.idle": "2025-09-08T13:54:59.362045Z",
     "shell.execute_reply": "2025-09-08T13:54:59.361102Z"
    }
   },
   "outputs": [
    {
     "name": "stdout",
     "output_type": "stream",
     "text": [
      "                            OLS Regression Results                            \n",
      "==============================================================================\n",
      "Dep. Variable:                      y   R-squared:                       0.982\n",
      "Model:                            OLS   Adj. R-squared:                  0.981\n",
      "Method:                 Least Squares   F-statistic:                     854.8\n",
      "Date:                Mon, 08 Sep 2025   Prob (F-statistic):           2.49e-40\n",
      "Time:                        13:54:59   Log-Likelihood:               -0.57092\n",
      "No. Observations:                  50   AIC:                             9.142\n",
      "Df Residuals:                      46   BIC:                             16.79\n",
      "Df Model:                           3                                         \n",
      "Covariance Type:            nonrobust                                         \n",
      "==============================================================================\n",
      "                 coef    std err          t      P>|t|      [0.025      0.975]\n",
      "------------------------------------------------------------------------------\n",
      "const          4.9620      0.087     57.053      0.000       4.787       5.137\n",
      "x1             0.5042      0.013     37.589      0.000       0.477       0.531\n",
      "x2             0.5853      0.053     11.101      0.000       0.479       0.691\n",
      "x3            -0.0209      0.001    -17.759      0.000      -0.023      -0.019\n",
      "==============================================================================\n",
      "Omnibus:                        3.377   Durbin-Watson:                   1.932\n",
      "Prob(Omnibus):                  0.185   Jarque-Bera (JB):                2.687\n",
      "Skew:                           0.564   Prob(JB):                        0.261\n",
      "Kurtosis:                       3.123   Cond. No.                         221.\n",
      "==============================================================================\n",
      "\n",
      "Notes:\n",
      "[1] Standard Errors assume that the covariance matrix of the errors is correctly specified.\n"
     ]
    }
   ],
   "source": [
    "olsmod = sm.OLS(y, X)\n",
    "olsres = olsmod.fit()\n",
    "print(olsres.summary())"
   ]
  },
  {
   "cell_type": "markdown",
   "metadata": {},
   "source": [
    "## In-sample prediction"
   ]
  },
  {
   "cell_type": "code",
   "execution_count": 5,
   "metadata": {
    "execution": {
     "iopub.execute_input": "2025-09-08T13:54:59.364909Z",
     "iopub.status.busy": "2025-09-08T13:54:59.364613Z",
     "iopub.status.idle": "2025-09-08T13:54:59.369417Z",
     "shell.execute_reply": "2025-09-08T13:54:59.368690Z"
    }
   },
   "outputs": [
    {
     "name": "stdout",
     "output_type": "stream",
     "text": [
      "[ 4.4391466   4.95916025  5.43403294  5.83186392  6.13226527  6.32971155\n",
      "  6.43444763  6.47080546  6.47320642  6.480506    6.52960991  6.64941061\n",
      "  6.85604036  7.15022071  7.51714398  7.9289061   8.34909118  8.73875454\n",
      "  9.0628212   9.29584861  9.42620677  9.45798905  9.4103396   9.31430808\n",
      "  9.20774823  9.12909867  9.11106749  9.17525843  9.32862146  9.56231087\n",
      "  9.85313864 10.16738417 10.46633444 10.71264448 10.87647303 10.94038538\n",
      " 10.90221785 10.77543326 10.58690904 10.37252134 10.17125068 10.01877756\n",
      "  9.94162025  9.95277793 10.04959494 10.21419713 10.41642848 10.61880569\n",
      " 10.78267658 10.87457052]\n"
     ]
    }
   ],
   "source": [
    "ypred = olsres.predict(X)\n",
    "print(ypred)"
   ]
  },
  {
   "cell_type": "markdown",
   "metadata": {},
   "source": [
    "## Create a new sample of explanatory variables Xnew, predict and plot"
   ]
  },
  {
   "cell_type": "code",
   "execution_count": 6,
   "metadata": {
    "execution": {
     "iopub.execute_input": "2025-09-08T13:54:59.372112Z",
     "iopub.status.busy": "2025-09-08T13:54:59.371823Z",
     "iopub.status.idle": "2025-09-08T13:54:59.377511Z",
     "shell.execute_reply": "2025-09-08T13:54:59.376781Z"
    }
   },
   "outputs": [
    {
     "name": "stdout",
     "output_type": "stream",
     "text": [
      "[10.85682305 10.68575998 10.38433628 10.00486346  9.61620185  9.28690119\n",
      "  9.06841729  8.98251385  9.01593392  9.12364569]\n"
     ]
    }
   ],
   "source": [
    "x1n = np.linspace(20.5, 25, 10)\n",
    "Xnew = np.column_stack((x1n, np.sin(x1n), (x1n - 5) ** 2))\n",
    "Xnew = sm.add_constant(Xnew)\n",
    "ynewpred = olsres.predict(Xnew)  # predict out of sample\n",
    "print(ynewpred)"
   ]
  },
  {
   "cell_type": "markdown",
   "metadata": {},
   "source": [
    "## Plot comparison"
   ]
  },
  {
   "cell_type": "code",
   "execution_count": 7,
   "metadata": {
    "execution": {
     "iopub.execute_input": "2025-09-08T13:54:59.379981Z",
     "iopub.status.busy": "2025-09-08T13:54:59.379748Z",
     "iopub.status.idle": "2025-09-08T13:54:59.703740Z",
     "shell.execute_reply": "2025-09-08T13:54:59.701232Z"
    }
   },
   "outputs": [
    {
     "data": {
      "text/plain": [
       "<matplotlib.legend.Legend at 0x7f49c7844a00>"
      ]
     },
     "execution_count": 7,
     "metadata": {},
     "output_type": "execute_result"
    },
    {
     "data": {
      "image/png": "[encoded data removed]",
      "text/plain": [
       "<Figure size 1600x800 with 1 Axes>"
      ]
     },
     "metadata": {},
     "output_type": "display_data"
    }
   ],
   "source": [
    "import matplotlib.pyplot as plt\n",
    "\n",
    "fig, ax = plt.subplots()\n",
    "ax.plot(x1, y, \"o\", label=\"Data\")\n",
    "ax.plot(x1, y_true, \"b-\", label=\"True\")\n",
    "ax.plot(np.hstack((x1, x1n)), np.hstack((ypred, ynewpred)), \"r\", label=\"OLS prediction\")\n",
    "ax.legend(loc=\"best\")"
   ]
  },
  {
   "cell_type": "markdown",
   "metadata": {},
   "source": [
    "## Predicting with Formulas"
   ]
  },
  {
   "cell_type": "markdown",
   "metadata": {},
   "source": [
    "Using formulas can make both estimation and prediction a lot easier"
   ]
  },
  {
   "cell_type": "code",
   "execution_count": 8,
   "metadata": {
    "execution": {
     "iopub.execute_input": "2025-09-08T13:54:59.711063Z",
     "iopub.status.busy": "2025-09-08T13:54:59.710836Z",
     "iopub.status.idle": "2025-09-08T13:54:59.723938Z",
     "shell.execute_reply": "2025-09-08T13:54:59.723326Z"
    }
   },
   "outputs": [],
   "source": [
    "from statsmodels.formula.api import ols\n",
    "\n",
    "data = {\"x1\": x1, \"y\": y}\n",
    "\n",
    "res = ols(\"y ~ x1 + np.sin(x1) + I((x1-5)**2)\", data=data).fit()"
   ]
  },
  {
   "cell_type": "markdown",
   "metadata": {},
   "source": [
    "We use the `I` to indicate use of the Identity transform. Ie., we do not want any expansion magic from using `**2`"
   ]
  },
  {
   "cell_type": "code",
   "execution_count": 9,
   "metadata": {
    "execution": {
     "iopub.execute_input": "2025-09-08T13:54:59.727080Z",
     "iopub.status.busy": "2025-09-08T13:54:59.726723Z",
     "iopub.status.idle": "2025-09-08T13:54:59.736816Z",
     "shell.execute_reply": "2025-09-08T13:54:59.734631Z"
    }
   },
   "outputs": [
    {
     "data": {
      "text/plain": [
       "Intercept           4.962012\n",
       "x1                  0.504198\n",
       "np.sin(x1)          0.585344\n",
       "I((x1 - 5) ** 2)   -0.020915\n",
       "dtype: float64"
      ]
     },
     "execution_count": 9,
     "metadata": {},
     "output_type": "execute_result"
    }
   ],
   "source": [
    "res.params"
   ]
  },
  {
   "cell_type": "markdown",
   "metadata": {},
   "source": [
    "Now we only have to pass the single variable and we get the transformed right-hand side variables automatically"
   ]
  },
  {
   "cell_type": "code",
   "execution_count": 10,
   "metadata": {
    "execution": {
     "iopub.execute_input": "2025-09-08T13:54:59.744522Z",
     "iopub.status.busy": "2025-09-08T13:54:59.741068Z",
     "iopub.status.idle": "2025-09-08T13:54:59.752765Z",
     "shell.execute_reply": "2025-09-08T13:54:59.752179Z"
    }
   },
   "outputs": [
    {
     "data": {
      "text/plain": [
       "0    10.856823\n",
       "1    10.685760\n",
       "2    10.384336\n",
       "3    10.004863\n",
       "4     9.616202\n",
       "5     9.286901\n",
       "6     9.068417\n",
       "7     8.982514\n",
       "8     9.015934\n",
       "9     9.123646\n",
       "dtype: float64"
      ]
     },
     "execution_count": 10,
     "metadata": {},
     "output_type": "execute_result"
    }
   ],
   "source": [
    "res.predict(exog=dict(x1=x1n))"
   ]
  }
 ],
 "metadata": {
  "kernelspec": {
   "display_name": "Python 3",
   "language": "python",
   "name": "python3"
  },
  "language_info": {
   "codemirror_mode": {
    "name": "ipython",
    "version": 3
   },
   "file_extension": ".py",
   "mimetype": "text/x-python",
   "name": "python",
   "nbconvert_exporter": "python",
   "pygments_lexer": "ipython3",
   "version": "3.10.18"
  }
 },
 "nbformat": 4,
 "nbformat_minor": 4
}
