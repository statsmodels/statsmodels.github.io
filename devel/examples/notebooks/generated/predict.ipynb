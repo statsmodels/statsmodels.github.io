{
 "cells": [
  {
   "cell_type": "markdown",
   "metadata": {},
   "source": [
    "# Prediction (out of sample)"
   ]
  },
  {
   "cell_type": "code",
   "execution_count": 1,
   "metadata": {
    "execution": {
     "iopub.execute_input": "2025-09-22T18:57:19.254355Z",
     "iopub.status.busy": "2025-09-22T18:57:19.254097Z",
     "iopub.status.idle": "2025-09-22T18:57:20.112274Z",
     "shell.execute_reply": "2025-09-22T18:57:20.111270Z"
    }
   },
   "outputs": [],
   "source": [
    "%matplotlib inline"
   ]
  },
  {
   "cell_type": "code",
   "execution_count": 2,
   "metadata": {
    "execution": {
     "iopub.execute_input": "2025-09-22T18:57:20.116734Z",
     "iopub.status.busy": "2025-09-22T18:57:20.115542Z",
     "iopub.status.idle": "2025-09-22T18:57:21.800790Z",
     "shell.execute_reply": "2025-09-22T18:57:21.799230Z"
    }
   },
   "outputs": [],
   "source": [
    "import numpy as np\n",
    "import matplotlib.pyplot as plt\n",
    "\n",
    "import statsmodels.api as sm\n",
    "\n",
    "plt.rc(\"figure\", figsize=(16, 8))\n",
    "plt.rc(\"font\", size=14)"
   ]
  },
  {
   "cell_type": "markdown",
   "metadata": {},
   "source": [
    "## Artificial data"
   ]
  },
  {
   "cell_type": "code",
   "execution_count": 3,
   "metadata": {
    "execution": {
     "iopub.execute_input": "2025-09-22T18:57:21.803925Z",
     "iopub.status.busy": "2025-09-22T18:57:21.803399Z",
     "iopub.status.idle": "2025-09-22T18:57:21.817679Z",
     "shell.execute_reply": "2025-09-22T18:57:21.816791Z"
    }
   },
   "outputs": [],
   "source": [
    "nsample = 50\n",
    "sig = 0.25\n",
    "x1 = np.linspace(0, 20, nsample)\n",
    "X = np.column_stack((x1, np.sin(x1), (x1 - 5) ** 2))\n",
    "X = sm.add_constant(X)\n",
    "beta = [5.0, 0.5, 0.5, -0.02]\n",
    "y_true = np.dot(X, beta)\n",
    "y = y_true + sig * np.random.normal(size=nsample)"
   ]
  },
  {
   "cell_type": "markdown",
   "metadata": {},
   "source": [
    "## Estimation "
   ]
  },
  {
   "cell_type": "code",
   "execution_count": 4,
   "metadata": {
    "execution": {
     "iopub.execute_input": "2025-09-22T18:57:21.823111Z",
     "iopub.status.busy": "2025-09-22T18:57:21.822710Z",
     "iopub.status.idle": "2025-09-22T18:57:21.854421Z",
     "shell.execute_reply": "2025-09-22T18:57:21.851322Z"
    }
   },
   "outputs": [
    {
     "name": "stdout",
     "output_type": "stream",
     "text": [
      "                            OLS Regression Results                            \n",
      "==============================================================================\n",
      "Dep. Variable:                      y   R-squared:                       0.986\n",
      "Model:                            OLS   Adj. R-squared:                  0.985\n",
      "Method:                 Least Squares   F-statistic:                     1044.\n",
      "Date:                Mon, 22 Sep 2025   Prob (F-statistic):           2.70e-42\n",
      "Time:                        18:57:21   Log-Likelihood:                 3.9944\n",
      "No. Observations:                  50   AIC:                           0.01123\n",
      "Df Residuals:                      46   BIC:                             7.659\n",
      "Df Model:                           3                                         \n",
      "Covariance Type:            nonrobust                                         \n",
      "==============================================================================\n",
      "                 coef    std err          t      P>|t|      [0.025      0.975]\n",
      "------------------------------------------------------------------------------\n",
      "const          5.0399      0.079     63.488      0.000       4.880       5.200\n",
      "x1             0.4936      0.012     40.321      0.000       0.469       0.518\n",
      "x2             0.5484      0.048     11.395      0.000       0.452       0.645\n",
      "x3            -0.0193      0.001    -17.920      0.000      -0.021      -0.017\n",
      "==============================================================================\n",
      "Omnibus:                        5.870   Durbin-Watson:                   2.665\n",
      "Prob(Omnibus):                  0.053   Jarque-Bera (JB):                7.286\n",
      "Skew:                           0.269   Prob(JB):                       0.0262\n",
      "Kurtosis:                       4.791   Cond. No.                         221.\n",
      "==============================================================================\n",
      "\n",
      "Notes:\n",
      "[1] Standard Errors assume that the covariance matrix of the errors is correctly specified.\n"
     ]
    }
   ],
   "source": [
    "olsmod = sm.OLS(y, X)\n",
    "olsres = olsmod.fit()\n",
    "print(olsres.summary())"
   ]
  },
  {
   "cell_type": "markdown",
   "metadata": {},
   "source": [
    "## In-sample prediction"
   ]
  },
  {
   "cell_type": "code",
   "execution_count": 5,
   "metadata": {
    "execution": {
     "iopub.execute_input": "2025-09-22T18:57:21.857208Z",
     "iopub.status.busy": "2025-09-22T18:57:21.856837Z",
     "iopub.status.idle": "2025-09-22T18:57:21.865660Z",
     "shell.execute_reply": "2025-09-22T18:57:21.862234Z"
    }
   },
   "outputs": [
    {
     "name": "stdout",
     "output_type": "stream",
     "text": [
      "[ 4.55831168  5.05288089  5.50526921  5.88558958  6.17474105  6.36754694\n",
      "  6.47360544  6.51571258  6.52611696  6.54122136  6.59560189  6.71632721\n",
      "  6.91851126  7.20283005  7.55541061  7.95011026  8.35281182  8.72702891\n",
      "  9.03990062  9.26759041  9.39920241  9.43857159  9.40363368  9.32347836\n",
      "  9.23356992  9.16992061  9.16317387  9.23356973  9.38761946  9.61703573\n",
      "  9.90009422 10.20520288 10.4960924  10.73777515 10.90229354 10.97331341\n",
      " 10.94880766 10.84138928 10.67623911 10.48696868 10.31009792 10.17905506\n",
      " 10.11868446 10.14116472 10.24400784 10.41046793 10.61229252 10.8143644\n",
      " 10.98047123 11.07925517]\n"
     ]
    }
   ],
   "source": [
    "ypred = olsres.predict(X)\n",
    "print(ypred)"
   ]
  },
  {
   "cell_type": "markdown",
   "metadata": {},
   "source": [
    "## Create a new sample of explanatory variables Xnew, predict and plot"
   ]
  },
  {
   "cell_type": "code",
   "execution_count": 6,
   "metadata": {
    "execution": {
     "iopub.execute_input": "2025-09-22T18:57:21.873629Z",
     "iopub.status.busy": "2025-09-22T18:57:21.872896Z",
     "iopub.status.idle": "2025-09-22T18:57:21.886015Z",
     "shell.execute_reply": "2025-09-22T18:57:21.885348Z"
    }
   },
   "outputs": [
    {
     "name": "stdout",
     "output_type": "stream",
     "text": [
      "[11.07832479 10.93392262 10.66755465 10.32823029  9.98046316  9.68847593\n",
      "  9.50047635  9.43685431  9.48518968  9.60329321]\n"
     ]
    }
   ],
   "source": [
    "x1n = np.linspace(20.5, 25, 10)\n",
    "Xnew = np.column_stack((x1n, np.sin(x1n), (x1n - 5) ** 2))\n",
    "Xnew = sm.add_constant(Xnew)\n",
    "ynewpred = olsres.predict(Xnew)  # predict out of sample\n",
    "print(ynewpred)"
   ]
  },
  {
   "cell_type": "markdown",
   "metadata": {},
   "source": [
    "## Plot comparison"
   ]
  },
  {
   "cell_type": "code",
   "execution_count": 7,
   "metadata": {
    "execution": {
     "iopub.execute_input": "2025-09-22T18:57:21.890792Z",
     "iopub.status.busy": "2025-09-22T18:57:21.890437Z",
     "iopub.status.idle": "2025-09-22T18:57:22.327713Z",
     "shell.execute_reply": "2025-09-22T18:57:22.326838Z"
    }
   },
   "outputs": [
    {
     "data": {
      "text/plain": [
       "<matplotlib.legend.Legend at 0x7f6f77549570>"
      ]
     },
     "execution_count": 7,
     "metadata": {},
     "output_type": "execute_result"
    },
    {
     "data": {
      "image/png": "[encoded data removed]",
      "text/plain": [
       "<Figure size 1600x800 with 1 Axes>"
      ]
     },
     "metadata": {},
     "output_type": "display_data"
    }
   ],
   "source": [
    "import matplotlib.pyplot as plt\n",
    "\n",
    "fig, ax = plt.subplots()\n",
    "ax.plot(x1, y, \"o\", label=\"Data\")\n",
    "ax.plot(x1, y_true, \"b-\", label=\"True\")\n",
    "ax.plot(np.hstack((x1, x1n)), np.hstack((ypred, ynewpred)), \"r\", label=\"OLS prediction\")\n",
    "ax.legend(loc=\"best\")"
   ]
  },
  {
   "cell_type": "markdown",
   "metadata": {},
   "source": [
    "## Predicting with Formulas"
   ]
  },
  {
   "cell_type": "markdown",
   "metadata": {},
   "source": [
    "Using formulas can make both estimation and prediction a lot easier"
   ]
  },
  {
   "cell_type": "code",
   "execution_count": 8,
   "metadata": {
    "execution": {
     "iopub.execute_input": "2025-09-22T18:57:22.331601Z",
     "iopub.status.busy": "2025-09-22T18:57:22.331238Z",
     "iopub.status.idle": "2025-09-22T18:57:22.343083Z",
     "shell.execute_reply": "2025-09-22T18:57:22.342322Z"
    }
   },
   "outputs": [],
   "source": [
    "from statsmodels.formula.api import ols\n",
    "\n",
    "data = {\"x1\": x1, \"y\": y}\n",
    "\n",
    "res = ols(\"y ~ x1 + np.sin(x1) + I((x1-5)**2)\", data=data).fit()"
   ]
  },
  {
   "cell_type": "markdown",
   "metadata": {},
   "source": [
    "We use the `I` to indicate use of the Identity transform. Ie., we do not want any expansion magic from using `**2`"
   ]
  },
  {
   "cell_type": "code",
   "execution_count": 9,
   "metadata": {
    "execution": {
     "iopub.execute_input": "2025-09-22T18:57:22.346953Z",
     "iopub.status.busy": "2025-09-22T18:57:22.346629Z",
     "iopub.status.idle": "2025-09-22T18:57:22.357384Z",
     "shell.execute_reply": "2025-09-22T18:57:22.356449Z"
    }
   },
   "outputs": [
    {
     "data": {
      "text/plain": [
       "Intercept           5.039871\n",
       "x1                  0.493638\n",
       "np.sin(x1)          0.548395\n",
       "I((x1 - 5) ** 2)   -0.019262\n",
       "dtype: float64"
      ]
     },
     "execution_count": 9,
     "metadata": {},
     "output_type": "execute_result"
    }
   ],
   "source": [
    "res.params"
   ]
  },
  {
   "cell_type": "markdown",
   "metadata": {},
   "source": [
    "Now we only have to pass the single variable and we get the transformed right-hand side variables automatically"
   ]
  },
  {
   "cell_type": "code",
   "execution_count": 10,
   "metadata": {
    "execution": {
     "iopub.execute_input": "2025-09-22T18:57:22.361220Z",
     "iopub.status.busy": "2025-09-22T18:57:22.360852Z",
     "iopub.status.idle": "2025-09-22T18:57:22.373700Z",
     "shell.execute_reply": "2025-09-22T18:57:22.372800Z"
    }
   },
   "outputs": [
    {
     "data": {
      "text/plain": [
       "0    11.078325\n",
       "1    10.933923\n",
       "2    10.667555\n",
       "3    10.328230\n",
       "4     9.980463\n",
       "5     9.688476\n",
       "6     9.500476\n",
       "7     9.436854\n",
       "8     9.485190\n",
       "9     9.603293\n",
       "dtype: float64"
      ]
     },
     "execution_count": 10,
     "metadata": {},
     "output_type": "execute_result"
    }
   ],
   "source": [
    "res.predict(exog=dict(x1=x1n))"
   ]
  }
 ],
 "metadata": {
  "kernelspec": {
   "display_name": "Python 3",
   "language": "python",
   "name": "python3"
  },
  "language_info": {
   "codemirror_mode": {
    "name": "ipython",
    "version": 3
   },
   "file_extension": ".py",
   "mimetype": "text/x-python",
   "name": "python",
   "nbconvert_exporter": "python",
   "pygments_lexer": "ipython3",
   "version": "3.10.18"
  }
 },
 "nbformat": 4,
 "nbformat_minor": 4
}
