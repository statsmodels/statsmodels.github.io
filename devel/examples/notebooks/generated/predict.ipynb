{
 "cells": [
  {
   "cell_type": "markdown",
   "metadata": {},
   "source": [
    "# Prediction (out of sample)"
   ]
  },
  {
   "cell_type": "code",
   "execution_count": 1,
   "metadata": {
    "execution": {
     "iopub.execute_input": "2023-08-10T18:02:13.129418Z",
     "iopub.status.busy": "2023-08-10T18:02:13.129183Z",
     "iopub.status.idle": "2023-08-10T18:02:13.718367Z",
     "shell.execute_reply": "2023-08-10T18:02:13.717560Z"
    }
   },
   "outputs": [],
   "source": [
    "%matplotlib inline"
   ]
  },
  {
   "cell_type": "code",
   "execution_count": 2,
   "metadata": {
    "execution": {
     "iopub.execute_input": "2023-08-10T18:02:13.722088Z",
     "iopub.status.busy": "2023-08-10T18:02:13.721680Z",
     "iopub.status.idle": "2023-08-10T18:02:14.468903Z",
     "shell.execute_reply": "2023-08-10T18:02:14.468026Z"
    }
   },
   "outputs": [],
   "source": [
    "import numpy as np\n",
    "import matplotlib.pyplot as plt\n",
    "\n",
    "import statsmodels.api as sm\n",
    "\n",
    "plt.rc(\"figure\", figsize=(16, 8))\n",
    "plt.rc(\"font\", size=14)"
   ]
  },
  {
   "cell_type": "markdown",
   "metadata": {},
   "source": [
    "## Artificial data"
   ]
  },
  {
   "cell_type": "code",
   "execution_count": 3,
   "metadata": {
    "execution": {
     "iopub.execute_input": "2023-08-10T18:02:14.472799Z",
     "iopub.status.busy": "2023-08-10T18:02:14.472296Z",
     "iopub.status.idle": "2023-08-10T18:02:14.478676Z",
     "shell.execute_reply": "2023-08-10T18:02:14.477882Z"
    }
   },
   "outputs": [],
   "source": [
    "nsample = 50\n",
    "sig = 0.25\n",
    "x1 = np.linspace(0, 20, nsample)\n",
    "X = np.column_stack((x1, np.sin(x1), (x1 - 5) ** 2))\n",
    "X = sm.add_constant(X)\n",
    "beta = [5.0, 0.5, 0.5, -0.02]\n",
    "y_true = np.dot(X, beta)\n",
    "y = y_true + sig * np.random.normal(size=nsample)"
   ]
  },
  {
   "cell_type": "markdown",
   "metadata": {},
   "source": [
    "## Estimation "
   ]
  },
  {
   "cell_type": "code",
   "execution_count": 4,
   "metadata": {
    "execution": {
     "iopub.execute_input": "2023-08-10T18:02:14.482903Z",
     "iopub.status.busy": "2023-08-10T18:02:14.481784Z",
     "iopub.status.idle": "2023-08-10T18:02:14.495789Z",
     "shell.execute_reply": "2023-08-10T18:02:14.495159Z"
    }
   },
   "outputs": [
    {
     "name": "stdout",
     "output_type": "stream",
     "text": [
      "                            OLS Regression Results                            \n",
      "==============================================================================\n",
      "Dep. Variable:                      y   R-squared:                       0.978\n",
      "Model:                            OLS   Adj. R-squared:                  0.976\n",
      "Method:                 Least Squares   F-statistic:                     672.4\n",
      "Date:                Thu, 10 Aug 2023   Prob (F-statistic):           5.56e-38\n",
      "Time:                        18:02:14   Log-Likelihood:                -6.8963\n",
      "No. Observations:                  50   AIC:                             21.79\n",
      "Df Residuals:                      46   BIC:                             29.44\n",
      "Df Model:                           3                                         \n",
      "Covariance Type:            nonrobust                                         \n",
      "==============================================================================\n",
      "                 coef    std err          t      P>|t|      [0.025      0.975]\n",
      "------------------------------------------------------------------------------\n",
      "const          5.0258      0.099     50.920      0.000       4.827       5.225\n",
      "x1             0.5054      0.015     33.200      0.000       0.475       0.536\n",
      "x2             0.4269      0.060      7.135      0.000       0.306       0.547\n",
      "x3            -0.0208      0.001    -15.533      0.000      -0.023      -0.018\n",
      "==============================================================================\n",
      "Omnibus:                        0.353   Durbin-Watson:                   1.890\n",
      "Prob(Omnibus):                  0.838   Jarque-Bera (JB):                0.500\n",
      "Skew:                           0.166   Prob(JB):                        0.779\n",
      "Kurtosis:                       2.640   Cond. No.                         221.\n",
      "==============================================================================\n",
      "\n",
      "Notes:\n",
      "[1] Standard Errors assume that the covariance matrix of the errors is correctly specified.\n"
     ]
    }
   ],
   "source": [
    "olsmod = sm.OLS(y, X)\n",
    "olsres = olsmod.fit()\n",
    "print(olsres.summary())"
   ]
  },
  {
   "cell_type": "markdown",
   "metadata": {},
   "source": [
    "## In-sample prediction"
   ]
  },
  {
   "cell_type": "code",
   "execution_count": 5,
   "metadata": {
    "execution": {
     "iopub.execute_input": "2023-08-10T18:02:14.500431Z",
     "iopub.status.busy": "2023-08-10T18:02:14.499225Z",
     "iopub.status.idle": "2023-08-10T18:02:14.506016Z",
     "shell.execute_reply": "2023-08-10T18:02:14.505432Z"
    }
   },
   "outputs": [
    {
     "name": "stdout",
     "output_type": "stream",
     "text": [
      "[ 4.50684232  4.96385208  5.38610298  5.75032747  6.04165514  6.25605588\n",
      "  6.40100201  6.49424063  6.56087779  6.62925365  6.72628625  6.87304901\n",
      "  7.08130836  7.35159059  7.67309536  8.02547018  8.38215426  8.71474239\n",
      "  8.99765178  9.21232533  9.35028041  9.41450263  9.41895521  9.38628496\n",
      "  9.34410141  9.32044066  9.33915913  9.41601403  9.55607447  9.75288863\n",
      "  9.98954379 10.24144501 10.48035605 10.67903847 10.81572685 10.87770476\n",
      " 10.86339408 10.78261424 10.65496891 10.50662522 10.36601453 10.25916125\n",
      " 10.20540712 10.21423338 10.28370308 10.40077928 10.54346696 10.68442682\n",
      " 10.79546696 10.85217478]\n"
     ]
    }
   ],
   "source": [
    "ypred = olsres.predict(X)\n",
    "print(ypred)"
   ]
  },
  {
   "cell_type": "markdown",
   "metadata": {},
   "source": [
    "## Create a new sample of explanatory variables Xnew, predict and plot"
   ]
  },
  {
   "cell_type": "code",
   "execution_count": 6,
   "metadata": {
    "execution": {
     "iopub.execute_input": "2023-08-10T18:02:14.510381Z",
     "iopub.status.busy": "2023-08-10T18:02:14.509259Z",
     "iopub.status.idle": "2023-08-10T18:02:14.516481Z",
     "shell.execute_reply": "2023-08-10T18:02:14.515901Z"
    }
   },
   "outputs": [
    {
     "name": "stdout",
     "output_type": "stream",
     "text": [
      "[10.82409198 10.68143235 10.44093864 10.14076547  9.83113776  9.56205388\n",
      "  9.37104435  9.27398302  9.26120063  9.29985216]\n"
     ]
    }
   ],
   "source": [
    "x1n = np.linspace(20.5, 25, 10)\n",
    "Xnew = np.column_stack((x1n, np.sin(x1n), (x1n - 5) ** 2))\n",
    "Xnew = sm.add_constant(Xnew)\n",
    "ynewpred = olsres.predict(Xnew)  # predict out of sample\n",
    "print(ynewpred)"
   ]
  },
  {
   "cell_type": "markdown",
   "metadata": {},
   "source": [
    "## Plot comparison"
   ]
  },
  {
   "cell_type": "code",
   "execution_count": 7,
   "metadata": {
    "execution": {
     "iopub.execute_input": "2023-08-10T18:02:14.520791Z",
     "iopub.status.busy": "2023-08-10T18:02:14.519655Z",
     "iopub.status.idle": "2023-08-10T18:02:14.790826Z",
     "shell.execute_reply": "2023-08-10T18:02:14.790154Z"
    }
   },
   "outputs": [
    {
     "data": {
      "text/plain": [
       "<matplotlib.legend.Legend at 0x7f1232122ef0>"
      ]
     },
     "execution_count": 7,
     "metadata": {},
     "output_type": "execute_result"
    },
    {
     "data": {
      "image/png": "[encoded data removed]",
      "text/plain": [
       "<Figure size 1600x800 with 1 Axes>"
      ]
     },
     "metadata": {},
     "output_type": "display_data"
    }
   ],
   "source": [
    "import matplotlib.pyplot as plt\n",
    "\n",
    "fig, ax = plt.subplots()\n",
    "ax.plot(x1, y, \"o\", label=\"Data\")\n",
    "ax.plot(x1, y_true, \"b-\", label=\"True\")\n",
    "ax.plot(np.hstack((x1, x1n)), np.hstack((ypred, ynewpred)), \"r\", label=\"OLS prediction\")\n",
    "ax.legend(loc=\"best\")"
   ]
  },
  {
   "cell_type": "markdown",
   "metadata": {},
   "source": [
    "## Predicting with Formulas"
   ]
  },
  {
   "cell_type": "markdown",
   "metadata": {},
   "source": [
    "Using formulas can make both estimation and prediction a lot easier"
   ]
  },
  {
   "cell_type": "code",
   "execution_count": 8,
   "metadata": {
    "execution": {
     "iopub.execute_input": "2023-08-10T18:02:14.795568Z",
     "iopub.status.busy": "2023-08-10T18:02:14.794431Z",
     "iopub.status.idle": "2023-08-10T18:02:14.803060Z",
     "shell.execute_reply": "2023-08-10T18:02:14.802474Z"
    }
   },
   "outputs": [],
   "source": [
    "from statsmodels.formula.api import ols\n",
    "\n",
    "data = {\"x1\": x1, \"y\": y}\n",
    "\n",
    "res = ols(\"y ~ x1 + np.sin(x1) + I((x1-5)**2)\", data=data).fit()"
   ]
  },
  {
   "cell_type": "markdown",
   "metadata": {},
   "source": [
    "We use the `I` to indicate use of the Identity transform. Ie., we do not want any expansion magic from using `**2`"
   ]
  },
  {
   "cell_type": "code",
   "execution_count": 9,
   "metadata": {
    "execution": {
     "iopub.execute_input": "2023-08-10T18:02:14.807317Z",
     "iopub.status.busy": "2023-08-10T18:02:14.806212Z",
     "iopub.status.idle": "2023-08-10T18:02:14.814235Z",
     "shell.execute_reply": "2023-08-10T18:02:14.813660Z"
    }
   },
   "outputs": [
    {
     "data": {
      "text/plain": [
       "Intercept           5.025830\n",
       "x1                  0.505373\n",
       "np.sin(x1)          0.426934\n",
       "I((x1 - 5) ** 2)   -0.020760\n",
       "dtype: float64"
      ]
     },
     "execution_count": 9,
     "metadata": {},
     "output_type": "execute_result"
    }
   ],
   "source": [
    "res.params"
   ]
  },
  {
   "cell_type": "markdown",
   "metadata": {},
   "source": [
    "Now we only have to pass the single variable and we get the transformed right-hand side variables automatically"
   ]
  },
  {
   "cell_type": "code",
   "execution_count": 10,
   "metadata": {
    "execution": {
     "iopub.execute_input": "2023-08-10T18:02:14.818412Z",
     "iopub.status.busy": "2023-08-10T18:02:14.817314Z",
     "iopub.status.idle": "2023-08-10T18:02:14.826029Z",
     "shell.execute_reply": "2023-08-10T18:02:14.825444Z"
    }
   },
   "outputs": [
    {
     "data": {
      "text/plain": [
       "0    10.824092\n",
       "1    10.681432\n",
       "2    10.440939\n",
       "3    10.140765\n",
       "4     9.831138\n",
       "5     9.562054\n",
       "6     9.371044\n",
       "7     9.273983\n",
       "8     9.261201\n",
       "9     9.299852\n",
       "dtype: float64"
      ]
     },
     "execution_count": 10,
     "metadata": {},
     "output_type": "execute_result"
    }
   ],
   "source": [
    "res.predict(exog=dict(x1=x1n))"
   ]
  }
 ],
 "metadata": {
  "kernelspec": {
   "display_name": "Python 3",
   "language": "python",
   "name": "python3"
  },
  "language_info": {
   "codemirror_mode": {
    "name": "ipython",
    "version": 3
   },
   "file_extension": ".py",
   "mimetype": "text/x-python",
   "name": "python",
   "nbconvert_exporter": "python",
   "pygments_lexer": "ipython3",
   "version": "3.10.12"
  }
 },
 "nbformat": 4,
 "nbformat_minor": 4
}
