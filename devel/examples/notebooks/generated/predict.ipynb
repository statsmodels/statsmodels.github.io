{
 "cells": [
  {
   "cell_type": "markdown",
   "metadata": {},
   "source": [
    "# Prediction (out of sample)"
   ]
  },
  {
   "cell_type": "code",
   "execution_count": 1,
   "metadata": {
    "execution": {
     "iopub.execute_input": "2024-05-25T16:08:17.813080Z",
     "iopub.status.busy": "2024-05-25T16:08:17.812788Z",
     "iopub.status.idle": "2024-05-25T16:08:19.226347Z",
     "shell.execute_reply": "2024-05-25T16:08:19.225572Z"
    }
   },
   "outputs": [],
   "source": [
    "%matplotlib inline"
   ]
  },
  {
   "cell_type": "code",
   "execution_count": 2,
   "metadata": {
    "execution": {
     "iopub.execute_input": "2024-05-25T16:08:19.232306Z",
     "iopub.status.busy": "2024-05-25T16:08:19.230580Z",
     "iopub.status.idle": "2024-05-25T16:08:21.554430Z",
     "shell.execute_reply": "2024-05-25T16:08:21.553747Z"
    }
   },
   "outputs": [],
   "source": [
    "import numpy as np\n",
    "import matplotlib.pyplot as plt\n",
    "\n",
    "import statsmodels.api as sm\n",
    "\n",
    "plt.rc(\"figure\", figsize=(16, 8))\n",
    "plt.rc(\"font\", size=14)"
   ]
  },
  {
   "cell_type": "markdown",
   "metadata": {},
   "source": [
    "## Artificial data"
   ]
  },
  {
   "cell_type": "code",
   "execution_count": 3,
   "metadata": {
    "execution": {
     "iopub.execute_input": "2024-05-25T16:08:21.559914Z",
     "iopub.status.busy": "2024-05-25T16:08:21.558617Z",
     "iopub.status.idle": "2024-05-25T16:08:21.580543Z",
     "shell.execute_reply": "2024-05-25T16:08:21.579913Z"
    }
   },
   "outputs": [],
   "source": [
    "nsample = 50\n",
    "sig = 0.25\n",
    "x1 = np.linspace(0, 20, nsample)\n",
    "X = np.column_stack((x1, np.sin(x1), (x1 - 5) ** 2))\n",
    "X = sm.add_constant(X)\n",
    "beta = [5.0, 0.5, 0.5, -0.02]\n",
    "y_true = np.dot(X, beta)\n",
    "y = y_true + sig * np.random.normal(size=nsample)"
   ]
  },
  {
   "cell_type": "markdown",
   "metadata": {},
   "source": [
    "## Estimation "
   ]
  },
  {
   "cell_type": "code",
   "execution_count": 4,
   "metadata": {
    "execution": {
     "iopub.execute_input": "2024-05-25T16:08:21.584868Z",
     "iopub.status.busy": "2024-05-25T16:08:21.583780Z",
     "iopub.status.idle": "2024-05-25T16:08:21.631587Z",
     "shell.execute_reply": "2024-05-25T16:08:21.630996Z"
    }
   },
   "outputs": [
    {
     "name": "stdout",
     "output_type": "stream",
     "text": [
      "                            OLS Regression Results                            \n",
      "==============================================================================\n",
      "Dep. Variable:                      y   R-squared:                       0.979\n",
      "Model:                            OLS   Adj. R-squared:                  0.978\n",
      "Method:                 Least Squares   F-statistic:                     718.1\n",
      "Date:                Sat, 25 May 2024   Prob (F-statistic):           1.27e-38\n",
      "Time:                        16:08:21   Log-Likelihood:                -3.8325\n",
      "No. Observations:                  50   AIC:                             15.66\n",
      "Df Residuals:                      46   BIC:                             23.31\n",
      "Df Model:                           3                                         \n",
      "Covariance Type:            nonrobust                                         \n",
      "==============================================================================\n",
      "                 coef    std err          t      P>|t|      [0.025      0.975]\n",
      "------------------------------------------------------------------------------\n",
      "const          5.0311      0.093     54.194      0.000       4.844       5.218\n",
      "x1             0.4897      0.014     34.206      0.000       0.461       0.519\n",
      "x2             0.4682      0.056      8.319      0.000       0.355       0.582\n",
      "x3            -0.0200      0.001    -15.902      0.000      -0.023      -0.017\n",
      "==============================================================================\n",
      "Omnibus:                        0.285   Durbin-Watson:                   1.950\n",
      "Prob(Omnibus):                  0.867   Jarque-Bera (JB):                0.472\n",
      "Skew:                          -0.053   Prob(JB):                        0.790\n",
      "Kurtosis:                       2.536   Cond. No.                         221.\n",
      "==============================================================================\n",
      "\n",
      "Notes:\n",
      "[1] Standard Errors assume that the covariance matrix of the errors is correctly specified.\n"
     ]
    }
   ],
   "source": [
    "olsmod = sm.OLS(y, X)\n",
    "olsres = olsmod.fit()\n",
    "print(olsres.summary())"
   ]
  },
  {
   "cell_type": "markdown",
   "metadata": {},
   "source": [
    "## In-sample prediction"
   ]
  },
  {
   "cell_type": "code",
   "execution_count": 5,
   "metadata": {
    "execution": {
     "iopub.execute_input": "2024-05-25T16:08:21.635707Z",
     "iopub.status.busy": "2024-05-25T16:08:21.634604Z",
     "iopub.status.idle": "2024-05-25T16:08:21.647637Z",
     "shell.execute_reply": "2024-05-25T16:08:21.647013Z"
    }
   },
   "outputs": [
    {
     "name": "stdout",
     "output_type": "stream",
     "text": [
      "[ 4.53136693  4.99538346  5.42220365  5.78630884  6.07138992  6.27302689\n",
      "  6.39941502  6.47001838  6.512372    6.5575579   6.63509842  6.76810576\n",
      "  6.96948476  7.23981262  7.56724408  7.92945759  8.29732264  8.63968586\n",
      "  8.92848939  9.14338073  9.2750566   9.32679143  9.31389939  9.26121831\n",
      "  9.1990289   9.15807971  9.16453524  9.23567717  9.37706503  9.58162281\n",
      "  9.8308015  10.09762666 10.35113023 10.5614385  10.70468028 10.76690885\n",
      " 10.7463934  10.65390337 10.51093907 10.34619924 10.19086594 10.07348139\n",
      " 10.01525861 10.02659615 10.10536964 10.23728084 10.39820678 10.55816309\n",
      " 10.68623036 10.75563413]\n"
     ]
    }
   ],
   "source": [
    "ypred = olsres.predict(X)\n",
    "print(ypred)"
   ]
  },
  {
   "cell_type": "markdown",
   "metadata": {},
   "source": [
    "## Create a new sample of explanatory variables Xnew, predict and plot"
   ]
  },
  {
   "cell_type": "code",
   "execution_count": 6,
   "metadata": {
    "execution": {
     "iopub.execute_input": "2024-05-25T16:08:21.651925Z",
     "iopub.status.busy": "2024-05-25T16:08:21.650778Z",
     "iopub.status.idle": "2024-05-25T16:08:21.663613Z",
     "shell.execute_reply": "2024-05-25T16:08:21.662996Z"
    }
   },
   "outputs": [
    {
     "name": "stdout",
     "output_type": "stream",
     "text": [
      "[10.73492718 10.58994692 10.33905592 10.02410022  9.70016388  9.42208256\n",
      "  9.23101778  9.14437917  9.15156198  9.21654348]\n"
     ]
    }
   ],
   "source": [
    "x1n = np.linspace(20.5, 25, 10)\n",
    "Xnew = np.column_stack((x1n, np.sin(x1n), (x1n - 5) ** 2))\n",
    "Xnew = sm.add_constant(Xnew)\n",
    "ynewpred = olsres.predict(Xnew)  # predict out of sample\n",
    "print(ynewpred)"
   ]
  },
  {
   "cell_type": "markdown",
   "metadata": {},
   "source": [
    "## Plot comparison"
   ]
  },
  {
   "cell_type": "code",
   "execution_count": 7,
   "metadata": {
    "execution": {
     "iopub.execute_input": "2024-05-25T16:08:21.667834Z",
     "iopub.status.busy": "2024-05-25T16:08:21.666708Z",
     "iopub.status.idle": "2024-05-25T16:08:22.415420Z",
     "shell.execute_reply": "2024-05-25T16:08:22.414713Z"
    }
   },
   "outputs": [
    {
     "data": {
      "text/plain": [
       "<matplotlib.legend.Legend at 0x7fe0e88de4a0>"
      ]
     },
     "execution_count": 7,
     "metadata": {},
     "output_type": "execute_result"
    },
    {
     "data": {
      "image/png": "[encoded data removed]",
      "text/plain": [
       "<Figure size 1600x800 with 1 Axes>"
      ]
     },
     "metadata": {},
     "output_type": "display_data"
    }
   ],
   "source": [
    "import matplotlib.pyplot as plt\n",
    "\n",
    "fig, ax = plt.subplots()\n",
    "ax.plot(x1, y, \"o\", label=\"Data\")\n",
    "ax.plot(x1, y_true, \"b-\", label=\"True\")\n",
    "ax.plot(np.hstack((x1, x1n)), np.hstack((ypred, ynewpred)), \"r\", label=\"OLS prediction\")\n",
    "ax.legend(loc=\"best\")"
   ]
  },
  {
   "cell_type": "markdown",
   "metadata": {},
   "source": [
    "## Predicting with Formulas"
   ]
  },
  {
   "cell_type": "markdown",
   "metadata": {},
   "source": [
    "Using formulas can make both estimation and prediction a lot easier"
   ]
  },
  {
   "cell_type": "code",
   "execution_count": 8,
   "metadata": {
    "execution": {
     "iopub.execute_input": "2024-05-25T16:08:22.423164Z",
     "iopub.status.busy": "2024-05-25T16:08:22.418990Z",
     "iopub.status.idle": "2024-05-25T16:08:22.455239Z",
     "shell.execute_reply": "2024-05-25T16:08:22.450997Z"
    }
   },
   "outputs": [],
   "source": [
    "from statsmodels.formula.api import ols\n",
    "\n",
    "data = {\"x1\": x1, \"y\": y}\n",
    "\n",
    "res = ols(\"y ~ x1 + np.sin(x1) + I((x1-5)**2)\", data=data).fit()"
   ]
  },
  {
   "cell_type": "markdown",
   "metadata": {},
   "source": [
    "We use the `I` to indicate use of the Identity transform. Ie., we do not want any expansion magic from using `**2`"
   ]
  },
  {
   "cell_type": "code",
   "execution_count": 9,
   "metadata": {
    "execution": {
     "iopub.execute_input": "2024-05-25T16:08:22.458565Z",
     "iopub.status.busy": "2024-05-25T16:08:22.458268Z",
     "iopub.status.idle": "2024-05-25T16:08:22.476267Z",
     "shell.execute_reply": "2024-05-25T16:08:22.475572Z"
    }
   },
   "outputs": [
    {
     "data": {
      "text/plain": [
       "Intercept           5.031135\n",
       "x1                  0.489747\n",
       "np.sin(x1)          0.468240\n",
       "I((x1 - 5) ** 2)   -0.019991\n",
       "dtype: float64"
      ]
     },
     "execution_count": 9,
     "metadata": {},
     "output_type": "execute_result"
    }
   ],
   "source": [
    "res.params"
   ]
  },
  {
   "cell_type": "markdown",
   "metadata": {},
   "source": [
    "Now we only have to pass the single variable and we get the transformed right-hand side variables automatically"
   ]
  },
  {
   "cell_type": "code",
   "execution_count": 10,
   "metadata": {
    "execution": {
     "iopub.execute_input": "2024-05-25T16:08:22.483826Z",
     "iopub.status.busy": "2024-05-25T16:08:22.483528Z",
     "iopub.status.idle": "2024-05-25T16:08:22.495234Z",
     "shell.execute_reply": "2024-05-25T16:08:22.490822Z"
    }
   },
   "outputs": [
    {
     "data": {
      "text/plain": [
       "0    10.734927\n",
       "1    10.589947\n",
       "2    10.339056\n",
       "3    10.024100\n",
       "4     9.700164\n",
       "5     9.422083\n",
       "6     9.231018\n",
       "7     9.144379\n",
       "8     9.151562\n",
       "9     9.216543\n",
       "dtype: float64"
      ]
     },
     "execution_count": 10,
     "metadata": {},
     "output_type": "execute_result"
    }
   ],
   "source": [
    "res.predict(exog=dict(x1=x1n))"
   ]
  }
 ],
 "metadata": {
  "kernelspec": {
   "display_name": "Python 3",
   "language": "python",
   "name": "python3"
  },
  "language_info": {
   "codemirror_mode": {
    "name": "ipython",
    "version": 3
   },
   "file_extension": ".py",
   "mimetype": "text/x-python",
   "name": "python",
   "nbconvert_exporter": "python",
   "pygments_lexer": "ipython3",
   "version": "3.10.14"
  }
 },
 "nbformat": 4,
 "nbformat_minor": 4
}
