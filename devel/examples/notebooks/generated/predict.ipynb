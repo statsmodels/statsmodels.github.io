{
 "cells": [
  {
   "cell_type": "markdown",
   "metadata": {},
   "source": [
    "# Prediction (out of sample)"
   ]
  },
  {
   "cell_type": "code",
   "execution_count": 1,
   "metadata": {
    "execution": {
     "iopub.execute_input": "2024-10-24T10:40:49.695448Z",
     "iopub.status.busy": "2024-10-24T10:40:49.695152Z",
     "iopub.status.idle": "2024-10-24T10:40:50.388918Z",
     "shell.execute_reply": "2024-10-24T10:40:50.387969Z"
    }
   },
   "outputs": [],
   "source": [
    "%matplotlib inline"
   ]
  },
  {
   "cell_type": "code",
   "execution_count": 2,
   "metadata": {
    "execution": {
     "iopub.execute_input": "2024-10-24T10:40:50.392487Z",
     "iopub.status.busy": "2024-10-24T10:40:50.391550Z",
     "iopub.status.idle": "2024-10-24T10:40:51.437915Z",
     "shell.execute_reply": "2024-10-24T10:40:51.437336Z"
    }
   },
   "outputs": [],
   "source": [
    "import numpy as np\n",
    "import matplotlib.pyplot as plt\n",
    "\n",
    "import statsmodels.api as sm\n",
    "\n",
    "plt.rc(\"figure\", figsize=(16, 8))\n",
    "plt.rc(\"font\", size=14)"
   ]
  },
  {
   "cell_type": "markdown",
   "metadata": {},
   "source": [
    "## Artificial data"
   ]
  },
  {
   "cell_type": "code",
   "execution_count": 3,
   "metadata": {
    "execution": {
     "iopub.execute_input": "2024-10-24T10:40:51.440634Z",
     "iopub.status.busy": "2024-10-24T10:40:51.440112Z",
     "iopub.status.idle": "2024-10-24T10:40:51.445574Z",
     "shell.execute_reply": "2024-10-24T10:40:51.444356Z"
    }
   },
   "outputs": [],
   "source": [
    "nsample = 50\n",
    "sig = 0.25\n",
    "x1 = np.linspace(0, 20, nsample)\n",
    "X = np.column_stack((x1, np.sin(x1), (x1 - 5) ** 2))\n",
    "X = sm.add_constant(X)\n",
    "beta = [5.0, 0.5, 0.5, -0.02]\n",
    "y_true = np.dot(X, beta)\n",
    "y = y_true + sig * np.random.normal(size=nsample)"
   ]
  },
  {
   "cell_type": "markdown",
   "metadata": {},
   "source": [
    "## Estimation "
   ]
  },
  {
   "cell_type": "code",
   "execution_count": 4,
   "metadata": {
    "execution": {
     "iopub.execute_input": "2024-10-24T10:40:51.449189Z",
     "iopub.status.busy": "2024-10-24T10:40:51.448299Z",
     "iopub.status.idle": "2024-10-24T10:40:51.466005Z",
     "shell.execute_reply": "2024-10-24T10:40:51.465182Z"
    }
   },
   "outputs": [
    {
     "name": "stdout",
     "output_type": "stream",
     "text": [
      "                            OLS Regression Results                            \n",
      "==============================================================================\n",
      "Dep. Variable:                      y   R-squared:                       0.980\n",
      "Model:                            OLS   Adj. R-squared:                  0.979\n",
      "Method:                 Least Squares   F-statistic:                     763.3\n",
      "Date:                Thu, 24 Oct 2024   Prob (F-statistic):           3.20e-39\n",
      "Time:                        10:40:51   Log-Likelihood:                -3.0907\n",
      "No. Observations:                  50   AIC:                             14.18\n",
      "Df Residuals:                      46   BIC:                             21.83\n",
      "Df Model:                           3                                         \n",
      "Covariance Type:            nonrobust                                         \n",
      "==============================================================================\n",
      "                 coef    std err          t      P>|t|      [0.025      0.975]\n",
      "------------------------------------------------------------------------------\n",
      "const          5.0685      0.091     55.413      0.000       4.884       5.253\n",
      "x1             0.4945      0.014     35.057      0.000       0.466       0.523\n",
      "x2             0.5112      0.055      9.218      0.000       0.400       0.623\n",
      "x3            -0.0200      0.001    -16.109      0.000      -0.022      -0.017\n",
      "==============================================================================\n",
      "Omnibus:                        0.454   Durbin-Watson:                   1.754\n",
      "Prob(Omnibus):                  0.797   Jarque-Bera (JB):                0.225\n",
      "Skew:                           0.164   Prob(JB):                        0.893\n",
      "Kurtosis:                       2.999   Cond. No.                         221.\n",
      "==============================================================================\n",
      "\n",
      "Notes:\n",
      "[1] Standard Errors assume that the covariance matrix of the errors is correctly specified.\n"
     ]
    }
   ],
   "source": [
    "olsmod = sm.OLS(y, X)\n",
    "olsres = olsmod.fit()\n",
    "print(olsres.summary())"
   ]
  },
  {
   "cell_type": "markdown",
   "metadata": {},
   "source": [
    "## In-sample prediction"
   ]
  },
  {
   "cell_type": "code",
   "execution_count": 5,
   "metadata": {
    "execution": {
     "iopub.execute_input": "2024-10-24T10:40:51.469312Z",
     "iopub.status.busy": "2024-10-24T10:40:51.469004Z",
     "iopub.status.idle": "2024-10-24T10:40:51.474162Z",
     "shell.execute_reply": "2024-10-24T10:40:51.473421Z"
    }
   },
   "outputs": [
    {
     "name": "stdout",
     "output_type": "stream",
     "text": [
      "[ 4.56969544  5.05256923  5.49545738  5.87049958  6.15989016  6.35880349\n",
      "  6.47618688  6.53329049  6.56017605  6.59077777  6.65732703  6.7850569\n",
      "  6.9880564   7.26695569  7.60882257  7.98928718  8.37654591  8.73658664\n",
      "  9.03877686  9.26089644  9.39278841  9.43802766  9.41333366  9.34582343\n",
      "  9.26855632  9.21510248  9.21402733  9.28419837  9.43168532  9.64876282\n",
      "  9.91517977 10.20148646 10.47387309 10.69972466 10.85297947 10.91841103\n",
      " 10.89412968 10.79189311 10.63517457 10.45530628 10.28633166 10.15941207\n",
      " 10.09770709 10.11256947 10.20167991 10.34942812 10.52947752 10.70909229\n",
      " 10.85451576 10.93651654]\n"
     ]
    }
   ],
   "source": [
    "ypred = olsres.predict(X)\n",
    "print(ypred)"
   ]
  },
  {
   "cell_type": "markdown",
   "metadata": {},
   "source": [
    "## Create a new sample of explanatory variables Xnew, predict and plot"
   ]
  },
  {
   "cell_type": "code",
   "execution_count": 6,
   "metadata": {
    "execution": {
     "iopub.execute_input": "2024-10-24T10:40:51.476635Z",
     "iopub.status.busy": "2024-10-24T10:40:51.476366Z",
     "iopub.status.idle": "2024-10-24T10:40:51.482237Z",
     "shell.execute_reply": "2024-10-24T10:40:51.481590Z"
    }
   },
   "outputs": [
    {
     "name": "stdout",
     "output_type": "stream",
     "text": [
      "[10.9223895  10.77352177 10.50996096 10.17739301  9.83595669  9.54551953\n",
      "  9.35102017  9.2714658   9.29527855  9.38313014]\n"
     ]
    }
   ],
   "source": [
    "x1n = np.linspace(20.5, 25, 10)\n",
    "Xnew = np.column_stack((x1n, np.sin(x1n), (x1n - 5) ** 2))\n",
    "Xnew = sm.add_constant(Xnew)\n",
    "ynewpred = olsres.predict(Xnew)  # predict out of sample\n",
    "print(ynewpred)"
   ]
  },
  {
   "cell_type": "markdown",
   "metadata": {},
   "source": [
    "## Plot comparison"
   ]
  },
  {
   "cell_type": "code",
   "execution_count": 7,
   "metadata": {
    "execution": {
     "iopub.execute_input": "2024-10-24T10:40:51.484942Z",
     "iopub.status.busy": "2024-10-24T10:40:51.484657Z",
     "iopub.status.idle": "2024-10-24T10:40:51.807405Z",
     "shell.execute_reply": "2024-10-24T10:40:51.806707Z"
    }
   },
   "outputs": [
    {
     "data": {
      "text/plain": [
       "<matplotlib.legend.Legend at 0x7fa06a0253f0>"
      ]
     },
     "execution_count": 7,
     "metadata": {},
     "output_type": "execute_result"
    },
    {
     "data": {
      "image/png": "[encoded data removed]",
      "text/plain": [
       "<Figure size 1600x800 with 1 Axes>"
      ]
     },
     "metadata": {},
     "output_type": "display_data"
    }
   ],
   "source": [
    "import matplotlib.pyplot as plt\n",
    "\n",
    "fig, ax = plt.subplots()\n",
    "ax.plot(x1, y, \"o\", label=\"Data\")\n",
    "ax.plot(x1, y_true, \"b-\", label=\"True\")\n",
    "ax.plot(np.hstack((x1, x1n)), np.hstack((ypred, ynewpred)), \"r\", label=\"OLS prediction\")\n",
    "ax.legend(loc=\"best\")"
   ]
  },
  {
   "cell_type": "markdown",
   "metadata": {},
   "source": [
    "## Predicting with Formulas"
   ]
  },
  {
   "cell_type": "markdown",
   "metadata": {},
   "source": [
    "Using formulas can make both estimation and prediction a lot easier"
   ]
  },
  {
   "cell_type": "code",
   "execution_count": 8,
   "metadata": {
    "execution": {
     "iopub.execute_input": "2024-10-24T10:40:51.811325Z",
     "iopub.status.busy": "2024-10-24T10:40:51.810407Z",
     "iopub.status.idle": "2024-10-24T10:40:51.819144Z",
     "shell.execute_reply": "2024-10-24T10:40:51.818489Z"
    }
   },
   "outputs": [],
   "source": [
    "from statsmodels.formula.api import ols\n",
    "\n",
    "data = {\"x1\": x1, \"y\": y}\n",
    "\n",
    "res = ols(\"y ~ x1 + np.sin(x1) + I((x1-5)**2)\", data=data).fit()"
   ]
  },
  {
   "cell_type": "markdown",
   "metadata": {},
   "source": [
    "We use the `I` to indicate use of the Identity transform. Ie., we do not want any expansion magic from using `**2`"
   ]
  },
  {
   "cell_type": "code",
   "execution_count": 9,
   "metadata": {
    "execution": {
     "iopub.execute_input": "2024-10-24T10:40:51.822860Z",
     "iopub.status.busy": "2024-10-24T10:40:51.821968Z",
     "iopub.status.idle": "2024-10-24T10:40:51.830540Z",
     "shell.execute_reply": "2024-10-24T10:40:51.829901Z"
    }
   },
   "outputs": [
    {
     "data": {
      "text/plain": [
       "Intercept           5.068506\n",
       "x1                  0.494530\n",
       "np.sin(x1)          0.511207\n",
       "I((x1 - 5) ** 2)   -0.019952\n",
       "dtype: float64"
      ]
     },
     "execution_count": 9,
     "metadata": {},
     "output_type": "execute_result"
    }
   ],
   "source": [
    "res.params"
   ]
  },
  {
   "cell_type": "markdown",
   "metadata": {},
   "source": [
    "Now we only have to pass the single variable and we get the transformed right-hand side variables automatically"
   ]
  },
  {
   "cell_type": "code",
   "execution_count": 10,
   "metadata": {
    "execution": {
     "iopub.execute_input": "2024-10-24T10:40:51.834106Z",
     "iopub.status.busy": "2024-10-24T10:40:51.833234Z",
     "iopub.status.idle": "2024-10-24T10:40:51.841615Z",
     "shell.execute_reply": "2024-10-24T10:40:51.840995Z"
    }
   },
   "outputs": [
    {
     "data": {
      "text/plain": [
       "0    10.922389\n",
       "1    10.773522\n",
       "2    10.509961\n",
       "3    10.177393\n",
       "4     9.835957\n",
       "5     9.545520\n",
       "6     9.351020\n",
       "7     9.271466\n",
       "8     9.295279\n",
       "9     9.383130\n",
       "dtype: float64"
      ]
     },
     "execution_count": 10,
     "metadata": {},
     "output_type": "execute_result"
    }
   ],
   "source": [
    "res.predict(exog=dict(x1=x1n))"
   ]
  }
 ],
 "metadata": {
  "kernelspec": {
   "display_name": "Python 3",
   "language": "python",
   "name": "python3"
  },
  "language_info": {
   "codemirror_mode": {
    "name": "ipython",
    "version": 3
   },
   "file_extension": ".py",
   "mimetype": "text/x-python",
   "name": "python",
   "nbconvert_exporter": "python",
   "pygments_lexer": "ipython3",
   "version": "3.10.15"
  }
 },
 "nbformat": 4,
 "nbformat_minor": 4
}
