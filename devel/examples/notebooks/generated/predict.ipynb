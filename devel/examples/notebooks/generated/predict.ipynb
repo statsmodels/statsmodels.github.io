{
 "cells": [
  {
   "cell_type": "markdown",
   "metadata": {},
   "source": [
    "# Prediction (out of sample)"
   ]
  },
  {
   "cell_type": "code",
   "execution_count": 1,
   "metadata": {
    "execution": {
     "iopub.execute_input": "2024-08-27T09:37:15.633218Z",
     "iopub.status.busy": "2024-08-27T09:37:15.632982Z",
     "iopub.status.idle": "2024-08-27T09:37:17.379534Z",
     "shell.execute_reply": "2024-08-27T09:37:17.375067Z"
    }
   },
   "outputs": [],
   "source": [
    "%matplotlib inline"
   ]
  },
  {
   "cell_type": "code",
   "execution_count": 2,
   "metadata": {
    "execution": {
     "iopub.execute_input": "2024-08-27T09:37:17.383502Z",
     "iopub.status.busy": "2024-08-27T09:37:17.383008Z",
     "iopub.status.idle": "2024-08-27T09:37:20.596107Z",
     "shell.execute_reply": "2024-08-27T09:37:20.595379Z"
    }
   },
   "outputs": [],
   "source": [
    "import numpy as np\n",
    "import matplotlib.pyplot as plt\n",
    "\n",
    "import statsmodels.api as sm\n",
    "\n",
    "plt.rc(\"figure\", figsize=(16, 8))\n",
    "plt.rc(\"font\", size=14)"
   ]
  },
  {
   "cell_type": "markdown",
   "metadata": {},
   "source": [
    "## Artificial data"
   ]
  },
  {
   "cell_type": "code",
   "execution_count": 3,
   "metadata": {
    "execution": {
     "iopub.execute_input": "2024-08-27T09:37:20.601165Z",
     "iopub.status.busy": "2024-08-27T09:37:20.599903Z",
     "iopub.status.idle": "2024-08-27T09:37:20.615785Z",
     "shell.execute_reply": "2024-08-27T09:37:20.615029Z"
    }
   },
   "outputs": [],
   "source": [
    "nsample = 50\n",
    "sig = 0.25\n",
    "x1 = np.linspace(0, 20, nsample)\n",
    "X = np.column_stack((x1, np.sin(x1), (x1 - 5) ** 2))\n",
    "X = sm.add_constant(X)\n",
    "beta = [5.0, 0.5, 0.5, -0.02]\n",
    "y_true = np.dot(X, beta)\n",
    "y = y_true + sig * np.random.normal(size=nsample)"
   ]
  },
  {
   "cell_type": "markdown",
   "metadata": {},
   "source": [
    "## Estimation "
   ]
  },
  {
   "cell_type": "code",
   "execution_count": 4,
   "metadata": {
    "execution": {
     "iopub.execute_input": "2024-08-27T09:37:20.620439Z",
     "iopub.status.busy": "2024-08-27T09:37:20.619303Z",
     "iopub.status.idle": "2024-08-27T09:37:20.652315Z",
     "shell.execute_reply": "2024-08-27T09:37:20.651620Z"
    }
   },
   "outputs": [
    {
     "name": "stdout",
     "output_type": "stream",
     "text": [
      "                            OLS Regression Results                            \n",
      "==============================================================================\n",
      "Dep. Variable:                      y   R-squared:                       0.981\n",
      "Model:                            OLS   Adj. R-squared:                  0.980\n",
      "Method:                 Least Squares   F-statistic:                     810.5\n",
      "Date:                Tue, 27 Aug 2024   Prob (F-statistic):           8.27e-40\n",
      "Time:                        09:37:20   Log-Likelihood:                -3.9248\n",
      "No. Observations:                  50   AIC:                             15.85\n",
      "Df Residuals:                      46   BIC:                             23.50\n",
      "Df Model:                           3                                         \n",
      "Covariance Type:            nonrobust                                         \n",
      "==============================================================================\n",
      "                 coef    std err          t      P>|t|      [0.025      0.975]\n",
      "------------------------------------------------------------------------------\n",
      "const          4.8551      0.093     52.202      0.000       4.668       5.042\n",
      "x1             0.5308      0.014     37.003      0.000       0.502       0.560\n",
      "x2             0.6218      0.056     11.026      0.000       0.508       0.735\n",
      "x3            -0.0225      0.001    -17.860      0.000      -0.025      -0.020\n",
      "==============================================================================\n",
      "Omnibus:                        0.553   Durbin-Watson:                   2.181\n",
      "Prob(Omnibus):                  0.758   Jarque-Bera (JB):                0.656\n",
      "Skew:                          -0.221   Prob(JB):                        0.720\n",
      "Kurtosis:                       2.655   Cond. No.                         221.\n",
      "==============================================================================\n",
      "\n",
      "Notes:\n",
      "[1] Standard Errors assume that the covariance matrix of the errors is correctly specified.\n"
     ]
    }
   ],
   "source": [
    "olsmod = sm.OLS(y, X)\n",
    "olsres = olsmod.fit()\n",
    "print(olsres.summary())"
   ]
  },
  {
   "cell_type": "markdown",
   "metadata": {},
   "source": [
    "## In-sample prediction"
   ]
  },
  {
   "cell_type": "code",
   "execution_count": 5,
   "metadata": {
    "execution": {
     "iopub.execute_input": "2024-08-27T09:37:20.656933Z",
     "iopub.status.busy": "2024-08-27T09:37:20.655796Z",
     "iopub.status.idle": "2024-08-27T09:37:20.671578Z",
     "shell.execute_reply": "2024-08-27T09:37:20.670947Z"
    }
   },
   "outputs": [
    {
     "name": "stdout",
     "output_type": "stream",
     "text": [
      "[ 4.29277511  4.84426736  5.34771803  5.76924197  6.08718298  6.29567191\n",
      "  6.40559091  6.44278556  6.44381847  6.44996218  6.50041819  6.62587626\n",
      "  6.84347217  7.15397238  7.54164805  7.9768593   8.42092495  8.83247768\n",
      "  9.17426064  9.41924857  9.55508802  9.58612699  9.53270052  9.42778975\n",
      "  9.3116032   9.2249706   9.20263471  9.26754316  9.42707824  9.67184399\n",
      "  9.97720996 10.30735788 10.62116654 10.87896787 11.04906428 11.11293652\n",
      " 11.06828631 10.92941394 10.72486879 10.49275875 10.27448918 10.10796014\n",
      " 10.02133951 10.02843511 10.12642607 10.29632635 10.50610404 10.71594413\n",
      " 10.88479002 10.97708898]\n"
     ]
    }
   ],
   "source": [
    "ypred = olsres.predict(X)\n",
    "print(ypred)"
   ]
  },
  {
   "cell_type": "markdown",
   "metadata": {},
   "source": [
    "## Create a new sample of explanatory variables Xnew, predict and plot"
   ]
  },
  {
   "cell_type": "code",
   "execution_count": 6,
   "metadata": {
    "execution": {
     "iopub.execute_input": "2024-08-27T09:37:20.675707Z",
     "iopub.status.busy": "2024-08-27T09:37:20.674616Z",
     "iopub.status.idle": "2024-08-27T09:37:20.691969Z",
     "shell.execute_reply": "2024-08-27T09:37:20.691243Z"
    }
   },
   "outputs": [
    {
     "name": "stdout",
     "output_type": "stream",
     "text": [
      "[10.95160495 10.76312923 10.43604474 10.02591709  9.60589019  9.24877801\n",
      "  9.00923727  8.91038549  8.93814107  9.04467091]\n"
     ]
    }
   ],
   "source": [
    "x1n = np.linspace(20.5, 25, 10)\n",
    "Xnew = np.column_stack((x1n, np.sin(x1n), (x1n - 5) ** 2))\n",
    "Xnew = sm.add_constant(Xnew)\n",
    "ynewpred = olsres.predict(Xnew)  # predict out of sample\n",
    "print(ynewpred)"
   ]
  },
  {
   "cell_type": "markdown",
   "metadata": {},
   "source": [
    "## Plot comparison"
   ]
  },
  {
   "cell_type": "code",
   "execution_count": 7,
   "metadata": {
    "execution": {
     "iopub.execute_input": "2024-08-27T09:37:20.696669Z",
     "iopub.status.busy": "2024-08-27T09:37:20.695519Z",
     "iopub.status.idle": "2024-08-27T09:37:21.431988Z",
     "shell.execute_reply": "2024-08-27T09:37:21.431153Z"
    }
   },
   "outputs": [
    {
     "data": {
      "text/plain": [
       "<matplotlib.legend.Legend at 0x7f786cdf5e70>"
      ]
     },
     "execution_count": 7,
     "metadata": {},
     "output_type": "execute_result"
    },
    {
     "data": {
      "image/png": "[encoded data removed]",
      "text/plain": [
       "<Figure size 1600x800 with 1 Axes>"
      ]
     },
     "metadata": {},
     "output_type": "display_data"
    }
   ],
   "source": [
    "import matplotlib.pyplot as plt\n",
    "\n",
    "fig, ax = plt.subplots()\n",
    "ax.plot(x1, y, \"o\", label=\"Data\")\n",
    "ax.plot(x1, y_true, \"b-\", label=\"True\")\n",
    "ax.plot(np.hstack((x1, x1n)), np.hstack((ypred, ynewpred)), \"r\", label=\"OLS prediction\")\n",
    "ax.legend(loc=\"best\")"
   ]
  },
  {
   "cell_type": "markdown",
   "metadata": {},
   "source": [
    "## Predicting with Formulas"
   ]
  },
  {
   "cell_type": "markdown",
   "metadata": {},
   "source": [
    "Using formulas can make both estimation and prediction a lot easier"
   ]
  },
  {
   "cell_type": "code",
   "execution_count": 8,
   "metadata": {
    "execution": {
     "iopub.execute_input": "2024-08-27T09:37:21.435466Z",
     "iopub.status.busy": "2024-08-27T09:37:21.435157Z",
     "iopub.status.idle": "2024-08-27T09:37:21.448353Z",
     "shell.execute_reply": "2024-08-27T09:37:21.447681Z"
    }
   },
   "outputs": [],
   "source": [
    "from statsmodels.formula.api import ols\n",
    "\n",
    "data = {\"x1\": x1, \"y\": y}\n",
    "\n",
    "res = ols(\"y ~ x1 + np.sin(x1) + I((x1-5)**2)\", data=data).fit()"
   ]
  },
  {
   "cell_type": "markdown",
   "metadata": {},
   "source": [
    "We use the `I` to indicate use of the Identity transform. Ie., we do not want any expansion magic from using `**2`"
   ]
  },
  {
   "cell_type": "code",
   "execution_count": 9,
   "metadata": {
    "execution": {
     "iopub.execute_input": "2024-08-27T09:37:21.457869Z",
     "iopub.status.busy": "2024-08-27T09:37:21.451677Z",
     "iopub.status.idle": "2024-08-27T09:37:21.466383Z",
     "shell.execute_reply": "2024-08-27T09:37:21.465784Z"
    }
   },
   "outputs": [
    {
     "data": {
      "text/plain": [
       "Intercept           4.855109\n",
       "x1                  0.530768\n",
       "np.sin(x1)          0.621756\n",
       "I((x1 - 5) ** 2)   -0.022493\n",
       "dtype: float64"
      ]
     },
     "execution_count": 9,
     "metadata": {},
     "output_type": "execute_result"
    }
   ],
   "source": [
    "res.params"
   ]
  },
  {
   "cell_type": "markdown",
   "metadata": {},
   "source": [
    "Now we only have to pass the single variable and we get the transformed right-hand side variables automatically"
   ]
  },
  {
   "cell_type": "code",
   "execution_count": 10,
   "metadata": {
    "execution": {
     "iopub.execute_input": "2024-08-27T09:37:21.473133Z",
     "iopub.status.busy": "2024-08-27T09:37:21.469495Z",
     "iopub.status.idle": "2024-08-27T09:37:21.488807Z",
     "shell.execute_reply": "2024-08-27T09:37:21.488189Z"
    }
   },
   "outputs": [
    {
     "data": {
      "text/plain": [
       "0    10.951605\n",
       "1    10.763129\n",
       "2    10.436045\n",
       "3    10.025917\n",
       "4     9.605890\n",
       "5     9.248778\n",
       "6     9.009237\n",
       "7     8.910385\n",
       "8     8.938141\n",
       "9     9.044671\n",
       "dtype: float64"
      ]
     },
     "execution_count": 10,
     "metadata": {},
     "output_type": "execute_result"
    }
   ],
   "source": [
    "res.predict(exog=dict(x1=x1n))"
   ]
  }
 ],
 "metadata": {
  "kernelspec": {
   "display_name": "Python 3",
   "language": "python",
   "name": "python3"
  },
  "language_info": {
   "codemirror_mode": {
    "name": "ipython",
    "version": 3
   },
   "file_extension": ".py",
   "mimetype": "text/x-python",
   "name": "python",
   "nbconvert_exporter": "python",
   "pygments_lexer": "ipython3",
   "version": "3.10.14"
  }
 },
 "nbformat": 4,
 "nbformat_minor": 4
}
