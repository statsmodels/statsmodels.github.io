{
 "cells": [
  {
   "cell_type": "markdown",
   "metadata": {},
   "source": [
    "# Prediction (out of sample)"
   ]
  },
  {
   "cell_type": "code",
   "execution_count": 1,
   "metadata": {
    "execution": {
     "iopub.execute_input": "2023-12-11T10:39:47.896116Z",
     "iopub.status.busy": "2023-12-11T10:39:47.895876Z",
     "iopub.status.idle": "2023-12-11T10:39:49.046164Z",
     "shell.execute_reply": "2023-12-11T10:39:49.045069Z"
    }
   },
   "outputs": [],
   "source": [
    "%matplotlib inline"
   ]
  },
  {
   "cell_type": "code",
   "execution_count": 2,
   "metadata": {
    "execution": {
     "iopub.execute_input": "2023-12-11T10:39:49.050975Z",
     "iopub.status.busy": "2023-12-11T10:39:49.050305Z",
     "iopub.status.idle": "2023-12-11T10:39:50.654252Z",
     "shell.execute_reply": "2023-12-11T10:39:50.653538Z"
    }
   },
   "outputs": [],
   "source": [
    "import numpy as np\n",
    "import matplotlib.pyplot as plt\n",
    "\n",
    "import statsmodels.api as sm\n",
    "\n",
    "plt.rc(\"figure\", figsize=(16, 8))\n",
    "plt.rc(\"font\", size=14)"
   ]
  },
  {
   "cell_type": "markdown",
   "metadata": {},
   "source": [
    "## Artificial data"
   ]
  },
  {
   "cell_type": "code",
   "execution_count": 3,
   "metadata": {
    "execution": {
     "iopub.execute_input": "2023-12-11T10:39:50.658641Z",
     "iopub.status.busy": "2023-12-11T10:39:50.658141Z",
     "iopub.status.idle": "2023-12-11T10:39:50.665843Z",
     "shell.execute_reply": "2023-12-11T10:39:50.665095Z"
    }
   },
   "outputs": [],
   "source": [
    "nsample = 50\n",
    "sig = 0.25\n",
    "x1 = np.linspace(0, 20, nsample)\n",
    "X = np.column_stack((x1, np.sin(x1), (x1 - 5) ** 2))\n",
    "X = sm.add_constant(X)\n",
    "beta = [5.0, 0.5, 0.5, -0.02]\n",
    "y_true = np.dot(X, beta)\n",
    "y = y_true + sig * np.random.normal(size=nsample)"
   ]
  },
  {
   "cell_type": "markdown",
   "metadata": {},
   "source": [
    "## Estimation "
   ]
  },
  {
   "cell_type": "code",
   "execution_count": 4,
   "metadata": {
    "execution": {
     "iopub.execute_input": "2023-12-11T10:39:50.669476Z",
     "iopub.status.busy": "2023-12-11T10:39:50.669029Z",
     "iopub.status.idle": "2023-12-11T10:39:50.685459Z",
     "shell.execute_reply": "2023-12-11T10:39:50.684815Z"
    }
   },
   "outputs": [
    {
     "name": "stdout",
     "output_type": "stream",
     "text": [
      "                            OLS Regression Results                            \n",
      "==============================================================================\n",
      "Dep. Variable:                      y   R-squared:                       0.983\n",
      "Model:                            OLS   Adj. R-squared:                  0.982\n",
      "Method:                 Least Squares   F-statistic:                     882.8\n",
      "Date:                Mon, 11 Dec 2023   Prob (F-statistic):           1.20e-40\n",
      "Time:                        10:39:50   Log-Likelihood:               0.046164\n",
      "No. Observations:                  50   AIC:                             7.908\n",
      "Df Residuals:                      46   BIC:                             15.56\n",
      "Df Model:                           3                                         \n",
      "Covariance Type:            nonrobust                                         \n",
      "==============================================================================\n",
      "                 coef    std err          t      P>|t|      [0.025      0.975]\n",
      "------------------------------------------------------------------------------\n",
      "const          5.0268      0.086     58.515      0.000       4.854       5.200\n",
      "x1             0.5073      0.013     38.293      0.000       0.481       0.534\n",
      "x2             0.5071      0.052      9.737      0.000       0.402       0.612\n",
      "x3            -0.0211      0.001    -18.147      0.000      -0.023      -0.019\n",
      "==============================================================================\n",
      "Omnibus:                        1.914   Durbin-Watson:                   1.549\n",
      "Prob(Omnibus):                  0.384   Jarque-Bera (JB):                1.854\n",
      "Skew:                           0.409   Prob(JB):                        0.396\n",
      "Kurtosis:                       2.529   Cond. No.                         221.\n",
      "==============================================================================\n",
      "\n",
      "Notes:\n",
      "[1] Standard Errors assume that the covariance matrix of the errors is correctly specified.\n"
     ]
    }
   ],
   "source": [
    "olsmod = sm.OLS(y, X)\n",
    "olsres = olsmod.fit()\n",
    "print(olsres.summary())"
   ]
  },
  {
   "cell_type": "markdown",
   "metadata": {},
   "source": [
    "## In-sample prediction"
   ]
  },
  {
   "cell_type": "code",
   "execution_count": 5,
   "metadata": {
    "execution": {
     "iopub.execute_input": "2023-12-11T10:39:50.690116Z",
     "iopub.status.busy": "2023-12-11T10:39:50.688968Z",
     "iopub.status.idle": "2023-12-11T10:39:50.695942Z",
     "shell.execute_reply": "2023-12-11T10:39:50.695336Z"
    }
   },
   "outputs": [
    {
     "name": "stdout",
     "output_type": "stream",
     "text": [
      "[ 4.49907756  4.99007979  5.4409785   5.82413696  6.12189238  6.32945788\n",
      "  6.45570894  6.52172521  6.55732715  6.59617666  6.67024646  6.80456713\n",
      "  7.01311461  7.29651401  7.6419369   8.02520901  8.41478194  8.77691654\n",
      "  9.0812261   9.30566882  9.44016925  9.48827359  9.46656712  9.40194924\n",
      "  9.32721403  9.2756622   9.27562996  9.34583338  9.49229347  9.70734688\n",
      "  9.97090501 10.2537545  10.52235686 10.74435884 10.89390789 10.9558997\n",
      " 10.92845978 10.82325147 10.66355964 10.48046507 10.30773797 10.17628964\n",
      " 10.10909379 10.11741208 10.19894382 10.33820398 10.50906734 10.67906079\n",
      " 10.81469855 10.88698384]\n"
     ]
    }
   ],
   "source": [
    "ypred = olsres.predict(X)\n",
    "print(ypred)"
   ]
  },
  {
   "cell_type": "markdown",
   "metadata": {},
   "source": [
    "## Create a new sample of explanatory variables Xnew, predict and plot"
   ]
  },
  {
   "cell_type": "code",
   "execution_count": 6,
   "metadata": {
    "execution": {
     "iopub.execute_input": "2023-12-11T10:39:50.701172Z",
     "iopub.status.busy": "2023-12-11T10:39:50.699554Z",
     "iopub.status.idle": "2023-12-11T10:39:50.710189Z",
     "shell.execute_reply": "2023-12-11T10:39:50.709590Z"
    }
   },
   "outputs": [
    {
     "name": "stdout",
     "output_type": "stream",
     "text": [
      "[10.86127683 10.70125202 10.42679612 10.08322843  9.73020511  9.42711325\n",
      "  9.21853085  9.12331258  9.12997346  9.19950084]\n"
     ]
    }
   ],
   "source": [
    "x1n = np.linspace(20.5, 25, 10)\n",
    "Xnew = np.column_stack((x1n, np.sin(x1n), (x1n - 5) ** 2))\n",
    "Xnew = sm.add_constant(Xnew)\n",
    "ynewpred = olsres.predict(Xnew)  # predict out of sample\n",
    "print(ynewpred)"
   ]
  },
  {
   "cell_type": "markdown",
   "metadata": {},
   "source": [
    "## Plot comparison"
   ]
  },
  {
   "cell_type": "code",
   "execution_count": 7,
   "metadata": {
    "execution": {
     "iopub.execute_input": "2023-12-11T10:39:50.715483Z",
     "iopub.status.busy": "2023-12-11T10:39:50.713881Z",
     "iopub.status.idle": "2023-12-11T10:39:51.156312Z",
     "shell.execute_reply": "2023-12-11T10:39:51.155635Z"
    }
   },
   "outputs": [
    {
     "data": {
      "text/plain": [
       "<matplotlib.legend.Legend at 0x7f114c87ab30>"
      ]
     },
     "execution_count": 7,
     "metadata": {},
     "output_type": "execute_result"
    },
    {
     "data": {
      "image/png": "[encoded data removed]",
      "text/plain": [
       "<Figure size 1600x800 with 1 Axes>"
      ]
     },
     "metadata": {},
     "output_type": "display_data"
    }
   ],
   "source": [
    "import matplotlib.pyplot as plt\n",
    "\n",
    "fig, ax = plt.subplots()\n",
    "ax.plot(x1, y, \"o\", label=\"Data\")\n",
    "ax.plot(x1, y_true, \"b-\", label=\"True\")\n",
    "ax.plot(np.hstack((x1, x1n)), np.hstack((ypred, ynewpred)), \"r\", label=\"OLS prediction\")\n",
    "ax.legend(loc=\"best\")"
   ]
  },
  {
   "cell_type": "markdown",
   "metadata": {},
   "source": [
    "## Predicting with Formulas"
   ]
  },
  {
   "cell_type": "markdown",
   "metadata": {},
   "source": [
    "Using formulas can make both estimation and prediction a lot easier"
   ]
  },
  {
   "cell_type": "code",
   "execution_count": 8,
   "metadata": {
    "execution": {
     "iopub.execute_input": "2023-12-11T10:39:51.160079Z",
     "iopub.status.busy": "2023-12-11T10:39:51.159825Z",
     "iopub.status.idle": "2023-12-11T10:39:51.169552Z",
     "shell.execute_reply": "2023-12-11T10:39:51.168942Z"
    }
   },
   "outputs": [],
   "source": [
    "from statsmodels.formula.api import ols\n",
    "\n",
    "data = {\"x1\": x1, \"y\": y}\n",
    "\n",
    "res = ols(\"y ~ x1 + np.sin(x1) + I((x1-5)**2)\", data=data).fit()"
   ]
  },
  {
   "cell_type": "markdown",
   "metadata": {},
   "source": [
    "We use the `I` to indicate use of the Identity transform. Ie., we do not want any expansion magic from using `**2`"
   ]
  },
  {
   "cell_type": "code",
   "execution_count": 9,
   "metadata": {
    "execution": {
     "iopub.execute_input": "2023-12-11T10:39:51.173987Z",
     "iopub.status.busy": "2023-12-11T10:39:51.172866Z",
     "iopub.status.idle": "2023-12-11T10:39:51.181331Z",
     "shell.execute_reply": "2023-12-11T10:39:51.180733Z"
    }
   },
   "outputs": [
    {
     "data": {
      "text/plain": [
       "Intercept           5.026807\n",
       "x1                  0.507339\n",
       "np.sin(x1)          0.507104\n",
       "I((x1 - 5) ** 2)   -0.021109\n",
       "dtype: float64"
      ]
     },
     "execution_count": 9,
     "metadata": {},
     "output_type": "execute_result"
    }
   ],
   "source": [
    "res.params"
   ]
  },
  {
   "cell_type": "markdown",
   "metadata": {},
   "source": [
    "Now we only have to pass the single variable and we get the transformed right-hand side variables automatically"
   ]
  },
  {
   "cell_type": "code",
   "execution_count": 10,
   "metadata": {
    "execution": {
     "iopub.execute_input": "2023-12-11T10:39:51.186367Z",
     "iopub.status.busy": "2023-12-11T10:39:51.184788Z",
     "iopub.status.idle": "2023-12-11T10:39:51.199210Z",
     "shell.execute_reply": "2023-12-11T10:39:51.198589Z"
    }
   },
   "outputs": [
    {
     "data": {
      "text/plain": [
       "0    10.861277\n",
       "1    10.701252\n",
       "2    10.426796\n",
       "3    10.083228\n",
       "4     9.730205\n",
       "5     9.427113\n",
       "6     9.218531\n",
       "7     9.123313\n",
       "8     9.129973\n",
       "9     9.199501\n",
       "dtype: float64"
      ]
     },
     "execution_count": 10,
     "metadata": {},
     "output_type": "execute_result"
    }
   ],
   "source": [
    "res.predict(exog=dict(x1=x1n))"
   ]
  }
 ],
 "metadata": {
  "kernelspec": {
   "display_name": "Python 3",
   "language": "python",
   "name": "python3"
  },
  "language_info": {
   "codemirror_mode": {
    "name": "ipython",
    "version": 3
   },
   "file_extension": ".py",
   "mimetype": "text/x-python",
   "name": "python",
   "nbconvert_exporter": "python",
   "pygments_lexer": "ipython3",
   "version": "3.10.13"
  }
 },
 "nbformat": 4,
 "nbformat_minor": 4
}
