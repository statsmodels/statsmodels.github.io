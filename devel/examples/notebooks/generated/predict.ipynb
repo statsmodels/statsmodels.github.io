{
 "cells": [
  {
   "cell_type": "markdown",
   "metadata": {},
   "source": [
    "# Prediction (out of sample)"
   ]
  },
  {
   "cell_type": "code",
   "execution_count": 1,
   "metadata": {
    "execution": {
     "iopub.execute_input": "2025-08-26T10:51:44.520938Z",
     "iopub.status.busy": "2025-08-26T10:51:44.520730Z",
     "iopub.status.idle": "2025-08-26T10:51:46.268220Z",
     "shell.execute_reply": "2025-08-26T10:51:46.267544Z"
    }
   },
   "outputs": [],
   "source": [
    "%matplotlib inline"
   ]
  },
  {
   "cell_type": "code",
   "execution_count": 2,
   "metadata": {
    "execution": {
     "iopub.execute_input": "2025-08-26T10:51:46.281352Z",
     "iopub.status.busy": "2025-08-26T10:51:46.280971Z",
     "iopub.status.idle": "2025-08-26T10:51:49.801181Z",
     "shell.execute_reply": "2025-08-26T10:51:49.800476Z"
    }
   },
   "outputs": [],
   "source": [
    "import numpy as np\n",
    "import matplotlib.pyplot as plt\n",
    "\n",
    "import statsmodels.api as sm\n",
    "\n",
    "plt.rc(\"figure\", figsize=(16, 8))\n",
    "plt.rc(\"font\", size=14)"
   ]
  },
  {
   "cell_type": "markdown",
   "metadata": {},
   "source": [
    "## Artificial data"
   ]
  },
  {
   "cell_type": "code",
   "execution_count": 3,
   "metadata": {
    "execution": {
     "iopub.execute_input": "2025-08-26T10:51:49.810308Z",
     "iopub.status.busy": "2025-08-26T10:51:49.809941Z",
     "iopub.status.idle": "2025-08-26T10:51:49.824101Z",
     "shell.execute_reply": "2025-08-26T10:51:49.823458Z"
    }
   },
   "outputs": [],
   "source": [
    "nsample = 50\n",
    "sig = 0.25\n",
    "x1 = np.linspace(0, 20, nsample)\n",
    "X = np.column_stack((x1, np.sin(x1), (x1 - 5) ** 2))\n",
    "X = sm.add_constant(X)\n",
    "beta = [5.0, 0.5, 0.5, -0.02]\n",
    "y_true = np.dot(X, beta)\n",
    "y = y_true + sig * np.random.normal(size=nsample)"
   ]
  },
  {
   "cell_type": "markdown",
   "metadata": {},
   "source": [
    "## Estimation "
   ]
  },
  {
   "cell_type": "code",
   "execution_count": 4,
   "metadata": {
    "execution": {
     "iopub.execute_input": "2025-08-26T10:51:49.830200Z",
     "iopub.status.busy": "2025-08-26T10:51:49.829967Z",
     "iopub.status.idle": "2025-08-26T10:51:49.867876Z",
     "shell.execute_reply": "2025-08-26T10:51:49.867257Z"
    }
   },
   "outputs": [
    {
     "name": "stdout",
     "output_type": "stream",
     "text": [
      "                            OLS Regression Results                            \n",
      "==============================================================================\n",
      "Dep. Variable:                      y   R-squared:                       0.989\n",
      "Model:                            OLS   Adj. R-squared:                  0.989\n",
      "Method:                 Least Squares   F-statistic:                     1408.\n",
      "Date:                Tue, 26 Aug 2025   Prob (F-statistic):           3.01e-45\n",
      "Time:                        10:51:49   Log-Likelihood:                 10.173\n",
      "No. Observations:                  50   AIC:                            -12.35\n",
      "Df Residuals:                      46   BIC:                            -4.697\n",
      "Df Model:                           3                                         \n",
      "Covariance Type:            nonrobust                                         \n",
      "==============================================================================\n",
      "                 coef    std err          t      P>|t|      [0.025      0.975]\n",
      "------------------------------------------------------------------------------\n",
      "const          4.9430      0.070     70.458      0.000       4.802       5.084\n",
      "x1             0.5098      0.011     47.116      0.000       0.488       0.532\n",
      "x2             0.5158      0.043     12.126      0.000       0.430       0.601\n",
      "x3            -0.0201      0.001    -21.185      0.000      -0.022      -0.018\n",
      "==============================================================================\n",
      "Omnibus:                        0.473   Durbin-Watson:                   2.165\n",
      "Prob(Omnibus):                  0.789   Jarque-Bera (JB):                0.609\n",
      "Skew:                          -0.192   Prob(JB):                        0.738\n",
      "Kurtosis:                       2.620   Cond. No.                         221.\n",
      "==============================================================================\n",
      "\n",
      "Notes:\n",
      "[1] Standard Errors assume that the covariance matrix of the errors is correctly specified.\n"
     ]
    }
   ],
   "source": [
    "olsmod = sm.OLS(y, X)\n",
    "olsres = olsmod.fit()\n",
    "print(olsres.summary())"
   ]
  },
  {
   "cell_type": "markdown",
   "metadata": {},
   "source": [
    "## In-sample prediction"
   ]
  },
  {
   "cell_type": "code",
   "execution_count": 5,
   "metadata": {
    "execution": {
     "iopub.execute_input": "2025-08-26T10:51:49.874136Z",
     "iopub.status.busy": "2025-08-26T10:51:49.873892Z",
     "iopub.status.idle": "2025-08-26T10:51:49.883908Z",
     "shell.execute_reply": "2025-08-26T10:51:49.883289Z"
    }
   },
   "outputs": [
    {
     "name": "stdout",
     "output_type": "stream",
     "text": [
      "[ 4.43987668  4.9314723   5.38272628  5.765529    6.06191545  6.26701683\n",
      "  6.38986051  6.45188682  6.48342646  6.51871731  6.59027917  6.7235709\n",
      "  6.93280759  7.21862505  7.56797534  7.95627054  8.35142245  8.71911461\n",
      "  9.02844038  9.25698082  9.39448806  9.44456899  9.42409267  9.36041878\n",
      "  9.28690251  9.23741438  9.24077545  9.31602204  9.46927817  9.69274938\n",
      "  9.96600334 10.2593268  10.53860745 10.77093842 10.93002481 11.00050387\n",
      " 10.98046905 10.88178323 10.72812972 10.5511211  10.38510543 10.2615229\n",
      " 10.20374034 10.22321209 10.3175981  10.47114837 10.65729067 10.84299624\n",
      " 10.99420636 11.08142807]\n"
     ]
    }
   ],
   "source": [
    "ypred = olsres.predict(X)\n",
    "print(ypred)"
   ]
  },
  {
   "cell_type": "markdown",
   "metadata": {},
   "source": [
    "## Create a new sample of explanatory variables Xnew, predict and plot"
   ]
  },
  {
   "cell_type": "code",
   "execution_count": 6,
   "metadata": {
    "execution": {
     "iopub.execute_input": "2025-08-26T10:51:49.886394Z",
     "iopub.status.busy": "2025-08-26T10:51:49.886162Z",
     "iopub.status.idle": "2025-08-26T10:51:49.900100Z",
     "shell.execute_reply": "2025-08-26T10:51:49.899530Z"
    }
   },
   "outputs": [
    {
     "name": "stdout",
     "output_type": "stream",
     "text": [
      "[11.07267382 10.92797588 10.66756125 10.33752468  9.99854307  9.71101968\n",
      "  9.52029526  9.44554709  9.4750937   9.56925488]\n"
     ]
    }
   ],
   "source": [
    "x1n = np.linspace(20.5, 25, 10)\n",
    "Xnew = np.column_stack((x1n, np.sin(x1n), (x1n - 5) ** 2))\n",
    "Xnew = sm.add_constant(Xnew)\n",
    "ynewpred = olsres.predict(Xnew)  # predict out of sample\n",
    "print(ynewpred)"
   ]
  },
  {
   "cell_type": "markdown",
   "metadata": {},
   "source": [
    "## Plot comparison"
   ]
  },
  {
   "cell_type": "code",
   "execution_count": 7,
   "metadata": {
    "execution": {
     "iopub.execute_input": "2025-08-26T10:51:49.903312Z",
     "iopub.status.busy": "2025-08-26T10:51:49.903085Z",
     "iopub.status.idle": "2025-08-26T10:51:50.613547Z",
     "shell.execute_reply": "2025-08-26T10:51:50.607238Z"
    }
   },
   "outputs": [
    {
     "data": {
      "text/plain": [
       "<matplotlib.legend.Legend at 0x7f668cd08250>"
      ]
     },
     "execution_count": 7,
     "metadata": {},
     "output_type": "execute_result"
    },
    {
     "data": {
      "image/png": "[encoded data removed]",
      "text/plain": [
       "<Figure size 1600x800 with 1 Axes>"
      ]
     },
     "metadata": {},
     "output_type": "display_data"
    }
   ],
   "source": [
    "import matplotlib.pyplot as plt\n",
    "\n",
    "fig, ax = plt.subplots()\n",
    "ax.plot(x1, y, \"o\", label=\"Data\")\n",
    "ax.plot(x1, y_true, \"b-\", label=\"True\")\n",
    "ax.plot(np.hstack((x1, x1n)), np.hstack((ypred, ynewpred)), \"r\", label=\"OLS prediction\")\n",
    "ax.legend(loc=\"best\")"
   ]
  },
  {
   "cell_type": "markdown",
   "metadata": {},
   "source": [
    "## Predicting with Formulas"
   ]
  },
  {
   "cell_type": "markdown",
   "metadata": {},
   "source": [
    "Using formulas can make both estimation and prediction a lot easier"
   ]
  },
  {
   "cell_type": "code",
   "execution_count": 8,
   "metadata": {
    "execution": {
     "iopub.execute_input": "2025-08-26T10:51:50.619682Z",
     "iopub.status.busy": "2025-08-26T10:51:50.619408Z",
     "iopub.status.idle": "2025-08-26T10:51:50.641104Z",
     "shell.execute_reply": "2025-08-26T10:51:50.640368Z"
    }
   },
   "outputs": [],
   "source": [
    "from statsmodels.formula.api import ols\n",
    "\n",
    "data = {\"x1\": x1, \"y\": y}\n",
    "\n",
    "res = ols(\"y ~ x1 + np.sin(x1) + I((x1-5)**2)\", data=data).fit()"
   ]
  },
  {
   "cell_type": "markdown",
   "metadata": {},
   "source": [
    "We use the `I` to indicate use of the Identity transform. Ie., we do not want any expansion magic from using `**2`"
   ]
  },
  {
   "cell_type": "code",
   "execution_count": 9,
   "metadata": {
    "execution": {
     "iopub.execute_input": "2025-08-26T10:51:50.647523Z",
     "iopub.status.busy": "2025-08-26T10:51:50.647273Z",
     "iopub.status.idle": "2025-08-26T10:51:50.660789Z",
     "shell.execute_reply": "2025-08-26T10:51:50.660123Z"
    }
   },
   "outputs": [
    {
     "data": {
      "text/plain": [
       "Intercept           4.943016\n",
       "x1                  0.509789\n",
       "np.sin(x1)          0.515781\n",
       "I((x1 - 5) ** 2)   -0.020126\n",
       "dtype: float64"
      ]
     },
     "execution_count": 9,
     "metadata": {},
     "output_type": "execute_result"
    }
   ],
   "source": [
    "res.params"
   ]
  },
  {
   "cell_type": "markdown",
   "metadata": {},
   "source": [
    "Now we only have to pass the single variable and we get the transformed right-hand side variables automatically"
   ]
  },
  {
   "cell_type": "code",
   "execution_count": 10,
   "metadata": {
    "execution": {
     "iopub.execute_input": "2025-08-26T10:51:50.666651Z",
     "iopub.status.busy": "2025-08-26T10:51:50.665392Z",
     "iopub.status.idle": "2025-08-26T10:51:50.684683Z",
     "shell.execute_reply": "2025-08-26T10:51:50.684066Z"
    }
   },
   "outputs": [
    {
     "data": {
      "text/plain": [
       "0    11.072674\n",
       "1    10.927976\n",
       "2    10.667561\n",
       "3    10.337525\n",
       "4     9.998543\n",
       "5     9.711020\n",
       "6     9.520295\n",
       "7     9.445547\n",
       "8     9.475094\n",
       "9     9.569255\n",
       "dtype: float64"
      ]
     },
     "execution_count": 10,
     "metadata": {},
     "output_type": "execute_result"
    }
   ],
   "source": [
    "res.predict(exog=dict(x1=x1n))"
   ]
  }
 ],
 "metadata": {
  "kernelspec": {
   "display_name": "Python 3",
   "language": "python",
   "name": "python3"
  },
  "language_info": {
   "codemirror_mode": {
    "name": "ipython",
    "version": 3
   },
   "file_extension": ".py",
   "mimetype": "text/x-python",
   "name": "python",
   "nbconvert_exporter": "python",
   "pygments_lexer": "ipython3",
   "version": "3.10.18"
  }
 },
 "nbformat": 4,
 "nbformat_minor": 4
}
