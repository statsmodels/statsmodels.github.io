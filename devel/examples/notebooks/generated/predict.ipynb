{
 "cells": [
  {
   "cell_type": "markdown",
   "metadata": {},
   "source": [
    "# Prediction (out of sample)"
   ]
  },
  {
   "cell_type": "code",
   "execution_count": 1,
   "metadata": {
    "execution": {
     "iopub.execute_input": "2024-04-18T09:15:50.271320Z",
     "iopub.status.busy": "2024-04-18T09:15:50.271080Z",
     "iopub.status.idle": "2024-04-18T09:15:51.907908Z",
     "shell.execute_reply": "2024-04-18T09:15:51.907208Z"
    }
   },
   "outputs": [],
   "source": [
    "%matplotlib inline"
   ]
  },
  {
   "cell_type": "code",
   "execution_count": 2,
   "metadata": {
    "execution": {
     "iopub.execute_input": "2024-04-18T09:15:51.911294Z",
     "iopub.status.busy": "2024-04-18T09:15:51.910802Z",
     "iopub.status.idle": "2024-04-18T09:15:54.680030Z",
     "shell.execute_reply": "2024-04-18T09:15:54.679215Z"
    }
   },
   "outputs": [],
   "source": [
    "import numpy as np\n",
    "import matplotlib.pyplot as plt\n",
    "\n",
    "import statsmodels.api as sm\n",
    "\n",
    "plt.rc(\"figure\", figsize=(16, 8))\n",
    "plt.rc(\"font\", size=14)"
   ]
  },
  {
   "cell_type": "markdown",
   "metadata": {},
   "source": [
    "## Artificial data"
   ]
  },
  {
   "cell_type": "code",
   "execution_count": 3,
   "metadata": {
    "execution": {
     "iopub.execute_input": "2024-04-18T09:15:54.683673Z",
     "iopub.status.busy": "2024-04-18T09:15:54.683283Z",
     "iopub.status.idle": "2024-04-18T09:15:54.690140Z",
     "shell.execute_reply": "2024-04-18T09:15:54.689467Z"
    }
   },
   "outputs": [],
   "source": [
    "nsample = 50\n",
    "sig = 0.25\n",
    "x1 = np.linspace(0, 20, nsample)\n",
    "X = np.column_stack((x1, np.sin(x1), (x1 - 5) ** 2))\n",
    "X = sm.add_constant(X)\n",
    "beta = [5.0, 0.5, 0.5, -0.02]\n",
    "y_true = np.dot(X, beta)\n",
    "y = y_true + sig * np.random.normal(size=nsample)"
   ]
  },
  {
   "cell_type": "markdown",
   "metadata": {},
   "source": [
    "## Estimation "
   ]
  },
  {
   "cell_type": "code",
   "execution_count": 4,
   "metadata": {
    "execution": {
     "iopub.execute_input": "2024-04-18T09:15:54.693144Z",
     "iopub.status.busy": "2024-04-18T09:15:54.692868Z",
     "iopub.status.idle": "2024-04-18T09:15:54.732326Z",
     "shell.execute_reply": "2024-04-18T09:15:54.731758Z"
    }
   },
   "outputs": [
    {
     "name": "stdout",
     "output_type": "stream",
     "text": [
      "                            OLS Regression Results                            \n",
      "==============================================================================\n",
      "Dep. Variable:                      y   R-squared:                       0.979\n",
      "Model:                            OLS   Adj. R-squared:                  0.978\n",
      "Method:                 Least Squares   F-statistic:                     731.5\n",
      "Date:                Thu, 18 Apr 2024   Prob (F-statistic):           8.34e-39\n",
      "Time:                        09:15:54   Log-Likelihood:                -4.9542\n",
      "No. Observations:                  50   AIC:                             17.91\n",
      "Df Residuals:                      46   BIC:                             25.56\n",
      "Df Model:                           3                                         \n",
      "Covariance Type:            nonrobust                                         \n",
      "==============================================================================\n",
      "                 coef    std err          t      P>|t|      [0.025      0.975]\n",
      "------------------------------------------------------------------------------\n",
      "const          4.9794      0.095     52.448      0.000       4.788       5.171\n",
      "x1             0.4955      0.015     33.843      0.000       0.466       0.525\n",
      "x2             0.5359      0.058      9.310      0.000       0.420       0.652\n",
      "x3            -0.0194      0.001    -15.121      0.000      -0.022      -0.017\n",
      "==============================================================================\n",
      "Omnibus:                        1.602   Durbin-Watson:                   2.262\n",
      "Prob(Omnibus):                  0.449   Jarque-Bera (JB):                1.581\n",
      "Skew:                          -0.369   Prob(JB):                        0.454\n",
      "Kurtosis:                       2.539   Cond. No.                         221.\n",
      "==============================================================================\n",
      "\n",
      "Notes:\n",
      "[1] Standard Errors assume that the covariance matrix of the errors is correctly specified.\n"
     ]
    }
   ],
   "source": [
    "olsmod = sm.OLS(y, X)\n",
    "olsres = olsmod.fit()\n",
    "print(olsres.summary())"
   ]
  },
  {
   "cell_type": "markdown",
   "metadata": {},
   "source": [
    "## In-sample prediction"
   ]
  },
  {
   "cell_type": "code",
   "execution_count": 5,
   "metadata": {
    "execution": {
     "iopub.execute_input": "2024-04-18T09:15:54.734946Z",
     "iopub.status.busy": "2024-04-18T09:15:54.734669Z",
     "iopub.status.idle": "2024-04-18T09:15:54.740610Z",
     "shell.execute_reply": "2024-04-18T09:15:54.740043Z"
    }
   },
   "outputs": [
    {
     "name": "stdout",
     "output_type": "stream",
     "text": [
      "[ 4.4934394   4.98450892  5.43415542  5.81317475  6.10290236  6.29827988\n",
      "  6.40868618  6.45639642  6.47292238  6.49383506  6.55292056  6.67662905\n",
      "  6.87972914  7.16288139  7.5125298   7.90312903  8.30134144  8.67151431\n",
      "  8.98153757  9.2081193   9.34061261  9.38276484  9.3521019   9.2770488\n",
      "  9.19225954  9.13292351  9.128984    9.20021858  9.35298973  9.57919948\n",
      "  9.8576199  10.15738076 10.44304147 10.68041382 10.84217903 10.91237614\n",
      " 10.88902437 10.78444853 10.6232541  10.43828462 10.26522559 10.13674145\n",
      " 10.07710889 10.09822825 10.19766838 10.359066   10.55481418 10.75059811\n",
      " 10.91103284 11.00547702]\n"
     ]
    }
   ],
   "source": [
    "ypred = olsres.predict(X)\n",
    "print(ypred)"
   ]
  },
  {
   "cell_type": "markdown",
   "metadata": {},
   "source": [
    "## Create a new sample of explanatory variables Xnew, predict and plot"
   ]
  },
  {
   "cell_type": "code",
   "execution_count": 6,
   "metadata": {
    "execution": {
     "iopub.execute_input": "2024-04-18T09:15:54.744468Z",
     "iopub.status.busy": "2024-04-18T09:15:54.743431Z",
     "iopub.status.idle": "2024-04-18T09:15:54.759763Z",
     "shell.execute_reply": "2024-04-18T09:15:54.759185Z"
    }
   },
   "outputs": [
    {
     "name": "stdout",
     "output_type": "stream",
     "text": [
      "[11.00173603 10.85749243 10.59376081 10.25843079  9.91454192  9.62484948\n",
      "  9.43645971  9.36929661  9.41122386  9.52101617]\n"
     ]
    }
   ],
   "source": [
    "x1n = np.linspace(20.5, 25, 10)\n",
    "Xnew = np.column_stack((x1n, np.sin(x1n), (x1n - 5) ** 2))\n",
    "Xnew = sm.add_constant(Xnew)\n",
    "ynewpred = olsres.predict(Xnew)  # predict out of sample\n",
    "print(ynewpred)"
   ]
  },
  {
   "cell_type": "markdown",
   "metadata": {},
   "source": [
    "## Plot comparison"
   ]
  },
  {
   "cell_type": "code",
   "execution_count": 7,
   "metadata": {
    "execution": {
     "iopub.execute_input": "2024-04-18T09:15:54.763746Z",
     "iopub.status.busy": "2024-04-18T09:15:54.762687Z",
     "iopub.status.idle": "2024-04-18T09:15:55.348910Z",
     "shell.execute_reply": "2024-04-18T09:15:55.348268Z"
    }
   },
   "outputs": [
    {
     "data": {
      "text/plain": [
       "<matplotlib.legend.Legend at 0x7feee981f550>"
      ]
     },
     "execution_count": 7,
     "metadata": {},
     "output_type": "execute_result"
    },
    {
     "data": {
      "image/png": "[encoded data removed]",
      "text/plain": [
       "<Figure size 1600x800 with 1 Axes>"
      ]
     },
     "metadata": {},
     "output_type": "display_data"
    }
   ],
   "source": [
    "import matplotlib.pyplot as plt\n",
    "\n",
    "fig, ax = plt.subplots()\n",
    "ax.plot(x1, y, \"o\", label=\"Data\")\n",
    "ax.plot(x1, y_true, \"b-\", label=\"True\")\n",
    "ax.plot(np.hstack((x1, x1n)), np.hstack((ypred, ynewpred)), \"r\", label=\"OLS prediction\")\n",
    "ax.legend(loc=\"best\")"
   ]
  },
  {
   "cell_type": "markdown",
   "metadata": {},
   "source": [
    "## Predicting with Formulas"
   ]
  },
  {
   "cell_type": "markdown",
   "metadata": {},
   "source": [
    "Using formulas can make both estimation and prediction a lot easier"
   ]
  },
  {
   "cell_type": "code",
   "execution_count": 8,
   "metadata": {
    "execution": {
     "iopub.execute_input": "2024-04-18T09:15:55.353415Z",
     "iopub.status.busy": "2024-04-18T09:15:55.352175Z",
     "iopub.status.idle": "2024-04-18T09:15:55.380528Z",
     "shell.execute_reply": "2024-04-18T09:15:55.379960Z"
    }
   },
   "outputs": [],
   "source": [
    "from statsmodels.formula.api import ols\n",
    "\n",
    "data = {\"x1\": x1, \"y\": y}\n",
    "\n",
    "res = ols(\"y ~ x1 + np.sin(x1) + I((x1-5)**2)\", data=data).fit()"
   ]
  },
  {
   "cell_type": "markdown",
   "metadata": {},
   "source": [
    "We use the `I` to indicate use of the Identity transform. Ie., we do not want any expansion magic from using `**2`"
   ]
  },
  {
   "cell_type": "code",
   "execution_count": 9,
   "metadata": {
    "execution": {
     "iopub.execute_input": "2024-04-18T09:15:55.383664Z",
     "iopub.status.busy": "2024-04-18T09:15:55.383441Z",
     "iopub.status.idle": "2024-04-18T09:15:55.391196Z",
     "shell.execute_reply": "2024-04-18T09:15:55.390611Z"
    }
   },
   "outputs": [
    {
     "data": {
      "text/plain": [
       "Intercept           4.979445\n",
       "x1                  0.495543\n",
       "np.sin(x1)          0.535865\n",
       "I((x1 - 5) ** 2)   -0.019440\n",
       "dtype: float64"
      ]
     },
     "execution_count": 9,
     "metadata": {},
     "output_type": "execute_result"
    }
   ],
   "source": [
    "res.params"
   ]
  },
  {
   "cell_type": "markdown",
   "metadata": {},
   "source": [
    "Now we only have to pass the single variable and we get the transformed right-hand side variables automatically"
   ]
  },
  {
   "cell_type": "code",
   "execution_count": 10,
   "metadata": {
    "execution": {
     "iopub.execute_input": "2024-04-18T09:15:55.395112Z",
     "iopub.status.busy": "2024-04-18T09:15:55.394087Z",
     "iopub.status.idle": "2024-04-18T09:15:55.416806Z",
     "shell.execute_reply": "2024-04-18T09:15:55.416250Z"
    }
   },
   "outputs": [
    {
     "data": {
      "text/plain": [
       "0    11.001736\n",
       "1    10.857492\n",
       "2    10.593761\n",
       "3    10.258431\n",
       "4     9.914542\n",
       "5     9.624849\n",
       "6     9.436460\n",
       "7     9.369297\n",
       "8     9.411224\n",
       "9     9.521016\n",
       "dtype: float64"
      ]
     },
     "execution_count": 10,
     "metadata": {},
     "output_type": "execute_result"
    }
   ],
   "source": [
    "res.predict(exog=dict(x1=x1n))"
   ]
  }
 ],
 "metadata": {
  "kernelspec": {
   "display_name": "Python 3",
   "language": "python",
   "name": "python3"
  },
  "language_info": {
   "codemirror_mode": {
    "name": "ipython",
    "version": 3
   },
   "file_extension": ".py",
   "mimetype": "text/x-python",
   "name": "python",
   "nbconvert_exporter": "python",
   "pygments_lexer": "ipython3",
   "version": "3.10.14"
  }
 },
 "nbformat": 4,
 "nbformat_minor": 4
}
