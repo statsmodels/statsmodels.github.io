{
 "cells": [
  {
   "cell_type": "markdown",
   "metadata": {},
   "source": [
    "# Prediction (out of sample)"
   ]
  },
  {
   "cell_type": "code",
   "execution_count": 1,
   "metadata": {
    "execution": {
     "iopub.execute_input": "2024-05-14T12:41:44.130759Z",
     "iopub.status.busy": "2024-05-14T12:41:44.130529Z",
     "iopub.status.idle": "2024-05-14T12:41:45.396980Z",
     "shell.execute_reply": "2024-05-14T12:41:45.396256Z"
    }
   },
   "outputs": [],
   "source": [
    "%matplotlib inline"
   ]
  },
  {
   "cell_type": "code",
   "execution_count": 2,
   "metadata": {
    "execution": {
     "iopub.execute_input": "2024-05-14T12:41:45.402041Z",
     "iopub.status.busy": "2024-05-14T12:41:45.400824Z",
     "iopub.status.idle": "2024-05-14T12:41:47.619612Z",
     "shell.execute_reply": "2024-05-14T12:41:47.618875Z"
    }
   },
   "outputs": [],
   "source": [
    "import numpy as np\n",
    "import matplotlib.pyplot as plt\n",
    "\n",
    "import statsmodels.api as sm\n",
    "\n",
    "plt.rc(\"figure\", figsize=(16, 8))\n",
    "plt.rc(\"font\", size=14)"
   ]
  },
  {
   "cell_type": "markdown",
   "metadata": {},
   "source": [
    "## Artificial data"
   ]
  },
  {
   "cell_type": "code",
   "execution_count": 3,
   "metadata": {
    "execution": {
     "iopub.execute_input": "2024-05-14T12:41:47.631959Z",
     "iopub.status.busy": "2024-05-14T12:41:47.623743Z",
     "iopub.status.idle": "2024-05-14T12:41:47.640034Z",
     "shell.execute_reply": "2024-05-14T12:41:47.639443Z"
    }
   },
   "outputs": [],
   "source": [
    "nsample = 50\n",
    "sig = 0.25\n",
    "x1 = np.linspace(0, 20, nsample)\n",
    "X = np.column_stack((x1, np.sin(x1), (x1 - 5) ** 2))\n",
    "X = sm.add_constant(X)\n",
    "beta = [5.0, 0.5, 0.5, -0.02]\n",
    "y_true = np.dot(X, beta)\n",
    "y = y_true + sig * np.random.normal(size=nsample)"
   ]
  },
  {
   "cell_type": "markdown",
   "metadata": {},
   "source": [
    "## Estimation "
   ]
  },
  {
   "cell_type": "code",
   "execution_count": 4,
   "metadata": {
    "execution": {
     "iopub.execute_input": "2024-05-14T12:41:47.645415Z",
     "iopub.status.busy": "2024-05-14T12:41:47.643898Z",
     "iopub.status.idle": "2024-05-14T12:41:47.685012Z",
     "shell.execute_reply": "2024-05-14T12:41:47.684381Z"
    }
   },
   "outputs": [
    {
     "name": "stdout",
     "output_type": "stream",
     "text": [
      "                            OLS Regression Results                            \n",
      "==============================================================================\n",
      "Dep. Variable:                      y   R-squared:                       0.985\n",
      "Model:                            OLS   Adj. R-squared:                  0.984\n",
      "Method:                 Least Squares   F-statistic:                     975.2\n",
      "Date:                Tue, 14 May 2024   Prob (F-statistic):           1.27e-41\n",
      "Time:                        12:41:47   Log-Likelihood:                 1.9727\n",
      "No. Observations:                  50   AIC:                             4.055\n",
      "Df Residuals:                      46   BIC:                             11.70\n",
      "Df Model:                           3                                         \n",
      "Covariance Type:            nonrobust                                         \n",
      "==============================================================================\n",
      "                 coef    std err          t      P>|t|      [0.025      0.975]\n",
      "------------------------------------------------------------------------------\n",
      "const          4.9247      0.083     59.579      0.000       4.758       5.091\n",
      "x1             0.5110      0.013     40.087      0.000       0.485       0.537\n",
      "x2             0.4980      0.050      9.937      0.000       0.397       0.599\n",
      "x3            -0.0211      0.001    -18.846      0.000      -0.023      -0.019\n",
      "==============================================================================\n",
      "Omnibus:                        0.615   Durbin-Watson:                   2.591\n",
      "Prob(Omnibus):                  0.735   Jarque-Bera (JB):                0.261\n",
      "Skew:                          -0.172   Prob(JB):                        0.878\n",
      "Kurtosis:                       3.086   Cond. No.                         221.\n",
      "==============================================================================\n",
      "\n",
      "Notes:\n",
      "[1] Standard Errors assume that the covariance matrix of the errors is correctly specified.\n"
     ]
    }
   ],
   "source": [
    "olsmod = sm.OLS(y, X)\n",
    "olsres = olsmod.fit()\n",
    "print(olsres.summary())"
   ]
  },
  {
   "cell_type": "markdown",
   "metadata": {},
   "source": [
    "## In-sample prediction"
   ]
  },
  {
   "cell_type": "code",
   "execution_count": 5,
   "metadata": {
    "execution": {
     "iopub.execute_input": "2024-05-14T12:41:47.697543Z",
     "iopub.status.busy": "2024-05-14T12:41:47.695723Z",
     "iopub.status.idle": "2024-05-14T12:41:47.712033Z",
     "shell.execute_reply": "2024-05-14T12:41:47.711281Z"
    }
   },
   "outputs": [
    {
     "name": "stdout",
     "output_type": "stream",
     "text": [
      "[ 4.39735292  4.88617958  5.33550264  5.71818256  6.01687433  6.22687718\n",
      "  6.35690693  6.42766396  6.46843228  6.51226814  6.59056909  6.72791537\n",
      "  6.93803149  7.22153131  7.5658172   7.94714979  8.33454827  8.69488047\n",
      "  8.99830637  9.22318072  9.35960932  9.41107459  9.39386341  9.33439125\n",
      "  9.2648622   9.21797788  9.22156468  9.29400198  9.44120245  9.65564063\n",
      "  9.91758931 10.1983607  10.46501972 10.68579514 10.83529953 10.89870032\n",
      " 10.87415676 10.77312233 10.618463   10.44070038 10.27299714 10.14570845\n",
      " 10.08139472 10.091115   10.17260998 10.31067323 10.47964954 10.64765001\n",
      " 10.7817913  10.85359829]\n"
     ]
    }
   ],
   "source": [
    "ypred = olsres.predict(X)\n",
    "print(ypred)"
   ]
  },
  {
   "cell_type": "markdown",
   "metadata": {},
   "source": [
    "## Create a new sample of explanatory variables Xnew, predict and plot"
   ]
  },
  {
   "cell_type": "code",
   "execution_count": 6,
   "metadata": {
    "execution": {
     "iopub.execute_input": "2024-05-14T12:41:47.723713Z",
     "iopub.status.busy": "2024-05-14T12:41:47.715932Z",
     "iopub.status.idle": "2024-05-14T12:41:47.732668Z",
     "shell.execute_reply": "2024-05-14T12:41:47.732059Z"
    }
   },
   "outputs": [
    {
     "name": "stdout",
     "output_type": "stream",
     "text": [
      "[10.82919524 10.67270842 10.40366676 10.06657424  9.72001376  9.422304\n",
      "  9.21722096  9.1232801   9.12920307  9.19667908]\n"
     ]
    }
   ],
   "source": [
    "x1n = np.linspace(20.5, 25, 10)\n",
    "Xnew = np.column_stack((x1n, np.sin(x1n), (x1n - 5) ** 2))\n",
    "Xnew = sm.add_constant(Xnew)\n",
    "ynewpred = olsres.predict(Xnew)  # predict out of sample\n",
    "print(ynewpred)"
   ]
  },
  {
   "cell_type": "markdown",
   "metadata": {},
   "source": [
    "## Plot comparison"
   ]
  },
  {
   "cell_type": "code",
   "execution_count": 7,
   "metadata": {
    "execution": {
     "iopub.execute_input": "2024-05-14T12:41:47.737769Z",
     "iopub.status.busy": "2024-05-14T12:41:47.736246Z",
     "iopub.status.idle": "2024-05-14T12:41:48.580038Z",
     "shell.execute_reply": "2024-05-14T12:41:48.579289Z"
    }
   },
   "outputs": [
    {
     "data": {
      "text/plain": [
       "<matplotlib.legend.Legend at 0x7f9ac43143a0>"
      ]
     },
     "execution_count": 7,
     "metadata": {},
     "output_type": "execute_result"
    },
    {
     "data": {
      "image/png": "[encoded data removed]",
      "text/plain": [
       "<Figure size 1600x800 with 1 Axes>"
      ]
     },
     "metadata": {},
     "output_type": "display_data"
    }
   ],
   "source": [
    "import matplotlib.pyplot as plt\n",
    "\n",
    "fig, ax = plt.subplots()\n",
    "ax.plot(x1, y, \"o\", label=\"Data\")\n",
    "ax.plot(x1, y_true, \"b-\", label=\"True\")\n",
    "ax.plot(np.hstack((x1, x1n)), np.hstack((ypred, ynewpred)), \"r\", label=\"OLS prediction\")\n",
    "ax.legend(loc=\"best\")"
   ]
  },
  {
   "cell_type": "markdown",
   "metadata": {},
   "source": [
    "## Predicting with Formulas"
   ]
  },
  {
   "cell_type": "markdown",
   "metadata": {},
   "source": [
    "Using formulas can make both estimation and prediction a lot easier"
   ]
  },
  {
   "cell_type": "code",
   "execution_count": 8,
   "metadata": {
    "execution": {
     "iopub.execute_input": "2024-05-14T12:41:48.584574Z",
     "iopub.status.busy": "2024-05-14T12:41:48.583517Z",
     "iopub.status.idle": "2024-05-14T12:41:48.607987Z",
     "shell.execute_reply": "2024-05-14T12:41:48.607288Z"
    }
   },
   "outputs": [],
   "source": [
    "from statsmodels.formula.api import ols\n",
    "\n",
    "data = {\"x1\": x1, \"y\": y}\n",
    "\n",
    "res = ols(\"y ~ x1 + np.sin(x1) + I((x1-5)**2)\", data=data).fit()"
   ]
  },
  {
   "cell_type": "markdown",
   "metadata": {},
   "source": [
    "We use the `I` to indicate use of the Identity transform. Ie., we do not want any expansion magic from using `**2`"
   ]
  },
  {
   "cell_type": "code",
   "execution_count": 9,
   "metadata": {
    "execution": {
     "iopub.execute_input": "2024-05-14T12:41:48.614760Z",
     "iopub.status.busy": "2024-05-14T12:41:48.613627Z",
     "iopub.status.idle": "2024-05-14T12:41:48.640251Z",
     "shell.execute_reply": "2024-05-14T12:41:48.639326Z"
    }
   },
   "outputs": [
    {
     "data": {
      "text/plain": [
       "Intercept           4.924710\n",
       "x1                  0.511024\n",
       "np.sin(x1)          0.497981\n",
       "I((x1 - 5) ** 2)   -0.021094\n",
       "dtype: float64"
      ]
     },
     "execution_count": 9,
     "metadata": {},
     "output_type": "execute_result"
    }
   ],
   "source": [
    "res.params"
   ]
  },
  {
   "cell_type": "markdown",
   "metadata": {},
   "source": [
    "Now we only have to pass the single variable and we get the transformed right-hand side variables automatically"
   ]
  },
  {
   "cell_type": "code",
   "execution_count": 10,
   "metadata": {
    "execution": {
     "iopub.execute_input": "2024-05-14T12:41:48.645394Z",
     "iopub.status.busy": "2024-05-14T12:41:48.644204Z",
     "iopub.status.idle": "2024-05-14T12:41:48.667957Z",
     "shell.execute_reply": "2024-05-14T12:41:48.667283Z"
    }
   },
   "outputs": [
    {
     "data": {
      "text/plain": [
       "0    10.829195\n",
       "1    10.672708\n",
       "2    10.403667\n",
       "3    10.066574\n",
       "4     9.720014\n",
       "5     9.422304\n",
       "6     9.217221\n",
       "7     9.123280\n",
       "8     9.129203\n",
       "9     9.196679\n",
       "dtype: float64"
      ]
     },
     "execution_count": 10,
     "metadata": {},
     "output_type": "execute_result"
    }
   ],
   "source": [
    "res.predict(exog=dict(x1=x1n))"
   ]
  }
 ],
 "metadata": {
  "kernelspec": {
   "display_name": "Python 3",
   "language": "python",
   "name": "python3"
  },
  "language_info": {
   "codemirror_mode": {
    "name": "ipython",
    "version": 3
   },
   "file_extension": ".py",
   "mimetype": "text/x-python",
   "name": "python",
   "nbconvert_exporter": "python",
   "pygments_lexer": "ipython3",
   "version": "3.10.14"
  }
 },
 "nbformat": 4,
 "nbformat_minor": 4
}
