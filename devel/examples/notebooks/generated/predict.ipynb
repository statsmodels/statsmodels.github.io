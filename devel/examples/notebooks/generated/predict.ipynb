{
 "cells": [
  {
   "cell_type": "markdown",
   "metadata": {},
   "source": [
    "# Prediction (out of sample)"
   ]
  },
  {
   "cell_type": "code",
   "execution_count": 1,
   "metadata": {
    "execution": {
     "iopub.execute_input": "2024-10-15T09:02:56.006773Z",
     "iopub.status.busy": "2024-10-15T09:02:56.006490Z",
     "iopub.status.idle": "2024-10-15T09:02:57.047981Z",
     "shell.execute_reply": "2024-10-15T09:02:57.047077Z"
    }
   },
   "outputs": [],
   "source": [
    "%matplotlib inline"
   ]
  },
  {
   "cell_type": "code",
   "execution_count": 2,
   "metadata": {
    "execution": {
     "iopub.execute_input": "2024-10-15T09:02:57.051933Z",
     "iopub.status.busy": "2024-10-15T09:02:57.051391Z",
     "iopub.status.idle": "2024-10-15T09:02:58.832695Z",
     "shell.execute_reply": "2024-10-15T09:02:58.831893Z"
    }
   },
   "outputs": [],
   "source": [
    "import numpy as np\n",
    "import matplotlib.pyplot as plt\n",
    "\n",
    "import statsmodels.api as sm\n",
    "\n",
    "plt.rc(\"figure\", figsize=(16, 8))\n",
    "plt.rc(\"font\", size=14)"
   ]
  },
  {
   "cell_type": "markdown",
   "metadata": {},
   "source": [
    "## Artificial data"
   ]
  },
  {
   "cell_type": "code",
   "execution_count": 3,
   "metadata": {
    "execution": {
     "iopub.execute_input": "2024-10-15T09:02:58.836859Z",
     "iopub.status.busy": "2024-10-15T09:02:58.835693Z",
     "iopub.status.idle": "2024-10-15T09:02:58.847948Z",
     "shell.execute_reply": "2024-10-15T09:02:58.847057Z"
    }
   },
   "outputs": [],
   "source": [
    "nsample = 50\n",
    "sig = 0.25\n",
    "x1 = np.linspace(0, 20, nsample)\n",
    "X = np.column_stack((x1, np.sin(x1), (x1 - 5) ** 2))\n",
    "X = sm.add_constant(X)\n",
    "beta = [5.0, 0.5, 0.5, -0.02]\n",
    "y_true = np.dot(X, beta)\n",
    "y = y_true + sig * np.random.normal(size=nsample)"
   ]
  },
  {
   "cell_type": "markdown",
   "metadata": {},
   "source": [
    "## Estimation "
   ]
  },
  {
   "cell_type": "code",
   "execution_count": 4,
   "metadata": {
    "execution": {
     "iopub.execute_input": "2024-10-15T09:02:58.853448Z",
     "iopub.status.busy": "2024-10-15T09:02:58.852952Z",
     "iopub.status.idle": "2024-10-15T09:02:58.880042Z",
     "shell.execute_reply": "2024-10-15T09:02:58.879446Z"
    }
   },
   "outputs": [
    {
     "name": "stdout",
     "output_type": "stream",
     "text": [
      "                            OLS Regression Results                            \n",
      "==============================================================================\n",
      "Dep. Variable:                      y   R-squared:                       0.986\n",
      "Model:                            OLS   Adj. R-squared:                  0.985\n",
      "Method:                 Least Squares   F-statistic:                     1043.\n",
      "Date:                Tue, 15 Oct 2024   Prob (F-statistic):           2.76e-42\n",
      "Time:                        09:02:58   Log-Likelihood:                 4.0808\n",
      "No. Observations:                  50   AIC:                           -0.1616\n",
      "Df Residuals:                      46   BIC:                             7.486\n",
      "Df Model:                           3                                         \n",
      "Covariance Type:            nonrobust                                         \n",
      "==============================================================================\n",
      "                 coef    std err          t      P>|t|      [0.025      0.975]\n",
      "------------------------------------------------------------------------------\n",
      "const          5.0148      0.079     63.282      0.000       4.855       5.174\n",
      "x1             0.5132      0.012     41.989      0.000       0.489       0.538\n",
      "x2             0.4256      0.048      8.859      0.000       0.329       0.522\n",
      "x3            -0.0217      0.001    -20.243      0.000      -0.024      -0.020\n",
      "==============================================================================\n",
      "Omnibus:                        1.134   Durbin-Watson:                   2.283\n",
      "Prob(Omnibus):                  0.567   Jarque-Bera (JB):                1.120\n",
      "Skew:                           0.235   Prob(JB):                        0.571\n",
      "Kurtosis:                       2.438   Cond. No.                         221.\n",
      "==============================================================================\n",
      "\n",
      "Notes:\n",
      "[1] Standard Errors assume that the covariance matrix of the errors is correctly specified.\n"
     ]
    }
   ],
   "source": [
    "olsmod = sm.OLS(y, X)\n",
    "olsres = olsmod.fit()\n",
    "print(olsres.summary())"
   ]
  },
  {
   "cell_type": "markdown",
   "metadata": {},
   "source": [
    "## In-sample prediction"
   ]
  },
  {
   "cell_type": "code",
   "execution_count": 5,
   "metadata": {
    "execution": {
     "iopub.execute_input": "2024-10-15T09:02:58.885011Z",
     "iopub.status.busy": "2024-10-15T09:02:58.882744Z",
     "iopub.status.idle": "2024-10-15T09:02:58.894663Z",
     "shell.execute_reply": "2024-10-15T09:02:58.893898Z"
    }
   },
   "outputs": [
    {
     "name": "stdout",
     "output_type": "stream",
     "text": [
      "[ 4.47179202  4.93523805  5.3636895   5.7339498   6.03119393  6.25140409\n",
      "  6.40202979  6.50076397  6.57263605  6.64589971  6.74739084  6.89811853\n",
      "  7.10981332  7.38299988  7.70691084  8.06125582  8.4195551   8.75349013\n",
      "  9.03755624  9.25325292  9.39212346  9.45714433  9.46223617  9.42997664\n",
      "  9.38789104  9.36392988  9.3818768   9.4574409   9.59567582  9.79014945\n",
      " 10.02400066 10.27270959 10.50812616 10.70309507 10.83591732 10.8939153\n",
      " 10.87551568 10.79050794 10.65843592 10.5053869  10.35970545 10.24733658\n",
      " 10.18756298 10.18983697 10.25222751 10.36173743 10.49643886 10.62907591\n",
      " 10.73154275 10.77950126]\n"
     ]
    }
   ],
   "source": [
    "ypred = olsres.predict(X)\n",
    "print(ypred)"
   ]
  },
  {
   "cell_type": "markdown",
   "metadata": {},
   "source": [
    "## Create a new sample of explanatory variables Xnew, predict and plot"
   ]
  },
  {
   "cell_type": "code",
   "execution_count": 6,
   "metadata": {
    "execution": {
     "iopub.execute_input": "2024-10-15T09:02:58.897924Z",
     "iopub.status.busy": "2024-10-15T09:02:58.897630Z",
     "iopub.status.idle": "2024-10-15T09:02:58.911251Z",
     "shell.execute_reply": "2024-10-15T09:02:58.908520Z"
    }
   },
   "outputs": [
    {
     "name": "stdout",
     "output_type": "stream",
     "text": [
      "[10.74053244 10.58682351 10.33506615 10.02329853  9.70159227  9.41979317\n",
      "  9.2153172   9.10398977  9.07617114  9.09911651]\n"
     ]
    }
   ],
   "source": [
    "x1n = np.linspace(20.5, 25, 10)\n",
    "Xnew = np.column_stack((x1n, np.sin(x1n), (x1n - 5) ** 2))\n",
    "Xnew = sm.add_constant(Xnew)\n",
    "ynewpred = olsres.predict(Xnew)  # predict out of sample\n",
    "print(ynewpred)"
   ]
  },
  {
   "cell_type": "markdown",
   "metadata": {},
   "source": [
    "## Plot comparison"
   ]
  },
  {
   "cell_type": "code",
   "execution_count": 7,
   "metadata": {
    "execution": {
     "iopub.execute_input": "2024-10-15T09:02:58.914197Z",
     "iopub.status.busy": "2024-10-15T09:02:58.913738Z",
     "iopub.status.idle": "2024-10-15T09:02:59.423623Z",
     "shell.execute_reply": "2024-10-15T09:02:59.422829Z"
    }
   },
   "outputs": [
    {
     "data": {
      "text/plain": [
       "<matplotlib.legend.Legend at 0x7feaab03a980>"
      ]
     },
     "execution_count": 7,
     "metadata": {},
     "output_type": "execute_result"
    },
    {
     "data": {
      "image/png": "[encoded data removed]",
      "text/plain": [
       "<Figure size 1600x800 with 1 Axes>"
      ]
     },
     "metadata": {},
     "output_type": "display_data"
    }
   ],
   "source": [
    "import matplotlib.pyplot as plt\n",
    "\n",
    "fig, ax = plt.subplots()\n",
    "ax.plot(x1, y, \"o\", label=\"Data\")\n",
    "ax.plot(x1, y_true, \"b-\", label=\"True\")\n",
    "ax.plot(np.hstack((x1, x1n)), np.hstack((ypred, ynewpred)), \"r\", label=\"OLS prediction\")\n",
    "ax.legend(loc=\"best\")"
   ]
  },
  {
   "cell_type": "markdown",
   "metadata": {},
   "source": [
    "## Predicting with Formulas"
   ]
  },
  {
   "cell_type": "markdown",
   "metadata": {},
   "source": [
    "Using formulas can make both estimation and prediction a lot easier"
   ]
  },
  {
   "cell_type": "code",
   "execution_count": 8,
   "metadata": {
    "execution": {
     "iopub.execute_input": "2024-10-15T09:02:59.430282Z",
     "iopub.status.busy": "2024-10-15T09:02:59.427026Z",
     "iopub.status.idle": "2024-10-15T09:02:59.444696Z",
     "shell.execute_reply": "2024-10-15T09:02:59.444093Z"
    }
   },
   "outputs": [],
   "source": [
    "from statsmodels.formula.api import ols\n",
    "\n",
    "data = {\"x1\": x1, \"y\": y}\n",
    "\n",
    "res = ols(\"y ~ x1 + np.sin(x1) + I((x1-5)**2)\", data=data).fit()"
   ]
  },
  {
   "cell_type": "markdown",
   "metadata": {},
   "source": [
    "We use the `I` to indicate use of the Identity transform. Ie., we do not want any expansion magic from using `**2`"
   ]
  },
  {
   "cell_type": "code",
   "execution_count": 9,
   "metadata": {
    "execution": {
     "iopub.execute_input": "2024-10-15T09:02:59.447618Z",
     "iopub.status.busy": "2024-10-15T09:02:59.447337Z",
     "iopub.status.idle": "2024-10-15T09:02:59.460514Z",
     "shell.execute_reply": "2024-10-15T09:02:59.459792Z"
    }
   },
   "outputs": [
    {
     "data": {
      "text/plain": [
       "Intercept           5.014843\n",
       "x1                  0.513177\n",
       "np.sin(x1)          0.425632\n",
       "I((x1 - 5) ** 2)   -0.021722\n",
       "dtype: float64"
      ]
     },
     "execution_count": 9,
     "metadata": {},
     "output_type": "execute_result"
    }
   ],
   "source": [
    "res.params"
   ]
  },
  {
   "cell_type": "markdown",
   "metadata": {},
   "source": [
    "Now we only have to pass the single variable and we get the transformed right-hand side variables automatically"
   ]
  },
  {
   "cell_type": "code",
   "execution_count": 10,
   "metadata": {
    "execution": {
     "iopub.execute_input": "2024-10-15T09:02:59.463636Z",
     "iopub.status.busy": "2024-10-15T09:02:59.463413Z",
     "iopub.status.idle": "2024-10-15T09:02:59.479253Z",
     "shell.execute_reply": "2024-10-15T09:02:59.476636Z"
    }
   },
   "outputs": [
    {
     "data": {
      "text/plain": [
       "0    10.740532\n",
       "1    10.586824\n",
       "2    10.335066\n",
       "3    10.023299\n",
       "4     9.701592\n",
       "5     9.419793\n",
       "6     9.215317\n",
       "7     9.103990\n",
       "8     9.076171\n",
       "9     9.099117\n",
       "dtype: float64"
      ]
     },
     "execution_count": 10,
     "metadata": {},
     "output_type": "execute_result"
    }
   ],
   "source": [
    "res.predict(exog=dict(x1=x1n))"
   ]
  }
 ],
 "metadata": {
  "kernelspec": {
   "display_name": "Python 3",
   "language": "python",
   "name": "python3"
  },
  "language_info": {
   "codemirror_mode": {
    "name": "ipython",
    "version": 3
   },
   "file_extension": ".py",
   "mimetype": "text/x-python",
   "name": "python",
   "nbconvert_exporter": "python",
   "pygments_lexer": "ipython3",
   "version": "3.10.15"
  }
 },
 "nbformat": 4,
 "nbformat_minor": 4
}
