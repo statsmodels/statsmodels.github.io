{
 "cells": [
  {
   "cell_type": "markdown",
   "metadata": {},
   "source": [
    "# Prediction (out of sample)"
   ]
  },
  {
   "cell_type": "code",
   "execution_count": 1,
   "metadata": {
    "execution": {
     "iopub.execute_input": "2023-12-31T00:46:56.952862Z",
     "iopub.status.busy": "2023-12-31T00:46:56.952598Z",
     "iopub.status.idle": "2023-12-31T00:46:58.357500Z",
     "shell.execute_reply": "2023-12-31T00:46:58.356609Z"
    }
   },
   "outputs": [],
   "source": [
    "%matplotlib inline"
   ]
  },
  {
   "cell_type": "code",
   "execution_count": 2,
   "metadata": {
    "execution": {
     "iopub.execute_input": "2023-12-31T00:46:58.361857Z",
     "iopub.status.busy": "2023-12-31T00:46:58.361253Z",
     "iopub.status.idle": "2023-12-31T00:46:59.569448Z",
     "shell.execute_reply": "2023-12-31T00:46:59.568652Z"
    }
   },
   "outputs": [],
   "source": [
    "import numpy as np\n",
    "import matplotlib.pyplot as plt\n",
    "\n",
    "import statsmodels.api as sm\n",
    "\n",
    "plt.rc(\"figure\", figsize=(16, 8))\n",
    "plt.rc(\"font\", size=14)"
   ]
  },
  {
   "cell_type": "markdown",
   "metadata": {},
   "source": [
    "## Artificial data"
   ]
  },
  {
   "cell_type": "code",
   "execution_count": 3,
   "metadata": {
    "execution": {
     "iopub.execute_input": "2023-12-31T00:46:59.574903Z",
     "iopub.status.busy": "2023-12-31T00:46:59.574375Z",
     "iopub.status.idle": "2023-12-31T00:46:59.585472Z",
     "shell.execute_reply": "2023-12-31T00:46:59.584695Z"
    }
   },
   "outputs": [],
   "source": [
    "nsample = 50\n",
    "sig = 0.25\n",
    "x1 = np.linspace(0, 20, nsample)\n",
    "X = np.column_stack((x1, np.sin(x1), (x1 - 5) ** 2))\n",
    "X = sm.add_constant(X)\n",
    "beta = [5.0, 0.5, 0.5, -0.02]\n",
    "y_true = np.dot(X, beta)\n",
    "y = y_true + sig * np.random.normal(size=nsample)"
   ]
  },
  {
   "cell_type": "markdown",
   "metadata": {},
   "source": [
    "## Estimation "
   ]
  },
  {
   "cell_type": "code",
   "execution_count": 4,
   "metadata": {
    "execution": {
     "iopub.execute_input": "2023-12-31T00:46:59.588481Z",
     "iopub.status.busy": "2023-12-31T00:46:59.588217Z",
     "iopub.status.idle": "2023-12-31T00:46:59.600830Z",
     "shell.execute_reply": "2023-12-31T00:46:59.599897Z"
    }
   },
   "outputs": [
    {
     "name": "stdout",
     "output_type": "stream",
     "text": [
      "                            OLS Regression Results                            \n",
      "==============================================================================\n",
      "Dep. Variable:                      y   R-squared:                       0.986\n",
      "Model:                            OLS   Adj. R-squared:                  0.985\n",
      "Method:                 Least Squares   F-statistic:                     1086.\n",
      "Date:                Sun, 31 Dec 2023   Prob (F-statistic):           1.11e-42\n",
      "Time:                        00:46:59   Log-Likelihood:                 5.2529\n",
      "No. Observations:                  50   AIC:                            -2.506\n",
      "Df Residuals:                      46   BIC:                             5.142\n",
      "Df Model:                           3                                         \n",
      "Covariance Type:            nonrobust                                         \n",
      "==============================================================================\n",
      "                 coef    std err          t      P>|t|      [0.025      0.975]\n",
      "------------------------------------------------------------------------------\n",
      "const          4.9475      0.077     63.913      0.000       4.792       5.103\n",
      "x1             0.5132      0.012     42.990      0.000       0.489       0.537\n",
      "x2             0.5010      0.047     10.674      0.000       0.406       0.595\n",
      "x3            -0.0219      0.001    -20.862      0.000      -0.024      -0.020\n",
      "==============================================================================\n",
      "Omnibus:                        0.769   Durbin-Watson:                   2.193\n",
      "Prob(Omnibus):                  0.681   Jarque-Bera (JB):                0.232\n",
      "Skew:                           0.109   Prob(JB):                        0.890\n",
      "Kurtosis:                       3.252   Cond. No.                         221.\n",
      "==============================================================================\n",
      "\n",
      "Notes:\n",
      "[1] Standard Errors assume that the covariance matrix of the errors is correctly specified.\n"
     ]
    }
   ],
   "source": [
    "olsmod = sm.OLS(y, X)\n",
    "olsres = olsmod.fit()\n",
    "print(olsres.summary())"
   ]
  },
  {
   "cell_type": "markdown",
   "metadata": {},
   "source": [
    "## In-sample prediction"
   ]
  },
  {
   "cell_type": "code",
   "execution_count": 5,
   "metadata": {
    "execution": {
     "iopub.execute_input": "2023-12-31T00:46:59.639817Z",
     "iopub.status.busy": "2023-12-31T00:46:59.639222Z",
     "iopub.status.idle": "2023-12-31T00:46:59.643890Z",
     "shell.execute_reply": "2023-12-31T00:46:59.643108Z"
    }
   },
   "outputs": [
    {
     "name": "stdout",
     "output_type": "stream",
     "text": [
      "[ 4.40076859  4.89471316  5.34870163  5.73543165  6.03745418  6.25004025\n",
      "  6.38195795  6.45403186  6.49572161  6.54028175  6.61929814  6.75749846\n",
      "  6.96868956  7.25348897  7.59922351  7.98201139  8.37068599  8.73191641\n",
      "  9.03568362  9.26021255  9.39554966  9.44519824  9.42554287  9.36315748\n",
      "  9.29043931  9.24028613  9.24069126  9.31014431  9.45459342  9.66646798\n",
      "  9.92592247 10.204097   10.46785895 10.68524653 10.83072002 10.88935787\n",
      " 10.8593083  10.75209349 10.59071657 10.40588222 10.23095203 10.09646324\n",
      " 10.02511159 10.02802246 10.102923   10.23451556 10.39699104 10.55826926\n",
      " 10.68526966 10.74934629]\n"
     ]
    }
   ],
   "source": [
    "ypred = olsres.predict(X)\n",
    "print(ypred)"
   ]
  },
  {
   "cell_type": "markdown",
   "metadata": {},
   "source": [
    "## Create a new sample of explanatory variables Xnew, predict and plot"
   ]
  },
  {
   "cell_type": "code",
   "execution_count": 6,
   "metadata": {
    "execution": {
     "iopub.execute_input": "2023-12-31T00:46:59.646829Z",
     "iopub.status.busy": "2023-12-31T00:46:59.646311Z",
     "iopub.status.idle": "2023-12-31T00:46:59.651334Z",
     "shell.execute_reply": "2023-12-31T00:46:59.650541Z"
    }
   },
   "outputs": [
    {
     "name": "stdout",
     "output_type": "stream",
     "text": [
      "[10.71450579 10.54646577 10.2648723   9.91449632  9.55427211  9.24286816\n",
      "  9.02432306  8.91726331  8.91034293  8.96502133]\n"
     ]
    }
   ],
   "source": [
    "x1n = np.linspace(20.5, 25, 10)\n",
    "Xnew = np.column_stack((x1n, np.sin(x1n), (x1n - 5) ** 2))\n",
    "Xnew = sm.add_constant(Xnew)\n",
    "ynewpred = olsres.predict(Xnew)  # predict out of sample\n",
    "print(ynewpred)"
   ]
  },
  {
   "cell_type": "markdown",
   "metadata": {},
   "source": [
    "## Plot comparison"
   ]
  },
  {
   "cell_type": "code",
   "execution_count": 7,
   "metadata": {
    "execution": {
     "iopub.execute_input": "2023-12-31T00:46:59.654174Z",
     "iopub.status.busy": "2023-12-31T00:46:59.653658Z",
     "iopub.status.idle": "2023-12-31T00:46:59.948680Z",
     "shell.execute_reply": "2023-12-31T00:46:59.947996Z"
    }
   },
   "outputs": [
    {
     "data": {
      "text/plain": [
       "<matplotlib.legend.Legend at 0x7fc4626218d0>"
      ]
     },
     "execution_count": 7,
     "metadata": {},
     "output_type": "execute_result"
    },
    {
     "data": {
      "image/png": "[encoded data removed]",
      "text/plain": [
       "<Figure size 1600x800 with 1 Axes>"
      ]
     },
     "metadata": {},
     "output_type": "display_data"
    }
   ],
   "source": [
    "import matplotlib.pyplot as plt\n",
    "\n",
    "fig, ax = plt.subplots()\n",
    "ax.plot(x1, y, \"o\", label=\"Data\")\n",
    "ax.plot(x1, y_true, \"b-\", label=\"True\")\n",
    "ax.plot(np.hstack((x1, x1n)), np.hstack((ypred, ynewpred)), \"r\", label=\"OLS prediction\")\n",
    "ax.legend(loc=\"best\")"
   ]
  },
  {
   "cell_type": "markdown",
   "metadata": {},
   "source": [
    "## Predicting with Formulas"
   ]
  },
  {
   "cell_type": "markdown",
   "metadata": {},
   "source": [
    "Using formulas can make both estimation and prediction a lot easier"
   ]
  },
  {
   "cell_type": "code",
   "execution_count": 8,
   "metadata": {
    "execution": {
     "iopub.execute_input": "2023-12-31T00:46:59.952741Z",
     "iopub.status.busy": "2023-12-31T00:46:59.952405Z",
     "iopub.status.idle": "2023-12-31T00:46:59.964594Z",
     "shell.execute_reply": "2023-12-31T00:46:59.963682Z"
    }
   },
   "outputs": [],
   "source": [
    "from statsmodels.formula.api import ols\n",
    "\n",
    "data = {\"x1\": x1, \"y\": y}\n",
    "\n",
    "res = ols(\"y ~ x1 + np.sin(x1) + I((x1-5)**2)\", data=data).fit()"
   ]
  },
  {
   "cell_type": "markdown",
   "metadata": {},
   "source": [
    "We use the `I` to indicate use of the Identity transform. Ie., we do not want any expansion magic from using `**2`"
   ]
  },
  {
   "cell_type": "code",
   "execution_count": 9,
   "metadata": {
    "execution": {
     "iopub.execute_input": "2023-12-31T00:46:59.969705Z",
     "iopub.status.busy": "2023-12-31T00:46:59.968838Z",
     "iopub.status.idle": "2023-12-31T00:46:59.978634Z",
     "shell.execute_reply": "2023-12-31T00:46:59.977755Z"
    }
   },
   "outputs": [
    {
     "data": {
      "text/plain": [
       "Intercept           4.947463\n",
       "x1                  0.513239\n",
       "np.sin(x1)          0.500968\n",
       "I((x1 - 5) ** 2)   -0.021868\n",
       "dtype: float64"
      ]
     },
     "execution_count": 9,
     "metadata": {},
     "output_type": "execute_result"
    }
   ],
   "source": [
    "res.params"
   ]
  },
  {
   "cell_type": "markdown",
   "metadata": {},
   "source": [
    "Now we only have to pass the single variable and we get the transformed right-hand side variables automatically"
   ]
  },
  {
   "cell_type": "code",
   "execution_count": 10,
   "metadata": {
    "execution": {
     "iopub.execute_input": "2023-12-31T00:46:59.984394Z",
     "iopub.status.busy": "2023-12-31T00:46:59.984033Z",
     "iopub.status.idle": "2023-12-31T00:46:59.993328Z",
     "shell.execute_reply": "2023-12-31T00:46:59.992414Z"
    }
   },
   "outputs": [
    {
     "data": {
      "text/plain": [
       "0    10.714506\n",
       "1    10.546466\n",
       "2    10.264872\n",
       "3     9.914496\n",
       "4     9.554272\n",
       "5     9.242868\n",
       "6     9.024323\n",
       "7     8.917263\n",
       "8     8.910343\n",
       "9     8.965021\n",
       "dtype: float64"
      ]
     },
     "execution_count": 10,
     "metadata": {},
     "output_type": "execute_result"
    }
   ],
   "source": [
    "res.predict(exog=dict(x1=x1n))"
   ]
  }
 ],
 "metadata": {
  "kernelspec": {
   "display_name": "Python 3",
   "language": "python",
   "name": "python3"
  },
  "language_info": {
   "codemirror_mode": {
    "name": "ipython",
    "version": 3
   },
   "file_extension": ".py",
   "mimetype": "text/x-python",
   "name": "python",
   "nbconvert_exporter": "python",
   "pygments_lexer": "ipython3",
   "version": "3.10.13"
  }
 },
 "nbformat": 4,
 "nbformat_minor": 4
}
