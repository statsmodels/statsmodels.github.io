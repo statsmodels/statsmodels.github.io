{
 "cells": [
  {
   "cell_type": "markdown",
   "metadata": {},
   "source": [
    "# Prediction (out of sample)"
   ]
  },
  {
   "cell_type": "code",
   "execution_count": 1,
   "metadata": {
    "execution": {
     "iopub.execute_input": "2024-08-27T15:21:01.748368Z",
     "iopub.status.busy": "2024-08-27T15:21:01.748115Z",
     "iopub.status.idle": "2024-08-27T15:21:03.360195Z",
     "shell.execute_reply": "2024-08-27T15:21:03.359513Z"
    }
   },
   "outputs": [],
   "source": [
    "%matplotlib inline"
   ]
  },
  {
   "cell_type": "code",
   "execution_count": 2,
   "metadata": {
    "execution": {
     "iopub.execute_input": "2024-08-27T15:21:03.366029Z",
     "iopub.status.busy": "2024-08-27T15:21:03.365115Z",
     "iopub.status.idle": "2024-08-27T15:21:06.307614Z",
     "shell.execute_reply": "2024-08-27T15:21:06.306816Z"
    }
   },
   "outputs": [],
   "source": [
    "import numpy as np\n",
    "import matplotlib.pyplot as plt\n",
    "\n",
    "import statsmodels.api as sm\n",
    "\n",
    "plt.rc(\"figure\", figsize=(16, 8))\n",
    "plt.rc(\"font\", size=14)"
   ]
  },
  {
   "cell_type": "markdown",
   "metadata": {},
   "source": [
    "## Artificial data"
   ]
  },
  {
   "cell_type": "code",
   "execution_count": 3,
   "metadata": {
    "execution": {
     "iopub.execute_input": "2024-08-27T15:21:06.317959Z",
     "iopub.status.busy": "2024-08-27T15:21:06.317083Z",
     "iopub.status.idle": "2024-08-27T15:21:06.322635Z",
     "shell.execute_reply": "2024-08-27T15:21:06.322064Z"
    }
   },
   "outputs": [],
   "source": [
    "nsample = 50\n",
    "sig = 0.25\n",
    "x1 = np.linspace(0, 20, nsample)\n",
    "X = np.column_stack((x1, np.sin(x1), (x1 - 5) ** 2))\n",
    "X = sm.add_constant(X)\n",
    "beta = [5.0, 0.5, 0.5, -0.02]\n",
    "y_true = np.dot(X, beta)\n",
    "y = y_true + sig * np.random.normal(size=nsample)"
   ]
  },
  {
   "cell_type": "markdown",
   "metadata": {},
   "source": [
    "## Estimation "
   ]
  },
  {
   "cell_type": "code",
   "execution_count": 4,
   "metadata": {
    "execution": {
     "iopub.execute_input": "2024-08-27T15:21:06.325850Z",
     "iopub.status.busy": "2024-08-27T15:21:06.325292Z",
     "iopub.status.idle": "2024-08-27T15:21:06.364186Z",
     "shell.execute_reply": "2024-08-27T15:21:06.363600Z"
    }
   },
   "outputs": [
    {
     "name": "stdout",
     "output_type": "stream",
     "text": [
      "                            OLS Regression Results                            \n",
      "==============================================================================\n",
      "Dep. Variable:                      y   R-squared:                       0.984\n",
      "Model:                            OLS   Adj. R-squared:                  0.983\n",
      "Method:                 Least Squares   F-statistic:                     946.3\n",
      "Date:                Tue, 27 Aug 2024   Prob (F-statistic):           2.50e-41\n",
      "Time:                        15:21:06   Log-Likelihood:                 2.5119\n",
      "No. Observations:                  50   AIC:                             2.976\n",
      "Df Residuals:                      46   BIC:                             10.62\n",
      "Df Model:                           3                                         \n",
      "Covariance Type:            nonrobust                                         \n",
      "==============================================================================\n",
      "                 coef    std err          t      P>|t|      [0.025      0.975]\n",
      "------------------------------------------------------------------------------\n",
      "const          5.0674      0.082     61.970      0.000       4.903       5.232\n",
      "x1             0.5037      0.013     39.940      0.000       0.478       0.529\n",
      "x2             0.4822      0.050      9.727      0.000       0.382       0.582\n",
      "x3            -0.0213      0.001    -19.198      0.000      -0.023      -0.019\n",
      "==============================================================================\n",
      "Omnibus:                        0.005   Durbin-Watson:                   1.603\n",
      "Prob(Omnibus):                  0.997   Jarque-Bera (JB):                0.095\n",
      "Skew:                          -0.018   Prob(JB):                        0.953\n",
      "Kurtosis:                       2.789   Cond. No.                         221.\n",
      "==============================================================================\n",
      "\n",
      "Notes:\n",
      "[1] Standard Errors assume that the covariance matrix of the errors is correctly specified.\n"
     ]
    }
   ],
   "source": [
    "olsmod = sm.OLS(y, X)\n",
    "olsres = olsmod.fit()\n",
    "print(olsres.summary())"
   ]
  },
  {
   "cell_type": "markdown",
   "metadata": {},
   "source": [
    "## In-sample prediction"
   ]
  },
  {
   "cell_type": "code",
   "execution_count": 5,
   "metadata": {
    "execution": {
     "iopub.execute_input": "2024-08-27T15:21:06.367213Z",
     "iopub.status.busy": "2024-08-27T15:21:06.366730Z",
     "iopub.status.idle": "2024-08-27T15:21:06.375398Z",
     "shell.execute_reply": "2024-08-27T15:21:06.374797Z"
    }
   },
   "outputs": [
    {
     "name": "stdout",
     "output_type": "stream",
     "text": [
      "[ 4.53595551  5.01617746  5.4578685   5.83474744  6.13001782  6.33912756\n",
      "  6.4705168   6.54423127  6.58862879  6.63572017  6.71590994  6.85300095\n",
      "  7.06028365  7.33835248  7.67500825  8.04726236  8.42511386  8.77647841\n",
      "  9.07245976  9.29209721  9.42580949  9.47696888  9.46134717  9.40452438\n",
      "  9.33768609  9.29249967  9.29591147  9.36571957  9.50764965  9.71441424\n",
      "  9.96691006 10.23735661 10.49386044 10.70565516 10.84815624 10.90700023\n",
      " 10.88040458 10.77946056 10.62631094 10.45051204 10.2841777  10.15670305\n",
      " 10.089935   10.09458281 10.16845866 10.29683703 10.4548741  10.61168951\n",
      " 10.73543993 10.79855081]\n"
     ]
    }
   ],
   "source": [
    "ypred = olsres.predict(X)\n",
    "print(ypred)"
   ]
  },
  {
   "cell_type": "markdown",
   "metadata": {},
   "source": [
    "## Create a new sample of explanatory variables Xnew, predict and plot"
   ]
  },
  {
   "cell_type": "code",
   "execution_count": 6,
   "metadata": {
    "execution": {
     "iopub.execute_input": "2024-08-27T15:21:06.378384Z",
     "iopub.status.busy": "2024-08-27T15:21:06.377924Z",
     "iopub.status.idle": "2024-08-27T15:21:06.391451Z",
     "shell.execute_reply": "2024-08-27T15:21:06.390803Z"
    }
   },
   "outputs": [
    {
     "name": "stdout",
     "output_type": "stream",
     "text": [
      "[10.76667177 10.60647115 10.33686025 10.00093554  9.65542713  9.35680926\n",
      "  9.14747344  9.04534954  9.03951593  9.09287344]\n"
     ]
    }
   ],
   "source": [
    "x1n = np.linspace(20.5, 25, 10)\n",
    "Xnew = np.column_stack((x1n, np.sin(x1n), (x1n - 5) ** 2))\n",
    "Xnew = sm.add_constant(Xnew)\n",
    "ynewpred = olsres.predict(Xnew)  # predict out of sample\n",
    "print(ynewpred)"
   ]
  },
  {
   "cell_type": "markdown",
   "metadata": {},
   "source": [
    "## Plot comparison"
   ]
  },
  {
   "cell_type": "code",
   "execution_count": 7,
   "metadata": {
    "execution": {
     "iopub.execute_input": "2024-08-27T15:21:06.394562Z",
     "iopub.status.busy": "2024-08-27T15:21:06.394098Z",
     "iopub.status.idle": "2024-08-27T15:21:07.106878Z",
     "shell.execute_reply": "2024-08-27T15:21:07.106204Z"
    }
   },
   "outputs": [
    {
     "data": {
      "text/plain": [
       "<matplotlib.legend.Legend at 0x7f1bdb36ded0>"
      ]
     },
     "execution_count": 7,
     "metadata": {},
     "output_type": "execute_result"
    },
    {
     "data": {
      "image/png": "[encoded data removed]",
      "text/plain": [
       "<Figure size 1600x800 with 1 Axes>"
      ]
     },
     "metadata": {},
     "output_type": "display_data"
    }
   ],
   "source": [
    "import matplotlib.pyplot as plt\n",
    "\n",
    "fig, ax = plt.subplots()\n",
    "ax.plot(x1, y, \"o\", label=\"Data\")\n",
    "ax.plot(x1, y_true, \"b-\", label=\"True\")\n",
    "ax.plot(np.hstack((x1, x1n)), np.hstack((ypred, ynewpred)), \"r\", label=\"OLS prediction\")\n",
    "ax.legend(loc=\"best\")"
   ]
  },
  {
   "cell_type": "markdown",
   "metadata": {},
   "source": [
    "## Predicting with Formulas"
   ]
  },
  {
   "cell_type": "markdown",
   "metadata": {},
   "source": [
    "Using formulas can make both estimation and prediction a lot easier"
   ]
  },
  {
   "cell_type": "code",
   "execution_count": 8,
   "metadata": {
    "execution": {
     "iopub.execute_input": "2024-08-27T15:21:07.111275Z",
     "iopub.status.busy": "2024-08-27T15:21:07.110177Z",
     "iopub.status.idle": "2024-08-27T15:21:07.124248Z",
     "shell.execute_reply": "2024-08-27T15:21:07.123657Z"
    }
   },
   "outputs": [],
   "source": [
    "from statsmodels.formula.api import ols\n",
    "\n",
    "data = {\"x1\": x1, \"y\": y}\n",
    "\n",
    "res = ols(\"y ~ x1 + np.sin(x1) + I((x1-5)**2)\", data=data).fit()"
   ]
  },
  {
   "cell_type": "markdown",
   "metadata": {},
   "source": [
    "We use the `I` to indicate use of the Identity transform. Ie., we do not want any expansion magic from using `**2`"
   ]
  },
  {
   "cell_type": "code",
   "execution_count": 9,
   "metadata": {
    "execution": {
     "iopub.execute_input": "2024-08-27T15:21:07.128367Z",
     "iopub.status.busy": "2024-08-27T15:21:07.127319Z",
     "iopub.status.idle": "2024-08-27T15:21:07.148128Z",
     "shell.execute_reply": "2024-08-27T15:21:07.147555Z"
    }
   },
   "outputs": [
    {
     "data": {
      "text/plain": [
       "Intercept           5.067393\n",
       "x1                  0.503692\n",
       "np.sin(x1)          0.482232\n",
       "I((x1 - 5) ** 2)   -0.021258\n",
       "dtype: float64"
      ]
     },
     "execution_count": 9,
     "metadata": {},
     "output_type": "execute_result"
    }
   ],
   "source": [
    "res.params"
   ]
  },
  {
   "cell_type": "markdown",
   "metadata": {},
   "source": [
    "Now we only have to pass the single variable and we get the transformed right-hand side variables automatically"
   ]
  },
  {
   "cell_type": "code",
   "execution_count": 10,
   "metadata": {
    "execution": {
     "iopub.execute_input": "2024-08-27T15:21:07.152158Z",
     "iopub.status.busy": "2024-08-27T15:21:07.151122Z",
     "iopub.status.idle": "2024-08-27T15:21:07.167385Z",
     "shell.execute_reply": "2024-08-27T15:21:07.166792Z"
    }
   },
   "outputs": [
    {
     "data": {
      "text/plain": [
       "0    10.766672\n",
       "1    10.606471\n",
       "2    10.336860\n",
       "3    10.000936\n",
       "4     9.655427\n",
       "5     9.356809\n",
       "6     9.147473\n",
       "7     9.045350\n",
       "8     9.039516\n",
       "9     9.092873\n",
       "dtype: float64"
      ]
     },
     "execution_count": 10,
     "metadata": {},
     "output_type": "execute_result"
    }
   ],
   "source": [
    "res.predict(exog=dict(x1=x1n))"
   ]
  }
 ],
 "metadata": {
  "kernelspec": {
   "display_name": "Python 3",
   "language": "python",
   "name": "python3"
  },
  "language_info": {
   "codemirror_mode": {
    "name": "ipython",
    "version": 3
   },
   "file_extension": ".py",
   "mimetype": "text/x-python",
   "name": "python",
   "nbconvert_exporter": "python",
   "pygments_lexer": "ipython3",
   "version": "3.10.14"
  }
 },
 "nbformat": 4,
 "nbformat_minor": 4
}
