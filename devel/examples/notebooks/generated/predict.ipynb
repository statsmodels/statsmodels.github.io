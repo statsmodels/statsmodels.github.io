{
 "cells": [
  {
   "cell_type": "markdown",
   "metadata": {},
   "source": [
    "# Prediction (out of sample)"
   ]
  },
  {
   "cell_type": "code",
   "execution_count": 1,
   "metadata": {
    "execution": {
     "iopub.execute_input": "2025-07-18T15:37:54.850144Z",
     "iopub.status.busy": "2025-07-18T15:37:54.849894Z",
     "iopub.status.idle": "2025-07-18T15:37:56.824468Z",
     "shell.execute_reply": "2025-07-18T15:37:56.823712Z"
    }
   },
   "outputs": [],
   "source": [
    "%matplotlib inline"
   ]
  },
  {
   "cell_type": "code",
   "execution_count": 2,
   "metadata": {
    "execution": {
     "iopub.execute_input": "2025-07-18T15:37:56.833495Z",
     "iopub.status.busy": "2025-07-18T15:37:56.833152Z",
     "iopub.status.idle": "2025-07-18T15:38:00.659507Z",
     "shell.execute_reply": "2025-07-18T15:38:00.658707Z"
    }
   },
   "outputs": [],
   "source": [
    "import numpy as np\n",
    "import matplotlib.pyplot as plt\n",
    "\n",
    "import statsmodels.api as sm\n",
    "\n",
    "plt.rc(\"figure\", figsize=(16, 8))\n",
    "plt.rc(\"font\", size=14)"
   ]
  },
  {
   "cell_type": "markdown",
   "metadata": {},
   "source": [
    "## Artificial data"
   ]
  },
  {
   "cell_type": "code",
   "execution_count": 3,
   "metadata": {
    "execution": {
     "iopub.execute_input": "2025-07-18T15:38:00.666021Z",
     "iopub.status.busy": "2025-07-18T15:38:00.663029Z",
     "iopub.status.idle": "2025-07-18T15:38:00.681387Z",
     "shell.execute_reply": "2025-07-18T15:38:00.680699Z"
    }
   },
   "outputs": [],
   "source": [
    "nsample = 50\n",
    "sig = 0.25\n",
    "x1 = np.linspace(0, 20, nsample)\n",
    "X = np.column_stack((x1, np.sin(x1), (x1 - 5) ** 2))\n",
    "X = sm.add_constant(X)\n",
    "beta = [5.0, 0.5, 0.5, -0.02]\n",
    "y_true = np.dot(X, beta)\n",
    "y = y_true + sig * np.random.normal(size=nsample)"
   ]
  },
  {
   "cell_type": "markdown",
   "metadata": {},
   "source": [
    "## Estimation "
   ]
  },
  {
   "cell_type": "code",
   "execution_count": 4,
   "metadata": {
    "execution": {
     "iopub.execute_input": "2025-07-18T15:38:00.687803Z",
     "iopub.status.busy": "2025-07-18T15:38:00.687507Z",
     "iopub.status.idle": "2025-07-18T15:38:00.731524Z",
     "shell.execute_reply": "2025-07-18T15:38:00.730817Z"
    }
   },
   "outputs": [
    {
     "name": "stdout",
     "output_type": "stream",
     "text": [
      "                            OLS Regression Results                            \n",
      "==============================================================================\n",
      "Dep. Variable:                      y   R-squared:                       0.982\n",
      "Model:                            OLS   Adj. R-squared:                  0.981\n",
      "Method:                 Least Squares   F-statistic:                     832.1\n",
      "Date:                Fri, 18 Jul 2025   Prob (F-statistic):           4.56e-40\n",
      "Time:                        15:38:00   Log-Likelihood:               -0.96217\n",
      "No. Observations:                  50   AIC:                             9.924\n",
      "Df Residuals:                      46   BIC:                             17.57\n",
      "Df Model:                           3                                         \n",
      "Covariance Type:            nonrobust                                         \n",
      "==============================================================================\n",
      "                 coef    std err          t      P>|t|      [0.025      0.975]\n",
      "------------------------------------------------------------------------------\n",
      "const          4.9882      0.088     56.907      0.000       4.812       5.165\n",
      "x1             0.5014      0.014     37.088      0.000       0.474       0.529\n",
      "x2             0.4187      0.053      7.879      0.000       0.312       0.526\n",
      "x3            -0.0208      0.001    -17.495      0.000      -0.023      -0.018\n",
      "==============================================================================\n",
      "Omnibus:                        0.475   Durbin-Watson:                   2.145\n",
      "Prob(Omnibus):                  0.789   Jarque-Bera (JB):                0.558\n",
      "Skew:                          -0.212   Prob(JB):                        0.756\n",
      "Kurtosis:                       2.702   Cond. No.                         221.\n",
      "==============================================================================\n",
      "\n",
      "Notes:\n",
      "[1] Standard Errors assume that the covariance matrix of the errors is correctly specified.\n"
     ]
    }
   ],
   "source": [
    "olsmod = sm.OLS(y, X)\n",
    "olsres = olsmod.fit()\n",
    "print(olsres.summary())"
   ]
  },
  {
   "cell_type": "markdown",
   "metadata": {},
   "source": [
    "## In-sample prediction"
   ]
  },
  {
   "cell_type": "code",
   "execution_count": 5,
   "metadata": {
    "execution": {
     "iopub.execute_input": "2025-07-18T15:38:00.738448Z",
     "iopub.status.busy": "2025-07-18T15:38:00.738172Z",
     "iopub.status.idle": "2025-07-18T15:38:00.749184Z",
     "shell.execute_reply": "2025-07-18T15:38:00.748519Z"
    }
   },
   "outputs": [
    {
     "name": "stdout",
     "output_type": "stream",
     "text": [
      "[ 4.46903957  4.92118249  5.33910048  5.69997391  5.98921867  6.20288223\n",
      "  6.34829306  6.44285659  6.51119553  6.58110445  6.67898317  6.82549941\n",
      "  7.03219306  7.29958029  7.61706868  7.96469757  8.31641752  8.64437014\n",
      "  8.92346519  9.1355028   9.27216367  9.3363759   9.34183394  9.31074856\n",
      "  9.27019779  9.24767796  9.26658624  9.34237646  9.48002015  9.6731897\n",
      "  9.90529798 10.15222357 10.38627381 10.58073465 10.7142597  10.77437734\n",
      " 10.75953984 10.67937756 10.5531168  10.4064209  10.26717388 10.16089913\n",
      " 10.10656603 10.11347328 10.17972123 10.29252391 10.43030977 10.5662658\n",
      " 10.67274288 10.72579839]\n"
     ]
    }
   ],
   "source": [
    "ypred = olsres.predict(X)\n",
    "print(ypred)"
   ]
  },
  {
   "cell_type": "markdown",
   "metadata": {},
   "source": [
    "## Create a new sample of explanatory variables Xnew, predict and plot"
   ]
  },
  {
   "cell_type": "code",
   "execution_count": 6,
   "metadata": {
    "execution": {
     "iopub.execute_input": "2025-07-18T15:38:00.757501Z",
     "iopub.status.busy": "2025-07-18T15:38:00.757211Z",
     "iopub.status.idle": "2025-07-18T15:38:00.769760Z",
     "shell.execute_reply": "2025-07-18T15:38:00.769092Z"
    }
   },
   "outputs": [
    {
     "name": "stdout",
     "output_type": "stream",
     "text": [
      "[10.69493519 10.55149801 10.31190728 10.01358306  9.70578336  9.43754399\n",
      "  9.24567293  9.14573844  9.12825742  9.16101716]\n"
     ]
    }
   ],
   "source": [
    "x1n = np.linspace(20.5, 25, 10)\n",
    "Xnew = np.column_stack((x1n, np.sin(x1n), (x1n - 5) ** 2))\n",
    "Xnew = sm.add_constant(Xnew)\n",
    "ynewpred = olsres.predict(Xnew)  # predict out of sample\n",
    "print(ynewpred)"
   ]
  },
  {
   "cell_type": "markdown",
   "metadata": {},
   "source": [
    "## Plot comparison"
   ]
  },
  {
   "cell_type": "code",
   "execution_count": 7,
   "metadata": {
    "execution": {
     "iopub.execute_input": "2025-07-18T15:38:00.775176Z",
     "iopub.status.busy": "2025-07-18T15:38:00.774918Z",
     "iopub.status.idle": "2025-07-18T15:38:01.474396Z",
     "shell.execute_reply": "2025-07-18T15:38:01.473702Z"
    }
   },
   "outputs": [
    {
     "data": {
      "text/plain": [
       "<matplotlib.legend.Legend at 0x7f8b1c79a260>"
      ]
     },
     "execution_count": 7,
     "metadata": {},
     "output_type": "execute_result"
    },
    {
     "data": {
      "image/png": "[encoded data removed]",
      "text/plain": [
       "<Figure size 1600x800 with 1 Axes>"
      ]
     },
     "metadata": {},
     "output_type": "display_data"
    }
   ],
   "source": [
    "import matplotlib.pyplot as plt\n",
    "\n",
    "fig, ax = plt.subplots()\n",
    "ax.plot(x1, y, \"o\", label=\"Data\")\n",
    "ax.plot(x1, y_true, \"b-\", label=\"True\")\n",
    "ax.plot(np.hstack((x1, x1n)), np.hstack((ypred, ynewpred)), \"r\", label=\"OLS prediction\")\n",
    "ax.legend(loc=\"best\")"
   ]
  },
  {
   "cell_type": "markdown",
   "metadata": {},
   "source": [
    "## Predicting with Formulas"
   ]
  },
  {
   "cell_type": "markdown",
   "metadata": {},
   "source": [
    "Using formulas can make both estimation and prediction a lot easier"
   ]
  },
  {
   "cell_type": "code",
   "execution_count": 8,
   "metadata": {
    "execution": {
     "iopub.execute_input": "2025-07-18T15:38:01.479074Z",
     "iopub.status.busy": "2025-07-18T15:38:01.478814Z",
     "iopub.status.idle": "2025-07-18T15:38:01.506389Z",
     "shell.execute_reply": "2025-07-18T15:38:01.505680Z"
    }
   },
   "outputs": [],
   "source": [
    "from statsmodels.formula.api import ols\n",
    "\n",
    "data = {\"x1\": x1, \"y\": y}\n",
    "\n",
    "res = ols(\"y ~ x1 + np.sin(x1) + I((x1-5)**2)\", data=data).fit()"
   ]
  },
  {
   "cell_type": "markdown",
   "metadata": {},
   "source": [
    "We use the `I` to indicate use of the Identity transform. Ie., we do not want any expansion magic from using `**2`"
   ]
  },
  {
   "cell_type": "code",
   "execution_count": 9,
   "metadata": {
    "execution": {
     "iopub.execute_input": "2025-07-18T15:38:01.514274Z",
     "iopub.status.busy": "2025-07-18T15:38:01.513958Z",
     "iopub.status.idle": "2025-07-18T15:38:01.528066Z",
     "shell.execute_reply": "2025-07-18T15:38:01.527335Z"
    }
   },
   "outputs": [
    {
     "data": {
      "text/plain": [
       "Intercept           4.988184\n",
       "x1                  0.501383\n",
       "np.sin(x1)          0.418715\n",
       "I((x1 - 5) ** 2)   -0.020766\n",
       "dtype: float64"
      ]
     },
     "execution_count": 9,
     "metadata": {},
     "output_type": "execute_result"
    }
   ],
   "source": [
    "res.params"
   ]
  },
  {
   "cell_type": "markdown",
   "metadata": {},
   "source": [
    "Now we only have to pass the single variable and we get the transformed right-hand side variables automatically"
   ]
  },
  {
   "cell_type": "code",
   "execution_count": 10,
   "metadata": {
    "execution": {
     "iopub.execute_input": "2025-07-18T15:38:01.533883Z",
     "iopub.status.busy": "2025-07-18T15:38:01.533597Z",
     "iopub.status.idle": "2025-07-18T15:38:01.557506Z",
     "shell.execute_reply": "2025-07-18T15:38:01.556713Z"
    }
   },
   "outputs": [
    {
     "data": {
      "text/plain": [
       "0    10.694935\n",
       "1    10.551498\n",
       "2    10.311907\n",
       "3    10.013583\n",
       "4     9.705783\n",
       "5     9.437544\n",
       "6     9.245673\n",
       "7     9.145738\n",
       "8     9.128257\n",
       "9     9.161017\n",
       "dtype: float64"
      ]
     },
     "execution_count": 10,
     "metadata": {},
     "output_type": "execute_result"
    }
   ],
   "source": [
    "res.predict(exog=dict(x1=x1n))"
   ]
  }
 ],
 "metadata": {
  "kernelspec": {
   "display_name": "Python 3",
   "language": "python",
   "name": "python3"
  },
  "language_info": {
   "codemirror_mode": {
    "name": "ipython",
    "version": 3
   },
   "file_extension": ".py",
   "mimetype": "text/x-python",
   "name": "python",
   "nbconvert_exporter": "python",
   "pygments_lexer": "ipython3",
   "version": "3.10.18"
  }
 },
 "nbformat": 4,
 "nbformat_minor": 4
}
