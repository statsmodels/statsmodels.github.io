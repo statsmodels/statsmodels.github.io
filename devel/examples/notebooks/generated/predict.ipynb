{
 "cells": [
  {
   "cell_type": "markdown",
   "metadata": {},
   "source": [
    "# Prediction (out of sample)"
   ]
  },
  {
   "cell_type": "code",
   "execution_count": 1,
   "metadata": {
    "execution": {
     "iopub.execute_input": "2024-10-18T15:12:13.840217Z",
     "iopub.status.busy": "2024-10-18T15:12:13.839947Z",
     "iopub.status.idle": "2024-10-18T15:12:14.501865Z",
     "shell.execute_reply": "2024-10-18T15:12:14.500974Z"
    }
   },
   "outputs": [],
   "source": [
    "%matplotlib inline"
   ]
  },
  {
   "cell_type": "code",
   "execution_count": 2,
   "metadata": {
    "execution": {
     "iopub.execute_input": "2024-10-18T15:12:14.506362Z",
     "iopub.status.busy": "2024-10-18T15:12:14.505138Z",
     "iopub.status.idle": "2024-10-18T15:12:15.690476Z",
     "shell.execute_reply": "2024-10-18T15:12:15.689540Z"
    }
   },
   "outputs": [],
   "source": [
    "import numpy as np\n",
    "import matplotlib.pyplot as plt\n",
    "\n",
    "import statsmodels.api as sm\n",
    "\n",
    "plt.rc(\"figure\", figsize=(16, 8))\n",
    "plt.rc(\"font\", size=14)"
   ]
  },
  {
   "cell_type": "markdown",
   "metadata": {},
   "source": [
    "## Artificial data"
   ]
  },
  {
   "cell_type": "code",
   "execution_count": 3,
   "metadata": {
    "execution": {
     "iopub.execute_input": "2024-10-18T15:12:15.695589Z",
     "iopub.status.busy": "2024-10-18T15:12:15.694334Z",
     "iopub.status.idle": "2024-10-18T15:12:15.701824Z",
     "shell.execute_reply": "2024-10-18T15:12:15.701009Z"
    }
   },
   "outputs": [],
   "source": [
    "nsample = 50\n",
    "sig = 0.25\n",
    "x1 = np.linspace(0, 20, nsample)\n",
    "X = np.column_stack((x1, np.sin(x1), (x1 - 5) ** 2))\n",
    "X = sm.add_constant(X)\n",
    "beta = [5.0, 0.5, 0.5, -0.02]\n",
    "y_true = np.dot(X, beta)\n",
    "y = y_true + sig * np.random.normal(size=nsample)"
   ]
  },
  {
   "cell_type": "markdown",
   "metadata": {},
   "source": [
    "## Estimation "
   ]
  },
  {
   "cell_type": "code",
   "execution_count": 4,
   "metadata": {
    "execution": {
     "iopub.execute_input": "2024-10-18T15:12:15.706343Z",
     "iopub.status.busy": "2024-10-18T15:12:15.705247Z",
     "iopub.status.idle": "2024-10-18T15:12:15.724380Z",
     "shell.execute_reply": "2024-10-18T15:12:15.723516Z"
    }
   },
   "outputs": [
    {
     "name": "stdout",
     "output_type": "stream",
     "text": [
      "                            OLS Regression Results                            \n",
      "==============================================================================\n",
      "Dep. Variable:                      y   R-squared:                       0.987\n",
      "Model:                            OLS   Adj. R-squared:                  0.986\n",
      "Method:                 Least Squares   F-statistic:                     1141.\n",
      "Date:                Fri, 18 Oct 2024   Prob (F-statistic):           3.62e-43\n",
      "Time:                        15:12:15   Log-Likelihood:                 6.8018\n",
      "No. Observations:                  50   AIC:                            -5.604\n",
      "Df Residuals:                      46   BIC:                             2.045\n",
      "Df Model:                           3                                         \n",
      "Covariance Type:            nonrobust                                         \n",
      "==============================================================================\n",
      "                 coef    std err          t      P>|t|      [0.025      0.975]\n",
      "------------------------------------------------------------------------------\n",
      "const          5.0668      0.075     67.514      0.000       4.916       5.218\n",
      "x1             0.4869      0.012     42.069      0.000       0.464       0.510\n",
      "x2             0.3996      0.046      8.783      0.000       0.308       0.491\n",
      "x3            -0.0189      0.001    -18.617      0.000      -0.021      -0.017\n",
      "==============================================================================\n",
      "Omnibus:                        2.283   Durbin-Watson:                   2.386\n",
      "Prob(Omnibus):                  0.319   Jarque-Bera (JB):                1.355\n",
      "Skew:                           0.005   Prob(JB):                        0.508\n",
      "Kurtosis:                       2.194   Cond. No.                         221.\n",
      "==============================================================================\n",
      "\n",
      "Notes:\n",
      "[1] Standard Errors assume that the covariance matrix of the errors is correctly specified.\n"
     ]
    }
   ],
   "source": [
    "olsmod = sm.OLS(y, X)\n",
    "olsres = olsmod.fit()\n",
    "print(olsres.summary())"
   ]
  },
  {
   "cell_type": "markdown",
   "metadata": {},
   "source": [
    "## In-sample prediction"
   ]
  },
  {
   "cell_type": "code",
   "execution_count": 5,
   "metadata": {
    "execution": {
     "iopub.execute_input": "2024-10-18T15:12:15.729079Z",
     "iopub.status.busy": "2024-10-18T15:12:15.727964Z",
     "iopub.status.idle": "2024-10-18T15:12:15.735667Z",
     "shell.execute_reply": "2024-10-18T15:12:15.734796Z"
    }
   },
   "outputs": [
    {
     "name": "stdout",
     "output_type": "stream",
     "text": [
      "[ 4.59384518  5.02528467  5.42435883  5.76928805  6.04615288  6.25118091\n",
      "  6.39136665  6.48332225  6.55054825  6.61957248  6.71559162  6.85833142\n",
      "  7.05880586  7.31750759  7.62432694  7.96021294  8.30030335  8.61800945\n",
      "  8.88938446  9.09705798  9.23308985  9.30027474  9.31168294  9.28851302\n",
      "  9.25660889  9.24221376  9.26765845  9.34769251  9.48706088  9.67972434\n",
      "  9.90985171 10.15442089 10.38700133 10.58209646 10.71933275 10.78680698\n",
      " 10.78304194 10.71722912 10.60771855 10.47900398 10.35769862 10.26816263\n",
      " 10.22850085 10.24758823 10.32361165 10.44436789 10.58926851 10.73272251\n",
      " 10.84834086 10.91327214]\n"
     ]
    }
   ],
   "source": [
    "ypred = olsres.predict(X)\n",
    "print(ypred)"
   ]
  },
  {
   "cell_type": "markdown",
   "metadata": {},
   "source": [
    "## Create a new sample of explanatory variables Xnew, predict and plot"
   ]
  },
  {
   "cell_type": "code",
   "execution_count": 6,
   "metadata": {
    "execution": {
     "iopub.execute_input": "2024-10-18T15:12:15.740106Z",
     "iopub.status.busy": "2024-10-18T15:12:15.738998Z",
     "iopub.status.idle": "2024-10-18T15:12:15.747819Z",
     "shell.execute_reply": "2024-10-18T15:12:15.747009Z"
    }
   },
   "outputs": [
    {
     "name": "stdout",
     "output_type": "stream",
     "text": [
      "[10.90173398 10.78320228 10.57334912 10.30788916 10.03383545  9.79798901\n",
      "  9.63548031  9.56116808  9.5660014   9.61923568]\n"
     ]
    }
   ],
   "source": [
    "x1n = np.linspace(20.5, 25, 10)\n",
    "Xnew = np.column_stack((x1n, np.sin(x1n), (x1n - 5) ** 2))\n",
    "Xnew = sm.add_constant(Xnew)\n",
    "ynewpred = olsres.predict(Xnew)  # predict out of sample\n",
    "print(ynewpred)"
   ]
  },
  {
   "cell_type": "markdown",
   "metadata": {},
   "source": [
    "## Plot comparison"
   ]
  },
  {
   "cell_type": "code",
   "execution_count": 7,
   "metadata": {
    "execution": {
     "iopub.execute_input": "2024-10-18T15:12:15.752735Z",
     "iopub.status.busy": "2024-10-18T15:12:15.751486Z",
     "iopub.status.idle": "2024-10-18T15:12:16.025617Z",
     "shell.execute_reply": "2024-10-18T15:12:16.024686Z"
    }
   },
   "outputs": [
    {
     "data": {
      "text/plain": [
       "<matplotlib.legend.Legend at 0x7f8f802510f0>"
      ]
     },
     "execution_count": 7,
     "metadata": {},
     "output_type": "execute_result"
    },
    {
     "data": {
      "image/png": "[encoded data removed]",
      "text/plain": [
       "<Figure size 1600x800 with 1 Axes>"
      ]
     },
     "metadata": {},
     "output_type": "display_data"
    }
   ],
   "source": [
    "import matplotlib.pyplot as plt\n",
    "\n",
    "fig, ax = plt.subplots()\n",
    "ax.plot(x1, y, \"o\", label=\"Data\")\n",
    "ax.plot(x1, y_true, \"b-\", label=\"True\")\n",
    "ax.plot(np.hstack((x1, x1n)), np.hstack((ypred, ynewpred)), \"r\", label=\"OLS prediction\")\n",
    "ax.legend(loc=\"best\")"
   ]
  },
  {
   "cell_type": "markdown",
   "metadata": {},
   "source": [
    "## Predicting with Formulas"
   ]
  },
  {
   "cell_type": "markdown",
   "metadata": {},
   "source": [
    "Using formulas can make both estimation and prediction a lot easier"
   ]
  },
  {
   "cell_type": "code",
   "execution_count": 8,
   "metadata": {
    "execution": {
     "iopub.execute_input": "2024-10-18T15:12:16.029169Z",
     "iopub.status.busy": "2024-10-18T15:12:16.028826Z",
     "iopub.status.idle": "2024-10-18T15:12:16.040249Z",
     "shell.execute_reply": "2024-10-18T15:12:16.039368Z"
    }
   },
   "outputs": [],
   "source": [
    "from statsmodels.formula.api import ols\n",
    "\n",
    "data = {\"x1\": x1, \"y\": y}\n",
    "\n",
    "res = ols(\"y ~ x1 + np.sin(x1) + I((x1-5)**2)\", data=data).fit()"
   ]
  },
  {
   "cell_type": "markdown",
   "metadata": {},
   "source": [
    "We use the `I` to indicate use of the Identity transform. Ie., we do not want any expansion magic from using `**2`"
   ]
  },
  {
   "cell_type": "code",
   "execution_count": 9,
   "metadata": {
    "execution": {
     "iopub.execute_input": "2024-10-18T15:12:16.044744Z",
     "iopub.status.busy": "2024-10-18T15:12:16.043651Z",
     "iopub.status.idle": "2024-10-18T15:12:16.054038Z",
     "shell.execute_reply": "2024-10-18T15:12:16.053136Z"
    }
   },
   "outputs": [
    {
     "data": {
      "text/plain": [
       "Intercept           5.066835\n",
       "x1                  0.486925\n",
       "np.sin(x1)          0.399632\n",
       "I((x1 - 5) ** 2)   -0.018920\n",
       "dtype: float64"
      ]
     },
     "execution_count": 9,
     "metadata": {},
     "output_type": "execute_result"
    }
   ],
   "source": [
    "res.params"
   ]
  },
  {
   "cell_type": "markdown",
   "metadata": {},
   "source": [
    "Now we only have to pass the single variable and we get the transformed right-hand side variables automatically"
   ]
  },
  {
   "cell_type": "code",
   "execution_count": 10,
   "metadata": {
    "execution": {
     "iopub.execute_input": "2024-10-18T15:12:16.058772Z",
     "iopub.status.busy": "2024-10-18T15:12:16.057649Z",
     "iopub.status.idle": "2024-10-18T15:12:16.068772Z",
     "shell.execute_reply": "2024-10-18T15:12:16.067930Z"
    }
   },
   "outputs": [
    {
     "data": {
      "text/plain": [
       "0    10.901734\n",
       "1    10.783202\n",
       "2    10.573349\n",
       "3    10.307889\n",
       "4    10.033835\n",
       "5     9.797989\n",
       "6     9.635480\n",
       "7     9.561168\n",
       "8     9.566001\n",
       "9     9.619236\n",
       "dtype: float64"
      ]
     },
     "execution_count": 10,
     "metadata": {},
     "output_type": "execute_result"
    }
   ],
   "source": [
    "res.predict(exog=dict(x1=x1n))"
   ]
  }
 ],
 "metadata": {
  "kernelspec": {
   "display_name": "Python 3",
   "language": "python",
   "name": "python3"
  },
  "language_info": {
   "codemirror_mode": {
    "name": "ipython",
    "version": 3
   },
   "file_extension": ".py",
   "mimetype": "text/x-python",
   "name": "python",
   "nbconvert_exporter": "python",
   "pygments_lexer": "ipython3",
   "version": "3.10.15"
  }
 },
 "nbformat": 4,
 "nbformat_minor": 4
}
