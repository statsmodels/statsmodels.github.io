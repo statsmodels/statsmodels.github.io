{
 "cells": [
  {
   "cell_type": "markdown",
   "metadata": {},
   "source": [
    "# Prediction (out of sample)"
   ]
  },
  {
   "cell_type": "code",
   "execution_count": 1,
   "metadata": {
    "execution": {
     "iopub.execute_input": "2025-01-25T16:03:30.526936Z",
     "iopub.status.busy": "2025-01-25T16:03:30.526676Z",
     "iopub.status.idle": "2025-01-25T16:03:31.832061Z",
     "shell.execute_reply": "2025-01-25T16:03:31.831381Z"
    }
   },
   "outputs": [],
   "source": [
    "%matplotlib inline"
   ]
  },
  {
   "cell_type": "code",
   "execution_count": 2,
   "metadata": {
    "execution": {
     "iopub.execute_input": "2025-01-25T16:03:31.834756Z",
     "iopub.status.busy": "2025-01-25T16:03:31.834460Z",
     "iopub.status.idle": "2025-01-25T16:03:34.279542Z",
     "shell.execute_reply": "2025-01-25T16:03:34.278816Z"
    }
   },
   "outputs": [],
   "source": [
    "import numpy as np\n",
    "import matplotlib.pyplot as plt\n",
    "\n",
    "import statsmodels.api as sm\n",
    "\n",
    "plt.rc(\"figure\", figsize=(16, 8))\n",
    "plt.rc(\"font\", size=14)"
   ]
  },
  {
   "cell_type": "markdown",
   "metadata": {},
   "source": [
    "## Artificial data"
   ]
  },
  {
   "cell_type": "code",
   "execution_count": 3,
   "metadata": {
    "execution": {
     "iopub.execute_input": "2025-01-25T16:03:34.285103Z",
     "iopub.status.busy": "2025-01-25T16:03:34.284716Z",
     "iopub.status.idle": "2025-01-25T16:03:34.293346Z",
     "shell.execute_reply": "2025-01-25T16:03:34.292728Z"
    }
   },
   "outputs": [],
   "source": [
    "nsample = 50\n",
    "sig = 0.25\n",
    "x1 = np.linspace(0, 20, nsample)\n",
    "X = np.column_stack((x1, np.sin(x1), (x1 - 5) ** 2))\n",
    "X = sm.add_constant(X)\n",
    "beta = [5.0, 0.5, 0.5, -0.02]\n",
    "y_true = np.dot(X, beta)\n",
    "y = y_true + sig * np.random.normal(size=nsample)"
   ]
  },
  {
   "cell_type": "markdown",
   "metadata": {},
   "source": [
    "## Estimation "
   ]
  },
  {
   "cell_type": "code",
   "execution_count": 4,
   "metadata": {
    "execution": {
     "iopub.execute_input": "2025-01-25T16:03:34.295483Z",
     "iopub.status.busy": "2025-01-25T16:03:34.295245Z",
     "iopub.status.idle": "2025-01-25T16:03:34.321772Z",
     "shell.execute_reply": "2025-01-25T16:03:34.321103Z"
    }
   },
   "outputs": [
    {
     "name": "stdout",
     "output_type": "stream",
     "text": [
      "                            OLS Regression Results                            \n",
      "==============================================================================\n",
      "Dep. Variable:                      y   R-squared:                       0.980\n",
      "Model:                            OLS   Adj. R-squared:                  0.979\n",
      "Method:                 Least Squares   F-statistic:                     765.9\n",
      "Date:                Sat, 25 Jan 2025   Prob (F-statistic):           2.97e-39\n",
      "Time:                        16:03:34   Log-Likelihood:                -4.3966\n",
      "No. Observations:                  50   AIC:                             16.79\n",
      "Df Residuals:                      46   BIC:                             24.44\n",
      "Df Model:                           3                                         \n",
      "Covariance Type:            nonrobust                                         \n",
      "==============================================================================\n",
      "                 coef    std err          t      P>|t|      [0.025      0.975]\n",
      "------------------------------------------------------------------------------\n",
      "const          4.9032      0.094     52.224      0.000       4.714       5.092\n",
      "x1             0.5244      0.014     36.216      0.000       0.495       0.554\n",
      "x2             0.5494      0.057      9.652      0.000       0.435       0.664\n",
      "x3            -0.0225      0.001    -17.683      0.000      -0.025      -0.020\n",
      "==============================================================================\n",
      "Omnibus:                        0.047   Durbin-Watson:                   2.344\n",
      "Prob(Omnibus):                  0.977   Jarque-Bera (JB):                0.233\n",
      "Skew:                           0.027   Prob(JB):                        0.890\n",
      "Kurtosis:                       2.670   Cond. No.                         221.\n",
      "==============================================================================\n",
      "\n",
      "Notes:\n",
      "[1] Standard Errors assume that the covariance matrix of the errors is correctly specified.\n"
     ]
    }
   ],
   "source": [
    "olsmod = sm.OLS(y, X)\n",
    "olsres = olsmod.fit()\n",
    "print(olsres.summary())"
   ]
  },
  {
   "cell_type": "markdown",
   "metadata": {},
   "source": [
    "## In-sample prediction"
   ]
  },
  {
   "cell_type": "code",
   "execution_count": 5,
   "metadata": {
    "execution": {
     "iopub.execute_input": "2025-01-25T16:03:34.326714Z",
     "iopub.status.busy": "2025-01-25T16:03:34.326448Z",
     "iopub.status.idle": "2025-01-25T16:03:34.334188Z",
     "shell.execute_reply": "2025-01-25T16:03:34.333653Z"
    }
   },
   "outputs": [
    {
     "name": "stdout",
     "output_type": "stream",
     "text": [
      "[ 4.34119509  4.86133569  5.33815526  5.74171014  6.05286318  6.26642792\n",
      "  6.39202072  6.45248078  6.4801178   6.5114035   6.58097949  6.71596571\n",
      "  6.93150471  7.22827379  7.5923737   7.99761224  8.40980761  8.79240433\n",
      "  9.11247922  9.34615061  9.48250199  9.52537559  9.49274111  9.41374333\n",
      "  9.32391373  9.25933275  9.25070188  9.31829951  9.46864922  9.69344799\n",
      "  9.97093035 10.26944441 10.55265215 10.78549968 10.93997646 10.99971738\n",
      " 10.96269149 10.8415357  10.66147852 10.45619516 10.26227471 10.11320874\n",
      " 10.03388864 10.03651612 10.11859842 10.26335796 10.44248876 10.62080707\n",
      " 10.76203198 10.83474622]\n"
     ]
    }
   ],
   "source": [
    "ypred = olsres.predict(X)\n",
    "print(ypred)"
   ]
  },
  {
   "cell_type": "markdown",
   "metadata": {},
   "source": [
    "## Create a new sample of explanatory variables Xnew, predict and plot"
   ]
  },
  {
   "cell_type": "code",
   "execution_count": 6,
   "metadata": {
    "execution": {
     "iopub.execute_input": "2025-01-25T16:03:34.337167Z",
     "iopub.status.busy": "2025-01-25T16:03:34.336917Z",
     "iopub.status.idle": "2025-01-25T16:03:34.347258Z",
     "shell.execute_reply": "2025-01-25T16:03:34.346620Z"
    }
   },
   "outputs": [
    {
     "name": "stdout",
     "output_type": "stream",
     "text": [
      "[10.8002046  10.62032842 10.31666438  9.93831475  9.54991534  9.21581047\n",
      "  8.98429919  8.87581002  8.87789931  8.9482979 ]\n"
     ]
    }
   ],
   "source": [
    "x1n = np.linspace(20.5, 25, 10)\n",
    "Xnew = np.column_stack((x1n, np.sin(x1n), (x1n - 5) ** 2))\n",
    "Xnew = sm.add_constant(Xnew)\n",
    "ynewpred = olsres.predict(Xnew)  # predict out of sample\n",
    "print(ynewpred)"
   ]
  },
  {
   "cell_type": "markdown",
   "metadata": {},
   "source": [
    "## Plot comparison"
   ]
  },
  {
   "cell_type": "code",
   "execution_count": 7,
   "metadata": {
    "execution": {
     "iopub.execute_input": "2025-01-25T16:03:34.350658Z",
     "iopub.status.busy": "2025-01-25T16:03:34.349773Z",
     "iopub.status.idle": "2025-01-25T16:03:34.871430Z",
     "shell.execute_reply": "2025-01-25T16:03:34.870721Z"
    }
   },
   "outputs": [
    {
     "data": {
      "text/plain": [
       "<matplotlib.legend.Legend at 0x7fc199751a20>"
      ]
     },
     "execution_count": 7,
     "metadata": {},
     "output_type": "execute_result"
    },
    {
     "data": {
      "image/png": "[encoded data removed]",
      "text/plain": [
       "<Figure size 1600x800 with 1 Axes>"
      ]
     },
     "metadata": {},
     "output_type": "display_data"
    }
   ],
   "source": [
    "import matplotlib.pyplot as plt\n",
    "\n",
    "fig, ax = plt.subplots()\n",
    "ax.plot(x1, y, \"o\", label=\"Data\")\n",
    "ax.plot(x1, y_true, \"b-\", label=\"True\")\n",
    "ax.plot(np.hstack((x1, x1n)), np.hstack((ypred, ynewpred)), \"r\", label=\"OLS prediction\")\n",
    "ax.legend(loc=\"best\")"
   ]
  },
  {
   "cell_type": "markdown",
   "metadata": {},
   "source": [
    "## Predicting with Formulas"
   ]
  },
  {
   "cell_type": "markdown",
   "metadata": {},
   "source": [
    "Using formulas can make both estimation and prediction a lot easier"
   ]
  },
  {
   "cell_type": "code",
   "execution_count": 8,
   "metadata": {
    "execution": {
     "iopub.execute_input": "2025-01-25T16:03:34.879583Z",
     "iopub.status.busy": "2025-01-25T16:03:34.879319Z",
     "iopub.status.idle": "2025-01-25T16:03:34.899693Z",
     "shell.execute_reply": "2025-01-25T16:03:34.899055Z"
    }
   },
   "outputs": [],
   "source": [
    "from statsmodels.formula.api import ols\n",
    "\n",
    "data = {\"x1\": x1, \"y\": y}\n",
    "\n",
    "res = ols(\"y ~ x1 + np.sin(x1) + I((x1-5)**2)\", data=data).fit()"
   ]
  },
  {
   "cell_type": "markdown",
   "metadata": {},
   "source": [
    "We use the `I` to indicate use of the Identity transform. Ie., we do not want any expansion magic from using `**2`"
   ]
  },
  {
   "cell_type": "code",
   "execution_count": 9,
   "metadata": {
    "execution": {
     "iopub.execute_input": "2025-01-25T16:03:34.907584Z",
     "iopub.status.busy": "2025-01-25T16:03:34.907321Z",
     "iopub.status.idle": "2025-01-25T16:03:34.920157Z",
     "shell.execute_reply": "2025-01-25T16:03:34.919037Z"
    }
   },
   "outputs": [
    {
     "data": {
      "text/plain": [
       "Intercept           4.903218\n",
       "x1                  0.524407\n",
       "np.sin(x1)          0.549434\n",
       "I((x1 - 5) ** 2)   -0.022481\n",
       "dtype: float64"
      ]
     },
     "execution_count": 9,
     "metadata": {},
     "output_type": "execute_result"
    }
   ],
   "source": [
    "res.params"
   ]
  },
  {
   "cell_type": "markdown",
   "metadata": {},
   "source": [
    "Now we only have to pass the single variable and we get the transformed right-hand side variables automatically"
   ]
  },
  {
   "cell_type": "code",
   "execution_count": 10,
   "metadata": {
    "execution": {
     "iopub.execute_input": "2025-01-25T16:03:34.928552Z",
     "iopub.status.busy": "2025-01-25T16:03:34.928305Z",
     "iopub.status.idle": "2025-01-25T16:03:34.951230Z",
     "shell.execute_reply": "2025-01-25T16:03:34.950597Z"
    }
   },
   "outputs": [
    {
     "data": {
      "text/plain": [
       "0    10.800205\n",
       "1    10.620328\n",
       "2    10.316664\n",
       "3     9.938315\n",
       "4     9.549915\n",
       "5     9.215810\n",
       "6     8.984299\n",
       "7     8.875810\n",
       "8     8.877899\n",
       "9     8.948298\n",
       "dtype: float64"
      ]
     },
     "execution_count": 10,
     "metadata": {},
     "output_type": "execute_result"
    }
   ],
   "source": [
    "res.predict(exog=dict(x1=x1n))"
   ]
  }
 ],
 "metadata": {
  "kernelspec": {
   "display_name": "Python 3",
   "language": "python",
   "name": "python3"
  },
  "language_info": {
   "codemirror_mode": {
    "name": "ipython",
    "version": 3
   },
   "file_extension": ".py",
   "mimetype": "text/x-python",
   "name": "python",
   "nbconvert_exporter": "python",
   "pygments_lexer": "ipython3",
   "version": "3.10.16"
  }
 },
 "nbformat": 4,
 "nbformat_minor": 4
}
