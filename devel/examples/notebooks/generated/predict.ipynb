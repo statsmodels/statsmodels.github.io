{
 "cells": [
  {
   "cell_type": "markdown",
   "metadata": {},
   "source": [
    "# Prediction (out of sample)"
   ]
  },
  {
   "cell_type": "code",
   "execution_count": 1,
   "metadata": {
    "execution": {
     "iopub.execute_input": "2025-04-01T09:54:10.941600Z",
     "iopub.status.busy": "2025-04-01T09:54:10.940176Z",
     "iopub.status.idle": "2025-04-01T09:54:12.051134Z",
     "shell.execute_reply": "2025-04-01T09:54:12.050442Z"
    }
   },
   "outputs": [],
   "source": [
    "%matplotlib inline"
   ]
  },
  {
   "cell_type": "code",
   "execution_count": 2,
   "metadata": {
    "execution": {
     "iopub.execute_input": "2025-04-01T09:54:12.062693Z",
     "iopub.status.busy": "2025-04-01T09:54:12.059551Z",
     "iopub.status.idle": "2025-04-01T09:54:14.207265Z",
     "shell.execute_reply": "2025-04-01T09:54:14.206525Z"
    }
   },
   "outputs": [],
   "source": [
    "import numpy as np\n",
    "import matplotlib.pyplot as plt\n",
    "\n",
    "import statsmodels.api as sm\n",
    "\n",
    "plt.rc(\"figure\", figsize=(16, 8))\n",
    "plt.rc(\"font\", size=14)"
   ]
  },
  {
   "cell_type": "markdown",
   "metadata": {},
   "source": [
    "## Artificial data"
   ]
  },
  {
   "cell_type": "code",
   "execution_count": 3,
   "metadata": {
    "execution": {
     "iopub.execute_input": "2025-04-01T09:54:14.218952Z",
     "iopub.status.busy": "2025-04-01T09:54:14.218553Z",
     "iopub.status.idle": "2025-04-01T09:54:14.231391Z",
     "shell.execute_reply": "2025-04-01T09:54:14.230510Z"
    }
   },
   "outputs": [],
   "source": [
    "nsample = 50\n",
    "sig = 0.25\n",
    "x1 = np.linspace(0, 20, nsample)\n",
    "X = np.column_stack((x1, np.sin(x1), (x1 - 5) ** 2))\n",
    "X = sm.add_constant(X)\n",
    "beta = [5.0, 0.5, 0.5, -0.02]\n",
    "y_true = np.dot(X, beta)\n",
    "y = y_true + sig * np.random.normal(size=nsample)"
   ]
  },
  {
   "cell_type": "markdown",
   "metadata": {},
   "source": [
    "## Estimation "
   ]
  },
  {
   "cell_type": "code",
   "execution_count": 4,
   "metadata": {
    "execution": {
     "iopub.execute_input": "2025-04-01T09:54:14.238667Z",
     "iopub.status.busy": "2025-04-01T09:54:14.238253Z",
     "iopub.status.idle": "2025-04-01T09:54:14.275245Z",
     "shell.execute_reply": "2025-04-01T09:54:14.274510Z"
    }
   },
   "outputs": [
    {
     "name": "stdout",
     "output_type": "stream",
     "text": [
      "                            OLS Regression Results                            \n",
      "==============================================================================\n",
      "Dep. Variable:                      y   R-squared:                       0.979\n",
      "Model:                            OLS   Adj. R-squared:                  0.978\n",
      "Method:                 Least Squares   F-statistic:                     727.3\n",
      "Date:                Tue, 01 Apr 2025   Prob (F-statistic):           9.51e-39\n",
      "Time:                        09:54:14   Log-Likelihood:                -3.3219\n",
      "No. Observations:                  50   AIC:                             14.64\n",
      "Df Residuals:                      46   BIC:                             22.29\n",
      "Df Model:                           3                                         \n",
      "Covariance Type:            nonrobust                                         \n",
      "==============================================================================\n",
      "                 coef    std err          t      P>|t|      [0.025      0.975]\n",
      "------------------------------------------------------------------------------\n",
      "const          5.1664      0.092     56.223      0.000       4.981       5.351\n",
      "x1             0.4764      0.014     33.619      0.000       0.448       0.505\n",
      "x2             0.4206      0.056      7.549      0.000       0.308       0.533\n",
      "x3            -0.0185      0.001    -14.897      0.000      -0.021      -0.016\n",
      "==============================================================================\n",
      "Omnibus:                        2.626   Durbin-Watson:                   2.480\n",
      "Prob(Omnibus):                  0.269   Jarque-Bera (JB):                1.644\n",
      "Skew:                           0.188   Prob(JB):                        0.440\n",
      "Kurtosis:                       2.195   Cond. No.                         221.\n",
      "==============================================================================\n",
      "\n",
      "Notes:\n",
      "[1] Standard Errors assume that the covariance matrix of the errors is correctly specified.\n"
     ]
    }
   ],
   "source": [
    "olsmod = sm.OLS(y, X)\n",
    "olsres = olsmod.fit()\n",
    "print(olsres.summary())"
   ]
  },
  {
   "cell_type": "markdown",
   "metadata": {},
   "source": [
    "## In-sample prediction"
   ]
  },
  {
   "cell_type": "code",
   "execution_count": 5,
   "metadata": {
    "execution": {
     "iopub.execute_input": "2025-04-01T09:54:14.277831Z",
     "iopub.status.busy": "2025-04-01T09:54:14.277590Z",
     "iopub.status.idle": "2025-04-01T09:54:14.285934Z",
     "shell.execute_reply": "2025-04-01T09:54:14.282734Z"
    }
   },
   "outputs": [
    {
     "name": "stdout",
     "output_type": "stream",
     "text": [
      "[ 4.70298916  5.13696663  5.53734006  5.8811878   6.15386049  6.35138795\n",
      "  6.48113142  6.56057414  6.61444895  6.67067468  6.75576921  6.89049267\n",
      "  7.08643657  7.34411938  7.65290131  7.99273244  8.33744685  8.65906159\n",
      "  8.93237422  9.13910349  9.27089289  9.33068363  9.33223138  9.29784624\n",
      "  9.25472731  9.23049389  9.24864774  9.32471183  9.46367989  9.65919603\n",
      "  9.89459896 10.14565938 10.3845608  10.58446973 10.72394432 10.79045719\n",
      " 10.78245367 10.70960721 10.59123006 10.45310033 10.32322672 10.22724674\n",
      " 10.1842146  10.20347059 10.28310656 10.41027935 10.56332097 10.71529851\n",
      " 10.83843921 10.90869339]\n"
     ]
    }
   ],
   "source": [
    "ypred = olsres.predict(X)\n",
    "print(ypred)"
   ]
  },
  {
   "cell_type": "markdown",
   "metadata": {},
   "source": [
    "## Create a new sample of explanatory variables Xnew, predict and plot"
   ]
  },
  {
   "cell_type": "code",
   "execution_count": 6,
   "metadata": {
    "execution": {
     "iopub.execute_input": "2025-04-01T09:54:14.289140Z",
     "iopub.status.busy": "2025-04-01T09:54:14.288552Z",
     "iopub.status.idle": "2025-04-01T09:54:14.302508Z",
     "shell.execute_reply": "2025-04-01T09:54:14.301884Z"
    }
   },
   "outputs": [
    {
     "name": "stdout",
     "output_type": "stream",
     "text": [
      "[10.89952467 10.77843996 10.56193311 10.28759154 10.00489348  9.76309403\n",
      "  9.59916577  9.52874655  9.54231087  9.607502  ]\n"
     ]
    }
   ],
   "source": [
    "x1n = np.linspace(20.5, 25, 10)\n",
    "Xnew = np.column_stack((x1n, np.sin(x1n), (x1n - 5) ** 2))\n",
    "Xnew = sm.add_constant(Xnew)\n",
    "ynewpred = olsres.predict(Xnew)  # predict out of sample\n",
    "print(ynewpred)"
   ]
  },
  {
   "cell_type": "markdown",
   "metadata": {},
   "source": [
    "## Plot comparison"
   ]
  },
  {
   "cell_type": "code",
   "execution_count": 7,
   "metadata": {
    "execution": {
     "iopub.execute_input": "2025-04-01T09:54:14.306959Z",
     "iopub.status.busy": "2025-04-01T09:54:14.306703Z",
     "iopub.status.idle": "2025-04-01T09:54:14.785609Z",
     "shell.execute_reply": "2025-04-01T09:54:14.784867Z"
    }
   },
   "outputs": [
    {
     "data": {
      "text/plain": [
       "<matplotlib.legend.Legend at 0x7f83af2acc10>"
      ]
     },
     "execution_count": 7,
     "metadata": {},
     "output_type": "execute_result"
    },
    {
     "data": {
      "image/png": "[encoded data removed]",
      "text/plain": [
       "<Figure size 1600x800 with 1 Axes>"
      ]
     },
     "metadata": {},
     "output_type": "display_data"
    }
   ],
   "source": [
    "import matplotlib.pyplot as plt\n",
    "\n",
    "fig, ax = plt.subplots()\n",
    "ax.plot(x1, y, \"o\", label=\"Data\")\n",
    "ax.plot(x1, y_true, \"b-\", label=\"True\")\n",
    "ax.plot(np.hstack((x1, x1n)), np.hstack((ypred, ynewpred)), \"r\", label=\"OLS prediction\")\n",
    "ax.legend(loc=\"best\")"
   ]
  },
  {
   "cell_type": "markdown",
   "metadata": {},
   "source": [
    "## Predicting with Formulas"
   ]
  },
  {
   "cell_type": "markdown",
   "metadata": {},
   "source": [
    "Using formulas can make both estimation and prediction a lot easier"
   ]
  },
  {
   "cell_type": "code",
   "execution_count": 8,
   "metadata": {
    "execution": {
     "iopub.execute_input": "2025-04-01T09:54:14.792573Z",
     "iopub.status.busy": "2025-04-01T09:54:14.792264Z",
     "iopub.status.idle": "2025-04-01T09:54:14.810697Z",
     "shell.execute_reply": "2025-04-01T09:54:14.809961Z"
    }
   },
   "outputs": [],
   "source": [
    "from statsmodels.formula.api import ols\n",
    "\n",
    "data = {\"x1\": x1, \"y\": y}\n",
    "\n",
    "res = ols(\"y ~ x1 + np.sin(x1) + I((x1-5)**2)\", data=data).fit()"
   ]
  },
  {
   "cell_type": "markdown",
   "metadata": {},
   "source": [
    "We use the `I` to indicate use of the Identity transform. Ie., we do not want any expansion magic from using `**2`"
   ]
  },
  {
   "cell_type": "code",
   "execution_count": 9,
   "metadata": {
    "execution": {
     "iopub.execute_input": "2025-04-01T09:54:14.817663Z",
     "iopub.status.busy": "2025-04-01T09:54:14.813606Z",
     "iopub.status.idle": "2025-04-01T09:54:14.827353Z",
     "shell.execute_reply": "2025-04-01T09:54:14.826671Z"
    }
   },
   "outputs": [
    {
     "data": {
      "text/plain": [
       "Intercept           5.166386\n",
       "x1                  0.476445\n",
       "np.sin(x1)          0.420588\n",
       "I((x1 - 5) ** 2)   -0.018536\n",
       "dtype: float64"
      ]
     },
     "execution_count": 9,
     "metadata": {},
     "output_type": "execute_result"
    }
   ],
   "source": [
    "res.params"
   ]
  },
  {
   "cell_type": "markdown",
   "metadata": {},
   "source": [
    "Now we only have to pass the single variable and we get the transformed right-hand side variables automatically"
   ]
  },
  {
   "cell_type": "code",
   "execution_count": 10,
   "metadata": {
    "execution": {
     "iopub.execute_input": "2025-04-01T09:54:14.833416Z",
     "iopub.status.busy": "2025-04-01T09:54:14.833174Z",
     "iopub.status.idle": "2025-04-01T09:54:14.847863Z",
     "shell.execute_reply": "2025-04-01T09:54:14.844419Z"
    }
   },
   "outputs": [
    {
     "data": {
      "text/plain": [
       "0    10.899525\n",
       "1    10.778440\n",
       "2    10.561933\n",
       "3    10.287592\n",
       "4    10.004893\n",
       "5     9.763094\n",
       "6     9.599166\n",
       "7     9.528747\n",
       "8     9.542311\n",
       "9     9.607502\n",
       "dtype: float64"
      ]
     },
     "execution_count": 10,
     "metadata": {},
     "output_type": "execute_result"
    }
   ],
   "source": [
    "res.predict(exog=dict(x1=x1n))"
   ]
  }
 ],
 "metadata": {
  "kernelspec": {
   "display_name": "Python 3",
   "language": "python",
   "name": "python3"
  },
  "language_info": {
   "codemirror_mode": {
    "name": "ipython",
    "version": 3
   },
   "file_extension": ".py",
   "mimetype": "text/x-python",
   "name": "python",
   "nbconvert_exporter": "python",
   "pygments_lexer": "ipython3",
   "version": "3.10.16"
  }
 },
 "nbformat": 4,
 "nbformat_minor": 4
}
