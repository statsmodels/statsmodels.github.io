{
 "cells": [
  {
   "cell_type": "markdown",
   "metadata": {},
   "source": [
    "# Prediction (out of sample)"
   ]
  },
  {
   "cell_type": "code",
   "execution_count": 1,
   "metadata": {
    "execution": {
     "iopub.execute_input": "2025-09-24T18:12:33.010094Z",
     "iopub.status.busy": "2025-09-24T18:12:33.009495Z",
     "iopub.status.idle": "2025-09-24T18:12:33.799486Z",
     "shell.execute_reply": "2025-09-24T18:12:33.796350Z"
    }
   },
   "outputs": [],
   "source": [
    "%matplotlib inline"
   ]
  },
  {
   "cell_type": "code",
   "execution_count": 2,
   "metadata": {
    "execution": {
     "iopub.execute_input": "2025-09-24T18:12:33.807217Z",
     "iopub.status.busy": "2025-09-24T18:12:33.803759Z",
     "iopub.status.idle": "2025-09-24T18:12:35.475288Z",
     "shell.execute_reply": "2025-09-24T18:12:35.474268Z"
    }
   },
   "outputs": [],
   "source": [
    "import numpy as np\n",
    "import matplotlib.pyplot as plt\n",
    "\n",
    "import statsmodels.api as sm\n",
    "\n",
    "plt.rc(\"figure\", figsize=(16, 8))\n",
    "plt.rc(\"font\", size=14)"
   ]
  },
  {
   "cell_type": "markdown",
   "metadata": {},
   "source": [
    "## Artificial data"
   ]
  },
  {
   "cell_type": "code",
   "execution_count": 3,
   "metadata": {
    "execution": {
     "iopub.execute_input": "2025-09-24T18:12:35.478528Z",
     "iopub.status.busy": "2025-09-24T18:12:35.478090Z",
     "iopub.status.idle": "2025-09-24T18:12:35.485955Z",
     "shell.execute_reply": "2025-09-24T18:12:35.485113Z"
    }
   },
   "outputs": [],
   "source": [
    "nsample = 50\n",
    "sig = 0.25\n",
    "x1 = np.linspace(0, 20, nsample)\n",
    "X = np.column_stack((x1, np.sin(x1), (x1 - 5) ** 2))\n",
    "X = sm.add_constant(X)\n",
    "beta = [5.0, 0.5, 0.5, -0.02]\n",
    "y_true = np.dot(X, beta)\n",
    "y = y_true + sig * np.random.normal(size=nsample)"
   ]
  },
  {
   "cell_type": "markdown",
   "metadata": {},
   "source": [
    "## Estimation "
   ]
  },
  {
   "cell_type": "code",
   "execution_count": 4,
   "metadata": {
    "execution": {
     "iopub.execute_input": "2025-09-24T18:12:35.489633Z",
     "iopub.status.busy": "2025-09-24T18:12:35.489134Z",
     "iopub.status.idle": "2025-09-24T18:12:35.507700Z",
     "shell.execute_reply": "2025-09-24T18:12:35.507099Z"
    }
   },
   "outputs": [
    {
     "name": "stdout",
     "output_type": "stream",
     "text": [
      "                            OLS Regression Results                            \n",
      "==============================================================================\n",
      "Dep. Variable:                      y   R-squared:                       0.984\n",
      "Model:                            OLS   Adj. R-squared:                  0.983\n",
      "Method:                 Least Squares   F-statistic:                     951.5\n",
      "Date:                Wed, 24 Sep 2025   Prob (F-statistic):           2.20e-41\n",
      "Time:                        18:12:35   Log-Likelihood:                 2.6084\n",
      "No. Observations:                  50   AIC:                             2.783\n",
      "Df Residuals:                      46   BIC:                             10.43\n",
      "Df Model:                           3                                         \n",
      "Covariance Type:            nonrobust                                         \n",
      "==============================================================================\n",
      "                 coef    std err          t      P>|t|      [0.025      0.975]\n",
      "------------------------------------------------------------------------------\n",
      "const          5.0451      0.082     61.817      0.000       4.881       5.209\n",
      "x1             0.5010      0.013     39.801      0.000       0.476       0.526\n",
      "x2             0.5539      0.049     11.193      0.000       0.454       0.653\n",
      "x3            -0.0209      0.001    -18.920      0.000      -0.023      -0.019\n",
      "==============================================================================\n",
      "Omnibus:                        0.359   Durbin-Watson:                   2.267\n",
      "Prob(Omnibus):                  0.836   Jarque-Bera (JB):                0.319\n",
      "Skew:                           0.181   Prob(JB):                        0.853\n",
      "Kurtosis:                       2.850   Cond. No.                         221.\n",
      "==============================================================================\n",
      "\n",
      "Notes:\n",
      "[1] Standard Errors assume that the covariance matrix of the errors is correctly specified.\n"
     ]
    }
   ],
   "source": [
    "olsmod = sm.OLS(y, X)\n",
    "olsres = olsmod.fit()\n",
    "print(olsres.summary())"
   ]
  },
  {
   "cell_type": "markdown",
   "metadata": {},
   "source": [
    "## In-sample prediction"
   ]
  },
  {
   "cell_type": "code",
   "execution_count": 5,
   "metadata": {
    "execution": {
     "iopub.execute_input": "2025-09-24T18:12:35.511058Z",
     "iopub.status.busy": "2025-09-24T18:12:35.510749Z",
     "iopub.status.idle": "2025-09-24T18:12:35.517687Z",
     "shell.execute_reply": "2025-09-24T18:12:35.516952Z"
    }
   },
   "outputs": [
    {
     "name": "stdout",
     "output_type": "stream",
     "text": [
      "[ 4.5224076   5.02858634  5.49167909  5.88150104  6.1787609   6.37823045\n",
      "  6.48960349  6.53590318  6.5496994   6.56775764  6.62499847  6.74876028\n",
      "  6.95430756  7.24232306  7.59879559  7.99732202  8.40344523  8.78031536\n",
      "  9.09474406  9.32265733  9.45305073  9.48979745  9.45101189  9.36607358\n",
      "  9.27080015  9.20156263  9.18930976  9.25448326  9.40365923  9.6284678\n",
      "  9.9069682  10.20725362 10.49269339 10.72795129 10.8847912  10.94671621\n",
      " 10.91167902 10.7924183  10.61436576 10.4114678  10.22060821 10.07554828\n",
      " 10.00137988 10.01040297 10.10010475 10.25357248 10.44227223 10.63073688\n",
      " 10.78239333 10.86557128]\n"
     ]
    }
   ],
   "source": [
    "ypred = olsres.predict(X)\n",
    "print(ypred)"
   ]
  },
  {
   "cell_type": "markdown",
   "metadata": {},
   "source": [
    "## Create a new sample of explanatory variables Xnew, predict and plot"
   ]
  },
  {
   "cell_type": "code",
   "execution_count": 6,
   "metadata": {
    "execution": {
     "iopub.execute_input": "2025-09-24T18:12:35.520738Z",
     "iopub.status.busy": "2025-09-24T18:12:35.520454Z",
     "iopub.status.idle": "2025-09-24T18:12:35.528671Z",
     "shell.execute_reply": "2025-09-24T18:12:35.527973Z"
    }
   },
   "outputs": [
    {
     "name": "stdout",
     "output_type": "stream",
     "text": [
      "[10.84364793 10.67609579 10.38463512 10.01876362  9.64363769  9.32411983\n",
      "  9.10889811  9.01856556  9.04057831  9.13232678]\n"
     ]
    }
   ],
   "source": [
    "x1n = np.linspace(20.5, 25, 10)\n",
    "Xnew = np.column_stack((x1n, np.sin(x1n), (x1n - 5) ** 2))\n",
    "Xnew = sm.add_constant(Xnew)\n",
    "ynewpred = olsres.predict(Xnew)  # predict out of sample\n",
    "print(ynewpred)"
   ]
  },
  {
   "cell_type": "markdown",
   "metadata": {},
   "source": [
    "## Plot comparison"
   ]
  },
  {
   "cell_type": "code",
   "execution_count": 7,
   "metadata": {
    "execution": {
     "iopub.execute_input": "2025-09-24T18:12:35.532015Z",
     "iopub.status.busy": "2025-09-24T18:12:35.531693Z",
     "iopub.status.idle": "2025-09-24T18:12:35.841335Z",
     "shell.execute_reply": "2025-09-24T18:12:35.840731Z"
    }
   },
   "outputs": [
    {
     "data": {
      "text/plain": [
       "<matplotlib.legend.Legend at 0x7fc4254799c0>"
      ]
     },
     "execution_count": 7,
     "metadata": {},
     "output_type": "execute_result"
    },
    {
     "data": {
      "image/png": "[encoded data removed]",
      "text/plain": [
       "<Figure size 1600x800 with 1 Axes>"
      ]
     },
     "metadata": {},
     "output_type": "display_data"
    }
   ],
   "source": [
    "import matplotlib.pyplot as plt\n",
    "\n",
    "fig, ax = plt.subplots()\n",
    "ax.plot(x1, y, \"o\", label=\"Data\")\n",
    "ax.plot(x1, y_true, \"b-\", label=\"True\")\n",
    "ax.plot(np.hstack((x1, x1n)), np.hstack((ypred, ynewpred)), \"r\", label=\"OLS prediction\")\n",
    "ax.legend(loc=\"best\")"
   ]
  },
  {
   "cell_type": "markdown",
   "metadata": {},
   "source": [
    "## Predicting with Formulas"
   ]
  },
  {
   "cell_type": "markdown",
   "metadata": {},
   "source": [
    "Using formulas can make both estimation and prediction a lot easier"
   ]
  },
  {
   "cell_type": "code",
   "execution_count": 8,
   "metadata": {
    "execution": {
     "iopub.execute_input": "2025-09-24T18:12:35.846333Z",
     "iopub.status.busy": "2025-09-24T18:12:35.846084Z",
     "iopub.status.idle": "2025-09-24T18:12:35.860876Z",
     "shell.execute_reply": "2025-09-24T18:12:35.860253Z"
    }
   },
   "outputs": [],
   "source": [
    "from statsmodels.formula.api import ols\n",
    "\n",
    "data = {\"x1\": x1, \"y\": y}\n",
    "\n",
    "res = ols(\"y ~ x1 + np.sin(x1) + I((x1-5)**2)\", data=data).fit()"
   ]
  },
  {
   "cell_type": "markdown",
   "metadata": {},
   "source": [
    "We use the `I` to indicate use of the Identity transform. Ie., we do not want any expansion magic from using `**2`"
   ]
  },
  {
   "cell_type": "code",
   "execution_count": 9,
   "metadata": {
    "execution": {
     "iopub.execute_input": "2025-09-24T18:12:35.867078Z",
     "iopub.status.busy": "2025-09-24T18:12:35.863621Z",
     "iopub.status.idle": "2025-09-24T18:12:35.875757Z",
     "shell.execute_reply": "2025-09-24T18:12:35.875094Z"
    }
   },
   "outputs": [
    {
     "data": {
      "text/plain": [
       "Intercept           5.045143\n",
       "x1                  0.500970\n",
       "np.sin(x1)          0.553859\n",
       "I((x1 - 5) ** 2)   -0.020909\n",
       "dtype: float64"
      ]
     },
     "execution_count": 9,
     "metadata": {},
     "output_type": "execute_result"
    }
   ],
   "source": [
    "res.params"
   ]
  },
  {
   "cell_type": "markdown",
   "metadata": {},
   "source": [
    "Now we only have to pass the single variable and we get the transformed right-hand side variables automatically"
   ]
  },
  {
   "cell_type": "code",
   "execution_count": 10,
   "metadata": {
    "execution": {
     "iopub.execute_input": "2025-09-24T18:12:35.880417Z",
     "iopub.status.busy": "2025-09-24T18:12:35.879980Z",
     "iopub.status.idle": "2025-09-24T18:12:35.893704Z",
     "shell.execute_reply": "2025-09-24T18:12:35.893068Z"
    }
   },
   "outputs": [
    {
     "data": {
      "text/plain": [
       "0    10.843648\n",
       "1    10.676096\n",
       "2    10.384635\n",
       "3    10.018764\n",
       "4     9.643638\n",
       "5     9.324120\n",
       "6     9.108898\n",
       "7     9.018566\n",
       "8     9.040578\n",
       "9     9.132327\n",
       "dtype: float64"
      ]
     },
     "execution_count": 10,
     "metadata": {},
     "output_type": "execute_result"
    }
   ],
   "source": [
    "res.predict(exog=dict(x1=x1n))"
   ]
  }
 ],
 "metadata": {
  "kernelspec": {
   "display_name": "Python 3",
   "language": "python",
   "name": "python3"
  },
  "language_info": {
   "codemirror_mode": {
    "name": "ipython",
    "version": 3
   },
   "file_extension": ".py",
   "mimetype": "text/x-python",
   "name": "python",
   "nbconvert_exporter": "python",
   "pygments_lexer": "ipython3",
   "version": "3.10.18"
  }
 },
 "nbformat": 4,
 "nbformat_minor": 4
}
