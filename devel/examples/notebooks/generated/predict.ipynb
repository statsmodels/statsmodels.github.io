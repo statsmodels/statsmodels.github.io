{
 "cells": [
  {
   "cell_type": "markdown",
   "metadata": {},
   "source": [
    "# Prediction (out of sample)"
   ]
  },
  {
   "cell_type": "code",
   "execution_count": 1,
   "metadata": {
    "execution": {
     "iopub.execute_input": "2024-02-07T07:56:02.675354Z",
     "iopub.status.busy": "2024-02-07T07:56:02.675067Z",
     "iopub.status.idle": "2024-02-07T07:56:04.439641Z",
     "shell.execute_reply": "2024-02-07T07:56:04.438600Z"
    }
   },
   "outputs": [],
   "source": [
    "%matplotlib inline"
   ]
  },
  {
   "cell_type": "code",
   "execution_count": 2,
   "metadata": {
    "execution": {
     "iopub.execute_input": "2024-02-07T07:56:04.444617Z",
     "iopub.status.busy": "2024-02-07T07:56:04.442983Z",
     "iopub.status.idle": "2024-02-07T07:56:07.638048Z",
     "shell.execute_reply": "2024-02-07T07:56:07.637108Z"
    }
   },
   "outputs": [],
   "source": [
    "import numpy as np\n",
    "import matplotlib.pyplot as plt\n",
    "\n",
    "import statsmodels.api as sm\n",
    "\n",
    "plt.rc(\"figure\", figsize=(16, 8))\n",
    "plt.rc(\"font\", size=14)"
   ]
  },
  {
   "cell_type": "markdown",
   "metadata": {},
   "source": [
    "## Artificial data"
   ]
  },
  {
   "cell_type": "code",
   "execution_count": 3,
   "metadata": {
    "execution": {
     "iopub.execute_input": "2024-02-07T07:56:07.642428Z",
     "iopub.status.busy": "2024-02-07T07:56:07.641212Z",
     "iopub.status.idle": "2024-02-07T07:56:07.654074Z",
     "shell.execute_reply": "2024-02-07T07:56:07.653098Z"
    }
   },
   "outputs": [],
   "source": [
    "nsample = 50\n",
    "sig = 0.25\n",
    "x1 = np.linspace(0, 20, nsample)\n",
    "X = np.column_stack((x1, np.sin(x1), (x1 - 5) ** 2))\n",
    "X = sm.add_constant(X)\n",
    "beta = [5.0, 0.5, 0.5, -0.02]\n",
    "y_true = np.dot(X, beta)\n",
    "y = y_true + sig * np.random.normal(size=nsample)"
   ]
  },
  {
   "cell_type": "markdown",
   "metadata": {},
   "source": [
    "## Estimation "
   ]
  },
  {
   "cell_type": "code",
   "execution_count": 4,
   "metadata": {
    "execution": {
     "iopub.execute_input": "2024-02-07T07:56:07.658056Z",
     "iopub.status.busy": "2024-02-07T07:56:07.656789Z",
     "iopub.status.idle": "2024-02-07T07:56:07.705068Z",
     "shell.execute_reply": "2024-02-07T07:56:07.704438Z"
    }
   },
   "outputs": [
    {
     "name": "stdout",
     "output_type": "stream",
     "text": [
      "                            OLS Regression Results                            \n",
      "==============================================================================\n",
      "Dep. Variable:                      y   R-squared:                       0.985\n",
      "Model:                            OLS   Adj. R-squared:                  0.984\n",
      "Method:                 Least Squares   F-statistic:                     1027.\n",
      "Date:                Wed, 07 Feb 2024   Prob (F-statistic):           3.92e-42\n",
      "Time:                        07:56:07   Log-Likelihood:                 2.8154\n",
      "No. Observations:                  50   AIC:                             2.369\n",
      "Df Residuals:                      46   BIC:                             10.02\n",
      "Df Model:                           3                                         \n",
      "Covariance Type:            nonrobust                                         \n",
      "==============================================================================\n",
      "                 coef    std err          t      P>|t|      [0.025      0.975]\n",
      "------------------------------------------------------------------------------\n",
      "const          4.9583      0.081     61.005      0.000       4.795       5.122\n",
      "x1             0.5034      0.013     40.162      0.000       0.478       0.529\n",
      "x2             0.4175      0.049      8.473      0.000       0.318       0.517\n",
      "x3            -0.0198      0.001    -17.999      0.000      -0.022      -0.018\n",
      "==============================================================================\n",
      "Omnibus:                        1.462   Durbin-Watson:                   1.877\n",
      "Prob(Omnibus):                  0.481   Jarque-Bera (JB):                0.850\n",
      "Skew:                          -0.303   Prob(JB):                        0.654\n",
      "Kurtosis:                       3.205   Cond. No.                         221.\n",
      "==============================================================================\n",
      "\n",
      "Notes:\n",
      "[1] Standard Errors assume that the covariance matrix of the errors is correctly specified.\n"
     ]
    }
   ],
   "source": [
    "olsmod = sm.OLS(y, X)\n",
    "olsres = olsmod.fit()\n",
    "print(olsres.summary())"
   ]
  },
  {
   "cell_type": "markdown",
   "metadata": {},
   "source": [
    "## In-sample prediction"
   ]
  },
  {
   "cell_type": "code",
   "execution_count": 5,
   "metadata": {
    "execution": {
     "iopub.execute_input": "2024-02-07T07:56:07.714196Z",
     "iopub.status.busy": "2024-02-07T07:56:07.712896Z",
     "iopub.status.idle": "2024-02-07T07:56:07.721290Z",
     "shell.execute_reply": "2024-02-07T07:56:07.720665Z"
    }
   },
   "outputs": [
    {
     "name": "stdout",
     "output_type": "stream",
     "text": [
      "[ 4.46310475  4.91186471  5.32679631  5.68514501  5.97236827  6.18452482\n",
      "  6.32892226  6.42291638  6.49105965  6.56106739  6.65926414  6.80625866\n",
      "  7.01355795  7.2816767   7.6000527   7.94878222  8.30189008  8.63159737\n",
      "  8.91288538  9.12760615  9.26746411  9.335379    9.34500621  9.3184932\n",
      "  9.28284074  9.26546678  9.28970174  9.3709554   9.5141851   9.71308128\n",
      "  9.95110411 10.20420096 10.44475814 10.64613779 10.78705439 10.85507189\n",
      " 10.84864696 10.77738253 10.66045003 10.52343965 10.39415586 10.29804928\n",
      " 10.25403518 10.27138577 10.34820678 10.47174873 10.62050158 10.76772879\n",
      " 10.88586008 10.95102111]\n"
     ]
    }
   ],
   "source": [
    "ypred = olsres.predict(X)\n",
    "print(ypred)"
   ]
  },
  {
   "cell_type": "markdown",
   "metadata": {},
   "source": [
    "## Create a new sample of explanatory variables Xnew, predict and plot"
   ]
  },
  {
   "cell_type": "code",
   "execution_count": 6,
   "metadata": {
    "execution": {
     "iopub.execute_input": "2024-02-07T07:56:07.724803Z",
     "iopub.status.busy": "2024-02-07T07:56:07.724105Z",
     "iopub.status.idle": "2024-02-07T07:56:07.734036Z",
     "shell.execute_reply": "2024-02-07T07:56:07.733403Z"
    }
   },
   "outputs": [
    {
     "name": "stdout",
     "output_type": "stream",
     "text": [
      "[10.93566797 10.80851052 10.58592236 10.30521685 10.01551151  9.76570232\n",
      "  9.5924923   9.5114053   9.51298525  9.56511133]\n"
     ]
    }
   ],
   "source": [
    "x1n = np.linspace(20.5, 25, 10)\n",
    "Xnew = np.column_stack((x1n, np.sin(x1n), (x1n - 5) ** 2))\n",
    "Xnew = sm.add_constant(Xnew)\n",
    "ynewpred = olsres.predict(Xnew)  # predict out of sample\n",
    "print(ynewpred)"
   ]
  },
  {
   "cell_type": "markdown",
   "metadata": {},
   "source": [
    "## Plot comparison"
   ]
  },
  {
   "cell_type": "code",
   "execution_count": 7,
   "metadata": {
    "execution": {
     "iopub.execute_input": "2024-02-07T07:56:07.737746Z",
     "iopub.status.busy": "2024-02-07T07:56:07.736589Z",
     "iopub.status.idle": "2024-02-07T07:56:08.681723Z",
     "shell.execute_reply": "2024-02-07T07:56:08.680939Z"
    }
   },
   "outputs": [
    {
     "data": {
      "text/plain": [
       "<matplotlib.legend.Legend at 0x7f9a13b9d060>"
      ]
     },
     "execution_count": 7,
     "metadata": {},
     "output_type": "execute_result"
    },
    {
     "data": {
      "image/png": "[encoded data removed]",
      "text/plain": [
       "<Figure size 1600x800 with 1 Axes>"
      ]
     },
     "metadata": {},
     "output_type": "display_data"
    }
   ],
   "source": [
    "import matplotlib.pyplot as plt\n",
    "\n",
    "fig, ax = plt.subplots()\n",
    "ax.plot(x1, y, \"o\", label=\"Data\")\n",
    "ax.plot(x1, y_true, \"b-\", label=\"True\")\n",
    "ax.plot(np.hstack((x1, x1n)), np.hstack((ypred, ynewpred)), \"r\", label=\"OLS prediction\")\n",
    "ax.legend(loc=\"best\")"
   ]
  },
  {
   "cell_type": "markdown",
   "metadata": {},
   "source": [
    "## Predicting with Formulas"
   ]
  },
  {
   "cell_type": "markdown",
   "metadata": {},
   "source": [
    "Using formulas can make both estimation and prediction a lot easier"
   ]
  },
  {
   "cell_type": "code",
   "execution_count": 8,
   "metadata": {
    "execution": {
     "iopub.execute_input": "2024-02-07T07:56:08.685057Z",
     "iopub.status.busy": "2024-02-07T07:56:08.684800Z",
     "iopub.status.idle": "2024-02-07T07:56:08.692797Z",
     "shell.execute_reply": "2024-02-07T07:56:08.692101Z"
    }
   },
   "outputs": [],
   "source": [
    "from statsmodels.formula.api import ols\n",
    "\n",
    "data = {\"x1\": x1, \"y\": y}\n",
    "\n",
    "res = ols(\"y ~ x1 + np.sin(x1) + I((x1-5)**2)\", data=data).fit()"
   ]
  },
  {
   "cell_type": "markdown",
   "metadata": {},
   "source": [
    "We use the `I` to indicate use of the Identity transform. Ie., we do not want any expansion magic from using `**2`"
   ]
  },
  {
   "cell_type": "code",
   "execution_count": 9,
   "metadata": {
    "execution": {
     "iopub.execute_input": "2024-02-07T07:56:08.695681Z",
     "iopub.status.busy": "2024-02-07T07:56:08.695401Z",
     "iopub.status.idle": "2024-02-07T07:56:08.706066Z",
     "shell.execute_reply": "2024-02-07T07:56:08.705323Z"
    }
   },
   "outputs": [
    {
     "data": {
      "text/plain": [
       "Intercept           4.958337\n",
       "x1                  0.503430\n",
       "np.sin(x1)          0.417521\n",
       "I((x1 - 5) ** 2)   -0.019809\n",
       "dtype: float64"
      ]
     },
     "execution_count": 9,
     "metadata": {},
     "output_type": "execute_result"
    }
   ],
   "source": [
    "res.params"
   ]
  },
  {
   "cell_type": "markdown",
   "metadata": {},
   "source": [
    "Now we only have to pass the single variable and we get the transformed right-hand side variables automatically"
   ]
  },
  {
   "cell_type": "code",
   "execution_count": 10,
   "metadata": {
    "execution": {
     "iopub.execute_input": "2024-02-07T07:56:08.708951Z",
     "iopub.status.busy": "2024-02-07T07:56:08.708703Z",
     "iopub.status.idle": "2024-02-07T07:56:08.723529Z",
     "shell.execute_reply": "2024-02-07T07:56:08.722699Z"
    }
   },
   "outputs": [
    {
     "data": {
      "text/plain": [
       "0    10.935668\n",
       "1    10.808511\n",
       "2    10.585922\n",
       "3    10.305217\n",
       "4    10.015512\n",
       "5     9.765702\n",
       "6     9.592492\n",
       "7     9.511405\n",
       "8     9.512985\n",
       "9     9.565111\n",
       "dtype: float64"
      ]
     },
     "execution_count": 10,
     "metadata": {},
     "output_type": "execute_result"
    }
   ],
   "source": [
    "res.predict(exog=dict(x1=x1n))"
   ]
  }
 ],
 "metadata": {
  "kernelspec": {
   "display_name": "Python 3",
   "language": "python",
   "name": "python3"
  },
  "language_info": {
   "codemirror_mode": {
    "name": "ipython",
    "version": 3
   },
   "file_extension": ".py",
   "mimetype": "text/x-python",
   "name": "python",
   "nbconvert_exporter": "python",
   "pygments_lexer": "ipython3",
   "version": "3.10.13"
  }
 },
 "nbformat": 4,
 "nbformat_minor": 4
}
