{
 "cells": [
  {
   "cell_type": "markdown",
   "metadata": {},
   "source": [
    "# Prediction (out of sample)"
   ]
  },
  {
   "cell_type": "code",
   "execution_count": 1,
   "metadata": {
    "execution": {
     "iopub.execute_input": "2025-09-24T13:23:52.120364Z",
     "iopub.status.busy": "2025-09-24T13:23:52.120030Z",
     "iopub.status.idle": "2025-09-24T13:23:53.009197Z",
     "shell.execute_reply": "2025-09-24T13:23:53.008420Z"
    }
   },
   "outputs": [],
   "source": [
    "%matplotlib inline"
   ]
  },
  {
   "cell_type": "code",
   "execution_count": 2,
   "metadata": {
    "execution": {
     "iopub.execute_input": "2025-09-24T13:23:53.012228Z",
     "iopub.status.busy": "2025-09-24T13:23:53.011855Z",
     "iopub.status.idle": "2025-09-24T13:23:54.906572Z",
     "shell.execute_reply": "2025-09-24T13:23:54.905628Z"
    }
   },
   "outputs": [],
   "source": [
    "import numpy as np\n",
    "import matplotlib.pyplot as plt\n",
    "\n",
    "import statsmodels.api as sm\n",
    "\n",
    "plt.rc(\"figure\", figsize=(16, 8))\n",
    "plt.rc(\"font\", size=14)"
   ]
  },
  {
   "cell_type": "markdown",
   "metadata": {},
   "source": [
    "## Artificial data"
   ]
  },
  {
   "cell_type": "code",
   "execution_count": 3,
   "metadata": {
    "execution": {
     "iopub.execute_input": "2025-09-24T13:23:54.910983Z",
     "iopub.status.busy": "2025-09-24T13:23:54.910222Z",
     "iopub.status.idle": "2025-09-24T13:23:54.918244Z",
     "shell.execute_reply": "2025-09-24T13:23:54.917373Z"
    }
   },
   "outputs": [],
   "source": [
    "nsample = 50\n",
    "sig = 0.25\n",
    "x1 = np.linspace(0, 20, nsample)\n",
    "X = np.column_stack((x1, np.sin(x1), (x1 - 5) ** 2))\n",
    "X = sm.add_constant(X)\n",
    "beta = [5.0, 0.5, 0.5, -0.02]\n",
    "y_true = np.dot(X, beta)\n",
    "y = y_true + sig * np.random.normal(size=nsample)"
   ]
  },
  {
   "cell_type": "markdown",
   "metadata": {},
   "source": [
    "## Estimation "
   ]
  },
  {
   "cell_type": "code",
   "execution_count": 4,
   "metadata": {
    "execution": {
     "iopub.execute_input": "2025-09-24T13:23:54.922066Z",
     "iopub.status.busy": "2025-09-24T13:23:54.921498Z",
     "iopub.status.idle": "2025-09-24T13:23:54.941084Z",
     "shell.execute_reply": "2025-09-24T13:23:54.940277Z"
    }
   },
   "outputs": [
    {
     "name": "stdout",
     "output_type": "stream",
     "text": [
      "                            OLS Regression Results                            \n",
      "==============================================================================\n",
      "Dep. Variable:                      y   R-squared:                       0.988\n",
      "Model:                            OLS   Adj. R-squared:                  0.987\n",
      "Method:                 Least Squares   F-statistic:                     1225.\n",
      "Date:                Wed, 24 Sep 2025   Prob (F-statistic):           7.15e-44\n",
      "Time:                        13:23:54   Log-Likelihood:                 7.7392\n",
      "No. Observations:                  50   AIC:                            -7.478\n",
      "Df Residuals:                      46   BIC:                            0.1697\n",
      "Df Model:                           3                                         \n",
      "Covariance Type:            nonrobust                                         \n",
      "==============================================================================\n",
      "                 coef    std err          t      P>|t|      [0.025      0.975]\n",
      "------------------------------------------------------------------------------\n",
      "const          4.9670      0.074     67.436      0.000       4.819       5.115\n",
      "x1             0.4939      0.011     43.481      0.000       0.471       0.517\n",
      "x2             0.4753      0.045     10.643      0.000       0.385       0.565\n",
      "x3            -0.0191      0.001    -19.122      0.000      -0.021      -0.017\n",
      "==============================================================================\n",
      "Omnibus:                        1.824   Durbin-Watson:                   1.681\n",
      "Prob(Omnibus):                  0.402   Jarque-Bera (JB):                1.534\n",
      "Skew:                           0.425   Prob(JB):                        0.464\n",
      "Kurtosis:                       2.888   Cond. No.                         221.\n",
      "==============================================================================\n",
      "\n",
      "Notes:\n",
      "[1] Standard Errors assume that the covariance matrix of the errors is correctly specified.\n"
     ]
    }
   ],
   "source": [
    "olsmod = sm.OLS(y, X)\n",
    "olsres = olsmod.fit()\n",
    "print(olsres.summary())"
   ]
  },
  {
   "cell_type": "markdown",
   "metadata": {},
   "source": [
    "## In-sample prediction"
   ]
  },
  {
   "cell_type": "code",
   "execution_count": 5,
   "metadata": {
    "execution": {
     "iopub.execute_input": "2025-09-24T13:23:54.945420Z",
     "iopub.status.busy": "2025-09-24T13:23:54.944328Z",
     "iopub.status.idle": "2025-09-24T13:23:54.952104Z",
     "shell.execute_reply": "2025-09-24T13:23:54.951337Z"
    }
   },
   "outputs": [
    {
     "name": "stdout",
     "output_type": "stream",
     "text": [
      "[ 4.49019483  4.95510218  5.38266185  5.7469728   6.03148152  6.23170175\n",
      "  6.35595158  6.42398677  6.46375497  6.50680397  6.58309852  6.71609717\n",
      "  6.91889813  7.19208726  7.5236418   7.89090569  8.2643119   8.6122402\n",
      "  8.90621227  9.12557063  9.26087257  9.31544161  9.30482139  9.25422197\n",
      "  9.1943778   9.15649824  9.16713985  9.24384329  9.39225141  9.60518217\n",
      "  9.86380858 10.14075198 10.40458024 10.62497198 10.77769828 10.84860345\n",
      " 10.83593071 10.75061091 10.61446654 10.45662641 10.30873984 10.19977679\n",
      " 10.15126815 10.1737683  10.26512105 10.41081388 10.58636232 10.76133268\n",
      " 10.90434222 10.98821524]\n"
     ]
    }
   ],
   "source": [
    "ypred = olsres.predict(X)\n",
    "print(ypred)"
   ]
  },
  {
   "cell_type": "markdown",
   "metadata": {},
   "source": [
    "## Create a new sample of explanatory variables Xnew, predict and plot"
   ]
  },
  {
   "cell_type": "code",
   "execution_count": 6,
   "metadata": {
    "execution": {
     "iopub.execute_input": "2025-09-24T13:23:54.955196Z",
     "iopub.status.busy": "2025-09-24T13:23:54.954908Z",
     "iopub.status.idle": "2025-09-24T13:23:54.960823Z",
     "shell.execute_reply": "2025-09-24T13:23:54.960119Z"
    }
   },
   "outputs": [
    {
     "name": "stdout",
     "output_type": "stream",
     "text": [
      "[10.98420217 10.85466287 10.6182351  10.31739195 10.00804297  9.74584554\n",
      "  9.57257801  9.50591088  9.53508051  9.62352435]\n"
     ]
    }
   ],
   "source": [
    "x1n = np.linspace(20.5, 25, 10)\n",
    "Xnew = np.column_stack((x1n, np.sin(x1n), (x1n - 5) ** 2))\n",
    "Xnew = sm.add_constant(Xnew)\n",
    "ynewpred = olsres.predict(Xnew)  # predict out of sample\n",
    "print(ynewpred)"
   ]
  },
  {
   "cell_type": "markdown",
   "metadata": {},
   "source": [
    "## Plot comparison"
   ]
  },
  {
   "cell_type": "code",
   "execution_count": 7,
   "metadata": {
    "execution": {
     "iopub.execute_input": "2025-09-24T13:23:54.963633Z",
     "iopub.status.busy": "2025-09-24T13:23:54.963347Z",
     "iopub.status.idle": "2025-09-24T13:23:55.237365Z",
     "shell.execute_reply": "2025-09-24T13:23:55.236490Z"
    }
   },
   "outputs": [
    {
     "data": {
      "text/plain": [
       "<matplotlib.legend.Legend at 0x7f4691c8e860>"
      ]
     },
     "execution_count": 7,
     "metadata": {},
     "output_type": "execute_result"
    },
    {
     "data": {
      "image/png": "[encoded data removed]",
      "text/plain": [
       "<Figure size 1600x800 with 1 Axes>"
      ]
     },
     "metadata": {},
     "output_type": "display_data"
    }
   ],
   "source": [
    "import matplotlib.pyplot as plt\n",
    "\n",
    "fig, ax = plt.subplots()\n",
    "ax.plot(x1, y, \"o\", label=\"Data\")\n",
    "ax.plot(x1, y_true, \"b-\", label=\"True\")\n",
    "ax.plot(np.hstack((x1, x1n)), np.hstack((ypred, ynewpred)), \"r\", label=\"OLS prediction\")\n",
    "ax.legend(loc=\"best\")"
   ]
  },
  {
   "cell_type": "markdown",
   "metadata": {},
   "source": [
    "## Predicting with Formulas"
   ]
  },
  {
   "cell_type": "markdown",
   "metadata": {},
   "source": [
    "Using formulas can make both estimation and prediction a lot easier"
   ]
  },
  {
   "cell_type": "code",
   "execution_count": 8,
   "metadata": {
    "execution": {
     "iopub.execute_input": "2025-09-24T13:23:55.241126Z",
     "iopub.status.busy": "2025-09-24T13:23:55.240786Z",
     "iopub.status.idle": "2025-09-24T13:23:55.251531Z",
     "shell.execute_reply": "2025-09-24T13:23:55.250597Z"
    }
   },
   "outputs": [],
   "source": [
    "from statsmodels.formula.api import ols\n",
    "\n",
    "data = {\"x1\": x1, \"y\": y}\n",
    "\n",
    "res = ols(\"y ~ x1 + np.sin(x1) + I((x1-5)**2)\", data=data).fit()"
   ]
  },
  {
   "cell_type": "markdown",
   "metadata": {},
   "source": [
    "We use the `I` to indicate use of the Identity transform. Ie., we do not want any expansion magic from using `**2`"
   ]
  },
  {
   "cell_type": "code",
   "execution_count": 9,
   "metadata": {
    "execution": {
     "iopub.execute_input": "2025-09-24T13:23:55.254808Z",
     "iopub.status.busy": "2025-09-24T13:23:55.254204Z",
     "iopub.status.idle": "2025-09-24T13:23:55.263362Z",
     "shell.execute_reply": "2025-09-24T13:23:55.261572Z"
    }
   },
   "outputs": [
    {
     "data": {
      "text/plain": [
       "Intercept           4.966983\n",
       "x1                  0.493922\n",
       "np.sin(x1)          0.475256\n",
       "I((x1 - 5) ** 2)   -0.019072\n",
       "dtype: float64"
      ]
     },
     "execution_count": 9,
     "metadata": {},
     "output_type": "execute_result"
    }
   ],
   "source": [
    "res.params"
   ]
  },
  {
   "cell_type": "markdown",
   "metadata": {},
   "source": [
    "Now we only have to pass the single variable and we get the transformed right-hand side variables automatically"
   ]
  },
  {
   "cell_type": "code",
   "execution_count": 10,
   "metadata": {
    "execution": {
     "iopub.execute_input": "2025-09-24T13:23:55.267152Z",
     "iopub.status.busy": "2025-09-24T13:23:55.266617Z",
     "iopub.status.idle": "2025-09-24T13:23:55.278013Z",
     "shell.execute_reply": "2025-09-24T13:23:55.277096Z"
    }
   },
   "outputs": [
    {
     "data": {
      "text/plain": [
       "0    10.984202\n",
       "1    10.854663\n",
       "2    10.618235\n",
       "3    10.317392\n",
       "4    10.008043\n",
       "5     9.745846\n",
       "6     9.572578\n",
       "7     9.505911\n",
       "8     9.535081\n",
       "9     9.623524\n",
       "dtype: float64"
      ]
     },
     "execution_count": 10,
     "metadata": {},
     "output_type": "execute_result"
    }
   ],
   "source": [
    "res.predict(exog=dict(x1=x1n))"
   ]
  }
 ],
 "metadata": {
  "kernelspec": {
   "display_name": "Python 3",
   "language": "python",
   "name": "python3"
  },
  "language_info": {
   "codemirror_mode": {
    "name": "ipython",
    "version": 3
   },
   "file_extension": ".py",
   "mimetype": "text/x-python",
   "name": "python",
   "nbconvert_exporter": "python",
   "pygments_lexer": "ipython3",
   "version": "3.10.18"
  }
 },
 "nbformat": 4,
 "nbformat_minor": 4
}
