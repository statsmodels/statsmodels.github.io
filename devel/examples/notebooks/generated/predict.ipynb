{
 "cells": [
  {
   "cell_type": "markdown",
   "metadata": {},
   "source": [
    "# Prediction (out of sample)"
   ]
  },
  {
   "cell_type": "code",
   "execution_count": 1,
   "metadata": {
    "execution": {
     "iopub.execute_input": "2024-10-12T16:42:19.690819Z",
     "iopub.status.busy": "2024-10-12T16:42:19.690546Z",
     "iopub.status.idle": "2024-10-12T16:42:20.391471Z",
     "shell.execute_reply": "2024-10-12T16:42:20.389311Z"
    }
   },
   "outputs": [],
   "source": [
    "%matplotlib inline"
   ]
  },
  {
   "cell_type": "code",
   "execution_count": 2,
   "metadata": {
    "execution": {
     "iopub.execute_input": "2024-10-12T16:42:20.396261Z",
     "iopub.status.busy": "2024-10-12T16:42:20.395118Z",
     "iopub.status.idle": "2024-10-12T16:42:21.499442Z",
     "shell.execute_reply": "2024-10-12T16:42:21.498477Z"
    }
   },
   "outputs": [],
   "source": [
    "import numpy as np\n",
    "import matplotlib.pyplot as plt\n",
    "\n",
    "import statsmodels.api as sm\n",
    "\n",
    "plt.rc(\"figure\", figsize=(16, 8))\n",
    "plt.rc(\"font\", size=14)"
   ]
  },
  {
   "cell_type": "markdown",
   "metadata": {},
   "source": [
    "## Artificial data"
   ]
  },
  {
   "cell_type": "code",
   "execution_count": 3,
   "metadata": {
    "execution": {
     "iopub.execute_input": "2024-10-12T16:42:21.504524Z",
     "iopub.status.busy": "2024-10-12T16:42:21.503311Z",
     "iopub.status.idle": "2024-10-12T16:42:21.511181Z",
     "shell.execute_reply": "2024-10-12T16:42:21.510315Z"
    }
   },
   "outputs": [],
   "source": [
    "nsample = 50\n",
    "sig = 0.25\n",
    "x1 = np.linspace(0, 20, nsample)\n",
    "X = np.column_stack((x1, np.sin(x1), (x1 - 5) ** 2))\n",
    "X = sm.add_constant(X)\n",
    "beta = [5.0, 0.5, 0.5, -0.02]\n",
    "y_true = np.dot(X, beta)\n",
    "y = y_true + sig * np.random.normal(size=nsample)"
   ]
  },
  {
   "cell_type": "markdown",
   "metadata": {},
   "source": [
    "## Estimation "
   ]
  },
  {
   "cell_type": "code",
   "execution_count": 4,
   "metadata": {
    "execution": {
     "iopub.execute_input": "2024-10-12T16:42:21.515250Z",
     "iopub.status.busy": "2024-10-12T16:42:21.514327Z",
     "iopub.status.idle": "2024-10-12T16:42:21.528956Z",
     "shell.execute_reply": "2024-10-12T16:42:21.528172Z"
    }
   },
   "outputs": [
    {
     "name": "stdout",
     "output_type": "stream",
     "text": [
      "                            OLS Regression Results                            \n",
      "==============================================================================\n",
      "Dep. Variable:                      y   R-squared:                       0.985\n",
      "Model:                            OLS   Adj. R-squared:                  0.984\n",
      "Method:                 Least Squares   F-statistic:                     1024.\n",
      "Date:                Sat, 12 Oct 2024   Prob (F-statistic):           4.22e-42\n",
      "Time:                        16:42:21   Log-Likelihood:                 2.7283\n",
      "No. Observations:                  50   AIC:                             2.543\n",
      "Df Residuals:                      46   BIC:                             10.19\n",
      "Df Model:                           3                                         \n",
      "Covariance Type:            nonrobust                                         \n",
      "==============================================================================\n",
      "                 coef    std err          t      P>|t|      [0.025      0.975]\n",
      "------------------------------------------------------------------------------\n",
      "const          4.9106      0.081     60.313      0.000       4.747       5.075\n",
      "x1             0.5096      0.013     40.585      0.000       0.484       0.535\n",
      "x2             0.4155      0.049      8.417      0.000       0.316       0.515\n",
      "x3            -0.0206      0.001    -18.643      0.000      -0.023      -0.018\n",
      "==============================================================================\n",
      "Omnibus:                        2.740   Durbin-Watson:                   2.189\n",
      "Prob(Omnibus):                  0.254   Jarque-Bera (JB):                1.887\n",
      "Skew:                          -0.451   Prob(JB):                        0.389\n",
      "Kurtosis:                       3.303   Cond. No.                         221.\n",
      "==============================================================================\n",
      "\n",
      "Notes:\n",
      "[1] Standard Errors assume that the covariance matrix of the errors is correctly specified.\n"
     ]
    }
   ],
   "source": [
    "olsmod = sm.OLS(y, X)\n",
    "olsres = olsmod.fit()\n",
    "print(olsres.summary())"
   ]
  },
  {
   "cell_type": "markdown",
   "metadata": {},
   "source": [
    "## In-sample prediction"
   ]
  },
  {
   "cell_type": "code",
   "execution_count": 5,
   "metadata": {
    "execution": {
     "iopub.execute_input": "2024-10-12T16:42:21.531859Z",
     "iopub.status.busy": "2024-10-12T16:42:21.531319Z",
     "iopub.status.idle": "2024-10-12T16:42:21.535682Z",
     "shell.execute_reply": "2024-10-12T16:42:21.535084Z"
    }
   },
   "outputs": [
    {
     "name": "stdout",
     "output_type": "stream",
     "text": [
      "[ 4.39680762  4.85020236  5.26965315  5.63251611  5.92431943  6.14114104\n",
      "  6.29025297  6.38892658  6.46159498  6.53583864  6.63785409  6.78814986\n",
      "  6.99817698  7.26844763  7.58845099  7.9383801   8.29238615  8.62282531\n",
      "  8.90480057  9.12025223  9.26092506  9.32972461  9.34023985  9.31451051\n",
      "  9.27940606  9.26221109  9.28614255  9.36653527  9.50832247  9.7052253\n",
      "  9.94078436 10.191064   10.42858484 10.62683858 10.76464321 10.82962318\n",
      " 10.82024266 10.74605787 10.62614701 10.48597579 10.35321347 10.25318687\n",
      " 10.20471928 10.21703779 10.28825738 10.40569053 10.54793185 10.68837484\n",
      " 10.79958329 10.85779899]\n"
     ]
    }
   ],
   "source": [
    "ypred = olsres.predict(X)\n",
    "print(ypred)"
   ]
  },
  {
   "cell_type": "markdown",
   "metadata": {},
   "source": [
    "## Create a new sample of explanatory variables Xnew, predict and plot"
   ]
  },
  {
   "cell_type": "code",
   "execution_count": 6,
   "metadata": {
    "execution": {
     "iopub.execute_input": "2024-10-12T16:42:21.538521Z",
     "iopub.status.busy": "2024-10-12T16:42:21.537882Z",
     "iopub.status.idle": "2024-10-12T16:42:21.542848Z",
     "shell.execute_reply": "2024-10-12T16:42:21.542241Z"
    }
   },
   "outputs": [
    {
     "name": "stdout",
     "output_type": "stream",
     "text": [
      "[10.83401897 10.69855806 10.46771023 10.17860735  9.88012805  9.62093051\n",
      "  9.43753922  9.34540256  9.33511042  9.37469823]\n"
     ]
    }
   ],
   "source": [
    "x1n = np.linspace(20.5, 25, 10)\n",
    "Xnew = np.column_stack((x1n, np.sin(x1n), (x1n - 5) ** 2))\n",
    "Xnew = sm.add_constant(Xnew)\n",
    "ynewpred = olsres.predict(Xnew)  # predict out of sample\n",
    "print(ynewpred)"
   ]
  },
  {
   "cell_type": "markdown",
   "metadata": {},
   "source": [
    "## Plot comparison"
   ]
  },
  {
   "cell_type": "code",
   "execution_count": 7,
   "metadata": {
    "execution": {
     "iopub.execute_input": "2024-10-12T16:42:21.545686Z",
     "iopub.status.busy": "2024-10-12T16:42:21.545056Z",
     "iopub.status.idle": "2024-10-12T16:42:21.871692Z",
     "shell.execute_reply": "2024-10-12T16:42:21.870970Z"
    }
   },
   "outputs": [
    {
     "data": {
      "text/plain": [
       "<matplotlib.legend.Legend at 0x7fefacf3f430>"
      ]
     },
     "execution_count": 7,
     "metadata": {},
     "output_type": "execute_result"
    },
    {
     "data": {
      "image/png": "[encoded data removed]",
      "text/plain": [
       "<Figure size 1600x800 with 1 Axes>"
      ]
     },
     "metadata": {},
     "output_type": "display_data"
    }
   ],
   "source": [
    "import matplotlib.pyplot as plt\n",
    "\n",
    "fig, ax = plt.subplots()\n",
    "ax.plot(x1, y, \"o\", label=\"Data\")\n",
    "ax.plot(x1, y_true, \"b-\", label=\"True\")\n",
    "ax.plot(np.hstack((x1, x1n)), np.hstack((ypred, ynewpred)), \"r\", label=\"OLS prediction\")\n",
    "ax.legend(loc=\"best\")"
   ]
  },
  {
   "cell_type": "markdown",
   "metadata": {},
   "source": [
    "## Predicting with Formulas"
   ]
  },
  {
   "cell_type": "markdown",
   "metadata": {},
   "source": [
    "Using formulas can make both estimation and prediction a lot easier"
   ]
  },
  {
   "cell_type": "code",
   "execution_count": 8,
   "metadata": {
    "execution": {
     "iopub.execute_input": "2024-10-12T16:42:21.874423Z",
     "iopub.status.busy": "2024-10-12T16:42:21.874157Z",
     "iopub.status.idle": "2024-10-12T16:42:21.882300Z",
     "shell.execute_reply": "2024-10-12T16:42:21.881671Z"
    }
   },
   "outputs": [],
   "source": [
    "from statsmodels.formula.api import ols\n",
    "\n",
    "data = {\"x1\": x1, \"y\": y}\n",
    "\n",
    "res = ols(\"y ~ x1 + np.sin(x1) + I((x1-5)**2)\", data=data).fit()"
   ]
  },
  {
   "cell_type": "markdown",
   "metadata": {},
   "source": [
    "We use the `I` to indicate use of the Identity transform. Ie., we do not want any expansion magic from using `**2`"
   ]
  },
  {
   "cell_type": "code",
   "execution_count": 9,
   "metadata": {
    "execution": {
     "iopub.execute_input": "2024-10-12T16:42:21.885122Z",
     "iopub.status.busy": "2024-10-12T16:42:21.884854Z",
     "iopub.status.idle": "2024-10-12T16:42:21.893620Z",
     "shell.execute_reply": "2024-10-12T16:42:21.892847Z"
    }
   },
   "outputs": [
    {
     "data": {
      "text/plain": [
       "Intercept           4.910649\n",
       "x1                  0.509620\n",
       "np.sin(x1)          0.415490\n",
       "I((x1 - 5) ** 2)   -0.020554\n",
       "dtype: float64"
      ]
     },
     "execution_count": 9,
     "metadata": {},
     "output_type": "execute_result"
    }
   ],
   "source": [
    "res.params"
   ]
  },
  {
   "cell_type": "markdown",
   "metadata": {},
   "source": [
    "Now we only have to pass the single variable and we get the transformed right-hand side variables automatically"
   ]
  },
  {
   "cell_type": "code",
   "execution_count": 10,
   "metadata": {
    "execution": {
     "iopub.execute_input": "2024-10-12T16:42:21.897223Z",
     "iopub.status.busy": "2024-10-12T16:42:21.896352Z",
     "iopub.status.idle": "2024-10-12T16:42:21.905986Z",
     "shell.execute_reply": "2024-10-12T16:42:21.905201Z"
    }
   },
   "outputs": [
    {
     "data": {
      "text/plain": [
       "0    10.834019\n",
       "1    10.698558\n",
       "2    10.467710\n",
       "3    10.178607\n",
       "4     9.880128\n",
       "5     9.620931\n",
       "6     9.437539\n",
       "7     9.345403\n",
       "8     9.335110\n",
       "9     9.374698\n",
       "dtype: float64"
      ]
     },
     "execution_count": 10,
     "metadata": {},
     "output_type": "execute_result"
    }
   ],
   "source": [
    "res.predict(exog=dict(x1=x1n))"
   ]
  }
 ],
 "metadata": {
  "kernelspec": {
   "display_name": "Python 3",
   "language": "python",
   "name": "python3"
  },
  "language_info": {
   "codemirror_mode": {
    "name": "ipython",
    "version": 3
   },
   "file_extension": ".py",
   "mimetype": "text/x-python",
   "name": "python",
   "nbconvert_exporter": "python",
   "pygments_lexer": "ipython3",
   "version": "3.10.15"
  }
 },
 "nbformat": 4,
 "nbformat_minor": 4
}
