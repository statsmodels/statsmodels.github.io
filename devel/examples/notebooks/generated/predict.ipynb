{
 "cells": [
  {
   "cell_type": "markdown",
   "metadata": {},
   "source": [
    "# Prediction (out of sample)"
   ]
  },
  {
   "cell_type": "code",
   "execution_count": 1,
   "metadata": {
    "execution": {
     "iopub.execute_input": "2024-04-18T11:33:33.177383Z",
     "iopub.status.busy": "2024-04-18T11:33:33.177158Z",
     "iopub.status.idle": "2024-04-18T11:33:34.372265Z",
     "shell.execute_reply": "2024-04-18T11:33:34.371573Z"
    }
   },
   "outputs": [],
   "source": [
    "%matplotlib inline"
   ]
  },
  {
   "cell_type": "code",
   "execution_count": 2,
   "metadata": {
    "execution": {
     "iopub.execute_input": "2024-04-18T11:33:34.377067Z",
     "iopub.status.busy": "2024-04-18T11:33:34.375869Z",
     "iopub.status.idle": "2024-04-18T11:33:36.726611Z",
     "shell.execute_reply": "2024-04-18T11:33:36.725779Z"
    }
   },
   "outputs": [],
   "source": [
    "import numpy as np\n",
    "import matplotlib.pyplot as plt\n",
    "\n",
    "import statsmodels.api as sm\n",
    "\n",
    "plt.rc(\"figure\", figsize=(16, 8))\n",
    "plt.rc(\"font\", size=14)"
   ]
  },
  {
   "cell_type": "markdown",
   "metadata": {},
   "source": [
    "## Artificial data"
   ]
  },
  {
   "cell_type": "code",
   "execution_count": 3,
   "metadata": {
    "execution": {
     "iopub.execute_input": "2024-04-18T11:33:36.730277Z",
     "iopub.status.busy": "2024-04-18T11:33:36.729812Z",
     "iopub.status.idle": "2024-04-18T11:33:36.750176Z",
     "shell.execute_reply": "2024-04-18T11:33:36.749440Z"
    }
   },
   "outputs": [],
   "source": [
    "nsample = 50\n",
    "sig = 0.25\n",
    "x1 = np.linspace(0, 20, nsample)\n",
    "X = np.column_stack((x1, np.sin(x1), (x1 - 5) ** 2))\n",
    "X = sm.add_constant(X)\n",
    "beta = [5.0, 0.5, 0.5, -0.02]\n",
    "y_true = np.dot(X, beta)\n",
    "y = y_true + sig * np.random.normal(size=nsample)"
   ]
  },
  {
   "cell_type": "markdown",
   "metadata": {},
   "source": [
    "## Estimation "
   ]
  },
  {
   "cell_type": "code",
   "execution_count": 4,
   "metadata": {
    "execution": {
     "iopub.execute_input": "2024-04-18T11:33:36.753188Z",
     "iopub.status.busy": "2024-04-18T11:33:36.752897Z",
     "iopub.status.idle": "2024-04-18T11:33:36.797740Z",
     "shell.execute_reply": "2024-04-18T11:33:36.796878Z"
    }
   },
   "outputs": [
    {
     "name": "stdout",
     "output_type": "stream",
     "text": [
      "                            OLS Regression Results                            \n",
      "==============================================================================\n",
      "Dep. Variable:                      y   R-squared:                       0.980\n",
      "Model:                            OLS   Adj. R-squared:                  0.979\n",
      "Method:                 Least Squares   F-statistic:                     746.7\n",
      "Date:                Thu, 18 Apr 2024   Prob (F-statistic):           5.26e-39\n",
      "Time:                        11:33:36   Log-Likelihood:                -4.6654\n",
      "No. Observations:                  50   AIC:                             17.33\n",
      "Df Residuals:                      46   BIC:                             24.98\n",
      "Df Model:                           3                                         \n",
      "Covariance Type:            nonrobust                                         \n",
      "==============================================================================\n",
      "                 coef    std err          t      P>|t|      [0.025      0.975]\n",
      "------------------------------------------------------------------------------\n",
      "const          5.0486      0.094     53.484      0.000       4.859       5.239\n",
      "x1             0.4890      0.015     33.592      0.000       0.460       0.518\n",
      "x2             0.5104      0.057      8.918      0.000       0.395       0.626\n",
      "x3            -0.0185      0.001    -14.455      0.000      -0.021      -0.016\n",
      "==============================================================================\n",
      "Omnibus:                        0.954   Durbin-Watson:                   2.296\n",
      "Prob(Omnibus):                  0.621   Jarque-Bera (JB):                0.345\n",
      "Skew:                           0.135   Prob(JB):                        0.841\n",
      "Kurtosis:                       3.306   Cond. No.                         221.\n",
      "==============================================================================\n",
      "\n",
      "Notes:\n",
      "[1] Standard Errors assume that the covariance matrix of the errors is correctly specified.\n"
     ]
    }
   ],
   "source": [
    "olsmod = sm.OLS(y, X)\n",
    "olsres = olsmod.fit()\n",
    "print(olsres.summary())"
   ]
  },
  {
   "cell_type": "markdown",
   "metadata": {},
   "source": [
    "## In-sample prediction"
   ]
  },
  {
   "cell_type": "code",
   "execution_count": 5,
   "metadata": {
    "execution": {
     "iopub.execute_input": "2024-04-18T11:33:36.801026Z",
     "iopub.status.busy": "2024-04-18T11:33:36.800411Z",
     "iopub.status.idle": "2024-04-18T11:33:36.805178Z",
     "shell.execute_reply": "2024-04-18T11:33:36.804523Z"
    }
   },
   "outputs": [
    {
     "name": "stdout",
     "output_type": "stream",
     "text": [
      "[ 4.58666403  5.06119349  5.49628219  5.86411419  6.14691219  6.33985826\n",
      "  6.45188544  6.50421005  6.5268459   6.55367312  6.61687176  6.74163468\n",
      "  6.94202842  7.21868216  7.5586843   7.93770381  8.32398776  8.68357824\n",
      "  8.98589152  9.2087429   9.34199158  9.38920677  9.36708128  9.30268893\n",
      "  9.22903641  9.17964034  9.18302065  9.25801478  9.41068275  9.63331155\n",
      "  9.90568231 10.19839226 10.47768549 10.71099895 10.87231247 10.94642382\n",
      " 10.93144637 10.83911906 10.69287773 10.5240047  10.36648911 10.25144269\n",
      " 10.2019881  10.22946002 10.33154285 10.49265114 10.6864903  10.88037667\n",
      " 11.04060737 11.13799759]\n"
     ]
    }
   ],
   "source": [
    "ypred = olsres.predict(X)\n",
    "print(ypred)"
   ]
  },
  {
   "cell_type": "markdown",
   "metadata": {},
   "source": [
    "## Create a new sample of explanatory variables Xnew, predict and plot"
   ]
  },
  {
   "cell_type": "code",
   "execution_count": 6,
   "metadata": {
    "execution": {
     "iopub.execute_input": "2024-04-18T11:33:36.808219Z",
     "iopub.status.busy": "2024-04-18T11:33:36.807753Z",
     "iopub.status.idle": "2024-04-18T11:33:36.821473Z",
     "shell.execute_reply": "2024-04-18T11:33:36.820870Z"
    }
   },
   "outputs": [
    {
     "name": "stdout",
     "output_type": "stream",
     "text": [
      "[11.14356089 11.01532022 10.77329124 10.4630871  10.14475074  9.87805429\n",
      "  9.7078648   9.65315916  9.70237794  9.81625555]\n"
     ]
    }
   ],
   "source": [
    "x1n = np.linspace(20.5, 25, 10)\n",
    "Xnew = np.column_stack((x1n, np.sin(x1n), (x1n - 5) ** 2))\n",
    "Xnew = sm.add_constant(Xnew)\n",
    "ynewpred = olsres.predict(Xnew)  # predict out of sample\n",
    "print(ynewpred)"
   ]
  },
  {
   "cell_type": "markdown",
   "metadata": {},
   "source": [
    "## Plot comparison"
   ]
  },
  {
   "cell_type": "code",
   "execution_count": 7,
   "metadata": {
    "execution": {
     "iopub.execute_input": "2024-04-18T11:33:36.824508Z",
     "iopub.status.busy": "2024-04-18T11:33:36.824050Z",
     "iopub.status.idle": "2024-04-18T11:33:37.595284Z",
     "shell.execute_reply": "2024-04-18T11:33:37.594483Z"
    }
   },
   "outputs": [
    {
     "data": {
      "text/plain": [
       "<matplotlib.legend.Legend at 0x7fafba9375e0>"
      ]
     },
     "execution_count": 7,
     "metadata": {},
     "output_type": "execute_result"
    },
    {
     "data": {
      "image/png": "[encoded data removed]",
      "text/plain": [
       "<Figure size 1600x800 with 1 Axes>"
      ]
     },
     "metadata": {},
     "output_type": "display_data"
    }
   ],
   "source": [
    "import matplotlib.pyplot as plt\n",
    "\n",
    "fig, ax = plt.subplots()\n",
    "ax.plot(x1, y, \"o\", label=\"Data\")\n",
    "ax.plot(x1, y_true, \"b-\", label=\"True\")\n",
    "ax.plot(np.hstack((x1, x1n)), np.hstack((ypred, ynewpred)), \"r\", label=\"OLS prediction\")\n",
    "ax.legend(loc=\"best\")"
   ]
  },
  {
   "cell_type": "markdown",
   "metadata": {},
   "source": [
    "## Predicting with Formulas"
   ]
  },
  {
   "cell_type": "markdown",
   "metadata": {},
   "source": [
    "Using formulas can make both estimation and prediction a lot easier"
   ]
  },
  {
   "cell_type": "code",
   "execution_count": 8,
   "metadata": {
    "execution": {
     "iopub.execute_input": "2024-04-18T11:33:37.598756Z",
     "iopub.status.busy": "2024-04-18T11:33:37.598308Z",
     "iopub.status.idle": "2024-04-18T11:33:37.614767Z",
     "shell.execute_reply": "2024-04-18T11:33:37.614185Z"
    }
   },
   "outputs": [],
   "source": [
    "from statsmodels.formula.api import ols\n",
    "\n",
    "data = {\"x1\": x1, \"y\": y}\n",
    "\n",
    "res = ols(\"y ~ x1 + np.sin(x1) + I((x1-5)**2)\", data=data).fit()"
   ]
  },
  {
   "cell_type": "markdown",
   "metadata": {},
   "source": [
    "We use the `I` to indicate use of the Identity transform. Ie., we do not want any expansion magic from using `**2`"
   ]
  },
  {
   "cell_type": "code",
   "execution_count": 9,
   "metadata": {
    "execution": {
     "iopub.execute_input": "2024-04-18T11:33:37.619237Z",
     "iopub.status.busy": "2024-04-18T11:33:37.618816Z",
     "iopub.status.idle": "2024-04-18T11:33:37.632657Z",
     "shell.execute_reply": "2024-04-18T11:33:37.632082Z"
    }
   },
   "outputs": [
    {
     "data": {
      "text/plain": [
       "Intercept           5.048579\n",
       "x1                  0.489035\n",
       "np.sin(x1)          0.510392\n",
       "I((x1 - 5) ** 2)   -0.018477\n",
       "dtype: float64"
      ]
     },
     "execution_count": 9,
     "metadata": {},
     "output_type": "execute_result"
    }
   ],
   "source": [
    "res.params"
   ]
  },
  {
   "cell_type": "markdown",
   "metadata": {},
   "source": [
    "Now we only have to pass the single variable and we get the transformed right-hand side variables automatically"
   ]
  },
  {
   "cell_type": "code",
   "execution_count": 10,
   "metadata": {
    "execution": {
     "iopub.execute_input": "2024-04-18T11:33:37.635883Z",
     "iopub.status.busy": "2024-04-18T11:33:37.635477Z",
     "iopub.status.idle": "2024-04-18T11:33:37.649898Z",
     "shell.execute_reply": "2024-04-18T11:33:37.649312Z"
    }
   },
   "outputs": [
    {
     "data": {
      "text/plain": [
       "0    11.143561\n",
       "1    11.015320\n",
       "2    10.773291\n",
       "3    10.463087\n",
       "4    10.144751\n",
       "5     9.878054\n",
       "6     9.707865\n",
       "7     9.653159\n",
       "8     9.702378\n",
       "9     9.816256\n",
       "dtype: float64"
      ]
     },
     "execution_count": 10,
     "metadata": {},
     "output_type": "execute_result"
    }
   ],
   "source": [
    "res.predict(exog=dict(x1=x1n))"
   ]
  }
 ],
 "metadata": {
  "kernelspec": {
   "display_name": "Python 3",
   "language": "python",
   "name": "python3"
  },
  "language_info": {
   "codemirror_mode": {
    "name": "ipython",
    "version": 3
   },
   "file_extension": ".py",
   "mimetype": "text/x-python",
   "name": "python",
   "nbconvert_exporter": "python",
   "pygments_lexer": "ipython3",
   "version": "3.10.14"
  }
 },
 "nbformat": 4,
 "nbformat_minor": 4
}
