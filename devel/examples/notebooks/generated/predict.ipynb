{
 "cells": [
  {
   "cell_type": "markdown",
   "metadata": {},
   "source": [
    "# Prediction (out of sample)"
   ]
  },
  {
   "cell_type": "code",
   "execution_count": 1,
   "metadata": {
    "execution": {
     "iopub.execute_input": "2025-07-10T13:04:25.648285Z",
     "iopub.status.busy": "2025-07-10T13:04:25.647987Z",
     "iopub.status.idle": "2025-07-10T13:04:27.472750Z",
     "shell.execute_reply": "2025-07-10T13:04:27.464576Z"
    }
   },
   "outputs": [],
   "source": [
    "%matplotlib inline"
   ]
  },
  {
   "cell_type": "code",
   "execution_count": 2,
   "metadata": {
    "execution": {
     "iopub.execute_input": "2025-07-10T13:04:27.482974Z",
     "iopub.status.busy": "2025-07-10T13:04:27.478501Z",
     "iopub.status.idle": "2025-07-10T13:04:31.252751Z",
     "shell.execute_reply": "2025-07-10T13:04:31.244515Z"
    }
   },
   "outputs": [],
   "source": [
    "import numpy as np\n",
    "import matplotlib.pyplot as plt\n",
    "\n",
    "import statsmodels.api as sm\n",
    "\n",
    "plt.rc(\"figure\", figsize=(16, 8))\n",
    "plt.rc(\"font\", size=14)"
   ]
  },
  {
   "cell_type": "markdown",
   "metadata": {},
   "source": [
    "## Artificial data"
   ]
  },
  {
   "cell_type": "code",
   "execution_count": 3,
   "metadata": {
    "execution": {
     "iopub.execute_input": "2025-07-10T13:04:31.255724Z",
     "iopub.status.busy": "2025-07-10T13:04:31.255309Z",
     "iopub.status.idle": "2025-07-10T13:04:31.274747Z",
     "shell.execute_reply": "2025-07-10T13:04:31.273992Z"
    }
   },
   "outputs": [],
   "source": [
    "nsample = 50\n",
    "sig = 0.25\n",
    "x1 = np.linspace(0, 20, nsample)\n",
    "X = np.column_stack((x1, np.sin(x1), (x1 - 5) ** 2))\n",
    "X = sm.add_constant(X)\n",
    "beta = [5.0, 0.5, 0.5, -0.02]\n",
    "y_true = np.dot(X, beta)\n",
    "y = y_true + sig * np.random.normal(size=nsample)"
   ]
  },
  {
   "cell_type": "markdown",
   "metadata": {},
   "source": [
    "## Estimation "
   ]
  },
  {
   "cell_type": "code",
   "execution_count": 4,
   "metadata": {
    "execution": {
     "iopub.execute_input": "2025-07-10T13:04:31.277201Z",
     "iopub.status.busy": "2025-07-10T13:04:31.276964Z",
     "iopub.status.idle": "2025-07-10T13:04:31.334897Z",
     "shell.execute_reply": "2025-07-10T13:04:31.328299Z"
    }
   },
   "outputs": [
    {
     "name": "stdout",
     "output_type": "stream",
     "text": [
      "                            OLS Regression Results                            \n",
      "==============================================================================\n",
      "Dep. Variable:                      y   R-squared:                       0.980\n",
      "Model:                            OLS   Adj. R-squared:                  0.978\n",
      "Method:                 Least Squares   F-statistic:                     741.0\n",
      "Date:                Thu, 10 Jul 2025   Prob (F-statistic):           6.24e-39\n",
      "Time:                        13:04:31   Log-Likelihood:                -5.6733\n",
      "No. Observations:                  50   AIC:                             19.35\n",
      "Df Residuals:                      46   BIC:                             26.99\n",
      "Df Model:                           3                                         \n",
      "Covariance Type:            nonrobust                                         \n",
      "==============================================================================\n",
      "                 coef    std err          t      P>|t|      [0.025      0.975]\n",
      "------------------------------------------------------------------------------\n",
      "const          4.9840      0.096     51.746      0.000       4.790       5.178\n",
      "x1             0.5029      0.015     33.853      0.000       0.473       0.533\n",
      "x2             0.5559      0.058      9.520      0.000       0.438       0.673\n",
      "x3            -0.0195      0.001    -14.937      0.000      -0.022      -0.017\n",
      "==============================================================================\n",
      "Omnibus:                        0.654   Durbin-Watson:                   2.024\n",
      "Prob(Omnibus):                  0.721   Jarque-Bera (JB):                0.768\n",
      "Skew:                           0.225   Prob(JB):                        0.681\n",
      "Kurtosis:                       2.593   Cond. No.                         221.\n",
      "==============================================================================\n",
      "\n",
      "Notes:\n",
      "[1] Standard Errors assume that the covariance matrix of the errors is correctly specified.\n"
     ]
    }
   ],
   "source": [
    "olsmod = sm.OLS(y, X)\n",
    "olsres = olsmod.fit()\n",
    "print(olsres.summary())"
   ]
  },
  {
   "cell_type": "markdown",
   "metadata": {},
   "source": [
    "## In-sample prediction"
   ]
  },
  {
   "cell_type": "code",
   "execution_count": 5,
   "metadata": {
    "execution": {
     "iopub.execute_input": "2025-07-10T13:04:31.342870Z",
     "iopub.status.busy": "2025-07-10T13:04:31.339851Z",
     "iopub.status.idle": "2025-07-10T13:04:31.367737Z",
     "shell.execute_reply": "2025-07-10T13:04:31.356095Z"
    }
   },
   "outputs": [
    {
     "name": "stdout",
     "output_type": "stream",
     "text": [
      "[ 4.49699925  4.99917227  5.4586015   5.84499024  6.13897575  6.33531041\n",
      "  6.44372395  6.48732485  6.49880368  6.51506216  6.5711503   6.69450774\n",
      "  6.90045558  7.18967909  7.54811515  7.9492628   8.35853723  8.73895202\n",
      "  9.05719584  9.28910547  9.42363571  9.46467409  9.43040215  9.35030828\n",
      "  9.26034283  9.19701161  9.19137807  9.26395965  9.42135684  9.65516873\n",
      "  9.94337327 10.25394541 10.55011873 10.79642607 10.96452668 11.03786251\n",
      " 11.01437868 10.90686106 10.7408356  10.5503745  10.37249824 10.24109319\n",
      " 10.18134422 10.20559687 10.31132902 10.48156526 10.68766592 10.89403247\n",
      " 11.06395626 11.16564965]\n"
     ]
    }
   ],
   "source": [
    "ypred = olsres.predict(X)\n",
    "print(ypred)"
   ]
  },
  {
   "cell_type": "markdown",
   "metadata": {},
   "source": [
    "## Create a new sample of explanatory variables Xnew, predict and plot"
   ]
  },
  {
   "cell_type": "code",
   "execution_count": 6,
   "metadata": {
    "execution": {
     "iopub.execute_input": "2025-07-10T13:04:31.373266Z",
     "iopub.status.busy": "2025-07-10T13:04:31.372778Z",
     "iopub.status.idle": "2025-07-10T13:04:31.390051Z",
     "shell.execute_reply": "2025-07-10T13:04:31.389405Z"
    }
   },
   "outputs": [
    {
     "name": "stdout",
     "output_type": "stream",
     "text": [
      "[11.1666328  11.02220059 10.75415378 10.41217348 10.06165753  9.76770882\n",
      "  9.5791958   9.51678784  9.56789457  9.68974853]\n"
     ]
    }
   ],
   "source": [
    "x1n = np.linspace(20.5, 25, 10)\n",
    "Xnew = np.column_stack((x1n, np.sin(x1n), (x1n - 5) ** 2))\n",
    "Xnew = sm.add_constant(Xnew)\n",
    "ynewpred = olsres.predict(Xnew)  # predict out of sample\n",
    "print(ynewpred)"
   ]
  },
  {
   "cell_type": "markdown",
   "metadata": {},
   "source": [
    "## Plot comparison"
   ]
  },
  {
   "cell_type": "code",
   "execution_count": 7,
   "metadata": {
    "execution": {
     "iopub.execute_input": "2025-07-10T13:04:31.397623Z",
     "iopub.status.busy": "2025-07-10T13:04:31.395195Z",
     "iopub.status.idle": "2025-07-10T13:04:32.151740Z",
     "shell.execute_reply": "2025-07-10T13:04:32.146645Z"
    }
   },
   "outputs": [
    {
     "data": {
      "text/plain": [
       "<matplotlib.legend.Legend at 0x7f492d27a8f0>"
      ]
     },
     "execution_count": 7,
     "metadata": {},
     "output_type": "execute_result"
    },
    {
     "data": {
      "image/png": "[encoded data removed]",
      "text/plain": [
       "<Figure size 1600x800 with 1 Axes>"
      ]
     },
     "metadata": {},
     "output_type": "display_data"
    }
   ],
   "source": [
    "import matplotlib.pyplot as plt\n",
    "\n",
    "fig, ax = plt.subplots()\n",
    "ax.plot(x1, y, \"o\", label=\"Data\")\n",
    "ax.plot(x1, y_true, \"b-\", label=\"True\")\n",
    "ax.plot(np.hstack((x1, x1n)), np.hstack((ypred, ynewpred)), \"r\", label=\"OLS prediction\")\n",
    "ax.legend(loc=\"best\")"
   ]
  },
  {
   "cell_type": "markdown",
   "metadata": {},
   "source": [
    "## Predicting with Formulas"
   ]
  },
  {
   "cell_type": "markdown",
   "metadata": {},
   "source": [
    "Using formulas can make both estimation and prediction a lot easier"
   ]
  },
  {
   "cell_type": "code",
   "execution_count": 8,
   "metadata": {
    "execution": {
     "iopub.execute_input": "2025-07-10T13:04:32.158529Z",
     "iopub.status.busy": "2025-07-10T13:04:32.158210Z",
     "iopub.status.idle": "2025-07-10T13:04:32.184438Z",
     "shell.execute_reply": "2025-07-10T13:04:32.183617Z"
    }
   },
   "outputs": [],
   "source": [
    "from statsmodels.formula.api import ols\n",
    "\n",
    "data = {\"x1\": x1, \"y\": y}\n",
    "\n",
    "res = ols(\"y ~ x1 + np.sin(x1) + I((x1-5)**2)\", data=data).fit()"
   ]
  },
  {
   "cell_type": "markdown",
   "metadata": {},
   "source": [
    "We use the `I` to indicate use of the Identity transform. Ie., we do not want any expansion magic from using `**2`"
   ]
  },
  {
   "cell_type": "code",
   "execution_count": 9,
   "metadata": {
    "execution": {
     "iopub.execute_input": "2025-07-10T13:04:32.191870Z",
     "iopub.status.busy": "2025-07-10T13:04:32.189175Z",
     "iopub.status.idle": "2025-07-10T13:04:32.207099Z",
     "shell.execute_reply": "2025-07-10T13:04:32.206453Z"
    }
   },
   "outputs": [
    {
     "data": {
      "text/plain": [
       "Intercept           4.984018\n",
       "x1                  0.502864\n",
       "np.sin(x1)          0.555911\n",
       "I((x1 - 5) ** 2)   -0.019481\n",
       "dtype: float64"
      ]
     },
     "execution_count": 9,
     "metadata": {},
     "output_type": "execute_result"
    }
   ],
   "source": [
    "res.params"
   ]
  },
  {
   "cell_type": "markdown",
   "metadata": {},
   "source": [
    "Now we only have to pass the single variable and we get the transformed right-hand side variables automatically"
   ]
  },
  {
   "cell_type": "code",
   "execution_count": 10,
   "metadata": {
    "execution": {
     "iopub.execute_input": "2025-07-10T13:04:32.212367Z",
     "iopub.status.busy": "2025-07-10T13:04:32.211785Z",
     "iopub.status.idle": "2025-07-10T13:04:32.231519Z",
     "shell.execute_reply": "2025-07-10T13:04:32.230752Z"
    }
   },
   "outputs": [
    {
     "data": {
      "text/plain": [
       "0    11.166633\n",
       "1    11.022201\n",
       "2    10.754154\n",
       "3    10.412173\n",
       "4    10.061658\n",
       "5     9.767709\n",
       "6     9.579196\n",
       "7     9.516788\n",
       "8     9.567895\n",
       "9     9.689749\n",
       "dtype: float64"
      ]
     },
     "execution_count": 10,
     "metadata": {},
     "output_type": "execute_result"
    }
   ],
   "source": [
    "res.predict(exog=dict(x1=x1n))"
   ]
  }
 ],
 "metadata": {
  "kernelspec": {
   "display_name": "Python 3",
   "language": "python",
   "name": "python3"
  },
  "language_info": {
   "codemirror_mode": {
    "name": "ipython",
    "version": 3
   },
   "file_extension": ".py",
   "mimetype": "text/x-python",
   "name": "python",
   "nbconvert_exporter": "python",
   "pygments_lexer": "ipython3",
   "version": "3.10.18"
  }
 },
 "nbformat": 4,
 "nbformat_minor": 4
}
