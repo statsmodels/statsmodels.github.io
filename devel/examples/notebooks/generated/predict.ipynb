{
 "cells": [
  {
   "cell_type": "markdown",
   "metadata": {},
   "source": [
    "# Prediction (out of sample)"
   ]
  },
  {
   "cell_type": "code",
   "execution_count": 1,
   "metadata": {
    "execution": {
     "iopub.execute_input": "2024-08-15T20:14:42.398877Z",
     "iopub.status.busy": "2024-08-15T20:14:42.398650Z",
     "iopub.status.idle": "2024-08-15T20:14:44.118412Z",
     "shell.execute_reply": "2024-08-15T20:14:44.114192Z"
    }
   },
   "outputs": [],
   "source": [
    "%matplotlib inline"
   ]
  },
  {
   "cell_type": "code",
   "execution_count": 2,
   "metadata": {
    "execution": {
     "iopub.execute_input": "2024-08-15T20:14:44.121849Z",
     "iopub.status.busy": "2024-08-15T20:14:44.121431Z",
     "iopub.status.idle": "2024-08-15T20:14:47.318911Z",
     "shell.execute_reply": "2024-08-15T20:14:47.318200Z"
    }
   },
   "outputs": [],
   "source": [
    "import numpy as np\n",
    "import matplotlib.pyplot as plt\n",
    "\n",
    "import statsmodels.api as sm\n",
    "\n",
    "plt.rc(\"figure\", figsize=(16, 8))\n",
    "plt.rc(\"font\", size=14)"
   ]
  },
  {
   "cell_type": "markdown",
   "metadata": {},
   "source": [
    "## Artificial data"
   ]
  },
  {
   "cell_type": "code",
   "execution_count": 3,
   "metadata": {
    "execution": {
     "iopub.execute_input": "2024-08-15T20:14:47.322775Z",
     "iopub.status.busy": "2024-08-15T20:14:47.322192Z",
     "iopub.status.idle": "2024-08-15T20:14:47.334769Z",
     "shell.execute_reply": "2024-08-15T20:14:47.334178Z"
    }
   },
   "outputs": [],
   "source": [
    "nsample = 50\n",
    "sig = 0.25\n",
    "x1 = np.linspace(0, 20, nsample)\n",
    "X = np.column_stack((x1, np.sin(x1), (x1 - 5) ** 2))\n",
    "X = sm.add_constant(X)\n",
    "beta = [5.0, 0.5, 0.5, -0.02]\n",
    "y_true = np.dot(X, beta)\n",
    "y = y_true + sig * np.random.normal(size=nsample)"
   ]
  },
  {
   "cell_type": "markdown",
   "metadata": {},
   "source": [
    "## Estimation "
   ]
  },
  {
   "cell_type": "code",
   "execution_count": 4,
   "metadata": {
    "execution": {
     "iopub.execute_input": "2024-08-15T20:14:47.337773Z",
     "iopub.status.busy": "2024-08-15T20:14:47.337319Z",
     "iopub.status.idle": "2024-08-15T20:14:47.370877Z",
     "shell.execute_reply": "2024-08-15T20:14:47.370190Z"
    }
   },
   "outputs": [
    {
     "name": "stdout",
     "output_type": "stream",
     "text": [
      "                            OLS Regression Results                            \n",
      "==============================================================================\n",
      "Dep. Variable:                      y   R-squared:                       0.983\n",
      "Model:                            OLS   Adj. R-squared:                  0.982\n",
      "Method:                 Least Squares   F-statistic:                     897.7\n",
      "Date:                Thu, 15 Aug 2024   Prob (F-statistic):           8.23e-41\n",
      "Time:                        20:14:47   Log-Likelihood:                 1.1884\n",
      "No. Observations:                  50   AIC:                             5.623\n",
      "Df Residuals:                      46   BIC:                             13.27\n",
      "Df Model:                           3                                         \n",
      "Covariance Type:            nonrobust                                         \n",
      "==============================================================================\n",
      "                 coef    std err          t      P>|t|      [0.025      0.975]\n",
      "------------------------------------------------------------------------------\n",
      "const          5.1255      0.084     61.043      0.000       4.957       5.295\n",
      "x1             0.4897      0.013     37.818      0.000       0.464       0.516\n",
      "x2             0.5073      0.051      9.966      0.000       0.405       0.610\n",
      "x3            -0.0195      0.001    -17.194      0.000      -0.022      -0.017\n",
      "==============================================================================\n",
      "Omnibus:                        1.789   Durbin-Watson:                   2.326\n",
      "Prob(Omnibus):                  0.409   Jarque-Bera (JB):                1.384\n",
      "Skew:                          -0.207   Prob(JB):                        0.501\n",
      "Kurtosis:                       2.298   Cond. No.                         221.\n",
      "==============================================================================\n",
      "\n",
      "Notes:\n",
      "[1] Standard Errors assume that the covariance matrix of the errors is correctly specified.\n"
     ]
    }
   ],
   "source": [
    "olsmod = sm.OLS(y, X)\n",
    "olsres = olsmod.fit()\n",
    "print(olsres.summary())"
   ]
  },
  {
   "cell_type": "markdown",
   "metadata": {},
   "source": [
    "## In-sample prediction"
   ]
  },
  {
   "cell_type": "code",
   "execution_count": 5,
   "metadata": {
    "execution": {
     "iopub.execute_input": "2024-08-15T20:14:47.374098Z",
     "iopub.status.busy": "2024-08-15T20:14:47.373623Z",
     "iopub.status.idle": "2024-08-15T20:14:47.382772Z",
     "shell.execute_reply": "2024-08-15T20:14:47.382181Z"
    }
   },
   "outputs": [
    {
     "name": "stdout",
     "output_type": "stream",
     "text": [
      "[ 4.63679084  5.11458482  5.55278073  5.92373001  6.20976229  6.40608864\n",
      "  6.52158836  6.57735011  6.60320714  6.63283574  6.69822235  6.82440825\n",
      "  7.02537537  7.30174909  7.64069549  8.01802994  8.40219054  8.75942367\n",
      "  9.05932962  9.27985717  9.41092651  9.45608539  9.43192619  9.36535983\n",
      "  9.28919442  9.23674495  9.23635975  9.30676292  9.45397804  9.67033848\n",
      "  9.93574704 10.22097783 10.49247803 10.71788051 10.87132165 10.93769068\n",
      " 10.9151123  10.81525485 10.66141317 10.48468135 10.31884407 10.19482585\n",
      " 10.13561026 10.15246377 10.24308471 10.39198142 10.57301748 10.75370588\n",
      " 10.90054651 10.98453015]\n"
     ]
    }
   ],
   "source": [
    "ypred = olsres.predict(X)\n",
    "print(ypred)"
   ]
  },
  {
   "cell_type": "markdown",
   "metadata": {},
   "source": [
    "## Create a new sample of explanatory variables Xnew, predict and plot"
   ]
  },
  {
   "cell_type": "code",
   "execution_count": 6,
   "metadata": {
    "execution": {
     "iopub.execute_input": "2024-08-15T20:14:47.385820Z",
     "iopub.status.busy": "2024-08-15T20:14:47.385357Z",
     "iopub.status.idle": "2024-08-15T20:14:47.394840Z",
     "shell.execute_reply": "2024-08-15T20:14:47.394192Z"
    }
   },
   "outputs": [
    {
     "name": "stdout",
     "output_type": "stream",
     "text": [
      "[10.97381694 10.82951266 10.57151254 10.2451553   9.91012265  9.6258271\n",
      "  9.43686574  9.36210133  9.39004396  9.48166427]\n"
     ]
    }
   ],
   "source": [
    "x1n = np.linspace(20.5, 25, 10)\n",
    "Xnew = np.column_stack((x1n, np.sin(x1n), (x1n - 5) ** 2))\n",
    "Xnew = sm.add_constant(Xnew)\n",
    "ynewpred = olsres.predict(Xnew)  # predict out of sample\n",
    "print(ynewpred)"
   ]
  },
  {
   "cell_type": "markdown",
   "metadata": {},
   "source": [
    "## Plot comparison"
   ]
  },
  {
   "cell_type": "code",
   "execution_count": 7,
   "metadata": {
    "execution": {
     "iopub.execute_input": "2024-08-15T20:14:47.397766Z",
     "iopub.status.busy": "2024-08-15T20:14:47.397353Z",
     "iopub.status.idle": "2024-08-15T20:14:48.108910Z",
     "shell.execute_reply": "2024-08-15T20:14:48.108053Z"
    }
   },
   "outputs": [
    {
     "data": {
      "text/plain": [
       "<matplotlib.legend.Legend at 0x7f769a2a8730>"
      ]
     },
     "execution_count": 7,
     "metadata": {},
     "output_type": "execute_result"
    },
    {
     "data": {
      "image/png": "[encoded data removed]",
      "text/plain": [
       "<Figure size 1600x800 with 1 Axes>"
      ]
     },
     "metadata": {},
     "output_type": "display_data"
    }
   ],
   "source": [
    "import matplotlib.pyplot as plt\n",
    "\n",
    "fig, ax = plt.subplots()\n",
    "ax.plot(x1, y, \"o\", label=\"Data\")\n",
    "ax.plot(x1, y_true, \"b-\", label=\"True\")\n",
    "ax.plot(np.hstack((x1, x1n)), np.hstack((ypred, ynewpred)), \"r\", label=\"OLS prediction\")\n",
    "ax.legend(loc=\"best\")"
   ]
  },
  {
   "cell_type": "markdown",
   "metadata": {},
   "source": [
    "## Predicting with Formulas"
   ]
  },
  {
   "cell_type": "markdown",
   "metadata": {},
   "source": [
    "Using formulas can make both estimation and prediction a lot easier"
   ]
  },
  {
   "cell_type": "code",
   "execution_count": 8,
   "metadata": {
    "execution": {
     "iopub.execute_input": "2024-08-15T20:14:48.112452Z",
     "iopub.status.busy": "2024-08-15T20:14:48.111930Z",
     "iopub.status.idle": "2024-08-15T20:14:48.130854Z",
     "shell.execute_reply": "2024-08-15T20:14:48.130200Z"
    }
   },
   "outputs": [],
   "source": [
    "from statsmodels.formula.api import ols\n",
    "\n",
    "data = {\"x1\": x1, \"y\": y}\n",
    "\n",
    "res = ols(\"y ~ x1 + np.sin(x1) + I((x1-5)**2)\", data=data).fit()"
   ]
  },
  {
   "cell_type": "markdown",
   "metadata": {},
   "source": [
    "We use the `I` to indicate use of the Identity transform. Ie., we do not want any expansion magic from using `**2`"
   ]
  },
  {
   "cell_type": "code",
   "execution_count": 9,
   "metadata": {
    "execution": {
     "iopub.execute_input": "2024-08-15T20:14:48.134082Z",
     "iopub.status.busy": "2024-08-15T20:14:48.133656Z",
     "iopub.status.idle": "2024-08-15T20:14:48.146792Z",
     "shell.execute_reply": "2024-08-15T20:14:48.146184Z"
    }
   },
   "outputs": [
    {
     "data": {
      "text/plain": [
       "Intercept           5.125533\n",
       "x1                  0.489726\n",
       "np.sin(x1)          0.507322\n",
       "I((x1 - 5) ** 2)   -0.019550\n",
       "dtype: float64"
      ]
     },
     "execution_count": 9,
     "metadata": {},
     "output_type": "execute_result"
    }
   ],
   "source": [
    "res.params"
   ]
  },
  {
   "cell_type": "markdown",
   "metadata": {},
   "source": [
    "Now we only have to pass the single variable and we get the transformed right-hand side variables automatically"
   ]
  },
  {
   "cell_type": "code",
   "execution_count": 10,
   "metadata": {
    "execution": {
     "iopub.execute_input": "2024-08-15T20:14:48.155248Z",
     "iopub.status.busy": "2024-08-15T20:14:48.154836Z",
     "iopub.status.idle": "2024-08-15T20:14:48.175875Z",
     "shell.execute_reply": "2024-08-15T20:14:48.175277Z"
    }
   },
   "outputs": [
    {
     "data": {
      "text/plain": [
       "0    10.973817\n",
       "1    10.829513\n",
       "2    10.571513\n",
       "3    10.245155\n",
       "4     9.910123\n",
       "5     9.625827\n",
       "6     9.436866\n",
       "7     9.362101\n",
       "8     9.390044\n",
       "9     9.481664\n",
       "dtype: float64"
      ]
     },
     "execution_count": 10,
     "metadata": {},
     "output_type": "execute_result"
    }
   ],
   "source": [
    "res.predict(exog=dict(x1=x1n))"
   ]
  }
 ],
 "metadata": {
  "kernelspec": {
   "display_name": "Python 3",
   "language": "python",
   "name": "python3"
  },
  "language_info": {
   "codemirror_mode": {
    "name": "ipython",
    "version": 3
   },
   "file_extension": ".py",
   "mimetype": "text/x-python",
   "name": "python",
   "nbconvert_exporter": "python",
   "pygments_lexer": "ipython3",
   "version": "3.10.14"
  }
 },
 "nbformat": 4,
 "nbformat_minor": 4
}
