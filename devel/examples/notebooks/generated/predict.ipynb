{
 "cells": [
  {
   "cell_type": "markdown",
   "metadata": {},
   "source": [
    "# Prediction (out of sample)"
   ]
  },
  {
   "cell_type": "code",
   "execution_count": 1,
   "metadata": {
    "execution": {
     "iopub.execute_input": "2024-12-11T00:35:32.425873Z",
     "iopub.status.busy": "2024-12-11T00:35:32.425544Z",
     "iopub.status.idle": "2024-12-11T00:35:33.076789Z",
     "shell.execute_reply": "2024-12-11T00:35:33.075897Z"
    }
   },
   "outputs": [],
   "source": [
    "%matplotlib inline"
   ]
  },
  {
   "cell_type": "code",
   "execution_count": 2,
   "metadata": {
    "execution": {
     "iopub.execute_input": "2024-12-11T00:35:33.081774Z",
     "iopub.status.busy": "2024-12-11T00:35:33.080523Z",
     "iopub.status.idle": "2024-12-11T00:35:34.188327Z",
     "shell.execute_reply": "2024-12-11T00:35:34.187548Z"
    }
   },
   "outputs": [],
   "source": [
    "import numpy as np\n",
    "import matplotlib.pyplot as plt\n",
    "\n",
    "import statsmodels.api as sm\n",
    "\n",
    "plt.rc(\"figure\", figsize=(16, 8))\n",
    "plt.rc(\"font\", size=14)"
   ]
  },
  {
   "cell_type": "markdown",
   "metadata": {},
   "source": [
    "## Artificial data"
   ]
  },
  {
   "cell_type": "code",
   "execution_count": 3,
   "metadata": {
    "execution": {
     "iopub.execute_input": "2024-12-11T00:35:34.192713Z",
     "iopub.status.busy": "2024-12-11T00:35:34.191705Z",
     "iopub.status.idle": "2024-12-11T00:35:34.197843Z",
     "shell.execute_reply": "2024-12-11T00:35:34.197172Z"
    }
   },
   "outputs": [],
   "source": [
    "nsample = 50\n",
    "sig = 0.25\n",
    "x1 = np.linspace(0, 20, nsample)\n",
    "X = np.column_stack((x1, np.sin(x1), (x1 - 5) ** 2))\n",
    "X = sm.add_constant(X)\n",
    "beta = [5.0, 0.5, 0.5, -0.02]\n",
    "y_true = np.dot(X, beta)\n",
    "y = y_true + sig * np.random.normal(size=nsample)"
   ]
  },
  {
   "cell_type": "markdown",
   "metadata": {},
   "source": [
    "## Estimation "
   ]
  },
  {
   "cell_type": "code",
   "execution_count": 4,
   "metadata": {
    "execution": {
     "iopub.execute_input": "2024-12-11T00:35:34.201525Z",
     "iopub.status.busy": "2024-12-11T00:35:34.200560Z",
     "iopub.status.idle": "2024-12-11T00:35:34.217298Z",
     "shell.execute_reply": "2024-12-11T00:35:34.216577Z"
    }
   },
   "outputs": [
    {
     "name": "stdout",
     "output_type": "stream",
     "text": [
      "                            OLS Regression Results                            \n",
      "==============================================================================\n",
      "Dep. Variable:                      y   R-squared:                       0.989\n",
      "Model:                            OLS   Adj. R-squared:                  0.988\n",
      "Method:                 Least Squares   F-statistic:                     1339.\n",
      "Date:                Wed, 11 Dec 2024   Prob (F-statistic):           9.52e-45\n",
      "Time:                        00:35:34   Log-Likelihood:                 8.1173\n",
      "No. Observations:                  50   AIC:                            -8.235\n",
      "Df Residuals:                      46   BIC:                           -0.5865\n",
      "Df Model:                           3                                         \n",
      "Covariance Type:            nonrobust                                         \n",
      "==============================================================================\n",
      "                 coef    std err          t      P>|t|      [0.025      0.975]\n",
      "------------------------------------------------------------------------------\n",
      "const          4.7913      0.073     65.545      0.000       4.644       4.938\n",
      "x1             0.5359      0.011     47.531      0.000       0.513       0.559\n",
      "x2             0.5371      0.044     12.119      0.000       0.448       0.626\n",
      "x3            -0.0226      0.001    -22.871      0.000      -0.025      -0.021\n",
      "==============================================================================\n",
      "Omnibus:                        0.425   Durbin-Watson:                   1.519\n",
      "Prob(Omnibus):                  0.809   Jarque-Bera (JB):                0.568\n",
      "Skew:                           0.180   Prob(JB):                        0.753\n",
      "Kurtosis:                       2.621   Cond. No.                         221.\n",
      "==============================================================================\n",
      "\n",
      "Notes:\n",
      "[1] Standard Errors assume that the covariance matrix of the errors is correctly specified.\n"
     ]
    }
   ],
   "source": [
    "olsmod = sm.OLS(y, X)\n",
    "olsres = olsmod.fit()\n",
    "print(olsres.summary())"
   ]
  },
  {
   "cell_type": "markdown",
   "metadata": {},
   "source": [
    "## In-sample prediction"
   ]
  },
  {
   "cell_type": "code",
   "execution_count": 5,
   "metadata": {
    "execution": {
     "iopub.execute_input": "2024-12-11T00:35:34.221545Z",
     "iopub.status.busy": "2024-12-11T00:35:34.220561Z",
     "iopub.status.idle": "2024-12-11T00:35:34.227231Z",
     "shell.execute_reply": "2024-12-11T00:35:34.226540Z"
    }
   },
   "outputs": [
    {
     "name": "stdout",
     "output_type": "stream",
     "text": [
      "[ 4.22534303  4.74588002  5.22384775  5.6299749   5.94555402  6.1655151\n",
      "  6.29925858  6.36911086  6.40665613  6.44754722  6.52564789  6.66746914\n",
      "  6.88781354  7.18734315  7.55247082  7.95759247  8.36929379  8.75184012\n",
      "  9.07304751  9.30957052  9.45073777  9.50030521  9.47583904  9.40582966\n",
      "  9.32501072  9.26865254  9.26676724  9.33917788  9.49226157  9.71790172\n",
      "  9.99482157 10.29207995 10.57415474 10.80677914 10.96257156 11.02553433\n",
      " 10.99368211 10.87936806 10.70725423 10.51025969 10.32415198 10.18167065\n",
      " 10.1071482  10.11251236 10.19532636 10.3391893  10.5164308  10.69265711\n",
      " 10.83240195 10.9049535 ]\n"
     ]
    }
   ],
   "source": [
    "ypred = olsres.predict(X)\n",
    "print(ypred)"
   ]
  },
  {
   "cell_type": "markdown",
   "metadata": {},
   "source": [
    "## Create a new sample of explanatory variables Xnew, predict and plot"
   ]
  },
  {
   "cell_type": "code",
   "execution_count": 6,
   "metadata": {
    "execution": {
     "iopub.execute_input": "2024-12-11T00:35:34.231096Z",
     "iopub.status.busy": "2024-12-11T00:35:34.230155Z",
     "iopub.status.idle": "2024-12-11T00:35:34.239858Z",
     "shell.execute_reply": "2024-12-11T00:35:34.238949Z"
    }
   },
   "outputs": [
    {
     "name": "stdout",
     "output_type": "stream",
     "text": [
      "[10.87268711 10.69801788 10.40200873 10.03265938  9.65315435  9.3263932\n",
      "  9.09959048  8.99271603  8.99360559  9.06093909]\n"
     ]
    }
   ],
   "source": [
    "x1n = np.linspace(20.5, 25, 10)\n",
    "Xnew = np.column_stack((x1n, np.sin(x1n), (x1n - 5) ** 2))\n",
    "Xnew = sm.add_constant(Xnew)\n",
    "ynewpred = olsres.predict(Xnew)  # predict out of sample\n",
    "print(ynewpred)"
   ]
  },
  {
   "cell_type": "markdown",
   "metadata": {},
   "source": [
    "## Plot comparison"
   ]
  },
  {
   "cell_type": "code",
   "execution_count": 7,
   "metadata": {
    "execution": {
     "iopub.execute_input": "2024-12-11T00:35:34.243114Z",
     "iopub.status.busy": "2024-12-11T00:35:34.242525Z",
     "iopub.status.idle": "2024-12-11T00:35:34.513363Z",
     "shell.execute_reply": "2024-12-11T00:35:34.512576Z"
    }
   },
   "outputs": [
    {
     "data": {
      "text/plain": [
       "<matplotlib.legend.Legend at 0x7f2d78b15600>"
      ]
     },
     "execution_count": 7,
     "metadata": {},
     "output_type": "execute_result"
    },
    {
     "data": {
      "image/png": "[encoded data removed]",
      "text/plain": [
       "<Figure size 1600x800 with 1 Axes>"
      ]
     },
     "metadata": {},
     "output_type": "display_data"
    }
   ],
   "source": [
    "import matplotlib.pyplot as plt\n",
    "\n",
    "fig, ax = plt.subplots()\n",
    "ax.plot(x1, y, \"o\", label=\"Data\")\n",
    "ax.plot(x1, y_true, \"b-\", label=\"True\")\n",
    "ax.plot(np.hstack((x1, x1n)), np.hstack((ypred, ynewpred)), \"r\", label=\"OLS prediction\")\n",
    "ax.legend(loc=\"best\")"
   ]
  },
  {
   "cell_type": "markdown",
   "metadata": {},
   "source": [
    "## Predicting with Formulas"
   ]
  },
  {
   "cell_type": "markdown",
   "metadata": {},
   "source": [
    "Using formulas can make both estimation and prediction a lot easier"
   ]
  },
  {
   "cell_type": "code",
   "execution_count": 8,
   "metadata": {
    "execution": {
     "iopub.execute_input": "2024-12-11T00:35:34.516710Z",
     "iopub.status.busy": "2024-12-11T00:35:34.515973Z",
     "iopub.status.idle": "2024-12-11T00:35:34.526457Z",
     "shell.execute_reply": "2024-12-11T00:35:34.525687Z"
    }
   },
   "outputs": [],
   "source": [
    "from statsmodels.formula.api import ols\n",
    "\n",
    "data = {\"x1\": x1, \"y\": y}\n",
    "\n",
    "res = ols(\"y ~ x1 + np.sin(x1) + I((x1-5)**2)\", data=data).fit()"
   ]
  },
  {
   "cell_type": "markdown",
   "metadata": {},
   "source": [
    "We use the `I` to indicate use of the Identity transform. Ie., we do not want any expansion magic from using `**2`"
   ]
  },
  {
   "cell_type": "code",
   "execution_count": 9,
   "metadata": {
    "execution": {
     "iopub.execute_input": "2024-12-11T00:35:34.530429Z",
     "iopub.status.busy": "2024-12-11T00:35:34.529413Z",
     "iopub.status.idle": "2024-12-11T00:35:34.550196Z",
     "shell.execute_reply": "2024-12-11T00:35:34.549332Z"
    }
   },
   "outputs": [
    {
     "data": {
      "text/plain": [
       "Intercept           4.791324\n",
       "x1                  0.535856\n",
       "np.sin(x1)          0.537097\n",
       "I((x1 - 5) ** 2)   -0.022639\n",
       "dtype: float64"
      ]
     },
     "execution_count": 9,
     "metadata": {},
     "output_type": "execute_result"
    }
   ],
   "source": [
    "res.params"
   ]
  },
  {
   "cell_type": "markdown",
   "metadata": {},
   "source": [
    "Now we only have to pass the single variable and we get the transformed right-hand side variables automatically"
   ]
  },
  {
   "cell_type": "code",
   "execution_count": 10,
   "metadata": {
    "execution": {
     "iopub.execute_input": "2024-12-11T00:35:34.553828Z",
     "iopub.status.busy": "2024-12-11T00:35:34.553397Z",
     "iopub.status.idle": "2024-12-11T00:35:34.570408Z",
     "shell.execute_reply": "2024-12-11T00:35:34.569514Z"
    }
   },
   "outputs": [
    {
     "data": {
      "text/plain": [
       "0    10.872687\n",
       "1    10.698018\n",
       "2    10.402009\n",
       "3    10.032659\n",
       "4     9.653154\n",
       "5     9.326393\n",
       "6     9.099590\n",
       "7     8.992716\n",
       "8     8.993606\n",
       "9     9.060939\n",
       "dtype: float64"
      ]
     },
     "execution_count": 10,
     "metadata": {},
     "output_type": "execute_result"
    }
   ],
   "source": [
    "res.predict(exog=dict(x1=x1n))"
   ]
  }
 ],
 "metadata": {
  "kernelspec": {
   "display_name": "Python 3",
   "language": "python",
   "name": "python3"
  },
  "language_info": {
   "codemirror_mode": {
    "name": "ipython",
    "version": 3
   },
   "file_extension": ".py",
   "mimetype": "text/x-python",
   "name": "python",
   "nbconvert_exporter": "python",
   "pygments_lexer": "ipython3",
   "version": "3.10.15"
  }
 },
 "nbformat": 4,
 "nbformat_minor": 4
}
