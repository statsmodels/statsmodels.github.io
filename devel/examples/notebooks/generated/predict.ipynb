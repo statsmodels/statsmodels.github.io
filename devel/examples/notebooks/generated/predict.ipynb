{
 "cells": [
  {
   "cell_type": "markdown",
   "metadata": {},
   "source": [
    "# Prediction (out of sample)"
   ]
  },
  {
   "cell_type": "code",
   "execution_count": 1,
   "metadata": {
    "execution": {
     "iopub.execute_input": "2025-05-23T12:17:36.005833Z",
     "iopub.status.busy": "2025-05-23T12:17:36.005406Z",
     "iopub.status.idle": "2025-05-23T12:17:37.446581Z",
     "shell.execute_reply": "2025-05-23T12:17:37.442602Z"
    }
   },
   "outputs": [],
   "source": [
    "%matplotlib inline"
   ]
  },
  {
   "cell_type": "code",
   "execution_count": 2,
   "metadata": {
    "execution": {
     "iopub.execute_input": "2025-05-23T12:17:37.452722Z",
     "iopub.status.busy": "2025-05-23T12:17:37.450727Z",
     "iopub.status.idle": "2025-05-23T12:17:40.082728Z",
     "shell.execute_reply": "2025-05-23T12:17:40.078754Z"
    }
   },
   "outputs": [],
   "source": [
    "import numpy as np\n",
    "import matplotlib.pyplot as plt\n",
    "\n",
    "import statsmodels.api as sm\n",
    "\n",
    "plt.rc(\"figure\", figsize=(16, 8))\n",
    "plt.rc(\"font\", size=14)"
   ]
  },
  {
   "cell_type": "markdown",
   "metadata": {},
   "source": [
    "## Artificial data"
   ]
  },
  {
   "cell_type": "code",
   "execution_count": 3,
   "metadata": {
    "execution": {
     "iopub.execute_input": "2025-05-23T12:17:40.087793Z",
     "iopub.status.busy": "2025-05-23T12:17:40.087395Z",
     "iopub.status.idle": "2025-05-23T12:17:40.107032Z",
     "shell.execute_reply": "2025-05-23T12:17:40.102513Z"
    }
   },
   "outputs": [],
   "source": [
    "nsample = 50\n",
    "sig = 0.25\n",
    "x1 = np.linspace(0, 20, nsample)\n",
    "X = np.column_stack((x1, np.sin(x1), (x1 - 5) ** 2))\n",
    "X = sm.add_constant(X)\n",
    "beta = [5.0, 0.5, 0.5, -0.02]\n",
    "y_true = np.dot(X, beta)\n",
    "y = y_true + sig * np.random.normal(size=nsample)"
   ]
  },
  {
   "cell_type": "markdown",
   "metadata": {},
   "source": [
    "## Estimation "
   ]
  },
  {
   "cell_type": "code",
   "execution_count": 4,
   "metadata": {
    "execution": {
     "iopub.execute_input": "2025-05-23T12:17:40.110530Z",
     "iopub.status.busy": "2025-05-23T12:17:40.110226Z",
     "iopub.status.idle": "2025-05-23T12:17:40.143853Z",
     "shell.execute_reply": "2025-05-23T12:17:40.143117Z"
    }
   },
   "outputs": [
    {
     "name": "stdout",
     "output_type": "stream",
     "text": [
      "                            OLS Regression Results                            \n",
      "==============================================================================\n",
      "Dep. Variable:                      y   R-squared:                       0.982\n",
      "Model:                            OLS   Adj. R-squared:                  0.981\n",
      "Method:                 Least Squares   F-statistic:                     825.0\n",
      "Date:                Fri, 23 May 2025   Prob (F-statistic):           5.54e-40\n",
      "Time:                        12:17:40   Log-Likelihood:                -3.1361\n",
      "No. Observations:                  50   AIC:                             14.27\n",
      "Df Residuals:                      46   BIC:                             21.92\n",
      "Df Model:                           3                                         \n",
      "Covariance Type:            nonrobust                                         \n",
      "==============================================================================\n",
      "                 coef    std err          t      P>|t|      [0.025      0.975]\n",
      "------------------------------------------------------------------------------\n",
      "const          4.8136      0.092     52.578      0.000       4.629       4.998\n",
      "x1             0.5191      0.014     36.766      0.000       0.491       0.548\n",
      "x2             0.4964      0.056      8.943      0.000       0.385       0.608\n",
      "x3            -0.0213      0.001    -17.185      0.000      -0.024      -0.019\n",
      "==============================================================================\n",
      "Omnibus:                        1.239   Durbin-Watson:                   1.813\n",
      "Prob(Omnibus):                  0.538   Jarque-Bera (JB):                1.240\n",
      "Skew:                          -0.283   Prob(JB):                        0.538\n",
      "Kurtosis:                       2.476   Cond. No.                         221.\n",
      "==============================================================================\n",
      "\n",
      "Notes:\n",
      "[1] Standard Errors assume that the covariance matrix of the errors is correctly specified.\n"
     ]
    }
   ],
   "source": [
    "olsmod = sm.OLS(y, X)\n",
    "olsres = olsmod.fit()\n",
    "print(olsres.summary())"
   ]
  },
  {
   "cell_type": "markdown",
   "metadata": {},
   "source": [
    "## In-sample prediction"
   ]
  },
  {
   "cell_type": "code",
   "execution_count": 5,
   "metadata": {
    "execution": {
     "iopub.execute_input": "2025-05-23T12:17:40.148166Z",
     "iopub.status.busy": "2025-05-23T12:17:40.147924Z",
     "iopub.status.idle": "2025-05-23T12:17:40.162800Z",
     "shell.execute_reply": "2025-05-23T12:17:40.159287Z"
    }
   },
   "outputs": [
    {
     "name": "stdout",
     "output_type": "stream",
     "text": [
      "[ 4.28095705  4.77327935  5.22613118  5.61245928  5.91497379  6.12898888\n",
      "  6.26319266  6.3382197   6.3832609   6.43126742  6.51353697  6.65457164\n",
      "  6.86805231  7.15459089  7.5016298   7.88550515  8.27533463  8.63809141\n",
      "  8.94403033  9.17157499  9.31086262  9.36536458  9.35131597  9.29504828\n",
      "  9.22866318  9.18475834  9.19107168  9.26592415  9.4152096   9.63142651\n",
      "  9.8949104  10.17706467 10.44505896 10.66722306 10.81825026 10.88335514\n",
      " 10.8607028  10.76171032 10.60917095 10.43350928 10.26778253 10.14224936\n",
      " 10.07939846 10.09025369 10.17256296 10.31116816 10.48049566 10.64875795\n",
      " 10.78317624 10.85536594]\n"
     ]
    }
   ],
   "source": [
    "ypred = olsres.predict(X)\n",
    "print(ypred)"
   ]
  },
  {
   "cell_type": "markdown",
   "metadata": {},
   "source": [
    "## Create a new sample of explanatory variables Xnew, predict and plot"
   ]
  },
  {
   "cell_type": "code",
   "execution_count": 6,
   "metadata": {
    "execution": {
     "iopub.execute_input": "2025-05-23T12:17:40.167638Z",
     "iopub.status.busy": "2025-05-23T12:17:40.164966Z",
     "iopub.status.idle": "2025-05-23T12:17:40.179208Z",
     "shell.execute_reply": "2025-05-23T12:17:40.178512Z"
    }
   },
   "outputs": [
    {
     "name": "stdout",
     "output_type": "stream",
     "text": [
      "[10.83166295 10.67615735 10.40831601 10.0725014   9.72711016  9.43027555\n",
      "  9.2256344   9.13164329  9.13705973  9.20369473]\n"
     ]
    }
   ],
   "source": [
    "x1n = np.linspace(20.5, 25, 10)\n",
    "Xnew = np.column_stack((x1n, np.sin(x1n), (x1n - 5) ** 2))\n",
    "Xnew = sm.add_constant(Xnew)\n",
    "ynewpred = olsres.predict(Xnew)  # predict out of sample\n",
    "print(ynewpred)"
   ]
  },
  {
   "cell_type": "markdown",
   "metadata": {},
   "source": [
    "## Plot comparison"
   ]
  },
  {
   "cell_type": "code",
   "execution_count": 7,
   "metadata": {
    "execution": {
     "iopub.execute_input": "2025-05-23T12:17:40.183166Z",
     "iopub.status.busy": "2025-05-23T12:17:40.181628Z",
     "iopub.status.idle": "2025-05-23T12:17:40.696071Z",
     "shell.execute_reply": "2025-05-23T12:17:40.695425Z"
    }
   },
   "outputs": [
    {
     "data": {
      "text/plain": [
       "<matplotlib.legend.Legend at 0x7f26ced7da20>"
      ]
     },
     "execution_count": 7,
     "metadata": {},
     "output_type": "execute_result"
    },
    {
     "data": {
      "image/png": "[encoded data removed]",
      "text/plain": [
       "<Figure size 1600x800 with 1 Axes>"
      ]
     },
     "metadata": {},
     "output_type": "display_data"
    }
   ],
   "source": [
    "import matplotlib.pyplot as plt\n",
    "\n",
    "fig, ax = plt.subplots()\n",
    "ax.plot(x1, y, \"o\", label=\"Data\")\n",
    "ax.plot(x1, y_true, \"b-\", label=\"True\")\n",
    "ax.plot(np.hstack((x1, x1n)), np.hstack((ypred, ynewpred)), \"r\", label=\"OLS prediction\")\n",
    "ax.legend(loc=\"best\")"
   ]
  },
  {
   "cell_type": "markdown",
   "metadata": {},
   "source": [
    "## Predicting with Formulas"
   ]
  },
  {
   "cell_type": "markdown",
   "metadata": {},
   "source": [
    "Using formulas can make both estimation and prediction a lot easier"
   ]
  },
  {
   "cell_type": "code",
   "execution_count": 8,
   "metadata": {
    "execution": {
     "iopub.execute_input": "2025-05-23T12:17:40.712037Z",
     "iopub.status.busy": "2025-05-23T12:17:40.711788Z",
     "iopub.status.idle": "2025-05-23T12:17:40.727835Z",
     "shell.execute_reply": "2025-05-23T12:17:40.724519Z"
    }
   },
   "outputs": [],
   "source": [
    "from statsmodels.formula.api import ols\n",
    "\n",
    "data = {\"x1\": x1, \"y\": y}\n",
    "\n",
    "res = ols(\"y ~ x1 + np.sin(x1) + I((x1-5)**2)\", data=data).fit()"
   ]
  },
  {
   "cell_type": "markdown",
   "metadata": {},
   "source": [
    "We use the `I` to indicate use of the Identity transform. Ie., we do not want any expansion magic from using `**2`"
   ]
  },
  {
   "cell_type": "code",
   "execution_count": 9,
   "metadata": {
    "execution": {
     "iopub.execute_input": "2025-05-23T12:17:40.734435Z",
     "iopub.status.busy": "2025-05-23T12:17:40.734005Z",
     "iopub.status.idle": "2025-05-23T12:17:40.743982Z",
     "shell.execute_reply": "2025-05-23T12:17:40.743497Z"
    }
   },
   "outputs": [
    {
     "data": {
      "text/plain": [
       "Intercept           4.813576\n",
       "x1                  0.519109\n",
       "np.sin(x1)          0.496398\n",
       "I((x1 - 5) ** 2)   -0.021305\n",
       "dtype: float64"
      ]
     },
     "execution_count": 9,
     "metadata": {},
     "output_type": "execute_result"
    }
   ],
   "source": [
    "res.params"
   ]
  },
  {
   "cell_type": "markdown",
   "metadata": {},
   "source": [
    "Now we only have to pass the single variable and we get the transformed right-hand side variables automatically"
   ]
  },
  {
   "cell_type": "code",
   "execution_count": 10,
   "metadata": {
    "execution": {
     "iopub.execute_input": "2025-05-23T12:17:40.747949Z",
     "iopub.status.busy": "2025-05-23T12:17:40.747711Z",
     "iopub.status.idle": "2025-05-23T12:17:40.758263Z",
     "shell.execute_reply": "2025-05-23T12:17:40.757715Z"
    }
   },
   "outputs": [
    {
     "data": {
      "text/plain": [
       "0    10.831663\n",
       "1    10.676157\n",
       "2    10.408316\n",
       "3    10.072501\n",
       "4     9.727110\n",
       "5     9.430276\n",
       "6     9.225634\n",
       "7     9.131643\n",
       "8     9.137060\n",
       "9     9.203695\n",
       "dtype: float64"
      ]
     },
     "execution_count": 10,
     "metadata": {},
     "output_type": "execute_result"
    }
   ],
   "source": [
    "res.predict(exog=dict(x1=x1n))"
   ]
  }
 ],
 "metadata": {
  "kernelspec": {
   "display_name": "Python 3",
   "language": "python",
   "name": "python3"
  },
  "language_info": {
   "codemirror_mode": {
    "name": "ipython",
    "version": 3
   },
   "file_extension": ".py",
   "mimetype": "text/x-python",
   "name": "python",
   "nbconvert_exporter": "python",
   "pygments_lexer": "ipython3",
   "version": "3.10.17"
  }
 },
 "nbformat": 4,
 "nbformat_minor": 4
}
