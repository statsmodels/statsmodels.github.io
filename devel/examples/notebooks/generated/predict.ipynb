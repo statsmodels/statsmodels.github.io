{
 "cells": [
  {
   "cell_type": "markdown",
   "metadata": {},
   "source": [
    "# Prediction (out of sample)"
   ]
  },
  {
   "cell_type": "code",
   "execution_count": 1,
   "metadata": {
    "execution": {
     "iopub.execute_input": "2024-01-01T01:09:51.265693Z",
     "iopub.status.busy": "2024-01-01T01:09:51.265306Z",
     "iopub.status.idle": "2024-01-01T01:09:52.645115Z",
     "shell.execute_reply": "2024-01-01T01:09:52.644263Z"
    }
   },
   "outputs": [],
   "source": [
    "%matplotlib inline"
   ]
  },
  {
   "cell_type": "code",
   "execution_count": 2,
   "metadata": {
    "execution": {
     "iopub.execute_input": "2024-01-01T01:09:52.649536Z",
     "iopub.status.busy": "2024-01-01T01:09:52.648925Z",
     "iopub.status.idle": "2024-01-01T01:09:53.623715Z",
     "shell.execute_reply": "2024-01-01T01:09:53.622772Z"
    }
   },
   "outputs": [],
   "source": [
    "import numpy as np\n",
    "import matplotlib.pyplot as plt\n",
    "\n",
    "import statsmodels.api as sm\n",
    "\n",
    "plt.rc(\"figure\", figsize=(16, 8))\n",
    "plt.rc(\"font\", size=14)"
   ]
  },
  {
   "cell_type": "markdown",
   "metadata": {},
   "source": [
    "## Artificial data"
   ]
  },
  {
   "cell_type": "code",
   "execution_count": 3,
   "metadata": {
    "execution": {
     "iopub.execute_input": "2024-01-01T01:09:53.627726Z",
     "iopub.status.busy": "2024-01-01T01:09:53.627290Z",
     "iopub.status.idle": "2024-01-01T01:09:53.633348Z",
     "shell.execute_reply": "2024-01-01T01:09:53.632701Z"
    }
   },
   "outputs": [],
   "source": [
    "nsample = 50\n",
    "sig = 0.25\n",
    "x1 = np.linspace(0, 20, nsample)\n",
    "X = np.column_stack((x1, np.sin(x1), (x1 - 5) ** 2))\n",
    "X = sm.add_constant(X)\n",
    "beta = [5.0, 0.5, 0.5, -0.02]\n",
    "y_true = np.dot(X, beta)\n",
    "y = y_true + sig * np.random.normal(size=nsample)"
   ]
  },
  {
   "cell_type": "markdown",
   "metadata": {},
   "source": [
    "## Estimation "
   ]
  },
  {
   "cell_type": "code",
   "execution_count": 4,
   "metadata": {
    "execution": {
     "iopub.execute_input": "2024-01-01T01:09:53.636842Z",
     "iopub.status.busy": "2024-01-01T01:09:53.636360Z",
     "iopub.status.idle": "2024-01-01T01:09:53.665748Z",
     "shell.execute_reply": "2024-01-01T01:09:53.664923Z"
    }
   },
   "outputs": [
    {
     "name": "stdout",
     "output_type": "stream",
     "text": [
      "                            OLS Regression Results                            \n",
      "==============================================================================\n",
      "Dep. Variable:                      y   R-squared:                       0.982\n",
      "Model:                            OLS   Adj. R-squared:                  0.981\n",
      "Method:                 Least Squares   F-statistic:                     831.1\n",
      "Date:                Mon, 01 Jan 2024   Prob (F-statistic):           4.69e-40\n",
      "Time:                        01:09:53   Log-Likelihood:                -1.7955\n",
      "No. Observations:                  50   AIC:                             11.59\n",
      "Df Residuals:                      46   BIC:                             19.24\n",
      "Df Model:                           3                                         \n",
      "Covariance Type:            nonrobust                                         \n",
      "==============================================================================\n",
      "                 coef    std err          t      P>|t|      [0.025      0.975]\n",
      "------------------------------------------------------------------------------\n",
      "const          4.9226      0.089     55.230      0.000       4.743       5.102\n",
      "x1             0.5088      0.014     37.013      0.000       0.481       0.536\n",
      "x2             0.4697      0.054      8.692      0.000       0.361       0.578\n",
      "x3            -0.0210      0.001    -17.405      0.000      -0.023      -0.019\n",
      "==============================================================================\n",
      "Omnibus:                        0.841   Durbin-Watson:                   2.234\n",
      "Prob(Omnibus):                  0.657   Jarque-Bera (JB):                0.857\n",
      "Skew:                          -0.136   Prob(JB):                        0.652\n",
      "Kurtosis:                       2.419   Cond. No.                         221.\n",
      "==============================================================================\n",
      "\n",
      "Notes:\n",
      "[1] Standard Errors assume that the covariance matrix of the errors is correctly specified.\n"
     ]
    }
   ],
   "source": [
    "olsmod = sm.OLS(y, X)\n",
    "olsres = olsmod.fit()\n",
    "print(olsres.summary())"
   ]
  },
  {
   "cell_type": "markdown",
   "metadata": {},
   "source": [
    "## In-sample prediction"
   ]
  },
  {
   "cell_type": "code",
   "execution_count": 5,
   "metadata": {
    "execution": {
     "iopub.execute_input": "2024-01-01T01:09:53.737545Z",
     "iopub.status.busy": "2024-01-01T01:09:53.737202Z",
     "iopub.status.idle": "2024-01-01T01:09:53.742530Z",
     "shell.execute_reply": "2024-01-01T01:09:53.741746Z"
    }
   },
   "outputs": [
    {
     "name": "stdout",
     "output_type": "stream",
     "text": [
      "[ 4.39743683  4.87376462  5.31246395  5.68793766  5.98382649  6.19569682\n",
      "  6.33176914  6.41156739  6.46271131  6.51637851  6.60218214  6.74330551\n",
      "  6.95269314  7.23092401  7.56611642  7.93588017  8.31099514  8.66021212\n",
      "  8.95538696  9.17610455  9.313033    9.3694568   9.36073724  9.31178854\n",
      "  9.25298456  9.21516843  9.22458513  9.29856949  9.44269816  9.64987335\n",
      "  9.901489   10.17048769 10.42580611 10.63747866 10.78156071 10.84406265\n",
      " 10.82324835 10.72992036 10.58564515 10.41920972 10.26189205 10.14232215\n",
      " 10.08177829 10.09069102 10.16692943 10.29615129 10.45415943 10.61087725\n",
      " 10.73529024 10.80054157]\n"
     ]
    }
   ],
   "source": [
    "ypred = olsres.predict(X)\n",
    "print(ypred)"
   ]
  },
  {
   "cell_type": "markdown",
   "metadata": {},
   "source": [
    "## Create a new sample of explanatory variables Xnew, predict and plot"
   ]
  },
  {
   "cell_type": "code",
   "execution_count": 6,
   "metadata": {
    "execution": {
     "iopub.execute_input": "2024-01-01T01:09:53.746268Z",
     "iopub.status.busy": "2024-01-01T01:09:53.745703Z",
     "iopub.status.idle": "2024-01-01T01:09:53.751898Z",
     "shell.execute_reply": "2024-01-01T01:09:53.751078Z"
    }
   },
   "outputs": [
    {
     "name": "stdout",
     "output_type": "stream",
     "text": [
      "[10.7739897  10.6223055  10.36390802 10.04077202  9.708151    9.4210493\n",
      "  9.22075503  9.12473139  9.12234101  9.17745035]\n"
     ]
    }
   ],
   "source": [
    "x1n = np.linspace(20.5, 25, 10)\n",
    "Xnew = np.column_stack((x1n, np.sin(x1n), (x1n - 5) ** 2))\n",
    "Xnew = sm.add_constant(Xnew)\n",
    "ynewpred = olsres.predict(Xnew)  # predict out of sample\n",
    "print(ynewpred)"
   ]
  },
  {
   "cell_type": "markdown",
   "metadata": {},
   "source": [
    "## Plot comparison"
   ]
  },
  {
   "cell_type": "code",
   "execution_count": 7,
   "metadata": {
    "execution": {
     "iopub.execute_input": "2024-01-01T01:09:53.755616Z",
     "iopub.status.busy": "2024-01-01T01:09:53.755070Z",
     "iopub.status.idle": "2024-01-01T01:09:54.146568Z",
     "shell.execute_reply": "2024-01-01T01:09:54.145793Z"
    }
   },
   "outputs": [
    {
     "data": {
      "text/plain": [
       "<matplotlib.legend.Legend at 0x7f3913e8d840>"
      ]
     },
     "execution_count": 7,
     "metadata": {},
     "output_type": "execute_result"
    },
    {
     "data": {
      "image/png": "[encoded data removed]",
      "text/plain": [
       "<Figure size 1600x800 with 1 Axes>"
      ]
     },
     "metadata": {},
     "output_type": "display_data"
    }
   ],
   "source": [
    "import matplotlib.pyplot as plt\n",
    "\n",
    "fig, ax = plt.subplots()\n",
    "ax.plot(x1, y, \"o\", label=\"Data\")\n",
    "ax.plot(x1, y_true, \"b-\", label=\"True\")\n",
    "ax.plot(np.hstack((x1, x1n)), np.hstack((ypred, ynewpred)), \"r\", label=\"OLS prediction\")\n",
    "ax.legend(loc=\"best\")"
   ]
  },
  {
   "cell_type": "markdown",
   "metadata": {},
   "source": [
    "## Predicting with Formulas"
   ]
  },
  {
   "cell_type": "markdown",
   "metadata": {},
   "source": [
    "Using formulas can make both estimation and prediction a lot easier"
   ]
  },
  {
   "cell_type": "code",
   "execution_count": 8,
   "metadata": {
    "execution": {
     "iopub.execute_input": "2024-01-01T01:09:54.150373Z",
     "iopub.status.busy": "2024-01-01T01:09:54.150099Z",
     "iopub.status.idle": "2024-01-01T01:09:54.160353Z",
     "shell.execute_reply": "2024-01-01T01:09:54.159648Z"
    }
   },
   "outputs": [],
   "source": [
    "from statsmodels.formula.api import ols\n",
    "\n",
    "data = {\"x1\": x1, \"y\": y}\n",
    "\n",
    "res = ols(\"y ~ x1 + np.sin(x1) + I((x1-5)**2)\", data=data).fit()"
   ]
  },
  {
   "cell_type": "markdown",
   "metadata": {},
   "source": [
    "We use the `I` to indicate use of the Identity transform. Ie., we do not want any expansion magic from using `**2`"
   ]
  },
  {
   "cell_type": "code",
   "execution_count": 9,
   "metadata": {
    "execution": {
     "iopub.execute_input": "2024-01-01T01:09:54.165895Z",
     "iopub.status.busy": "2024-01-01T01:09:54.163949Z",
     "iopub.status.idle": "2024-01-01T01:09:54.173991Z",
     "shell.execute_reply": "2024-01-01T01:09:54.173162Z"
    }
   },
   "outputs": [
    {
     "data": {
      "text/plain": [
       "Intercept           4.922580\n",
       "x1                  0.508773\n",
       "np.sin(x1)          0.469680\n",
       "I((x1 - 5) ** 2)   -0.021006\n",
       "dtype: float64"
      ]
     },
     "execution_count": 9,
     "metadata": {},
     "output_type": "execute_result"
    }
   ],
   "source": [
    "res.params"
   ]
  },
  {
   "cell_type": "markdown",
   "metadata": {},
   "source": [
    "Now we only have to pass the single variable and we get the transformed right-hand side variables automatically"
   ]
  },
  {
   "cell_type": "code",
   "execution_count": 10,
   "metadata": {
    "execution": {
     "iopub.execute_input": "2024-01-01T01:09:54.177674Z",
     "iopub.status.busy": "2024-01-01T01:09:54.177155Z",
     "iopub.status.idle": "2024-01-01T01:09:54.187511Z",
     "shell.execute_reply": "2024-01-01T01:09:54.186736Z"
    }
   },
   "outputs": [
    {
     "data": {
      "text/plain": [
       "0    10.773990\n",
       "1    10.622305\n",
       "2    10.363908\n",
       "3    10.040772\n",
       "4     9.708151\n",
       "5     9.421049\n",
       "6     9.220755\n",
       "7     9.124731\n",
       "8     9.122341\n",
       "9     9.177450\n",
       "dtype: float64"
      ]
     },
     "execution_count": 10,
     "metadata": {},
     "output_type": "execute_result"
    }
   ],
   "source": [
    "res.predict(exog=dict(x1=x1n))"
   ]
  }
 ],
 "metadata": {
  "kernelspec": {
   "display_name": "Python 3",
   "language": "python",
   "name": "python3"
  },
  "language_info": {
   "codemirror_mode": {
    "name": "ipython",
    "version": 3
   },
   "file_extension": ".py",
   "mimetype": "text/x-python",
   "name": "python",
   "nbconvert_exporter": "python",
   "pygments_lexer": "ipython3",
   "version": "3.10.13"
  }
 },
 "nbformat": 4,
 "nbformat_minor": 4
}
