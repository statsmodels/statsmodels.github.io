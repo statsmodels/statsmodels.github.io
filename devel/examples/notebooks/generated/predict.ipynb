{
 "cells": [
  {
   "cell_type": "markdown",
   "metadata": {},
   "source": [
    "# Prediction (out of sample)"
   ]
  },
  {
   "cell_type": "code",
   "execution_count": 1,
   "metadata": {
    "execution": {
     "iopub.execute_input": "2025-01-02T09:03:36.146436Z",
     "iopub.status.busy": "2025-01-02T09:03:36.146159Z",
     "iopub.status.idle": "2025-01-02T09:03:38.005935Z",
     "shell.execute_reply": "2025-01-02T09:03:37.999543Z"
    }
   },
   "outputs": [],
   "source": [
    "%matplotlib inline"
   ]
  },
  {
   "cell_type": "code",
   "execution_count": 2,
   "metadata": {
    "execution": {
     "iopub.execute_input": "2025-01-02T09:03:38.008908Z",
     "iopub.status.busy": "2025-01-02T09:03:38.008531Z",
     "iopub.status.idle": "2025-01-02T09:03:41.583504Z",
     "shell.execute_reply": "2025-01-02T09:03:41.582623Z"
    }
   },
   "outputs": [],
   "source": [
    "import numpy as np\n",
    "import matplotlib.pyplot as plt\n",
    "\n",
    "import statsmodels.api as sm\n",
    "\n",
    "plt.rc(\"figure\", figsize=(16, 8))\n",
    "plt.rc(\"font\", size=14)"
   ]
  },
  {
   "cell_type": "markdown",
   "metadata": {},
   "source": [
    "## Artificial data"
   ]
  },
  {
   "cell_type": "code",
   "execution_count": 3,
   "metadata": {
    "execution": {
     "iopub.execute_input": "2025-01-02T09:03:41.587069Z",
     "iopub.status.busy": "2025-01-02T09:03:41.586692Z",
     "iopub.status.idle": "2025-01-02T09:03:41.604959Z",
     "shell.execute_reply": "2025-01-02T09:03:41.604281Z"
    }
   },
   "outputs": [],
   "source": [
    "nsample = 50\n",
    "sig = 0.25\n",
    "x1 = np.linspace(0, 20, nsample)\n",
    "X = np.column_stack((x1, np.sin(x1), (x1 - 5) ** 2))\n",
    "X = sm.add_constant(X)\n",
    "beta = [5.0, 0.5, 0.5, -0.02]\n",
    "y_true = np.dot(X, beta)\n",
    "y = y_true + sig * np.random.normal(size=nsample)"
   ]
  },
  {
   "cell_type": "markdown",
   "metadata": {},
   "source": [
    "## Estimation "
   ]
  },
  {
   "cell_type": "code",
   "execution_count": 4,
   "metadata": {
    "execution": {
     "iopub.execute_input": "2025-01-02T09:03:41.608608Z",
     "iopub.status.busy": "2025-01-02T09:03:41.607731Z",
     "iopub.status.idle": "2025-01-02T09:03:41.651243Z",
     "shell.execute_reply": "2025-01-02T09:03:41.650589Z"
    }
   },
   "outputs": [
    {
     "name": "stdout",
     "output_type": "stream",
     "text": [
      "                            OLS Regression Results                            \n",
      "==============================================================================\n",
      "Dep. Variable:                      y   R-squared:                       0.989\n",
      "Model:                            OLS   Adj. R-squared:                  0.988\n",
      "Method:                 Least Squares   F-statistic:                     1374.\n",
      "Date:                Thu, 02 Jan 2025   Prob (F-statistic):           5.32e-45\n",
      "Time:                        09:03:41   Log-Likelihood:                 10.534\n",
      "No. Observations:                  50   AIC:                            -13.07\n",
      "Df Residuals:                      46   BIC:                            -5.420\n",
      "Df Model:                           3                                         \n",
      "Covariance Type:            nonrobust                                         \n",
      "==============================================================================\n",
      "                 coef    std err          t      P>|t|      [0.025      0.975]\n",
      "------------------------------------------------------------------------------\n",
      "const          4.9632      0.070     71.259      0.000       4.823       5.103\n",
      "x1             0.4962      0.011     46.193      0.000       0.475       0.518\n",
      "x2             0.5623      0.042     13.315      0.000       0.477       0.647\n",
      "x3            -0.0193      0.001    -20.483      0.000      -0.021      -0.017\n",
      "==============================================================================\n",
      "Omnibus:                        2.623   Durbin-Watson:                   2.257\n",
      "Prob(Omnibus):                  0.269   Jarque-Bera (JB):                1.740\n",
      "Skew:                          -0.231   Prob(JB):                        0.419\n",
      "Kurtosis:                       3.788   Cond. No.                         221.\n",
      "==============================================================================\n",
      "\n",
      "Notes:\n",
      "[1] Standard Errors assume that the covariance matrix of the errors is correctly specified.\n"
     ]
    }
   ],
   "source": [
    "olsmod = sm.OLS(y, X)\n",
    "olsres = olsmod.fit()\n",
    "print(olsres.summary())"
   ]
  },
  {
   "cell_type": "markdown",
   "metadata": {},
   "source": [
    "## In-sample prediction"
   ]
  },
  {
   "cell_type": "code",
   "execution_count": 5,
   "metadata": {
    "execution": {
     "iopub.execute_input": "2025-01-02T09:03:41.654085Z",
     "iopub.status.busy": "2025-01-02T09:03:41.653851Z",
     "iopub.status.idle": "2025-01-02T09:03:41.663827Z",
     "shell.execute_reply": "2025-01-02T09:03:41.663184Z"
    }
   },
   "outputs": [
    {
     "name": "stdout",
     "output_type": "stream",
     "text": [
      "[ 4.48029259  4.98163016  5.43986421  5.82435218  6.11551027  6.30803095\n",
      "  6.41175503  6.45005481  6.45599407  6.4668958   6.51821015  6.63769005\n",
      "  6.84083149  7.12832756  7.4859546   7.8869091   8.29621142  8.67645288\n",
      "  8.99394188  9.22423932  9.35617392  9.39367758  9.35513941  9.27038444\n",
      "  9.17577346  9.10822904  9.09916926  9.16934579  9.32543448  9.55893851\n",
      "  9.84758441 10.15898153 10.45594371 10.70259889 10.87028275 10.94224824\n",
      " 10.91641698 10.80572084 10.63597718 10.44164717 10.26017393 10.1258307\n",
      " 10.06408986 10.0874379  10.19332389 10.36457864 10.57223552 10.78028957\n",
      " 10.95161308 11.05405551]\n"
     ]
    }
   ],
   "source": [
    "ypred = olsres.predict(X)\n",
    "print(ypred)"
   ]
  },
  {
   "cell_type": "markdown",
   "metadata": {},
   "source": [
    "## Create a new sample of explanatory variables Xnew, predict and plot"
   ]
  },
  {
   "cell_type": "code",
   "execution_count": 6,
   "metadata": {
    "execution": {
     "iopub.execute_input": "2025-01-02T09:03:41.669325Z",
     "iopub.status.busy": "2025-01-02T09:03:41.669076Z",
     "iopub.status.idle": "2025-01-02T09:03:41.682834Z",
     "shell.execute_reply": "2025-01-02T09:03:41.679129Z"
    }
   },
   "outputs": [
    {
     "name": "stdout",
     "output_type": "stream",
     "text": [
      "[11.05472007 10.90850164 10.63744983 10.29181296  9.93773546  9.64106346\n",
      "  9.45122333  9.38912037  9.44202052  9.56666803]\n"
     ]
    }
   ],
   "source": [
    "x1n = np.linspace(20.5, 25, 10)\n",
    "Xnew = np.column_stack((x1n, np.sin(x1n), (x1n - 5) ** 2))\n",
    "Xnew = sm.add_constant(Xnew)\n",
    "ynewpred = olsres.predict(Xnew)  # predict out of sample\n",
    "print(ynewpred)"
   ]
  },
  {
   "cell_type": "markdown",
   "metadata": {},
   "source": [
    "## Plot comparison"
   ]
  },
  {
   "cell_type": "code",
   "execution_count": 7,
   "metadata": {
    "execution": {
     "iopub.execute_input": "2025-01-02T09:03:41.687289Z",
     "iopub.status.busy": "2025-01-02T09:03:41.686849Z",
     "iopub.status.idle": "2025-01-02T09:03:42.438152Z",
     "shell.execute_reply": "2025-01-02T09:03:42.426460Z"
    }
   },
   "outputs": [
    {
     "data": {
      "text/plain": [
       "<matplotlib.legend.Legend at 0x7f05141cca90>"
      ]
     },
     "execution_count": 7,
     "metadata": {},
     "output_type": "execute_result"
    },
    {
     "data": {
      "image/png": "[encoded data removed]",
      "text/plain": [
       "<Figure size 1600x800 with 1 Axes>"
      ]
     },
     "metadata": {},
     "output_type": "display_data"
    }
   ],
   "source": [
    "import matplotlib.pyplot as plt\n",
    "\n",
    "fig, ax = plt.subplots()\n",
    "ax.plot(x1, y, \"o\", label=\"Data\")\n",
    "ax.plot(x1, y_true, \"b-\", label=\"True\")\n",
    "ax.plot(np.hstack((x1, x1n)), np.hstack((ypred, ynewpred)), \"r\", label=\"OLS prediction\")\n",
    "ax.legend(loc=\"best\")"
   ]
  },
  {
   "cell_type": "markdown",
   "metadata": {},
   "source": [
    "## Predicting with Formulas"
   ]
  },
  {
   "cell_type": "markdown",
   "metadata": {},
   "source": [
    "Using formulas can make both estimation and prediction a lot easier"
   ]
  },
  {
   "cell_type": "code",
   "execution_count": 8,
   "metadata": {
    "execution": {
     "iopub.execute_input": "2025-01-02T09:03:42.441261Z",
     "iopub.status.busy": "2025-01-02T09:03:42.440974Z",
     "iopub.status.idle": "2025-01-02T09:03:42.480007Z",
     "shell.execute_reply": "2025-01-02T09:03:42.479231Z"
    }
   },
   "outputs": [],
   "source": [
    "from statsmodels.formula.api import ols\n",
    "\n",
    "data = {\"x1\": x1, \"y\": y}\n",
    "\n",
    "res = ols(\"y ~ x1 + np.sin(x1) + I((x1-5)**2)\", data=data).fit()"
   ]
  },
  {
   "cell_type": "markdown",
   "metadata": {},
   "source": [
    "We use the `I` to indicate use of the Identity transform. Ie., we do not want any expansion magic from using `**2`"
   ]
  },
  {
   "cell_type": "code",
   "execution_count": 9,
   "metadata": {
    "execution": {
     "iopub.execute_input": "2025-01-02T09:03:42.485952Z",
     "iopub.status.busy": "2025-01-02T09:03:42.482704Z",
     "iopub.status.idle": "2025-01-02T09:03:42.513069Z",
     "shell.execute_reply": "2025-01-02T09:03:42.512229Z"
    }
   },
   "outputs": [
    {
     "data": {
      "text/plain": [
       "Intercept           4.963247\n",
       "x1                  0.496205\n",
       "np.sin(x1)          0.562258\n",
       "I((x1 - 5) ** 2)   -0.019318\n",
       "dtype: float64"
      ]
     },
     "execution_count": 9,
     "metadata": {},
     "output_type": "execute_result"
    }
   ],
   "source": [
    "res.params"
   ]
  },
  {
   "cell_type": "markdown",
   "metadata": {},
   "source": [
    "Now we only have to pass the single variable and we get the transformed right-hand side variables automatically"
   ]
  },
  {
   "cell_type": "code",
   "execution_count": 10,
   "metadata": {
    "execution": {
     "iopub.execute_input": "2025-01-02T09:03:42.518797Z",
     "iopub.status.busy": "2025-01-02T09:03:42.516824Z",
     "iopub.status.idle": "2025-01-02T09:03:42.546242Z",
     "shell.execute_reply": "2025-01-02T09:03:42.545473Z"
    }
   },
   "outputs": [
    {
     "data": {
      "text/plain": [
       "0    11.054720\n",
       "1    10.908502\n",
       "2    10.637450\n",
       "3    10.291813\n",
       "4     9.937735\n",
       "5     9.641063\n",
       "6     9.451223\n",
       "7     9.389120\n",
       "8     9.442021\n",
       "9     9.566668\n",
       "dtype: float64"
      ]
     },
     "execution_count": 10,
     "metadata": {},
     "output_type": "execute_result"
    }
   ],
   "source": [
    "res.predict(exog=dict(x1=x1n))"
   ]
  }
 ],
 "metadata": {
  "kernelspec": {
   "display_name": "Python 3",
   "language": "python",
   "name": "python3"
  },
  "language_info": {
   "codemirror_mode": {
    "name": "ipython",
    "version": 3
   },
   "file_extension": ".py",
   "mimetype": "text/x-python",
   "name": "python",
   "nbconvert_exporter": "python",
   "pygments_lexer": "ipython3",
   "version": "3.10.15"
  }
 },
 "nbformat": 4,
 "nbformat_minor": 4
}
