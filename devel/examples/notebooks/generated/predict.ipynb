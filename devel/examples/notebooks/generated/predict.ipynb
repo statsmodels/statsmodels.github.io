{
 "cells": [
  {
   "cell_type": "markdown",
   "metadata": {},
   "source": [
    "# Prediction (out of sample)"
   ]
  },
  {
   "cell_type": "code",
   "execution_count": 1,
   "metadata": {
    "execution": {
     "iopub.execute_input": "2024-11-14T16:50:01.229681Z",
     "iopub.status.busy": "2024-11-14T16:50:01.229463Z",
     "iopub.status.idle": "2024-11-14T16:50:01.883977Z",
     "shell.execute_reply": "2024-11-14T16:50:01.883133Z"
    }
   },
   "outputs": [],
   "source": [
    "%matplotlib inline"
   ]
  },
  {
   "cell_type": "code",
   "execution_count": 2,
   "metadata": {
    "execution": {
     "iopub.execute_input": "2024-11-14T16:50:01.888738Z",
     "iopub.status.busy": "2024-11-14T16:50:01.887419Z",
     "iopub.status.idle": "2024-11-14T16:50:03.092160Z",
     "shell.execute_reply": "2024-11-14T16:50:03.091170Z"
    }
   },
   "outputs": [],
   "source": [
    "import numpy as np\n",
    "import matplotlib.pyplot as plt\n",
    "\n",
    "import statsmodels.api as sm\n",
    "\n",
    "plt.rc(\"figure\", figsize=(16, 8))\n",
    "plt.rc(\"font\", size=14)"
   ]
  },
  {
   "cell_type": "markdown",
   "metadata": {},
   "source": [
    "## Artificial data"
   ]
  },
  {
   "cell_type": "code",
   "execution_count": 3,
   "metadata": {
    "execution": {
     "iopub.execute_input": "2024-11-14T16:50:03.096484Z",
     "iopub.status.busy": "2024-11-14T16:50:03.095628Z",
     "iopub.status.idle": "2024-11-14T16:50:03.102537Z",
     "shell.execute_reply": "2024-11-14T16:50:03.101663Z"
    }
   },
   "outputs": [],
   "source": [
    "nsample = 50\n",
    "sig = 0.25\n",
    "x1 = np.linspace(0, 20, nsample)\n",
    "X = np.column_stack((x1, np.sin(x1), (x1 - 5) ** 2))\n",
    "X = sm.add_constant(X)\n",
    "beta = [5.0, 0.5, 0.5, -0.02]\n",
    "y_true = np.dot(X, beta)\n",
    "y = y_true + sig * np.random.normal(size=nsample)"
   ]
  },
  {
   "cell_type": "markdown",
   "metadata": {},
   "source": [
    "## Estimation "
   ]
  },
  {
   "cell_type": "code",
   "execution_count": 4,
   "metadata": {
    "execution": {
     "iopub.execute_input": "2024-11-14T16:50:03.105559Z",
     "iopub.status.busy": "2024-11-14T16:50:03.104766Z",
     "iopub.status.idle": "2024-11-14T16:50:03.121358Z",
     "shell.execute_reply": "2024-11-14T16:50:03.120476Z"
    }
   },
   "outputs": [
    {
     "name": "stdout",
     "output_type": "stream",
     "text": [
      "                            OLS Regression Results                            \n",
      "==============================================================================\n",
      "Dep. Variable:                      y   R-squared:                       0.984\n",
      "Model:                            OLS   Adj. R-squared:                  0.983\n",
      "Method:                 Least Squares   F-statistic:                     926.1\n",
      "Date:                Thu, 14 Nov 2024   Prob (F-statistic):           4.07e-41\n",
      "Time:                        16:50:03   Log-Likelihood:                0.57884\n",
      "No. Observations:                  50   AIC:                             6.842\n",
      "Df Residuals:                      46   BIC:                             14.49\n",
      "Df Model:                           3                                         \n",
      "Covariance Type:            nonrobust                                         \n",
      "==============================================================================\n",
      "                 coef    std err          t      P>|t|      [0.025      0.975]\n",
      "------------------------------------------------------------------------------\n",
      "const          4.9879      0.085     58.684      0.000       4.817       5.159\n",
      "x1             0.5143      0.013     39.233      0.000       0.488       0.541\n",
      "x2             0.5772      0.052     11.202      0.000       0.474       0.681\n",
      "x3            -0.0214      0.001    -18.625      0.000      -0.024      -0.019\n",
      "==============================================================================\n",
      "Omnibus:                        0.033   Durbin-Watson:                   2.083\n",
      "Prob(Omnibus):                  0.984   Jarque-Bera (JB):                0.167\n",
      "Skew:                          -0.054   Prob(JB):                        0.920\n",
      "Kurtosis:                       2.738   Cond. No.                         221.\n",
      "==============================================================================\n",
      "\n",
      "Notes:\n",
      "[1] Standard Errors assume that the covariance matrix of the errors is correctly specified.\n"
     ]
    }
   ],
   "source": [
    "olsmod = sm.OLS(y, X)\n",
    "olsres = olsmod.fit()\n",
    "print(olsres.summary())"
   ]
  },
  {
   "cell_type": "markdown",
   "metadata": {},
   "source": [
    "## In-sample prediction"
   ]
  },
  {
   "cell_type": "code",
   "execution_count": 5,
   "metadata": {
    "execution": {
     "iopub.execute_input": "2024-11-14T16:50:03.124604Z",
     "iopub.status.busy": "2024-11-14T16:50:03.123745Z",
     "iopub.status.idle": "2024-11-14T16:50:03.130294Z",
     "shell.execute_reply": "2024-11-14T16:50:03.129278Z"
    }
   },
   "outputs": [
    {
     "name": "stdout",
     "output_type": "stream",
     "text": [
      "[ 4.45196936  4.97491945  5.45308389  5.85500398  6.16057432  6.36434602\n",
      "  6.47642199  6.52079702  6.53141553  6.54659459  6.60272852  6.72830942\n",
      "  6.93924602  7.23624986  7.60471845  8.01713438  8.43758637  8.82766938\n",
      "  9.15279446  9.38787161  9.52143199  9.55751223  9.51499122  9.42448837\n",
      "  9.32333289  9.24943077  9.23503686  9.30145556  9.45554052  9.68856861\n",
      "  9.97767312 10.28960071 10.58617479 10.83056787 10.99335221 11.05733467\n",
      " 11.02038155 10.89576913 10.7100024  10.49846039 10.29958346 10.14855771\n",
      " 10.07153396 10.08133124 10.17533072 10.33590589 10.53331862 10.730605\n",
      " 10.88964845 10.97744212]\n"
     ]
    }
   ],
   "source": [
    "ypred = olsres.predict(X)\n",
    "print(ypred)"
   ]
  },
  {
   "cell_type": "markdown",
   "metadata": {},
   "source": [
    "## Create a new sample of explanatory variables Xnew, predict and plot"
   ]
  },
  {
   "cell_type": "code",
   "execution_count": 6,
   "metadata": {
    "execution": {
     "iopub.execute_input": "2024-11-14T16:50:03.133577Z",
     "iopub.status.busy": "2024-11-14T16:50:03.132749Z",
     "iopub.status.idle": "2024-11-14T16:50:03.139332Z",
     "shell.execute_reply": "2024-11-14T16:50:03.138439Z"
    }
   },
   "outputs": [
    {
     "name": "stdout",
     "output_type": "stream",
     "text": [
      "[10.95610938 10.78318005 10.48129102 10.10202891  9.71329988  9.38270381\n",
      "  9.16098349  9.06960105  9.09548322  9.1942222 ]\n"
     ]
    }
   ],
   "source": [
    "x1n = np.linspace(20.5, 25, 10)\n",
    "Xnew = np.column_stack((x1n, np.sin(x1n), (x1n - 5) ** 2))\n",
    "Xnew = sm.add_constant(Xnew)\n",
    "ynewpred = olsres.predict(Xnew)  # predict out of sample\n",
    "print(ynewpred)"
   ]
  },
  {
   "cell_type": "markdown",
   "metadata": {},
   "source": [
    "## Plot comparison"
   ]
  },
  {
   "cell_type": "code",
   "execution_count": 7,
   "metadata": {
    "execution": {
     "iopub.execute_input": "2024-11-14T16:50:03.142679Z",
     "iopub.status.busy": "2024-11-14T16:50:03.141957Z",
     "iopub.status.idle": "2024-11-14T16:50:03.412267Z",
     "shell.execute_reply": "2024-11-14T16:50:03.411408Z"
    }
   },
   "outputs": [
    {
     "data": {
      "text/plain": [
       "<matplotlib.legend.Legend at 0x7f791238dc00>"
      ]
     },
     "execution_count": 7,
     "metadata": {},
     "output_type": "execute_result"
    },
    {
     "data": {
      "image/png": "[encoded data removed]",
      "text/plain": [
       "<Figure size 1600x800 with 1 Axes>"
      ]
     },
     "metadata": {},
     "output_type": "display_data"
    }
   ],
   "source": [
    "import matplotlib.pyplot as plt\n",
    "\n",
    "fig, ax = plt.subplots()\n",
    "ax.plot(x1, y, \"o\", label=\"Data\")\n",
    "ax.plot(x1, y_true, \"b-\", label=\"True\")\n",
    "ax.plot(np.hstack((x1, x1n)), np.hstack((ypred, ynewpred)), \"r\", label=\"OLS prediction\")\n",
    "ax.legend(loc=\"best\")"
   ]
  },
  {
   "cell_type": "markdown",
   "metadata": {},
   "source": [
    "## Predicting with Formulas"
   ]
  },
  {
   "cell_type": "markdown",
   "metadata": {},
   "source": [
    "Using formulas can make both estimation and prediction a lot easier"
   ]
  },
  {
   "cell_type": "code",
   "execution_count": 8,
   "metadata": {
    "execution": {
     "iopub.execute_input": "2024-11-14T16:50:03.416116Z",
     "iopub.status.busy": "2024-11-14T16:50:03.415763Z",
     "iopub.status.idle": "2024-11-14T16:50:03.426866Z",
     "shell.execute_reply": "2024-11-14T16:50:03.425973Z"
    }
   },
   "outputs": [],
   "source": [
    "from statsmodels.formula.api import ols\n",
    "\n",
    "data = {\"x1\": x1, \"y\": y}\n",
    "\n",
    "res = ols(\"y ~ x1 + np.sin(x1) + I((x1-5)**2)\", data=data).fit()"
   ]
  },
  {
   "cell_type": "markdown",
   "metadata": {},
   "source": [
    "We use the `I` to indicate use of the Identity transform. Ie., we do not want any expansion magic from using `**2`"
   ]
  },
  {
   "cell_type": "code",
   "execution_count": 9,
   "metadata": {
    "execution": {
     "iopub.execute_input": "2024-11-14T16:50:03.431501Z",
     "iopub.status.busy": "2024-11-14T16:50:03.430338Z",
     "iopub.status.idle": "2024-11-14T16:50:03.439278Z",
     "shell.execute_reply": "2024-11-14T16:50:03.438553Z"
    }
   },
   "outputs": [
    {
     "data": {
      "text/plain": [
       "Intercept           4.987862\n",
       "x1                  0.514282\n",
       "np.sin(x1)          0.577233\n",
       "I((x1 - 5) ** 2)   -0.021436\n",
       "dtype: float64"
      ]
     },
     "execution_count": 9,
     "metadata": {},
     "output_type": "execute_result"
    }
   ],
   "source": [
    "res.params"
   ]
  },
  {
   "cell_type": "markdown",
   "metadata": {},
   "source": [
    "Now we only have to pass the single variable and we get the transformed right-hand side variables automatically"
   ]
  },
  {
   "cell_type": "code",
   "execution_count": 10,
   "metadata": {
    "execution": {
     "iopub.execute_input": "2024-11-14T16:50:03.443879Z",
     "iopub.status.busy": "2024-11-14T16:50:03.442752Z",
     "iopub.status.idle": "2024-11-14T16:50:03.452721Z",
     "shell.execute_reply": "2024-11-14T16:50:03.451848Z"
    }
   },
   "outputs": [
    {
     "data": {
      "text/plain": [
       "0    10.956109\n",
       "1    10.783180\n",
       "2    10.481291\n",
       "3    10.102029\n",
       "4     9.713300\n",
       "5     9.382704\n",
       "6     9.160983\n",
       "7     9.069601\n",
       "8     9.095483\n",
       "9     9.194222\n",
       "dtype: float64"
      ]
     },
     "execution_count": 10,
     "metadata": {},
     "output_type": "execute_result"
    }
   ],
   "source": [
    "res.predict(exog=dict(x1=x1n))"
   ]
  }
 ],
 "metadata": {
  "kernelspec": {
   "display_name": "Python 3",
   "language": "python",
   "name": "python3"
  },
  "language_info": {
   "codemirror_mode": {
    "name": "ipython",
    "version": 3
   },
   "file_extension": ".py",
   "mimetype": "text/x-python",
   "name": "python",
   "nbconvert_exporter": "python",
   "pygments_lexer": "ipython3",
   "version": "3.10.15"
  }
 },
 "nbformat": 4,
 "nbformat_minor": 4
}
