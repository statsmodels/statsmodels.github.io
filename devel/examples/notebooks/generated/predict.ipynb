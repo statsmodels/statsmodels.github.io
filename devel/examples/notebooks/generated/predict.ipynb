{
 "cells": [
  {
   "cell_type": "markdown",
   "metadata": {},
   "source": [
    "# Prediction (out of sample)"
   ]
  },
  {
   "cell_type": "code",
   "execution_count": 1,
   "metadata": {
    "execution": {
     "iopub.execute_input": "2024-10-17T10:02:03.488697Z",
     "iopub.status.busy": "2024-10-17T10:02:03.488422Z",
     "iopub.status.idle": "2024-10-17T10:02:04.249051Z",
     "shell.execute_reply": "2024-10-17T10:02:04.248062Z"
    }
   },
   "outputs": [],
   "source": [
    "%matplotlib inline"
   ]
  },
  {
   "cell_type": "code",
   "execution_count": 2,
   "metadata": {
    "execution": {
     "iopub.execute_input": "2024-10-17T10:02:04.254206Z",
     "iopub.status.busy": "2024-10-17T10:02:04.253056Z",
     "iopub.status.idle": "2024-10-17T10:02:05.376693Z",
     "shell.execute_reply": "2024-10-17T10:02:05.375784Z"
    }
   },
   "outputs": [],
   "source": [
    "import numpy as np\n",
    "import matplotlib.pyplot as plt\n",
    "\n",
    "import statsmodels.api as sm\n",
    "\n",
    "plt.rc(\"figure\", figsize=(16, 8))\n",
    "plt.rc(\"font\", size=14)"
   ]
  },
  {
   "cell_type": "markdown",
   "metadata": {},
   "source": [
    "## Artificial data"
   ]
  },
  {
   "cell_type": "code",
   "execution_count": 3,
   "metadata": {
    "execution": {
     "iopub.execute_input": "2024-10-17T10:02:05.380598Z",
     "iopub.status.busy": "2024-10-17T10:02:05.379976Z",
     "iopub.status.idle": "2024-10-17T10:02:05.386183Z",
     "shell.execute_reply": "2024-10-17T10:02:05.385415Z"
    }
   },
   "outputs": [],
   "source": [
    "nsample = 50\n",
    "sig = 0.25\n",
    "x1 = np.linspace(0, 20, nsample)\n",
    "X = np.column_stack((x1, np.sin(x1), (x1 - 5) ** 2))\n",
    "X = sm.add_constant(X)\n",
    "beta = [5.0, 0.5, 0.5, -0.02]\n",
    "y_true = np.dot(X, beta)\n",
    "y = y_true + sig * np.random.normal(size=nsample)"
   ]
  },
  {
   "cell_type": "markdown",
   "metadata": {},
   "source": [
    "## Estimation "
   ]
  },
  {
   "cell_type": "code",
   "execution_count": 4,
   "metadata": {
    "execution": {
     "iopub.execute_input": "2024-10-17T10:02:05.389146Z",
     "iopub.status.busy": "2024-10-17T10:02:05.388654Z",
     "iopub.status.idle": "2024-10-17T10:02:05.404039Z",
     "shell.execute_reply": "2024-10-17T10:02:05.403226Z"
    }
   },
   "outputs": [
    {
     "name": "stdout",
     "output_type": "stream",
     "text": [
      "                            OLS Regression Results                            \n",
      "==============================================================================\n",
      "Dep. Variable:                      y   R-squared:                       0.986\n",
      "Model:                            OLS   Adj. R-squared:                  0.985\n",
      "Method:                 Least Squares   F-statistic:                     1066.\n",
      "Date:                Thu, 17 Oct 2024   Prob (F-statistic):           1.69e-42\n",
      "Time:                        10:02:05   Log-Likelihood:                 3.7288\n",
      "No. Observations:                  50   AIC:                            0.5424\n",
      "Df Residuals:                      46   BIC:                             8.190\n",
      "Df Model:                           3                                         \n",
      "Covariance Type:            nonrobust                                         \n",
      "==============================================================================\n",
      "                 coef    std err          t      P>|t|      [0.025      0.975]\n",
      "------------------------------------------------------------------------------\n",
      "const          5.0665      0.080     63.485      0.000       4.906       5.227\n",
      "x1             0.4911      0.012     39.900      0.000       0.466       0.516\n",
      "x2             0.4842      0.048     10.007      0.000       0.387       0.582\n",
      "x3            -0.0183      0.001    -16.949      0.000      -0.020      -0.016\n",
      "==============================================================================\n",
      "Omnibus:                        2.698   Durbin-Watson:                   2.432\n",
      "Prob(Omnibus):                  0.259   Jarque-Bera (JB):                2.030\n",
      "Skew:                           0.074   Prob(JB):                        0.362\n",
      "Kurtosis:                       3.976   Cond. No.                         221.\n",
      "==============================================================================\n",
      "\n",
      "Notes:\n",
      "[1] Standard Errors assume that the covariance matrix of the errors is correctly specified.\n"
     ]
    }
   ],
   "source": [
    "olsmod = sm.OLS(y, X)\n",
    "olsres = olsmod.fit()\n",
    "print(olsres.summary())"
   ]
  },
  {
   "cell_type": "markdown",
   "metadata": {},
   "source": [
    "## In-sample prediction"
   ]
  },
  {
   "cell_type": "code",
   "execution_count": 5,
   "metadata": {
    "execution": {
     "iopub.execute_input": "2024-10-17T10:02:05.407338Z",
     "iopub.status.busy": "2024-10-17T10:02:05.407024Z",
     "iopub.status.idle": "2024-10-17T10:02:05.413544Z",
     "shell.execute_reply": "2024-10-17T10:02:05.412629Z"
    }
   },
   "outputs": [
    {
     "name": "stdout",
     "output_type": "stream",
     "text": [
      "[ 4.6085411   5.07287255  5.4995273   5.86211907  6.14378427  6.33995261\n",
      "  6.45909799  6.52134626  6.5551686   6.59270379  6.66447792  6.79438898\n",
      "  6.99578056  7.26924947  7.60254775  7.97259491  8.34927006  8.70036061\n",
      "  8.99685476  9.21770806  9.35330092  9.40701909  9.39469741  9.34201819\n",
      "  9.28029165  9.24131175  9.25213258  9.33062336  9.48253267  9.7005439\n",
      "  9.9654774  10.24944162 10.5204156  10.74750996 10.90604191 10.98159055\n",
      " 10.97236623 10.88950454 10.75523678 10.59923743 10.45374869 10.34828322\n",
      " 10.30477525 10.33397687 10.43369149 10.58913474 10.77536348 10.96137391\n",
      " 11.11519539 11.20914314]\n"
     ]
    }
   ],
   "source": [
    "ypred = olsres.predict(X)\n",
    "print(ypred)"
   ]
  },
  {
   "cell_type": "markdown",
   "metadata": {},
   "source": [
    "## Create a new sample of explanatory variables Xnew, predict and plot"
   ]
  },
  {
   "cell_type": "code",
   "execution_count": 6,
   "metadata": {
    "execution": {
     "iopub.execute_input": "2024-10-17T10:02:05.416882Z",
     "iopub.status.busy": "2024-10-17T10:02:05.416568Z",
     "iopub.status.idle": "2024-10-17T10:02:05.424082Z",
     "shell.execute_reply": "2024-10-17T10:02:05.423193Z"
    }
   },
   "outputs": [
    {
     "name": "stdout",
     "output_type": "stream",
     "text": [
      "[11.21597678 11.09548883 10.86666619 10.57277761 10.27077998 10.01737331\n",
      "  9.85511858  9.80201733  9.84710427  9.95313192]\n"
     ]
    }
   ],
   "source": [
    "x1n = np.linspace(20.5, 25, 10)\n",
    "Xnew = np.column_stack((x1n, np.sin(x1n), (x1n - 5) ** 2))\n",
    "Xnew = sm.add_constant(Xnew)\n",
    "ynewpred = olsres.predict(Xnew)  # predict out of sample\n",
    "print(ynewpred)"
   ]
  },
  {
   "cell_type": "markdown",
   "metadata": {},
   "source": [
    "## Plot comparison"
   ]
  },
  {
   "cell_type": "code",
   "execution_count": 7,
   "metadata": {
    "execution": {
     "iopub.execute_input": "2024-10-17T10:02:05.427655Z",
     "iopub.status.busy": "2024-10-17T10:02:05.427344Z",
     "iopub.status.idle": "2024-10-17T10:02:05.713847Z",
     "shell.execute_reply": "2024-10-17T10:02:05.713178Z"
    }
   },
   "outputs": [
    {
     "data": {
      "text/plain": [
       "<matplotlib.legend.Legend at 0x7fc179fb5060>"
      ]
     },
     "execution_count": 7,
     "metadata": {},
     "output_type": "execute_result"
    },
    {
     "data": {
      "image/png": "[encoded data removed]",
      "text/plain": [
       "<Figure size 1600x800 with 1 Axes>"
      ]
     },
     "metadata": {},
     "output_type": "display_data"
    }
   ],
   "source": [
    "import matplotlib.pyplot as plt\n",
    "\n",
    "fig, ax = plt.subplots()\n",
    "ax.plot(x1, y, \"o\", label=\"Data\")\n",
    "ax.plot(x1, y_true, \"b-\", label=\"True\")\n",
    "ax.plot(np.hstack((x1, x1n)), np.hstack((ypred, ynewpred)), \"r\", label=\"OLS prediction\")\n",
    "ax.legend(loc=\"best\")"
   ]
  },
  {
   "cell_type": "markdown",
   "metadata": {},
   "source": [
    "## Predicting with Formulas"
   ]
  },
  {
   "cell_type": "markdown",
   "metadata": {},
   "source": [
    "Using formulas can make both estimation and prediction a lot easier"
   ]
  },
  {
   "cell_type": "code",
   "execution_count": 8,
   "metadata": {
    "execution": {
     "iopub.execute_input": "2024-10-17T10:02:05.716841Z",
     "iopub.status.busy": "2024-10-17T10:02:05.716521Z",
     "iopub.status.idle": "2024-10-17T10:02:05.726432Z",
     "shell.execute_reply": "2024-10-17T10:02:05.725563Z"
    }
   },
   "outputs": [],
   "source": [
    "from statsmodels.formula.api import ols\n",
    "\n",
    "data = {\"x1\": x1, \"y\": y}\n",
    "\n",
    "res = ols(\"y ~ x1 + np.sin(x1) + I((x1-5)**2)\", data=data).fit()"
   ]
  },
  {
   "cell_type": "markdown",
   "metadata": {},
   "source": [
    "We use the `I` to indicate use of the Identity transform. Ie., we do not want any expansion magic from using `**2`"
   ]
  },
  {
   "cell_type": "code",
   "execution_count": 9,
   "metadata": {
    "execution": {
     "iopub.execute_input": "2024-10-17T10:02:05.729282Z",
     "iopub.status.busy": "2024-10-17T10:02:05.728769Z",
     "iopub.status.idle": "2024-10-17T10:02:05.735979Z",
     "shell.execute_reply": "2024-10-17T10:02:05.735186Z"
    }
   },
   "outputs": [
    {
     "data": {
      "text/plain": [
       "Intercept           5.066455\n",
       "x1                  0.491095\n",
       "np.sin(x1)          0.484159\n",
       "I((x1 - 5) ** 2)   -0.018317\n",
       "dtype: float64"
      ]
     },
     "execution_count": 9,
     "metadata": {},
     "output_type": "execute_result"
    }
   ],
   "source": [
    "res.params"
   ]
  },
  {
   "cell_type": "markdown",
   "metadata": {},
   "source": [
    "Now we only have to pass the single variable and we get the transformed right-hand side variables automatically"
   ]
  },
  {
   "cell_type": "code",
   "execution_count": 10,
   "metadata": {
    "execution": {
     "iopub.execute_input": "2024-10-17T10:02:05.738937Z",
     "iopub.status.busy": "2024-10-17T10:02:05.738462Z",
     "iopub.status.idle": "2024-10-17T10:02:05.746303Z",
     "shell.execute_reply": "2024-10-17T10:02:05.745469Z"
    }
   },
   "outputs": [
    {
     "data": {
      "text/plain": [
       "0    11.215977\n",
       "1    11.095489\n",
       "2    10.866666\n",
       "3    10.572778\n",
       "4    10.270780\n",
       "5    10.017373\n",
       "6     9.855119\n",
       "7     9.802017\n",
       "8     9.847104\n",
       "9     9.953132\n",
       "dtype: float64"
      ]
     },
     "execution_count": 10,
     "metadata": {},
     "output_type": "execute_result"
    }
   ],
   "source": [
    "res.predict(exog=dict(x1=x1n))"
   ]
  }
 ],
 "metadata": {
  "kernelspec": {
   "display_name": "Python 3",
   "language": "python",
   "name": "python3"
  },
  "language_info": {
   "codemirror_mode": {
    "name": "ipython",
    "version": 3
   },
   "file_extension": ".py",
   "mimetype": "text/x-python",
   "name": "python",
   "nbconvert_exporter": "python",
   "pygments_lexer": "ipython3",
   "version": "3.10.15"
  }
 },
 "nbformat": 4,
 "nbformat_minor": 4
}
