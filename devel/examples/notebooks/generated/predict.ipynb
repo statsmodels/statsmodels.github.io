{
 "cells": [
  {
   "cell_type": "markdown",
   "metadata": {},
   "source": [
    "# Prediction (out of sample)"
   ]
  },
  {
   "cell_type": "code",
   "execution_count": 1,
   "metadata": {
    "execution": {
     "iopub.execute_input": "2024-07-16T07:37:09.012804Z",
     "iopub.status.busy": "2024-07-16T07:37:09.012574Z",
     "iopub.status.idle": "2024-07-16T07:37:10.694538Z",
     "shell.execute_reply": "2024-07-16T07:37:10.693784Z"
    }
   },
   "outputs": [],
   "source": [
    "%matplotlib inline"
   ]
  },
  {
   "cell_type": "code",
   "execution_count": 2,
   "metadata": {
    "execution": {
     "iopub.execute_input": "2024-07-16T07:37:10.710812Z",
     "iopub.status.busy": "2024-07-16T07:37:10.700228Z",
     "iopub.status.idle": "2024-07-16T07:37:13.714239Z",
     "shell.execute_reply": "2024-07-16T07:37:13.713481Z"
    }
   },
   "outputs": [],
   "source": [
    "import numpy as np\n",
    "import matplotlib.pyplot as plt\n",
    "\n",
    "import statsmodels.api as sm\n",
    "\n",
    "plt.rc(\"figure\", figsize=(16, 8))\n",
    "plt.rc(\"font\", size=14)"
   ]
  },
  {
   "cell_type": "markdown",
   "metadata": {},
   "source": [
    "## Artificial data"
   ]
  },
  {
   "cell_type": "code",
   "execution_count": 3,
   "metadata": {
    "execution": {
     "iopub.execute_input": "2024-07-16T07:37:13.721408Z",
     "iopub.status.busy": "2024-07-16T07:37:13.720850Z",
     "iopub.status.idle": "2024-07-16T07:37:13.734012Z",
     "shell.execute_reply": "2024-07-16T07:37:13.733312Z"
    }
   },
   "outputs": [],
   "source": [
    "nsample = 50\n",
    "sig = 0.25\n",
    "x1 = np.linspace(0, 20, nsample)\n",
    "X = np.column_stack((x1, np.sin(x1), (x1 - 5) ** 2))\n",
    "X = sm.add_constant(X)\n",
    "beta = [5.0, 0.5, 0.5, -0.02]\n",
    "y_true = np.dot(X, beta)\n",
    "y = y_true + sig * np.random.normal(size=nsample)"
   ]
  },
  {
   "cell_type": "markdown",
   "metadata": {},
   "source": [
    "## Estimation "
   ]
  },
  {
   "cell_type": "code",
   "execution_count": 4,
   "metadata": {
    "execution": {
     "iopub.execute_input": "2024-07-16T07:37:13.741001Z",
     "iopub.status.busy": "2024-07-16T07:37:13.740691Z",
     "iopub.status.idle": "2024-07-16T07:37:13.783076Z",
     "shell.execute_reply": "2024-07-16T07:37:13.782447Z"
    }
   },
   "outputs": [
    {
     "name": "stdout",
     "output_type": "stream",
     "text": [
      "                            OLS Regression Results                            \n",
      "==============================================================================\n",
      "Dep. Variable:                      y   R-squared:                       0.989\n",
      "Model:                            OLS   Adj. R-squared:                  0.988\n",
      "Method:                 Least Squares   F-statistic:                     1370.\n",
      "Date:                Tue, 16 Jul 2024   Prob (F-statistic):           5.62e-45\n",
      "Time:                        07:37:13   Log-Likelihood:                 11.523\n",
      "No. Observations:                  50   AIC:                            -15.05\n",
      "Df Residuals:                      46   BIC:                            -7.398\n",
      "Df Model:                           3                                         \n",
      "Covariance Type:            nonrobust                                         \n",
      "==============================================================================\n",
      "                 coef    std err          t      P>|t|      [0.025      0.975]\n",
      "------------------------------------------------------------------------------\n",
      "const          5.0885      0.068     74.518      0.000       4.951       5.226\n",
      "x1             0.4872      0.011     46.264      0.000       0.466       0.508\n",
      "x2             0.4981      0.041     12.030      0.000       0.415       0.581\n",
      "x3            -0.0191      0.001    -20.610      0.000      -0.021      -0.017\n",
      "==============================================================================\n",
      "Omnibus:                        6.542   Durbin-Watson:                   2.109\n",
      "Prob(Omnibus):                  0.038   Jarque-Bera (JB):                5.886\n",
      "Skew:                          -0.583   Prob(JB):                       0.0527\n",
      "Kurtosis:                       4.210   Cond. No.                         221.\n",
      "==============================================================================\n",
      "\n",
      "Notes:\n",
      "[1] Standard Errors assume that the covariance matrix of the errors is correctly specified.\n"
     ]
    }
   ],
   "source": [
    "olsmod = sm.OLS(y, X)\n",
    "olsres = olsmod.fit()\n",
    "print(olsres.summary())"
   ]
  },
  {
   "cell_type": "markdown",
   "metadata": {},
   "source": [
    "## In-sample prediction"
   ]
  },
  {
   "cell_type": "code",
   "execution_count": 5,
   "metadata": {
    "execution": {
     "iopub.execute_input": "2024-07-16T07:37:13.786920Z",
     "iopub.status.busy": "2024-07-16T07:37:13.785676Z",
     "iopub.status.idle": "2024-07-16T07:37:13.800524Z",
     "shell.execute_reply": "2024-07-16T07:37:13.799871Z"
    }
   },
   "outputs": [
    {
     "name": "stdout",
     "output_type": "stream",
     "text": [
      "[ 4.61208866  5.08325599  5.51559376  5.88195861  6.16500308  6.36002573\n",
      "  6.47574362  6.53286006  6.56066314  6.59221379  6.65891397  6.78534737\n",
      "  6.98524044  7.25920712  7.59464801  7.9678204   8.34773913  8.70126735\n",
      "  8.99856086  9.21797136  9.34960326  9.39693945  9.37626913  9.31401148\n",
      "  9.24237511  9.19406623  9.19691517  9.26930389  9.41714589  9.63291464\n",
      "  9.89688016 10.18035063 10.45038633 10.67521157 10.82943535 10.898223\n",
      " 10.87973351 10.78542198 10.6381576  10.46846627 10.30951532 10.19166419\n",
      " 10.13747648 10.15801277 10.25101346 10.40126996 10.58312346 10.76468057\n",
      " 10.91305333 10.99976261]\n"
     ]
    }
   ],
   "source": [
    "ypred = olsres.predict(X)\n",
    "print(ypred)"
   ]
  },
  {
   "cell_type": "markdown",
   "metadata": {},
   "source": [
    "## Create a new sample of explanatory variables Xnew, predict and plot"
   ]
  },
  {
   "cell_type": "code",
   "execution_count": 6,
   "metadata": {
    "execution": {
     "iopub.execute_input": "2024-07-16T07:37:13.805688Z",
     "iopub.status.busy": "2024-07-16T07:37:13.803722Z",
     "iopub.status.idle": "2024-07-16T07:37:13.814524Z",
     "shell.execute_reply": "2024-07-16T07:37:13.813934Z"
    }
   },
   "outputs": [
    {
     "name": "stdout",
     "output_type": "stream",
     "text": [
      "[10.99452521 10.85820526 10.61033444 10.29542301  9.97206209  9.69857857\n",
      "  9.51875461  9.45110827  9.48435962  9.58019248]\n"
     ]
    }
   ],
   "source": [
    "x1n = np.linspace(20.5, 25, 10)\n",
    "Xnew = np.column_stack((x1n, np.sin(x1n), (x1n - 5) ** 2))\n",
    "Xnew = sm.add_constant(Xnew)\n",
    "ynewpred = olsres.predict(Xnew)  # predict out of sample\n",
    "print(ynewpred)"
   ]
  },
  {
   "cell_type": "markdown",
   "metadata": {},
   "source": [
    "## Plot comparison"
   ]
  },
  {
   "cell_type": "code",
   "execution_count": 7,
   "metadata": {
    "execution": {
     "iopub.execute_input": "2024-07-16T07:37:13.820658Z",
     "iopub.status.busy": "2024-07-16T07:37:13.817605Z",
     "iopub.status.idle": "2024-07-16T07:37:14.530290Z",
     "shell.execute_reply": "2024-07-16T07:37:14.529601Z"
    }
   },
   "outputs": [
    {
     "data": {
      "text/plain": [
       "<matplotlib.legend.Legend at 0x7f4533f1dff0>"
      ]
     },
     "execution_count": 7,
     "metadata": {},
     "output_type": "execute_result"
    },
    {
     "data": {
      "image/png": "[encoded data removed]",
      "text/plain": [
       "<Figure size 1600x800 with 1 Axes>"
      ]
     },
     "metadata": {},
     "output_type": "display_data"
    }
   ],
   "source": [
    "import matplotlib.pyplot as plt\n",
    "\n",
    "fig, ax = plt.subplots()\n",
    "ax.plot(x1, y, \"o\", label=\"Data\")\n",
    "ax.plot(x1, y_true, \"b-\", label=\"True\")\n",
    "ax.plot(np.hstack((x1, x1n)), np.hstack((ypred, ynewpred)), \"r\", label=\"OLS prediction\")\n",
    "ax.legend(loc=\"best\")"
   ]
  },
  {
   "cell_type": "markdown",
   "metadata": {},
   "source": [
    "## Predicting with Formulas"
   ]
  },
  {
   "cell_type": "markdown",
   "metadata": {},
   "source": [
    "Using formulas can make both estimation and prediction a lot easier"
   ]
  },
  {
   "cell_type": "code",
   "execution_count": 8,
   "metadata": {
    "execution": {
     "iopub.execute_input": "2024-07-16T07:37:14.540335Z",
     "iopub.status.busy": "2024-07-16T07:37:14.533848Z",
     "iopub.status.idle": "2024-07-16T07:37:14.558000Z",
     "shell.execute_reply": "2024-07-16T07:37:14.557329Z"
    }
   },
   "outputs": [],
   "source": [
    "from statsmodels.formula.api import ols\n",
    "\n",
    "data = {\"x1\": x1, \"y\": y}\n",
    "\n",
    "res = ols(\"y ~ x1 + np.sin(x1) + I((x1-5)**2)\", data=data).fit()"
   ]
  },
  {
   "cell_type": "markdown",
   "metadata": {},
   "source": [
    "We use the `I` to indicate use of the Identity transform. Ie., we do not want any expansion magic from using `**2`"
   ]
  },
  {
   "cell_type": "code",
   "execution_count": 9,
   "metadata": {
    "execution": {
     "iopub.execute_input": "2024-07-16T07:37:14.563418Z",
     "iopub.status.busy": "2024-07-16T07:37:14.561321Z",
     "iopub.status.idle": "2024-07-16T07:37:14.588944Z",
     "shell.execute_reply": "2024-07-16T07:37:14.588141Z"
    }
   },
   "outputs": [
    {
     "data": {
      "text/plain": [
       "Intercept           5.088529\n",
       "x1                  0.487225\n",
       "np.sin(x1)          0.498051\n",
       "I((x1 - 5) ** 2)   -0.019058\n",
       "dtype: float64"
      ]
     },
     "execution_count": 9,
     "metadata": {},
     "output_type": "execute_result"
    }
   ],
   "source": [
    "res.params"
   ]
  },
  {
   "cell_type": "markdown",
   "metadata": {},
   "source": [
    "Now we only have to pass the single variable and we get the transformed right-hand side variables automatically"
   ]
  },
  {
   "cell_type": "code",
   "execution_count": 10,
   "metadata": {
    "execution": {
     "iopub.execute_input": "2024-07-16T07:37:14.594465Z",
     "iopub.status.busy": "2024-07-16T07:37:14.592887Z",
     "iopub.status.idle": "2024-07-16T07:37:14.613659Z",
     "shell.execute_reply": "2024-07-16T07:37:14.613051Z"
    }
   },
   "outputs": [
    {
     "data": {
      "text/plain": [
       "0    10.994525\n",
       "1    10.858205\n",
       "2    10.610334\n",
       "3    10.295423\n",
       "4     9.972062\n",
       "5     9.698579\n",
       "6     9.518755\n",
       "7     9.451108\n",
       "8     9.484360\n",
       "9     9.580192\n",
       "dtype: float64"
      ]
     },
     "execution_count": 10,
     "metadata": {},
     "output_type": "execute_result"
    }
   ],
   "source": [
    "res.predict(exog=dict(x1=x1n))"
   ]
  }
 ],
 "metadata": {
  "kernelspec": {
   "display_name": "Python 3",
   "language": "python",
   "name": "python3"
  },
  "language_info": {
   "codemirror_mode": {
    "name": "ipython",
    "version": 3
   },
   "file_extension": ".py",
   "mimetype": "text/x-python",
   "name": "python",
   "nbconvert_exporter": "python",
   "pygments_lexer": "ipython3",
   "version": "3.10.14"
  }
 },
 "nbformat": 4,
 "nbformat_minor": 4
}
