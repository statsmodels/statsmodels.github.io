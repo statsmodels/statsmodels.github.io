{
 "cells": [
  {
   "cell_type": "markdown",
   "metadata": {},
   "source": [
    "# Prediction (out of sample)"
   ]
  },
  {
   "cell_type": "code",
   "execution_count": 1,
   "metadata": {
    "execution": {
     "iopub.execute_input": "2023-06-30T08:48:33.966633Z",
     "iopub.status.busy": "2023-06-30T08:48:33.966078Z",
     "iopub.status.idle": "2023-06-30T08:48:34.549415Z",
     "shell.execute_reply": "2023-06-30T08:48:34.548620Z"
    }
   },
   "outputs": [],
   "source": [
    "%matplotlib inline"
   ]
  },
  {
   "cell_type": "code",
   "execution_count": 2,
   "metadata": {
    "execution": {
     "iopub.execute_input": "2023-06-30T08:48:34.555342Z",
     "iopub.status.busy": "2023-06-30T08:48:34.553880Z",
     "iopub.status.idle": "2023-06-30T08:48:35.367556Z",
     "shell.execute_reply": "2023-06-30T08:48:35.366757Z"
    }
   },
   "outputs": [],
   "source": [
    "import numpy as np\n",
    "import matplotlib.pyplot as plt\n",
    "\n",
    "import statsmodels.api as sm\n",
    "\n",
    "plt.rc(\"figure\", figsize=(16, 8))\n",
    "plt.rc(\"font\", size=14)"
   ]
  },
  {
   "cell_type": "markdown",
   "metadata": {},
   "source": [
    "## Artificial data"
   ]
  },
  {
   "cell_type": "code",
   "execution_count": 3,
   "metadata": {
    "execution": {
     "iopub.execute_input": "2023-06-30T08:48:35.373400Z",
     "iopub.status.busy": "2023-06-30T08:48:35.371928Z",
     "iopub.status.idle": "2023-06-30T08:48:35.379310Z",
     "shell.execute_reply": "2023-06-30T08:48:35.378628Z"
    }
   },
   "outputs": [],
   "source": [
    "nsample = 50\n",
    "sig = 0.25\n",
    "x1 = np.linspace(0, 20, nsample)\n",
    "X = np.column_stack((x1, np.sin(x1), (x1 - 5) ** 2))\n",
    "X = sm.add_constant(X)\n",
    "beta = [5.0, 0.5, 0.5, -0.02]\n",
    "y_true = np.dot(X, beta)\n",
    "y = y_true + sig * np.random.normal(size=nsample)"
   ]
  },
  {
   "cell_type": "markdown",
   "metadata": {},
   "source": [
    "## Estimation "
   ]
  },
  {
   "cell_type": "code",
   "execution_count": 4,
   "metadata": {
    "execution": {
     "iopub.execute_input": "2023-06-30T08:48:35.384127Z",
     "iopub.status.busy": "2023-06-30T08:48:35.382856Z",
     "iopub.status.idle": "2023-06-30T08:48:35.398012Z",
     "shell.execute_reply": "2023-06-30T08:48:35.397334Z"
    }
   },
   "outputs": [
    {
     "name": "stdout",
     "output_type": "stream",
     "text": [
      "                            OLS Regression Results                            \n",
      "==============================================================================\n",
      "Dep. Variable:                      y   R-squared:                       0.986\n",
      "Model:                            OLS   Adj. R-squared:                  0.986\n",
      "Method:                 Least Squares   F-statistic:                     1120.\n",
      "Date:                Fri, 30 Jun 2023   Prob (F-statistic):           5.44e-43\n",
      "Time:                        08:48:35   Log-Likelihood:                 5.8073\n",
      "No. Observations:                  50   AIC:                            -3.615\n",
      "Df Residuals:                      46   BIC:                             4.033\n",
      "Df Model:                           3                                         \n",
      "Covariance Type:            nonrobust                                         \n",
      "==============================================================================\n",
      "                 coef    std err          t      P>|t|      [0.025      0.975]\n",
      "------------------------------------------------------------------------------\n",
      "const          5.0617      0.077     66.118      0.000       4.908       5.216\n",
      "x1             0.4817      0.012     40.801      0.000       0.458       0.506\n",
      "x2             0.4494      0.046      9.683      0.000       0.356       0.543\n",
      "x3            -0.0179      0.001    -17.233      0.000      -0.020      -0.016\n",
      "==============================================================================\n",
      "Omnibus:                        1.343   Durbin-Watson:                   2.067\n",
      "Prob(Omnibus):                  0.511   Jarque-Bera (JB):                0.605\n",
      "Skew:                           0.168   Prob(JB):                        0.739\n",
      "Kurtosis:                       3.421   Cond. No.                         221.\n",
      "==============================================================================\n",
      "\n",
      "Notes:\n",
      "[1] Standard Errors assume that the covariance matrix of the errors is correctly specified.\n"
     ]
    }
   ],
   "source": [
    "olsmod = sm.OLS(y, X)\n",
    "olsres = olsmod.fit()\n",
    "print(olsres.summary())"
   ]
  },
  {
   "cell_type": "markdown",
   "metadata": {},
   "source": [
    "## In-sample prediction"
   ]
  },
  {
   "cell_type": "code",
   "execution_count": 5,
   "metadata": {
    "execution": {
     "iopub.execute_input": "2023-06-30T08:48:35.403151Z",
     "iopub.status.busy": "2023-06-30T08:48:35.401809Z",
     "iopub.status.idle": "2023-06-30T08:48:35.409286Z",
     "shell.execute_reply": "2023-06-30T08:48:35.408651Z"
    }
   },
   "outputs": [
    {
     "name": "stdout",
     "output_type": "stream",
     "text": [
      "[ 4.6151049   5.06006757  5.46976831  5.81971318  6.09424797  6.28913015\n",
      "  6.41222591  6.48221776  6.52553502  6.57201162  6.64998441  6.78163753\n",
      "  6.9793576   7.24369864  7.56329107  7.91670964  8.27599361  8.61124055\n",
      "  8.8955193   9.10929462  9.24363679  9.30168877  9.29814977  9.25686026\n",
      "  9.20688502  9.17773788  9.19453269  9.27385717  9.42104763  9.62931219\n",
      "  9.88084668 10.14975982 10.40632709 10.62187436 10.773489   10.84778433\n",
      " 10.84309904 10.76977011 10.64843452 10.50663858 10.37431224 10.27885158\n",
      " 10.24061783 10.26959195 10.36373491 10.5093226  10.68320071 10.85658892\n",
      " 10.99980939 11.08716279]\n"
     ]
    }
   ],
   "source": [
    "ypred = olsres.predict(X)\n",
    "print(ypred)"
   ]
  },
  {
   "cell_type": "markdown",
   "metadata": {},
   "source": [
    "## Create a new sample of explanatory variables Xnew, predict and plot"
   ]
  },
  {
   "cell_type": "code",
   "execution_count": 6,
   "metadata": {
    "execution": {
     "iopub.execute_input": "2023-06-30T08:48:35.414173Z",
     "iopub.status.busy": "2023-06-30T08:48:35.412896Z",
     "iopub.status.idle": "2023-06-30T08:48:35.421082Z",
     "shell.execute_reply": "2023-06-30T08:48:35.420427Z"
    }
   },
   "outputs": [
    {
     "name": "stdout",
     "output_type": "stream",
     "text": [
      "[11.09329034 10.98079625 10.76730577 10.49298457 10.21070482  9.97310021\n",
      "  9.81967942  9.76715298  9.80534198  9.89967022]\n"
     ]
    }
   ],
   "source": [
    "x1n = np.linspace(20.5, 25, 10)\n",
    "Xnew = np.column_stack((x1n, np.sin(x1n), (x1n - 5) ** 2))\n",
    "Xnew = sm.add_constant(Xnew)\n",
    "ynewpred = olsres.predict(Xnew)  # predict out of sample\n",
    "print(ynewpred)"
   ]
  },
  {
   "cell_type": "markdown",
   "metadata": {},
   "source": [
    "## Plot comparison"
   ]
  },
  {
   "cell_type": "code",
   "execution_count": 7,
   "metadata": {
    "execution": {
     "iopub.execute_input": "2023-06-30T08:48:35.425853Z",
     "iopub.status.busy": "2023-06-30T08:48:35.424597Z",
     "iopub.status.idle": "2023-06-30T08:48:35.780208Z",
     "shell.execute_reply": "2023-06-30T08:48:35.779441Z"
    }
   },
   "outputs": [
    {
     "data": {
      "text/plain": [
       "<matplotlib.legend.Legend at 0x7fd8b7667af0>"
      ]
     },
     "execution_count": 7,
     "metadata": {},
     "output_type": "execute_result"
    },
    {
     "data": {
      "image/png": "[encoded data removed]",
      "text/plain": [
       "<Figure size 1600x800 with 1 Axes>"
      ]
     },
     "metadata": {},
     "output_type": "display_data"
    }
   ],
   "source": [
    "import matplotlib.pyplot as plt\n",
    "\n",
    "fig, ax = plt.subplots()\n",
    "ax.plot(x1, y, \"o\", label=\"Data\")\n",
    "ax.plot(x1, y_true, \"b-\", label=\"True\")\n",
    "ax.plot(np.hstack((x1, x1n)), np.hstack((ypred, ynewpred)), \"r\", label=\"OLS prediction\")\n",
    "ax.legend(loc=\"best\")"
   ]
  },
  {
   "cell_type": "markdown",
   "metadata": {},
   "source": [
    "## Predicting with Formulas"
   ]
  },
  {
   "cell_type": "markdown",
   "metadata": {},
   "source": [
    "Using formulas can make both estimation and prediction a lot easier"
   ]
  },
  {
   "cell_type": "code",
   "execution_count": 8,
   "metadata": {
    "execution": {
     "iopub.execute_input": "2023-06-30T08:48:35.784715Z",
     "iopub.status.busy": "2023-06-30T08:48:35.784151Z",
     "iopub.status.idle": "2023-06-30T08:48:35.794245Z",
     "shell.execute_reply": "2023-06-30T08:48:35.793538Z"
    }
   },
   "outputs": [],
   "source": [
    "from statsmodels.formula.api import ols\n",
    "\n",
    "data = {\"x1\": x1, \"y\": y}\n",
    "\n",
    "res = ols(\"y ~ x1 + np.sin(x1) + I((x1-5)**2)\", data=data).fit()"
   ]
  },
  {
   "cell_type": "markdown",
   "metadata": {},
   "source": [
    "We use the `I` to indicate use of the Identity transform. Ie., we do not want any expansion magic from using `**2`"
   ]
  },
  {
   "cell_type": "code",
   "execution_count": 9,
   "metadata": {
    "execution": {
     "iopub.execute_input": "2023-06-30T08:48:35.799258Z",
     "iopub.status.busy": "2023-06-30T08:48:35.797941Z",
     "iopub.status.idle": "2023-06-30T08:48:35.807653Z",
     "shell.execute_reply": "2023-06-30T08:48:35.806983Z"
    }
   },
   "outputs": [
    {
     "data": {
      "text/plain": [
       "Intercept           5.061732\n",
       "x1                  0.481738\n",
       "np.sin(x1)          0.449437\n",
       "I((x1 - 5) ** 2)   -0.017865\n",
       "dtype: float64"
      ]
     },
     "execution_count": 9,
     "metadata": {},
     "output_type": "execute_result"
    }
   ],
   "source": [
    "res.params"
   ]
  },
  {
   "cell_type": "markdown",
   "metadata": {},
   "source": [
    "Now we only have to pass the single variable and we get the transformed right-hand side variables automatically"
   ]
  },
  {
   "cell_type": "code",
   "execution_count": 10,
   "metadata": {
    "execution": {
     "iopub.execute_input": "2023-06-30T08:48:35.812616Z",
     "iopub.status.busy": "2023-06-30T08:48:35.811338Z",
     "iopub.status.idle": "2023-06-30T08:48:35.821524Z",
     "shell.execute_reply": "2023-06-30T08:48:35.820867Z"
    }
   },
   "outputs": [
    {
     "data": {
      "text/plain": [
       "0    11.093290\n",
       "1    10.980796\n",
       "2    10.767306\n",
       "3    10.492985\n",
       "4    10.210705\n",
       "5     9.973100\n",
       "6     9.819679\n",
       "7     9.767153\n",
       "8     9.805342\n",
       "9     9.899670\n",
       "dtype: float64"
      ]
     },
     "execution_count": 10,
     "metadata": {},
     "output_type": "execute_result"
    }
   ],
   "source": [
    "res.predict(exog=dict(x1=x1n))"
   ]
  }
 ],
 "metadata": {
  "kernelspec": {
   "display_name": "Python 3",
   "language": "python",
   "name": "python3"
  },
  "language_info": {
   "codemirror_mode": {
    "name": "ipython",
    "version": 3
   },
   "file_extension": ".py",
   "mimetype": "text/x-python",
   "name": "python",
   "nbconvert_exporter": "python",
   "pygments_lexer": "ipython3",
   "version": "3.10.12"
  }
 },
 "nbformat": 4,
 "nbformat_minor": 4
}
