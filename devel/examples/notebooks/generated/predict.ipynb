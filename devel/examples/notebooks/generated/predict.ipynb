{
 "cells": [
  {
   "cell_type": "markdown",
   "metadata": {},
   "source": [
    "# Prediction (out of sample)"
   ]
  },
  {
   "cell_type": "code",
   "execution_count": 1,
   "metadata": {
    "execution": {
     "iopub.execute_input": "2025-01-20T16:20:11.745281Z",
     "iopub.status.busy": "2025-01-20T16:20:11.745056Z",
     "iopub.status.idle": "2025-01-20T16:20:13.575429Z",
     "shell.execute_reply": "2025-01-20T16:20:13.574722Z"
    }
   },
   "outputs": [],
   "source": [
    "%matplotlib inline"
   ]
  },
  {
   "cell_type": "code",
   "execution_count": 2,
   "metadata": {
    "execution": {
     "iopub.execute_input": "2025-01-20T16:20:13.579475Z",
     "iopub.status.busy": "2025-01-20T16:20:13.578418Z",
     "iopub.status.idle": "2025-01-20T16:20:17.335444Z",
     "shell.execute_reply": "2025-01-20T16:20:17.334727Z"
    }
   },
   "outputs": [],
   "source": [
    "import numpy as np\n",
    "import matplotlib.pyplot as plt\n",
    "\n",
    "import statsmodels.api as sm\n",
    "\n",
    "plt.rc(\"figure\", figsize=(16, 8))\n",
    "plt.rc(\"font\", size=14)"
   ]
  },
  {
   "cell_type": "markdown",
   "metadata": {},
   "source": [
    "## Artificial data"
   ]
  },
  {
   "cell_type": "code",
   "execution_count": 3,
   "metadata": {
    "execution": {
     "iopub.execute_input": "2025-01-20T16:20:17.338920Z",
     "iopub.status.busy": "2025-01-20T16:20:17.338515Z",
     "iopub.status.idle": "2025-01-20T16:20:17.352904Z",
     "shell.execute_reply": "2025-01-20T16:20:17.350234Z"
    }
   },
   "outputs": [],
   "source": [
    "nsample = 50\n",
    "sig = 0.25\n",
    "x1 = np.linspace(0, 20, nsample)\n",
    "X = np.column_stack((x1, np.sin(x1), (x1 - 5) ** 2))\n",
    "X = sm.add_constant(X)\n",
    "beta = [5.0, 0.5, 0.5, -0.02]\n",
    "y_true = np.dot(X, beta)\n",
    "y = y_true + sig * np.random.normal(size=nsample)"
   ]
  },
  {
   "cell_type": "markdown",
   "metadata": {},
   "source": [
    "## Estimation "
   ]
  },
  {
   "cell_type": "code",
   "execution_count": 4,
   "metadata": {
    "execution": {
     "iopub.execute_input": "2025-01-20T16:20:17.358867Z",
     "iopub.status.busy": "2025-01-20T16:20:17.357961Z",
     "iopub.status.idle": "2025-01-20T16:20:17.412233Z",
     "shell.execute_reply": "2025-01-20T16:20:17.411548Z"
    }
   },
   "outputs": [
    {
     "name": "stdout",
     "output_type": "stream",
     "text": [
      "                            OLS Regression Results                            \n",
      "==============================================================================\n",
      "Dep. Variable:                      y   R-squared:                       0.981\n",
      "Model:                            OLS   Adj. R-squared:                  0.979\n",
      "Method:                 Least Squares   F-statistic:                     776.8\n",
      "Date:                Mon, 20 Jan 2025   Prob (F-statistic):           2.15e-39\n",
      "Time:                        16:20:17   Log-Likelihood:                -2.1655\n",
      "No. Observations:                  50   AIC:                             12.33\n",
      "Df Residuals:                      46   BIC:                             19.98\n",
      "Df Model:                           3                                         \n",
      "Covariance Type:            nonrobust                                         \n",
      "==============================================================================\n",
      "                 coef    std err          t      P>|t|      [0.025      0.975]\n",
      "------------------------------------------------------------------------------\n",
      "const          5.1020      0.090     56.821      0.000       4.921       5.283\n",
      "x1             0.4891      0.014     35.318      0.000       0.461       0.517\n",
      "x2             0.4569      0.054      8.393      0.000       0.347       0.566\n",
      "x3            -0.0197      0.001    -16.181      0.000      -0.022      -0.017\n",
      "==============================================================================\n",
      "Omnibus:                        2.816   Durbin-Watson:                   2.018\n",
      "Prob(Omnibus):                  0.245   Jarque-Bera (JB):                1.860\n",
      "Skew:                           0.304   Prob(JB):                        0.395\n",
      "Kurtosis:                       3.724   Cond. No.                         221.\n",
      "==============================================================================\n",
      "\n",
      "Notes:\n",
      "[1] Standard Errors assume that the covariance matrix of the errors is correctly specified.\n"
     ]
    }
   ],
   "source": [
    "olsmod = sm.OLS(y, X)\n",
    "olsres = olsmod.fit()\n",
    "print(olsres.summary())"
   ]
  },
  {
   "cell_type": "markdown",
   "metadata": {},
   "source": [
    "## In-sample prediction"
   ]
  },
  {
   "cell_type": "code",
   "execution_count": 5,
   "metadata": {
    "execution": {
     "iopub.execute_input": "2025-01-20T16:20:17.415308Z",
     "iopub.status.busy": "2025-01-20T16:20:17.415068Z",
     "iopub.status.idle": "2025-01-20T16:20:17.435864Z",
     "shell.execute_reply": "2025-01-20T16:20:17.429717Z"
    }
   },
   "outputs": [
    {
     "name": "stdout",
     "output_type": "stream",
     "text": [
      "[ 4.61014615  5.06814923  5.48980127  5.85020169  6.13343636  6.33519232\n",
      "  6.46346636  6.53725115  6.58341485  6.63228668  6.71267396  6.84712916\n",
      "  7.04824454  7.31658334  7.64058718  7.99847512  8.36182217  8.70022948\n",
      "  8.98631872  9.20023033  9.33288634  9.38748187  9.3789602   9.33155761\n",
      "  9.27482142  9.23875548  9.24889059  9.32208989  9.46377826  9.66705107\n",
      "  9.91380856 10.17772958 10.42859609 10.63725791 10.78042199 10.8444794\n",
      " 10.82774125 10.74071613 10.60438365 10.44674748 10.29823446 10.18669556\n",
      " 10.13283001 10.14678453 10.2264862  10.35798307 10.5177364  10.67648804\n",
      " 10.80406743 10.87434854]\n"
     ]
    }
   ],
   "source": [
    "ypred = olsres.predict(X)\n",
    "print(ypred)"
   ]
  },
  {
   "cell_type": "markdown",
   "metadata": {},
   "source": [
    "## Create a new sample of explanatory variables Xnew, predict and plot"
   ]
  },
  {
   "cell_type": "code",
   "execution_count": 6,
   "metadata": {
    "execution": {
     "iopub.execute_input": "2025-01-20T16:20:17.439045Z",
     "iopub.status.busy": "2025-01-20T16:20:17.438538Z",
     "iopub.status.idle": "2025-01-20T16:20:17.456077Z",
     "shell.execute_reply": "2025-01-20T16:20:17.452637Z"
    }
   },
   "outputs": [
    {
     "name": "stdout",
     "output_type": "stream",
     "text": [
      "[10.85720127 10.71870713 10.47678398 10.17226437  9.85889827  9.59019325\n",
      "  9.40631393  9.32424828  9.33364839  9.39936401]\n"
     ]
    }
   ],
   "source": [
    "x1n = np.linspace(20.5, 25, 10)\n",
    "Xnew = np.column_stack((x1n, np.sin(x1n), (x1n - 5) ** 2))\n",
    "Xnew = sm.add_constant(Xnew)\n",
    "ynewpred = olsres.predict(Xnew)  # predict out of sample\n",
    "print(ynewpred)"
   ]
  },
  {
   "cell_type": "markdown",
   "metadata": {},
   "source": [
    "## Plot comparison"
   ]
  },
  {
   "cell_type": "code",
   "execution_count": 7,
   "metadata": {
    "execution": {
     "iopub.execute_input": "2025-01-20T16:20:17.461656Z",
     "iopub.status.busy": "2025-01-20T16:20:17.461392Z",
     "iopub.status.idle": "2025-01-20T16:20:18.190711Z",
     "shell.execute_reply": "2025-01-20T16:20:18.189941Z"
    }
   },
   "outputs": [
    {
     "data": {
      "text/plain": [
       "<matplotlib.legend.Legend at 0x7f34ebb05990>"
      ]
     },
     "execution_count": 7,
     "metadata": {},
     "output_type": "execute_result"
    },
    {
     "data": {
      "image/png": "[encoded data removed]",
      "text/plain": [
       "<Figure size 1600x800 with 1 Axes>"
      ]
     },
     "metadata": {},
     "output_type": "display_data"
    }
   ],
   "source": [
    "import matplotlib.pyplot as plt\n",
    "\n",
    "fig, ax = plt.subplots()\n",
    "ax.plot(x1, y, \"o\", label=\"Data\")\n",
    "ax.plot(x1, y_true, \"b-\", label=\"True\")\n",
    "ax.plot(np.hstack((x1, x1n)), np.hstack((ypred, ynewpred)), \"r\", label=\"OLS prediction\")\n",
    "ax.legend(loc=\"best\")"
   ]
  },
  {
   "cell_type": "markdown",
   "metadata": {},
   "source": [
    "## Predicting with Formulas"
   ]
  },
  {
   "cell_type": "markdown",
   "metadata": {},
   "source": [
    "Using formulas can make both estimation and prediction a lot easier"
   ]
  },
  {
   "cell_type": "code",
   "execution_count": 8,
   "metadata": {
    "execution": {
     "iopub.execute_input": "2025-01-20T16:20:18.197421Z",
     "iopub.status.busy": "2025-01-20T16:20:18.197173Z",
     "iopub.status.idle": "2025-01-20T16:20:18.218269Z",
     "shell.execute_reply": "2025-01-20T16:20:18.217593Z"
    }
   },
   "outputs": [],
   "source": [
    "from statsmodels.formula.api import ols\n",
    "\n",
    "data = {\"x1\": x1, \"y\": y}\n",
    "\n",
    "res = ols(\"y ~ x1 + np.sin(x1) + I((x1-5)**2)\", data=data).fit()"
   ]
  },
  {
   "cell_type": "markdown",
   "metadata": {},
   "source": [
    "We use the `I` to indicate use of the Identity transform. Ie., we do not want any expansion magic from using `**2`"
   ]
  },
  {
   "cell_type": "code",
   "execution_count": 9,
   "metadata": {
    "execution": {
     "iopub.execute_input": "2025-01-20T16:20:18.225643Z",
     "iopub.status.busy": "2025-01-20T16:20:18.225396Z",
     "iopub.status.idle": "2025-01-20T16:20:18.244310Z",
     "shell.execute_reply": "2025-01-20T16:20:18.243704Z"
    }
   },
   "outputs": [
    {
     "data": {
      "text/plain": [
       "Intercept           5.101978\n",
       "x1                  0.489087\n",
       "np.sin(x1)          0.456899\n",
       "I((x1 - 5) ** 2)   -0.019673\n",
       "dtype: float64"
      ]
     },
     "execution_count": 9,
     "metadata": {},
     "output_type": "execute_result"
    }
   ],
   "source": [
    "res.params"
   ]
  },
  {
   "cell_type": "markdown",
   "metadata": {},
   "source": [
    "Now we only have to pass the single variable and we get the transformed right-hand side variables automatically"
   ]
  },
  {
   "cell_type": "code",
   "execution_count": 10,
   "metadata": {
    "execution": {
     "iopub.execute_input": "2025-01-20T16:20:18.247401Z",
     "iopub.status.busy": "2025-01-20T16:20:18.247164Z",
     "iopub.status.idle": "2025-01-20T16:20:18.260995Z",
     "shell.execute_reply": "2025-01-20T16:20:18.260326Z"
    }
   },
   "outputs": [
    {
     "data": {
      "text/plain": [
       "0    10.857201\n",
       "1    10.718707\n",
       "2    10.476784\n",
       "3    10.172264\n",
       "4     9.858898\n",
       "5     9.590193\n",
       "6     9.406314\n",
       "7     9.324248\n",
       "8     9.333648\n",
       "9     9.399364\n",
       "dtype: float64"
      ]
     },
     "execution_count": 10,
     "metadata": {},
     "output_type": "execute_result"
    }
   ],
   "source": [
    "res.predict(exog=dict(x1=x1n))"
   ]
  }
 ],
 "metadata": {
  "kernelspec": {
   "display_name": "Python 3",
   "language": "python",
   "name": "python3"
  },
  "language_info": {
   "codemirror_mode": {
    "name": "ipython",
    "version": 3
   },
   "file_extension": ".py",
   "mimetype": "text/x-python",
   "name": "python",
   "nbconvert_exporter": "python",
   "pygments_lexer": "ipython3",
   "version": "3.10.16"
  }
 },
 "nbformat": 4,
 "nbformat_minor": 4
}
