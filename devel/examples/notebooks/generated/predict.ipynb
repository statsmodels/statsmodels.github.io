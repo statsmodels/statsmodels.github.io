{
 "cells": [
  {
   "cell_type": "markdown",
   "metadata": {},
   "source": [
    "# Prediction (out of sample)"
   ]
  },
  {
   "cell_type": "code",
   "execution_count": 1,
   "metadata": {
    "execution": {
     "iopub.execute_input": "2024-06-14T21:36:06.931161Z",
     "iopub.status.busy": "2024-06-14T21:36:06.930913Z",
     "iopub.status.idle": "2024-06-14T21:36:08.395080Z",
     "shell.execute_reply": "2024-06-14T21:36:08.394415Z"
    }
   },
   "outputs": [],
   "source": [
    "%matplotlib inline"
   ]
  },
  {
   "cell_type": "code",
   "execution_count": 2,
   "metadata": {
    "execution": {
     "iopub.execute_input": "2024-06-14T21:36:08.398895Z",
     "iopub.status.busy": "2024-06-14T21:36:08.398589Z",
     "iopub.status.idle": "2024-06-14T21:36:11.177866Z",
     "shell.execute_reply": "2024-06-14T21:36:11.169575Z"
    }
   },
   "outputs": [],
   "source": [
    "import numpy as np\n",
    "import matplotlib.pyplot as plt\n",
    "\n",
    "import statsmodels.api as sm\n",
    "\n",
    "plt.rc(\"figure\", figsize=(16, 8))\n",
    "plt.rc(\"font\", size=14)"
   ]
  },
  {
   "cell_type": "markdown",
   "metadata": {},
   "source": [
    "## Artificial data"
   ]
  },
  {
   "cell_type": "code",
   "execution_count": 3,
   "metadata": {
    "execution": {
     "iopub.execute_input": "2024-06-14T21:36:11.181935Z",
     "iopub.status.busy": "2024-06-14T21:36:11.181470Z",
     "iopub.status.idle": "2024-06-14T21:36:11.192954Z",
     "shell.execute_reply": "2024-06-14T21:36:11.191672Z"
    }
   },
   "outputs": [],
   "source": [
    "nsample = 50\n",
    "sig = 0.25\n",
    "x1 = np.linspace(0, 20, nsample)\n",
    "X = np.column_stack((x1, np.sin(x1), (x1 - 5) ** 2))\n",
    "X = sm.add_constant(X)\n",
    "beta = [5.0, 0.5, 0.5, -0.02]\n",
    "y_true = np.dot(X, beta)\n",
    "y = y_true + sig * np.random.normal(size=nsample)"
   ]
  },
  {
   "cell_type": "markdown",
   "metadata": {},
   "source": [
    "## Estimation "
   ]
  },
  {
   "cell_type": "code",
   "execution_count": 4,
   "metadata": {
    "execution": {
     "iopub.execute_input": "2024-06-14T21:36:11.196363Z",
     "iopub.status.busy": "2024-06-14T21:36:11.196058Z",
     "iopub.status.idle": "2024-06-14T21:36:11.242220Z",
     "shell.execute_reply": "2024-06-14T21:36:11.241559Z"
    }
   },
   "outputs": [
    {
     "name": "stdout",
     "output_type": "stream",
     "text": [
      "                            OLS Regression Results                            \n",
      "==============================================================================\n",
      "Dep. Variable:                      y   R-squared:                       0.984\n",
      "Model:                            OLS   Adj. R-squared:                  0.983\n",
      "Method:                 Least Squares   F-statistic:                     973.1\n",
      "Date:                Fri, 14 Jun 2024   Prob (F-statistic):           1.33e-41\n",
      "Time:                        21:36:11   Log-Likelihood:                 1.9987\n",
      "No. Observations:                  50   AIC:                             4.003\n",
      "Df Residuals:                      46   BIC:                             11.65\n",
      "Df Model:                           3                                         \n",
      "Covariance Type:            nonrobust                                         \n",
      "==============================================================================\n",
      "                 coef    std err          t      P>|t|      [0.025      0.975]\n",
      "------------------------------------------------------------------------------\n",
      "const          4.9686      0.083     60.142      0.000       4.802       5.135\n",
      "x1             0.5096      0.013     39.999      0.000       0.484       0.535\n",
      "x2             0.5077      0.050     10.135      0.000       0.407       0.608\n",
      "x3            -0.0210      0.001    -18.765      0.000      -0.023      -0.019\n",
      "==============================================================================\n",
      "Omnibus:                        0.417   Durbin-Watson:                   2.573\n",
      "Prob(Omnibus):                  0.812   Jarque-Bera (JB):                0.108\n",
      "Skew:                           0.107   Prob(JB):                        0.947\n",
      "Kurtosis:                       3.078   Cond. No.                         221.\n",
      "==============================================================================\n",
      "\n",
      "Notes:\n",
      "[1] Standard Errors assume that the covariance matrix of the errors is correctly specified.\n"
     ]
    }
   ],
   "source": [
    "olsmod = sm.OLS(y, X)\n",
    "olsres = olsmod.fit()\n",
    "print(olsres.summary())"
   ]
  },
  {
   "cell_type": "markdown",
   "metadata": {},
   "source": [
    "## In-sample prediction"
   ]
  },
  {
   "cell_type": "code",
   "execution_count": 5,
   "metadata": {
    "execution": {
     "iopub.execute_input": "2024-06-14T21:36:11.245249Z",
     "iopub.status.busy": "2024-06-14T21:36:11.244978Z",
     "iopub.status.idle": "2024-06-14T21:36:11.249271Z",
     "shell.execute_reply": "2024-06-14T21:36:11.248511Z"
    }
   },
   "outputs": [
    {
     "name": "stdout",
     "output_type": "stream",
     "text": [
      "[ 4.44383812  4.93554129  5.38714405  5.77097967  6.06936619  6.27751152\n",
      "  6.40430078  6.47083651  6.50697154  6.5464043   6.62114225  6.75624311\n",
      "  6.96569801  7.25013274  7.59670494  7.98121409  8.37207755  8.73551954\n",
      "  9.04112036  9.26681429  9.40251492  9.45177233  9.43118978  9.36769589\n",
      "  9.29412033  9.24379997  9.24510177  9.31676213  9.46480858  9.68156947\n",
      "  9.94693438 10.23165823 10.50216615 10.72606973 10.87748838 10.94130138\n",
      " 10.91563222 10.81215688 10.65418552 10.47283267 10.30190519 10.17234793\n",
      " 10.10715955 10.11761394 10.2014079  10.3430396  10.51635546 10.6888471\n",
      " 10.82699242 10.90176312]\n"
     ]
    }
   ],
   "source": [
    "ypred = olsres.predict(X)\n",
    "print(ypred)"
   ]
  },
  {
   "cell_type": "markdown",
   "metadata": {},
   "source": [
    "## Create a new sample of explanatory variables Xnew, predict and plot"
   ]
  },
  {
   "cell_type": "code",
   "execution_count": 6,
   "metadata": {
    "execution": {
     "iopub.execute_input": "2024-06-14T21:36:11.253155Z",
     "iopub.status.busy": "2024-06-14T21:36:11.252673Z",
     "iopub.status.idle": "2024-06-14T21:36:11.262173Z",
     "shell.execute_reply": "2024-06-14T21:36:11.261549Z"
    }
   },
   "outputs": [
    {
     "name": "stdout",
     "output_type": "stream",
     "text": [
      "[10.87904029 10.72192384 10.45032206 10.10960347  9.75948899  9.45943017\n",
      "  9.25405341  9.16223384  9.17247403  9.24571895]\n"
     ]
    }
   ],
   "source": [
    "x1n = np.linspace(20.5, 25, 10)\n",
    "Xnew = np.column_stack((x1n, np.sin(x1n), (x1n - 5) ** 2))\n",
    "Xnew = sm.add_constant(Xnew)\n",
    "ynewpred = olsres.predict(Xnew)  # predict out of sample\n",
    "print(ynewpred)"
   ]
  },
  {
   "cell_type": "markdown",
   "metadata": {},
   "source": [
    "## Plot comparison"
   ]
  },
  {
   "cell_type": "code",
   "execution_count": 7,
   "metadata": {
    "execution": {
     "iopub.execute_input": "2024-06-14T21:36:11.265640Z",
     "iopub.status.busy": "2024-06-14T21:36:11.265176Z",
     "iopub.status.idle": "2024-06-14T21:36:12.034315Z",
     "shell.execute_reply": "2024-06-14T21:36:12.033549Z"
    }
   },
   "outputs": [
    {
     "data": {
      "text/plain": [
       "<matplotlib.legend.Legend at 0x7fe0346cf6a0>"
      ]
     },
     "execution_count": 7,
     "metadata": {},
     "output_type": "execute_result"
    },
    {
     "data": {
      "image/png": "[encoded data removed]",
      "text/plain": [
       "<Figure size 1600x800 with 1 Axes>"
      ]
     },
     "metadata": {},
     "output_type": "display_data"
    }
   ],
   "source": [
    "import matplotlib.pyplot as plt\n",
    "\n",
    "fig, ax = plt.subplots()\n",
    "ax.plot(x1, y, \"o\", label=\"Data\")\n",
    "ax.plot(x1, y_true, \"b-\", label=\"True\")\n",
    "ax.plot(np.hstack((x1, x1n)), np.hstack((ypred, ynewpred)), \"r\", label=\"OLS prediction\")\n",
    "ax.legend(loc=\"best\")"
   ]
  },
  {
   "cell_type": "markdown",
   "metadata": {},
   "source": [
    "## Predicting with Formulas"
   ]
  },
  {
   "cell_type": "markdown",
   "metadata": {},
   "source": [
    "Using formulas can make both estimation and prediction a lot easier"
   ]
  },
  {
   "cell_type": "code",
   "execution_count": 8,
   "metadata": {
    "execution": {
     "iopub.execute_input": "2024-06-14T21:36:12.039276Z",
     "iopub.status.busy": "2024-06-14T21:36:12.037921Z",
     "iopub.status.idle": "2024-06-14T21:36:12.062409Z",
     "shell.execute_reply": "2024-06-14T21:36:12.061561Z"
    }
   },
   "outputs": [],
   "source": [
    "from statsmodels.formula.api import ols\n",
    "\n",
    "data = {\"x1\": x1, \"y\": y}\n",
    "\n",
    "res = ols(\"y ~ x1 + np.sin(x1) + I((x1-5)**2)\", data=data).fit()"
   ]
  },
  {
   "cell_type": "markdown",
   "metadata": {},
   "source": [
    "We use the `I` to indicate use of the Identity transform. Ie., we do not want any expansion magic from using `**2`"
   ]
  },
  {
   "cell_type": "code",
   "execution_count": 9,
   "metadata": {
    "execution": {
     "iopub.execute_input": "2024-06-14T21:36:12.067552Z",
     "iopub.status.busy": "2024-06-14T21:36:12.066334Z",
     "iopub.status.idle": "2024-06-14T21:36:12.082238Z",
     "shell.execute_reply": "2024-06-14T21:36:12.081559Z"
    }
   },
   "outputs": [
    {
     "data": {
      "text/plain": [
       "Intercept           4.968640\n",
       "x1                  0.509644\n",
       "np.sin(x1)          0.507655\n",
       "I((x1 - 5) ** 2)   -0.020992\n",
       "dtype: float64"
      ]
     },
     "execution_count": 9,
     "metadata": {},
     "output_type": "execute_result"
    }
   ],
   "source": [
    "res.params"
   ]
  },
  {
   "cell_type": "markdown",
   "metadata": {},
   "source": [
    "Now we only have to pass the single variable and we get the transformed right-hand side variables automatically"
   ]
  },
  {
   "cell_type": "code",
   "execution_count": 10,
   "metadata": {
    "execution": {
     "iopub.execute_input": "2024-06-14T21:36:12.086799Z",
     "iopub.status.busy": "2024-06-14T21:36:12.085652Z",
     "iopub.status.idle": "2024-06-14T21:36:12.106163Z",
     "shell.execute_reply": "2024-06-14T21:36:12.105544Z"
    }
   },
   "outputs": [
    {
     "data": {
      "text/plain": [
       "0    10.879040\n",
       "1    10.721924\n",
       "2    10.450322\n",
       "3    10.109603\n",
       "4     9.759489\n",
       "5     9.459430\n",
       "6     9.254053\n",
       "7     9.162234\n",
       "8     9.172474\n",
       "9     9.245719\n",
       "dtype: float64"
      ]
     },
     "execution_count": 10,
     "metadata": {},
     "output_type": "execute_result"
    }
   ],
   "source": [
    "res.predict(exog=dict(x1=x1n))"
   ]
  }
 ],
 "metadata": {
  "kernelspec": {
   "display_name": "Python 3",
   "language": "python",
   "name": "python3"
  },
  "language_info": {
   "codemirror_mode": {
    "name": "ipython",
    "version": 3
   },
   "file_extension": ".py",
   "mimetype": "text/x-python",
   "name": "python",
   "nbconvert_exporter": "python",
   "pygments_lexer": "ipython3",
   "version": "3.10.14"
  }
 },
 "nbformat": 4,
 "nbformat_minor": 4
}
