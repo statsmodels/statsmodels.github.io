{
 "cells": [
  {
   "cell_type": "markdown",
   "metadata": {},
   "source": [
    "# Prediction (out of sample)"
   ]
  },
  {
   "cell_type": "code",
   "execution_count": 1,
   "metadata": {
    "execution": {
     "iopub.execute_input": "2024-01-02T11:51:51.482547Z",
     "iopub.status.busy": "2024-01-02T11:51:51.482267Z",
     "iopub.status.idle": "2024-01-02T11:51:52.387171Z",
     "shell.execute_reply": "2024-01-02T11:51:52.386340Z"
    }
   },
   "outputs": [],
   "source": [
    "%matplotlib inline"
   ]
  },
  {
   "cell_type": "code",
   "execution_count": 2,
   "metadata": {
    "execution": {
     "iopub.execute_input": "2024-01-02T11:51:52.391550Z",
     "iopub.status.busy": "2024-01-02T11:51:52.390807Z",
     "iopub.status.idle": "2024-01-02T11:51:53.493648Z",
     "shell.execute_reply": "2024-01-02T11:51:53.492726Z"
    }
   },
   "outputs": [],
   "source": [
    "import numpy as np\n",
    "import matplotlib.pyplot as plt\n",
    "\n",
    "import statsmodels.api as sm\n",
    "\n",
    "plt.rc(\"figure\", figsize=(16, 8))\n",
    "plt.rc(\"font\", size=14)"
   ]
  },
  {
   "cell_type": "markdown",
   "metadata": {},
   "source": [
    "## Artificial data"
   ]
  },
  {
   "cell_type": "code",
   "execution_count": 3,
   "metadata": {
    "execution": {
     "iopub.execute_input": "2024-01-02T11:51:53.497904Z",
     "iopub.status.busy": "2024-01-02T11:51:53.497328Z",
     "iopub.status.idle": "2024-01-02T11:51:53.503216Z",
     "shell.execute_reply": "2024-01-02T11:51:53.502430Z"
    }
   },
   "outputs": [],
   "source": [
    "nsample = 50\n",
    "sig = 0.25\n",
    "x1 = np.linspace(0, 20, nsample)\n",
    "X = np.column_stack((x1, np.sin(x1), (x1 - 5) ** 2))\n",
    "X = sm.add_constant(X)\n",
    "beta = [5.0, 0.5, 0.5, -0.02]\n",
    "y_true = np.dot(X, beta)\n",
    "y = y_true + sig * np.random.normal(size=nsample)"
   ]
  },
  {
   "cell_type": "markdown",
   "metadata": {},
   "source": [
    "## Estimation "
   ]
  },
  {
   "cell_type": "code",
   "execution_count": 4,
   "metadata": {
    "execution": {
     "iopub.execute_input": "2024-01-02T11:51:53.506801Z",
     "iopub.status.busy": "2024-01-02T11:51:53.506343Z",
     "iopub.status.idle": "2024-01-02T11:51:53.530882Z",
     "shell.execute_reply": "2024-01-02T11:51:53.530215Z"
    }
   },
   "outputs": [
    {
     "name": "stdout",
     "output_type": "stream",
     "text": [
      "                            OLS Regression Results                            \n",
      "==============================================================================\n",
      "Dep. Variable:                      y   R-squared:                       0.985\n",
      "Model:                            OLS   Adj. R-squared:                  0.984\n",
      "Method:                 Least Squares   F-statistic:                     981.4\n",
      "Date:                Tue, 02 Jan 2024   Prob (F-statistic):           1.10e-41\n",
      "Time:                        11:51:53   Log-Likelihood:                0.20548\n",
      "No. Observations:                  50   AIC:                             7.589\n",
      "Df Residuals:                      46   BIC:                             15.24\n",
      "Df Model:                           3                                         \n",
      "Covariance Type:            nonrobust                                         \n",
      "==============================================================================\n",
      "                 coef    std err          t      P>|t|      [0.025      0.975]\n",
      "------------------------------------------------------------------------------\n",
      "const          4.7951      0.086     55.997      0.000       4.623       4.967\n",
      "x1             0.5233      0.013     39.627      0.000       0.497       0.550\n",
      "x2             0.5568      0.052     10.724      0.000       0.452       0.661\n",
      "x3            -0.0210      0.001    -18.100      0.000      -0.023      -0.019\n",
      "==============================================================================\n",
      "Omnibus:                        3.296   Durbin-Watson:                   2.350\n",
      "Prob(Omnibus):                  0.192   Jarque-Bera (JB):                2.266\n",
      "Skew:                           0.387   Prob(JB):                        0.322\n",
      "Kurtosis:                       3.700   Cond. No.                         221.\n",
      "==============================================================================\n",
      "\n",
      "Notes:\n",
      "[1] Standard Errors assume that the covariance matrix of the errors is correctly specified.\n"
     ]
    }
   ],
   "source": [
    "olsmod = sm.OLS(y, X)\n",
    "olsres = olsmod.fit()\n",
    "print(olsres.summary())"
   ]
  },
  {
   "cell_type": "markdown",
   "metadata": {},
   "source": [
    "## In-sample prediction"
   ]
  },
  {
   "cell_type": "code",
   "execution_count": 5,
   "metadata": {
    "execution": {
     "iopub.execute_input": "2024-01-02T11:51:53.589573Z",
     "iopub.status.busy": "2024-01-02T11:51:53.588972Z",
     "iopub.status.idle": "2024-01-02T11:51:53.593956Z",
     "shell.execute_reply": "2024-01-02T11:51:53.593224Z"
    }
   },
   "outputs": [
    {
     "name": "stdout",
     "output_type": "stream",
     "text": [
      "[ 4.2704079   4.78718163  5.26065297  5.66047822  5.96726454  6.17575619\n",
      "  6.29569798  6.35023428  6.37210643  6.39827344  6.46383972  6.59628756\n",
      "  6.81096181  7.10854882  7.47496363  7.88366414  8.30001183  8.68696285\n",
      "  9.01115417  9.24838503  9.38759309  9.4326719   9.40183126  9.32460531\n",
      "  9.23700025  9.17557856  9.17145193  9.24516964  9.40334244  9.63755639\n",
      "  9.92575522 10.23586416 10.53105971 10.77581965 10.94175921 11.01229464\n",
      " 10.98536786 10.8737846  10.70311044 10.5074705  10.32394271 10.18646608\n",
      " 10.12026457 10.1377029  10.23625503 10.39891919 10.59701125 10.79487739\n",
      " 10.95575197 11.047798  ]\n"
     ]
    }
   ],
   "source": [
    "ypred = olsres.predict(X)\n",
    "print(ypred)"
   ]
  },
  {
   "cell_type": "markdown",
   "metadata": {},
   "source": [
    "## Create a new sample of explanatory variables Xnew, predict and plot"
   ]
  },
  {
   "cell_type": "code",
   "execution_count": 6,
   "metadata": {
    "execution": {
     "iopub.execute_input": "2024-01-02T11:51:53.597546Z",
     "iopub.status.busy": "2024-01-02T11:51:53.596913Z",
     "iopub.status.idle": "2024-01-02T11:51:53.602505Z",
     "shell.execute_reply": "2024-01-02T11:51:53.601825Z"
    }
   },
   "outputs": [
    {
     "name": "stdout",
     "output_type": "stream",
     "text": [
      "[11.03610044 10.87802311 10.59540061 10.23799121  9.87129427  9.56051377\n",
      "  9.35459405  9.27423655  9.30683138  9.40954465]\n"
     ]
    }
   ],
   "source": [
    "x1n = np.linspace(20.5, 25, 10)\n",
    "Xnew = np.column_stack((x1n, np.sin(x1n), (x1n - 5) ** 2))\n",
    "Xnew = sm.add_constant(Xnew)\n",
    "ynewpred = olsres.predict(Xnew)  # predict out of sample\n",
    "print(ynewpred)"
   ]
  },
  {
   "cell_type": "markdown",
   "metadata": {},
   "source": [
    "## Plot comparison"
   ]
  },
  {
   "cell_type": "code",
   "execution_count": 7,
   "metadata": {
    "execution": {
     "iopub.execute_input": "2024-01-02T11:51:53.605336Z",
     "iopub.status.busy": "2024-01-02T11:51:53.604927Z",
     "iopub.status.idle": "2024-01-02T11:51:53.916349Z",
     "shell.execute_reply": "2024-01-02T11:51:53.915665Z"
    }
   },
   "outputs": [
    {
     "data": {
      "text/plain": [
       "<matplotlib.legend.Legend at 0x7f3da4d26500>"
      ]
     },
     "execution_count": 7,
     "metadata": {},
     "output_type": "execute_result"
    },
    {
     "data": {
      "image/png": "[encoded data removed]",
      "text/plain": [
       "<Figure size 1600x800 with 1 Axes>"
      ]
     },
     "metadata": {},
     "output_type": "display_data"
    }
   ],
   "source": [
    "import matplotlib.pyplot as plt\n",
    "\n",
    "fig, ax = plt.subplots()\n",
    "ax.plot(x1, y, \"o\", label=\"Data\")\n",
    "ax.plot(x1, y_true, \"b-\", label=\"True\")\n",
    "ax.plot(np.hstack((x1, x1n)), np.hstack((ypred, ynewpred)), \"r\", label=\"OLS prediction\")\n",
    "ax.legend(loc=\"best\")"
   ]
  },
  {
   "cell_type": "markdown",
   "metadata": {},
   "source": [
    "## Predicting with Formulas"
   ]
  },
  {
   "cell_type": "markdown",
   "metadata": {},
   "source": [
    "Using formulas can make both estimation and prediction a lot easier"
   ]
  },
  {
   "cell_type": "code",
   "execution_count": 8,
   "metadata": {
    "execution": {
     "iopub.execute_input": "2024-01-02T11:51:53.919864Z",
     "iopub.status.busy": "2024-01-02T11:51:53.919571Z",
     "iopub.status.idle": "2024-01-02T11:51:53.931766Z",
     "shell.execute_reply": "2024-01-02T11:51:53.930983Z"
    }
   },
   "outputs": [],
   "source": [
    "from statsmodels.formula.api import ols\n",
    "\n",
    "data = {\"x1\": x1, \"y\": y}\n",
    "\n",
    "res = ols(\"y ~ x1 + np.sin(x1) + I((x1-5)**2)\", data=data).fit()"
   ]
  },
  {
   "cell_type": "markdown",
   "metadata": {},
   "source": [
    "We use the `I` to indicate use of the Identity transform. Ie., we do not want any expansion magic from using `**2`"
   ]
  },
  {
   "cell_type": "code",
   "execution_count": 9,
   "metadata": {
    "execution": {
     "iopub.execute_input": "2024-01-02T11:51:53.935855Z",
     "iopub.status.busy": "2024-01-02T11:51:53.935405Z",
     "iopub.status.idle": "2024-01-02T11:51:53.942148Z",
     "shell.execute_reply": "2024-01-02T11:51:53.941412Z"
    }
   },
   "outputs": [
    {
     "data": {
      "text/plain": [
       "Intercept           4.795114\n",
       "x1                  0.523337\n",
       "np.sin(x1)          0.556774\n",
       "I((x1 - 5) ** 2)   -0.020988\n",
       "dtype: float64"
      ]
     },
     "execution_count": 9,
     "metadata": {},
     "output_type": "execute_result"
    }
   ],
   "source": [
    "res.params"
   ]
  },
  {
   "cell_type": "markdown",
   "metadata": {},
   "source": [
    "Now we only have to pass the single variable and we get the transformed right-hand side variables automatically"
   ]
  },
  {
   "cell_type": "code",
   "execution_count": 10,
   "metadata": {
    "execution": {
     "iopub.execute_input": "2024-01-02T11:51:53.945131Z",
     "iopub.status.busy": "2024-01-02T11:51:53.944700Z",
     "iopub.status.idle": "2024-01-02T11:51:53.952245Z",
     "shell.execute_reply": "2024-01-02T11:51:53.951436Z"
    }
   },
   "outputs": [
    {
     "data": {
      "text/plain": [
       "0    11.036100\n",
       "1    10.878023\n",
       "2    10.595401\n",
       "3    10.237991\n",
       "4     9.871294\n",
       "5     9.560514\n",
       "6     9.354594\n",
       "7     9.274237\n",
       "8     9.306831\n",
       "9     9.409545\n",
       "dtype: float64"
      ]
     },
     "execution_count": 10,
     "metadata": {},
     "output_type": "execute_result"
    }
   ],
   "source": [
    "res.predict(exog=dict(x1=x1n))"
   ]
  }
 ],
 "metadata": {
  "kernelspec": {
   "display_name": "Python 3",
   "language": "python",
   "name": "python3"
  },
  "language_info": {
   "codemirror_mode": {
    "name": "ipython",
    "version": 3
   },
   "file_extension": ".py",
   "mimetype": "text/x-python",
   "name": "python",
   "nbconvert_exporter": "python",
   "pygments_lexer": "ipython3",
   "version": "3.10.13"
  }
 },
 "nbformat": 4,
 "nbformat_minor": 4
}
