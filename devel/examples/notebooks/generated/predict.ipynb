{
 "cells": [
  {
   "cell_type": "markdown",
   "metadata": {},
   "source": [
    "# Prediction (out of sample)"
   ]
  },
  {
   "cell_type": "code",
   "execution_count": 1,
   "metadata": {
    "execution": {
     "iopub.execute_input": "2024-04-08T12:52:28.380243Z",
     "iopub.status.busy": "2024-04-08T12:52:28.379951Z",
     "iopub.status.idle": "2024-04-08T12:52:29.588795Z",
     "shell.execute_reply": "2024-04-08T12:52:29.588071Z"
    }
   },
   "outputs": [],
   "source": [
    "%matplotlib inline"
   ]
  },
  {
   "cell_type": "code",
   "execution_count": 2,
   "metadata": {
    "execution": {
     "iopub.execute_input": "2024-04-08T12:52:29.597260Z",
     "iopub.status.busy": "2024-04-08T12:52:29.596581Z",
     "iopub.status.idle": "2024-04-08T12:52:31.856880Z",
     "shell.execute_reply": "2024-04-08T12:52:31.856080Z"
    }
   },
   "outputs": [],
   "source": [
    "import numpy as np\n",
    "import matplotlib.pyplot as plt\n",
    "\n",
    "import statsmodels.api as sm\n",
    "\n",
    "plt.rc(\"figure\", figsize=(16, 8))\n",
    "plt.rc(\"font\", size=14)"
   ]
  },
  {
   "cell_type": "markdown",
   "metadata": {},
   "source": [
    "## Artificial data"
   ]
  },
  {
   "cell_type": "code",
   "execution_count": 3,
   "metadata": {
    "execution": {
     "iopub.execute_input": "2024-04-08T12:52:31.860419Z",
     "iopub.status.busy": "2024-04-08T12:52:31.860071Z",
     "iopub.status.idle": "2024-04-08T12:52:31.865356Z",
     "shell.execute_reply": "2024-04-08T12:52:31.864721Z"
    }
   },
   "outputs": [],
   "source": [
    "nsample = 50\n",
    "sig = 0.25\n",
    "x1 = np.linspace(0, 20, nsample)\n",
    "X = np.column_stack((x1, np.sin(x1), (x1 - 5) ** 2))\n",
    "X = sm.add_constant(X)\n",
    "beta = [5.0, 0.5, 0.5, -0.02]\n",
    "y_true = np.dot(X, beta)\n",
    "y = y_true + sig * np.random.normal(size=nsample)"
   ]
  },
  {
   "cell_type": "markdown",
   "metadata": {},
   "source": [
    "## Estimation "
   ]
  },
  {
   "cell_type": "code",
   "execution_count": 4,
   "metadata": {
    "execution": {
     "iopub.execute_input": "2024-04-08T12:52:31.868462Z",
     "iopub.status.busy": "2024-04-08T12:52:31.868069Z",
     "iopub.status.idle": "2024-04-08T12:52:31.895254Z",
     "shell.execute_reply": "2024-04-08T12:52:31.894681Z"
    }
   },
   "outputs": [
    {
     "name": "stdout",
     "output_type": "stream",
     "text": [
      "                            OLS Regression Results                            \n",
      "==============================================================================\n",
      "Dep. Variable:                      y   R-squared:                       0.981\n",
      "Model:                            OLS   Adj. R-squared:                  0.980\n",
      "Method:                 Least Squares   F-statistic:                     801.5\n",
      "Date:                Mon, 08 Apr 2024   Prob (F-statistic):           1.06e-39\n",
      "Time:                        12:52:31   Log-Likelihood:                -2.4830\n",
      "No. Observations:                  50   AIC:                             12.97\n",
      "Df Residuals:                      46   BIC:                             20.61\n",
      "Df Model:                           3                                         \n",
      "Covariance Type:            nonrobust                                         \n",
      "==============================================================================\n",
      "                 coef    std err          t      P>|t|      [0.025      0.975]\n",
      "------------------------------------------------------------------------------\n",
      "const          5.0220      0.090     55.576      0.000       4.840       5.204\n",
      "x1             0.5036      0.014     36.133      0.000       0.475       0.532\n",
      "x2             0.5401      0.055      9.859      0.000       0.430       0.650\n",
      "x3            -0.0206      0.001    -16.803      0.000      -0.023      -0.018\n",
      "==============================================================================\n",
      "Omnibus:                        0.302   Durbin-Watson:                   1.888\n",
      "Prob(Omnibus):                  0.860   Jarque-Bera (JB):                0.127\n",
      "Skew:                          -0.123   Prob(JB):                        0.939\n",
      "Kurtosis:                       2.977   Cond. No.                         221.\n",
      "==============================================================================\n",
      "\n",
      "Notes:\n",
      "[1] Standard Errors assume that the covariance matrix of the errors is correctly specified.\n"
     ]
    }
   ],
   "source": [
    "olsmod = sm.OLS(y, X)\n",
    "olsres = olsmod.fit()\n",
    "print(olsres.summary())"
   ]
  },
  {
   "cell_type": "markdown",
   "metadata": {},
   "source": [
    "## In-sample prediction"
   ]
  },
  {
   "cell_type": "code",
   "execution_count": 5,
   "metadata": {
    "execution": {
     "iopub.execute_input": "2024-04-08T12:52:31.899923Z",
     "iopub.status.busy": "2024-04-08T12:52:31.898695Z",
     "iopub.status.idle": "2024-04-08T12:52:31.911019Z",
     "shell.execute_reply": "2024-04-08T12:52:31.910408Z"
    }
   },
   "outputs": [
    {
     "name": "stdout",
     "output_type": "stream",
     "text": [
      "[ 4.50798074  5.00839223  5.46673021  5.85355891  6.15006578  6.35115231\n",
      "  6.46627176  6.51787596  6.53772657  6.56167672  6.62378044  6.75069769\n",
      "  6.95731418  7.24429572  7.5979788   7.9926155   8.39460376  8.76800815\n",
      "  9.08046391  9.30849442  9.44136834  9.48286273  9.45064249  9.37335808\n",
      "  9.28593832  9.22385166  9.21727887  9.28615438  9.43689113  9.66132691\n",
      "  9.93806545 10.2359917  10.51938399 10.75378298 10.91165323 10.97690722\n",
      " 10.94754843 10.83599943 10.66706084 10.47383666 10.29229542 10.1553606\n",
      " 10.08750141 10.10071259 10.19254369 10.34650167 10.53476066 10.72273369\n",
      " 10.87475521 10.95994085]\n"
     ]
    }
   ],
   "source": [
    "ypred = olsres.predict(X)\n",
    "print(ypred)"
   ]
  },
  {
   "cell_type": "markdown",
   "metadata": {},
   "source": [
    "## Create a new sample of explanatory variables Xnew, predict and plot"
   ]
  },
  {
   "cell_type": "code",
   "execution_count": 6,
   "metadata": {
    "execution": {
     "iopub.execute_input": "2024-04-08T12:52:31.915136Z",
     "iopub.status.busy": "2024-04-08T12:52:31.914089Z",
     "iopub.status.idle": "2024-04-08T12:52:31.920962Z",
     "shell.execute_reply": "2024-04-08T12:52:31.920400Z"
    }
   },
   "outputs": [
    {
     "name": "stdout",
     "output_type": "stream",
     "text": [
      "[10.94347215 10.78490338 10.5054158  10.15327882  9.79203196  9.48492815\n",
      "  9.27944725  9.19567127  9.22136763  9.31498409]\n"
     ]
    }
   ],
   "source": [
    "x1n = np.linspace(20.5, 25, 10)\n",
    "Xnew = np.column_stack((x1n, np.sin(x1n), (x1n - 5) ** 2))\n",
    "Xnew = sm.add_constant(Xnew)\n",
    "ynewpred = olsres.predict(Xnew)  # predict out of sample\n",
    "print(ynewpred)"
   ]
  },
  {
   "cell_type": "markdown",
   "metadata": {},
   "source": [
    "## Plot comparison"
   ]
  },
  {
   "cell_type": "code",
   "execution_count": 7,
   "metadata": {
    "execution": {
     "iopub.execute_input": "2024-04-08T12:52:31.925027Z",
     "iopub.status.busy": "2024-04-08T12:52:31.923863Z",
     "iopub.status.idle": "2024-04-08T12:52:32.605554Z",
     "shell.execute_reply": "2024-04-08T12:52:32.604891Z"
    }
   },
   "outputs": [
    {
     "data": {
      "text/plain": [
       "<matplotlib.legend.Legend at 0x7fef98059300>"
      ]
     },
     "execution_count": 7,
     "metadata": {},
     "output_type": "execute_result"
    },
    {
     "data": {
      "image/png": "[encoded data removed]",
      "text/plain": [
       "<Figure size 1600x800 with 1 Axes>"
      ]
     },
     "metadata": {},
     "output_type": "display_data"
    }
   ],
   "source": [
    "import matplotlib.pyplot as plt\n",
    "\n",
    "fig, ax = plt.subplots()\n",
    "ax.plot(x1, y, \"o\", label=\"Data\")\n",
    "ax.plot(x1, y_true, \"b-\", label=\"True\")\n",
    "ax.plot(np.hstack((x1, x1n)), np.hstack((ypred, ynewpred)), \"r\", label=\"OLS prediction\")\n",
    "ax.legend(loc=\"best\")"
   ]
  },
  {
   "cell_type": "markdown",
   "metadata": {},
   "source": [
    "## Predicting with Formulas"
   ]
  },
  {
   "cell_type": "markdown",
   "metadata": {},
   "source": [
    "Using formulas can make both estimation and prediction a lot easier"
   ]
  },
  {
   "cell_type": "code",
   "execution_count": 8,
   "metadata": {
    "execution": {
     "iopub.execute_input": "2024-04-08T12:52:32.609024Z",
     "iopub.status.busy": "2024-04-08T12:52:32.608707Z",
     "iopub.status.idle": "2024-04-08T12:52:32.624697Z",
     "shell.execute_reply": "2024-04-08T12:52:32.624052Z"
    }
   },
   "outputs": [],
   "source": [
    "from statsmodels.formula.api import ols\n",
    "\n",
    "data = {\"x1\": x1, \"y\": y}\n",
    "\n",
    "res = ols(\"y ~ x1 + np.sin(x1) + I((x1-5)**2)\", data=data).fit()"
   ]
  },
  {
   "cell_type": "markdown",
   "metadata": {},
   "source": [
    "We use the `I` to indicate use of the Identity transform. Ie., we do not want any expansion magic from using `**2`"
   ]
  },
  {
   "cell_type": "code",
   "execution_count": 9,
   "metadata": {
    "execution": {
     "iopub.execute_input": "2024-04-08T12:52:32.629105Z",
     "iopub.status.busy": "2024-04-08T12:52:32.627978Z",
     "iopub.status.idle": "2024-04-08T12:52:32.644676Z",
     "shell.execute_reply": "2024-04-08T12:52:32.644050Z"
    }
   },
   "outputs": [
    {
     "data": {
      "text/plain": [
       "Intercept           5.021999\n",
       "x1                  0.503551\n",
       "np.sin(x1)          0.540115\n",
       "I((x1 - 5) ** 2)   -0.020561\n",
       "dtype: float64"
      ]
     },
     "execution_count": 9,
     "metadata": {},
     "output_type": "execute_result"
    }
   ],
   "source": [
    "res.params"
   ]
  },
  {
   "cell_type": "markdown",
   "metadata": {},
   "source": [
    "Now we only have to pass the single variable and we get the transformed right-hand side variables automatically"
   ]
  },
  {
   "cell_type": "code",
   "execution_count": 10,
   "metadata": {
    "execution": {
     "iopub.execute_input": "2024-04-08T12:52:32.648853Z",
     "iopub.status.busy": "2024-04-08T12:52:32.647783Z",
     "iopub.status.idle": "2024-04-08T12:52:32.656516Z",
     "shell.execute_reply": "2024-04-08T12:52:32.655807Z"
    }
   },
   "outputs": [
    {
     "data": {
      "text/plain": [
       "0    10.943472\n",
       "1    10.784903\n",
       "2    10.505416\n",
       "3    10.153279\n",
       "4     9.792032\n",
       "5     9.484928\n",
       "6     9.279447\n",
       "7     9.195671\n",
       "8     9.221368\n",
       "9     9.314984\n",
       "dtype: float64"
      ]
     },
     "execution_count": 10,
     "metadata": {},
     "output_type": "execute_result"
    }
   ],
   "source": [
    "res.predict(exog=dict(x1=x1n))"
   ]
  }
 ],
 "metadata": {
  "kernelspec": {
   "display_name": "Python 3",
   "language": "python",
   "name": "python3"
  },
  "language_info": {
   "codemirror_mode": {
    "name": "ipython",
    "version": 3
   },
   "file_extension": ".py",
   "mimetype": "text/x-python",
   "name": "python",
   "nbconvert_exporter": "python",
   "pygments_lexer": "ipython3",
   "version": "3.10.14"
  }
 },
 "nbformat": 4,
 "nbformat_minor": 4
}
