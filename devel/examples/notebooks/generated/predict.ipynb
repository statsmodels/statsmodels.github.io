{
 "cells": [
  {
   "cell_type": "markdown",
   "metadata": {},
   "source": [
    "# Prediction (out of sample)"
   ]
  },
  {
   "cell_type": "code",
   "execution_count": 1,
   "metadata": {
    "execution": {
     "iopub.execute_input": "2025-06-14T19:22:42.058370Z",
     "iopub.status.busy": "2025-06-14T19:22:42.058155Z",
     "iopub.status.idle": "2025-06-14T19:22:43.814486Z",
     "shell.execute_reply": "2025-06-14T19:22:43.805434Z"
    }
   },
   "outputs": [],
   "source": [
    "%matplotlib inline"
   ]
  },
  {
   "cell_type": "code",
   "execution_count": 2,
   "metadata": {
    "execution": {
     "iopub.execute_input": "2025-06-14T19:22:43.824645Z",
     "iopub.status.busy": "2025-06-14T19:22:43.824333Z",
     "iopub.status.idle": "2025-06-14T19:22:47.090966Z",
     "shell.execute_reply": "2025-06-14T19:22:47.089315Z"
    }
   },
   "outputs": [],
   "source": [
    "import numpy as np\n",
    "import matplotlib.pyplot as plt\n",
    "\n",
    "import statsmodels.api as sm\n",
    "\n",
    "plt.rc(\"figure\", figsize=(16, 8))\n",
    "plt.rc(\"font\", size=14)"
   ]
  },
  {
   "cell_type": "markdown",
   "metadata": {},
   "source": [
    "## Artificial data"
   ]
  },
  {
   "cell_type": "code",
   "execution_count": 3,
   "metadata": {
    "execution": {
     "iopub.execute_input": "2025-06-14T19:22:47.096235Z",
     "iopub.status.busy": "2025-06-14T19:22:47.095908Z",
     "iopub.status.idle": "2025-06-14T19:22:47.105971Z",
     "shell.execute_reply": "2025-06-14T19:22:47.105380Z"
    }
   },
   "outputs": [],
   "source": [
    "nsample = 50\n",
    "sig = 0.25\n",
    "x1 = np.linspace(0, 20, nsample)\n",
    "X = np.column_stack((x1, np.sin(x1), (x1 - 5) ** 2))\n",
    "X = sm.add_constant(X)\n",
    "beta = [5.0, 0.5, 0.5, -0.02]\n",
    "y_true = np.dot(X, beta)\n",
    "y = y_true + sig * np.random.normal(size=nsample)"
   ]
  },
  {
   "cell_type": "markdown",
   "metadata": {},
   "source": [
    "## Estimation "
   ]
  },
  {
   "cell_type": "code",
   "execution_count": 4,
   "metadata": {
    "execution": {
     "iopub.execute_input": "2025-06-14T19:22:47.110257Z",
     "iopub.status.busy": "2025-06-14T19:22:47.109794Z",
     "iopub.status.idle": "2025-06-14T19:22:47.145817Z",
     "shell.execute_reply": "2025-06-14T19:22:47.145216Z"
    }
   },
   "outputs": [
    {
     "name": "stdout",
     "output_type": "stream",
     "text": [
      "                            OLS Regression Results                            \n",
      "==============================================================================\n",
      "Dep. Variable:                      y   R-squared:                       0.981\n",
      "Model:                            OLS   Adj. R-squared:                  0.980\n",
      "Method:                 Least Squares   F-statistic:                     794.9\n",
      "Date:                Sat, 14 Jun 2025   Prob (F-statistic):           1.28e-39\n",
      "Time:                        19:22:47   Log-Likelihood:                -2.5700\n",
      "No. Observations:                  50   AIC:                             13.14\n",
      "Df Residuals:                      46   BIC:                             20.79\n",
      "Df Model:                           3                                         \n",
      "Covariance Type:            nonrobust                                         \n",
      "==============================================================================\n",
      "                 coef    std err          t      P>|t|      [0.025      0.975]\n",
      "------------------------------------------------------------------------------\n",
      "const          5.0041      0.091     55.282      0.000       4.822       5.186\n",
      "x1             0.4986      0.014     35.716      0.000       0.471       0.527\n",
      "x2             0.5403      0.055      9.845      0.000       0.430       0.651\n",
      "x3            -0.0201      0.001    -16.366      0.000      -0.023      -0.018\n",
      "==============================================================================\n",
      "Omnibus:                        0.269   Durbin-Watson:                   1.678\n",
      "Prob(Omnibus):                  0.874   Jarque-Bera (JB):                0.433\n",
      "Skew:                           0.138   Prob(JB):                        0.805\n",
      "Kurtosis:                       2.637   Cond. No.                         221.\n",
      "==============================================================================\n",
      "\n",
      "Notes:\n",
      "[1] Standard Errors assume that the covariance matrix of the errors is correctly specified.\n"
     ]
    }
   ],
   "source": [
    "olsmod = sm.OLS(y, X)\n",
    "olsres = olsmod.fit()\n",
    "print(olsres.summary())"
   ]
  },
  {
   "cell_type": "markdown",
   "metadata": {},
   "source": [
    "## In-sample prediction"
   ]
  },
  {
   "cell_type": "code",
   "execution_count": 5,
   "metadata": {
    "execution": {
     "iopub.execute_input": "2025-06-14T19:22:47.147741Z",
     "iopub.status.busy": "2025-06-14T19:22:47.147494Z",
     "iopub.status.idle": "2025-06-14T19:22:47.164052Z",
     "shell.execute_reply": "2025-06-14T19:22:47.163470Z"
    }
   },
   "outputs": [
    {
     "name": "stdout",
     "output_type": "stream",
     "text": [
      "[ 4.50262414  4.99913583  5.45372803  5.8369542   6.12999491  6.32774982\n",
      "  6.43967563  6.48823236  6.50519327  6.52642459  6.58599278  6.71056753\n",
      "  6.91503999  7.20007621  7.5520077   7.94507712  8.34567017  8.71783826\n",
      "  9.02920484  9.25628471  9.38834261  9.42915699  9.39639919  9.31873013\n",
      "  9.23109137  9.16896435  9.16254083  9.23176253  9.38304472  9.60822222\n",
      "  9.88589095 10.18492449 10.46958813 10.70540995 10.86484446 10.93179825\n",
      " 10.90427409 10.79469907 10.62788287 10.43694159 10.25785687 10.12356423\n",
      " 10.05854181 10.07478873 10.16985365 10.32723749 10.51910424 10.7108543\n",
      " 10.86680908 10.95607294]\n"
     ]
    }
   ],
   "source": [
    "ypred = olsres.predict(X)\n",
    "print(ypred)"
   ]
  },
  {
   "cell_type": "markdown",
   "metadata": {},
   "source": [
    "## Create a new sample of explanatory variables Xnew, predict and plot"
   ]
  },
  {
   "cell_type": "code",
   "execution_count": 6,
   "metadata": {
    "execution": {
     "iopub.execute_input": "2025-06-14T19:22:47.166141Z",
     "iopub.status.busy": "2025-06-14T19:22:47.165918Z",
     "iopub.status.idle": "2025-06-14T19:22:47.191381Z",
     "shell.execute_reply": "2025-06-14T19:22:47.186044Z"
    }
   },
   "outputs": [
    {
     "name": "stdout",
     "output_type": "stream",
     "text": [
      "[10.94478676 10.79160279 10.51771002 10.17139547  9.81622187  9.51546525\n",
      "  9.3166228   9.23978387  9.2727114   9.373838  ]\n"
     ]
    }
   ],
   "source": [
    "x1n = np.linspace(20.5, 25, 10)\n",
    "Xnew = np.column_stack((x1n, np.sin(x1n), (x1n - 5) ** 2))\n",
    "Xnew = sm.add_constant(Xnew)\n",
    "ynewpred = olsres.predict(Xnew)  # predict out of sample\n",
    "print(ynewpred)"
   ]
  },
  {
   "cell_type": "markdown",
   "metadata": {},
   "source": [
    "## Plot comparison"
   ]
  },
  {
   "cell_type": "code",
   "execution_count": 7,
   "metadata": {
    "execution": {
     "iopub.execute_input": "2025-06-14T19:22:47.197026Z",
     "iopub.status.busy": "2025-06-14T19:22:47.196798Z",
     "iopub.status.idle": "2025-06-14T19:22:47.861153Z",
     "shell.execute_reply": "2025-06-14T19:22:47.860473Z"
    }
   },
   "outputs": [
    {
     "data": {
      "text/plain": [
       "<matplotlib.legend.Legend at 0x7fede0f724d0>"
      ]
     },
     "execution_count": 7,
     "metadata": {},
     "output_type": "execute_result"
    },
    {
     "data": {
      "image/png": "[encoded data removed]",
      "text/plain": [
       "<Figure size 1600x800 with 1 Axes>"
      ]
     },
     "metadata": {},
     "output_type": "display_data"
    }
   ],
   "source": [
    "import matplotlib.pyplot as plt\n",
    "\n",
    "fig, ax = plt.subplots()\n",
    "ax.plot(x1, y, \"o\", label=\"Data\")\n",
    "ax.plot(x1, y_true, \"b-\", label=\"True\")\n",
    "ax.plot(np.hstack((x1, x1n)), np.hstack((ypred, ynewpred)), \"r\", label=\"OLS prediction\")\n",
    "ax.legend(loc=\"best\")"
   ]
  },
  {
   "cell_type": "markdown",
   "metadata": {},
   "source": [
    "## Predicting with Formulas"
   ]
  },
  {
   "cell_type": "markdown",
   "metadata": {},
   "source": [
    "Using formulas can make both estimation and prediction a lot easier"
   ]
  },
  {
   "cell_type": "code",
   "execution_count": 8,
   "metadata": {
    "execution": {
     "iopub.execute_input": "2025-06-14T19:22:47.874603Z",
     "iopub.status.busy": "2025-06-14T19:22:47.873969Z",
     "iopub.status.idle": "2025-06-14T19:22:47.893651Z",
     "shell.execute_reply": "2025-06-14T19:22:47.893022Z"
    }
   },
   "outputs": [],
   "source": [
    "from statsmodels.formula.api import ols\n",
    "\n",
    "data = {\"x1\": x1, \"y\": y}\n",
    "\n",
    "res = ols(\"y ~ x1 + np.sin(x1) + I((x1-5)**2)\", data=data).fit()"
   ]
  },
  {
   "cell_type": "markdown",
   "metadata": {},
   "source": [
    "We use the `I` to indicate use of the Identity transform. Ie., we do not want any expansion magic from using `**2`"
   ]
  },
  {
   "cell_type": "code",
   "execution_count": 9,
   "metadata": {
    "execution": {
     "iopub.execute_input": "2025-06-14T19:22:47.904617Z",
     "iopub.status.busy": "2025-06-14T19:22:47.901429Z",
     "iopub.status.idle": "2025-06-14T19:22:47.921769Z",
     "shell.execute_reply": "2025-06-14T19:22:47.921130Z"
    }
   },
   "outputs": [
    {
     "data": {
      "text/plain": [
       "Intercept           5.004123\n",
       "x1                  0.498608\n",
       "np.sin(x1)          0.540312\n",
       "I((x1 - 5) ** 2)   -0.020060\n",
       "dtype: float64"
      ]
     },
     "execution_count": 9,
     "metadata": {},
     "output_type": "execute_result"
    }
   ],
   "source": [
    "res.params"
   ]
  },
  {
   "cell_type": "markdown",
   "metadata": {},
   "source": [
    "Now we only have to pass the single variable and we get the transformed right-hand side variables automatically"
   ]
  },
  {
   "cell_type": "code",
   "execution_count": 10,
   "metadata": {
    "execution": {
     "iopub.execute_input": "2025-06-14T19:22:47.931393Z",
     "iopub.status.busy": "2025-06-14T19:22:47.930839Z",
     "iopub.status.idle": "2025-06-14T19:22:47.954821Z",
     "shell.execute_reply": "2025-06-14T19:22:47.954066Z"
    }
   },
   "outputs": [
    {
     "data": {
      "text/plain": [
       "0    10.944787\n",
       "1    10.791603\n",
       "2    10.517710\n",
       "3    10.171395\n",
       "4     9.816222\n",
       "5     9.515465\n",
       "6     9.316623\n",
       "7     9.239784\n",
       "8     9.272711\n",
       "9     9.373838\n",
       "dtype: float64"
      ]
     },
     "execution_count": 10,
     "metadata": {},
     "output_type": "execute_result"
    }
   ],
   "source": [
    "res.predict(exog=dict(x1=x1n))"
   ]
  }
 ],
 "metadata": {
  "kernelspec": {
   "display_name": "Python 3",
   "language": "python",
   "name": "python3"
  },
  "language_info": {
   "codemirror_mode": {
    "name": "ipython",
    "version": 3
   },
   "file_extension": ".py",
   "mimetype": "text/x-python",
   "name": "python",
   "nbconvert_exporter": "python",
   "pygments_lexer": "ipython3",
   "version": "3.10.18"
  }
 },
 "nbformat": 4,
 "nbformat_minor": 4
}
