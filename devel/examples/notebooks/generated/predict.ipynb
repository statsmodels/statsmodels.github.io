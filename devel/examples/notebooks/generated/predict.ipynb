{
 "cells": [
  {
   "cell_type": "markdown",
   "metadata": {},
   "source": [
    "# Prediction (out of sample)"
   ]
  },
  {
   "cell_type": "code",
   "execution_count": 1,
   "metadata": {
    "execution": {
     "iopub.execute_input": "2025-09-25T14:05:06.797681Z",
     "iopub.status.busy": "2025-09-25T14:05:06.797409Z",
     "iopub.status.idle": "2025-09-25T14:05:09.124299Z",
     "shell.execute_reply": "2025-09-25T14:05:09.123254Z"
    }
   },
   "outputs": [],
   "source": [
    "%matplotlib inline"
   ]
  },
  {
   "cell_type": "code",
   "execution_count": 2,
   "metadata": {
    "execution": {
     "iopub.execute_input": "2025-09-25T14:05:09.127824Z",
     "iopub.status.busy": "2025-09-25T14:05:09.127417Z",
     "iopub.status.idle": "2025-09-25T14:05:10.458525Z",
     "shell.execute_reply": "2025-09-25T14:05:10.457622Z"
    }
   },
   "outputs": [],
   "source": [
    "import numpy as np\n",
    "import matplotlib.pyplot as plt\n",
    "\n",
    "import statsmodels.api as sm\n",
    "\n",
    "plt.rc(\"figure\", figsize=(16, 8))\n",
    "plt.rc(\"font\", size=14)"
   ]
  },
  {
   "cell_type": "markdown",
   "metadata": {},
   "source": [
    "## Artificial data"
   ]
  },
  {
   "cell_type": "code",
   "execution_count": 3,
   "metadata": {
    "execution": {
     "iopub.execute_input": "2025-09-25T14:05:10.461767Z",
     "iopub.status.busy": "2025-09-25T14:05:10.461282Z",
     "iopub.status.idle": "2025-09-25T14:05:10.468841Z",
     "shell.execute_reply": "2025-09-25T14:05:10.467885Z"
    }
   },
   "outputs": [],
   "source": [
    "nsample = 50\n",
    "sig = 0.25\n",
    "x1 = np.linspace(0, 20, nsample)\n",
    "X = np.column_stack((x1, np.sin(x1), (x1 - 5) ** 2))\n",
    "X = sm.add_constant(X)\n",
    "beta = [5.0, 0.5, 0.5, -0.02]\n",
    "y_true = np.dot(X, beta)\n",
    "y = y_true + sig * np.random.normal(size=nsample)"
   ]
  },
  {
   "cell_type": "markdown",
   "metadata": {},
   "source": [
    "## Estimation "
   ]
  },
  {
   "cell_type": "code",
   "execution_count": 4,
   "metadata": {
    "execution": {
     "iopub.execute_input": "2025-09-25T14:05:10.471978Z",
     "iopub.status.busy": "2025-09-25T14:05:10.471668Z",
     "iopub.status.idle": "2025-09-25T14:05:10.489840Z",
     "shell.execute_reply": "2025-09-25T14:05:10.488988Z"
    }
   },
   "outputs": [
    {
     "name": "stdout",
     "output_type": "stream",
     "text": [
      "                            OLS Regression Results                            \n",
      "==============================================================================\n",
      "Dep. Variable:                      y   R-squared:                       0.976\n",
      "Model:                            OLS   Adj. R-squared:                  0.974\n",
      "Method:                 Least Squares   F-statistic:                     614.6\n",
      "Date:                Thu, 25 Sep 2025   Prob (F-statistic):           4.18e-37\n",
      "Time:                        14:05:10   Log-Likelihood:                -7.6352\n",
      "No. Observations:                  50   AIC:                             23.27\n",
      "Df Residuals:                      46   BIC:                             30.92\n",
      "Df Model:                           3                                         \n",
      "Covariance Type:            nonrobust                                         \n",
      "==============================================================================\n",
      "                 coef    std err          t      P>|t|      [0.025      0.975]\n",
      "------------------------------------------------------------------------------\n",
      "const          5.1395      0.100     51.308      0.000       4.938       5.341\n",
      "x1             0.4766      0.015     30.852      0.000       0.446       0.508\n",
      "x2             0.4977      0.061      8.194      0.000       0.375       0.620\n",
      "x3            -0.0185      0.001    -13.624      0.000      -0.021      -0.016\n",
      "==============================================================================\n",
      "Omnibus:                        0.412   Durbin-Watson:                   1.738\n",
      "Prob(Omnibus):                  0.814   Jarque-Bera (JB):                0.545\n",
      "Skew:                           0.185   Prob(JB):                        0.762\n",
      "Kurtosis:                       2.646   Cond. No.                         221.\n",
      "==============================================================================\n",
      "\n",
      "Notes:\n",
      "[1] Standard Errors assume that the covariance matrix of the errors is correctly specified.\n"
     ]
    }
   ],
   "source": [
    "olsmod = sm.OLS(y, X)\n",
    "olsres = olsmod.fit()\n",
    "print(olsres.summary())"
   ]
  },
  {
   "cell_type": "markdown",
   "metadata": {},
   "source": [
    "## In-sample prediction"
   ]
  },
  {
   "cell_type": "code",
   "execution_count": 5,
   "metadata": {
    "execution": {
     "iopub.execute_input": "2025-09-25T14:05:10.553247Z",
     "iopub.status.busy": "2025-09-25T14:05:10.552857Z",
     "iopub.status.idle": "2025-09-25T14:05:10.558810Z",
     "shell.execute_reply": "2025-09-25T14:05:10.557959Z"
    }
   },
   "outputs": [
    {
     "name": "stdout",
     "output_type": "stream",
     "text": [
      "[ 4.67754539  5.14196914  5.56778166  5.92786127  6.20487434  6.3941232\n",
      "  6.50431793  6.55614533  6.57887013  6.60552687  6.66749243  6.78933091\n",
      "  6.98475778  7.25438652  7.58562777  7.95475777  8.33081607  8.6806923\n",
      "  8.97456603  9.19080627  9.3195253   9.36420326  9.34111632  9.27666261\n",
      "  9.203025    9.15288364  9.15404663  9.22488126  9.37129631  9.58577127\n",
      "  9.84859189 10.13108926 10.40034993 10.62462357 10.77853945 10.84727473\n",
      " 10.82898988 10.73513086 10.58854859 10.41974463 10.26185984 10.14522943\n",
      " 10.09239898 10.11442027 10.20903548 10.36104817 10.54482    10.72848304\n",
      " 10.87917556 10.96844116]\n"
     ]
    }
   ],
   "source": [
    "ypred = olsres.predict(X)\n",
    "print(ypred)"
   ]
  },
  {
   "cell_type": "markdown",
   "metadata": {},
   "source": [
    "## Create a new sample of explanatory variables Xnew, predict and plot"
   ]
  },
  {
   "cell_type": "code",
   "execution_count": 6,
   "metadata": {
    "execution": {
     "iopub.execute_input": "2025-09-25T14:05:10.561317Z",
     "iopub.status.busy": "2025-09-25T14:05:10.561000Z",
     "iopub.status.idle": "2025-09-25T14:05:10.566679Z",
     "shell.execute_reply": "2025-09-25T14:05:10.566029Z"
    }
   },
   "outputs": [
    {
     "name": "stdout",
     "output_type": "stream",
     "text": [
      "[10.96667954 10.83422112 10.590582   10.28023692  9.96173024  9.69334231\n",
      "  9.51882036  9.45666766  9.49561329  9.59737164]\n"
     ]
    }
   ],
   "source": [
    "x1n = np.linspace(20.5, 25, 10)\n",
    "Xnew = np.column_stack((x1n, np.sin(x1n), (x1n - 5) ** 2))\n",
    "Xnew = sm.add_constant(Xnew)\n",
    "ynewpred = olsres.predict(Xnew)  # predict out of sample\n",
    "print(ynewpred)"
   ]
  },
  {
   "cell_type": "markdown",
   "metadata": {},
   "source": [
    "## Plot comparison"
   ]
  },
  {
   "cell_type": "code",
   "execution_count": 7,
   "metadata": {
    "execution": {
     "iopub.execute_input": "2025-09-25T14:05:10.569355Z",
     "iopub.status.busy": "2025-09-25T14:05:10.569076Z",
     "iopub.status.idle": "2025-09-25T14:05:10.822836Z",
     "shell.execute_reply": "2025-09-25T14:05:10.821969Z"
    }
   },
   "outputs": [
    {
     "data": {
      "text/plain": [
       "<matplotlib.legend.Legend at 0x7fb65e50d210>"
      ]
     },
     "execution_count": 7,
     "metadata": {},
     "output_type": "execute_result"
    },
    {
     "data": {
      "image/png": "[encoded data removed]",
      "text/plain": [
       "<Figure size 1600x800 with 1 Axes>"
      ]
     },
     "metadata": {},
     "output_type": "display_data"
    }
   ],
   "source": [
    "import matplotlib.pyplot as plt\n",
    "\n",
    "fig, ax = plt.subplots()\n",
    "ax.plot(x1, y, \"o\", label=\"Data\")\n",
    "ax.plot(x1, y_true, \"b-\", label=\"True\")\n",
    "ax.plot(np.hstack((x1, x1n)), np.hstack((ypred, ynewpred)), \"r\", label=\"OLS prediction\")\n",
    "ax.legend(loc=\"best\")"
   ]
  },
  {
   "cell_type": "markdown",
   "metadata": {},
   "source": [
    "## Predicting with Formulas"
   ]
  },
  {
   "cell_type": "markdown",
   "metadata": {},
   "source": [
    "Using formulas can make both estimation and prediction a lot easier"
   ]
  },
  {
   "cell_type": "code",
   "execution_count": 8,
   "metadata": {
    "execution": {
     "iopub.execute_input": "2025-09-25T14:05:10.826410Z",
     "iopub.status.busy": "2025-09-25T14:05:10.825831Z",
     "iopub.status.idle": "2025-09-25T14:05:10.837411Z",
     "shell.execute_reply": "2025-09-25T14:05:10.836529Z"
    }
   },
   "outputs": [],
   "source": [
    "from statsmodels.formula.api import ols\n",
    "\n",
    "data = {\"x1\": x1, \"y\": y}\n",
    "\n",
    "res = ols(\"y ~ x1 + np.sin(x1) + I((x1-5)**2)\", data=data).fit()"
   ]
  },
  {
   "cell_type": "markdown",
   "metadata": {},
   "source": [
    "We use the `I` to indicate use of the Identity transform. Ie., we do not want any expansion magic from using `**2`"
   ]
  },
  {
   "cell_type": "code",
   "execution_count": 9,
   "metadata": {
    "execution": {
     "iopub.execute_input": "2025-09-25T14:05:10.841314Z",
     "iopub.status.busy": "2025-09-25T14:05:10.840726Z",
     "iopub.status.idle": "2025-09-25T14:05:10.850747Z",
     "shell.execute_reply": "2025-09-25T14:05:10.849960Z"
    }
   },
   "outputs": [
    {
     "data": {
      "text/plain": [
       "Intercept           5.139548\n",
       "x1                  0.476629\n",
       "np.sin(x1)          0.497654\n",
       "I((x1 - 5) ** 2)   -0.018480\n",
       "dtype: float64"
      ]
     },
     "execution_count": 9,
     "metadata": {},
     "output_type": "execute_result"
    }
   ],
   "source": [
    "res.params"
   ]
  },
  {
   "cell_type": "markdown",
   "metadata": {},
   "source": [
    "Now we only have to pass the single variable and we get the transformed right-hand side variables automatically"
   ]
  },
  {
   "cell_type": "code",
   "execution_count": 10,
   "metadata": {
    "execution": {
     "iopub.execute_input": "2025-09-25T14:05:10.853399Z",
     "iopub.status.busy": "2025-09-25T14:05:10.853081Z",
     "iopub.status.idle": "2025-09-25T14:05:10.863953Z",
     "shell.execute_reply": "2025-09-25T14:05:10.863060Z"
    }
   },
   "outputs": [
    {
     "data": {
      "text/plain": [
       "0    10.966680\n",
       "1    10.834221\n",
       "2    10.590582\n",
       "3    10.280237\n",
       "4     9.961730\n",
       "5     9.693342\n",
       "6     9.518820\n",
       "7     9.456668\n",
       "8     9.495613\n",
       "9     9.597372\n",
       "dtype: float64"
      ]
     },
     "execution_count": 10,
     "metadata": {},
     "output_type": "execute_result"
    }
   ],
   "source": [
    "res.predict(exog=dict(x1=x1n))"
   ]
  }
 ],
 "metadata": {
  "kernelspec": {
   "display_name": "Python 3",
   "language": "python",
   "name": "python3"
  },
  "language_info": {
   "codemirror_mode": {
    "name": "ipython",
    "version": 3
   },
   "file_extension": ".py",
   "mimetype": "text/x-python",
   "name": "python",
   "nbconvert_exporter": "python",
   "pygments_lexer": "ipython3",
   "version": "3.10.18"
  }
 },
 "nbformat": 4,
 "nbformat_minor": 4
}
