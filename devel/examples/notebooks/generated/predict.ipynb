{
 "cells": [
  {
   "cell_type": "markdown",
   "metadata": {},
   "source": [
    "# Prediction (out of sample)"
   ]
  },
  {
   "cell_type": "code",
   "execution_count": 1,
   "metadata": {
    "execution": {
     "iopub.execute_input": "2023-10-17T10:32:46.695645Z",
     "iopub.status.busy": "2023-10-17T10:32:46.694409Z",
     "iopub.status.idle": "2023-10-17T10:32:47.164197Z",
     "shell.execute_reply": "2023-10-17T10:32:47.163487Z"
    }
   },
   "outputs": [],
   "source": [
    "%matplotlib inline"
   ]
  },
  {
   "cell_type": "code",
   "execution_count": 2,
   "metadata": {
    "execution": {
     "iopub.execute_input": "2023-10-17T10:32:47.168019Z",
     "iopub.status.busy": "2023-10-17T10:32:47.167451Z",
     "iopub.status.idle": "2023-10-17T10:32:47.799527Z",
     "shell.execute_reply": "2023-10-17T10:32:47.798780Z"
    }
   },
   "outputs": [],
   "source": [
    "import numpy as np\n",
    "import matplotlib.pyplot as plt\n",
    "\n",
    "import statsmodels.api as sm\n",
    "\n",
    "plt.rc(\"figure\", figsize=(16, 8))\n",
    "plt.rc(\"font\", size=14)"
   ]
  },
  {
   "cell_type": "markdown",
   "metadata": {},
   "source": [
    "## Artificial data"
   ]
  },
  {
   "cell_type": "code",
   "execution_count": 3,
   "metadata": {
    "execution": {
     "iopub.execute_input": "2023-10-17T10:32:47.803543Z",
     "iopub.status.busy": "2023-10-17T10:32:47.802927Z",
     "iopub.status.idle": "2023-10-17T10:32:47.808093Z",
     "shell.execute_reply": "2023-10-17T10:32:47.807488Z"
    }
   },
   "outputs": [],
   "source": [
    "nsample = 50\n",
    "sig = 0.25\n",
    "x1 = np.linspace(0, 20, nsample)\n",
    "X = np.column_stack((x1, np.sin(x1), (x1 - 5) ** 2))\n",
    "X = sm.add_constant(X)\n",
    "beta = [5.0, 0.5, 0.5, -0.02]\n",
    "y_true = np.dot(X, beta)\n",
    "y = y_true + sig * np.random.normal(size=nsample)"
   ]
  },
  {
   "cell_type": "markdown",
   "metadata": {},
   "source": [
    "## Estimation "
   ]
  },
  {
   "cell_type": "code",
   "execution_count": 4,
   "metadata": {
    "execution": {
     "iopub.execute_input": "2023-10-17T10:32:47.811268Z",
     "iopub.status.busy": "2023-10-17T10:32:47.810847Z",
     "iopub.status.idle": "2023-10-17T10:32:47.821502Z",
     "shell.execute_reply": "2023-10-17T10:32:47.820940Z"
    }
   },
   "outputs": [
    {
     "name": "stdout",
     "output_type": "stream",
     "text": [
      "                            OLS Regression Results                            \n",
      "==============================================================================\n",
      "Dep. Variable:                      y   R-squared:                       0.983\n",
      "Model:                            OLS   Adj. R-squared:                  0.982\n",
      "Method:                 Least Squares   F-statistic:                     904.3\n",
      "Date:                Tue, 17 Oct 2023   Prob (F-statistic):           6.97e-41\n",
      "Time:                        10:32:47   Log-Likelihood:               -0.21234\n",
      "No. Observations:                  50   AIC:                             8.425\n",
      "Df Residuals:                      46   BIC:                             16.07\n",
      "Df Model:                           3                                         \n",
      "Covariance Type:            nonrobust                                         \n",
      "==============================================================================\n",
      "                 coef    std err          t      P>|t|      [0.025      0.975]\n",
      "------------------------------------------------------------------------------\n",
      "const          4.9877      0.086     57.760      0.000       4.814       5.161\n",
      "x1             0.5111      0.013     38.377      0.000       0.484       0.538\n",
      "x2             0.4056      0.052      7.747      0.000       0.300       0.511\n",
      "x3            -0.0209      0.001    -17.846      0.000      -0.023      -0.019\n",
      "==============================================================================\n",
      "Omnibus:                        1.090   Durbin-Watson:                   2.519\n",
      "Prob(Omnibus):                  0.580   Jarque-Bera (JB):                1.116\n",
      "Skew:                          -0.320   Prob(JB):                        0.572\n",
      "Kurtosis:                       2.645   Cond. No.                         221.\n",
      "==============================================================================\n",
      "\n",
      "Notes:\n",
      "[1] Standard Errors assume that the covariance matrix of the errors is correctly specified.\n"
     ]
    }
   ],
   "source": [
    "olsmod = sm.OLS(y, X)\n",
    "olsres = olsmod.fit()\n",
    "print(olsres.summary())"
   ]
  },
  {
   "cell_type": "markdown",
   "metadata": {},
   "source": [
    "## In-sample prediction"
   ]
  },
  {
   "cell_type": "code",
   "execution_count": 5,
   "metadata": {
    "execution": {
     "iopub.execute_input": "2023-10-17T10:32:47.824478Z",
     "iopub.status.busy": "2023-10-17T10:32:47.823991Z",
     "iopub.status.idle": "2023-10-17T10:32:47.828205Z",
     "shell.execute_reply": "2023-10-17T10:32:47.827633Z"
    }
   },
   "outputs": [
    {
     "name": "stdout",
     "output_type": "stream",
     "text": [
      "[ 4.46598     4.91727596  5.33516843  5.69755252  5.99030087  6.20958477\n",
      "  6.36250315  6.46591629  6.54367572  6.62270545  6.72857848  6.88131517\n",
      "  7.092094    7.36141497  7.67901742  8.02556586  8.37582672  8.70281418\n",
      "  8.9822238   9.19642576  9.33736132  9.40786687  9.42120793  9.39889964\n",
      "  9.36717192  9.35265992  9.37802799  9.45824593  9.59812957  9.79154949\n",
      " 10.02243807 10.26742937 10.4996981  10.69336689 10.82775792 10.89079021\n",
      " 10.88096448 10.80760949 10.68934934 10.55104361 10.41970295 10.32005136\n",
      " 10.27046409 10.27994861 10.34666476 10.45822702 10.59373949 10.72722896\n",
      " 10.83191226 10.88459669]\n"
     ]
    }
   ],
   "source": [
    "ypred = olsres.predict(X)\n",
    "print(ypred)"
   ]
  },
  {
   "cell_type": "markdown",
   "metadata": {},
   "source": [
    "## Create a new sample of explanatory variables Xnew, predict and plot"
   ]
  },
  {
   "cell_type": "code",
   "execution_count": 6,
   "metadata": {
    "execution": {
     "iopub.execute_input": "2023-10-17T10:32:47.831104Z",
     "iopub.status.busy": "2023-10-17T10:32:47.830654Z",
     "iopub.status.idle": "2023-10-17T10:32:47.835591Z",
     "shell.execute_reply": "2023-10-17T10:32:47.835027Z"
    }
   },
   "outputs": [
    {
     "name": "stdout",
     "output_type": "stream",
     "text": [
      "[10.8559398  10.7178589  10.48626011 10.1973915   9.89896829  9.63849046\n",
      "  9.45161316  9.35341704  9.33471601  9.36430628]\n"
     ]
    }
   ],
   "source": [
    "x1n = np.linspace(20.5, 25, 10)\n",
    "Xnew = np.column_stack((x1n, np.sin(x1n), (x1n - 5) ** 2))\n",
    "Xnew = sm.add_constant(Xnew)\n",
    "ynewpred = olsres.predict(Xnew)  # predict out of sample\n",
    "print(ynewpred)"
   ]
  },
  {
   "cell_type": "markdown",
   "metadata": {},
   "source": [
    "## Plot comparison"
   ]
  },
  {
   "cell_type": "code",
   "execution_count": 7,
   "metadata": {
    "execution": {
     "iopub.execute_input": "2023-10-17T10:32:47.838518Z",
     "iopub.status.busy": "2023-10-17T10:32:47.838068Z",
     "iopub.status.idle": "2023-10-17T10:32:48.153818Z",
     "shell.execute_reply": "2023-10-17T10:32:48.153174Z"
    }
   },
   "outputs": [
    {
     "data": {
      "text/plain": [
       "<matplotlib.legend.Legend at 0x7f8190a15fc0>"
      ]
     },
     "execution_count": 7,
     "metadata": {},
     "output_type": "execute_result"
    },
    {
     "data": {
      "image/png": "[encoded data removed]",
      "text/plain": [
       "<Figure size 1600x800 with 1 Axes>"
      ]
     },
     "metadata": {},
     "output_type": "display_data"
    }
   ],
   "source": [
    "import matplotlib.pyplot as plt\n",
    "\n",
    "fig, ax = plt.subplots()\n",
    "ax.plot(x1, y, \"o\", label=\"Data\")\n",
    "ax.plot(x1, y_true, \"b-\", label=\"True\")\n",
    "ax.plot(np.hstack((x1, x1n)), np.hstack((ypred, ynewpred)), \"r\", label=\"OLS prediction\")\n",
    "ax.legend(loc=\"best\")"
   ]
  },
  {
   "cell_type": "markdown",
   "metadata": {},
   "source": [
    "## Predicting with Formulas"
   ]
  },
  {
   "cell_type": "markdown",
   "metadata": {},
   "source": [
    "Using formulas can make both estimation and prediction a lot easier"
   ]
  },
  {
   "cell_type": "code",
   "execution_count": 8,
   "metadata": {
    "execution": {
     "iopub.execute_input": "2023-10-17T10:32:48.156838Z",
     "iopub.status.busy": "2023-10-17T10:32:48.156598Z",
     "iopub.status.idle": "2023-10-17T10:32:48.163869Z",
     "shell.execute_reply": "2023-10-17T10:32:48.163298Z"
    }
   },
   "outputs": [],
   "source": [
    "from statsmodels.formula.api import ols\n",
    "\n",
    "data = {\"x1\": x1, \"y\": y}\n",
    "\n",
    "res = ols(\"y ~ x1 + np.sin(x1) + I((x1-5)**2)\", data=data).fit()"
   ]
  },
  {
   "cell_type": "markdown",
   "metadata": {},
   "source": [
    "We use the `I` to indicate use of the Identity transform. Ie., we do not want any expansion magic from using `**2`"
   ]
  },
  {
   "cell_type": "code",
   "execution_count": 9,
   "metadata": {
    "execution": {
     "iopub.execute_input": "2023-10-17T10:32:48.168514Z",
     "iopub.status.busy": "2023-10-17T10:32:48.168118Z",
     "iopub.status.idle": "2023-10-17T10:32:48.181290Z",
     "shell.execute_reply": "2023-10-17T10:32:48.180701Z"
    }
   },
   "outputs": [
    {
     "data": {
      "text/plain": [
       "Intercept           4.987660\n",
       "x1                  0.511088\n",
       "np.sin(x1)          0.405601\n",
       "I((x1 - 5) ** 2)   -0.020867\n",
       "dtype: float64"
      ]
     },
     "execution_count": 9,
     "metadata": {},
     "output_type": "execute_result"
    }
   ],
   "source": [
    "res.params"
   ]
  },
  {
   "cell_type": "markdown",
   "metadata": {},
   "source": [
    "Now we only have to pass the single variable and we get the transformed right-hand side variables automatically"
   ]
  },
  {
   "cell_type": "code",
   "execution_count": 10,
   "metadata": {
    "execution": {
     "iopub.execute_input": "2023-10-17T10:32:48.184978Z",
     "iopub.status.busy": "2023-10-17T10:32:48.183747Z",
     "iopub.status.idle": "2023-10-17T10:32:48.192948Z",
     "shell.execute_reply": "2023-10-17T10:32:48.192378Z"
    }
   },
   "outputs": [
    {
     "data": {
      "text/plain": [
       "0    10.855940\n",
       "1    10.717859\n",
       "2    10.486260\n",
       "3    10.197392\n",
       "4     9.898968\n",
       "5     9.638490\n",
       "6     9.451613\n",
       "7     9.353417\n",
       "8     9.334716\n",
       "9     9.364306\n",
       "dtype: float64"
      ]
     },
     "execution_count": 10,
     "metadata": {},
     "output_type": "execute_result"
    }
   ],
   "source": [
    "res.predict(exog=dict(x1=x1n))"
   ]
  }
 ],
 "metadata": {
  "kernelspec": {
   "display_name": "Python 3",
   "language": "python",
   "name": "python3"
  },
  "language_info": {
   "codemirror_mode": {
    "name": "ipython",
    "version": 3
   },
   "file_extension": ".py",
   "mimetype": "text/x-python",
   "name": "python",
   "nbconvert_exporter": "python",
   "pygments_lexer": "ipython3",
   "version": "3.10.13"
  }
 },
 "nbformat": 4,
 "nbformat_minor": 4
}
