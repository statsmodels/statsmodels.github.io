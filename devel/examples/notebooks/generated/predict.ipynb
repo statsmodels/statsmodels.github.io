{
 "cells": [
  {
   "cell_type": "markdown",
   "metadata": {},
   "source": [
    "# Prediction (out of sample)"
   ]
  },
  {
   "cell_type": "code",
   "execution_count": 1,
   "metadata": {
    "execution": {
     "iopub.execute_input": "2024-10-28T13:20:32.534989Z",
     "iopub.status.busy": "2024-10-28T13:20:32.534680Z",
     "iopub.status.idle": "2024-10-28T13:20:33.277110Z",
     "shell.execute_reply": "2024-10-28T13:20:33.276301Z"
    }
   },
   "outputs": [],
   "source": [
    "%matplotlib inline"
   ]
  },
  {
   "cell_type": "code",
   "execution_count": 2,
   "metadata": {
    "execution": {
     "iopub.execute_input": "2024-10-28T13:20:33.281641Z",
     "iopub.status.busy": "2024-10-28T13:20:33.280262Z",
     "iopub.status.idle": "2024-10-28T13:20:34.413165Z",
     "shell.execute_reply": "2024-10-28T13:20:34.412421Z"
    }
   },
   "outputs": [],
   "source": [
    "import numpy as np\n",
    "import matplotlib.pyplot as plt\n",
    "\n",
    "import statsmodels.api as sm\n",
    "\n",
    "plt.rc(\"figure\", figsize=(16, 8))\n",
    "plt.rc(\"font\", size=14)"
   ]
  },
  {
   "cell_type": "markdown",
   "metadata": {},
   "source": [
    "## Artificial data"
   ]
  },
  {
   "cell_type": "code",
   "execution_count": 3,
   "metadata": {
    "execution": {
     "iopub.execute_input": "2024-10-28T13:20:34.417390Z",
     "iopub.status.busy": "2024-10-28T13:20:34.416371Z",
     "iopub.status.idle": "2024-10-28T13:20:34.422564Z",
     "shell.execute_reply": "2024-10-28T13:20:34.421939Z"
    }
   },
   "outputs": [],
   "source": [
    "nsample = 50\n",
    "sig = 0.25\n",
    "x1 = np.linspace(0, 20, nsample)\n",
    "X = np.column_stack((x1, np.sin(x1), (x1 - 5) ** 2))\n",
    "X = sm.add_constant(X)\n",
    "beta = [5.0, 0.5, 0.5, -0.02]\n",
    "y_true = np.dot(X, beta)\n",
    "y = y_true + sig * np.random.normal(size=nsample)"
   ]
  },
  {
   "cell_type": "markdown",
   "metadata": {},
   "source": [
    "## Estimation "
   ]
  },
  {
   "cell_type": "code",
   "execution_count": 4,
   "metadata": {
    "execution": {
     "iopub.execute_input": "2024-10-28T13:20:34.426142Z",
     "iopub.status.busy": "2024-10-28T13:20:34.425217Z",
     "iopub.status.idle": "2024-10-28T13:20:34.440626Z",
     "shell.execute_reply": "2024-10-28T13:20:34.439875Z"
    }
   },
   "outputs": [
    {
     "name": "stdout",
     "output_type": "stream",
     "text": [
      "                            OLS Regression Results                            \n",
      "==============================================================================\n",
      "Dep. Variable:                      y   R-squared:                       0.989\n",
      "Model:                            OLS   Adj. R-squared:                  0.988\n",
      "Method:                 Least Squares   F-statistic:                     1357.\n",
      "Date:                Mon, 28 Oct 2024   Prob (F-statistic):           7.03e-45\n",
      "Time:                        13:20:34   Log-Likelihood:                 10.584\n",
      "No. Observations:                  50   AIC:                            -13.17\n",
      "Df Residuals:                      46   BIC:                            -5.521\n",
      "Df Model:                           3                                         \n",
      "Covariance Type:            nonrobust                                         \n",
      "==============================================================================\n",
      "                 coef    std err          t      P>|t|      [0.025      0.975]\n",
      "------------------------------------------------------------------------------\n",
      "const          5.0724      0.070     72.899      0.000       4.932       5.212\n",
      "x1             0.5014      0.011     46.723      0.000       0.480       0.523\n",
      "x2             0.4508      0.042     10.687      0.000       0.366       0.536\n",
      "x3            -0.0202      0.001    -21.448      0.000      -0.022      -0.018\n",
      "==============================================================================\n",
      "Omnibus:                        0.035   Durbin-Watson:                   2.276\n",
      "Prob(Omnibus):                  0.983   Jarque-Bera (JB):                0.168\n",
      "Skew:                           0.056   Prob(JB):                        0.920\n",
      "Kurtosis:                       2.739   Cond. No.                         221.\n",
      "==============================================================================\n",
      "\n",
      "Notes:\n",
      "[1] Standard Errors assume that the covariance matrix of the errors is correctly specified.\n"
     ]
    }
   ],
   "source": [
    "olsmod = sm.OLS(y, X)\n",
    "olsres = olsmod.fit()\n",
    "print(olsres.summary())"
   ]
  },
  {
   "cell_type": "markdown",
   "metadata": {},
   "source": [
    "## In-sample prediction"
   ]
  },
  {
   "cell_type": "code",
   "execution_count": 5,
   "metadata": {
    "execution": {
     "iopub.execute_input": "2024-10-28T13:20:34.443931Z",
     "iopub.status.busy": "2024-10-28T13:20:34.443018Z",
     "iopub.status.idle": "2024-10-28T13:20:34.449118Z",
     "shell.execute_reply": "2024-10-28T13:20:34.448487Z"
    }
   },
   "outputs": [
    {
     "name": "stdout",
     "output_type": "stream",
     "text": [
      "[ 4.56715855  5.02987273  5.4564524   5.82232694  6.11179314  6.32059518\n",
      "  6.45662389  6.53862023  6.5930963   6.64997939  6.73769508  6.87849693\n",
      "  7.08481036  7.35719112  7.68423403  8.04444677  8.40978107  8.75024091\n",
      "  9.0388108   9.25589435  9.39253389  9.45188223  9.44868458  9.40685605\n",
      "  9.3555524   9.32437986  9.33853088  9.41464512  9.5580756   9.76200916\n",
      " 10.00858591 10.27183352 10.52193441 10.73012469 10.87342001 10.93839177\n",
      " 10.92337348 10.83873446 10.7051763  10.55033155 10.40422383 10.29433502\n",
      " 10.24109005 10.25450115 10.3325229  10.46138822 10.61787033 10.7730988\n",
      " 10.8973029  10.96470285]\n"
     ]
    }
   ],
   "source": [
    "ypred = olsres.predict(X)\n",
    "print(ypred)"
   ]
  },
  {
   "cell_type": "markdown",
   "metadata": {},
   "source": [
    "## Create a new sample of explanatory variables Xnew, predict and plot"
   ]
  },
  {
   "cell_type": "code",
   "execution_count": 6,
   "metadata": {
    "execution": {
     "iopub.execute_input": "2024-10-28T13:20:34.451880Z",
     "iopub.status.busy": "2024-10-28T13:20:34.451472Z",
     "iopub.status.idle": "2024-10-28T13:20:34.458303Z",
     "shell.execute_reply": "2024-10-28T13:20:34.457025Z"
    }
   },
   "outputs": [
    {
     "name": "stdout",
     "output_type": "stream",
     "text": [
      "[10.94503288 10.80522617 10.56296312 10.25853516  9.94497995  9.67509597\n",
      "  9.48851557  9.40200159  9.40534326  9.46385612]\n"
     ]
    }
   ],
   "source": [
    "x1n = np.linspace(20.5, 25, 10)\n",
    "Xnew = np.column_stack((x1n, np.sin(x1n), (x1n - 5) ** 2))\n",
    "Xnew = sm.add_constant(Xnew)\n",
    "ynewpred = olsres.predict(Xnew)  # predict out of sample\n",
    "print(ynewpred)"
   ]
  },
  {
   "cell_type": "markdown",
   "metadata": {},
   "source": [
    "## Plot comparison"
   ]
  },
  {
   "cell_type": "code",
   "execution_count": 7,
   "metadata": {
    "execution": {
     "iopub.execute_input": "2024-10-28T13:20:34.461651Z",
     "iopub.status.busy": "2024-10-28T13:20:34.461195Z",
     "iopub.status.idle": "2024-10-28T13:20:34.773924Z",
     "shell.execute_reply": "2024-10-28T13:20:34.773007Z"
    }
   },
   "outputs": [
    {
     "data": {
      "text/plain": [
       "<matplotlib.legend.Legend at 0x7f1055cf98d0>"
      ]
     },
     "execution_count": 7,
     "metadata": {},
     "output_type": "execute_result"
    },
    {
     "data": {
      "image/png": "[encoded data removed]",
      "text/plain": [
       "<Figure size 1600x800 with 1 Axes>"
      ]
     },
     "metadata": {},
     "output_type": "display_data"
    }
   ],
   "source": [
    "import matplotlib.pyplot as plt\n",
    "\n",
    "fig, ax = plt.subplots()\n",
    "ax.plot(x1, y, \"o\", label=\"Data\")\n",
    "ax.plot(x1, y_true, \"b-\", label=\"True\")\n",
    "ax.plot(np.hstack((x1, x1n)), np.hstack((ypred, ynewpred)), \"r\", label=\"OLS prediction\")\n",
    "ax.legend(loc=\"best\")"
   ]
  },
  {
   "cell_type": "markdown",
   "metadata": {},
   "source": [
    "## Predicting with Formulas"
   ]
  },
  {
   "cell_type": "markdown",
   "metadata": {},
   "source": [
    "Using formulas can make both estimation and prediction a lot easier"
   ]
  },
  {
   "cell_type": "code",
   "execution_count": 8,
   "metadata": {
    "execution": {
     "iopub.execute_input": "2024-10-28T13:20:34.776780Z",
     "iopub.status.busy": "2024-10-28T13:20:34.776486Z",
     "iopub.status.idle": "2024-10-28T13:20:34.790646Z",
     "shell.execute_reply": "2024-10-28T13:20:34.789839Z"
    }
   },
   "outputs": [],
   "source": [
    "from statsmodels.formula.api import ols\n",
    "\n",
    "data = {\"x1\": x1, \"y\": y}\n",
    "\n",
    "res = ols(\"y ~ x1 + np.sin(x1) + I((x1-5)**2)\", data=data).fit()"
   ]
  },
  {
   "cell_type": "markdown",
   "metadata": {},
   "source": [
    "We use the `I` to indicate use of the Identity transform. Ie., we do not want any expansion magic from using `**2`"
   ]
  },
  {
   "cell_type": "code",
   "execution_count": 9,
   "metadata": {
    "execution": {
     "iopub.execute_input": "2024-10-28T13:20:34.793676Z",
     "iopub.status.busy": "2024-10-28T13:20:34.793328Z",
     "iopub.status.idle": "2024-10-28T13:20:34.809558Z",
     "shell.execute_reply": "2024-10-28T13:20:34.808749Z"
    }
   },
   "outputs": [
    {
     "data": {
      "text/plain": [
       "Intercept           5.072372\n",
       "x1                  0.501383\n",
       "np.sin(x1)          0.450844\n",
       "I((x1 - 5) ** 2)   -0.020209\n",
       "dtype: float64"
      ]
     },
     "execution_count": 9,
     "metadata": {},
     "output_type": "execute_result"
    }
   ],
   "source": [
    "res.params"
   ]
  },
  {
   "cell_type": "markdown",
   "metadata": {},
   "source": [
    "Now we only have to pass the single variable and we get the transformed right-hand side variables automatically"
   ]
  },
  {
   "cell_type": "code",
   "execution_count": 10,
   "metadata": {
    "execution": {
     "iopub.execute_input": "2024-10-28T13:20:34.812318Z",
     "iopub.status.busy": "2024-10-28T13:20:34.811972Z",
     "iopub.status.idle": "2024-10-28T13:20:34.822605Z",
     "shell.execute_reply": "2024-10-28T13:20:34.821753Z"
    }
   },
   "outputs": [
    {
     "data": {
      "text/plain": [
       "0    10.945033\n",
       "1    10.805226\n",
       "2    10.562963\n",
       "3    10.258535\n",
       "4     9.944980\n",
       "5     9.675096\n",
       "6     9.488516\n",
       "7     9.402002\n",
       "8     9.405343\n",
       "9     9.463856\n",
       "dtype: float64"
      ]
     },
     "execution_count": 10,
     "metadata": {},
     "output_type": "execute_result"
    }
   ],
   "source": [
    "res.predict(exog=dict(x1=x1n))"
   ]
  }
 ],
 "metadata": {
  "kernelspec": {
   "display_name": "Python 3",
   "language": "python",
   "name": "python3"
  },
  "language_info": {
   "codemirror_mode": {
    "name": "ipython",
    "version": 3
   },
   "file_extension": ".py",
   "mimetype": "text/x-python",
   "name": "python",
   "nbconvert_exporter": "python",
   "pygments_lexer": "ipython3",
   "version": "3.10.15"
  }
 },
 "nbformat": 4,
 "nbformat_minor": 4
}
