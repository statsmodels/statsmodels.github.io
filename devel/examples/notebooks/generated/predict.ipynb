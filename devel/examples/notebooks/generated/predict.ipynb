{
 "cells": [
  {
   "cell_type": "markdown",
   "metadata": {},
   "source": [
    "# Prediction (out of sample)"
   ]
  },
  {
   "cell_type": "code",
   "execution_count": 1,
   "metadata": {
    "execution": {
     "iopub.execute_input": "2023-12-31T00:01:57.252024Z",
     "iopub.status.busy": "2023-12-31T00:01:57.251823Z",
     "iopub.status.idle": "2023-12-31T00:01:58.179572Z",
     "shell.execute_reply": "2023-12-31T00:01:58.178731Z"
    }
   },
   "outputs": [],
   "source": [
    "%matplotlib inline"
   ]
  },
  {
   "cell_type": "code",
   "execution_count": 2,
   "metadata": {
    "execution": {
     "iopub.execute_input": "2023-12-31T00:01:58.183825Z",
     "iopub.status.busy": "2023-12-31T00:01:58.183451Z",
     "iopub.status.idle": "2023-12-31T00:01:59.252406Z",
     "shell.execute_reply": "2023-12-31T00:01:59.251673Z"
    }
   },
   "outputs": [],
   "source": [
    "import numpy as np\n",
    "import matplotlib.pyplot as plt\n",
    "\n",
    "import statsmodels.api as sm\n",
    "\n",
    "plt.rc(\"figure\", figsize=(16, 8))\n",
    "plt.rc(\"font\", size=14)"
   ]
  },
  {
   "cell_type": "markdown",
   "metadata": {},
   "source": [
    "## Artificial data"
   ]
  },
  {
   "cell_type": "code",
   "execution_count": 3,
   "metadata": {
    "execution": {
     "iopub.execute_input": "2023-12-31T00:01:59.256812Z",
     "iopub.status.busy": "2023-12-31T00:01:59.256335Z",
     "iopub.status.idle": "2023-12-31T00:01:59.262876Z",
     "shell.execute_reply": "2023-12-31T00:01:59.262029Z"
    }
   },
   "outputs": [],
   "source": [
    "nsample = 50\n",
    "sig = 0.25\n",
    "x1 = np.linspace(0, 20, nsample)\n",
    "X = np.column_stack((x1, np.sin(x1), (x1 - 5) ** 2))\n",
    "X = sm.add_constant(X)\n",
    "beta = [5.0, 0.5, 0.5, -0.02]\n",
    "y_true = np.dot(X, beta)\n",
    "y = y_true + sig * np.random.normal(size=nsample)"
   ]
  },
  {
   "cell_type": "markdown",
   "metadata": {},
   "source": [
    "## Estimation "
   ]
  },
  {
   "cell_type": "code",
   "execution_count": 4,
   "metadata": {
    "execution": {
     "iopub.execute_input": "2023-12-31T00:01:59.266517Z",
     "iopub.status.busy": "2023-12-31T00:01:59.266202Z",
     "iopub.status.idle": "2023-12-31T00:01:59.301238Z",
     "shell.execute_reply": "2023-12-31T00:01:59.291607Z"
    }
   },
   "outputs": [
    {
     "name": "stdout",
     "output_type": "stream",
     "text": [
      "                            OLS Regression Results                            \n",
      "==============================================================================\n",
      "Dep. Variable:                      y   R-squared:                       0.982\n",
      "Model:                            OLS   Adj. R-squared:                  0.981\n",
      "Method:                 Least Squares   F-statistic:                     848.0\n",
      "Date:                Sun, 31 Dec 2023   Prob (F-statistic):           2.98e-40\n",
      "Time:                        00:01:59   Log-Likelihood:                -1.3400\n",
      "No. Observations:                  50   AIC:                             10.68\n",
      "Df Residuals:                      46   BIC:                             18.33\n",
      "Df Model:                           3                                         \n",
      "Covariance Type:            nonrobust                                         \n",
      "==============================================================================\n",
      "                 coef    std err          t      P>|t|      [0.025      0.975]\n",
      "------------------------------------------------------------------------------\n",
      "const          5.0241      0.088     56.885      0.000       4.846       5.202\n",
      "x1             0.5021      0.014     36.863      0.000       0.475       0.530\n",
      "x2             0.5604      0.054     10.465      0.000       0.453       0.668\n",
      "x3            -0.0202      0.001    -16.873      0.000      -0.023      -0.018\n",
      "==============================================================================\n",
      "Omnibus:                        0.087   Durbin-Watson:                   1.932\n",
      "Prob(Omnibus):                  0.957   Jarque-Bera (JB):                0.119\n",
      "Skew:                          -0.084   Prob(JB):                        0.942\n",
      "Kurtosis:                       2.830   Cond. No.                         221.\n",
      "==============================================================================\n",
      "\n",
      "Notes:\n",
      "[1] Standard Errors assume that the covariance matrix of the errors is correctly specified.\n"
     ]
    }
   ],
   "source": [
    "olsmod = sm.OLS(y, X)\n",
    "olsres = olsmod.fit()\n",
    "print(olsres.summary())"
   ]
  },
  {
   "cell_type": "markdown",
   "metadata": {},
   "source": [
    "## In-sample prediction"
   ]
  },
  {
   "cell_type": "code",
   "execution_count": 5,
   "metadata": {
    "execution": {
     "iopub.execute_input": "2023-12-31T00:01:59.363057Z",
     "iopub.status.busy": "2023-12-31T00:01:59.362699Z",
     "iopub.status.idle": "2023-12-31T00:01:59.367725Z",
     "shell.execute_reply": "2023-12-31T00:01:59.367018Z"
    }
   },
   "outputs": [
    {
     "name": "stdout",
     "output_type": "stream",
     "text": [
      "[ 4.51959962  5.02597122  5.48907601  5.87837467  6.17434936  6.37171045\n",
      "  6.48026559  6.52330833  6.53379105  6.54891102  6.60399893  6.72671422\n",
      "  6.93250065  7.22204901  7.58118354  7.98319103  8.3932097   8.77395691\n",
      "  9.09185455  9.32254588  9.45489725  9.4928273   9.4546632   9.3701295\n",
      "  9.27546447  9.2074663   9.1974472   9.26608894  9.42004488  9.65084682\n",
      "  9.93629633 10.24411189 10.53723263 10.77990733 10.94356828 11.0115248\n",
      " 10.98170556 10.86699884 10.69313501 10.49445916 10.30828824 10.16878002\n",
      " 10.10132107 10.11835581 10.21734191 10.38116801 10.58096507 10.78084946\n",
      " 10.94381854 11.03783009]\n"
     ]
    }
   ],
   "source": [
    "ypred = olsres.predict(X)\n",
    "print(ypred)"
   ]
  },
  {
   "cell_type": "markdown",
   "metadata": {},
   "source": [
    "## Create a new sample of explanatory variables Xnew, predict and plot"
   ]
  },
  {
   "cell_type": "code",
   "execution_count": 6,
   "metadata": {
    "execution": {
     "iopub.execute_input": "2023-12-31T00:01:59.373301Z",
     "iopub.status.busy": "2023-12-31T00:01:59.372677Z",
     "iopub.status.idle": "2023-12-31T00:01:59.378573Z",
     "shell.execute_reply": "2023-12-31T00:01:59.377829Z"
    }
   },
   "outputs": [
    {
     "name": "stdout",
     "output_type": "stream",
     "text": [
      "[11.02816692 10.87165265 10.59026262 10.23407585  9.86901391  9.5607011\n",
      "  9.35839726  9.28293727  9.32162995  9.43136529]\n"
     ]
    }
   ],
   "source": [
    "x1n = np.linspace(20.5, 25, 10)\n",
    "Xnew = np.column_stack((x1n, np.sin(x1n), (x1n - 5) ** 2))\n",
    "Xnew = sm.add_constant(Xnew)\n",
    "ynewpred = olsres.predict(Xnew)  # predict out of sample\n",
    "print(ynewpred)"
   ]
  },
  {
   "cell_type": "markdown",
   "metadata": {},
   "source": [
    "## Plot comparison"
   ]
  },
  {
   "cell_type": "code",
   "execution_count": 7,
   "metadata": {
    "execution": {
     "iopub.execute_input": "2023-12-31T00:01:59.384757Z",
     "iopub.status.busy": "2023-12-31T00:01:59.384225Z",
     "iopub.status.idle": "2023-12-31T00:01:59.721081Z",
     "shell.execute_reply": "2023-12-31T00:01:59.720242Z"
    }
   },
   "outputs": [
    {
     "data": {
      "text/plain": [
       "<matplotlib.legend.Legend at 0x7f930d5fd630>"
      ]
     },
     "execution_count": 7,
     "metadata": {},
     "output_type": "execute_result"
    },
    {
     "data": {
      "image/png": "[encoded data removed]",
      "text/plain": [
       "<Figure size 1600x800 with 1 Axes>"
      ]
     },
     "metadata": {},
     "output_type": "display_data"
    }
   ],
   "source": [
    "import matplotlib.pyplot as plt\n",
    "\n",
    "fig, ax = plt.subplots()\n",
    "ax.plot(x1, y, \"o\", label=\"Data\")\n",
    "ax.plot(x1, y_true, \"b-\", label=\"True\")\n",
    "ax.plot(np.hstack((x1, x1n)), np.hstack((ypred, ynewpred)), \"r\", label=\"OLS prediction\")\n",
    "ax.legend(loc=\"best\")"
   ]
  },
  {
   "cell_type": "markdown",
   "metadata": {},
   "source": [
    "## Predicting with Formulas"
   ]
  },
  {
   "cell_type": "markdown",
   "metadata": {},
   "source": [
    "Using formulas can make both estimation and prediction a lot easier"
   ]
  },
  {
   "cell_type": "code",
   "execution_count": 8,
   "metadata": {
    "execution": {
     "iopub.execute_input": "2023-12-31T00:01:59.725823Z",
     "iopub.status.busy": "2023-12-31T00:01:59.724984Z",
     "iopub.status.idle": "2023-12-31T00:01:59.735401Z",
     "shell.execute_reply": "2023-12-31T00:01:59.734648Z"
    }
   },
   "outputs": [],
   "source": [
    "from statsmodels.formula.api import ols\n",
    "\n",
    "data = {\"x1\": x1, \"y\": y}\n",
    "\n",
    "res = ols(\"y ~ x1 + np.sin(x1) + I((x1-5)**2)\", data=data).fit()"
   ]
  },
  {
   "cell_type": "markdown",
   "metadata": {},
   "source": [
    "We use the `I` to indicate use of the Identity transform. Ie., we do not want any expansion magic from using `**2`"
   ]
  },
  {
   "cell_type": "code",
   "execution_count": 9,
   "metadata": {
    "execution": {
     "iopub.execute_input": "2023-12-31T00:01:59.740479Z",
     "iopub.status.busy": "2023-12-31T00:01:59.739252Z",
     "iopub.status.idle": "2023-12-31T00:01:59.746431Z",
     "shell.execute_reply": "2023-12-31T00:01:59.745906Z"
    }
   },
   "outputs": [
    {
     "data": {
      "text/plain": [
       "Intercept           5.024076\n",
       "x1                  0.502123\n",
       "np.sin(x1)          0.560363\n",
       "I((x1 - 5) ** 2)   -0.020179\n",
       "dtype: float64"
      ]
     },
     "execution_count": 9,
     "metadata": {},
     "output_type": "execute_result"
    }
   ],
   "source": [
    "res.params"
   ]
  },
  {
   "cell_type": "markdown",
   "metadata": {},
   "source": [
    "Now we only have to pass the single variable and we get the transformed right-hand side variables automatically"
   ]
  },
  {
   "cell_type": "code",
   "execution_count": 10,
   "metadata": {
    "execution": {
     "iopub.execute_input": "2023-12-31T00:01:59.749003Z",
     "iopub.status.busy": "2023-12-31T00:01:59.748802Z",
     "iopub.status.idle": "2023-12-31T00:01:59.754641Z",
     "shell.execute_reply": "2023-12-31T00:01:59.754086Z"
    }
   },
   "outputs": [
    {
     "data": {
      "text/plain": [
       "0    11.028167\n",
       "1    10.871653\n",
       "2    10.590263\n",
       "3    10.234076\n",
       "4     9.869014\n",
       "5     9.560701\n",
       "6     9.358397\n",
       "7     9.282937\n",
       "8     9.321630\n",
       "9     9.431365\n",
       "dtype: float64"
      ]
     },
     "execution_count": 10,
     "metadata": {},
     "output_type": "execute_result"
    }
   ],
   "source": [
    "res.predict(exog=dict(x1=x1n))"
   ]
  }
 ],
 "metadata": {
  "kernelspec": {
   "display_name": "Python 3",
   "language": "python",
   "name": "python3"
  },
  "language_info": {
   "codemirror_mode": {
    "name": "ipython",
    "version": 3
   },
   "file_extension": ".py",
   "mimetype": "text/x-python",
   "name": "python",
   "nbconvert_exporter": "python",
   "pygments_lexer": "ipython3",
   "version": "3.10.13"
  }
 },
 "nbformat": 4,
 "nbformat_minor": 4
}
