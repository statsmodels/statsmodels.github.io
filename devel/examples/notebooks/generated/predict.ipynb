{
 "cells": [
  {
   "cell_type": "markdown",
   "metadata": {},
   "source": [
    "# Prediction (out of sample)"
   ]
  },
  {
   "cell_type": "code",
   "execution_count": 1,
   "metadata": {
    "execution": {
     "iopub.execute_input": "2024-09-12T12:15:35.276199Z",
     "iopub.status.busy": "2024-09-12T12:15:35.275975Z",
     "iopub.status.idle": "2024-09-12T12:15:36.869583Z",
     "shell.execute_reply": "2024-09-12T12:15:36.868895Z"
    }
   },
   "outputs": [],
   "source": [
    "%matplotlib inline"
   ]
  },
  {
   "cell_type": "code",
   "execution_count": 2,
   "metadata": {
    "execution": {
     "iopub.execute_input": "2024-09-12T12:15:36.872711Z",
     "iopub.status.busy": "2024-09-12T12:15:36.872416Z",
     "iopub.status.idle": "2024-09-12T12:15:39.166565Z",
     "shell.execute_reply": "2024-09-12T12:15:39.165751Z"
    }
   },
   "outputs": [],
   "source": [
    "import numpy as np\n",
    "import matplotlib.pyplot as plt\n",
    "\n",
    "import statsmodels.api as sm\n",
    "\n",
    "plt.rc(\"figure\", figsize=(16, 8))\n",
    "plt.rc(\"font\", size=14)"
   ]
  },
  {
   "cell_type": "markdown",
   "metadata": {},
   "source": [
    "## Artificial data"
   ]
  },
  {
   "cell_type": "code",
   "execution_count": 3,
   "metadata": {
    "execution": {
     "iopub.execute_input": "2024-09-12T12:15:39.170422Z",
     "iopub.status.busy": "2024-09-12T12:15:39.170058Z",
     "iopub.status.idle": "2024-09-12T12:15:39.185543Z",
     "shell.execute_reply": "2024-09-12T12:15:39.184883Z"
    }
   },
   "outputs": [],
   "source": [
    "nsample = 50\n",
    "sig = 0.25\n",
    "x1 = np.linspace(0, 20, nsample)\n",
    "X = np.column_stack((x1, np.sin(x1), (x1 - 5) ** 2))\n",
    "X = sm.add_constant(X)\n",
    "beta = [5.0, 0.5, 0.5, -0.02]\n",
    "y_true = np.dot(X, beta)\n",
    "y = y_true + sig * np.random.normal(size=nsample)"
   ]
  },
  {
   "cell_type": "markdown",
   "metadata": {},
   "source": [
    "## Estimation "
   ]
  },
  {
   "cell_type": "code",
   "execution_count": 4,
   "metadata": {
    "execution": {
     "iopub.execute_input": "2024-09-12T12:15:39.189982Z",
     "iopub.status.busy": "2024-09-12T12:15:39.188909Z",
     "iopub.status.idle": "2024-09-12T12:15:39.205586Z",
     "shell.execute_reply": "2024-09-12T12:15:39.204911Z"
    }
   },
   "outputs": [
    {
     "name": "stdout",
     "output_type": "stream",
     "text": [
      "                            OLS Regression Results                            \n",
      "==============================================================================\n",
      "Dep. Variable:                      y   R-squared:                       0.987\n",
      "Model:                            OLS   Adj. R-squared:                  0.986\n",
      "Method:                 Least Squares   F-statistic:                     1139.\n",
      "Date:                Thu, 12 Sep 2024   Prob (F-statistic):           3.75e-43\n",
      "Time:                        12:15:39   Log-Likelihood:                 7.2110\n",
      "No. Observations:                  50   AIC:                            -6.422\n",
      "Df Residuals:                      46   BIC:                             1.226\n",
      "Df Model:                           3                                         \n",
      "Covariance Type:            nonrobust                                         \n",
      "==============================================================================\n",
      "                 coef    std err          t      P>|t|      [0.025      0.975]\n",
      "------------------------------------------------------------------------------\n",
      "const          5.0991      0.074     68.502      0.000       4.949       5.249\n",
      "x1             0.4849      0.011     42.240      0.000       0.462       0.508\n",
      "x2             0.3344      0.045      7.410      0.000       0.244       0.425\n",
      "x3            -0.0191      0.001    -18.914      0.000      -0.021      -0.017\n",
      "==============================================================================\n",
      "Omnibus:                        2.233   Durbin-Watson:                   2.212\n",
      "Prob(Omnibus):                  0.327   Jarque-Bera (JB):                1.997\n",
      "Skew:                           0.480   Prob(JB):                        0.368\n",
      "Kurtosis:                       2.811   Cond. No.                         221.\n",
      "==============================================================================\n",
      "\n",
      "Notes:\n",
      "[1] Standard Errors assume that the covariance matrix of the errors is correctly specified.\n"
     ]
    }
   ],
   "source": [
    "olsmod = sm.OLS(y, X)\n",
    "olsres = olsmod.fit()\n",
    "print(olsres.summary())"
   ]
  },
  {
   "cell_type": "markdown",
   "metadata": {},
   "source": [
    "## In-sample prediction"
   ]
  },
  {
   "cell_type": "code",
   "execution_count": 5,
   "metadata": {
    "execution": {
     "iopub.execute_input": "2024-09-12T12:15:39.210143Z",
     "iopub.status.busy": "2024-09-12T12:15:39.209018Z",
     "iopub.status.idle": "2024-09-12T12:15:39.221709Z",
     "shell.execute_reply": "2024-09-12T12:15:39.221086Z"
    }
   },
   "outputs": [
    {
     "name": "stdout",
     "output_type": "stream",
     "text": [
      "[ 4.62249526  5.02779014  5.40492567  5.73567757  6.00839859  6.21993216\n",
      "  6.37613097  6.49089541  6.58388977  6.67731147  6.79224403  6.94519319\n",
      "  7.145375    7.39320167  7.68021384  7.99047045  8.30316778  8.59605747\n",
      "  8.84910184  9.04776604  9.18540606  9.26436038  9.29556568  9.29676006\n",
      "  9.28956864  9.29595069  9.33459173  9.41783356  9.54964658  9.72497739\n",
      "  9.93057913 10.14718782 10.35268747 10.52574358 10.64930841 10.71342184\n",
      " 10.71684778 10.66727731 10.58006499 10.47570619 10.37646975 10.30273927\n",
      " 10.26966415 10.28467056 10.34624139 10.44416545 10.5612152  10.67597711\n",
      " 10.76636993 10.81327251]\n"
     ]
    }
   ],
   "source": [
    "ypred = olsres.predict(X)\n",
    "print(ypred)"
   ]
  },
  {
   "cell_type": "markdown",
   "metadata": {},
   "source": [
    "## Create a new sample of explanatory variables Xnew, predict and plot"
   ]
  },
  {
   "cell_type": "code",
   "execution_count": 6,
   "metadata": {
    "execution": {
     "iopub.execute_input": "2024-09-12T12:15:39.225900Z",
     "iopub.status.busy": "2024-09-12T12:15:39.224826Z",
     "iopub.status.idle": "2024-09-12T12:15:39.241491Z",
     "shell.execute_reply": "2024-09-12T12:15:39.240886Z"
    }
   },
   "outputs": [
    {
     "name": "stdout",
     "output_type": "stream",
     "text": [
      "[10.79304876 10.68168047 10.49228138 10.25473608 10.00838317  9.79238384\n",
      "  9.63613383  9.55206634  9.5326079   9.5520327 ]\n"
     ]
    }
   ],
   "source": [
    "x1n = np.linspace(20.5, 25, 10)\n",
    "Xnew = np.column_stack((x1n, np.sin(x1n), (x1n - 5) ** 2))\n",
    "Xnew = sm.add_constant(Xnew)\n",
    "ynewpred = olsres.predict(Xnew)  # predict out of sample\n",
    "print(ynewpred)"
   ]
  },
  {
   "cell_type": "markdown",
   "metadata": {},
   "source": [
    "## Plot comparison"
   ]
  },
  {
   "cell_type": "code",
   "execution_count": 7,
   "metadata": {
    "execution": {
     "iopub.execute_input": "2024-09-12T12:15:39.245613Z",
     "iopub.status.busy": "2024-09-12T12:15:39.244549Z",
     "iopub.status.idle": "2024-09-12T12:15:39.904333Z",
     "shell.execute_reply": "2024-09-12T12:15:39.903625Z"
    }
   },
   "outputs": [
    {
     "data": {
      "text/plain": [
       "<matplotlib.legend.Legend at 0x7f39a5bd1ff0>"
      ]
     },
     "execution_count": 7,
     "metadata": {},
     "output_type": "execute_result"
    },
    {
     "data": {
      "image/png": "[encoded data removed]",
      "text/plain": [
       "<Figure size 1600x800 with 1 Axes>"
      ]
     },
     "metadata": {},
     "output_type": "display_data"
    }
   ],
   "source": [
    "import matplotlib.pyplot as plt\n",
    "\n",
    "fig, ax = plt.subplots()\n",
    "ax.plot(x1, y, \"o\", label=\"Data\")\n",
    "ax.plot(x1, y_true, \"b-\", label=\"True\")\n",
    "ax.plot(np.hstack((x1, x1n)), np.hstack((ypred, ynewpred)), \"r\", label=\"OLS prediction\")\n",
    "ax.legend(loc=\"best\")"
   ]
  },
  {
   "cell_type": "markdown",
   "metadata": {},
   "source": [
    "## Predicting with Formulas"
   ]
  },
  {
   "cell_type": "markdown",
   "metadata": {},
   "source": [
    "Using formulas can make both estimation and prediction a lot easier"
   ]
  },
  {
   "cell_type": "code",
   "execution_count": 8,
   "metadata": {
    "execution": {
     "iopub.execute_input": "2024-09-12T12:15:39.907753Z",
     "iopub.status.busy": "2024-09-12T12:15:39.907181Z",
     "iopub.status.idle": "2024-09-12T12:15:39.915113Z",
     "shell.execute_reply": "2024-09-12T12:15:39.914457Z"
    }
   },
   "outputs": [],
   "source": [
    "from statsmodels.formula.api import ols\n",
    "\n",
    "data = {\"x1\": x1, \"y\": y}\n",
    "\n",
    "res = ols(\"y ~ x1 + np.sin(x1) + I((x1-5)**2)\", data=data).fit()"
   ]
  },
  {
   "cell_type": "markdown",
   "metadata": {},
   "source": [
    "We use the `I` to indicate use of the Identity transform. Ie., we do not want any expansion magic from using `**2`"
   ]
  },
  {
   "cell_type": "code",
   "execution_count": 9,
   "metadata": {
    "execution": {
     "iopub.execute_input": "2024-09-12T12:15:39.918308Z",
     "iopub.status.busy": "2024-09-12T12:15:39.917896Z",
     "iopub.status.idle": "2024-09-12T12:15:39.939459Z",
     "shell.execute_reply": "2024-09-12T12:15:39.938780Z"
    }
   },
   "outputs": [
    {
     "data": {
      "text/plain": [
       "Intercept           5.099109\n",
       "x1                  0.484920\n",
       "np.sin(x1)          0.334396\n",
       "I((x1 - 5) ** 2)   -0.019065\n",
       "dtype: float64"
      ]
     },
     "execution_count": 9,
     "metadata": {},
     "output_type": "execute_result"
    }
   ],
   "source": [
    "res.params"
   ]
  },
  {
   "cell_type": "markdown",
   "metadata": {},
   "source": [
    "Now we only have to pass the single variable and we get the transformed right-hand side variables automatically"
   ]
  },
  {
   "cell_type": "code",
   "execution_count": 10,
   "metadata": {
    "execution": {
     "iopub.execute_input": "2024-09-12T12:15:39.942899Z",
     "iopub.status.busy": "2024-09-12T12:15:39.942468Z",
     "iopub.status.idle": "2024-09-12T12:15:39.949562Z",
     "shell.execute_reply": "2024-09-12T12:15:39.948949Z"
    }
   },
   "outputs": [
    {
     "data": {
      "text/plain": [
       "0    10.793049\n",
       "1    10.681680\n",
       "2    10.492281\n",
       "3    10.254736\n",
       "4    10.008383\n",
       "5     9.792384\n",
       "6     9.636134\n",
       "7     9.552066\n",
       "8     9.532608\n",
       "9     9.552033\n",
       "dtype: float64"
      ]
     },
     "execution_count": 10,
     "metadata": {},
     "output_type": "execute_result"
    }
   ],
   "source": [
    "res.predict(exog=dict(x1=x1n))"
   ]
  }
 ],
 "metadata": {
  "kernelspec": {
   "display_name": "Python 3",
   "language": "python",
   "name": "python3"
  },
  "language_info": {
   "codemirror_mode": {
    "name": "ipython",
    "version": 3
   },
   "file_extension": ".py",
   "mimetype": "text/x-python",
   "name": "python",
   "nbconvert_exporter": "python",
   "pygments_lexer": "ipython3",
   "version": "3.10.14"
  }
 },
 "nbformat": 4,
 "nbformat_minor": 4
}
