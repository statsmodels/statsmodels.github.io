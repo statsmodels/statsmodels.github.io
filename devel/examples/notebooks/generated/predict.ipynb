{
 "cells": [
  {
   "cell_type": "markdown",
   "metadata": {},
   "source": [
    "# Prediction (out of sample)"
   ]
  },
  {
   "cell_type": "code",
   "execution_count": 1,
   "metadata": {
    "execution": {
     "iopub.execute_input": "2024-06-01T19:21:35.891433Z",
     "iopub.status.busy": "2024-06-01T19:21:35.891186Z",
     "iopub.status.idle": "2024-06-01T19:21:37.603988Z",
     "shell.execute_reply": "2024-06-01T19:21:37.603315Z"
    }
   },
   "outputs": [],
   "source": [
    "%matplotlib inline"
   ]
  },
  {
   "cell_type": "code",
   "execution_count": 2,
   "metadata": {
    "execution": {
     "iopub.execute_input": "2024-06-01T19:21:37.607289Z",
     "iopub.status.busy": "2024-06-01T19:21:37.606785Z",
     "iopub.status.idle": "2024-06-01T19:21:40.480920Z",
     "shell.execute_reply": "2024-06-01T19:21:40.480231Z"
    }
   },
   "outputs": [],
   "source": [
    "import numpy as np\n",
    "import matplotlib.pyplot as plt\n",
    "\n",
    "import statsmodels.api as sm\n",
    "\n",
    "plt.rc(\"figure\", figsize=(16, 8))\n",
    "plt.rc(\"font\", size=14)"
   ]
  },
  {
   "cell_type": "markdown",
   "metadata": {},
   "source": [
    "## Artificial data"
   ]
  },
  {
   "cell_type": "code",
   "execution_count": 3,
   "metadata": {
    "execution": {
     "iopub.execute_input": "2024-06-01T19:21:40.484534Z",
     "iopub.status.busy": "2024-06-01T19:21:40.483949Z",
     "iopub.status.idle": "2024-06-01T19:21:40.495910Z",
     "shell.execute_reply": "2024-06-01T19:21:40.495330Z"
    }
   },
   "outputs": [],
   "source": [
    "nsample = 50\n",
    "sig = 0.25\n",
    "x1 = np.linspace(0, 20, nsample)\n",
    "X = np.column_stack((x1, np.sin(x1), (x1 - 5) ** 2))\n",
    "X = sm.add_constant(X)\n",
    "beta = [5.0, 0.5, 0.5, -0.02]\n",
    "y_true = np.dot(X, beta)\n",
    "y = y_true + sig * np.random.normal(size=nsample)"
   ]
  },
  {
   "cell_type": "markdown",
   "metadata": {},
   "source": [
    "## Estimation "
   ]
  },
  {
   "cell_type": "code",
   "execution_count": 4,
   "metadata": {
    "execution": {
     "iopub.execute_input": "2024-06-01T19:21:40.498899Z",
     "iopub.status.busy": "2024-06-01T19:21:40.498447Z",
     "iopub.status.idle": "2024-06-01T19:21:40.543987Z",
     "shell.execute_reply": "2024-06-01T19:21:40.543340Z"
    }
   },
   "outputs": [
    {
     "name": "stdout",
     "output_type": "stream",
     "text": [
      "                            OLS Regression Results                            \n",
      "==============================================================================\n",
      "Dep. Variable:                      y   R-squared:                       0.987\n",
      "Model:                            OLS   Adj. R-squared:                  0.987\n",
      "Method:                 Least Squares   F-statistic:                     1200.\n",
      "Date:                Sat, 01 Jun 2024   Prob (F-statistic):           1.15e-43\n",
      "Time:                        19:21:40   Log-Likelihood:                 7.3136\n",
      "No. Observations:                  50   AIC:                            -6.627\n",
      "Df Residuals:                      46   BIC:                             1.021\n",
      "Df Model:                           3                                         \n",
      "Covariance Type:            nonrobust                                         \n",
      "==============================================================================\n",
      "                 coef    std err          t      P>|t|      [0.025      0.975]\n",
      "------------------------------------------------------------------------------\n",
      "const          5.0701      0.074     68.253      0.000       4.921       5.220\n",
      "x1             0.4752      0.011     41.474      0.000       0.452       0.498\n",
      "x2             0.5085      0.045     11.290      0.000       0.418       0.599\n",
      "x3            -0.0169      0.001    -16.844      0.000      -0.019      -0.015\n",
      "==============================================================================\n",
      "Omnibus:                        1.293   Durbin-Watson:                   2.125\n",
      "Prob(Omnibus):                  0.524   Jarque-Bera (JB):                1.222\n",
      "Skew:                          -0.246   Prob(JB):                        0.543\n",
      "Kurtosis:                       2.413   Cond. No.                         221.\n",
      "==============================================================================\n",
      "\n",
      "Notes:\n",
      "[1] Standard Errors assume that the covariance matrix of the errors is correctly specified.\n"
     ]
    }
   ],
   "source": [
    "olsmod = sm.OLS(y, X)\n",
    "olsres = olsmod.fit()\n",
    "print(olsres.summary())"
   ]
  },
  {
   "cell_type": "markdown",
   "metadata": {},
   "source": [
    "## In-sample prediction"
   ]
  },
  {
   "cell_type": "code",
   "execution_count": 5,
   "metadata": {
    "execution": {
     "iopub.execute_input": "2024-06-01T19:21:40.547134Z",
     "iopub.status.busy": "2024-06-01T19:21:40.546670Z",
     "iopub.status.idle": "2024-06-01T19:21:40.551210Z",
     "shell.execute_reply": "2024-06-01T19:21:40.550606Z"
    }
   },
   "outputs": [
    {
     "name": "stdout",
     "output_type": "stream",
     "text": [
      "[ 4.6465191   5.10862058  5.53191685  5.88869617  6.16124781  6.3447719\n",
      "  6.44816801  6.492573    6.50788827  6.52786704  6.58456883  6.70309214\n",
      "  6.89745084  7.16827174  7.50269159  7.87647051  8.25797449  8.61337282\n",
      "  8.91219631  9.13234335  9.26371115  9.30985552  9.28740677  9.22333729\n",
      "  9.15053016  9.10237647  9.10728931  9.18403557  9.33865259  9.56345622\n",
      "  9.83830334 10.1339013  10.41662062 10.65402023 10.82017741 10.89994687\n",
      " 10.89144904 10.80637889 10.66808451 10.50773101 10.35918025 10.25342743\n",
      " 10.2135086  10.25071598 10.36274264 10.53406152 10.73847651 10.94342636\n",
      " 11.11533444 11.22512523]\n"
     ]
    }
   ],
   "source": [
    "ypred = olsres.predict(X)\n",
    "print(ypred)"
   ]
  },
  {
   "cell_type": "markdown",
   "metadata": {},
   "source": [
    "## Create a new sample of explanatory variables Xnew, predict and plot"
   ]
  },
  {
   "cell_type": "code",
   "execution_count": 6,
   "metadata": {
    "execution": {
     "iopub.execute_input": "2024-06-01T19:21:40.554224Z",
     "iopub.status.busy": "2024-06-01T19:21:40.553761Z",
     "iopub.status.idle": "2024-06-01T19:21:40.563926Z",
     "shell.execute_reply": "2024-06-01T19:21:40.563334Z"
    }
   },
   "outputs": [
    {
     "name": "stdout",
     "output_type": "stream",
     "text": [
      "[11.24697007 11.13624417 10.91288821 10.62234448 10.32443106 10.07869618\n",
      "  9.92983884  9.89676487  9.96795812 10.10430007]\n"
     ]
    }
   ],
   "source": [
    "x1n = np.linspace(20.5, 25, 10)\n",
    "Xnew = np.column_stack((x1n, np.sin(x1n), (x1n - 5) ** 2))\n",
    "Xnew = sm.add_constant(Xnew)\n",
    "ynewpred = olsres.predict(Xnew)  # predict out of sample\n",
    "print(ynewpred)"
   ]
  },
  {
   "cell_type": "markdown",
   "metadata": {},
   "source": [
    "## Plot comparison"
   ]
  },
  {
   "cell_type": "code",
   "execution_count": 7,
   "metadata": {
    "execution": {
     "iopub.execute_input": "2024-06-01T19:21:40.566964Z",
     "iopub.status.busy": "2024-06-01T19:21:40.566469Z",
     "iopub.status.idle": "2024-06-01T19:21:41.369179Z",
     "shell.execute_reply": "2024-06-01T19:21:41.368531Z"
    }
   },
   "outputs": [
    {
     "data": {
      "text/plain": [
       "<matplotlib.legend.Legend at 0x7f3654443520>"
      ]
     },
     "execution_count": 7,
     "metadata": {},
     "output_type": "execute_result"
    },
    {
     "data": {
      "image/png": "[encoded data removed]",
      "text/plain": [
       "<Figure size 1600x800 with 1 Axes>"
      ]
     },
     "metadata": {},
     "output_type": "display_data"
    }
   ],
   "source": [
    "import matplotlib.pyplot as plt\n",
    "\n",
    "fig, ax = plt.subplots()\n",
    "ax.plot(x1, y, \"o\", label=\"Data\")\n",
    "ax.plot(x1, y_true, \"b-\", label=\"True\")\n",
    "ax.plot(np.hstack((x1, x1n)), np.hstack((ypred, ynewpred)), \"r\", label=\"OLS prediction\")\n",
    "ax.legend(loc=\"best\")"
   ]
  },
  {
   "cell_type": "markdown",
   "metadata": {},
   "source": [
    "## Predicting with Formulas"
   ]
  },
  {
   "cell_type": "markdown",
   "metadata": {},
   "source": [
    "Using formulas can make both estimation and prediction a lot easier"
   ]
  },
  {
   "cell_type": "code",
   "execution_count": 8,
   "metadata": {
    "execution": {
     "iopub.execute_input": "2024-06-01T19:21:41.372061Z",
     "iopub.status.busy": "2024-06-01T19:21:41.371818Z",
     "iopub.status.idle": "2024-06-01T19:21:41.383927Z",
     "shell.execute_reply": "2024-06-01T19:21:41.383332Z"
    }
   },
   "outputs": [],
   "source": [
    "from statsmodels.formula.api import ols\n",
    "\n",
    "data = {\"x1\": x1, \"y\": y}\n",
    "\n",
    "res = ols(\"y ~ x1 + np.sin(x1) + I((x1-5)**2)\", data=data).fit()"
   ]
  },
  {
   "cell_type": "markdown",
   "metadata": {},
   "source": [
    "We use the `I` to indicate use of the Identity transform. Ie., we do not want any expansion magic from using `**2`"
   ]
  },
  {
   "cell_type": "code",
   "execution_count": 9,
   "metadata": {
    "execution": {
     "iopub.execute_input": "2024-06-01T19:21:41.387954Z",
     "iopub.status.busy": "2024-06-01T19:21:41.386884Z",
     "iopub.status.idle": "2024-06-01T19:21:41.402634Z",
     "shell.execute_reply": "2024-06-01T19:21:41.402021Z"
    }
   },
   "outputs": [
    {
     "data": {
      "text/plain": [
       "Intercept           5.070101\n",
       "x1                  0.475152\n",
       "np.sin(x1)          0.508481\n",
       "I((x1 - 5) ** 2)   -0.016943\n",
       "dtype: float64"
      ]
     },
     "execution_count": 9,
     "metadata": {},
     "output_type": "execute_result"
    }
   ],
   "source": [
    "res.params"
   ]
  },
  {
   "cell_type": "markdown",
   "metadata": {},
   "source": [
    "Now we only have to pass the single variable and we get the transformed right-hand side variables automatically"
   ]
  },
  {
   "cell_type": "code",
   "execution_count": 10,
   "metadata": {
    "execution": {
     "iopub.execute_input": "2024-06-01T19:21:41.406756Z",
     "iopub.status.busy": "2024-06-01T19:21:41.405695Z",
     "iopub.status.idle": "2024-06-01T19:21:41.431911Z",
     "shell.execute_reply": "2024-06-01T19:21:41.431329Z"
    }
   },
   "outputs": [
    {
     "data": {
      "text/plain": [
       "0    11.246970\n",
       "1    11.136244\n",
       "2    10.912888\n",
       "3    10.622344\n",
       "4    10.324431\n",
       "5    10.078696\n",
       "6     9.929839\n",
       "7     9.896765\n",
       "8     9.967958\n",
       "9    10.104300\n",
       "dtype: float64"
      ]
     },
     "execution_count": 10,
     "metadata": {},
     "output_type": "execute_result"
    }
   ],
   "source": [
    "res.predict(exog=dict(x1=x1n))"
   ]
  }
 ],
 "metadata": {
  "kernelspec": {
   "display_name": "Python 3",
   "language": "python",
   "name": "python3"
  },
  "language_info": {
   "codemirror_mode": {
    "name": "ipython",
    "version": 3
   },
   "file_extension": ".py",
   "mimetype": "text/x-python",
   "name": "python",
   "nbconvert_exporter": "python",
   "pygments_lexer": "ipython3",
   "version": "3.10.14"
  }
 },
 "nbformat": 4,
 "nbformat_minor": 4
}
