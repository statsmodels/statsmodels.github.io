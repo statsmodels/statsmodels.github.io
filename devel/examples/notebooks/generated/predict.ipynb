{
 "cells": [
  {
   "cell_type": "markdown",
   "metadata": {},
   "source": [
    "# Prediction (out of sample)"
   ]
  },
  {
   "cell_type": "code",
   "execution_count": 1,
   "metadata": {
    "execution": {
     "iopub.execute_input": "2024-10-28T23:51:55.587279Z",
     "iopub.status.busy": "2024-10-28T23:51:55.587028Z",
     "iopub.status.idle": "2024-10-28T23:51:56.311358Z",
     "shell.execute_reply": "2024-10-28T23:51:56.310428Z"
    }
   },
   "outputs": [],
   "source": [
    "%matplotlib inline"
   ]
  },
  {
   "cell_type": "code",
   "execution_count": 2,
   "metadata": {
    "execution": {
     "iopub.execute_input": "2024-10-28T23:51:56.315242Z",
     "iopub.status.busy": "2024-10-28T23:51:56.314616Z",
     "iopub.status.idle": "2024-10-28T23:51:57.511170Z",
     "shell.execute_reply": "2024-10-28T23:51:57.510243Z"
    }
   },
   "outputs": [],
   "source": [
    "import numpy as np\n",
    "import matplotlib.pyplot as plt\n",
    "\n",
    "import statsmodels.api as sm\n",
    "\n",
    "plt.rc(\"figure\", figsize=(16, 8))\n",
    "plt.rc(\"font\", size=14)"
   ]
  },
  {
   "cell_type": "markdown",
   "metadata": {},
   "source": [
    "## Artificial data"
   ]
  },
  {
   "cell_type": "code",
   "execution_count": 3,
   "metadata": {
    "execution": {
     "iopub.execute_input": "2024-10-28T23:51:57.515182Z",
     "iopub.status.busy": "2024-10-28T23:51:57.514044Z",
     "iopub.status.idle": "2024-10-28T23:51:57.521069Z",
     "shell.execute_reply": "2024-10-28T23:51:57.520239Z"
    }
   },
   "outputs": [],
   "source": [
    "nsample = 50\n",
    "sig = 0.25\n",
    "x1 = np.linspace(0, 20, nsample)\n",
    "X = np.column_stack((x1, np.sin(x1), (x1 - 5) ** 2))\n",
    "X = sm.add_constant(X)\n",
    "beta = [5.0, 0.5, 0.5, -0.02]\n",
    "y_true = np.dot(X, beta)\n",
    "y = y_true + sig * np.random.normal(size=nsample)"
   ]
  },
  {
   "cell_type": "markdown",
   "metadata": {},
   "source": [
    "## Estimation "
   ]
  },
  {
   "cell_type": "code",
   "execution_count": 4,
   "metadata": {
    "execution": {
     "iopub.execute_input": "2024-10-28T23:51:57.524155Z",
     "iopub.status.busy": "2024-10-28T23:51:57.523585Z",
     "iopub.status.idle": "2024-10-28T23:51:57.540067Z",
     "shell.execute_reply": "2024-10-28T23:51:57.539205Z"
    }
   },
   "outputs": [
    {
     "name": "stdout",
     "output_type": "stream",
     "text": [
      "                            OLS Regression Results                            \n",
      "==============================================================================\n",
      "Dep. Variable:                      y   R-squared:                       0.986\n",
      "Model:                            OLS   Adj. R-squared:                  0.985\n",
      "Method:                 Least Squares   F-statistic:                     1109.\n",
      "Date:                Mon, 28 Oct 2024   Prob (F-statistic):           6.83e-43\n",
      "Time:                        23:51:57   Log-Likelihood:                 6.4232\n",
      "No. Observations:                  50   AIC:                            -4.846\n",
      "Df Residuals:                      46   BIC:                             2.802\n",
      "Df Model:                           3                                         \n",
      "Covariance Type:            nonrobust                                         \n",
      "==============================================================================\n",
      "                 coef    std err          t      P>|t|      [0.025      0.975]\n",
      "------------------------------------------------------------------------------\n",
      "const          5.0869      0.076     67.270      0.000       4.935       5.239\n",
      "x1             0.4922      0.012     42.204      0.000       0.469       0.516\n",
      "x2             0.5146      0.046     11.225      0.000       0.422       0.607\n",
      "x3            -0.0198      0.001    -19.342      0.000      -0.022      -0.018\n",
      "==============================================================================\n",
      "Omnibus:                        5.394   Durbin-Watson:                   1.783\n",
      "Prob(Omnibus):                  0.067   Jarque-Bera (JB):                4.662\n",
      "Skew:                           0.481   Prob(JB):                       0.0972\n",
      "Kurtosis:                       4.145   Cond. No.                         221.\n",
      "==============================================================================\n",
      "\n",
      "Notes:\n",
      "[1] Standard Errors assume that the covariance matrix of the errors is correctly specified.\n"
     ]
    }
   ],
   "source": [
    "olsmod = sm.OLS(y, X)\n",
    "olsres = olsmod.fit()\n",
    "print(olsres.summary())"
   ]
  },
  {
   "cell_type": "markdown",
   "metadata": {},
   "source": [
    "## In-sample prediction"
   ]
  },
  {
   "cell_type": "code",
   "execution_count": 5,
   "metadata": {
    "execution": {
     "iopub.execute_input": "2024-10-28T23:51:57.543068Z",
     "iopub.status.busy": "2024-10-28T23:51:57.542557Z",
     "iopub.status.idle": "2024-10-28T23:51:57.547603Z",
     "shell.execute_reply": "2024-10-28T23:51:57.546829Z"
    }
   },
   "outputs": [
    {
     "name": "stdout",
     "output_type": "stream",
     "text": [
      "[ 4.59175093  5.07445229  5.51699424  5.89133044  6.17953634  6.37675411\n",
      "  6.49199077  6.54663839  6.57095938  6.59911454  6.66355044  6.78966863\n",
      "  6.99165218  7.27013547  7.61209995  7.99301306  8.38085884  8.74139809\n",
      "  9.04379377  9.2656774   9.39682418  9.44083291  9.41453464  9.34522746\n",
      "  9.26619145  9.2112209   9.20907194  9.27873805  9.42632947  9.64406927\n",
      "  9.91157113 10.19918871 10.4728865  10.69983171 10.85378865 10.91942916\n",
      " 10.89485097 10.79189028 10.63417705 10.4532527  10.28338794 10.15595219\n",
      " 10.09425965 10.10973888 10.2000551  10.34949377 10.53154249 10.71324687\n",
      " 10.86062485 10.9442499 ]\n"
     ]
    }
   ],
   "source": [
    "ypred = olsres.predict(X)\n",
    "print(ypred)"
   ]
  },
  {
   "cell_type": "markdown",
   "metadata": {},
   "source": [
    "## Create a new sample of explanatory variables Xnew, predict and plot"
   ]
  },
  {
   "cell_type": "code",
   "execution_count": 6,
   "metadata": {
    "execution": {
     "iopub.execute_input": "2024-10-28T23:51:57.550583Z",
     "iopub.status.busy": "2024-10-28T23:51:57.549889Z",
     "iopub.status.idle": "2024-10-28T23:51:57.556235Z",
     "shell.execute_reply": "2024-10-28T23:51:57.555358Z"
    }
   },
   "outputs": [
    {
     "name": "stdout",
     "output_type": "stream",
     "text": [
      "[10.93147457 10.78319879 10.51960401 10.18668119  9.84497064  9.5547396\n",
      "  9.36122675  9.28356618  9.31010271  9.4012455 ]\n"
     ]
    }
   ],
   "source": [
    "x1n = np.linspace(20.5, 25, 10)\n",
    "Xnew = np.column_stack((x1n, np.sin(x1n), (x1n - 5) ** 2))\n",
    "Xnew = sm.add_constant(Xnew)\n",
    "ynewpred = olsres.predict(Xnew)  # predict out of sample\n",
    "print(ynewpred)"
   ]
  },
  {
   "cell_type": "markdown",
   "metadata": {},
   "source": [
    "## Plot comparison"
   ]
  },
  {
   "cell_type": "code",
   "execution_count": 7,
   "metadata": {
    "execution": {
     "iopub.execute_input": "2024-10-28T23:51:57.559061Z",
     "iopub.status.busy": "2024-10-28T23:51:57.558803Z",
     "iopub.status.idle": "2024-10-28T23:51:57.748036Z",
     "shell.execute_reply": "2024-10-28T23:51:57.747382Z"
    }
   },
   "outputs": [
    {
     "data": {
      "text/plain": [
       "<matplotlib.legend.Legend at 0x7fda9faa9a80>"
      ]
     },
     "execution_count": 7,
     "metadata": {},
     "output_type": "execute_result"
    },
    {
     "data": {
      "image/png": "[encoded data removed]",
      "text/plain": [
       "<Figure size 1600x800 with 1 Axes>"
      ]
     },
     "metadata": {},
     "output_type": "display_data"
    }
   ],
   "source": [
    "import matplotlib.pyplot as plt\n",
    "\n",
    "fig, ax = plt.subplots()\n",
    "ax.plot(x1, y, \"o\", label=\"Data\")\n",
    "ax.plot(x1, y_true, \"b-\", label=\"True\")\n",
    "ax.plot(np.hstack((x1, x1n)), np.hstack((ypred, ynewpred)), \"r\", label=\"OLS prediction\")\n",
    "ax.legend(loc=\"best\")"
   ]
  },
  {
   "cell_type": "markdown",
   "metadata": {},
   "source": [
    "## Predicting with Formulas"
   ]
  },
  {
   "cell_type": "markdown",
   "metadata": {},
   "source": [
    "Using formulas can make both estimation and prediction a lot easier"
   ]
  },
  {
   "cell_type": "code",
   "execution_count": 8,
   "metadata": {
    "execution": {
     "iopub.execute_input": "2024-10-28T23:51:57.750830Z",
     "iopub.status.busy": "2024-10-28T23:51:57.750425Z",
     "iopub.status.idle": "2024-10-28T23:51:57.759095Z",
     "shell.execute_reply": "2024-10-28T23:51:57.758407Z"
    }
   },
   "outputs": [],
   "source": [
    "from statsmodels.formula.api import ols\n",
    "\n",
    "data = {\"x1\": x1, \"y\": y}\n",
    "\n",
    "res = ols(\"y ~ x1 + np.sin(x1) + I((x1-5)**2)\", data=data).fit()"
   ]
  },
  {
   "cell_type": "markdown",
   "metadata": {},
   "source": [
    "We use the `I` to indicate use of the Identity transform. Ie., we do not want any expansion magic from using `**2`"
   ]
  },
  {
   "cell_type": "code",
   "execution_count": 9,
   "metadata": {
    "execution": {
     "iopub.execute_input": "2024-10-28T23:51:57.762484Z",
     "iopub.status.busy": "2024-10-28T23:51:57.762005Z",
     "iopub.status.idle": "2024-10-28T23:51:57.769951Z",
     "shell.execute_reply": "2024-10-28T23:51:57.769163Z"
    }
   },
   "outputs": [
    {
     "data": {
      "text/plain": [
       "Intercept           5.086900\n",
       "x1                  0.492193\n",
       "np.sin(x1)          0.514620\n",
       "I((x1 - 5) ** 2)   -0.019806\n",
       "dtype: float64"
      ]
     },
     "execution_count": 9,
     "metadata": {},
     "output_type": "execute_result"
    }
   ],
   "source": [
    "res.params"
   ]
  },
  {
   "cell_type": "markdown",
   "metadata": {},
   "source": [
    "Now we only have to pass the single variable and we get the transformed right-hand side variables automatically"
   ]
  },
  {
   "cell_type": "code",
   "execution_count": 10,
   "metadata": {
    "execution": {
     "iopub.execute_input": "2024-10-28T23:51:57.773753Z",
     "iopub.status.busy": "2024-10-28T23:51:57.772725Z",
     "iopub.status.idle": "2024-10-28T23:51:57.782284Z",
     "shell.execute_reply": "2024-10-28T23:51:57.781597Z"
    }
   },
   "outputs": [
    {
     "data": {
      "text/plain": [
       "0    10.931475\n",
       "1    10.783199\n",
       "2    10.519604\n",
       "3    10.186681\n",
       "4     9.844971\n",
       "5     9.554740\n",
       "6     9.361227\n",
       "7     9.283566\n",
       "8     9.310103\n",
       "9     9.401246\n",
       "dtype: float64"
      ]
     },
     "execution_count": 10,
     "metadata": {},
     "output_type": "execute_result"
    }
   ],
   "source": [
    "res.predict(exog=dict(x1=x1n))"
   ]
  }
 ],
 "metadata": {
  "kernelspec": {
   "display_name": "Python 3",
   "language": "python",
   "name": "python3"
  },
  "language_info": {
   "codemirror_mode": {
    "name": "ipython",
    "version": 3
   },
   "file_extension": ".py",
   "mimetype": "text/x-python",
   "name": "python",
   "nbconvert_exporter": "python",
   "pygments_lexer": "ipython3",
   "version": "3.10.15"
  }
 },
 "nbformat": 4,
 "nbformat_minor": 4
}
