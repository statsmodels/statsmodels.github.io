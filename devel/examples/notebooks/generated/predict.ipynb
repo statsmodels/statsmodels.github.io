{
 "cells": [
  {
   "cell_type": "markdown",
   "metadata": {},
   "source": [
    "# Prediction (out of sample)"
   ]
  },
  {
   "cell_type": "code",
   "execution_count": 1,
   "metadata": {
    "execution": {
     "iopub.execute_input": "2025-09-13T13:24:34.160719Z",
     "iopub.status.busy": "2025-09-13T13:24:34.160413Z",
     "iopub.status.idle": "2025-09-13T13:24:34.959511Z",
     "shell.execute_reply": "2025-09-13T13:24:34.958566Z"
    }
   },
   "outputs": [],
   "source": [
    "%matplotlib inline"
   ]
  },
  {
   "cell_type": "code",
   "execution_count": 2,
   "metadata": {
    "execution": {
     "iopub.execute_input": "2025-09-13T13:24:34.963018Z",
     "iopub.status.busy": "2025-09-13T13:24:34.962621Z",
     "iopub.status.idle": "2025-09-13T13:24:36.507362Z",
     "shell.execute_reply": "2025-09-13T13:24:36.506667Z"
    }
   },
   "outputs": [],
   "source": [
    "import numpy as np\n",
    "import matplotlib.pyplot as plt\n",
    "\n",
    "import statsmodels.api as sm\n",
    "\n",
    "plt.rc(\"figure\", figsize=(16, 8))\n",
    "plt.rc(\"font\", size=14)"
   ]
  },
  {
   "cell_type": "markdown",
   "metadata": {},
   "source": [
    "## Artificial data"
   ]
  },
  {
   "cell_type": "code",
   "execution_count": 3,
   "metadata": {
    "execution": {
     "iopub.execute_input": "2025-09-13T13:24:36.513154Z",
     "iopub.status.busy": "2025-09-13T13:24:36.512805Z",
     "iopub.status.idle": "2025-09-13T13:24:36.520648Z",
     "shell.execute_reply": "2025-09-13T13:24:36.520040Z"
    }
   },
   "outputs": [],
   "source": [
    "nsample = 50\n",
    "sig = 0.25\n",
    "x1 = np.linspace(0, 20, nsample)\n",
    "X = np.column_stack((x1, np.sin(x1), (x1 - 5) ** 2))\n",
    "X = sm.add_constant(X)\n",
    "beta = [5.0, 0.5, 0.5, -0.02]\n",
    "y_true = np.dot(X, beta)\n",
    "y = y_true + sig * np.random.normal(size=nsample)"
   ]
  },
  {
   "cell_type": "markdown",
   "metadata": {},
   "source": [
    "## Estimation "
   ]
  },
  {
   "cell_type": "code",
   "execution_count": 4,
   "metadata": {
    "execution": {
     "iopub.execute_input": "2025-09-13T13:24:36.527229Z",
     "iopub.status.busy": "2025-09-13T13:24:36.527004Z",
     "iopub.status.idle": "2025-09-13T13:24:36.550603Z",
     "shell.execute_reply": "2025-09-13T13:24:36.549977Z"
    }
   },
   "outputs": [
    {
     "name": "stdout",
     "output_type": "stream",
     "text": [
      "                            OLS Regression Results                            \n",
      "==============================================================================\n",
      "Dep. Variable:                      y   R-squared:                       0.982\n",
      "Model:                            OLS   Adj. R-squared:                  0.981\n",
      "Method:                 Least Squares   F-statistic:                     848.5\n",
      "Date:                Sat, 13 Sep 2025   Prob (F-statistic):           2.94e-40\n",
      "Time:                        13:24:36   Log-Likelihood:                -1.9242\n",
      "No. Observations:                  50   AIC:                             11.85\n",
      "Df Residuals:                      46   BIC:                             19.50\n",
      "Df Model:                           3                                         \n",
      "Covariance Type:            nonrobust                                         \n",
      "==============================================================================\n",
      "                 coef    std err          t      P>|t|      [0.025      0.975]\n",
      "------------------------------------------------------------------------------\n",
      "const          4.9799      0.089     55.730      0.000       4.800       5.160\n",
      "x1             0.4971      0.014     36.071      0.000       0.469       0.525\n",
      "x2             0.4944      0.054      9.125      0.000       0.385       0.603\n",
      "x3            -0.0191      0.001    -15.761      0.000      -0.022      -0.017\n",
      "==============================================================================\n",
      "Omnibus:                        0.239   Durbin-Watson:                   1.842\n",
      "Prob(Omnibus):                  0.887   Jarque-Bera (JB):                0.324\n",
      "Skew:                           0.152   Prob(JB):                        0.850\n",
      "Kurtosis:                       2.749   Cond. No.                         221.\n",
      "==============================================================================\n",
      "\n",
      "Notes:\n",
      "[1] Standard Errors assume that the covariance matrix of the errors is correctly specified.\n"
     ]
    }
   ],
   "source": [
    "olsmod = sm.OLS(y, X)\n",
    "olsres = olsmod.fit()\n",
    "print(olsres.summary())"
   ]
  },
  {
   "cell_type": "markdown",
   "metadata": {},
   "source": [
    "## In-sample prediction"
   ]
  },
  {
   "cell_type": "code",
   "execution_count": 5,
   "metadata": {
    "execution": {
     "iopub.execute_input": "2025-09-13T13:24:36.559841Z",
     "iopub.status.busy": "2025-09-13T13:24:36.557258Z",
     "iopub.status.idle": "2025-09-13T13:24:36.566047Z",
     "shell.execute_reply": "2025-09-13T13:24:36.562818Z"
    }
   },
   "outputs": [
    {
     "name": "stdout",
     "output_type": "stream",
     "text": [
      "[ 4.50316188  4.97695561  5.41215482  5.78181613  6.06871989  6.26819931\n",
      "  6.38890721  6.45139437  6.48473311  6.52174078  6.59358798  6.72467729\n",
      "  6.92863401  7.20606759  7.54447143  7.92027775  8.30272967  8.6589345\n",
      "  8.95926788  9.18224103  9.31803125  9.37009579  9.35460381  9.29777988\n",
      "  9.23159528  9.18851528  9.19616517  9.27279147  9.42426411  9.64311202\n",
      "  9.90975059 10.19569937 10.46826133 10.69589489 10.8533961  10.92603961\n",
      " 10.91199796 10.82264186 10.68067201 10.5163894  10.36271702 10.24979063\n",
      " 10.20000758 10.22434697 10.32056585 10.47356767 10.65788267 10.84185244\n",
      " 10.9928313  11.08254996]\n"
     ]
    }
   ],
   "source": [
    "ypred = olsres.predict(X)\n",
    "print(ypred)"
   ]
  },
  {
   "cell_type": "markdown",
   "metadata": {},
   "source": [
    "## Create a new sample of explanatory variables Xnew, predict and plot"
   ]
  },
  {
   "cell_type": "code",
   "execution_count": 6,
   "metadata": {
    "execution": {
     "iopub.execute_input": "2025-09-13T13:24:36.571416Z",
     "iopub.status.busy": "2025-09-13T13:24:36.571197Z",
     "iopub.status.idle": "2025-09-13T13:24:36.580113Z",
     "shell.execute_reply": "2025-09-13T13:24:36.579455Z"
    }
   },
   "outputs": [
    {
     "name": "stdout",
     "output_type": "stream",
     "text": [
      "[11.08175067 10.95075799 10.70895972 10.40053817 10.08365281  9.8162008\n",
      "  9.64164174  9.57835724  9.6151505   9.71398762]\n"
     ]
    }
   ],
   "source": [
    "x1n = np.linspace(20.5, 25, 10)\n",
    "Xnew = np.column_stack((x1n, np.sin(x1n), (x1n - 5) ** 2))\n",
    "Xnew = sm.add_constant(Xnew)\n",
    "ynewpred = olsres.predict(Xnew)  # predict out of sample\n",
    "print(ynewpred)"
   ]
  },
  {
   "cell_type": "markdown",
   "metadata": {},
   "source": [
    "## Plot comparison"
   ]
  },
  {
   "cell_type": "code",
   "execution_count": 7,
   "metadata": {
    "execution": {
     "iopub.execute_input": "2025-09-13T13:24:36.585944Z",
     "iopub.status.busy": "2025-09-13T13:24:36.585529Z",
     "iopub.status.idle": "2025-09-13T13:24:36.843312Z",
     "shell.execute_reply": "2025-09-13T13:24:36.842388Z"
    }
   },
   "outputs": [
    {
     "data": {
      "text/plain": [
       "<matplotlib.legend.Legend at 0x7f3d0714cb80>"
      ]
     },
     "execution_count": 7,
     "metadata": {},
     "output_type": "execute_result"
    },
    {
     "data": {
      "image/png": "[encoded data removed]",
      "text/plain": [
       "<Figure size 1600x800 with 1 Axes>"
      ]
     },
     "metadata": {},
     "output_type": "display_data"
    }
   ],
   "source": [
    "import matplotlib.pyplot as plt\n",
    "\n",
    "fig, ax = plt.subplots()\n",
    "ax.plot(x1, y, \"o\", label=\"Data\")\n",
    "ax.plot(x1, y_true, \"b-\", label=\"True\")\n",
    "ax.plot(np.hstack((x1, x1n)), np.hstack((ypred, ynewpred)), \"r\", label=\"OLS prediction\")\n",
    "ax.legend(loc=\"best\")"
   ]
  },
  {
   "cell_type": "markdown",
   "metadata": {},
   "source": [
    "## Predicting with Formulas"
   ]
  },
  {
   "cell_type": "markdown",
   "metadata": {},
   "source": [
    "Using formulas can make both estimation and prediction a lot easier"
   ]
  },
  {
   "cell_type": "code",
   "execution_count": 8,
   "metadata": {
    "execution": {
     "iopub.execute_input": "2025-09-13T13:24:36.846548Z",
     "iopub.status.busy": "2025-09-13T13:24:36.846250Z",
     "iopub.status.idle": "2025-09-13T13:24:36.857162Z",
     "shell.execute_reply": "2025-09-13T13:24:36.856309Z"
    }
   },
   "outputs": [],
   "source": [
    "from statsmodels.formula.api import ols\n",
    "\n",
    "data = {\"x1\": x1, \"y\": y}\n",
    "\n",
    "res = ols(\"y ~ x1 + np.sin(x1) + I((x1-5)**2)\", data=data).fit()"
   ]
  },
  {
   "cell_type": "markdown",
   "metadata": {},
   "source": [
    "We use the `I` to indicate use of the Identity transform. Ie., we do not want any expansion magic from using `**2`"
   ]
  },
  {
   "cell_type": "code",
   "execution_count": 9,
   "metadata": {
    "execution": {
     "iopub.execute_input": "2025-09-13T13:24:36.861503Z",
     "iopub.status.busy": "2025-09-13T13:24:36.860319Z",
     "iopub.status.idle": "2025-09-13T13:24:36.870159Z",
     "shell.execute_reply": "2025-09-13T13:24:36.869328Z"
    }
   },
   "outputs": [
    {
     "data": {
      "text/plain": [
       "Intercept           4.979921\n",
       "x1                  0.497106\n",
       "np.sin(x1)          0.494382\n",
       "I((x1 - 5) ** 2)   -0.019070\n",
       "dtype: float64"
      ]
     },
     "execution_count": 9,
     "metadata": {},
     "output_type": "execute_result"
    }
   ],
   "source": [
    "res.params"
   ]
  },
  {
   "cell_type": "markdown",
   "metadata": {},
   "source": [
    "Now we only have to pass the single variable and we get the transformed right-hand side variables automatically"
   ]
  },
  {
   "cell_type": "code",
   "execution_count": 10,
   "metadata": {
    "execution": {
     "iopub.execute_input": "2025-09-13T13:24:36.873555Z",
     "iopub.status.busy": "2025-09-13T13:24:36.873278Z",
     "iopub.status.idle": "2025-09-13T13:24:36.883245Z",
     "shell.execute_reply": "2025-09-13T13:24:36.882508Z"
    }
   },
   "outputs": [
    {
     "data": {
      "text/plain": [
       "0    11.081751\n",
       "1    10.950758\n",
       "2    10.708960\n",
       "3    10.400538\n",
       "4    10.083653\n",
       "5     9.816201\n",
       "6     9.641642\n",
       "7     9.578357\n",
       "8     9.615151\n",
       "9     9.713988\n",
       "dtype: float64"
      ]
     },
     "execution_count": 10,
     "metadata": {},
     "output_type": "execute_result"
    }
   ],
   "source": [
    "res.predict(exog=dict(x1=x1n))"
   ]
  }
 ],
 "metadata": {
  "kernelspec": {
   "display_name": "Python 3",
   "language": "python",
   "name": "python3"
  },
  "language_info": {
   "codemirror_mode": {
    "name": "ipython",
    "version": 3
   },
   "file_extension": ".py",
   "mimetype": "text/x-python",
   "name": "python",
   "nbconvert_exporter": "python",
   "pygments_lexer": "ipython3",
   "version": "3.10.18"
  }
 },
 "nbformat": 4,
 "nbformat_minor": 4
}
