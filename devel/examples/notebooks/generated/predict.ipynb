{
 "cells": [
  {
   "cell_type": "markdown",
   "metadata": {},
   "source": [
    "# Prediction (out of sample)"
   ]
  },
  {
   "cell_type": "code",
   "execution_count": 1,
   "metadata": {
    "execution": {
     "iopub.execute_input": "2024-09-05T11:20:09.058406Z",
     "iopub.status.busy": "2024-09-05T11:20:09.058135Z",
     "iopub.status.idle": "2024-09-05T11:20:10.387652Z",
     "shell.execute_reply": "2024-09-05T11:20:10.386983Z"
    }
   },
   "outputs": [],
   "source": [
    "%matplotlib inline"
   ]
  },
  {
   "cell_type": "code",
   "execution_count": 2,
   "metadata": {
    "execution": {
     "iopub.execute_input": "2024-09-05T11:20:10.392329Z",
     "iopub.status.busy": "2024-09-05T11:20:10.391209Z",
     "iopub.status.idle": "2024-09-05T11:20:12.992499Z",
     "shell.execute_reply": "2024-09-05T11:20:12.991825Z"
    }
   },
   "outputs": [],
   "source": [
    "import numpy as np\n",
    "import matplotlib.pyplot as plt\n",
    "\n",
    "import statsmodels.api as sm\n",
    "\n",
    "plt.rc(\"figure\", figsize=(16, 8))\n",
    "plt.rc(\"font\", size=14)"
   ]
  },
  {
   "cell_type": "markdown",
   "metadata": {},
   "source": [
    "## Artificial data"
   ]
  },
  {
   "cell_type": "code",
   "execution_count": 3,
   "metadata": {
    "execution": {
     "iopub.execute_input": "2024-09-05T11:20:12.996069Z",
     "iopub.status.busy": "2024-09-05T11:20:12.995497Z",
     "iopub.status.idle": "2024-09-05T11:20:13.007486Z",
     "shell.execute_reply": "2024-09-05T11:20:13.006911Z"
    }
   },
   "outputs": [],
   "source": [
    "nsample = 50\n",
    "sig = 0.25\n",
    "x1 = np.linspace(0, 20, nsample)\n",
    "X = np.column_stack((x1, np.sin(x1), (x1 - 5) ** 2))\n",
    "X = sm.add_constant(X)\n",
    "beta = [5.0, 0.5, 0.5, -0.02]\n",
    "y_true = np.dot(X, beta)\n",
    "y = y_true + sig * np.random.normal(size=nsample)"
   ]
  },
  {
   "cell_type": "markdown",
   "metadata": {},
   "source": [
    "## Estimation "
   ]
  },
  {
   "cell_type": "code",
   "execution_count": 4,
   "metadata": {
    "execution": {
     "iopub.execute_input": "2024-09-05T11:20:13.010571Z",
     "iopub.status.busy": "2024-09-05T11:20:13.010067Z",
     "iopub.status.idle": "2024-09-05T11:20:13.043500Z",
     "shell.execute_reply": "2024-09-05T11:20:13.042917Z"
    }
   },
   "outputs": [
    {
     "name": "stdout",
     "output_type": "stream",
     "text": [
      "                            OLS Regression Results                            \n",
      "==============================================================================\n",
      "Dep. Variable:                      y   R-squared:                       0.981\n",
      "Model:                            OLS   Adj. R-squared:                  0.980\n",
      "Method:                 Least Squares   F-statistic:                     787.6\n",
      "Date:                Thu, 05 Sep 2024   Prob (F-statistic):           1.58e-39\n",
      "Time:                        11:20:13   Log-Likelihood:                -2.4129\n",
      "No. Observations:                  50   AIC:                             12.83\n",
      "Df Residuals:                      46   BIC:                             20.47\n",
      "Df Model:                           3                                         \n",
      "Covariance Type:            nonrobust                                         \n",
      "==============================================================================\n",
      "                 coef    std err          t      P>|t|      [0.025      0.975]\n",
      "------------------------------------------------------------------------------\n",
      "const          5.0481      0.090     55.944      0.000       4.867       5.230\n",
      "x1             0.5049      0.014     36.277      0.000       0.477       0.533\n",
      "x2             0.4670      0.055      8.537      0.000       0.357       0.577\n",
      "x3            -0.0211      0.001    -17.287      0.000      -0.024      -0.019\n",
      "==============================================================================\n",
      "Omnibus:                        1.326   Durbin-Watson:                   2.086\n",
      "Prob(Omnibus):                  0.515   Jarque-Bera (JB):                0.777\n",
      "Skew:                          -0.295   Prob(JB):                        0.678\n",
      "Kurtosis:                       3.160   Cond. No.                         221.\n",
      "==============================================================================\n",
      "\n",
      "Notes:\n",
      "[1] Standard Errors assume that the covariance matrix of the errors is correctly specified.\n"
     ]
    }
   ],
   "source": [
    "olsmod = sm.OLS(y, X)\n",
    "olsres = olsmod.fit()\n",
    "print(olsres.summary())"
   ]
  },
  {
   "cell_type": "markdown",
   "metadata": {},
   "source": [
    "## In-sample prediction"
   ]
  },
  {
   "cell_type": "code",
   "execution_count": 5,
   "metadata": {
    "execution": {
     "iopub.execute_input": "2024-09-05T11:20:13.046435Z",
     "iopub.status.busy": "2024-09-05T11:20:13.045976Z",
     "iopub.status.idle": "2024-09-05T11:20:13.056986Z",
     "shell.execute_reply": "2024-09-05T11:20:13.056397Z"
    }
   },
   "outputs": [
    {
     "name": "stdout",
     "output_type": "stream",
     "text": [
      "[ 4.52007686  4.9942052   5.43083955  5.80452762  6.09900273  6.30985637\n",
      "  6.44526248  6.52463454  6.57543593  6.62866786  6.71377585  6.85381203\n",
      "  7.06164764  7.33785838  7.67062983  8.03769846  8.41000956  8.75649075\n",
      "  9.04915717  9.26770924  9.40286789  9.45789903  9.448077    9.39817503\n",
      "  9.33839507  9.29940569  9.30730335  9.37932477  9.52101503  9.72531653\n",
      "  9.9737285  10.23934665 10.49128346 10.69974293 10.84091595 10.90089208\n",
      " 10.87794501 10.78281617 10.63694994 10.46897044 10.3099786  10.18844243\n",
      " 10.12551977 10.13158211 10.20451063 10.33004426 10.48412276 10.63683978\n",
      " 10.75735631 10.81896752]\n"
     ]
    }
   ],
   "source": [
    "ypred = olsres.predict(X)\n",
    "print(ypred)"
   ]
  },
  {
   "cell_type": "markdown",
   "metadata": {},
   "source": [
    "## Create a new sample of explanatory variables Xnew, predict and plot"
   ]
  },
  {
   "cell_type": "code",
   "execution_count": 6,
   "metadata": {
    "execution": {
     "iopub.execute_input": "2024-09-05T11:20:13.059949Z",
     "iopub.status.busy": "2024-09-05T11:20:13.059493Z",
     "iopub.status.idle": "2024-09-05T11:20:13.071502Z",
     "shell.execute_reply": "2024-09-05T11:20:13.070911Z"
    }
   },
   "outputs": [
    {
     "name": "stdout",
     "output_type": "stream",
     "text": [
      "[10.78845219 10.63339494 10.37211059 10.04633632  9.71101295  9.4208335\n",
      "  9.21685243  9.11643411  9.10900134  9.15862513]\n"
     ]
    }
   ],
   "source": [
    "x1n = np.linspace(20.5, 25, 10)\n",
    "Xnew = np.column_stack((x1n, np.sin(x1n), (x1n - 5) ** 2))\n",
    "Xnew = sm.add_constant(Xnew)\n",
    "ynewpred = olsres.predict(Xnew)  # predict out of sample\n",
    "print(ynewpred)"
   ]
  },
  {
   "cell_type": "markdown",
   "metadata": {},
   "source": [
    "## Plot comparison"
   ]
  },
  {
   "cell_type": "code",
   "execution_count": 7,
   "metadata": {
    "execution": {
     "iopub.execute_input": "2024-09-05T11:20:13.074425Z",
     "iopub.status.busy": "2024-09-05T11:20:13.073985Z",
     "iopub.status.idle": "2024-09-05T11:20:13.731048Z",
     "shell.execute_reply": "2024-09-05T11:20:13.730397Z"
    }
   },
   "outputs": [
    {
     "data": {
      "text/plain": [
       "<matplotlib.legend.Legend at 0x7f89da99e0e0>"
      ]
     },
     "execution_count": 7,
     "metadata": {},
     "output_type": "execute_result"
    },
    {
     "data": {
      "image/png": "[encoded data removed]",
      "text/plain": [
       "<Figure size 1600x800 with 1 Axes>"
      ]
     },
     "metadata": {},
     "output_type": "display_data"
    }
   ],
   "source": [
    "import matplotlib.pyplot as plt\n",
    "\n",
    "fig, ax = plt.subplots()\n",
    "ax.plot(x1, y, \"o\", label=\"Data\")\n",
    "ax.plot(x1, y_true, \"b-\", label=\"True\")\n",
    "ax.plot(np.hstack((x1, x1n)), np.hstack((ypred, ynewpred)), \"r\", label=\"OLS prediction\")\n",
    "ax.legend(loc=\"best\")"
   ]
  },
  {
   "cell_type": "markdown",
   "metadata": {},
   "source": [
    "## Predicting with Formulas"
   ]
  },
  {
   "cell_type": "markdown",
   "metadata": {},
   "source": [
    "Using formulas can make both estimation and prediction a lot easier"
   ]
  },
  {
   "cell_type": "code",
   "execution_count": 8,
   "metadata": {
    "execution": {
     "iopub.execute_input": "2024-09-05T11:20:13.734266Z",
     "iopub.status.busy": "2024-09-05T11:20:13.734041Z",
     "iopub.status.idle": "2024-09-05T11:20:13.746130Z",
     "shell.execute_reply": "2024-09-05T11:20:13.745561Z"
    }
   },
   "outputs": [],
   "source": [
    "from statsmodels.formula.api import ols\n",
    "\n",
    "data = {\"x1\": x1, \"y\": y}\n",
    "\n",
    "res = ols(\"y ~ x1 + np.sin(x1) + I((x1-5)**2)\", data=data).fit()"
   ]
  },
  {
   "cell_type": "markdown",
   "metadata": {},
   "source": [
    "We use the `I` to indicate use of the Identity transform. Ie., we do not want any expansion magic from using `**2`"
   ]
  },
  {
   "cell_type": "code",
   "execution_count": 9,
   "metadata": {
    "execution": {
     "iopub.execute_input": "2024-09-05T11:20:13.750169Z",
     "iopub.status.busy": "2024-09-05T11:20:13.749122Z",
     "iopub.status.idle": "2024-09-05T11:20:13.763486Z",
     "shell.execute_reply": "2024-09-05T11:20:13.762911Z"
    }
   },
   "outputs": [
    {
     "data": {
      "text/plain": [
       "Intercept           5.048136\n",
       "x1                  0.504850\n",
       "np.sin(x1)          0.467022\n",
       "I((x1 - 5) ** 2)   -0.021122\n",
       "dtype: float64"
      ]
     },
     "execution_count": 9,
     "metadata": {},
     "output_type": "execute_result"
    }
   ],
   "source": [
    "res.params"
   ]
  },
  {
   "cell_type": "markdown",
   "metadata": {},
   "source": [
    "Now we only have to pass the single variable and we get the transformed right-hand side variables automatically"
   ]
  },
  {
   "cell_type": "code",
   "execution_count": 10,
   "metadata": {
    "execution": {
     "iopub.execute_input": "2024-09-05T11:20:13.767436Z",
     "iopub.status.busy": "2024-09-05T11:20:13.766387Z",
     "iopub.status.idle": "2024-09-05T11:20:13.782075Z",
     "shell.execute_reply": "2024-09-05T11:20:13.781515Z"
    }
   },
   "outputs": [
    {
     "data": {
      "text/plain": [
       "0    10.788452\n",
       "1    10.633395\n",
       "2    10.372111\n",
       "3    10.046336\n",
       "4     9.711013\n",
       "5     9.420833\n",
       "6     9.216852\n",
       "7     9.116434\n",
       "8     9.109001\n",
       "9     9.158625\n",
       "dtype: float64"
      ]
     },
     "execution_count": 10,
     "metadata": {},
     "output_type": "execute_result"
    }
   ],
   "source": [
    "res.predict(exog=dict(x1=x1n))"
   ]
  }
 ],
 "metadata": {
  "kernelspec": {
   "display_name": "Python 3",
   "language": "python",
   "name": "python3"
  },
  "language_info": {
   "codemirror_mode": {
    "name": "ipython",
    "version": 3
   },
   "file_extension": ".py",
   "mimetype": "text/x-python",
   "name": "python",
   "nbconvert_exporter": "python",
   "pygments_lexer": "ipython3",
   "version": "3.10.14"
  }
 },
 "nbformat": 4,
 "nbformat_minor": 4
}
