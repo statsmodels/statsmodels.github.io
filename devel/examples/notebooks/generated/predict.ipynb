{
 "cells": [
  {
   "cell_type": "markdown",
   "metadata": {},
   "source": [
    "# Prediction (out of sample)"
   ]
  },
  {
   "cell_type": "code",
   "execution_count": 1,
   "metadata": {
    "execution": {
     "iopub.execute_input": "2024-09-02T13:44:18.303705Z",
     "iopub.status.busy": "2024-09-02T13:44:18.303489Z",
     "iopub.status.idle": "2024-09-02T13:44:19.942039Z",
     "shell.execute_reply": "2024-09-02T13:44:19.941357Z"
    }
   },
   "outputs": [],
   "source": [
    "%matplotlib inline"
   ]
  },
  {
   "cell_type": "code",
   "execution_count": 2,
   "metadata": {
    "execution": {
     "iopub.execute_input": "2024-09-02T13:44:19.946795Z",
     "iopub.status.busy": "2024-09-02T13:44:19.945630Z",
     "iopub.status.idle": "2024-09-02T13:44:23.035122Z",
     "shell.execute_reply": "2024-09-02T13:44:23.034386Z"
    }
   },
   "outputs": [],
   "source": [
    "import numpy as np\n",
    "import matplotlib.pyplot as plt\n",
    "\n",
    "import statsmodels.api as sm\n",
    "\n",
    "plt.rc(\"figure\", figsize=(16, 8))\n",
    "plt.rc(\"font\", size=14)"
   ]
  },
  {
   "cell_type": "markdown",
   "metadata": {},
   "source": [
    "## Artificial data"
   ]
  },
  {
   "cell_type": "code",
   "execution_count": 3,
   "metadata": {
    "execution": {
     "iopub.execute_input": "2024-09-02T13:44:23.039769Z",
     "iopub.status.busy": "2024-09-02T13:44:23.038377Z",
     "iopub.status.idle": "2024-09-02T13:44:23.059004Z",
     "shell.execute_reply": "2024-09-02T13:44:23.058369Z"
    }
   },
   "outputs": [],
   "source": [
    "nsample = 50\n",
    "sig = 0.25\n",
    "x1 = np.linspace(0, 20, nsample)\n",
    "X = np.column_stack((x1, np.sin(x1), (x1 - 5) ** 2))\n",
    "X = sm.add_constant(X)\n",
    "beta = [5.0, 0.5, 0.5, -0.02]\n",
    "y_true = np.dot(X, beta)\n",
    "y = y_true + sig * np.random.normal(size=nsample)"
   ]
  },
  {
   "cell_type": "markdown",
   "metadata": {},
   "source": [
    "## Estimation "
   ]
  },
  {
   "cell_type": "code",
   "execution_count": 4,
   "metadata": {
    "execution": {
     "iopub.execute_input": "2024-09-02T13:44:23.063477Z",
     "iopub.status.busy": "2024-09-02T13:44:23.062326Z",
     "iopub.status.idle": "2024-09-02T13:44:23.102886Z",
     "shell.execute_reply": "2024-09-02T13:44:23.102195Z"
    }
   },
   "outputs": [
    {
     "name": "stdout",
     "output_type": "stream",
     "text": [
      "                            OLS Regression Results                            \n",
      "==============================================================================\n",
      "Dep. Variable:                      y   R-squared:                       0.976\n",
      "Model:                            OLS   Adj. R-squared:                  0.975\n",
      "Method:                 Least Squares   F-statistic:                     631.3\n",
      "Date:                Mon, 02 Sep 2024   Prob (F-statistic):           2.29e-37\n",
      "Time:                        13:44:23   Log-Likelihood:                -8.3534\n",
      "No. Observations:                  50   AIC:                             24.71\n",
      "Df Residuals:                      46   BIC:                             32.35\n",
      "Df Model:                           3                                         \n",
      "Covariance Type:            nonrobust                                         \n",
      "==============================================================================\n",
      "                 coef    std err          t      P>|t|      [0.025      0.975]\n",
      "------------------------------------------------------------------------------\n",
      "const          5.0656      0.102     49.848      0.000       4.861       5.270\n",
      "x1             0.4864      0.016     31.039      0.000       0.455       0.518\n",
      "x2             0.4211      0.062      6.835      0.000       0.297       0.545\n",
      "x3            -0.0186      0.001    -13.495      0.000      -0.021      -0.016\n",
      "==============================================================================\n",
      "Omnibus:                        0.558   Durbin-Watson:                   2.405\n",
      "Prob(Omnibus):                  0.757   Jarque-Bera (JB):                0.689\n",
      "Skew:                          -0.147   Prob(JB):                        0.709\n",
      "Kurtosis:                       2.506   Cond. No.                         221.\n",
      "==============================================================================\n",
      "\n",
      "Notes:\n",
      "[1] Standard Errors assume that the covariance matrix of the errors is correctly specified.\n"
     ]
    }
   ],
   "source": [
    "olsmod = sm.OLS(y, X)\n",
    "olsres = olsmod.fit()\n",
    "print(olsres.summary())"
   ]
  },
  {
   "cell_type": "markdown",
   "metadata": {},
   "source": [
    "## In-sample prediction"
   ]
  },
  {
   "cell_type": "code",
   "execution_count": 5,
   "metadata": {
    "execution": {
     "iopub.execute_input": "2024-09-02T13:44:23.107507Z",
     "iopub.status.busy": "2024-09-02T13:44:23.106379Z",
     "iopub.status.idle": "2024-09-02T13:44:23.118991Z",
     "shell.execute_reply": "2024-09-02T13:44:23.118361Z"
    }
   },
   "outputs": [
    {
     "name": "stdout",
     "output_type": "stream",
     "text": [
      "[ 4.60135871  5.03974558  5.44448502  5.79262846  6.06950933  6.27115277\n",
      "  6.40492867  6.48834085  6.54615115  6.60631125  6.69537017  6.83411242\n",
      "  7.03414314  7.29598139  7.60897491  7.95305021  8.30201063  8.62784033\n",
      "  8.90530727  9.11610873  9.25187837  9.31556085  9.32092801  9.29031617\n",
      "  9.25095637  9.23050036  9.25247754  9.33242908  9.47535461  9.67489075\n",
      "  9.91435664 10.16949451 10.41245521 10.6163737  10.75978294 10.83014084\n",
      " 10.8258909  10.75671793 10.64195688 10.50741615 10.38113732 10.28878806\n",
      " 10.24944493 10.27245923 10.35592053 10.48697061 10.64391601 10.79979219\n",
      " 10.92679374 11.00084273]\n"
     ]
    }
   ],
   "source": [
    "ypred = olsres.predict(X)\n",
    "print(ypred)"
   ]
  },
  {
   "cell_type": "markdown",
   "metadata": {},
   "source": [
    "## Create a new sample of explanatory variables Xnew, predict and plot"
   ]
  },
  {
   "cell_type": "code",
   "execution_count": 6,
   "metadata": {
    "execution": {
     "iopub.execute_input": "2024-09-02T13:44:23.123211Z",
     "iopub.status.busy": "2024-09-02T13:44:23.122102Z",
     "iopub.status.idle": "2024-09-02T13:44:23.139436Z",
     "shell.execute_reply": "2024-09-02T13:44:23.138583Z"
    }
   },
   "outputs": [
    {
     "name": "stdout",
     "output_type": "stream",
     "text": [
      "[10.99620545 10.87951484 10.66728413 10.39714488 10.11863349  9.8810629\n",
      "  9.72144912  9.65544841  9.67352405  9.7432813 ]\n"
     ]
    }
   ],
   "source": [
    "x1n = np.linspace(20.5, 25, 10)\n",
    "Xnew = np.column_stack((x1n, np.sin(x1n), (x1n - 5) ** 2))\n",
    "Xnew = sm.add_constant(Xnew)\n",
    "ynewpred = olsres.predict(Xnew)  # predict out of sample\n",
    "print(ynewpred)"
   ]
  },
  {
   "cell_type": "markdown",
   "metadata": {},
   "source": [
    "## Plot comparison"
   ]
  },
  {
   "cell_type": "code",
   "execution_count": 7,
   "metadata": {
    "execution": {
     "iopub.execute_input": "2024-09-02T13:44:23.143736Z",
     "iopub.status.busy": "2024-09-02T13:44:23.142684Z",
     "iopub.status.idle": "2024-09-02T13:44:23.904029Z",
     "shell.execute_reply": "2024-09-02T13:44:23.903231Z"
    }
   },
   "outputs": [
    {
     "data": {
      "text/plain": [
       "<matplotlib.legend.Legend at 0x7fd1b4fe5ff0>"
      ]
     },
     "execution_count": 7,
     "metadata": {},
     "output_type": "execute_result"
    },
    {
     "data": {
      "image/png": "[encoded data removed]",
      "text/plain": [
       "<Figure size 1600x800 with 1 Axes>"
      ]
     },
     "metadata": {},
     "output_type": "display_data"
    }
   ],
   "source": [
    "import matplotlib.pyplot as plt\n",
    "\n",
    "fig, ax = plt.subplots()\n",
    "ax.plot(x1, y, \"o\", label=\"Data\")\n",
    "ax.plot(x1, y_true, \"b-\", label=\"True\")\n",
    "ax.plot(np.hstack((x1, x1n)), np.hstack((ypred, ynewpred)), \"r\", label=\"OLS prediction\")\n",
    "ax.legend(loc=\"best\")"
   ]
  },
  {
   "cell_type": "markdown",
   "metadata": {},
   "source": [
    "## Predicting with Formulas"
   ]
  },
  {
   "cell_type": "markdown",
   "metadata": {},
   "source": [
    "Using formulas can make both estimation and prediction a lot easier"
   ]
  },
  {
   "cell_type": "code",
   "execution_count": 8,
   "metadata": {
    "execution": {
     "iopub.execute_input": "2024-09-02T13:44:23.907305Z",
     "iopub.status.busy": "2024-09-02T13:44:23.906957Z",
     "iopub.status.idle": "2024-09-02T13:44:23.925908Z",
     "shell.execute_reply": "2024-09-02T13:44:23.921206Z"
    }
   },
   "outputs": [],
   "source": [
    "from statsmodels.formula.api import ols\n",
    "\n",
    "data = {\"x1\": x1, \"y\": y}\n",
    "\n",
    "res = ols(\"y ~ x1 + np.sin(x1) + I((x1-5)**2)\", data=data).fit()"
   ]
  },
  {
   "cell_type": "markdown",
   "metadata": {},
   "source": [
    "We use the `I` to indicate use of the Identity transform. Ie., we do not want any expansion magic from using `**2`"
   ]
  },
  {
   "cell_type": "code",
   "execution_count": 9,
   "metadata": {
    "execution": {
     "iopub.execute_input": "2024-09-02T13:44:23.930881Z",
     "iopub.status.busy": "2024-09-02T13:44:23.928852Z",
     "iopub.status.idle": "2024-09-02T13:44:23.951988Z",
     "shell.execute_reply": "2024-09-02T13:44:23.951204Z"
    }
   },
   "outputs": [
    {
     "data": {
      "text/plain": [
       "Intercept           5.065593\n",
       "x1                  0.486447\n",
       "np.sin(x1)          0.421082\n",
       "I((x1 - 5) ** 2)   -0.018569\n",
       "dtype: float64"
      ]
     },
     "execution_count": 9,
     "metadata": {},
     "output_type": "execute_result"
    }
   ],
   "source": [
    "res.params"
   ]
  },
  {
   "cell_type": "markdown",
   "metadata": {},
   "source": [
    "Now we only have to pass the single variable and we get the transformed right-hand side variables automatically"
   ]
  },
  {
   "cell_type": "code",
   "execution_count": 10,
   "metadata": {
    "execution": {
     "iopub.execute_input": "2024-09-02T13:44:23.955615Z",
     "iopub.status.busy": "2024-09-02T13:44:23.955224Z",
     "iopub.status.idle": "2024-09-02T13:44:23.973601Z",
     "shell.execute_reply": "2024-09-02T13:44:23.972927Z"
    }
   },
   "outputs": [
    {
     "data": {
      "text/plain": [
       "0    10.996205\n",
       "1    10.879515\n",
       "2    10.667284\n",
       "3    10.397145\n",
       "4    10.118633\n",
       "5     9.881063\n",
       "6     9.721449\n",
       "7     9.655448\n",
       "8     9.673524\n",
       "9     9.743281\n",
       "dtype: float64"
      ]
     },
     "execution_count": 10,
     "metadata": {},
     "output_type": "execute_result"
    }
   ],
   "source": [
    "res.predict(exog=dict(x1=x1n))"
   ]
  }
 ],
 "metadata": {
  "kernelspec": {
   "display_name": "Python 3",
   "language": "python",
   "name": "python3"
  },
  "language_info": {
   "codemirror_mode": {
    "name": "ipython",
    "version": 3
   },
   "file_extension": ".py",
   "mimetype": "text/x-python",
   "name": "python",
   "nbconvert_exporter": "python",
   "pygments_lexer": "ipython3",
   "version": "3.10.14"
  }
 },
 "nbformat": 4,
 "nbformat_minor": 4
}
