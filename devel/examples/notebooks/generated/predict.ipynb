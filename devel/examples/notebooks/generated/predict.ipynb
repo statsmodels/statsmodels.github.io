{
 "cells": [
  {
   "cell_type": "markdown",
   "metadata": {},
   "source": [
    "# Prediction (out of sample)"
   ]
  },
  {
   "cell_type": "code",
   "execution_count": 1,
   "metadata": {
    "execution": {
     "iopub.execute_input": "2024-11-12T15:10:29.647369Z",
     "iopub.status.busy": "2024-11-12T15:10:29.647106Z",
     "iopub.status.idle": "2024-11-12T15:10:30.310989Z",
     "shell.execute_reply": "2024-11-12T15:10:30.310211Z"
    }
   },
   "outputs": [],
   "source": [
    "%matplotlib inline"
   ]
  },
  {
   "cell_type": "code",
   "execution_count": 2,
   "metadata": {
    "execution": {
     "iopub.execute_input": "2024-11-12T15:10:30.314880Z",
     "iopub.status.busy": "2024-11-12T15:10:30.314462Z",
     "iopub.status.idle": "2024-11-12T15:10:31.491361Z",
     "shell.execute_reply": "2024-11-12T15:10:31.490355Z"
    }
   },
   "outputs": [],
   "source": [
    "import numpy as np\n",
    "import matplotlib.pyplot as plt\n",
    "\n",
    "import statsmodels.api as sm\n",
    "\n",
    "plt.rc(\"figure\", figsize=(16, 8))\n",
    "plt.rc(\"font\", size=14)"
   ]
  },
  {
   "cell_type": "markdown",
   "metadata": {},
   "source": [
    "## Artificial data"
   ]
  },
  {
   "cell_type": "code",
   "execution_count": 3,
   "metadata": {
    "execution": {
     "iopub.execute_input": "2024-11-12T15:10:31.495162Z",
     "iopub.status.busy": "2024-11-12T15:10:31.494730Z",
     "iopub.status.idle": "2024-11-12T15:10:31.501726Z",
     "shell.execute_reply": "2024-11-12T15:10:31.500872Z"
    }
   },
   "outputs": [],
   "source": [
    "nsample = 50\n",
    "sig = 0.25\n",
    "x1 = np.linspace(0, 20, nsample)\n",
    "X = np.column_stack((x1, np.sin(x1), (x1 - 5) ** 2))\n",
    "X = sm.add_constant(X)\n",
    "beta = [5.0, 0.5, 0.5, -0.02]\n",
    "y_true = np.dot(X, beta)\n",
    "y = y_true + sig * np.random.normal(size=nsample)"
   ]
  },
  {
   "cell_type": "markdown",
   "metadata": {},
   "source": [
    "## Estimation "
   ]
  },
  {
   "cell_type": "code",
   "execution_count": 4,
   "metadata": {
    "execution": {
     "iopub.execute_input": "2024-11-12T15:10:31.504566Z",
     "iopub.status.busy": "2024-11-12T15:10:31.504279Z",
     "iopub.status.idle": "2024-11-12T15:10:31.519761Z",
     "shell.execute_reply": "2024-11-12T15:10:31.519026Z"
    }
   },
   "outputs": [
    {
     "name": "stdout",
     "output_type": "stream",
     "text": [
      "                            OLS Regression Results                            \n",
      "==============================================================================\n",
      "Dep. Variable:                      y   R-squared:                       0.990\n",
      "Model:                            OLS   Adj. R-squared:                  0.989\n",
      "Method:                 Least Squares   F-statistic:                     1506.\n",
      "Date:                Tue, 12 Nov 2024   Prob (F-statistic):           6.54e-46\n",
      "Time:                        15:10:31   Log-Likelihood:                 11.338\n",
      "No. Observations:                  50   AIC:                            -14.68\n",
      "Df Residuals:                      46   BIC:                            -7.029\n",
      "Df Model:                           3                                         \n",
      "Covariance Type:            nonrobust                                         \n",
      "==============================================================================\n",
      "                 coef    std err          t      P>|t|      [0.025      0.975]\n",
      "------------------------------------------------------------------------------\n",
      "const          4.8363      0.069     70.562      0.000       4.698       4.974\n",
      "x1             0.5241      0.011     49.584      0.000       0.503       0.545\n",
      "x2             0.5533      0.042     13.314      0.000       0.470       0.637\n",
      "x3            -0.0214      0.001    -23.104      0.000      -0.023      -0.020\n",
      "==============================================================================\n",
      "Omnibus:                        3.171   Durbin-Watson:                   1.668\n",
      "Prob(Omnibus):                  0.205   Jarque-Bera (JB):                2.137\n",
      "Skew:                           0.410   Prob(JB):                        0.344\n",
      "Kurtosis:                       3.594   Cond. No.                         221.\n",
      "==============================================================================\n",
      "\n",
      "Notes:\n",
      "[1] Standard Errors assume that the covariance matrix of the errors is correctly specified.\n"
     ]
    }
   ],
   "source": [
    "olsmod = sm.OLS(y, X)\n",
    "olsres = olsmod.fit()\n",
    "print(olsres.summary())"
   ]
  },
  {
   "cell_type": "markdown",
   "metadata": {},
   "source": [
    "## In-sample prediction"
   ]
  },
  {
   "cell_type": "code",
   "execution_count": 5,
   "metadata": {
    "execution": {
     "iopub.execute_input": "2024-11-12T15:10:31.522620Z",
     "iopub.status.busy": "2024-11-12T15:10:31.522156Z",
     "iopub.status.idle": "2024-11-12T15:10:31.527130Z",
     "shell.execute_reply": "2024-11-12T15:10:31.526411Z"
    }
   },
   "outputs": [
    {
     "name": "stdout",
     "output_type": "stream",
     "text": [
      "[ 4.30022863  4.81770563  5.29195792  5.69283309  6.00106059  6.21141782\n",
      "  6.33358814  6.39057     6.41489831  6.44329905  6.51065529  6.64427605\n",
      "  6.85940944  7.15673746  7.52226398  7.92961423  8.3443681   8.72971529\n",
      "  9.05250312  9.28868343  9.42726362  9.4721127   9.44132564  9.36425038\n",
      "  9.2766661   9.21490476  9.20988186  9.28201716  9.4378797   9.6691086\n",
      "  9.95378665 10.26004132 10.55128129 10.79220827 10.95461649 11.02202676\n",
      " 10.99239395 10.87844308 10.70557852 10.50771023 10.32168238 10.18121999\n",
      " 10.11138797 10.12447309 10.21796524 10.37496984 10.56698361 10.75857754\n",
      " 10.91321779 10.9992681 ]\n"
     ]
    }
   ],
   "source": [
    "ypred = olsres.predict(X)\n",
    "print(ypred)"
   ]
  },
  {
   "cell_type": "markdown",
   "metadata": {},
   "source": [
    "## Create a new sample of explanatory variables Xnew, predict and plot"
   ]
  },
  {
   "cell_type": "code",
   "execution_count": 6,
   "metadata": {
    "execution": {
     "iopub.execute_input": "2024-11-12T15:10:31.530035Z",
     "iopub.status.busy": "2024-11-12T15:10:31.529562Z",
     "iopub.status.idle": "2024-11-12T15:10:31.535610Z",
     "shell.execute_reply": "2024-11-12T15:10:31.534835Z"
    }
   },
   "outputs": [
    {
     "name": "stdout",
     "output_type": "stream",
     "text": [
      "[10.98074423 10.81647038 10.52814345 10.165208    9.79275042  9.47556358\n",
      "  9.26228323  9.17348028  9.19662434  9.28915159]\n"
     ]
    }
   ],
   "source": [
    "x1n = np.linspace(20.5, 25, 10)\n",
    "Xnew = np.column_stack((x1n, np.sin(x1n), (x1n - 5) ** 2))\n",
    "Xnew = sm.add_constant(Xnew)\n",
    "ynewpred = olsres.predict(Xnew)  # predict out of sample\n",
    "print(ynewpred)"
   ]
  },
  {
   "cell_type": "markdown",
   "metadata": {},
   "source": [
    "## Plot comparison"
   ]
  },
  {
   "cell_type": "code",
   "execution_count": 7,
   "metadata": {
    "execution": {
     "iopub.execute_input": "2024-11-12T15:10:31.538495Z",
     "iopub.status.busy": "2024-11-12T15:10:31.538106Z",
     "iopub.status.idle": "2024-11-12T15:10:31.848444Z",
     "shell.execute_reply": "2024-11-12T15:10:31.847774Z"
    }
   },
   "outputs": [
    {
     "data": {
      "text/plain": [
       "<matplotlib.legend.Legend at 0x7f20f9b71bd0>"
      ]
     },
     "execution_count": 7,
     "metadata": {},
     "output_type": "execute_result"
    },
    {
     "data": {
      "image/png": "[encoded data removed]",
      "text/plain": [
       "<Figure size 1600x800 with 1 Axes>"
      ]
     },
     "metadata": {},
     "output_type": "display_data"
    }
   ],
   "source": [
    "import matplotlib.pyplot as plt\n",
    "\n",
    "fig, ax = plt.subplots()\n",
    "ax.plot(x1, y, \"o\", label=\"Data\")\n",
    "ax.plot(x1, y_true, \"b-\", label=\"True\")\n",
    "ax.plot(np.hstack((x1, x1n)), np.hstack((ypred, ynewpred)), \"r\", label=\"OLS prediction\")\n",
    "ax.legend(loc=\"best\")"
   ]
  },
  {
   "cell_type": "markdown",
   "metadata": {},
   "source": [
    "## Predicting with Formulas"
   ]
  },
  {
   "cell_type": "markdown",
   "metadata": {},
   "source": [
    "Using formulas can make both estimation and prediction a lot easier"
   ]
  },
  {
   "cell_type": "code",
   "execution_count": 8,
   "metadata": {
    "execution": {
     "iopub.execute_input": "2024-11-12T15:10:31.851150Z",
     "iopub.status.busy": "2024-11-12T15:10:31.850900Z",
     "iopub.status.idle": "2024-11-12T15:10:31.862502Z",
     "shell.execute_reply": "2024-11-12T15:10:31.861541Z"
    }
   },
   "outputs": [],
   "source": [
    "from statsmodels.formula.api import ols\n",
    "\n",
    "data = {\"x1\": x1, \"y\": y}\n",
    "\n",
    "res = ols(\"y ~ x1 + np.sin(x1) + I((x1-5)**2)\", data=data).fit()"
   ]
  },
  {
   "cell_type": "markdown",
   "metadata": {},
   "source": [
    "We use the `I` to indicate use of the Identity transform. Ie., we do not want any expansion magic from using `**2`"
   ]
  },
  {
   "cell_type": "code",
   "execution_count": 9,
   "metadata": {
    "execution": {
     "iopub.execute_input": "2024-11-12T15:10:31.866492Z",
     "iopub.status.busy": "2024-11-12T15:10:31.865471Z",
     "iopub.status.idle": "2024-11-12T15:10:31.874613Z",
     "shell.execute_reply": "2024-11-12T15:10:31.873858Z"
    }
   },
   "outputs": [
    {
     "data": {
      "text/plain": [
       "Intercept           4.836284\n",
       "x1                  0.524119\n",
       "np.sin(x1)          0.553264\n",
       "I((x1 - 5) ** 2)   -0.021442\n",
       "dtype: float64"
      ]
     },
     "execution_count": 9,
     "metadata": {},
     "output_type": "execute_result"
    }
   ],
   "source": [
    "res.params"
   ]
  },
  {
   "cell_type": "markdown",
   "metadata": {},
   "source": [
    "Now we only have to pass the single variable and we get the transformed right-hand side variables automatically"
   ]
  },
  {
   "cell_type": "code",
   "execution_count": 10,
   "metadata": {
    "execution": {
     "iopub.execute_input": "2024-11-12T15:10:31.878667Z",
     "iopub.status.busy": "2024-11-12T15:10:31.877661Z",
     "iopub.status.idle": "2024-11-12T15:10:31.887085Z",
     "shell.execute_reply": "2024-11-12T15:10:31.886340Z"
    }
   },
   "outputs": [
    {
     "data": {
      "text/plain": [
       "0    10.980744\n",
       "1    10.816470\n",
       "2    10.528143\n",
       "3    10.165208\n",
       "4     9.792750\n",
       "5     9.475564\n",
       "6     9.262283\n",
       "7     9.173480\n",
       "8     9.196624\n",
       "9     9.289152\n",
       "dtype: float64"
      ]
     },
     "execution_count": 10,
     "metadata": {},
     "output_type": "execute_result"
    }
   ],
   "source": [
    "res.predict(exog=dict(x1=x1n))"
   ]
  }
 ],
 "metadata": {
  "kernelspec": {
   "display_name": "Python 3",
   "language": "python",
   "name": "python3"
  },
  "language_info": {
   "codemirror_mode": {
    "name": "ipython",
    "version": 3
   },
   "file_extension": ".py",
   "mimetype": "text/x-python",
   "name": "python",
   "nbconvert_exporter": "python",
   "pygments_lexer": "ipython3",
   "version": "3.10.15"
  }
 },
 "nbformat": 4,
 "nbformat_minor": 4
}
