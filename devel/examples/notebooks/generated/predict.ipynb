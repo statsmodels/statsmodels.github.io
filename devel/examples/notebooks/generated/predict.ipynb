{
 "cells": [
  {
   "cell_type": "markdown",
   "metadata": {},
   "source": [
    "# Prediction (out of sample)"
   ]
  },
  {
   "cell_type": "code",
   "execution_count": 1,
   "metadata": {
    "execution": {
     "iopub.execute_input": "2024-01-03T23:57:52.450823Z",
     "iopub.status.busy": "2024-01-03T23:57:52.450569Z",
     "iopub.status.idle": "2024-01-03T23:57:53.726067Z",
     "shell.execute_reply": "2024-01-03T23:57:53.725376Z"
    }
   },
   "outputs": [],
   "source": [
    "%matplotlib inline"
   ]
  },
  {
   "cell_type": "code",
   "execution_count": 2,
   "metadata": {
    "execution": {
     "iopub.execute_input": "2024-01-03T23:57:53.729996Z",
     "iopub.status.busy": "2024-01-03T23:57:53.729520Z",
     "iopub.status.idle": "2024-01-03T23:57:54.964920Z",
     "shell.execute_reply": "2024-01-03T23:57:54.964150Z"
    }
   },
   "outputs": [],
   "source": [
    "import numpy as np\n",
    "import matplotlib.pyplot as plt\n",
    "\n",
    "import statsmodels.api as sm\n",
    "\n",
    "plt.rc(\"figure\", figsize=(16, 8))\n",
    "plt.rc(\"font\", size=14)"
   ]
  },
  {
   "cell_type": "markdown",
   "metadata": {},
   "source": [
    "## Artificial data"
   ]
  },
  {
   "cell_type": "code",
   "execution_count": 3,
   "metadata": {
    "execution": {
     "iopub.execute_input": "2024-01-03T23:57:54.969425Z",
     "iopub.status.busy": "2024-01-03T23:57:54.968641Z",
     "iopub.status.idle": "2024-01-03T23:57:54.974512Z",
     "shell.execute_reply": "2024-01-03T23:57:54.973886Z"
    }
   },
   "outputs": [],
   "source": [
    "nsample = 50\n",
    "sig = 0.25\n",
    "x1 = np.linspace(0, 20, nsample)\n",
    "X = np.column_stack((x1, np.sin(x1), (x1 - 5) ** 2))\n",
    "X = sm.add_constant(X)\n",
    "beta = [5.0, 0.5, 0.5, -0.02]\n",
    "y_true = np.dot(X, beta)\n",
    "y = y_true + sig * np.random.normal(size=nsample)"
   ]
  },
  {
   "cell_type": "markdown",
   "metadata": {},
   "source": [
    "## Estimation "
   ]
  },
  {
   "cell_type": "code",
   "execution_count": 4,
   "metadata": {
    "execution": {
     "iopub.execute_input": "2024-01-03T23:57:54.978050Z",
     "iopub.status.busy": "2024-01-03T23:57:54.977622Z",
     "iopub.status.idle": "2024-01-03T23:57:54.992568Z",
     "shell.execute_reply": "2024-01-03T23:57:54.991818Z"
    }
   },
   "outputs": [
    {
     "name": "stdout",
     "output_type": "stream",
     "text": [
      "                            OLS Regression Results                            \n",
      "==============================================================================\n",
      "Dep. Variable:                      y   R-squared:                       0.987\n",
      "Model:                            OLS   Adj. R-squared:                  0.987\n",
      "Method:                 Least Squares   F-statistic:                     1207.\n",
      "Date:                Wed, 03 Jan 2024   Prob (F-statistic):           1.01e-43\n",
      "Time:                        23:57:54   Log-Likelihood:                 7.1529\n",
      "No. Observations:                  50   AIC:                            -6.306\n",
      "Df Residuals:                      46   BIC:                             1.342\n",
      "Df Model:                           3                                         \n",
      "Covariance Type:            nonrobust                                         \n",
      "==============================================================================\n",
      "                 coef    std err          t      P>|t|      [0.025      0.975]\n",
      "------------------------------------------------------------------------------\n",
      "const          5.0072      0.075     67.190      0.000       4.857       5.157\n",
      "x1             0.5038      0.011     43.831      0.000       0.481       0.527\n",
      "x2             0.4269      0.045      9.448      0.000       0.336       0.518\n",
      "x3            -0.0201      0.001    -19.916      0.000      -0.022      -0.018\n",
      "==============================================================================\n",
      "Omnibus:                        0.810   Durbin-Watson:                   1.452\n",
      "Prob(Omnibus):                  0.667   Jarque-Bera (JB):                0.543\n",
      "Skew:                          -0.255   Prob(JB):                        0.762\n",
      "Kurtosis:                       2.979   Cond. No.                         221.\n",
      "==============================================================================\n",
      "\n",
      "Notes:\n",
      "[1] Standard Errors assume that the covariance matrix of the errors is correctly specified.\n"
     ]
    }
   ],
   "source": [
    "olsmod = sm.OLS(y, X)\n",
    "olsres = olsmod.fit()\n",
    "print(olsres.summary())"
   ]
  },
  {
   "cell_type": "markdown",
   "metadata": {},
   "source": [
    "## In-sample prediction"
   ]
  },
  {
   "cell_type": "code",
   "execution_count": 5,
   "metadata": {
    "execution": {
     "iopub.execute_input": "2024-01-03T23:57:55.050779Z",
     "iopub.status.busy": "2024-01-03T23:57:55.050389Z",
     "iopub.status.idle": "2024-01-03T23:57:55.055851Z",
     "shell.execute_reply": "2024-01-03T23:57:55.055117Z"
    }
   },
   "outputs": [
    {
     "name": "stdout",
     "output_type": "stream",
     "text": [
      "[ 4.50481544  4.95854917  5.37774881  5.73915027  6.02788535  6.23992454\n",
      "  6.38273905  6.47407334  6.53902973  6.60594418  6.70173074  6.84745968\n",
      "  7.0548957   7.324565    7.64566886  7.99785779  8.35457497  8.68741938\n",
      "  8.97081205  9.18619862  9.32509773  9.39049453  9.3963502   9.36530816\n",
      "  9.32497384  9.3033792   9.3243771   9.4037224   9.54648348  9.74620947\n",
      "  9.98599015 10.24123425 10.48370972 10.68618215 10.82688936 10.89311682\n",
      " 10.88328662 10.80721674 10.68450795 10.54132349 10.4060905  10.30482952\n",
      " 10.25687941 10.27172003 10.3474147  10.47092841 10.62026942 10.76810247\n",
      " 10.88623986 10.95027262]\n"
     ]
    }
   ],
   "source": [
    "ypred = olsres.predict(X)\n",
    "print(ypred)"
   ]
  },
  {
   "cell_type": "markdown",
   "metadata": {},
   "source": [
    "## Create a new sample of explanatory variables Xnew, predict and plot"
   ]
  },
  {
   "cell_type": "code",
   "execution_count": 6,
   "metadata": {
    "execution": {
     "iopub.execute_input": "2024-01-03T23:57:55.059725Z",
     "iopub.status.busy": "2024-01-03T23:57:55.059008Z",
     "iopub.status.idle": "2024-01-03T23:57:55.065517Z",
     "shell.execute_reply": "2024-01-03T23:57:55.064698Z"
    }
   },
   "outputs": [
    {
     "name": "stdout",
     "output_type": "stream",
     "text": [
      "[10.93147665 10.79845041 10.56793419 10.27807693  9.97909609  9.72098262\n",
      "  9.54126146  9.45580412  9.45494277  9.50583726]\n"
     ]
    }
   ],
   "source": [
    "x1n = np.linspace(20.5, 25, 10)\n",
    "Xnew = np.column_stack((x1n, np.sin(x1n), (x1n - 5) ** 2))\n",
    "Xnew = sm.add_constant(Xnew)\n",
    "ynewpred = olsres.predict(Xnew)  # predict out of sample\n",
    "print(ynewpred)"
   ]
  },
  {
   "cell_type": "markdown",
   "metadata": {},
   "source": [
    "## Plot comparison"
   ]
  },
  {
   "cell_type": "code",
   "execution_count": 7,
   "metadata": {
    "execution": {
     "iopub.execute_input": "2024-01-03T23:57:55.069085Z",
     "iopub.status.busy": "2024-01-03T23:57:55.068617Z",
     "iopub.status.idle": "2024-01-03T23:57:55.322687Z",
     "shell.execute_reply": "2024-01-03T23:57:55.321820Z"
    }
   },
   "outputs": [
    {
     "data": {
      "text/plain": [
       "<matplotlib.legend.Legend at 0x7fa392196440>"
      ]
     },
     "execution_count": 7,
     "metadata": {},
     "output_type": "execute_result"
    },
    {
     "data": {
      "image/png": "[encoded data removed]",
      "text/plain": [
       "<Figure size 1600x800 with 1 Axes>"
      ]
     },
     "metadata": {},
     "output_type": "display_data"
    }
   ],
   "source": [
    "import matplotlib.pyplot as plt\n",
    "\n",
    "fig, ax = plt.subplots()\n",
    "ax.plot(x1, y, \"o\", label=\"Data\")\n",
    "ax.plot(x1, y_true, \"b-\", label=\"True\")\n",
    "ax.plot(np.hstack((x1, x1n)), np.hstack((ypred, ynewpred)), \"r\", label=\"OLS prediction\")\n",
    "ax.legend(loc=\"best\")"
   ]
  },
  {
   "cell_type": "markdown",
   "metadata": {},
   "source": [
    "## Predicting with Formulas"
   ]
  },
  {
   "cell_type": "markdown",
   "metadata": {},
   "source": [
    "Using formulas can make both estimation and prediction a lot easier"
   ]
  },
  {
   "cell_type": "code",
   "execution_count": 8,
   "metadata": {
    "execution": {
     "iopub.execute_input": "2024-01-03T23:57:55.325471Z",
     "iopub.status.busy": "2024-01-03T23:57:55.325061Z",
     "iopub.status.idle": "2024-01-03T23:57:55.332011Z",
     "shell.execute_reply": "2024-01-03T23:57:55.331300Z"
    }
   },
   "outputs": [],
   "source": [
    "from statsmodels.formula.api import ols\n",
    "\n",
    "data = {\"x1\": x1, \"y\": y}\n",
    "\n",
    "res = ols(\"y ~ x1 + np.sin(x1) + I((x1-5)**2)\", data=data).fit()"
   ]
  },
  {
   "cell_type": "markdown",
   "metadata": {},
   "source": [
    "We use the `I` to indicate use of the Identity transform. Ie., we do not want any expansion magic from using `**2`"
   ]
  },
  {
   "cell_type": "code",
   "execution_count": 9,
   "metadata": {
    "execution": {
     "iopub.execute_input": "2024-01-03T23:57:55.347100Z",
     "iopub.status.busy": "2024-01-03T23:57:55.335736Z",
     "iopub.status.idle": "2024-01-03T23:57:55.353332Z",
     "shell.execute_reply": "2024-01-03T23:57:55.352488Z"
    }
   },
   "outputs": [
    {
     "data": {
      "text/plain": [
       "Intercept           5.007248\n",
       "x1                  0.503761\n",
       "np.sin(x1)          0.426871\n",
       "I((x1 - 5) ** 2)   -0.020097\n",
       "dtype: float64"
      ]
     },
     "execution_count": 9,
     "metadata": {},
     "output_type": "execute_result"
    }
   ],
   "source": [
    "res.params"
   ]
  },
  {
   "cell_type": "markdown",
   "metadata": {},
   "source": [
    "Now we only have to pass the single variable and we get the transformed right-hand side variables automatically"
   ]
  },
  {
   "cell_type": "code",
   "execution_count": 10,
   "metadata": {
    "execution": {
     "iopub.execute_input": "2024-01-03T23:57:55.356779Z",
     "iopub.status.busy": "2024-01-03T23:57:55.356474Z",
     "iopub.status.idle": "2024-01-03T23:57:55.364601Z",
     "shell.execute_reply": "2024-01-03T23:57:55.363766Z"
    }
   },
   "outputs": [
    {
     "data": {
      "text/plain": [
       "0    10.931477\n",
       "1    10.798450\n",
       "2    10.567934\n",
       "3    10.278077\n",
       "4     9.979096\n",
       "5     9.720983\n",
       "6     9.541261\n",
       "7     9.455804\n",
       "8     9.454943\n",
       "9     9.505837\n",
       "dtype: float64"
      ]
     },
     "execution_count": 10,
     "metadata": {},
     "output_type": "execute_result"
    }
   ],
   "source": [
    "res.predict(exog=dict(x1=x1n))"
   ]
  }
 ],
 "metadata": {
  "kernelspec": {
   "display_name": "Python 3",
   "language": "python",
   "name": "python3"
  },
  "language_info": {
   "codemirror_mode": {
    "name": "ipython",
    "version": 3
   },
   "file_extension": ".py",
   "mimetype": "text/x-python",
   "name": "python",
   "nbconvert_exporter": "python",
   "pygments_lexer": "ipython3",
   "version": "3.10.13"
  }
 },
 "nbformat": 4,
 "nbformat_minor": 4
}
