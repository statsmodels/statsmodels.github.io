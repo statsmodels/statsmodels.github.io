{
 "cells": [
  {
   "cell_type": "markdown",
   "metadata": {},
   "source": [
    "# Prediction (out of sample)"
   ]
  },
  {
   "cell_type": "code",
   "execution_count": 1,
   "metadata": {
    "execution": {
     "iopub.execute_input": "2025-01-27T14:48:29.531365Z",
     "iopub.status.busy": "2025-01-27T14:48:29.531137Z",
     "iopub.status.idle": "2025-01-27T14:48:30.935441Z",
     "shell.execute_reply": "2025-01-27T14:48:30.934748Z"
    }
   },
   "outputs": [],
   "source": [
    "%matplotlib inline"
   ]
  },
  {
   "cell_type": "code",
   "execution_count": 2,
   "metadata": {
    "execution": {
     "iopub.execute_input": "2025-01-27T14:48:30.940690Z",
     "iopub.status.busy": "2025-01-27T14:48:30.940382Z",
     "iopub.status.idle": "2025-01-27T14:48:33.408614Z",
     "shell.execute_reply": "2025-01-27T14:48:33.407875Z"
    }
   },
   "outputs": [],
   "source": [
    "import numpy as np\n",
    "import matplotlib.pyplot as plt\n",
    "\n",
    "import statsmodels.api as sm\n",
    "\n",
    "plt.rc(\"figure\", figsize=(16, 8))\n",
    "plt.rc(\"font\", size=14)"
   ]
  },
  {
   "cell_type": "markdown",
   "metadata": {},
   "source": [
    "## Artificial data"
   ]
  },
  {
   "cell_type": "code",
   "execution_count": 3,
   "metadata": {
    "execution": {
     "iopub.execute_input": "2025-01-27T14:48:33.412981Z",
     "iopub.status.busy": "2025-01-27T14:48:33.411978Z",
     "iopub.status.idle": "2025-01-27T14:48:33.422423Z",
     "shell.execute_reply": "2025-01-27T14:48:33.421824Z"
    }
   },
   "outputs": [],
   "source": [
    "nsample = 50\n",
    "sig = 0.25\n",
    "x1 = np.linspace(0, 20, nsample)\n",
    "X = np.column_stack((x1, np.sin(x1), (x1 - 5) ** 2))\n",
    "X = sm.add_constant(X)\n",
    "beta = [5.0, 0.5, 0.5, -0.02]\n",
    "y_true = np.dot(X, beta)\n",
    "y = y_true + sig * np.random.normal(size=nsample)"
   ]
  },
  {
   "cell_type": "markdown",
   "metadata": {},
   "source": [
    "## Estimation "
   ]
  },
  {
   "cell_type": "code",
   "execution_count": 4,
   "metadata": {
    "execution": {
     "iopub.execute_input": "2025-01-27T14:48:33.425805Z",
     "iopub.status.busy": "2025-01-27T14:48:33.424934Z",
     "iopub.status.idle": "2025-01-27T14:48:33.459827Z",
     "shell.execute_reply": "2025-01-27T14:48:33.458756Z"
    }
   },
   "outputs": [
    {
     "name": "stdout",
     "output_type": "stream",
     "text": [
      "                            OLS Regression Results                            \n",
      "==============================================================================\n",
      "Dep. Variable:                      y   R-squared:                       0.985\n",
      "Model:                            OLS   Adj. R-squared:                  0.984\n",
      "Method:                 Least Squares   F-statistic:                     1031.\n",
      "Date:                Mon, 27 Jan 2025   Prob (F-statistic):           3.60e-42\n",
      "Time:                        14:48:33   Log-Likelihood:                 4.9748\n",
      "No. Observations:                  50   AIC:                            -1.950\n",
      "Df Residuals:                      46   BIC:                             5.699\n",
      "Df Model:                           3                                         \n",
      "Covariance Type:            nonrobust                                         \n",
      "==============================================================================\n",
      "                 coef    std err          t      P>|t|      [0.025      0.975]\n",
      "------------------------------------------------------------------------------\n",
      "const          5.0541      0.078     64.928      0.000       4.897       5.211\n",
      "x1             0.4870      0.012     40.564      0.000       0.463       0.511\n",
      "x2             0.4535      0.047      9.609      0.000       0.358       0.548\n",
      "x3            -0.0195      0.001    -18.472      0.000      -0.022      -0.017\n",
      "==============================================================================\n",
      "Omnibus:                        1.252   Durbin-Watson:                   2.768\n",
      "Prob(Omnibus):                  0.535   Jarque-Bera (JB):                1.182\n",
      "Skew:                           0.233   Prob(JB):                        0.554\n",
      "Kurtosis:                       2.409   Cond. No.                         221.\n",
      "==============================================================================\n",
      "\n",
      "Notes:\n",
      "[1] Standard Errors assume that the covariance matrix of the errors is correctly specified.\n"
     ]
    }
   ],
   "source": [
    "olsmod = sm.OLS(y, X)\n",
    "olsres = olsmod.fit()\n",
    "print(olsres.summary())"
   ]
  },
  {
   "cell_type": "markdown",
   "metadata": {},
   "source": [
    "## In-sample prediction"
   ]
  },
  {
   "cell_type": "code",
   "execution_count": 5,
   "metadata": {
    "execution": {
     "iopub.execute_input": "2025-01-27T14:48:33.466716Z",
     "iopub.status.busy": "2025-01-27T14:48:33.466425Z",
     "iopub.status.idle": "2025-01-27T14:48:33.478539Z",
     "shell.execute_reply": "2025-01-27T14:48:33.477942Z"
    }
   },
   "outputs": [
    {
     "name": "stdout",
     "output_type": "stream",
     "text": [
      "[ 4.56733407  5.0223267   5.44125875  5.79941602  6.08100351  6.28174054\n",
      "  6.40956405  6.48332454  6.52968904  6.57875976  6.65912838  6.79317856\n",
      "  6.9934083   7.26037661  7.58261166  7.93849552  8.29981599  8.63640176\n",
      "  8.92107943  9.1341381   9.26656775  9.3215396   9.31388505  9.26765897\n",
      "  9.21218752  9.17724995  9.18818595  9.26173243  9.40327369  9.60595675\n",
      "  9.85181735 10.11473136 10.36470693 10.57281209 10.71592814 10.78054801\n",
      " 10.76499546 10.67970043 10.54548547 10.39014464 10.24387703 10.13432512\n",
      " 10.08203323 10.09707209 10.17738432 10.3091224  10.46892379 10.62774934\n",
      " 10.75565432 10.8267083 ]\n"
     ]
    }
   ],
   "source": [
    "ypred = olsres.predict(X)\n",
    "print(ypred)"
   ]
  },
  {
   "cell_type": "markdown",
   "metadata": {},
   "source": [
    "## Create a new sample of explanatory variables Xnew, predict and plot"
   ]
  },
  {
   "cell_type": "code",
   "execution_count": 6,
   "metadata": {
    "execution": {
     "iopub.execute_input": "2025-01-27T14:48:33.485568Z",
     "iopub.status.busy": "2025-01-27T14:48:33.485341Z",
     "iopub.status.idle": "2025-01-27T14:48:33.493328Z",
     "shell.execute_reply": "2025-01-27T14:48:33.492719Z"
    }
   },
   "outputs": [
    {
     "name": "stdout",
     "output_type": "stream",
     "text": [
      "[10.81130559 10.67549188 10.43705092 10.13650959  9.82721553  9.5622758\n",
      "  9.38155436  9.30191202  9.31307835  9.38016617]\n"
     ]
    }
   ],
   "source": [
    "x1n = np.linspace(20.5, 25, 10)\n",
    "Xnew = np.column_stack((x1n, np.sin(x1n), (x1n - 5) ** 2))\n",
    "Xnew = sm.add_constant(Xnew)\n",
    "ynewpred = olsres.predict(Xnew)  # predict out of sample\n",
    "print(ynewpred)"
   ]
  },
  {
   "cell_type": "markdown",
   "metadata": {},
   "source": [
    "## Plot comparison"
   ]
  },
  {
   "cell_type": "code",
   "execution_count": 7,
   "metadata": {
    "execution": {
     "iopub.execute_input": "2025-01-27T14:48:33.495898Z",
     "iopub.status.busy": "2025-01-27T14:48:33.495676Z",
     "iopub.status.idle": "2025-01-27T14:48:33.968403Z",
     "shell.execute_reply": "2025-01-27T14:48:33.967693Z"
    }
   },
   "outputs": [
    {
     "data": {
      "text/plain": [
       "<matplotlib.legend.Legend at 0x7f2bf48929e0>"
      ]
     },
     "execution_count": 7,
     "metadata": {},
     "output_type": "execute_result"
    },
    {
     "data": {
      "image/png": "[encoded data removed]",
      "text/plain": [
       "<Figure size 1600x800 with 1 Axes>"
      ]
     },
     "metadata": {},
     "output_type": "display_data"
    }
   ],
   "source": [
    "import matplotlib.pyplot as plt\n",
    "\n",
    "fig, ax = plt.subplots()\n",
    "ax.plot(x1, y, \"o\", label=\"Data\")\n",
    "ax.plot(x1, y_true, \"b-\", label=\"True\")\n",
    "ax.plot(np.hstack((x1, x1n)), np.hstack((ypred, ynewpred)), \"r\", label=\"OLS prediction\")\n",
    "ax.legend(loc=\"best\")"
   ]
  },
  {
   "cell_type": "markdown",
   "metadata": {},
   "source": [
    "## Predicting with Formulas"
   ]
  },
  {
   "cell_type": "markdown",
   "metadata": {},
   "source": [
    "Using formulas can make both estimation and prediction a lot easier"
   ]
  },
  {
   "cell_type": "code",
   "execution_count": 8,
   "metadata": {
    "execution": {
     "iopub.execute_input": "2025-01-27T14:48:33.971132Z",
     "iopub.status.busy": "2025-01-27T14:48:33.970858Z",
     "iopub.status.idle": "2025-01-27T14:48:33.987394Z",
     "shell.execute_reply": "2025-01-27T14:48:33.986806Z"
    }
   },
   "outputs": [],
   "source": [
    "from statsmodels.formula.api import ols\n",
    "\n",
    "data = {\"x1\": x1, \"y\": y}\n",
    "\n",
    "res = ols(\"y ~ x1 + np.sin(x1) + I((x1-5)**2)\", data=data).fit()"
   ]
  },
  {
   "cell_type": "markdown",
   "metadata": {},
   "source": [
    "We use the `I` to indicate use of the Identity transform. Ie., we do not want any expansion magic from using `**2`"
   ]
  },
  {
   "cell_type": "code",
   "execution_count": 9,
   "metadata": {
    "execution": {
     "iopub.execute_input": "2025-01-27T14:48:33.991058Z",
     "iopub.status.busy": "2025-01-27T14:48:33.990175Z",
     "iopub.status.idle": "2025-01-27T14:48:34.004229Z",
     "shell.execute_reply": "2025-01-27T14:48:34.001526Z"
    }
   },
   "outputs": [
    {
     "data": {
      "text/plain": [
       "Intercept           5.054107\n",
       "x1                  0.486978\n",
       "np.sin(x1)          0.453479\n",
       "I((x1 - 5) ** 2)   -0.019471\n",
       "dtype: float64"
      ]
     },
     "execution_count": 9,
     "metadata": {},
     "output_type": "execute_result"
    }
   ],
   "source": [
    "res.params"
   ]
  },
  {
   "cell_type": "markdown",
   "metadata": {},
   "source": [
    "Now we only have to pass the single variable and we get the transformed right-hand side variables automatically"
   ]
  },
  {
   "cell_type": "code",
   "execution_count": 10,
   "metadata": {
    "execution": {
     "iopub.execute_input": "2025-01-27T14:48:34.006818Z",
     "iopub.status.busy": "2025-01-27T14:48:34.006596Z",
     "iopub.status.idle": "2025-01-27T14:48:34.020573Z",
     "shell.execute_reply": "2025-01-27T14:48:34.020011Z"
    }
   },
   "outputs": [
    {
     "data": {
      "text/plain": [
       "0    10.811306\n",
       "1    10.675492\n",
       "2    10.437051\n",
       "3    10.136510\n",
       "4     9.827216\n",
       "5     9.562276\n",
       "6     9.381554\n",
       "7     9.301912\n",
       "8     9.313078\n",
       "9     9.380166\n",
       "dtype: float64"
      ]
     },
     "execution_count": 10,
     "metadata": {},
     "output_type": "execute_result"
    }
   ],
   "source": [
    "res.predict(exog=dict(x1=x1n))"
   ]
  }
 ],
 "metadata": {
  "kernelspec": {
   "display_name": "Python 3",
   "language": "python",
   "name": "python3"
  },
  "language_info": {
   "codemirror_mode": {
    "name": "ipython",
    "version": 3
   },
   "file_extension": ".py",
   "mimetype": "text/x-python",
   "name": "python",
   "nbconvert_exporter": "python",
   "pygments_lexer": "ipython3",
   "version": "3.10.16"
  }
 },
 "nbformat": 4,
 "nbformat_minor": 4
}
