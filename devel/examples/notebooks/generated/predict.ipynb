{
 "cells": [
  {
   "cell_type": "markdown",
   "metadata": {},
   "source": [
    "# Prediction (out of sample)"
   ]
  },
  {
   "cell_type": "code",
   "execution_count": 1,
   "metadata": {
    "execution": {
     "iopub.execute_input": "2025-04-02T08:19:28.568244Z",
     "iopub.status.busy": "2025-04-02T08:19:28.564413Z",
     "iopub.status.idle": "2025-04-02T08:19:29.825944Z",
     "shell.execute_reply": "2025-04-02T08:19:29.825257Z"
    }
   },
   "outputs": [],
   "source": [
    "%matplotlib inline"
   ]
  },
  {
   "cell_type": "code",
   "execution_count": 2,
   "metadata": {
    "execution": {
     "iopub.execute_input": "2025-04-02T08:19:29.835362Z",
     "iopub.status.busy": "2025-04-02T08:19:29.832514Z",
     "iopub.status.idle": "2025-04-02T08:19:31.604819Z",
     "shell.execute_reply": "2025-04-02T08:19:31.604128Z"
    }
   },
   "outputs": [],
   "source": [
    "import numpy as np\n",
    "import matplotlib.pyplot as plt\n",
    "\n",
    "import statsmodels.api as sm\n",
    "\n",
    "plt.rc(\"figure\", figsize=(16, 8))\n",
    "plt.rc(\"font\", size=14)"
   ]
  },
  {
   "cell_type": "markdown",
   "metadata": {},
   "source": [
    "## Artificial data"
   ]
  },
  {
   "cell_type": "code",
   "execution_count": 3,
   "metadata": {
    "execution": {
     "iopub.execute_input": "2025-04-02T08:19:31.613891Z",
     "iopub.status.busy": "2025-04-02T08:19:31.613534Z",
     "iopub.status.idle": "2025-04-02T08:19:31.621584Z",
     "shell.execute_reply": "2025-04-02T08:19:31.620975Z"
    }
   },
   "outputs": [],
   "source": [
    "nsample = 50\n",
    "sig = 0.25\n",
    "x1 = np.linspace(0, 20, nsample)\n",
    "X = np.column_stack((x1, np.sin(x1), (x1 - 5) ** 2))\n",
    "X = sm.add_constant(X)\n",
    "beta = [5.0, 0.5, 0.5, -0.02]\n",
    "y_true = np.dot(X, beta)\n",
    "y = y_true + sig * np.random.normal(size=nsample)"
   ]
  },
  {
   "cell_type": "markdown",
   "metadata": {},
   "source": [
    "## Estimation "
   ]
  },
  {
   "cell_type": "code",
   "execution_count": 4,
   "metadata": {
    "execution": {
     "iopub.execute_input": "2025-04-02T08:19:31.625237Z",
     "iopub.status.busy": "2025-04-02T08:19:31.624739Z",
     "iopub.status.idle": "2025-04-02T08:19:31.648287Z",
     "shell.execute_reply": "2025-04-02T08:19:31.647670Z"
    }
   },
   "outputs": [
    {
     "name": "stdout",
     "output_type": "stream",
     "text": [
      "                            OLS Regression Results                            \n",
      "==============================================================================\n",
      "Dep. Variable:                      y   R-squared:                       0.980\n",
      "Model:                            OLS   Adj. R-squared:                  0.979\n",
      "Method:                 Least Squares   F-statistic:                     755.7\n",
      "Date:                Wed, 02 Apr 2025   Prob (F-statistic):           4.01e-39\n",
      "Time:                        08:19:31   Log-Likelihood:                -4.5023\n",
      "No. Observations:                  50   AIC:                             17.00\n",
      "Df Residuals:                      46   BIC:                             24.65\n",
      "Df Model:                           3                                         \n",
      "Covariance Type:            nonrobust                                         \n",
      "==============================================================================\n",
      "                 coef    std err          t      P>|t|      [0.025      0.975]\n",
      "------------------------------------------------------------------------------\n",
      "const          4.9624      0.094     52.743      0.000       4.773       5.152\n",
      "x1             0.4922      0.015     33.917      0.000       0.463       0.521\n",
      "x2             0.4982      0.057      8.734      0.000       0.383       0.613\n",
      "x3            -0.0187      0.001    -14.705      0.000      -0.021      -0.016\n",
      "==============================================================================\n",
      "Omnibus:                        2.512   Durbin-Watson:                   2.235\n",
      "Prob(Omnibus):                  0.285   Jarque-Bera (JB):                1.542\n",
      "Skew:                           0.150   Prob(JB):                        0.463\n",
      "Kurtosis:                       2.194   Cond. No.                         221.\n",
      "==============================================================================\n",
      "\n",
      "Notes:\n",
      "[1] Standard Errors assume that the covariance matrix of the errors is correctly specified.\n"
     ]
    }
   ],
   "source": [
    "olsmod = sm.OLS(y, X)\n",
    "olsres = olsmod.fit()\n",
    "print(olsres.summary())"
   ]
  },
  {
   "cell_type": "markdown",
   "metadata": {},
   "source": [
    "## In-sample prediction"
   ]
  },
  {
   "cell_type": "code",
   "execution_count": 5,
   "metadata": {
    "execution": {
     "iopub.execute_input": "2025-04-02T08:19:31.654702Z",
     "iopub.status.busy": "2025-04-02T08:19:31.654475Z",
     "iopub.status.idle": "2025-04-02T08:19:31.661443Z",
     "shell.execute_reply": "2025-04-02T08:19:31.660860Z"
    }
   },
   "outputs": [
    {
     "name": "stdout",
     "output_type": "stream",
     "text": [
      "[ 4.49403459  4.96600847  5.39925078  5.76661026  6.05073439  6.24692039\n",
      "  6.36388782  6.42234604  6.45159167  6.48469529  6.55306799  6.68130064\n",
      "  6.88312367  7.15915121  7.49678019  7.87226098  8.25459939  8.61064893\n",
      "  8.91055668  9.13266804  9.26708453  9.31729007  9.2995786   9.240377\n",
      "  9.17190326  9.12687313  9.13312503  9.2090463   9.36055214  9.58011384\n",
      "  9.84799568 10.13549746 10.40966988 10.63872797 10.79727334 10.87046701\n",
      " 10.85646742 10.76673302 10.62413965 10.45922211 10.3051574  10.1923138\n",
      " 10.14326148 10.16906426 10.26746186 10.42324128 10.61073621 10.79804399\n",
      " 10.95226706 11.04491799]\n"
     ]
    }
   ],
   "source": [
    "ypred = olsres.predict(X)\n",
    "print(ypred)"
   ]
  },
  {
   "cell_type": "markdown",
   "metadata": {},
   "source": [
    "## Create a new sample of explanatory variables Xnew, predict and plot"
   ]
  },
  {
   "cell_type": "code",
   "execution_count": 6,
   "metadata": {
    "execution": {
     "iopub.execute_input": "2025-04-02T08:19:31.666491Z",
     "iopub.status.busy": "2025-04-02T08:19:31.665991Z",
     "iopub.status.idle": "2025-04-02T08:19:31.674553Z",
     "shell.execute_reply": "2025-04-02T08:19:31.673971Z"
    }
   },
   "outputs": [
    {
     "name": "stdout",
     "output_type": "stream",
     "text": [
      "[11.04707562 10.91827655 10.67805815 10.37094364 10.05554122  9.79019477\n",
      "  9.61869922  9.55957802  9.60154795  9.70628167]\n"
     ]
    }
   ],
   "source": [
    "x1n = np.linspace(20.5, 25, 10)\n",
    "Xnew = np.column_stack((x1n, np.sin(x1n), (x1n - 5) ** 2))\n",
    "Xnew = sm.add_constant(Xnew)\n",
    "ynewpred = olsres.predict(Xnew)  # predict out of sample\n",
    "print(ynewpred)"
   ]
  },
  {
   "cell_type": "markdown",
   "metadata": {},
   "source": [
    "## Plot comparison"
   ]
  },
  {
   "cell_type": "code",
   "execution_count": 7,
   "metadata": {
    "execution": {
     "iopub.execute_input": "2025-04-02T08:19:31.676883Z",
     "iopub.status.busy": "2025-04-02T08:19:31.676341Z",
     "iopub.status.idle": "2025-04-02T08:19:32.015358Z",
     "shell.execute_reply": "2025-04-02T08:19:32.014697Z"
    }
   },
   "outputs": [
    {
     "data": {
      "text/plain": [
       "<matplotlib.legend.Legend at 0x7f53b82b7c40>"
      ]
     },
     "execution_count": 7,
     "metadata": {},
     "output_type": "execute_result"
    },
    {
     "data": {
      "image/png": "[encoded data removed]",
      "text/plain": [
       "<Figure size 1600x800 with 1 Axes>"
      ]
     },
     "metadata": {},
     "output_type": "display_data"
    }
   ],
   "source": [
    "import matplotlib.pyplot as plt\n",
    "\n",
    "fig, ax = plt.subplots()\n",
    "ax.plot(x1, y, \"o\", label=\"Data\")\n",
    "ax.plot(x1, y_true, \"b-\", label=\"True\")\n",
    "ax.plot(np.hstack((x1, x1n)), np.hstack((ypred, ynewpred)), \"r\", label=\"OLS prediction\")\n",
    "ax.legend(loc=\"best\")"
   ]
  },
  {
   "cell_type": "markdown",
   "metadata": {},
   "source": [
    "## Predicting with Formulas"
   ]
  },
  {
   "cell_type": "markdown",
   "metadata": {},
   "source": [
    "Using formulas can make both estimation and prediction a lot easier"
   ]
  },
  {
   "cell_type": "code",
   "execution_count": 8,
   "metadata": {
    "execution": {
     "iopub.execute_input": "2025-04-02T08:19:32.019221Z",
     "iopub.status.busy": "2025-04-02T08:19:32.017689Z",
     "iopub.status.idle": "2025-04-02T08:19:32.033031Z",
     "shell.execute_reply": "2025-04-02T08:19:32.032412Z"
    }
   },
   "outputs": [],
   "source": [
    "from statsmodels.formula.api import ols\n",
    "\n",
    "data = {\"x1\": x1, \"y\": y}\n",
    "\n",
    "res = ols(\"y ~ x1 + np.sin(x1) + I((x1-5)**2)\", data=data).fit()"
   ]
  },
  {
   "cell_type": "markdown",
   "metadata": {},
   "source": [
    "We use the `I` to indicate use of the Identity transform. Ie., we do not want any expansion magic from using `**2`"
   ]
  },
  {
   "cell_type": "code",
   "execution_count": 9,
   "metadata": {
    "execution": {
     "iopub.execute_input": "2025-04-02T08:19:32.038724Z",
     "iopub.status.busy": "2025-04-02T08:19:32.038500Z",
     "iopub.status.idle": "2025-04-02T08:19:32.047585Z",
     "shell.execute_reply": "2025-04-02T08:19:32.046993Z"
    }
   },
   "outputs": [
    {
     "data": {
      "text/plain": [
       "Intercept           4.962412\n",
       "x1                  0.492154\n",
       "np.sin(x1)          0.498196\n",
       "I((x1 - 5) ** 2)   -0.018735\n",
       "dtype: float64"
      ]
     },
     "execution_count": 9,
     "metadata": {},
     "output_type": "execute_result"
    }
   ],
   "source": [
    "res.params"
   ]
  },
  {
   "cell_type": "markdown",
   "metadata": {},
   "source": [
    "Now we only have to pass the single variable and we get the transformed right-hand side variables automatically"
   ]
  },
  {
   "cell_type": "code",
   "execution_count": 10,
   "metadata": {
    "execution": {
     "iopub.execute_input": "2025-04-02T08:19:32.051492Z",
     "iopub.status.busy": "2025-04-02T08:19:32.051273Z",
     "iopub.status.idle": "2025-04-02T08:19:32.062342Z",
     "shell.execute_reply": "2025-04-02T08:19:32.061776Z"
    }
   },
   "outputs": [
    {
     "data": {
      "text/plain": [
       "0    11.047076\n",
       "1    10.918277\n",
       "2    10.678058\n",
       "3    10.370944\n",
       "4    10.055541\n",
       "5     9.790195\n",
       "6     9.618699\n",
       "7     9.559578\n",
       "8     9.601548\n",
       "9     9.706282\n",
       "dtype: float64"
      ]
     },
     "execution_count": 10,
     "metadata": {},
     "output_type": "execute_result"
    }
   ],
   "source": [
    "res.predict(exog=dict(x1=x1n))"
   ]
  }
 ],
 "metadata": {
  "kernelspec": {
   "display_name": "Python 3",
   "language": "python",
   "name": "python3"
  },
  "language_info": {
   "codemirror_mode": {
    "name": "ipython",
    "version": 3
   },
   "file_extension": ".py",
   "mimetype": "text/x-python",
   "name": "python",
   "nbconvert_exporter": "python",
   "pygments_lexer": "ipython3",
   "version": "3.10.16"
  }
 },
 "nbformat": 4,
 "nbformat_minor": 4
}
