{
 "cells": [
  {
   "cell_type": "markdown",
   "metadata": {},
   "source": [
    "# Prediction (out of sample)"
   ]
  },
  {
   "cell_type": "code",
   "execution_count": 1,
   "metadata": {
    "execution": {
     "iopub.execute_input": "2025-09-10T07:45:20.306970Z",
     "iopub.status.busy": "2025-09-10T07:45:20.306472Z",
     "iopub.status.idle": "2025-09-10T07:45:21.178851Z",
     "shell.execute_reply": "2025-09-10T07:45:21.177883Z"
    }
   },
   "outputs": [],
   "source": [
    "%matplotlib inline"
   ]
  },
  {
   "cell_type": "code",
   "execution_count": 2,
   "metadata": {
    "execution": {
     "iopub.execute_input": "2025-09-10T07:45:21.182508Z",
     "iopub.status.busy": "2025-09-10T07:45:21.182107Z",
     "iopub.status.idle": "2025-09-10T07:45:22.833889Z",
     "shell.execute_reply": "2025-09-10T07:45:22.832820Z"
    }
   },
   "outputs": [],
   "source": [
    "import numpy as np\n",
    "import matplotlib.pyplot as plt\n",
    "\n",
    "import statsmodels.api as sm\n",
    "\n",
    "plt.rc(\"figure\", figsize=(16, 8))\n",
    "plt.rc(\"font\", size=14)"
   ]
  },
  {
   "cell_type": "markdown",
   "metadata": {},
   "source": [
    "## Artificial data"
   ]
  },
  {
   "cell_type": "code",
   "execution_count": 3,
   "metadata": {
    "execution": {
     "iopub.execute_input": "2025-09-10T07:45:22.837391Z",
     "iopub.status.busy": "2025-09-10T07:45:22.836920Z",
     "iopub.status.idle": "2025-09-10T07:45:22.843359Z",
     "shell.execute_reply": "2025-09-10T07:45:22.842506Z"
    }
   },
   "outputs": [],
   "source": [
    "nsample = 50\n",
    "sig = 0.25\n",
    "x1 = np.linspace(0, 20, nsample)\n",
    "X = np.column_stack((x1, np.sin(x1), (x1 - 5) ** 2))\n",
    "X = sm.add_constant(X)\n",
    "beta = [5.0, 0.5, 0.5, -0.02]\n",
    "y_true = np.dot(X, beta)\n",
    "y = y_true + sig * np.random.normal(size=nsample)"
   ]
  },
  {
   "cell_type": "markdown",
   "metadata": {},
   "source": [
    "## Estimation "
   ]
  },
  {
   "cell_type": "code",
   "execution_count": 4,
   "metadata": {
    "execution": {
     "iopub.execute_input": "2025-09-10T07:45:22.846051Z",
     "iopub.status.busy": "2025-09-10T07:45:22.845641Z",
     "iopub.status.idle": "2025-09-10T07:45:22.861618Z",
     "shell.execute_reply": "2025-09-10T07:45:22.860822Z"
    }
   },
   "outputs": [
    {
     "name": "stdout",
     "output_type": "stream",
     "text": [
      "                            OLS Regression Results                            \n",
      "==============================================================================\n",
      "Dep. Variable:                      y   R-squared:                       0.985\n",
      "Model:                            OLS   Adj. R-squared:                  0.984\n",
      "Method:                 Least Squares   F-statistic:                     1006.\n",
      "Date:                Wed, 10 Sep 2025   Prob (F-statistic):           6.22e-42\n",
      "Time:                        07:45:22   Log-Likelihood:                 3.6671\n",
      "No. Observations:                  50   AIC:                            0.6659\n",
      "Df Residuals:                      46   BIC:                             8.314\n",
      "Df Model:                           3                                         \n",
      "Covariance Type:            nonrobust                                         \n",
      "==============================================================================\n",
      "                 coef    std err          t      P>|t|      [0.025      0.975]\n",
      "------------------------------------------------------------------------------\n",
      "const          5.0787      0.080     63.559      0.000       4.918       5.239\n",
      "x1             0.4862      0.012     39.455      0.000       0.461       0.511\n",
      "x2             0.4853      0.048     10.018      0.000       0.388       0.583\n",
      "x3            -0.0188      0.001    -17.399      0.000      -0.021      -0.017\n",
      "==============================================================================\n",
      "Omnibus:                        0.070   Durbin-Watson:                   2.203\n",
      "Prob(Omnibus):                  0.966   Jarque-Bera (JB):                0.210\n",
      "Skew:                           0.077   Prob(JB):                        0.900\n",
      "Kurtosis:                       2.723   Cond. No.                         221.\n",
      "==============================================================================\n",
      "\n",
      "Notes:\n",
      "[1] Standard Errors assume that the covariance matrix of the errors is correctly specified.\n"
     ]
    }
   ],
   "source": [
    "olsmod = sm.OLS(y, X)\n",
    "olsres = olsmod.fit()\n",
    "print(olsres.summary())"
   ]
  },
  {
   "cell_type": "markdown",
   "metadata": {},
   "source": [
    "## In-sample prediction"
   ]
  },
  {
   "cell_type": "code",
   "execution_count": 5,
   "metadata": {
    "execution": {
     "iopub.execute_input": "2025-09-10T07:45:22.864338Z",
     "iopub.status.busy": "2025-09-10T07:45:22.864035Z",
     "iopub.status.idle": "2025-09-10T07:45:22.869739Z",
     "shell.execute_reply": "2025-09-10T07:45:22.869059Z"
    }
   },
   "outputs": [
    {
     "name": "stdout",
     "output_type": "stream",
     "text": [
      "[ 4.60802275  5.07281217  5.49967972  5.86217599  6.14339702  6.33876157\n",
      "  6.45676382  6.5175778   6.54974285  6.58547467  6.65537241  6.78339127\n",
      "  6.98290677  7.25451717  7.58594518  7.95405506  8.32865382  8.67745178\n",
      "  8.97136769  9.18930672  9.32162625  9.37172016  9.35546117  9.29859307\n",
      "  9.23250103  9.18905511  9.19537414  9.26937015  9.41680544  9.63034591\n",
      "  9.89076599 10.17010738 10.43627247 10.65829793 10.8114419  10.88124897\n",
      " 10.86592519 10.77663281 10.63565634 10.4727413  10.32020707 10.20763692\n",
      " 10.15701762 10.17912697 10.27176314 10.42010637 10.5991538  10.77782743\n",
      " 10.9240801  11.01016074]\n"
     ]
    }
   ],
   "source": [
    "ypred = olsres.predict(X)\n",
    "print(ypred)"
   ]
  },
  {
   "cell_type": "markdown",
   "metadata": {},
   "source": [
    "## Create a new sample of explanatory variables Xnew, predict and plot"
   ]
  },
  {
   "cell_type": "code",
   "execution_count": 6,
   "metadata": {
    "execution": {
     "iopub.execute_input": "2025-09-10T07:45:22.872792Z",
     "iopub.status.busy": "2025-09-10T07:45:22.872498Z",
     "iopub.status.idle": "2025-09-10T07:45:22.878279Z",
     "shell.execute_reply": "2025-09-10T07:45:22.877521Z"
    }
   },
   "outputs": [
    {
     "name": "stdout",
     "output_type": "stream",
     "text": [
      "[11.00688688 10.87575411 10.6357948  10.33038124 10.01660668  9.75130684\n",
      "  9.57714457  9.5121645   9.54537509  9.63943972]\n"
     ]
    }
   ],
   "source": [
    "x1n = np.linspace(20.5, 25, 10)\n",
    "Xnew = np.column_stack((x1n, np.sin(x1n), (x1n - 5) ** 2))\n",
    "Xnew = sm.add_constant(Xnew)\n",
    "ynewpred = olsres.predict(Xnew)  # predict out of sample\n",
    "print(ynewpred)"
   ]
  },
  {
   "cell_type": "markdown",
   "metadata": {},
   "source": [
    "## Plot comparison"
   ]
  },
  {
   "cell_type": "code",
   "execution_count": 7,
   "metadata": {
    "execution": {
     "iopub.execute_input": "2025-09-10T07:45:22.880900Z",
     "iopub.status.busy": "2025-09-10T07:45:22.880584Z",
     "iopub.status.idle": "2025-09-10T07:45:23.143467Z",
     "shell.execute_reply": "2025-09-10T07:45:23.141102Z"
    }
   },
   "outputs": [
    {
     "data": {
      "text/plain": [
       "<matplotlib.legend.Legend at 0x7f128f814b80>"
      ]
     },
     "execution_count": 7,
     "metadata": {},
     "output_type": "execute_result"
    },
    {
     "data": {
      "image/png": "[encoded data removed]",
      "text/plain": [
       "<Figure size 1600x800 with 1 Axes>"
      ]
     },
     "metadata": {},
     "output_type": "display_data"
    }
   ],
   "source": [
    "import matplotlib.pyplot as plt\n",
    "\n",
    "fig, ax = plt.subplots()\n",
    "ax.plot(x1, y, \"o\", label=\"Data\")\n",
    "ax.plot(x1, y_true, \"b-\", label=\"True\")\n",
    "ax.plot(np.hstack((x1, x1n)), np.hstack((ypred, ynewpred)), \"r\", label=\"OLS prediction\")\n",
    "ax.legend(loc=\"best\")"
   ]
  },
  {
   "cell_type": "markdown",
   "metadata": {},
   "source": [
    "## Predicting with Formulas"
   ]
  },
  {
   "cell_type": "markdown",
   "metadata": {},
   "source": [
    "Using formulas can make both estimation and prediction a lot easier"
   ]
  },
  {
   "cell_type": "code",
   "execution_count": 8,
   "metadata": {
    "execution": {
     "iopub.execute_input": "2025-09-10T07:45:23.146806Z",
     "iopub.status.busy": "2025-09-10T07:45:23.146470Z",
     "iopub.status.idle": "2025-09-10T07:45:23.157214Z",
     "shell.execute_reply": "2025-09-10T07:45:23.156401Z"
    }
   },
   "outputs": [],
   "source": [
    "from statsmodels.formula.api import ols\n",
    "\n",
    "data = {\"x1\": x1, \"y\": y}\n",
    "\n",
    "res = ols(\"y ~ x1 + np.sin(x1) + I((x1-5)**2)\", data=data).fit()"
   ]
  },
  {
   "cell_type": "markdown",
   "metadata": {},
   "source": [
    "We use the `I` to indicate use of the Identity transform. Ie., we do not want any expansion magic from using `**2`"
   ]
  },
  {
   "cell_type": "code",
   "execution_count": 9,
   "metadata": {
    "execution": {
     "iopub.execute_input": "2025-09-10T07:45:23.161288Z",
     "iopub.status.busy": "2025-09-10T07:45:23.160231Z",
     "iopub.status.idle": "2025-09-10T07:45:23.170441Z",
     "shell.execute_reply": "2025-09-10T07:45:23.169607Z"
    }
   },
   "outputs": [
    {
     "data": {
      "text/plain": [
       "Intercept           5.078660\n",
       "x1                  0.486208\n",
       "np.sin(x1)          0.485318\n",
       "I((x1 - 5) ** 2)   -0.018825\n",
       "dtype: float64"
      ]
     },
     "execution_count": 9,
     "metadata": {},
     "output_type": "execute_result"
    }
   ],
   "source": [
    "res.params"
   ]
  },
  {
   "cell_type": "markdown",
   "metadata": {},
   "source": [
    "Now we only have to pass the single variable and we get the transformed right-hand side variables automatically"
   ]
  },
  {
   "cell_type": "code",
   "execution_count": 10,
   "metadata": {
    "execution": {
     "iopub.execute_input": "2025-09-10T07:45:23.175011Z",
     "iopub.status.busy": "2025-09-10T07:45:23.173689Z",
     "iopub.status.idle": "2025-09-10T07:45:23.184552Z",
     "shell.execute_reply": "2025-09-10T07:45:23.183740Z"
    }
   },
   "outputs": [
    {
     "data": {
      "text/plain": [
       "0    11.006887\n",
       "1    10.875754\n",
       "2    10.635795\n",
       "3    10.330381\n",
       "4    10.016607\n",
       "5     9.751307\n",
       "6     9.577145\n",
       "7     9.512165\n",
       "8     9.545375\n",
       "9     9.639440\n",
       "dtype: float64"
      ]
     },
     "execution_count": 10,
     "metadata": {},
     "output_type": "execute_result"
    }
   ],
   "source": [
    "res.predict(exog=dict(x1=x1n))"
   ]
  }
 ],
 "metadata": {
  "kernelspec": {
   "display_name": "Python 3",
   "language": "python",
   "name": "python3"
  },
  "language_info": {
   "codemirror_mode": {
    "name": "ipython",
    "version": 3
   },
   "file_extension": ".py",
   "mimetype": "text/x-python",
   "name": "python",
   "nbconvert_exporter": "python",
   "pygments_lexer": "ipython3",
   "version": "3.10.18"
  }
 },
 "nbformat": 4,
 "nbformat_minor": 4
}
