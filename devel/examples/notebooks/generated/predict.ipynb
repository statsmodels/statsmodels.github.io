{
 "cells": [
  {
   "cell_type": "markdown",
   "metadata": {},
   "source": [
    "# Prediction (out of sample)"
   ]
  },
  {
   "cell_type": "code",
   "execution_count": 1,
   "metadata": {
    "execution": {
     "iopub.execute_input": "2025-09-18T16:08:19.461035Z",
     "iopub.status.busy": "2025-09-18T16:08:19.460789Z",
     "iopub.status.idle": "2025-09-18T16:08:20.358755Z",
     "shell.execute_reply": "2025-09-18T16:08:20.357751Z"
    }
   },
   "outputs": [],
   "source": [
    "%matplotlib inline"
   ]
  },
  {
   "cell_type": "code",
   "execution_count": 2,
   "metadata": {
    "execution": {
     "iopub.execute_input": "2025-09-18T16:08:20.363200Z",
     "iopub.status.busy": "2025-09-18T16:08:20.362341Z",
     "iopub.status.idle": "2025-09-18T16:08:21.914663Z",
     "shell.execute_reply": "2025-09-18T16:08:21.907290Z"
    }
   },
   "outputs": [],
   "source": [
    "import numpy as np\n",
    "import matplotlib.pyplot as plt\n",
    "\n",
    "import statsmodels.api as sm\n",
    "\n",
    "plt.rc(\"figure\", figsize=(16, 8))\n",
    "plt.rc(\"font\", size=14)"
   ]
  },
  {
   "cell_type": "markdown",
   "metadata": {},
   "source": [
    "## Artificial data"
   ]
  },
  {
   "cell_type": "code",
   "execution_count": 3,
   "metadata": {
    "execution": {
     "iopub.execute_input": "2025-09-18T16:08:21.921085Z",
     "iopub.status.busy": "2025-09-18T16:08:21.920599Z",
     "iopub.status.idle": "2025-09-18T16:08:21.930846Z",
     "shell.execute_reply": "2025-09-18T16:08:21.929958Z"
    }
   },
   "outputs": [],
   "source": [
    "nsample = 50\n",
    "sig = 0.25\n",
    "x1 = np.linspace(0, 20, nsample)\n",
    "X = np.column_stack((x1, np.sin(x1), (x1 - 5) ** 2))\n",
    "X = sm.add_constant(X)\n",
    "beta = [5.0, 0.5, 0.5, -0.02]\n",
    "y_true = np.dot(X, beta)\n",
    "y = y_true + sig * np.random.normal(size=nsample)"
   ]
  },
  {
   "cell_type": "markdown",
   "metadata": {},
   "source": [
    "## Estimation "
   ]
  },
  {
   "cell_type": "code",
   "execution_count": 4,
   "metadata": {
    "execution": {
     "iopub.execute_input": "2025-09-18T16:08:21.939497Z",
     "iopub.status.busy": "2025-09-18T16:08:21.939139Z",
     "iopub.status.idle": "2025-09-18T16:08:21.970828Z",
     "shell.execute_reply": "2025-09-18T16:08:21.967301Z"
    }
   },
   "outputs": [
    {
     "name": "stdout",
     "output_type": "stream",
     "text": [
      "                            OLS Regression Results                            \n",
      "==============================================================================\n",
      "Dep. Variable:                      y   R-squared:                       0.981\n",
      "Model:                            OLS   Adj. R-squared:                  0.979\n",
      "Method:                 Least Squares   F-statistic:                     772.1\n",
      "Date:                Thu, 18 Sep 2025   Prob (F-statistic):           2.47e-39\n",
      "Time:                        16:08:21   Log-Likelihood:                -4.5000\n",
      "No. Observations:                  50   AIC:                             17.00\n",
      "Df Residuals:                      46   BIC:                             24.65\n",
      "Df Model:                           3                                         \n",
      "Covariance Type:            nonrobust                                         \n",
      "==============================================================================\n",
      "                 coef    std err          t      P>|t|      [0.025      0.975]\n",
      "------------------------------------------------------------------------------\n",
      "const          4.9479      0.094     52.591      0.000       4.759       5.137\n",
      "x1             0.5146      0.015     35.468      0.000       0.485       0.544\n",
      "x2             0.5186      0.057      9.092      0.000       0.404       0.633\n",
      "x3            -0.0210      0.001    -16.491      0.000      -0.024      -0.018\n",
      "==============================================================================\n",
      "Omnibus:                        1.171   Durbin-Watson:                   2.230\n",
      "Prob(Omnibus):                  0.557   Jarque-Bera (JB):                0.837\n",
      "Skew:                          -0.317   Prob(JB):                        0.658\n",
      "Kurtosis:                       2.990   Cond. No.                         221.\n",
      "==============================================================================\n",
      "\n",
      "Notes:\n",
      "[1] Standard Errors assume that the covariance matrix of the errors is correctly specified.\n"
     ]
    }
   ],
   "source": [
    "olsmod = sm.OLS(y, X)\n",
    "olsres = olsmod.fit()\n",
    "print(olsres.summary())"
   ]
  },
  {
   "cell_type": "markdown",
   "metadata": {},
   "source": [
    "## In-sample prediction"
   ]
  },
  {
   "cell_type": "code",
   "execution_count": 5,
   "metadata": {
    "execution": {
     "iopub.execute_input": "2025-09-18T16:08:21.974040Z",
     "iopub.status.busy": "2025-09-18T16:08:21.973497Z",
     "iopub.status.idle": "2025-09-18T16:08:21.982863Z",
     "shell.execute_reply": "2025-09-18T16:08:21.982092Z"
    }
   },
   "outputs": [
    {
     "name": "stdout",
     "output_type": "stream",
     "text": [
      "[ 4.42269382  4.92085251  5.37819024  5.76644279  6.06754634  6.27660533\n",
      "  6.40269675  6.46737885  6.50114919  6.53843394  6.61193177  6.74724156\n",
      "  6.95865659  7.24681615  7.59860056  7.98928665  8.38660975  8.75606463\n",
      "  9.06657466  9.2955976   9.43282922  9.48189625  9.45976052  9.39393221\n",
      "  9.31794994  9.26587056  9.26667361  9.33950014  9.49050784  9.71185938\n",
      "  9.98301005 10.27408319 10.55077884 10.78000915 10.93533461 11.00130795\n",
      " 10.97601214 10.87137532 10.71121104 10.52730578 10.35419649 10.2234963\n",
      " 10.15870056 10.17132661 10.25902153 10.40594869 10.58538971 10.76413418\n",
      " 10.90793603 10.9871401 ]\n"
     ]
    }
   ],
   "source": [
    "ypred = olsres.predict(X)\n",
    "print(ypred)"
   ]
  },
  {
   "cell_type": "markdown",
   "metadata": {},
   "source": [
    "## Create a new sample of explanatory variables Xnew, predict and plot"
   ]
  },
  {
   "cell_type": "code",
   "execution_count": 6,
   "metadata": {
    "execution": {
     "iopub.execute_input": "2025-09-18T16:08:21.987194Z",
     "iopub.status.busy": "2025-09-18T16:08:21.986916Z",
     "iopub.status.idle": "2025-09-18T16:08:21.997935Z",
     "shell.execute_reply": "2025-09-18T16:08:21.994088Z"
    }
   },
   "outputs": [
    {
     "name": "stdout",
     "output_type": "stream",
     "text": [
      "[10.9675776  10.81093739 10.53755773 10.19378689  9.84063551  9.53883907\n",
      "  9.33398771  9.24536418  9.26122276  9.34166499]\n"
     ]
    }
   ],
   "source": [
    "x1n = np.linspace(20.5, 25, 10)\n",
    "Xnew = np.column_stack((x1n, np.sin(x1n), (x1n - 5) ** 2))\n",
    "Xnew = sm.add_constant(Xnew)\n",
    "ynewpred = olsres.predict(Xnew)  # predict out of sample\n",
    "print(ynewpred)"
   ]
  },
  {
   "cell_type": "markdown",
   "metadata": {},
   "source": [
    "## Plot comparison"
   ]
  },
  {
   "cell_type": "code",
   "execution_count": 7,
   "metadata": {
    "execution": {
     "iopub.execute_input": "2025-09-18T16:08:22.000761Z",
     "iopub.status.busy": "2025-09-18T16:08:22.000478Z",
     "iopub.status.idle": "2025-09-18T16:08:22.320207Z",
     "shell.execute_reply": "2025-09-18T16:08:22.319313Z"
    }
   },
   "outputs": [
    {
     "data": {
      "text/plain": [
       "<matplotlib.legend.Legend at 0x7fece0a7c670>"
      ]
     },
     "execution_count": 7,
     "metadata": {},
     "output_type": "execute_result"
    },
    {
     "data": {
      "image/png": "[encoded data removed]",
      "text/plain": [
       "<Figure size 1600x800 with 1 Axes>"
      ]
     },
     "metadata": {},
     "output_type": "display_data"
    }
   ],
   "source": [
    "import matplotlib.pyplot as plt\n",
    "\n",
    "fig, ax = plt.subplots()\n",
    "ax.plot(x1, y, \"o\", label=\"Data\")\n",
    "ax.plot(x1, y_true, \"b-\", label=\"True\")\n",
    "ax.plot(np.hstack((x1, x1n)), np.hstack((ypred, ynewpred)), \"r\", label=\"OLS prediction\")\n",
    "ax.legend(loc=\"best\")"
   ]
  },
  {
   "cell_type": "markdown",
   "metadata": {},
   "source": [
    "## Predicting with Formulas"
   ]
  },
  {
   "cell_type": "markdown",
   "metadata": {},
   "source": [
    "Using formulas can make both estimation and prediction a lot easier"
   ]
  },
  {
   "cell_type": "code",
   "execution_count": 8,
   "metadata": {
    "execution": {
     "iopub.execute_input": "2025-09-18T16:08:22.322951Z",
     "iopub.status.busy": "2025-09-18T16:08:22.322638Z",
     "iopub.status.idle": "2025-09-18T16:08:22.340789Z",
     "shell.execute_reply": "2025-09-18T16:08:22.339945Z"
    }
   },
   "outputs": [],
   "source": [
    "from statsmodels.formula.api import ols\n",
    "\n",
    "data = {\"x1\": x1, \"y\": y}\n",
    "\n",
    "res = ols(\"y ~ x1 + np.sin(x1) + I((x1-5)**2)\", data=data).fit()"
   ]
  },
  {
   "cell_type": "markdown",
   "metadata": {},
   "source": [
    "We use the `I` to indicate use of the Identity transform. Ie., we do not want any expansion magic from using `**2`"
   ]
  },
  {
   "cell_type": "code",
   "execution_count": 9,
   "metadata": {
    "execution": {
     "iopub.execute_input": "2025-09-18T16:08:22.344534Z",
     "iopub.status.busy": "2025-09-18T16:08:22.344209Z",
     "iopub.status.idle": "2025-09-18T16:08:22.360111Z",
     "shell.execute_reply": "2025-09-18T16:08:22.359265Z"
    }
   },
   "outputs": [
    {
     "data": {
      "text/plain": [
       "Intercept           4.947916\n",
       "x1                  0.514638\n",
       "np.sin(x1)          0.518618\n",
       "I((x1 - 5) ** 2)   -0.021009\n",
       "dtype: float64"
      ]
     },
     "execution_count": 9,
     "metadata": {},
     "output_type": "execute_result"
    }
   ],
   "source": [
    "res.params"
   ]
  },
  {
   "cell_type": "markdown",
   "metadata": {},
   "source": [
    "Now we only have to pass the single variable and we get the transformed right-hand side variables automatically"
   ]
  },
  {
   "cell_type": "code",
   "execution_count": 10,
   "metadata": {
    "execution": {
     "iopub.execute_input": "2025-09-18T16:08:22.362954Z",
     "iopub.status.busy": "2025-09-18T16:08:22.362722Z",
     "iopub.status.idle": "2025-09-18T16:08:22.377557Z",
     "shell.execute_reply": "2025-09-18T16:08:22.376722Z"
    }
   },
   "outputs": [
    {
     "data": {
      "text/plain": [
       "0    10.967578\n",
       "1    10.810937\n",
       "2    10.537558\n",
       "3    10.193787\n",
       "4     9.840636\n",
       "5     9.538839\n",
       "6     9.333988\n",
       "7     9.245364\n",
       "8     9.261223\n",
       "9     9.341665\n",
       "dtype: float64"
      ]
     },
     "execution_count": 10,
     "metadata": {},
     "output_type": "execute_result"
    }
   ],
   "source": [
    "res.predict(exog=dict(x1=x1n))"
   ]
  }
 ],
 "metadata": {
  "kernelspec": {
   "display_name": "Python 3",
   "language": "python",
   "name": "python3"
  },
  "language_info": {
   "codemirror_mode": {
    "name": "ipython",
    "version": 3
   },
   "file_extension": ".py",
   "mimetype": "text/x-python",
   "name": "python",
   "nbconvert_exporter": "python",
   "pygments_lexer": "ipython3",
   "version": "3.10.18"
  }
 },
 "nbformat": 4,
 "nbformat_minor": 4
}
