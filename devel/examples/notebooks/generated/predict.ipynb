{
 "cells": [
  {
   "cell_type": "markdown",
   "metadata": {},
   "source": [
    "# Prediction (out of sample)"
   ]
  },
  {
   "cell_type": "code",
   "execution_count": 1,
   "metadata": {
    "execution": {
     "iopub.execute_input": "2023-08-31T18:14:00.815353Z",
     "iopub.status.busy": "2023-08-31T18:14:00.815028Z",
     "iopub.status.idle": "2023-08-31T18:14:01.603749Z",
     "shell.execute_reply": "2023-08-31T18:14:01.602625Z"
    }
   },
   "outputs": [],
   "source": [
    "%matplotlib inline"
   ]
  },
  {
   "cell_type": "code",
   "execution_count": 2,
   "metadata": {
    "execution": {
     "iopub.execute_input": "2023-08-31T18:14:01.608098Z",
     "iopub.status.busy": "2023-08-31T18:14:01.607539Z",
     "iopub.status.idle": "2023-08-31T18:14:02.863440Z",
     "shell.execute_reply": "2023-08-31T18:14:02.862594Z"
    }
   },
   "outputs": [],
   "source": [
    "import numpy as np\n",
    "import matplotlib.pyplot as plt\n",
    "\n",
    "import statsmodels.api as sm\n",
    "\n",
    "plt.rc(\"figure\", figsize=(16, 8))\n",
    "plt.rc(\"font\", size=14)"
   ]
  },
  {
   "cell_type": "markdown",
   "metadata": {},
   "source": [
    "## Artificial data"
   ]
  },
  {
   "cell_type": "code",
   "execution_count": 3,
   "metadata": {
    "execution": {
     "iopub.execute_input": "2023-08-31T18:14:02.872074Z",
     "iopub.status.busy": "2023-08-31T18:14:02.870455Z",
     "iopub.status.idle": "2023-08-31T18:14:02.883106Z",
     "shell.execute_reply": "2023-08-31T18:14:02.882229Z"
    }
   },
   "outputs": [],
   "source": [
    "nsample = 50\n",
    "sig = 0.25\n",
    "x1 = np.linspace(0, 20, nsample)\n",
    "X = np.column_stack((x1, np.sin(x1), (x1 - 5) ** 2))\n",
    "X = sm.add_constant(X)\n",
    "beta = [5.0, 0.5, 0.5, -0.02]\n",
    "y_true = np.dot(X, beta)\n",
    "y = y_true + sig * np.random.normal(size=nsample)"
   ]
  },
  {
   "cell_type": "markdown",
   "metadata": {},
   "source": [
    "## Estimation "
   ]
  },
  {
   "cell_type": "code",
   "execution_count": 4,
   "metadata": {
    "execution": {
     "iopub.execute_input": "2023-08-31T18:14:02.888950Z",
     "iopub.status.busy": "2023-08-31T18:14:02.887101Z",
     "iopub.status.idle": "2023-08-31T18:14:02.916846Z",
     "shell.execute_reply": "2023-08-31T18:14:02.915964Z"
    }
   },
   "outputs": [
    {
     "name": "stdout",
     "output_type": "stream",
     "text": [
      "                            OLS Regression Results                            \n",
      "==============================================================================\n",
      "Dep. Variable:                      y   R-squared:                       0.979\n",
      "Model:                            OLS   Adj. R-squared:                  0.978\n",
      "Method:                 Least Squares   F-statistic:                     716.7\n",
      "Date:                Thu, 31 Aug 2023   Prob (F-statistic):           1.32e-38\n",
      "Time:                        18:14:02   Log-Likelihood:                -4.8847\n",
      "No. Observations:                  50   AIC:                             17.77\n",
      "Df Residuals:                      46   BIC:                             25.42\n",
      "Df Model:                           3                                         \n",
      "Covariance Type:            nonrobust                                         \n",
      "==============================================================================\n",
      "                 coef    std err          t      P>|t|      [0.025      0.975]\n",
      "------------------------------------------------------------------------------\n",
      "const          5.0774      0.095     53.554      0.000       4.887       5.268\n",
      "x1             0.4861      0.015     33.245      0.000       0.457       0.516\n",
      "x2             0.5427      0.057      9.442      0.000       0.427       0.658\n",
      "x3            -0.0188      0.001    -14.626      0.000      -0.021      -0.016\n",
      "==============================================================================\n",
      "Omnibus:                        1.985   Durbin-Watson:                   1.628\n",
      "Prob(Omnibus):                  0.371   Jarque-Bera (JB):                1.157\n",
      "Skew:                           0.318   Prob(JB):                        0.561\n",
      "Kurtosis:                       3.390   Cond. No.                         221.\n",
      "==============================================================================\n",
      "\n",
      "Notes:\n",
      "[1] Standard Errors assume that the covariance matrix of the errors is correctly specified.\n"
     ]
    }
   ],
   "source": [
    "olsmod = sm.OLS(y, X)\n",
    "olsres = olsmod.fit()\n",
    "print(olsres.summary())"
   ]
  },
  {
   "cell_type": "markdown",
   "metadata": {},
   "source": [
    "## In-sample prediction"
   ]
  },
  {
   "cell_type": "code",
   "execution_count": 5,
   "metadata": {
    "execution": {
     "iopub.execute_input": "2023-08-31T18:14:02.924191Z",
     "iopub.status.busy": "2023-08-31T18:14:02.921436Z",
     "iopub.status.idle": "2023-08-31T18:14:02.933190Z",
     "shell.execute_reply": "2023-08-31T18:14:02.932329Z"
    }
   },
   "outputs": [
    {
     "name": "stdout",
     "output_type": "stream",
     "text": [
      "[ 4.60802174  5.0953634   5.54105594  5.91552146  6.19985657  6.38893817\n",
      "  6.49226515  6.53239773  6.54125094  6.55485099  6.60741635  6.72573568\n",
      "  6.92476656  7.20517803  7.5532406   7.94308203  8.34093804  8.71069968\n",
      "  9.01984595  9.24478687  9.37473929  9.41349851  9.37881472  9.2994767\n",
      "  9.21058191  9.14777005  9.14136761  9.21140526  9.3643269   9.59193092\n",
      "  9.87271774 10.17542208 10.46414982 10.70427523 10.86812992 10.93954871\n",
      " 10.91652543 10.81154264 10.64952069 10.46372343 10.29029302 10.16231191\n",
      " 10.10436747 10.12851232 10.2322842  10.39911044 10.60103081 10.80329137\n",
      " 10.97005435 11.07028627]\n"
     ]
    }
   ],
   "source": [
    "ypred = olsres.predict(X)\n",
    "print(ypred)"
   ]
  },
  {
   "cell_type": "markdown",
   "metadata": {},
   "source": [
    "## Create a new sample of explanatory variables Xnew, predict and plot"
   ]
  },
  {
   "cell_type": "code",
   "execution_count": 6,
   "metadata": {
    "execution": {
     "iopub.execute_input": "2023-08-31T18:14:02.940651Z",
     "iopub.status.busy": "2023-08-31T18:14:02.937815Z",
     "iopub.status.idle": "2023-08-31T18:14:02.952259Z",
     "shell.execute_reply": "2023-08-31T18:14:02.951125Z"
    }
   },
   "outputs": [
    {
     "name": "stdout",
     "output_type": "stream",
     "text": [
      "[11.07252112 10.9329115  10.67274093 10.34051186 10.0000706   9.71497547\n",
      "  9.53293557  9.47412986  9.5262667   9.64759325]\n"
     ]
    }
   ],
   "source": [
    "x1n = np.linspace(20.5, 25, 10)\n",
    "Xnew = np.column_stack((x1n, np.sin(x1n), (x1n - 5) ** 2))\n",
    "Xnew = sm.add_constant(Xnew)\n",
    "ynewpred = olsres.predict(Xnew)  # predict out of sample\n",
    "print(ynewpred)"
   ]
  },
  {
   "cell_type": "markdown",
   "metadata": {},
   "source": [
    "## Plot comparison"
   ]
  },
  {
   "cell_type": "code",
   "execution_count": 7,
   "metadata": {
    "execution": {
     "iopub.execute_input": "2023-08-31T18:14:02.957526Z",
     "iopub.status.busy": "2023-08-31T18:14:02.956238Z",
     "iopub.status.idle": "2023-08-31T18:14:03.532627Z",
     "shell.execute_reply": "2023-08-31T18:14:03.531576Z"
    }
   },
   "outputs": [
    {
     "data": {
      "text/plain": [
       "<matplotlib.legend.Legend at 0x7fe0b593bb20>"
      ]
     },
     "execution_count": 7,
     "metadata": {},
     "output_type": "execute_result"
    },
    {
     "data": {
      "image/png": "[encoded data removed]",
      "text/plain": [
       "<Figure size 1600x800 with 1 Axes>"
      ]
     },
     "metadata": {},
     "output_type": "display_data"
    }
   ],
   "source": [
    "import matplotlib.pyplot as plt\n",
    "\n",
    "fig, ax = plt.subplots()\n",
    "ax.plot(x1, y, \"o\", label=\"Data\")\n",
    "ax.plot(x1, y_true, \"b-\", label=\"True\")\n",
    "ax.plot(np.hstack((x1, x1n)), np.hstack((ypred, ynewpred)), \"r\", label=\"OLS prediction\")\n",
    "ax.legend(loc=\"best\")"
   ]
  },
  {
   "cell_type": "markdown",
   "metadata": {},
   "source": [
    "## Predicting with Formulas"
   ]
  },
  {
   "cell_type": "markdown",
   "metadata": {},
   "source": [
    "Using formulas can make both estimation and prediction a lot easier"
   ]
  },
  {
   "cell_type": "code",
   "execution_count": 8,
   "metadata": {
    "execution": {
     "iopub.execute_input": "2023-08-31T18:14:03.537269Z",
     "iopub.status.busy": "2023-08-31T18:14:03.536966Z",
     "iopub.status.idle": "2023-08-31T18:14:03.554404Z",
     "shell.execute_reply": "2023-08-31T18:14:03.553470Z"
    }
   },
   "outputs": [],
   "source": [
    "from statsmodels.formula.api import ols\n",
    "\n",
    "data = {\"x1\": x1, \"y\": y}\n",
    "\n",
    "res = ols(\"y ~ x1 + np.sin(x1) + I((x1-5)**2)\", data=data).fit()"
   ]
  },
  {
   "cell_type": "markdown",
   "metadata": {},
   "source": [
    "We use the `I` to indicate use of the Identity transform. Ie., we do not want any expansion magic from using `**2`"
   ]
  },
  {
   "cell_type": "code",
   "execution_count": 9,
   "metadata": {
    "execution": {
     "iopub.execute_input": "2023-08-31T18:14:03.559454Z",
     "iopub.status.busy": "2023-08-31T18:14:03.559092Z",
     "iopub.status.idle": "2023-08-31T18:14:03.572486Z",
     "shell.execute_reply": "2023-08-31T18:14:03.571517Z"
    }
   },
   "outputs": [
    {
     "data": {
      "text/plain": [
       "Intercept           5.077439\n",
       "x1                  0.486106\n",
       "np.sin(x1)          0.542722\n",
       "I((x1 - 5) ** 2)   -0.018777\n",
       "dtype: float64"
      ]
     },
     "execution_count": 9,
     "metadata": {},
     "output_type": "execute_result"
    }
   ],
   "source": [
    "res.params"
   ]
  },
  {
   "cell_type": "markdown",
   "metadata": {},
   "source": [
    "Now we only have to pass the single variable and we get the transformed right-hand side variables automatically"
   ]
  },
  {
   "cell_type": "code",
   "execution_count": 10,
   "metadata": {
    "execution": {
     "iopub.execute_input": "2023-08-31T18:14:03.577242Z",
     "iopub.status.busy": "2023-08-31T18:14:03.576928Z",
     "iopub.status.idle": "2023-08-31T18:14:03.592918Z",
     "shell.execute_reply": "2023-08-31T18:14:03.591967Z"
    }
   },
   "outputs": [
    {
     "data": {
      "text/plain": [
       "0    11.072521\n",
       "1    10.932911\n",
       "2    10.672741\n",
       "3    10.340512\n",
       "4    10.000071\n",
       "5     9.714975\n",
       "6     9.532936\n",
       "7     9.474130\n",
       "8     9.526267\n",
       "9     9.647593\n",
       "dtype: float64"
      ]
     },
     "execution_count": 10,
     "metadata": {},
     "output_type": "execute_result"
    }
   ],
   "source": [
    "res.predict(exog=dict(x1=x1n))"
   ]
  }
 ],
 "metadata": {
  "kernelspec": {
   "display_name": "Python 3",
   "language": "python",
   "name": "python3"
  },
  "language_info": {
   "codemirror_mode": {
    "name": "ipython",
    "version": 3
   },
   "file_extension": ".py",
   "mimetype": "text/x-python",
   "name": "python",
   "nbconvert_exporter": "python",
   "pygments_lexer": "ipython3",
   "version": "3.10.12"
  }
 },
 "nbformat": 4,
 "nbformat_minor": 4
}
