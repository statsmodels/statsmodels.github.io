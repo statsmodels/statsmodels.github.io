{
 "cells": [
  {
   "cell_type": "markdown",
   "metadata": {},
   "source": [
    "# Prediction (out of sample)"
   ]
  },
  {
   "cell_type": "code",
   "execution_count": 1,
   "metadata": {
    "execution": {
     "iopub.execute_input": "2025-01-07T10:29:54.070209Z",
     "iopub.status.busy": "2025-01-07T10:29:54.069988Z",
     "iopub.status.idle": "2025-01-07T10:29:55.762332Z",
     "shell.execute_reply": "2025-01-07T10:29:55.761669Z"
    }
   },
   "outputs": [],
   "source": [
    "%matplotlib inline"
   ]
  },
  {
   "cell_type": "code",
   "execution_count": 2,
   "metadata": {
    "execution": {
     "iopub.execute_input": "2025-01-07T10:29:55.764825Z",
     "iopub.status.busy": "2025-01-07T10:29:55.764523Z",
     "iopub.status.idle": "2025-01-07T10:29:58.993123Z",
     "shell.execute_reply": "2025-01-07T10:29:58.992443Z"
    }
   },
   "outputs": [],
   "source": [
    "import numpy as np\n",
    "import matplotlib.pyplot as plt\n",
    "\n",
    "import statsmodels.api as sm\n",
    "\n",
    "plt.rc(\"figure\", figsize=(16, 8))\n",
    "plt.rc(\"font\", size=14)"
   ]
  },
  {
   "cell_type": "markdown",
   "metadata": {},
   "source": [
    "## Artificial data"
   ]
  },
  {
   "cell_type": "code",
   "execution_count": 3,
   "metadata": {
    "execution": {
     "iopub.execute_input": "2025-01-07T10:29:58.995801Z",
     "iopub.status.busy": "2025-01-07T10:29:58.995448Z",
     "iopub.status.idle": "2025-01-07T10:29:59.006302Z",
     "shell.execute_reply": "2025-01-07T10:29:59.005671Z"
    }
   },
   "outputs": [],
   "source": [
    "nsample = 50\n",
    "sig = 0.25\n",
    "x1 = np.linspace(0, 20, nsample)\n",
    "X = np.column_stack((x1, np.sin(x1), (x1 - 5) ** 2))\n",
    "X = sm.add_constant(X)\n",
    "beta = [5.0, 0.5, 0.5, -0.02]\n",
    "y_true = np.dot(X, beta)\n",
    "y = y_true + sig * np.random.normal(size=nsample)"
   ]
  },
  {
   "cell_type": "markdown",
   "metadata": {},
   "source": [
    "## Estimation "
   ]
  },
  {
   "cell_type": "code",
   "execution_count": 4,
   "metadata": {
    "execution": {
     "iopub.execute_input": "2025-01-07T10:29:59.012445Z",
     "iopub.status.busy": "2025-01-07T10:29:59.012230Z",
     "iopub.status.idle": "2025-01-07T10:29:59.049281Z",
     "shell.execute_reply": "2025-01-07T10:29:59.048667Z"
    }
   },
   "outputs": [
    {
     "name": "stdout",
     "output_type": "stream",
     "text": [
      "                            OLS Regression Results                            \n",
      "==============================================================================\n",
      "Dep. Variable:                      y   R-squared:                       0.989\n",
      "Model:                            OLS   Adj. R-squared:                  0.988\n",
      "Method:                 Least Squares   F-statistic:                     1331.\n",
      "Date:                Tue, 07 Jan 2025   Prob (F-statistic):           1.08e-44\n",
      "Time:                        10:29:59   Log-Likelihood:                 9.1212\n",
      "No. Observations:                  50   AIC:                            -10.24\n",
      "Df Residuals:                      46   BIC:                            -2.594\n",
      "Df Model:                           3                                         \n",
      "Covariance Type:            nonrobust                                         \n",
      "==============================================================================\n",
      "                 coef    std err          t      P>|t|      [0.025      0.975]\n",
      "------------------------------------------------------------------------------\n",
      "const          4.9804      0.072     69.513      0.000       4.836       5.125\n",
      "x1             0.5071      0.011     45.892      0.000       0.485       0.529\n",
      "x2             0.4549      0.043     10.472      0.000       0.367       0.542\n",
      "x3            -0.0201      0.001    -20.708      0.000      -0.022      -0.018\n",
      "==============================================================================\n",
      "Omnibus:                        2.214   Durbin-Watson:                   1.995\n",
      "Prob(Omnibus):                  0.331   Jarque-Bera (JB):                1.381\n",
      "Skew:                          -0.098   Prob(JB):                        0.501\n",
      "Kurtosis:                       2.210   Cond. No.                         221.\n",
      "==============================================================================\n",
      "\n",
      "Notes:\n",
      "[1] Standard Errors assume that the covariance matrix of the errors is correctly specified.\n"
     ]
    }
   ],
   "source": [
    "olsmod = sm.OLS(y, X)\n",
    "olsres = olsmod.fit()\n",
    "print(olsres.summary())"
   ]
  },
  {
   "cell_type": "markdown",
   "metadata": {},
   "source": [
    "## In-sample prediction"
   ]
  },
  {
   "cell_type": "code",
   "execution_count": 5,
   "metadata": {
    "execution": {
     "iopub.execute_input": "2025-01-07T10:29:59.051475Z",
     "iopub.status.busy": "2025-01-07T10:29:59.051257Z",
     "iopub.status.idle": "2025-01-07T10:29:59.061855Z",
     "shell.execute_reply": "2025-01-07T10:29:59.059435Z"
    }
   },
   "outputs": [
    {
     "name": "stdout",
     "output_type": "stream",
     "text": [
      "[ 4.47813829  4.94432378  5.37415078  5.74282869  6.03451369  6.24491187\n",
      "  6.3819847   6.46464095  6.51963007  6.57714732  6.66587278  6.80825926\n",
      "  7.01684342  7.292186    7.62277969  7.98693975  8.35636678  8.70079619\n",
      "  8.99297061  9.2131182   9.35220109  9.4134003   9.41159309  9.37090867\n",
      "  9.32076384  9.29102992  9.30712491  9.38583747  9.53256852  9.74044392\n",
      "  9.99144387 10.25936348 10.51411823 10.72668668 10.87387868 10.94214543\n",
      " 10.92980548 10.84732103 10.71557898 10.56245931 10.41825446 10.31069235\n",
      " 10.26038078 10.27742165 10.3597512  10.49347911 10.65517062 10.81569682\n",
      " 10.94502043 11.01713084]\n"
     ]
    }
   ],
   "source": [
    "ypred = olsres.predict(X)\n",
    "print(ypred)"
   ]
  },
  {
   "cell_type": "markdown",
   "metadata": {},
   "source": [
    "## Create a new sample of explanatory variables Xnew, predict and plot"
   ]
  },
  {
   "cell_type": "code",
   "execution_count": 6,
   "metadata": {
    "execution": {
     "iopub.execute_input": "2025-01-07T10:29:59.064777Z",
     "iopub.status.busy": "2025-01-07T10:29:59.064537Z",
     "iopub.status.idle": "2025-01-07T10:29:59.077851Z",
     "shell.execute_reply": "2025-01-07T10:29:59.075378Z"
    }
   },
   "outputs": [
    {
     "name": "stdout",
     "output_type": "stream",
     "text": [
      "[11.00245152 10.86670922 10.62774264 10.32620394 10.01560568  9.74921904\n",
      "  9.56703122  9.48595516  9.49568865  9.5612367 ]\n"
     ]
    }
   ],
   "source": [
    "x1n = np.linspace(20.5, 25, 10)\n",
    "Xnew = np.column_stack((x1n, np.sin(x1n), (x1n - 5) ** 2))\n",
    "Xnew = sm.add_constant(Xnew)\n",
    "ynewpred = olsres.predict(Xnew)  # predict out of sample\n",
    "print(ynewpred)"
   ]
  },
  {
   "cell_type": "markdown",
   "metadata": {},
   "source": [
    "## Plot comparison"
   ]
  },
  {
   "cell_type": "code",
   "execution_count": 7,
   "metadata": {
    "execution": {
     "iopub.execute_input": "2025-01-07T10:29:59.082485Z",
     "iopub.status.busy": "2025-01-07T10:29:59.082266Z",
     "iopub.status.idle": "2025-01-07T10:29:59.765301Z",
     "shell.execute_reply": "2025-01-07T10:29:59.764660Z"
    }
   },
   "outputs": [
    {
     "data": {
      "text/plain": [
       "<matplotlib.legend.Legend at 0x7f779790bcd0>"
      ]
     },
     "execution_count": 7,
     "metadata": {},
     "output_type": "execute_result"
    },
    {
     "data": {
      "image/png": "[encoded data removed]",
      "text/plain": [
       "<Figure size 1600x800 with 1 Axes>"
      ]
     },
     "metadata": {},
     "output_type": "display_data"
    }
   ],
   "source": [
    "import matplotlib.pyplot as plt\n",
    "\n",
    "fig, ax = plt.subplots()\n",
    "ax.plot(x1, y, \"o\", label=\"Data\")\n",
    "ax.plot(x1, y_true, \"b-\", label=\"True\")\n",
    "ax.plot(np.hstack((x1, x1n)), np.hstack((ypred, ynewpred)), \"r\", label=\"OLS prediction\")\n",
    "ax.legend(loc=\"best\")"
   ]
  },
  {
   "cell_type": "markdown",
   "metadata": {},
   "source": [
    "## Predicting with Formulas"
   ]
  },
  {
   "cell_type": "markdown",
   "metadata": {},
   "source": [
    "Using formulas can make both estimation and prediction a lot easier"
   ]
  },
  {
   "cell_type": "code",
   "execution_count": 8,
   "metadata": {
    "execution": {
     "iopub.execute_input": "2025-01-07T10:29:59.778418Z",
     "iopub.status.busy": "2025-01-07T10:29:59.778168Z",
     "iopub.status.idle": "2025-01-07T10:29:59.806383Z",
     "shell.execute_reply": "2025-01-07T10:29:59.805659Z"
    }
   },
   "outputs": [],
   "source": [
    "from statsmodels.formula.api import ols\n",
    "\n",
    "data = {\"x1\": x1, \"y\": y}\n",
    "\n",
    "res = ols(\"y ~ x1 + np.sin(x1) + I((x1-5)**2)\", data=data).fit()"
   ]
  },
  {
   "cell_type": "markdown",
   "metadata": {},
   "source": [
    "We use the `I` to indicate use of the Identity transform. Ie., we do not want any expansion magic from using `**2`"
   ]
  },
  {
   "cell_type": "code",
   "execution_count": 9,
   "metadata": {
    "execution": {
     "iopub.execute_input": "2025-01-07T10:29:59.813238Z",
     "iopub.status.busy": "2025-01-07T10:29:59.813018Z",
     "iopub.status.idle": "2025-01-07T10:29:59.829675Z",
     "shell.execute_reply": "2025-01-07T10:29:59.826663Z"
    }
   },
   "outputs": [
    {
     "data": {
      "text/plain": [
       "Intercept           4.980406\n",
       "x1                  0.507092\n",
       "np.sin(x1)          0.454881\n",
       "I((x1 - 5) ** 2)   -0.020091\n",
       "dtype: float64"
      ]
     },
     "execution_count": 9,
     "metadata": {},
     "output_type": "execute_result"
    }
   ],
   "source": [
    "res.params"
   ]
  },
  {
   "cell_type": "markdown",
   "metadata": {},
   "source": [
    "Now we only have to pass the single variable and we get the transformed right-hand side variables automatically"
   ]
  },
  {
   "cell_type": "code",
   "execution_count": 10,
   "metadata": {
    "execution": {
     "iopub.execute_input": "2025-01-07T10:29:59.839248Z",
     "iopub.status.busy": "2025-01-07T10:29:59.839028Z",
     "iopub.status.idle": "2025-01-07T10:29:59.857404Z",
     "shell.execute_reply": "2025-01-07T10:29:59.856818Z"
    }
   },
   "outputs": [
    {
     "data": {
      "text/plain": [
       "0    11.002452\n",
       "1    10.866709\n",
       "2    10.627743\n",
       "3    10.326204\n",
       "4    10.015606\n",
       "5     9.749219\n",
       "6     9.567031\n",
       "7     9.485955\n",
       "8     9.495689\n",
       "9     9.561237\n",
       "dtype: float64"
      ]
     },
     "execution_count": 10,
     "metadata": {},
     "output_type": "execute_result"
    }
   ],
   "source": [
    "res.predict(exog=dict(x1=x1n))"
   ]
  }
 ],
 "metadata": {
  "kernelspec": {
   "display_name": "Python 3",
   "language": "python",
   "name": "python3"
  },
  "language_info": {
   "codemirror_mode": {
    "name": "ipython",
    "version": 3
   },
   "file_extension": ".py",
   "mimetype": "text/x-python",
   "name": "python",
   "nbconvert_exporter": "python",
   "pygments_lexer": "ipython3",
   "version": "3.10.15"
  }
 },
 "nbformat": 4,
 "nbformat_minor": 4
}
