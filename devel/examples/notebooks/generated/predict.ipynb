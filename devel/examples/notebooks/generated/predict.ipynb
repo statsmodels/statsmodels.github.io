{
 "cells": [
  {
   "cell_type": "markdown",
   "metadata": {},
   "source": [
    "# Prediction (out of sample)"
   ]
  },
  {
   "cell_type": "code",
   "execution_count": 1,
   "metadata": {
    "execution": {
     "iopub.execute_input": "2023-06-29T11:02:29.704081Z",
     "iopub.status.busy": "2023-06-29T11:02:29.702811Z",
     "iopub.status.idle": "2023-06-29T11:02:30.213217Z",
     "shell.execute_reply": "2023-06-29T11:02:30.212526Z"
    }
   },
   "outputs": [],
   "source": [
    "%matplotlib inline"
   ]
  },
  {
   "cell_type": "code",
   "execution_count": 2,
   "metadata": {
    "execution": {
     "iopub.execute_input": "2023-06-29T11:02:30.218285Z",
     "iopub.status.busy": "2023-06-29T11:02:30.217010Z",
     "iopub.status.idle": "2023-06-29T11:02:30.934763Z",
     "shell.execute_reply": "2023-06-29T11:02:30.934066Z"
    }
   },
   "outputs": [],
   "source": [
    "import numpy as np\n",
    "import matplotlib.pyplot as plt\n",
    "\n",
    "import statsmodels.api as sm\n",
    "\n",
    "plt.rc(\"figure\", figsize=(16, 8))\n",
    "plt.rc(\"font\", size=14)"
   ]
  },
  {
   "cell_type": "markdown",
   "metadata": {},
   "source": [
    "## Artificial data"
   ]
  },
  {
   "cell_type": "code",
   "execution_count": 3,
   "metadata": {
    "execution": {
     "iopub.execute_input": "2023-06-29T11:02:30.939912Z",
     "iopub.status.busy": "2023-06-29T11:02:30.938620Z",
     "iopub.status.idle": "2023-06-29T11:02:30.945047Z",
     "shell.execute_reply": "2023-06-29T11:02:30.944473Z"
    }
   },
   "outputs": [],
   "source": [
    "nsample = 50\n",
    "sig = 0.25\n",
    "x1 = np.linspace(0, 20, nsample)\n",
    "X = np.column_stack((x1, np.sin(x1), (x1 - 5) ** 2))\n",
    "X = sm.add_constant(X)\n",
    "beta = [5.0, 0.5, 0.5, -0.02]\n",
    "y_true = np.dot(X, beta)\n",
    "y = y_true + sig * np.random.normal(size=nsample)"
   ]
  },
  {
   "cell_type": "markdown",
   "metadata": {},
   "source": [
    "## Estimation "
   ]
  },
  {
   "cell_type": "code",
   "execution_count": 4,
   "metadata": {
    "execution": {
     "iopub.execute_input": "2023-06-29T11:02:30.949405Z",
     "iopub.status.busy": "2023-06-29T11:02:30.948282Z",
     "iopub.status.idle": "2023-06-29T11:02:30.961677Z",
     "shell.execute_reply": "2023-06-29T11:02:30.961095Z"
    }
   },
   "outputs": [
    {
     "name": "stdout",
     "output_type": "stream",
     "text": [
      "                            OLS Regression Results                            \n",
      "==============================================================================\n",
      "Dep. Variable:                      y   R-squared:                       0.981\n",
      "Model:                            OLS   Adj. R-squared:                  0.980\n",
      "Method:                 Least Squares   F-statistic:                     782.6\n",
      "Date:                Thu, 29 Jun 2023   Prob (F-statistic):           1.82e-39\n",
      "Time:                        11:02:30   Log-Likelihood:                -4.1065\n",
      "No. Observations:                  50   AIC:                             16.21\n",
      "Df Residuals:                      46   BIC:                             23.86\n",
      "Df Model:                           3                                         \n",
      "Covariance Type:            nonrobust                                         \n",
      "==============================================================================\n",
      "                 coef    std err          t      P>|t|      [0.025      0.975]\n",
      "------------------------------------------------------------------------------\n",
      "const          4.9704      0.093     53.247      0.000       4.782       5.158\n",
      "x1             0.5048      0.014     35.062      0.000       0.476       0.534\n",
      "x2             0.5516      0.057      9.747      0.000       0.438       0.666\n",
      "x3            -0.0199      0.001    -15.722      0.000      -0.022      -0.017\n",
      "==============================================================================\n",
      "Omnibus:                        1.066   Durbin-Watson:                   2.172\n",
      "Prob(Omnibus):                  0.587   Jarque-Bera (JB):                0.615\n",
      "Skew:                           0.267   Prob(JB):                        0.735\n",
      "Kurtosis:                       3.105   Cond. No.                         221.\n",
      "==============================================================================\n",
      "\n",
      "Notes:\n",
      "[1] Standard Errors assume that the covariance matrix of the errors is correctly specified.\n"
     ]
    }
   ],
   "source": [
    "olsmod = sm.OLS(y, X)\n",
    "olsres = olsmod.fit()\n",
    "print(olsres.summary())"
   ]
  },
  {
   "cell_type": "markdown",
   "metadata": {},
   "source": [
    "## In-sample prediction"
   ]
  },
  {
   "cell_type": "code",
   "execution_count": 5,
   "metadata": {
    "execution": {
     "iopub.execute_input": "2023-06-29T11:02:30.966044Z",
     "iopub.status.busy": "2023-06-29T11:02:30.964932Z",
     "iopub.status.idle": "2023-06-29T11:02:30.971395Z",
     "shell.execute_reply": "2023-06-29T11:02:30.970839Z"
    }
   },
   "outputs": [
    {
     "name": "stdout",
     "output_type": "stream",
     "text": [
      "[ 4.47356893  4.97634775  5.43653152  5.82405681  6.11970992  6.31828364\n",
      "  6.42943279  6.47608794  6.49068802  6.50985065  6.568356    6.69343249\n",
      "  6.90028325  7.18958828  7.54739273  7.94739965  8.35529048  8.73436354\n",
      "  9.05156395  9.28291451  9.41745504  9.45904315  9.42572041  9.34674818\n",
      "  9.25780007  9.19510085  9.18947481  9.26128146  9.41707046  9.64850559\n",
      "  9.93373433 10.24097816 10.53375371 10.77686688 10.94219507 11.01330773\n",
      " 10.98816578 10.87945667 10.71250983 10.52113517 10.34206816 10.20893429\n",
      " 10.14672457 10.16768947 10.26932631 10.43479035 10.63566241 10.836618\n",
      " 11.00123108 11.09795873]\n"
     ]
    }
   ],
   "source": [
    "ypred = olsres.predict(X)\n",
    "print(ypred)"
   ]
  },
  {
   "cell_type": "markdown",
   "metadata": {},
   "source": [
    "## Create a new sample of explanatory variables Xnew, predict and plot"
   ]
  },
  {
   "cell_type": "code",
   "execution_count": 6,
   "metadata": {
    "execution": {
     "iopub.execute_input": "2023-06-29T11:02:30.975588Z",
     "iopub.status.busy": "2023-06-29T11:02:30.974495Z",
     "iopub.status.idle": "2023-06-29T11:02:30.981498Z",
     "shell.execute_reply": "2023-06-29T11:02:30.980939Z"
    }
   },
   "outputs": [
    {
     "name": "stdout",
     "output_type": "stream",
     "text": [
      "[11.09356458 10.94460399 10.67270985 10.32718084  9.97291131  9.67450297\n",
      "  9.48044807  9.41125684  9.45443585  9.56754687]\n"
     ]
    }
   ],
   "source": [
    "x1n = np.linspace(20.5, 25, 10)\n",
    "Xnew = np.column_stack((x1n, np.sin(x1n), (x1n - 5) ** 2))\n",
    "Xnew = sm.add_constant(Xnew)\n",
    "ynewpred = olsres.predict(Xnew)  # predict out of sample\n",
    "print(ynewpred)"
   ]
  },
  {
   "cell_type": "markdown",
   "metadata": {},
   "source": [
    "## Plot comparison"
   ]
  },
  {
   "cell_type": "code",
   "execution_count": 7,
   "metadata": {
    "execution": {
     "iopub.execute_input": "2023-06-29T11:02:30.985807Z",
     "iopub.status.busy": "2023-06-29T11:02:30.984706Z",
     "iopub.status.idle": "2023-06-29T11:02:31.271141Z",
     "shell.execute_reply": "2023-06-29T11:02:31.270461Z"
    }
   },
   "outputs": [
    {
     "data": {
      "text/plain": [
       "<matplotlib.legend.Legend at 0x7fccd6857ac0>"
      ]
     },
     "execution_count": 7,
     "metadata": {},
     "output_type": "execute_result"
    },
    {
     "data": {
      "image/png": "[encoded data removed]",
      "text/plain": [
       "<Figure size 1600x800 with 1 Axes>"
      ]
     },
     "metadata": {},
     "output_type": "display_data"
    }
   ],
   "source": [
    "import matplotlib.pyplot as plt\n",
    "\n",
    "fig, ax = plt.subplots()\n",
    "ax.plot(x1, y, \"o\", label=\"Data\")\n",
    "ax.plot(x1, y_true, \"b-\", label=\"True\")\n",
    "ax.plot(np.hstack((x1, x1n)), np.hstack((ypred, ynewpred)), \"r\", label=\"OLS prediction\")\n",
    "ax.legend(loc=\"best\")"
   ]
  },
  {
   "cell_type": "markdown",
   "metadata": {},
   "source": [
    "## Predicting with Formulas"
   ]
  },
  {
   "cell_type": "markdown",
   "metadata": {},
   "source": [
    "Using formulas can make both estimation and prediction a lot easier"
   ]
  },
  {
   "cell_type": "code",
   "execution_count": 8,
   "metadata": {
    "execution": {
     "iopub.execute_input": "2023-06-29T11:02:31.274861Z",
     "iopub.status.busy": "2023-06-29T11:02:31.274603Z",
     "iopub.status.idle": "2023-06-29T11:02:31.283257Z",
     "shell.execute_reply": "2023-06-29T11:02:31.282659Z"
    }
   },
   "outputs": [],
   "source": [
    "from statsmodels.formula.api import ols\n",
    "\n",
    "data = {\"x1\": x1, \"y\": y}\n",
    "\n",
    "res = ols(\"y ~ x1 + np.sin(x1) + I((x1-5)**2)\", data=data).fit()"
   ]
  },
  {
   "cell_type": "markdown",
   "metadata": {},
   "source": [
    "We use the `I` to indicate use of the Identity transform. Ie., we do not want any expansion magic from using `**2`"
   ]
  },
  {
   "cell_type": "code",
   "execution_count": 9,
   "metadata": {
    "execution": {
     "iopub.execute_input": "2023-06-29T11:02:31.287643Z",
     "iopub.status.busy": "2023-06-29T11:02:31.286522Z",
     "iopub.status.idle": "2023-06-29T11:02:31.294985Z",
     "shell.execute_reply": "2023-06-29T11:02:31.294400Z"
    }
   },
   "outputs": [
    {
     "data": {
      "text/plain": [
       "Intercept           4.970367\n",
       "x1                  0.504758\n",
       "np.sin(x1)          0.551632\n",
       "I((x1 - 5) ** 2)   -0.019872\n",
       "dtype: float64"
      ]
     },
     "execution_count": 9,
     "metadata": {},
     "output_type": "execute_result"
    }
   ],
   "source": [
    "res.params"
   ]
  },
  {
   "cell_type": "markdown",
   "metadata": {},
   "source": [
    "Now we only have to pass the single variable and we get the transformed right-hand side variables automatically"
   ]
  },
  {
   "cell_type": "code",
   "execution_count": 10,
   "metadata": {
    "execution": {
     "iopub.execute_input": "2023-06-29T11:02:31.299217Z",
     "iopub.status.busy": "2023-06-29T11:02:31.298093Z",
     "iopub.status.idle": "2023-06-29T11:02:31.307299Z",
     "shell.execute_reply": "2023-06-29T11:02:31.306716Z"
    }
   },
   "outputs": [
    {
     "data": {
      "text/plain": [
       "0    11.093565\n",
       "1    10.944604\n",
       "2    10.672710\n",
       "3    10.327181\n",
       "4     9.972911\n",
       "5     9.674503\n",
       "6     9.480448\n",
       "7     9.411257\n",
       "8     9.454436\n",
       "9     9.567547\n",
       "dtype: float64"
      ]
     },
     "execution_count": 10,
     "metadata": {},
     "output_type": "execute_result"
    }
   ],
   "source": [
    "res.predict(exog=dict(x1=x1n))"
   ]
  }
 ],
 "metadata": {
  "kernelspec": {
   "display_name": "Python 3",
   "language": "python",
   "name": "python3"
  },
  "language_info": {
   "codemirror_mode": {
    "name": "ipython",
    "version": 3
   },
   "file_extension": ".py",
   "mimetype": "text/x-python",
   "name": "python",
   "nbconvert_exporter": "python",
   "pygments_lexer": "ipython3",
   "version": "3.10.12"
  }
 },
 "nbformat": 4,
 "nbformat_minor": 4
}
