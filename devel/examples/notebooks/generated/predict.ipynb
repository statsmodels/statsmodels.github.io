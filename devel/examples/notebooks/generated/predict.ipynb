{
 "cells": [
  {
   "cell_type": "markdown",
   "metadata": {},
   "source": [
    "# Prediction (out of sample)"
   ]
  },
  {
   "cell_type": "code",
   "execution_count": 1,
   "metadata": {
    "execution": {
     "iopub.execute_input": "2024-12-11T17:54:39.811534Z",
     "iopub.status.busy": "2024-12-11T17:54:39.811319Z",
     "iopub.status.idle": "2024-12-11T17:54:40.434981Z",
     "shell.execute_reply": "2024-12-11T17:54:40.434062Z"
    }
   },
   "outputs": [],
   "source": [
    "%matplotlib inline"
   ]
  },
  {
   "cell_type": "code",
   "execution_count": 2,
   "metadata": {
    "execution": {
     "iopub.execute_input": "2024-12-11T17:54:40.439596Z",
     "iopub.status.busy": "2024-12-11T17:54:40.438939Z",
     "iopub.status.idle": "2024-12-11T17:54:41.682892Z",
     "shell.execute_reply": "2024-12-11T17:54:41.681905Z"
    }
   },
   "outputs": [],
   "source": [
    "import numpy as np\n",
    "import matplotlib.pyplot as plt\n",
    "\n",
    "import statsmodels.api as sm\n",
    "\n",
    "plt.rc(\"figure\", figsize=(16, 8))\n",
    "plt.rc(\"font\", size=14)"
   ]
  },
  {
   "cell_type": "markdown",
   "metadata": {},
   "source": [
    "## Artificial data"
   ]
  },
  {
   "cell_type": "code",
   "execution_count": 3,
   "metadata": {
    "execution": {
     "iopub.execute_input": "2024-12-11T17:54:41.687765Z",
     "iopub.status.busy": "2024-12-11T17:54:41.686552Z",
     "iopub.status.idle": "2024-12-11T17:54:41.693553Z",
     "shell.execute_reply": "2024-12-11T17:54:41.692836Z"
    }
   },
   "outputs": [],
   "source": [
    "nsample = 50\n",
    "sig = 0.25\n",
    "x1 = np.linspace(0, 20, nsample)\n",
    "X = np.column_stack((x1, np.sin(x1), (x1 - 5) ** 2))\n",
    "X = sm.add_constant(X)\n",
    "beta = [5.0, 0.5, 0.5, -0.02]\n",
    "y_true = np.dot(X, beta)\n",
    "y = y_true + sig * np.random.normal(size=nsample)"
   ]
  },
  {
   "cell_type": "markdown",
   "metadata": {},
   "source": [
    "## Estimation "
   ]
  },
  {
   "cell_type": "code",
   "execution_count": 4,
   "metadata": {
    "execution": {
     "iopub.execute_input": "2024-12-11T17:54:41.697849Z",
     "iopub.status.busy": "2024-12-11T17:54:41.696781Z",
     "iopub.status.idle": "2024-12-11T17:54:41.714325Z",
     "shell.execute_reply": "2024-12-11T17:54:41.713555Z"
    }
   },
   "outputs": [
    {
     "name": "stdout",
     "output_type": "stream",
     "text": [
      "                            OLS Regression Results                            \n",
      "==============================================================================\n",
      "Dep. Variable:                      y   R-squared:                       0.985\n",
      "Model:                            OLS   Adj. R-squared:                  0.984\n",
      "Method:                 Least Squares   F-statistic:                     984.1\n",
      "Date:                Wed, 11 Dec 2024   Prob (F-statistic):           1.03e-41\n",
      "Time:                        17:54:41   Log-Likelihood:                 1.1929\n",
      "No. Observations:                  50   AIC:                             5.614\n",
      "Df Residuals:                      46   BIC:                             13.26\n",
      "Df Model:                           3                                         \n",
      "Covariance Type:            nonrobust                                         \n",
      "==============================================================================\n",
      "                 coef    std err          t      P>|t|      [0.025      0.975]\n",
      "------------------------------------------------------------------------------\n",
      "const          4.8771      0.084     58.090      0.000       4.708       5.046\n",
      "x1             0.5181      0.013     40.009      0.000       0.492       0.544\n",
      "x2             0.5131      0.051     10.081      0.000       0.411       0.616\n",
      "x3            -0.0211      0.001    -18.570      0.000      -0.023      -0.019\n",
      "==============================================================================\n",
      "Omnibus:                        2.499   Durbin-Watson:                   1.675\n",
      "Prob(Omnibus):                  0.287   Jarque-Bera (JB):                2.255\n",
      "Skew:                          -0.511   Prob(JB):                        0.324\n",
      "Kurtosis:                       2.803   Cond. No.                         221.\n",
      "==============================================================================\n",
      "\n",
      "Notes:\n",
      "[1] Standard Errors assume that the covariance matrix of the errors is correctly specified.\n"
     ]
    }
   ],
   "source": [
    "olsmod = sm.OLS(y, X)\n",
    "olsres = olsmod.fit()\n",
    "print(olsres.summary())"
   ]
  },
  {
   "cell_type": "markdown",
   "metadata": {},
   "source": [
    "## In-sample prediction"
   ]
  },
  {
   "cell_type": "code",
   "execution_count": 5,
   "metadata": {
    "execution": {
     "iopub.execute_input": "2024-12-11T17:54:41.718396Z",
     "iopub.status.busy": "2024-12-11T17:54:41.717342Z",
     "iopub.status.idle": "2024-12-11T17:54:41.724537Z",
     "shell.execute_reply": "2024-12-11T17:54:41.723717Z"
    }
   },
   "outputs": [
    {
     "name": "stdout",
     "output_type": "stream",
     "text": [
      "[ 4.34928746  4.84706479  5.3043449   5.69316281  5.99564599  6.20695068\n",
      "  6.3360578   6.40429733  6.44184389  6.48275914  6.55939554  6.69708093\n",
      "  6.90995724  7.19865699  7.5501994   7.94012311  8.33650503  8.70520532\n",
      "  9.0154764   9.24501468  9.38362506  9.43489585  9.41560931  9.3529843\n",
      "  9.28020437  9.23096572  9.23394107  9.3080688   9.45944141  9.68030453\n",
      "  9.95033099 10.23996048 10.51525622 10.7434807  10.89847434 10.96495345\n",
      " 10.9410213  10.83847972 10.68089012 10.49970241 10.32908787 10.2003249\n",
      " 10.13666005 10.14948874 10.23648294 10.38197373 10.55952561 10.73627981\n",
      " 10.87835288 10.95640364]\n"
     ]
    }
   ],
   "source": [
    "ypred = olsres.predict(X)\n",
    "print(ypred)"
   ]
  },
  {
   "cell_type": "markdown",
   "metadata": {},
   "source": [
    "## Create a new sample of explanatory variables Xnew, predict and plot"
   ]
  },
  {
   "cell_type": "code",
   "execution_count": 6,
   "metadata": {
    "execution": {
     "iopub.execute_input": "2024-12-11T17:54:41.728463Z",
     "iopub.status.busy": "2024-12-11T17:54:41.727417Z",
     "iopub.status.idle": "2024-12-11T17:54:41.735039Z",
     "shell.execute_reply": "2024-12-11T17:54:41.734341Z"
    }
   },
   "outputs": [
    {
     "name": "stdout",
     "output_type": "stream",
     "text": [
      "[10.93651493 10.78083713 10.50949311 10.16834042  9.81774371  9.51779535\n",
      "  9.31360278  9.22424457  9.23809936  9.31569117]\n"
     ]
    }
   ],
   "source": [
    "x1n = np.linspace(20.5, 25, 10)\n",
    "Xnew = np.column_stack((x1n, np.sin(x1n), (x1n - 5) ** 2))\n",
    "Xnew = sm.add_constant(Xnew)\n",
    "ynewpred = olsres.predict(Xnew)  # predict out of sample\n",
    "print(ynewpred)"
   ]
  },
  {
   "cell_type": "markdown",
   "metadata": {},
   "source": [
    "## Plot comparison"
   ]
  },
  {
   "cell_type": "code",
   "execution_count": 7,
   "metadata": {
    "execution": {
     "iopub.execute_input": "2024-12-11T17:54:41.739005Z",
     "iopub.status.busy": "2024-12-11T17:54:41.737961Z",
     "iopub.status.idle": "2024-12-11T17:54:41.997875Z",
     "shell.execute_reply": "2024-12-11T17:54:41.997079Z"
    }
   },
   "outputs": [
    {
     "data": {
      "text/plain": [
       "<matplotlib.legend.Legend at 0x7f6ec5e9e230>"
      ]
     },
     "execution_count": 7,
     "metadata": {},
     "output_type": "execute_result"
    },
    {
     "data": {
      "image/png": "[encoded data removed]",
      "text/plain": [
       "<Figure size 1600x800 with 1 Axes>"
      ]
     },
     "metadata": {},
     "output_type": "display_data"
    }
   ],
   "source": [
    "import matplotlib.pyplot as plt\n",
    "\n",
    "fig, ax = plt.subplots()\n",
    "ax.plot(x1, y, \"o\", label=\"Data\")\n",
    "ax.plot(x1, y_true, \"b-\", label=\"True\")\n",
    "ax.plot(np.hstack((x1, x1n)), np.hstack((ypred, ynewpred)), \"r\", label=\"OLS prediction\")\n",
    "ax.legend(loc=\"best\")"
   ]
  },
  {
   "cell_type": "markdown",
   "metadata": {},
   "source": [
    "## Predicting with Formulas"
   ]
  },
  {
   "cell_type": "markdown",
   "metadata": {},
   "source": [
    "Using formulas can make both estimation and prediction a lot easier"
   ]
  },
  {
   "cell_type": "code",
   "execution_count": 8,
   "metadata": {
    "execution": {
     "iopub.execute_input": "2024-12-11T17:54:42.001346Z",
     "iopub.status.busy": "2024-12-11T17:54:42.001062Z",
     "iopub.status.idle": "2024-12-11T17:54:42.011583Z",
     "shell.execute_reply": "2024-12-11T17:54:42.010813Z"
    }
   },
   "outputs": [],
   "source": [
    "from statsmodels.formula.api import ols\n",
    "\n",
    "data = {\"x1\": x1, \"y\": y}\n",
    "\n",
    "res = ols(\"y ~ x1 + np.sin(x1) + I((x1-5)**2)\", data=data).fit()"
   ]
  },
  {
   "cell_type": "markdown",
   "metadata": {},
   "source": [
    "We use the `I` to indicate use of the Identity transform. Ie., we do not want any expansion magic from using `**2`"
   ]
  },
  {
   "cell_type": "code",
   "execution_count": 9,
   "metadata": {
    "execution": {
     "iopub.execute_input": "2024-12-11T17:54:42.015396Z",
     "iopub.status.busy": "2024-12-11T17:54:42.014458Z",
     "iopub.status.idle": "2024-12-11T17:54:42.022869Z",
     "shell.execute_reply": "2024-12-11T17:54:42.022206Z"
    }
   },
   "outputs": [
    {
     "data": {
      "text/plain": [
       "Intercept           4.877089\n",
       "x1                  0.518054\n",
       "np.sin(x1)          0.513127\n",
       "I((x1 - 5) ** 2)   -0.021112\n",
       "dtype: float64"
      ]
     },
     "execution_count": 9,
     "metadata": {},
     "output_type": "execute_result"
    }
   ],
   "source": [
    "res.params"
   ]
  },
  {
   "cell_type": "markdown",
   "metadata": {},
   "source": [
    "Now we only have to pass the single variable and we get the transformed right-hand side variables automatically"
   ]
  },
  {
   "cell_type": "code",
   "execution_count": 10,
   "metadata": {
    "execution": {
     "iopub.execute_input": "2024-12-11T17:54:42.026834Z",
     "iopub.status.busy": "2024-12-11T17:54:42.025735Z",
     "iopub.status.idle": "2024-12-11T17:54:42.035144Z",
     "shell.execute_reply": "2024-12-11T17:54:42.034474Z"
    }
   },
   "outputs": [
    {
     "data": {
      "text/plain": [
       "0    10.936515\n",
       "1    10.780837\n",
       "2    10.509493\n",
       "3    10.168340\n",
       "4     9.817744\n",
       "5     9.517795\n",
       "6     9.313603\n",
       "7     9.224245\n",
       "8     9.238099\n",
       "9     9.315691\n",
       "dtype: float64"
      ]
     },
     "execution_count": 10,
     "metadata": {},
     "output_type": "execute_result"
    }
   ],
   "source": [
    "res.predict(exog=dict(x1=x1n))"
   ]
  }
 ],
 "metadata": {
  "kernelspec": {
   "display_name": "Python 3",
   "language": "python",
   "name": "python3"
  },
  "language_info": {
   "codemirror_mode": {
    "name": "ipython",
    "version": 3
   },
   "file_extension": ".py",
   "mimetype": "text/x-python",
   "name": "python",
   "nbconvert_exporter": "python",
   "pygments_lexer": "ipython3",
   "version": "3.10.15"
  }
 },
 "nbformat": 4,
 "nbformat_minor": 4
}
