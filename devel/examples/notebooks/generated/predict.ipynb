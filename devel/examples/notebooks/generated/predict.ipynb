{
 "cells": [
  {
   "cell_type": "markdown",
   "metadata": {},
   "source": [
    "# Prediction (out of sample)"
   ]
  },
  {
   "cell_type": "code",
   "execution_count": 1,
   "metadata": {
    "execution": {
     "iopub.execute_input": "2024-09-06T10:56:12.248219Z",
     "iopub.status.busy": "2024-09-06T10:56:12.247961Z",
     "iopub.status.idle": "2024-09-06T10:56:13.773724Z",
     "shell.execute_reply": "2024-09-06T10:56:13.773049Z"
    }
   },
   "outputs": [],
   "source": [
    "%matplotlib inline"
   ]
  },
  {
   "cell_type": "code",
   "execution_count": 2,
   "metadata": {
    "execution": {
     "iopub.execute_input": "2024-09-06T10:56:13.777358Z",
     "iopub.status.busy": "2024-09-06T10:56:13.777005Z",
     "iopub.status.idle": "2024-09-06T10:56:16.232425Z",
     "shell.execute_reply": "2024-09-06T10:56:16.226159Z"
    }
   },
   "outputs": [],
   "source": [
    "import numpy as np\n",
    "import matplotlib.pyplot as plt\n",
    "\n",
    "import statsmodels.api as sm\n",
    "\n",
    "plt.rc(\"figure\", figsize=(16, 8))\n",
    "plt.rc(\"font\", size=14)"
   ]
  },
  {
   "cell_type": "markdown",
   "metadata": {},
   "source": [
    "## Artificial data"
   ]
  },
  {
   "cell_type": "code",
   "execution_count": 3,
   "metadata": {
    "execution": {
     "iopub.execute_input": "2024-09-06T10:56:16.236382Z",
     "iopub.status.busy": "2024-09-06T10:56:16.235768Z",
     "iopub.status.idle": "2024-09-06T10:56:16.241486Z",
     "shell.execute_reply": "2024-09-06T10:56:16.240840Z"
    }
   },
   "outputs": [],
   "source": [
    "nsample = 50\n",
    "sig = 0.25\n",
    "x1 = np.linspace(0, 20, nsample)\n",
    "X = np.column_stack((x1, np.sin(x1), (x1 - 5) ** 2))\n",
    "X = sm.add_constant(X)\n",
    "beta = [5.0, 0.5, 0.5, -0.02]\n",
    "y_true = np.dot(X, beta)\n",
    "y = y_true + sig * np.random.normal(size=nsample)"
   ]
  },
  {
   "cell_type": "markdown",
   "metadata": {},
   "source": [
    "## Estimation "
   ]
  },
  {
   "cell_type": "code",
   "execution_count": 4,
   "metadata": {
    "execution": {
     "iopub.execute_input": "2024-09-06T10:56:16.244610Z",
     "iopub.status.busy": "2024-09-06T10:56:16.244089Z",
     "iopub.status.idle": "2024-09-06T10:56:16.280767Z",
     "shell.execute_reply": "2024-09-06T10:56:16.280142Z"
    }
   },
   "outputs": [
    {
     "name": "stdout",
     "output_type": "stream",
     "text": [
      "                            OLS Regression Results                            \n",
      "==============================================================================\n",
      "Dep. Variable:                      y   R-squared:                       0.982\n",
      "Model:                            OLS   Adj. R-squared:                  0.980\n",
      "Method:                 Least Squares   F-statistic:                     815.9\n",
      "Date:                Fri, 06 Sep 2024   Prob (F-statistic):           7.11e-40\n",
      "Time:                        10:56:16   Log-Likelihood:                -1.7697\n",
      "No. Observations:                  50   AIC:                             11.54\n",
      "Df Residuals:                      46   BIC:                             19.19\n",
      "Df Model:                           3                                         \n",
      "Covariance Type:            nonrobust                                         \n",
      "==============================================================================\n",
      "                 coef    std err          t      P>|t|      [0.025      0.975]\n",
      "------------------------------------------------------------------------------\n",
      "const          5.0701      0.089     56.914      0.000       4.891       5.249\n",
      "x1             0.4841      0.014     35.236      0.000       0.456       0.512\n",
      "x2             0.5115      0.054      9.472      0.000       0.403       0.620\n",
      "x3            -0.0184      0.001    -15.276      0.000      -0.021      -0.016\n",
      "==============================================================================\n",
      "Omnibus:                        1.083   Durbin-Watson:                   2.506\n",
      "Prob(Omnibus):                  0.582   Jarque-Bera (JB):                1.027\n",
      "Skew:                           0.181   Prob(JB):                        0.598\n",
      "Kurtosis:                       2.398   Cond. No.                         221.\n",
      "==============================================================================\n",
      "\n",
      "Notes:\n",
      "[1] Standard Errors assume that the covariance matrix of the errors is correctly specified.\n"
     ]
    }
   ],
   "source": [
    "olsmod = sm.OLS(y, X)\n",
    "olsres = olsmod.fit()\n",
    "print(olsres.summary())"
   ]
  },
  {
   "cell_type": "markdown",
   "metadata": {},
   "source": [
    "## In-sample prediction"
   ]
  },
  {
   "cell_type": "code",
   "execution_count": 5,
   "metadata": {
    "execution": {
     "iopub.execute_input": "2024-09-06T10:56:16.284849Z",
     "iopub.status.busy": "2024-09-06T10:56:16.283768Z",
     "iopub.status.idle": "2024-09-06T10:56:16.290214Z",
     "shell.execute_reply": "2024-09-06T10:56:16.289600Z"
    }
   },
   "outputs": [
    {
     "name": "stdout",
     "output_type": "stream",
     "text": [
      "[ 4.60940217  5.08218274  5.51546374  5.88136616  6.16207238  6.35275354\n",
      "  6.46236295  6.51216503  6.53224166  6.55654982  6.61734252  6.73986974\n",
      "  6.93822995  7.21305375  7.55140024  7.92888323  8.31367777  8.67174895\n",
      "  8.97244367  9.19352693  9.32483493  9.36994498  9.34558774  9.27889842\n",
      "  9.20295857  9.15136083  9.15268979  9.22582561  9.37684207  9.59800865\n",
      "  9.86906064 10.16052859 10.43858003 10.67057806 10.83044352 10.9029397\n",
      " 10.88617567 10.79191701 10.64365271 10.47273601 10.31323317 10.19632643\n",
      " 10.14519093 10.17118703 10.27199387 10.43199069 10.62482324 10.81773374\n",
      " 10.97694289 11.07319969]\n"
     ]
    }
   ],
   "source": [
    "ypred = olsres.predict(X)\n",
    "print(ypred)"
   ]
  },
  {
   "cell_type": "markdown",
   "metadata": {},
   "source": [
    "## Create a new sample of explanatory variables Xnew, predict and plot"
   ]
  },
  {
   "cell_type": "code",
   "execution_count": 6,
   "metadata": {
    "execution": {
     "iopub.execute_input": "2024-09-06T10:56:16.294230Z",
     "iopub.status.busy": "2024-09-06T10:56:16.293191Z",
     "iopub.status.idle": "2024-09-06T10:56:16.304709Z",
     "shell.execute_reply": "2024-09-06T10:56:16.304128Z"
    }
   },
   "outputs": [
    {
     "name": "stdout",
     "output_type": "stream",
     "text": [
      "[11.07715837 10.94705562 10.70295249 10.39056557 10.07007397  9.80138538\n",
      "  9.62946857  9.5733435   9.62142451  9.73435695]\n"
     ]
    }
   ],
   "source": [
    "x1n = np.linspace(20.5, 25, 10)\n",
    "Xnew = np.column_stack((x1n, np.sin(x1n), (x1n - 5) ** 2))\n",
    "Xnew = sm.add_constant(Xnew)\n",
    "ynewpred = olsres.predict(Xnew)  # predict out of sample\n",
    "print(ynewpred)"
   ]
  },
  {
   "cell_type": "markdown",
   "metadata": {},
   "source": [
    "## Plot comparison"
   ]
  },
  {
   "cell_type": "code",
   "execution_count": 7,
   "metadata": {
    "execution": {
     "iopub.execute_input": "2024-09-06T10:56:16.308711Z",
     "iopub.status.busy": "2024-09-06T10:56:16.307643Z",
     "iopub.status.idle": "2024-09-06T10:56:16.902810Z",
     "shell.execute_reply": "2024-09-06T10:56:16.902035Z"
    }
   },
   "outputs": [
    {
     "data": {
      "text/plain": [
       "<matplotlib.legend.Legend at 0x7f9bf1b8e110>"
      ]
     },
     "execution_count": 7,
     "metadata": {},
     "output_type": "execute_result"
    },
    {
     "data": {
      "image/png": "[encoded data removed]",
      "text/plain": [
       "<Figure size 1600x800 with 1 Axes>"
      ]
     },
     "metadata": {},
     "output_type": "display_data"
    }
   ],
   "source": [
    "import matplotlib.pyplot as plt\n",
    "\n",
    "fig, ax = plt.subplots()\n",
    "ax.plot(x1, y, \"o\", label=\"Data\")\n",
    "ax.plot(x1, y_true, \"b-\", label=\"True\")\n",
    "ax.plot(np.hstack((x1, x1n)), np.hstack((ypred, ynewpred)), \"r\", label=\"OLS prediction\")\n",
    "ax.legend(loc=\"best\")"
   ]
  },
  {
   "cell_type": "markdown",
   "metadata": {},
   "source": [
    "## Predicting with Formulas"
   ]
  },
  {
   "cell_type": "markdown",
   "metadata": {},
   "source": [
    "Using formulas can make both estimation and prediction a lot easier"
   ]
  },
  {
   "cell_type": "code",
   "execution_count": 8,
   "metadata": {
    "execution": {
     "iopub.execute_input": "2024-09-06T10:56:16.906086Z",
     "iopub.status.busy": "2024-09-06T10:56:16.905782Z",
     "iopub.status.idle": "2024-09-06T10:56:16.917811Z",
     "shell.execute_reply": "2024-09-06T10:56:16.917115Z"
    }
   },
   "outputs": [],
   "source": [
    "from statsmodels.formula.api import ols\n",
    "\n",
    "data = {\"x1\": x1, \"y\": y}\n",
    "\n",
    "res = ols(\"y ~ x1 + np.sin(x1) + I((x1-5)**2)\", data=data).fit()"
   ]
  },
  {
   "cell_type": "markdown",
   "metadata": {},
   "source": [
    "We use the `I` to indicate use of the Identity transform. Ie., we do not want any expansion magic from using `**2`"
   ]
  },
  {
   "cell_type": "code",
   "execution_count": 9,
   "metadata": {
    "execution": {
     "iopub.execute_input": "2024-09-06T10:56:16.920776Z",
     "iopub.status.busy": "2024-09-06T10:56:16.920492Z",
     "iopub.status.idle": "2024-09-06T10:56:16.927806Z",
     "shell.execute_reply": "2024-09-06T10:56:16.926980Z"
    }
   },
   "outputs": [
    {
     "data": {
      "text/plain": [
       "Intercept           5.070065\n",
       "x1                  0.484104\n",
       "np.sin(x1)          0.511550\n",
       "I((x1 - 5) ** 2)   -0.018427\n",
       "dtype: float64"
      ]
     },
     "execution_count": 9,
     "metadata": {},
     "output_type": "execute_result"
    }
   ],
   "source": [
    "res.params"
   ]
  },
  {
   "cell_type": "markdown",
   "metadata": {},
   "source": [
    "Now we only have to pass the single variable and we get the transformed right-hand side variables automatically"
   ]
  },
  {
   "cell_type": "code",
   "execution_count": 10,
   "metadata": {
    "execution": {
     "iopub.execute_input": "2024-09-06T10:56:16.930685Z",
     "iopub.status.busy": "2024-09-06T10:56:16.930462Z",
     "iopub.status.idle": "2024-09-06T10:56:16.941931Z",
     "shell.execute_reply": "2024-09-06T10:56:16.941332Z"
    }
   },
   "outputs": [
    {
     "data": {
      "text/plain": [
       "0    11.077158\n",
       "1    10.947056\n",
       "2    10.702952\n",
       "3    10.390566\n",
       "4    10.070074\n",
       "5     9.801385\n",
       "6     9.629469\n",
       "7     9.573343\n",
       "8     9.621425\n",
       "9     9.734357\n",
       "dtype: float64"
      ]
     },
     "execution_count": 10,
     "metadata": {},
     "output_type": "execute_result"
    }
   ],
   "source": [
    "res.predict(exog=dict(x1=x1n))"
   ]
  }
 ],
 "metadata": {
  "kernelspec": {
   "display_name": "Python 3",
   "language": "python",
   "name": "python3"
  },
  "language_info": {
   "codemirror_mode": {
    "name": "ipython",
    "version": 3
   },
   "file_extension": ".py",
   "mimetype": "text/x-python",
   "name": "python",
   "nbconvert_exporter": "python",
   "pygments_lexer": "ipython3",
   "version": "3.10.14"
  }
 },
 "nbformat": 4,
 "nbformat_minor": 4
}
