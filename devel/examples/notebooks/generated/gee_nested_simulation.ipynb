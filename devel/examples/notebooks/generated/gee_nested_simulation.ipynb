{
 "cells": [
  {
   "cell_type": "markdown",
   "metadata": {},
   "source": [
    "## GEE nested covariance structure simulation study\n",
    "\n",
    "This notebook is a simulation study that illustrates and evaluates the performance of the GEE nested covariance structure.\n",
    "\n",
    "A nested covariance structure is based on a nested sequence of groups, or \"levels\".  The top level in the hierarchy is defined by the `groups` argument to GEE.  Subsequent levels are defined by the `dep_data` argument to GEE."
   ]
  },
  {
   "cell_type": "code",
   "execution_count": 1,
   "metadata": {
    "execution": {
     "iopub.execute_input": "2024-12-11T00:57:22.594133Z",
     "iopub.status.busy": "2024-12-11T00:57:22.593904Z",
     "iopub.status.idle": "2024-12-11T00:57:25.170678Z",
     "shell.execute_reply": "2024-12-11T00:57:25.169696Z"
    }
   },
   "outputs": [],
   "source": [
    "import numpy as np\n",
    "import pandas as pd\n",
    "import statsmodels.api as sm"
   ]
  },
  {
   "cell_type": "markdown",
   "metadata": {},
   "source": [
    "Set the number of covariates."
   ]
  },
  {
   "cell_type": "code",
   "execution_count": 2,
   "metadata": {
    "execution": {
     "iopub.execute_input": "2024-12-11T00:57:25.175430Z",
     "iopub.status.busy": "2024-12-11T00:57:25.174432Z",
     "iopub.status.idle": "2024-12-11T00:57:25.178665Z",
     "shell.execute_reply": "2024-12-11T00:57:25.178038Z"
    }
   },
   "outputs": [],
   "source": [
    "p = 5"
   ]
  },
  {
   "cell_type": "markdown",
   "metadata": {},
   "source": [
    "These parameters define the population variance for each level of grouping."
   ]
  },
  {
   "cell_type": "code",
   "execution_count": 3,
   "metadata": {
    "execution": {
     "iopub.execute_input": "2024-12-11T00:57:25.181035Z",
     "iopub.status.busy": "2024-12-11T00:57:25.180458Z",
     "iopub.status.idle": "2024-12-11T00:57:25.184171Z",
     "shell.execute_reply": "2024-12-11T00:57:25.183471Z"
    }
   },
   "outputs": [],
   "source": [
    "groups_var = 1\n",
    "level1_var = 2\n",
    "level2_var = 3\n",
    "resid_var = 4"
   ]
  },
  {
   "cell_type": "markdown",
   "metadata": {},
   "source": [
    "Set the number of groups"
   ]
  },
  {
   "cell_type": "code",
   "execution_count": 4,
   "metadata": {
    "execution": {
     "iopub.execute_input": "2024-12-11T00:57:25.186685Z",
     "iopub.status.busy": "2024-12-11T00:57:25.186156Z",
     "iopub.status.idle": "2024-12-11T00:57:25.189372Z",
     "shell.execute_reply": "2024-12-11T00:57:25.188810Z"
    }
   },
   "outputs": [],
   "source": [
    "n_groups = 100"
   ]
  },
  {
   "cell_type": "markdown",
   "metadata": {},
   "source": [
    "Set the number of observations at each level of grouping.  Here, everything is balanced, i.e. within a level every group has the same size."
   ]
  },
  {
   "cell_type": "code",
   "execution_count": 5,
   "metadata": {
    "execution": {
     "iopub.execute_input": "2024-12-11T00:57:25.194249Z",
     "iopub.status.busy": "2024-12-11T00:57:25.193661Z",
     "iopub.status.idle": "2024-12-11T00:57:25.206405Z",
     "shell.execute_reply": "2024-12-11T00:57:25.205685Z"
    }
   },
   "outputs": [],
   "source": [
    "group_size = 20\n",
    "level1_size = 10\n",
    "level2_size = 5"
   ]
  },
  {
   "cell_type": "markdown",
   "metadata": {},
   "source": [
    "Calculate the total sample size."
   ]
  },
  {
   "cell_type": "code",
   "execution_count": 6,
   "metadata": {
    "execution": {
     "iopub.execute_input": "2024-12-11T00:57:25.209184Z",
     "iopub.status.busy": "2024-12-11T00:57:25.208663Z",
     "iopub.status.idle": "2024-12-11T00:57:25.211845Z",
     "shell.execute_reply": "2024-12-11T00:57:25.211278Z"
    }
   },
   "outputs": [],
   "source": [
    "n = n_groups * group_size * level1_size * level2_size"
   ]
  },
  {
   "cell_type": "markdown",
   "metadata": {},
   "source": [
    "Construct the design matrix."
   ]
  },
  {
   "cell_type": "code",
   "execution_count": 7,
   "metadata": {
    "execution": {
     "iopub.execute_input": "2024-12-11T00:57:25.214215Z",
     "iopub.status.busy": "2024-12-11T00:57:25.213839Z",
     "iopub.status.idle": "2024-12-11T00:57:25.266441Z",
     "shell.execute_reply": "2024-12-11T00:57:25.265677Z"
    }
   },
   "outputs": [],
   "source": [
    "xmat = np.random.normal(size=(n, p))"
   ]
  },
  {
   "cell_type": "markdown",
   "metadata": {},
   "source": [
    "Construct labels showing which group each observation belongs to at each level."
   ]
  },
  {
   "cell_type": "code",
   "execution_count": 8,
   "metadata": {
    "execution": {
     "iopub.execute_input": "2024-12-11T00:57:25.268972Z",
     "iopub.status.busy": "2024-12-11T00:57:25.268708Z",
     "iopub.status.idle": "2024-12-11T00:57:25.276700Z",
     "shell.execute_reply": "2024-12-11T00:57:25.275813Z"
    }
   },
   "outputs": [],
   "source": [
    "groups_ix = np.kron(np.arange(n // group_size), np.ones(group_size)).astype(int)\n",
    "level1_ix = np.kron(np.arange(n // level1_size), np.ones(level1_size)).astype(int)\n",
    "level2_ix = np.kron(np.arange(n // level2_size), np.ones(level2_size)).astype(int)"
   ]
  },
  {
   "cell_type": "markdown",
   "metadata": {},
   "source": [
    "Simulate the random effects."
   ]
  },
  {
   "cell_type": "code",
   "execution_count": 9,
   "metadata": {
    "execution": {
     "iopub.execute_input": "2024-12-11T00:57:25.279391Z",
     "iopub.status.busy": "2024-12-11T00:57:25.278866Z",
     "iopub.status.idle": "2024-12-11T00:57:25.290239Z",
     "shell.execute_reply": "2024-12-11T00:57:25.289661Z"
    }
   },
   "outputs": [],
   "source": [
    "groups_re = np.sqrt(groups_var) * np.random.normal(size=n // group_size)\n",
    "level1_re = np.sqrt(level1_var) * np.random.normal(size=n // level1_size)\n",
    "level2_re = np.sqrt(level2_var) * np.random.normal(size=n // level2_size)"
   ]
  },
  {
   "cell_type": "markdown",
   "metadata": {},
   "source": [
    "Simulate the response variable."
   ]
  },
  {
   "cell_type": "code",
   "execution_count": 10,
   "metadata": {
    "execution": {
     "iopub.execute_input": "2024-12-11T00:57:25.292499Z",
     "iopub.status.busy": "2024-12-11T00:57:25.292085Z",
     "iopub.status.idle": "2024-12-11T00:57:25.310432Z",
     "shell.execute_reply": "2024-12-11T00:57:25.309683Z"
    }
   },
   "outputs": [],
   "source": [
    "y = groups_re[groups_ix] + level1_re[level1_ix] + level2_re[level2_ix]\n",
    "y += np.sqrt(resid_var) * np.random.normal(size=n)"
   ]
  },
  {
   "cell_type": "markdown",
   "metadata": {},
   "source": [
    "Put everything into a dataframe."
   ]
  },
  {
   "cell_type": "code",
   "execution_count": 11,
   "metadata": {
    "execution": {
     "iopub.execute_input": "2024-12-11T00:57:25.312921Z",
     "iopub.status.busy": "2024-12-11T00:57:25.312670Z",
     "iopub.status.idle": "2024-12-11T00:57:25.330595Z",
     "shell.execute_reply": "2024-12-11T00:57:25.329680Z"
    }
   },
   "outputs": [],
   "source": [
    "df = pd.DataFrame(xmat, columns=[\"x%d\" % j for j in range(p)])\n",
    "df[\"y\"] = y + xmat[:, 0] - xmat[:, 3]\n",
    "df[\"groups_ix\"] = groups_ix\n",
    "df[\"level1_ix\"] = level1_ix\n",
    "df[\"level2_ix\"] = level2_ix"
   ]
  },
  {
   "cell_type": "markdown",
   "metadata": {},
   "source": [
    "Fit the model."
   ]
  },
  {
   "cell_type": "code",
   "execution_count": 12,
   "metadata": {
    "execution": {
     "iopub.execute_input": "2024-12-11T00:57:25.333578Z",
     "iopub.status.busy": "2024-12-11T00:57:25.333033Z",
     "iopub.status.idle": "2024-12-11T00:57:37.526508Z",
     "shell.execute_reply": "2024-12-11T00:57:37.525707Z"
    }
   },
   "outputs": [],
   "source": [
    "cs = sm.cov_struct.Nested()\n",
    "dep_fml = \"0 + level1_ix + level2_ix\"\n",
    "m = sm.GEE.from_formula(\n",
    "    \"y ~ x0 + x1 + x2 + x3 + x4\",\n",
    "    cov_struct=cs,\n",
    "    dep_data=dep_fml,\n",
    "    groups=\"groups_ix\",\n",
    "    data=df,\n",
    ")\n",
    "r = m.fit()"
   ]
  },
  {
   "cell_type": "markdown",
   "metadata": {},
   "source": [
    "The estimated covariance parameters should be similar to `groups_var`, `level1_var`, etc. as defined above."
   ]
  },
  {
   "cell_type": "code",
   "execution_count": 13,
   "metadata": {
    "execution": {
     "iopub.execute_input": "2024-12-11T00:57:37.531255Z",
     "iopub.status.busy": "2024-12-11T00:57:37.530001Z",
     "iopub.status.idle": "2024-12-11T00:57:37.570639Z",
     "shell.execute_reply": "2024-12-11T00:57:37.569887Z"
    }
   },
   "outputs": [
    {
     "data": {
      "text/html": [
       "<div>\n",
       "<style scoped>\n",
       "    .dataframe tbody tr th:only-of-type {\n",
       "        vertical-align: middle;\n",
       "    }\n",
       "\n",
       "    .dataframe tbody tr th {\n",
       "        vertical-align: top;\n",
       "    }\n",
       "\n",
       "    .dataframe thead th {\n",
       "        text-align: right;\n",
       "    }\n",
       "</style>\n",
       "<table border=\"1\" class=\"dataframe\">\n",
       "  <thead>\n",
       "    <tr style=\"text-align: right;\">\n",
       "      <th></th>\n",
       "      <th>Variance</th>\n",
       "    </tr>\n",
       "  </thead>\n",
       "  <tbody>\n",
       "    <tr>\n",
       "      <th>groups_ix</th>\n",
       "      <td>1.026408</td>\n",
       "    </tr>\n",
       "    <tr>\n",
       "      <th>level1_ix</th>\n",
       "      <td>2.089379</td>\n",
       "    </tr>\n",
       "    <tr>\n",
       "      <th>level2_ix</th>\n",
       "      <td>2.955009</td>\n",
       "    </tr>\n",
       "    <tr>\n",
       "      <th>Residual</th>\n",
       "      <td>3.993825</td>\n",
       "    </tr>\n",
       "  </tbody>\n",
       "</table>\n",
       "</div>"
      ],
      "text/plain": [
       "           Variance\n",
       "groups_ix  1.026408\n",
       "level1_ix  2.089379\n",
       "level2_ix  2.955009\n",
       "Residual   3.993825"
      ]
     },
     "execution_count": 13,
     "metadata": {},
     "output_type": "execute_result"
    }
   ],
   "source": [
    "r.cov_struct.summary()"
   ]
  }
 ],
 "metadata": {
  "kernelspec": {
   "display_name": "Python 3 (ipykernel)",
   "language": "python",
   "name": "python3"
  },
  "language_info": {
   "codemirror_mode": {
    "name": "ipython",
    "version": 3
   },
   "file_extension": ".py",
   "mimetype": "text/x-python",
   "name": "python",
   "nbconvert_exporter": "python",
   "pygments_lexer": "ipython3",
   "version": "3.10.15"
  }
 },
 "nbformat": 4,
 "nbformat_minor": 4
}
