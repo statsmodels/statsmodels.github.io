{
 "cells": [
  {
   "cell_type": "markdown",
   "id": "bda38497",
   "metadata": {},
   "source": [
    "## Hurdle and truncated count models\n",
    "\n",
    "Author: Josef Perktold\n",
    "\n",
    "Statsmodels has now hurdle and truncated count models, added in version 0.14.\n",
    "\n",
    "A hurdle model is composed of a model for zeros and a model for the distribution for counts larger than zero. The zero model is a binary model for a count of zero versus larger than zero. The count model for nonzero counts is a zero truncated count model.\n",
    "\n",
    "Statsmodels currently supports hurdle models with Poisson and Negative Binomial distributions as zero model and as count model. Binary models like Logit, Probit or GLM-Binomial are not yet supported as zero model.\n",
    "The advantage of Poisson-Poisson hurdle is that the standard Poisson model is a special case with equal parameters in both models. This provides a simple Wald test for the hurdle model against the Poisson model.\n",
    "\n",
    "The implemented binary model is a censored model where observations are right censored at one. That means that only 0 or 1 counts are observed.\n",
    "\n",
    "The hurdle model can be estimated by separately estimating the zero model and the count model for the zero truncated data assuming that observations are independently distributed (no correlation across observations). The resulting covariance matrix of the parameter estimates is block diagonal with diagonal blocks given by the submodels.\n",
    "Joint estimation is not yet implemented.\n",
    "\n",
    "The censored and truncated count models were developed mainly to support the hurdle model. However, the left truncated count models have other applications than supporting the hurdle models. The right censored models are not of separate interest because they only support binary observations that can be modeled by GLM-Binomial, Logit or Probit.\n",
    "\n",
    "For the hurdle model there is a single class `HurdleCountModel`, that includes the distributions of the submodels as option. \n",
    "Classes for truncated models are currently `TruncatedLFPoisson` and `TruncatedLFNegativeBinomialP`, where \"LF\" stands for left truncation at a fixed, observation independent truncation point. "
   ]
  },
  {
   "cell_type": "code",
   "execution_count": null,
   "id": "29e6105a",
   "metadata": {},
   "outputs": [],
   "source": []
  },
  {
   "cell_type": "code",
   "execution_count": 1,
   "id": "eed890e6",
   "metadata": {
    "execution": {
     "iopub.execute_input": "2025-07-18T15:31:59.176198Z",
     "iopub.status.busy": "2025-07-18T15:31:59.175563Z",
     "iopub.status.idle": "2025-07-18T15:32:00.243638Z",
     "shell.execute_reply": "2025-07-18T15:32:00.242886Z"
    }
   },
   "outputs": [],
   "source": [
    "import numpy as np\n",
    "import pandas as pd\n",
    "import statsmodels.discrete.truncated_model as smtc\n",
    "from statsmodels.discrete.count_model import (\n",
    "    ZeroInflatedGeneralizedPoisson,\n",
    "    ZeroInflatedNegativeBinomialP,\n",
    "    ZeroInflatedPoisson,\n",
    ")\n",
    "from statsmodels.discrete.discrete_model import (\n",
    "    GeneralizedPoisson,\n",
    "    NegativeBinomial,\n",
    "    NegativeBinomialP,\n",
    "    Poisson,\n",
    ")\n",
    "from statsmodels.discrete.truncated_model import (\n",
    "    HurdleCountModel,\n",
    "    TruncatedLFNegativeBinomialP,\n",
    "    TruncatedLFPoisson,\n",
    "    _RCensoredPoisson,\n",
    ")"
   ]
  },
  {
   "cell_type": "markdown",
   "id": "85da298e",
   "metadata": {},
   "source": [
    "## Simulating a hurdle model\n",
    "\n",
    "We are simulating a Poisson-Poisson hurdle model explicitly because there are not yet any distribution helper functions for it."
   ]
  },
  {
   "cell_type": "code",
   "execution_count": 2,
   "id": "99c1d162",
   "metadata": {
    "execution": {
     "iopub.execute_input": "2025-07-18T15:32:00.246733Z",
     "iopub.status.busy": "2025-07-18T15:32:00.246413Z",
     "iopub.status.idle": "2025-07-18T15:32:00.261014Z",
     "shell.execute_reply": "2025-07-18T15:32:00.260275Z"
    }
   },
   "outputs": [
    {
     "name": "stdout",
     "output_type": "stream",
     "text": [
      "[102 335 590 770 816 739 573 402 265 176 116  59  35   7  11   4]\n",
      "4898\n",
      "602\n",
      "93\n",
      "11\n",
      "2\n",
      "0\n"
     ]
    },
    {
     "data": {
      "text/plain": [
       "array([ 102, 1448, 1502, 1049,  542,  234,   81,   31,    6,    5])"
      ]
     },
     "execution_count": 2,
     "metadata": {},
     "output_type": "execute_result"
    }
   ],
   "source": [
    "np.random.seed(987456348)\n",
    "# large sample to get strong results\n",
    "nobs = 5000\n",
    "x = np.column_stack((np.ones(nobs), np.linspace(0, 1, nobs)))\n",
    "\n",
    "mu0 = np.exp(0.5 * 2 * x.sum(1))\n",
    "y = np.random.poisson(mu0, size=nobs)\n",
    "print(np.bincount(y))\n",
    "y_ = y\n",
    "indices = np.arange(len(y))\n",
    "mask = mask0 = y > 0\n",
    "for _ in range(10):\n",
    "\n",
    "    print(mask.sum())\n",
    "    indices = mask  # indices[mask]\n",
    "    if not np.any(mask):\n",
    "        break\n",
    "    mu_ = np.exp(0.5 * x[indices].sum(1))\n",
    "    y[indices] = y_ = np.random.poisson(mu_, size=len(mu_))\n",
    "    np.place(y, mask, y_)\n",
    "    mask = np.logical_and(mask0, y == 0)\n",
    "\n",
    "np.bincount(y)"
   ]
  },
  {
   "cell_type": "markdown",
   "id": "b6435d35",
   "metadata": {},
   "source": [
    "## Estimating misspecified Poisson Model\n",
    "\n",
    "The data that we generated has zero deflation, this is, we observe fewer zeros than what we would expect in a Poisson model.\n",
    "\n",
    "After fitting the model, we can use the plot function in the poisson diagnostic class to compare the expected predictive distribution and the realized frequencies. The shows that the Poisson model overestimates the number of zeros and underestimates counts of one and two."
   ]
  },
  {
   "cell_type": "code",
   "execution_count": 3,
   "id": "7fdd59b7",
   "metadata": {
    "execution": {
     "iopub.execute_input": "2025-07-18T15:32:00.264478Z",
     "iopub.status.busy": "2025-07-18T15:32:00.263877Z",
     "iopub.status.idle": "2025-07-18T15:32:00.285265Z",
     "shell.execute_reply": "2025-07-18T15:32:00.284500Z"
    }
   },
   "outputs": [
    {
     "name": "stdout",
     "output_type": "stream",
     "text": [
      "Optimization terminated successfully.\n",
      "         Current function value: 1.668079\n",
      "         Iterations 4\n",
      "                          Poisson Regression Results                          \n",
      "==============================================================================\n",
      "Dep. Variable:                      y   No. Observations:                 5000\n",
      "Model:                        Poisson   Df Residuals:                     4998\n",
      "Method:                           MLE   Df Model:                            1\n",
      "Date:                Fri, 18 Jul 2025   Pseudo R-squ.:                0.008678\n",
      "Time:                        15:32:00   Log-Likelihood:                -8340.4\n",
      "converged:                       True   LL-Null:                       -8413.4\n",
      "Covariance Type:            nonrobust   LLR p-value:                 1.279e-33\n",
      "==============================================================================\n",
      "                 coef    std err          z      P>|z|      [0.025      0.975]\n",
      "------------------------------------------------------------------------------\n",
      "const          0.6532      0.019     33.642      0.000       0.615       0.691\n",
      "x1             0.3871      0.032     12.062      0.000       0.324       0.450\n",
      "==============================================================================\n"
     ]
    }
   ],
   "source": [
    "mod_p = Poisson(y, x)\n",
    "res_p = mod_p.fit()\n",
    "print(res_p.summary())"
   ]
  },
  {
   "cell_type": "code",
   "execution_count": 4,
   "id": "91a5c9cb",
   "metadata": {
    "execution": {
     "iopub.execute_input": "2025-07-18T15:32:00.287602Z",
     "iopub.status.busy": "2025-07-18T15:32:00.287384Z",
     "iopub.status.idle": "2025-07-18T15:32:01.493498Z",
     "shell.execute_reply": "2025-07-18T15:32:01.492497Z"
    }
   },
   "outputs": [
    {
     "data": {
      "image/png": "[encoded data removed]",
      "text/plain": [
       "<Figure size 800x1200 with 3 Axes>"
      ]
     },
     "metadata": {},
     "output_type": "display_data"
    }
   ],
   "source": [
    "dia_p = res_p.get_diagnostic()\n",
    "dia_p.plot_probs();"
   ]
  },
  {
   "cell_type": "markdown",
   "id": "a237e21f",
   "metadata": {},
   "source": [
    "## Estimating the Hurdle Model\n",
    "\n",
    "Next, we estimate the correctly specified Poisson-Poisson hurdle model.\n",
    "\n",
    "Signature and options for the HurdleCountModel shows that poisson-poisson is the default, so we do not need to specify any options when creating this model.\n",
    "\n",
    "`HurdleCountModel(endog, exog, offset=None, dist='poisson', zerodist='poisson', \n",
    "                  p=2, pzero=2, exposure=None, missing='none', **kwargs)`\n",
    "                  \n",
    "The results class of the HurdleCountModel has a `get_diagnostic` method. However, only part of the diagnostic methods are currently available. The plot of the predictive distribution shows very high agreement with the data.\n"
   ]
  },
  {
   "cell_type": "code",
   "execution_count": 5,
   "id": "70065ce8",
   "metadata": {
    "execution": {
     "iopub.execute_input": "2025-07-18T15:32:01.498361Z",
     "iopub.status.busy": "2025-07-18T15:32:01.496811Z",
     "iopub.status.idle": "2025-07-18T15:32:01.619171Z",
     "shell.execute_reply": "2025-07-18T15:32:01.617537Z"
    }
   },
   "outputs": [
    {
     "name": "stdout",
     "output_type": "stream",
     "text": [
      "                     HurdleCountModel Regression Results                      \n",
      "==============================================================================\n",
      "Dep. Variable:                      y   No. Observations:                 5000\n",
      "Model:               HurdleCountModel   Df Residuals:                     4996\n",
      "Method:                           MLE   Df Model:                            2\n",
      "Date:                Fri, 18 Jul 2025   Pseudo R-squ.:                 0.01503\n",
      "Time:                        15:32:01   Log-Likelihood:                -8004.9\n",
      "converged:               [True, True]   LL-Null:                       -8127.1\n",
      "Covariance Type:            nonrobust   LLR p-value:                 8.901e-54\n",
      "==============================================================================\n",
      "                 coef    std err          z      P>|z|      [0.025      0.975]\n",
      "------------------------------------------------------------------------------\n",
      "zm_const       0.9577      0.048     20.063      0.000       0.864       1.051\n",
      "zm_x1          1.0576      0.121      8.737      0.000       0.820       1.295\n",
      "const          0.5009      0.024     20.875      0.000       0.454       0.548\n",
      "x1             0.4577      0.039     11.882      0.000       0.382       0.533\n",
      "==============================================================================\n"
     ]
    }
   ],
   "source": [
    "mod_h = HurdleCountModel(y, x)\n",
    "res_h = mod_h.fit(disp=False)\n",
    "print(res_h.summary())"
   ]
  },
  {
   "cell_type": "code",
   "execution_count": 6,
   "id": "6c3aadbf",
   "metadata": {
    "execution": {
     "iopub.execute_input": "2025-07-18T15:32:01.623563Z",
     "iopub.status.busy": "2025-07-18T15:32:01.622124Z",
     "iopub.status.idle": "2025-07-18T15:32:02.225682Z",
     "shell.execute_reply": "2025-07-18T15:32:02.224735Z"
    }
   },
   "outputs": [
    {
     "data": {
      "image/png": "[encoded data removed]",
      "text/plain": [
       "<Figure size 800x1200 with 3 Axes>"
      ]
     },
     "metadata": {},
     "output_type": "display_data"
    }
   ],
   "source": [
    "dia_h = res_h.get_diagnostic()\n",
    "dia_h.plot_probs();"
   ]
  },
  {
   "cell_type": "markdown",
   "id": "0827fde3",
   "metadata": {},
   "source": [
    "We can use the Wald test to test whether the parameters of the zero model are the same as the parameters of the zero-truncated count model. The p-value is very small and correctly rejects that the model is just Poisson. We are using a large sample size, so the power of the test will be large in this case."
   ]
  },
  {
   "cell_type": "code",
   "execution_count": 7,
   "id": "c000b4cb",
   "metadata": {
    "execution": {
     "iopub.execute_input": "2025-07-18T15:32:02.229920Z",
     "iopub.status.busy": "2025-07-18T15:32:02.229260Z",
     "iopub.status.idle": "2025-07-18T15:32:02.241302Z",
     "shell.execute_reply": "2025-07-18T15:32:02.240433Z"
    }
   },
   "outputs": [
    {
     "data": {
      "text/plain": [
       "<class 'statsmodels.stats.contrast.ContrastResults'>\n",
       "<Wald test (chi2): statistic=470.67320754391915, p-value=6.231772522807044e-103, df_denom=2>"
      ]
     },
     "execution_count": 7,
     "metadata": {},
     "output_type": "execute_result"
    }
   ],
   "source": [
    "res_h.wald_test(\"zm_const = const, zm_x1 = x1\", scalar=True)"
   ]
  },
  {
   "cell_type": "markdown",
   "id": "100ba8a8",
   "metadata": {},
   "source": [
    "## Prediction\n",
    "\n",
    "The hurdle model can be used for prediction for statistics of the overall model and of the two submodels. The statistics that should be predicted is specified using the `which` keyword.\n",
    "\n",
    "The following is taken from the docstring for predict and lists available the options.\n",
    "\n",
    "        which : str (optional)\n",
    "            Statitistic to predict. Default is 'mean'.\n",
    "\n",
    "            - 'mean' : the conditional expectation of endog E(y | x)\n",
    "            - 'mean-main' : mean parameter of truncated count model.\n",
    "              Note, this is not the mean of the truncated distribution.\n",
    "            - 'linear' : the linear predictor of the truncated count model.\n",
    "            - 'var' : returns the estimated variance of endog implied by the\n",
    "              model.\n",
    "            - 'prob-main' : probability of selecting the main model which is\n",
    "              the probability of observing a nonzero count P(y > 0 | x).\n",
    "            - 'prob-zero' : probability of observing a zero count. P(y=0 | x).\n",
    "              This is equal to is ``1 - prob-main``\n",
    "            - 'prob-trunc' : probability of truncation of the truncated count\n",
    "              model. This is the probability of observing a zero count implied\n",
    "              by the truncation model.\n",
    "            - 'mean-nonzero' : expected value conditional on having observation\n",
    "              larger than zero, E(y | X, y>0)\n",
    "            - 'prob' : probabilities of each count from 0 to max(endog), or\n",
    "              for y_values if those are provided. This is a multivariate\n",
    "              return (2-dim when predicting for several observations).\n",
    "              \n",
    "These options are available in the `predict` and the `get_prediction` methods of the results class.\n",
    "\n",
    "For the following example, we create a set of explanatory variables that are taken from the original data at equal spaced intervals. Then we can predict the available statistics conditional on these explanatory variables."
   ]
  },
  {
   "cell_type": "code",
   "execution_count": 8,
   "id": "9757da68",
   "metadata": {
    "execution": {
     "iopub.execute_input": "2025-07-18T15:32:02.244965Z",
     "iopub.status.busy": "2025-07-18T15:32:02.244604Z",
     "iopub.status.idle": "2025-07-18T15:32:02.255443Z",
     "shell.execute_reply": "2025-07-18T15:32:02.254173Z"
    }
   },
   "outputs": [
    {
     "data": {
      "text/plain": [
       "array([[1.        , 0.        ],\n",
       "       [1.        , 0.20004001],\n",
       "       [1.        , 0.40008002],\n",
       "       [1.        , 0.60012002],\n",
       "       [1.        , 0.80016003]])"
      ]
     },
     "execution_count": 8,
     "metadata": {},
     "output_type": "execute_result"
    }
   ],
   "source": [
    "which_options = [\n",
    "    \"mean\",\n",
    "    \"mean-main\",\n",
    "    \"linear\",\n",
    "    \"mean-nonzero\",\n",
    "    \"prob-zero\",\n",
    "    \"prob-main\",\n",
    "    \"prob-trunc\",\n",
    "    \"var\",\n",
    "    \"prob\",\n",
    "]\n",
    "ex = x[slice(None, None, nobs // 5), :]\n",
    "ex"
   ]
  },
  {
   "cell_type": "code",
   "execution_count": 9,
   "id": "3614ee25",
   "metadata": {
    "execution": {
     "iopub.execute_input": "2025-07-18T15:32:02.258719Z",
     "iopub.status.busy": "2025-07-18T15:32:02.258372Z",
     "iopub.status.idle": "2025-07-18T15:32:02.268457Z",
     "shell.execute_reply": "2025-07-18T15:32:02.267643Z"
    }
   },
   "outputs": [
    {
     "name": "stdout",
     "output_type": "stream",
     "text": [
      "mean\n",
      "     [1.89150663 2.07648059 2.25555158 2.43319456 2.61673457]\n",
      "mean-main\n",
      "     [1.65015181 1.8083782  1.98177629 2.17180081 2.38004602]\n",
      "linear\n",
      "     [0.50086729 0.59243042 0.68399356 0.77555669 0.86711982]\n",
      "mean-nonzero\n",
      "     [2.04231955 2.16292424 2.29857565 2.45116551 2.62277411]\n",
      "prob-zero\n",
      "     [0.07384394 0.0399661  0.01871771 0.00733159 0.00230273]\n",
      "prob-main\n",
      "     [0.92615606 0.9600339  0.98128229 0.99266841 0.99769727]\n",
      "prob-trunc\n",
      "     [0.19202076 0.16391977 0.1378242  0.11397219 0.09254632]\n",
      "var\n",
      "     [1.43498239 1.51977118 1.63803729 1.7971727  1.99738345]\n",
      "prob\n",
      "     [[7.38439416e-02 3.63208532e-01 2.99674608e-01 1.64836199e-01\n",
      "  6.80011882e-02 2.24424568e-02 6.17224344e-03 1.45501981e-03\n",
      "  3.00125448e-04 5.50280612e-05]\n",
      " [3.99660987e-02 3.40376213e-01 3.07764462e-01 1.85518182e-01\n",
      "  8.38717591e-02 3.03343722e-02 9.14266959e-03 2.36191491e-03\n",
      "  5.33904431e-04 1.07277904e-04]\n",
      " [1.87177088e-02 3.10869602e-01 3.08037002e-01 2.03486809e-01\n",
      "  1.00816333e-01 3.99590837e-02 1.31983274e-02 3.73659033e-03\n",
      "  9.25635762e-04 2.03822556e-04]\n",
      " [7.33159258e-03 2.77316512e-01 3.01138113e-01 2.18003999e-01\n",
      "  1.18365316e-01 5.14131777e-02 1.86098635e-02 5.77384524e-03\n",
      "  1.56745522e-03 3.78244503e-04]\n",
      " [2.30272798e-03 2.42169151e-01 2.88186862e-01 2.28632665e-01\n",
      "  1.36039066e-01 6.47558475e-02 2.56869828e-02 8.73374304e-03\n",
      "  2.59833880e-03 6.87129546e-04]]\n"
     ]
    }
   ],
   "source": [
    "for w in which_options:\n",
    "    print(w)\n",
    "    pred = res_h.predict(ex, which=w)\n",
    "    print(\"    \", pred)"
   ]
  },
  {
   "cell_type": "code",
   "execution_count": 10,
   "id": "bbc9ebed",
   "metadata": {
    "execution": {
     "iopub.execute_input": "2025-07-18T15:32:02.272054Z",
     "iopub.status.busy": "2025-07-18T15:32:02.271705Z",
     "iopub.status.idle": "2025-07-18T15:32:02.290782Z",
     "shell.execute_reply": "2025-07-18T15:32:02.289112Z"
    }
   },
   "outputs": [
    {
     "name": "stdout",
     "output_type": "stream",
     "text": [
      "mean\n",
      "     [1.89150663 2.07648059 2.25555158 2.43319456 2.61673457]\n",
      "  se [0.07877461 0.05693768 0.05866892 0.09551274 0.15359057]\n",
      "mean-main\n",
      "     [1.65015181 1.8083782  1.98177629 2.17180081 2.38004602]\n",
      "  se [0.03959242 0.03164634 0.02471869 0.02415162 0.03453261]\n",
      "linear\n",
      "     [0.50086729 0.59243042 0.68399356 0.77555669 0.86711982]\n",
      "  se [0.04773779 0.03148549 0.02960421 0.04397859 0.06453261]\n",
      "mean-nonzero\n",
      "     [2.04231955 2.16292424 2.29857565 2.45116551 2.62277411]\n",
      "  se [0.02978486 0.02443098 0.01958745 0.0196433  0.02881753]\n",
      "prob-zero\n",
      "     [0.07384394 0.0399661  0.01871771 0.00733159 0.00230273]\n",
      "  se [0.00918583 0.00405155 0.00220446 0.00158494 0.00090255]\n",
      "prob-main\n",
      "     [0.92615606 0.9600339  0.98128229 0.99266841 0.99769727]\n",
      "  se [0.00918583 0.00405155 0.00220446 0.00158494 0.00090255]\n",
      "prob-trunc\n",
      "     [0.19202076 0.16391977 0.1378242  0.11397219 0.09254632]\n",
      "  se [0.00760257 0.00518746 0.00340683 0.00275261 0.00319587]\n",
      "var\n",
      "     [1.43498239 1.51977118 1.63803729 1.7971727  1.99738345]\n",
      "  se [0.04853902 0.03615054 0.02747485 0.02655145 0.03733328]\n"
     ]
    },
    {
     "name": "stderr",
     "output_type": "stream",
     "text": [
      "/opt/hostedtoolcache/Python/3.10.18/x64/lib/python3.10/site-packages/statsmodels/base/_prediction_inference.py:783: UserWarning: using default log-link in get_prediction\n",
      "  warnings.warn(\"using default log-link in get_prediction\")\n"
     ]
    }
   ],
   "source": [
    "for w in which_options[:-1]:\n",
    "    print(w)\n",
    "    pred = res_h.get_prediction(ex, which=w)\n",
    "    print(\"    \", pred.predicted)\n",
    "    print(\"  se\", pred.se)"
   ]
  },
  {
   "cell_type": "markdown",
   "id": "e356eb1b",
   "metadata": {},
   "source": [
    "The option `which=\"prob\"` returns an array of predicted probabilities for each row of the predict `exog`.\n",
    "We are often interested in the mean probabilities averaged over all exog. The prediction methods have an option `average=True` to compute the average of the predicted values across observations and the corresponding standard errors and confidence intervals for those averaged predictions."
   ]
  },
  {
   "cell_type": "code",
   "execution_count": 11,
   "id": "5d90afc2",
   "metadata": {
    "execution": {
     "iopub.execute_input": "2025-07-18T15:32:02.294796Z",
     "iopub.status.busy": "2025-07-18T15:32:02.294231Z",
     "iopub.status.idle": "2025-07-18T15:32:02.306480Z",
     "shell.execute_reply": "2025-07-18T15:32:02.304630Z"
    }
   },
   "outputs": [
    {
     "name": "stdout",
     "output_type": "stream",
     "text": [
      "     [2.84324139e-02 3.06788002e-01 3.00960210e-01 2.00095571e-01\n",
      " 1.01418732e-01 4.17809876e-02 1.45620174e-02 4.41222267e-03\n",
      " 1.18509193e-03 2.86300514e-04]\n",
      "  se [2.81472152e-03 5.00830805e-03 1.37524763e-03 1.87343644e-03\n",
      " 1.99068649e-03 1.23878525e-03 5.78099173e-04 2.21180110e-04\n",
      " 7.25021189e-05 2.08872558e-05]\n"
     ]
    }
   ],
   "source": [
    "pred = res_h.get_prediction(ex, which=\"prob\", average=True)\n",
    "print(\"    \", pred.predicted)\n",
    "print(\"  se\", pred.se)"
   ]
  },
  {
   "cell_type": "markdown",
   "id": "09602e97",
   "metadata": {},
   "source": [
    "We use the panda DataFrame to get a display that is easier to read. The \"predicted\" column shows the probability mass function for the predicted distribution of response values averaged of our 5 grid points of exog. The probabilities do not add up to one because counts larger than those observed have positive probability and are missing in the table, although in this example that probability is small."
   ]
  },
  {
   "cell_type": "code",
   "execution_count": 12,
   "id": "77c7eff9",
   "metadata": {
    "execution": {
     "iopub.execute_input": "2025-07-18T15:32:02.309742Z",
     "iopub.status.busy": "2025-07-18T15:32:02.309402Z",
     "iopub.status.idle": "2025-07-18T15:32:02.328304Z",
     "shell.execute_reply": "2025-07-18T15:32:02.327423Z"
    }
   },
   "outputs": [
    {
     "data": {
      "text/html": [
       "<div>\n",
       "<style scoped>\n",
       "    .dataframe tbody tr th:only-of-type {\n",
       "        vertical-align: middle;\n",
       "    }\n",
       "\n",
       "    .dataframe tbody tr th {\n",
       "        vertical-align: top;\n",
       "    }\n",
       "\n",
       "    .dataframe thead th {\n",
       "        text-align: right;\n",
       "    }\n",
       "</style>\n",
       "<table border=\"1\" class=\"dataframe\">\n",
       "  <thead>\n",
       "    <tr style=\"text-align: right;\">\n",
       "      <th></th>\n",
       "      <th>predicted</th>\n",
       "      <th>se</th>\n",
       "      <th>ci_lower</th>\n",
       "      <th>ci_upper</th>\n",
       "    </tr>\n",
       "  </thead>\n",
       "  <tbody>\n",
       "    <tr>\n",
       "      <th>0</th>\n",
       "      <td>0.028432</td>\n",
       "      <td>0.002815</td>\n",
       "      <td>0.022916</td>\n",
       "      <td>0.033949</td>\n",
       "    </tr>\n",
       "    <tr>\n",
       "      <th>1</th>\n",
       "      <td>0.306788</td>\n",
       "      <td>0.005008</td>\n",
       "      <td>0.296972</td>\n",
       "      <td>0.316604</td>\n",
       "    </tr>\n",
       "    <tr>\n",
       "      <th>2</th>\n",
       "      <td>0.300960</td>\n",
       "      <td>0.001375</td>\n",
       "      <td>0.298265</td>\n",
       "      <td>0.303656</td>\n",
       "    </tr>\n",
       "    <tr>\n",
       "      <th>3</th>\n",
       "      <td>0.200096</td>\n",
       "      <td>0.001873</td>\n",
       "      <td>0.196424</td>\n",
       "      <td>0.203767</td>\n",
       "    </tr>\n",
       "    <tr>\n",
       "      <th>4</th>\n",
       "      <td>0.101419</td>\n",
       "      <td>0.001991</td>\n",
       "      <td>0.097517</td>\n",
       "      <td>0.105320</td>\n",
       "    </tr>\n",
       "    <tr>\n",
       "      <th>5</th>\n",
       "      <td>0.041781</td>\n",
       "      <td>0.001239</td>\n",
       "      <td>0.039353</td>\n",
       "      <td>0.044209</td>\n",
       "    </tr>\n",
       "    <tr>\n",
       "      <th>6</th>\n",
       "      <td>0.014562</td>\n",
       "      <td>0.000578</td>\n",
       "      <td>0.013429</td>\n",
       "      <td>0.015695</td>\n",
       "    </tr>\n",
       "    <tr>\n",
       "      <th>7</th>\n",
       "      <td>0.004412</td>\n",
       "      <td>0.000221</td>\n",
       "      <td>0.003979</td>\n",
       "      <td>0.004846</td>\n",
       "    </tr>\n",
       "    <tr>\n",
       "      <th>8</th>\n",
       "      <td>0.001185</td>\n",
       "      <td>0.000073</td>\n",
       "      <td>0.001043</td>\n",
       "      <td>0.001327</td>\n",
       "    </tr>\n",
       "    <tr>\n",
       "      <th>9</th>\n",
       "      <td>0.000286</td>\n",
       "      <td>0.000021</td>\n",
       "      <td>0.000245</td>\n",
       "      <td>0.000327</td>\n",
       "    </tr>\n",
       "  </tbody>\n",
       "</table>\n",
       "</div>"
      ],
      "text/plain": [
       "   predicted        se  ci_lower  ci_upper\n",
       "0   0.028432  0.002815  0.022916  0.033949\n",
       "1   0.306788  0.005008  0.296972  0.316604\n",
       "2   0.300960  0.001375  0.298265  0.303656\n",
       "3   0.200096  0.001873  0.196424  0.203767\n",
       "4   0.101419  0.001991  0.097517  0.105320\n",
       "5   0.041781  0.001239  0.039353  0.044209\n",
       "6   0.014562  0.000578  0.013429  0.015695\n",
       "7   0.004412  0.000221  0.003979  0.004846\n",
       "8   0.001185  0.000073  0.001043  0.001327\n",
       "9   0.000286  0.000021  0.000245  0.000327"
      ]
     },
     "execution_count": 12,
     "metadata": {},
     "output_type": "execute_result"
    }
   ],
   "source": [
    "dfp_h = pred.summary_frame()\n",
    "dfp_h"
   ]
  },
  {
   "cell_type": "code",
   "execution_count": 13,
   "id": "185a5042",
   "metadata": {
    "execution": {
     "iopub.execute_input": "2025-07-18T15:32:02.331486Z",
     "iopub.status.busy": "2025-07-18T15:32:02.331173Z",
     "iopub.status.idle": "2025-07-18T15:32:02.339910Z",
     "shell.execute_reply": "2025-07-18T15:32:02.339106Z"
    }
   },
   "outputs": [
    {
     "data": {
      "text/plain": [
       "(np.float64(0.9999215487936677), np.float64(7.84512063323195e-05))"
      ]
     },
     "execution_count": 13,
     "metadata": {},
     "output_type": "execute_result"
    }
   ],
   "source": [
    "prob_larger9 = pred.predicted.sum()\n",
    "prob_larger9, 1 - prob_larger9"
   ]
  },
  {
   "cell_type": "markdown",
   "id": "a75795cd",
   "metadata": {},
   "source": [
    "`get_prediction` returns in this case an instance of the base `PredictionResultsDelta` class.\n",
    "\n",
    "Inferential statistics like standard errors, p-values and confidence interval for nonlinear functions that depend on several distribution parameters are computed using the delta method. Inference for predictions is based on the normal distribution. "
   ]
  },
  {
   "cell_type": "code",
   "execution_count": 14,
   "id": "f8124e02",
   "metadata": {
    "execution": {
     "iopub.execute_input": "2025-07-18T15:32:02.344683Z",
     "iopub.status.busy": "2025-07-18T15:32:02.343557Z",
     "iopub.status.idle": "2025-07-18T15:32:02.352823Z",
     "shell.execute_reply": "2025-07-18T15:32:02.352027Z"
    }
   },
   "outputs": [
    {
     "data": {
      "text/plain": [
       "<statsmodels.base._prediction_inference.PredictionResultsDelta at 0x7fa4b0f5d600>"
      ]
     },
     "execution_count": 14,
     "metadata": {},
     "output_type": "execute_result"
    }
   ],
   "source": [
    "pred"
   ]
  },
  {
   "cell_type": "code",
   "execution_count": 15,
   "id": "6c1d314d",
   "metadata": {
    "execution": {
     "iopub.execute_input": "2025-07-18T15:32:02.356651Z",
     "iopub.status.busy": "2025-07-18T15:32:02.356318Z",
     "iopub.status.idle": "2025-07-18T15:32:02.364525Z",
     "shell.execute_reply": "2025-07-18T15:32:02.363626Z"
    }
   },
   "outputs": [
    {
     "data": {
      "text/plain": [
       "(<scipy.stats._continuous_distns.norm_gen at 0x7fa4b7e96410>, ())"
      ]
     },
     "execution_count": 15,
     "metadata": {},
     "output_type": "execute_result"
    }
   ],
   "source": [
    "pred.dist, pred.dist_args"
   ]
  },
  {
   "cell_type": "markdown",
   "id": "6b032002",
   "metadata": {},
   "source": [
    "We can compare the distribution predicted by the hurdle model with the one predicted by the Poisson model that we estimated earlier. The last column, \"diff\", shows that Poisson model overestimates the number of zeros by around 8% of observations and underestimates the counts of 1 and 2 by 7%, resp. 3.7% at the average over the `exog` grid."
   ]
  },
  {
   "cell_type": "code",
   "execution_count": 16,
   "id": "dd01ba63",
   "metadata": {
    "execution": {
     "iopub.execute_input": "2025-07-18T15:32:02.368214Z",
     "iopub.status.busy": "2025-07-18T15:32:02.367862Z",
     "iopub.status.idle": "2025-07-18T15:32:02.389186Z",
     "shell.execute_reply": "2025-07-18T15:32:02.388399Z"
    }
   },
   "outputs": [
    {
     "data": {
      "text/html": [
       "<div>\n",
       "<style scoped>\n",
       "    .dataframe tbody tr th:only-of-type {\n",
       "        vertical-align: middle;\n",
       "    }\n",
       "\n",
       "    .dataframe tbody tr th {\n",
       "        vertical-align: top;\n",
       "    }\n",
       "\n",
       "    .dataframe thead th {\n",
       "        text-align: right;\n",
       "    }\n",
       "</style>\n",
       "<table border=\"1\" class=\"dataframe\">\n",
       "  <thead>\n",
       "    <tr style=\"text-align: right;\">\n",
       "      <th></th>\n",
       "      <th>predicted</th>\n",
       "      <th>se</th>\n",
       "      <th>ci_lower</th>\n",
       "      <th>ci_upper</th>\n",
       "      <th>poisson</th>\n",
       "      <th>diff</th>\n",
       "    </tr>\n",
       "  </thead>\n",
       "  <tbody>\n",
       "    <tr>\n",
       "      <th>0</th>\n",
       "      <td>0.028432</td>\n",
       "      <td>0.002815</td>\n",
       "      <td>0.022916</td>\n",
       "      <td>0.033949</td>\n",
       "      <td>0.107848</td>\n",
       "      <td>0.079416</td>\n",
       "    </tr>\n",
       "    <tr>\n",
       "      <th>1</th>\n",
       "      <td>0.306788</td>\n",
       "      <td>0.005008</td>\n",
       "      <td>0.296972</td>\n",
       "      <td>0.316604</td>\n",
       "      <td>0.237020</td>\n",
       "      <td>-0.069768</td>\n",
       "    </tr>\n",
       "    <tr>\n",
       "      <th>2</th>\n",
       "      <td>0.300960</td>\n",
       "      <td>0.001375</td>\n",
       "      <td>0.298265</td>\n",
       "      <td>0.303656</td>\n",
       "      <td>0.263523</td>\n",
       "      <td>-0.037437</td>\n",
       "    </tr>\n",
       "    <tr>\n",
       "      <th>3</th>\n",
       "      <td>0.200096</td>\n",
       "      <td>0.001873</td>\n",
       "      <td>0.196424</td>\n",
       "      <td>0.203767</td>\n",
       "      <td>0.197657</td>\n",
       "      <td>-0.002439</td>\n",
       "    </tr>\n",
       "    <tr>\n",
       "      <th>4</th>\n",
       "      <td>0.101419</td>\n",
       "      <td>0.001991</td>\n",
       "      <td>0.097517</td>\n",
       "      <td>0.105320</td>\n",
       "      <td>0.112511</td>\n",
       "      <td>0.011093</td>\n",
       "    </tr>\n",
       "    <tr>\n",
       "      <th>5</th>\n",
       "      <td>0.041781</td>\n",
       "      <td>0.001239</td>\n",
       "      <td>0.039353</td>\n",
       "      <td>0.044209</td>\n",
       "      <td>0.051833</td>\n",
       "      <td>0.010052</td>\n",
       "    </tr>\n",
       "    <tr>\n",
       "      <th>6</th>\n",
       "      <td>0.014562</td>\n",
       "      <td>0.000578</td>\n",
       "      <td>0.013429</td>\n",
       "      <td>0.015695</td>\n",
       "      <td>0.020124</td>\n",
       "      <td>0.005561</td>\n",
       "    </tr>\n",
       "    <tr>\n",
       "      <th>7</th>\n",
       "      <td>0.004412</td>\n",
       "      <td>0.000221</td>\n",
       "      <td>0.003979</td>\n",
       "      <td>0.004846</td>\n",
       "      <td>0.006769</td>\n",
       "      <td>0.002356</td>\n",
       "    </tr>\n",
       "    <tr>\n",
       "      <th>8</th>\n",
       "      <td>0.001185</td>\n",
       "      <td>0.000073</td>\n",
       "      <td>0.001043</td>\n",
       "      <td>0.001327</td>\n",
       "      <td>0.002012</td>\n",
       "      <td>0.000827</td>\n",
       "    </tr>\n",
       "    <tr>\n",
       "      <th>9</th>\n",
       "      <td>0.000286</td>\n",
       "      <td>0.000021</td>\n",
       "      <td>0.000245</td>\n",
       "      <td>0.000327</td>\n",
       "      <td>0.000537</td>\n",
       "      <td>0.000250</td>\n",
       "    </tr>\n",
       "  </tbody>\n",
       "</table>\n",
       "</div>"
      ],
      "text/plain": [
       "   predicted        se  ci_lower  ci_upper   poisson      diff\n",
       "0   0.028432  0.002815  0.022916  0.033949  0.107848  0.079416\n",
       "1   0.306788  0.005008  0.296972  0.316604  0.237020 -0.069768\n",
       "2   0.300960  0.001375  0.298265  0.303656  0.263523 -0.037437\n",
       "3   0.200096  0.001873  0.196424  0.203767  0.197657 -0.002439\n",
       "4   0.101419  0.001991  0.097517  0.105320  0.112511  0.011093\n",
       "5   0.041781  0.001239  0.039353  0.044209  0.051833  0.010052\n",
       "6   0.014562  0.000578  0.013429  0.015695  0.020124  0.005561\n",
       "7   0.004412  0.000221  0.003979  0.004846  0.006769  0.002356\n",
       "8   0.001185  0.000073  0.001043  0.001327  0.002012  0.000827\n",
       "9   0.000286  0.000021  0.000245  0.000327  0.000537  0.000250"
      ]
     },
     "execution_count": 16,
     "metadata": {},
     "output_type": "execute_result"
    }
   ],
   "source": [
    "pred_p = res_p.get_prediction(ex, which=\"prob\", average=True)\n",
    "dfp_p = pred_p.summary_frame()\n",
    "dfp_h[\"poisson\"] = dfp_p[\"predicted\"]\n",
    "dfp_h[\"diff\"] = dfp_h[\"poisson\"] - dfp_h[\"predicted\"]\n",
    "dfp_h"
   ]
  },
  {
   "cell_type": "markdown",
   "id": "0da7fb38",
   "metadata": {},
   "source": [
    "## Other post-estimation\n",
    "\n",
    "The estimated hurdle model can be use for wald test of parameters and for prediction. Other maximum likelihood statistics such as loglikelihood value and information criteria are also available. \n",
    "\n",
    "However, some post-estimation methods that require helper functions that are not needed for estimation, parameter inference and prediction are not yet available. The main methods that are not supported yet are `score_test`, `get_distribution`, and `get_influence`. Diagnostic measures in `get_diagnostics` are only available for statistics that are based on prediction.\n",
    "\n"
   ]
  },
  {
   "cell_type": "code",
   "execution_count": 17,
   "id": "e821f6e8",
   "metadata": {
    "execution": {
     "iopub.execute_input": "2025-07-18T15:32:02.394591Z",
     "iopub.status.busy": "2025-07-18T15:32:02.393259Z",
     "iopub.status.idle": "2025-07-18T15:32:02.402748Z",
     "shell.execute_reply": "2025-07-18T15:32:02.401954Z"
    }
   },
   "outputs": [
    {
     "data": {
      "text/plain": [
       "(np.float64(-8004.904002793644),\n",
       " 4996,\n",
       " np.float64(16017.808005587289),\n",
       " np.float64(16043.876778352953))"
      ]
     },
     "execution_count": 17,
     "metadata": {},
     "output_type": "execute_result"
    }
   ],
   "source": [
    "res_h.llf, res_h.df_resid, res_h.aic, res_h.bic"
   ]
  },
  {
   "cell_type": "markdown",
   "id": "31d2ae62",
   "metadata": {},
   "source": [
    "Is there excess dispersion? We can use the pearson residuals to compute a pearson chi2 statistics which should be close to 1 if the model is correctly specified."
   ]
  },
  {
   "cell_type": "code",
   "execution_count": 18,
   "id": "9f1a5124",
   "metadata": {
    "execution": {
     "iopub.execute_input": "2025-07-18T15:32:02.407113Z",
     "iopub.status.busy": "2025-07-18T15:32:02.406763Z",
     "iopub.status.idle": "2025-07-18T15:32:02.416706Z",
     "shell.execute_reply": "2025-07-18T15:32:02.415922Z"
    }
   },
   "outputs": [
    {
     "data": {
      "text/plain": [
       "np.float64(0.9989670114949286)"
      ]
     },
     "execution_count": 18,
     "metadata": {},
     "output_type": "execute_result"
    }
   ],
   "source": [
    "(res_h.resid_pearson**2).sum() / res_h.df_resid"
   ]
  },
  {
   "cell_type": "markdown",
   "id": "9ff9df60",
   "metadata": {},
   "source": [
    "The diagnostic class also has the predictive distribution which is used in the diagnostic plots. No other statistics or tests are currently availalbe."
   ]
  },
  {
   "cell_type": "code",
   "execution_count": 19,
   "id": "50ba5545",
   "metadata": {
    "execution": {
     "iopub.execute_input": "2025-07-18T15:32:02.420603Z",
     "iopub.status.busy": "2025-07-18T15:32:02.420281Z",
     "iopub.status.idle": "2025-07-18T15:32:02.428905Z",
     "shell.execute_reply": "2025-07-18T15:32:02.428119Z"
    }
   },
   "outputs": [
    {
     "data": {
      "text/plain": [
       "array([0.02044612, 0.29147174, 0.29856288, 0.20740118, 0.10990976,\n",
       "       0.04737579, 0.0172898 , 0.00548983, 0.00154646, 0.00039214])"
      ]
     },
     "execution_count": 19,
     "metadata": {},
     "output_type": "execute_result"
    }
   ],
   "source": [
    "dia_h.probs_predicted.mean(0)"
   ]
  },
  {
   "cell_type": "code",
   "execution_count": 20,
   "id": "c913a1bb",
   "metadata": {
    "execution": {
     "iopub.execute_input": "2025-07-18T15:32:02.433640Z",
     "iopub.status.busy": "2025-07-18T15:32:02.432502Z",
     "iopub.status.idle": "2025-07-18T15:32:02.442353Z",
     "shell.execute_reply": "2025-07-18T15:32:02.441422Z"
    }
   },
   "outputs": [
    {
     "data": {
      "text/plain": [
       "array([ 1.10849337,  1.10830496, -0.89188344, -0.89207183,  1.10773978,\n",
       "       -0.8924486 , -0.89263697,  0.10717466,  0.1069863 ,  0.10679794])"
      ]
     },
     "execution_count": 20,
     "metadata": {},
     "output_type": "execute_result"
    }
   ],
   "source": [
    "res_h.resid[:10]"
   ]
  }
 ],
 "metadata": {
  "kernelspec": {
   "display_name": "Python 3 (ipykernel)",
   "language": "python",
   "name": "python3"
  },
  "language_info": {
   "codemirror_mode": {
    "name": "ipython",
    "version": 3
   },
   "file_extension": ".py",
   "mimetype": "text/x-python",
   "name": "python",
   "nbconvert_exporter": "python",
   "pygments_lexer": "ipython3",
   "version": "3.10.18"
  }
 },
 "nbformat": 4,
 "nbformat_minor": 5
}
