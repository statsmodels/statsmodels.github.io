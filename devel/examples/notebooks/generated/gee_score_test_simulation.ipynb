{
 "cells": [
  {
   "cell_type": "markdown",
   "metadata": {},
   "source": [
    "# GEE score tests\n",
    "\n",
    "This notebook uses simulation to demonstrate robust GEE score tests.  These tests can be used in a GEE analysis to compare nested hypotheses about the mean structure.  The tests are robust to miss-specification of the working correlation model, and to certain forms of misspecification of the variance structure (e.g. as captured by the scale parameter in a quasi-Poisson analysis).\n",
    "\n",
    "The data are simulated as clusters, where there is dependence within but not between clusters.  The cluster-wise dependence is induced using a copula approach.  The data marginally follow a negative binomial (gamma/Poisson) mixture.\n",
    "\n",
    "The level and power of the tests are considered below to assess the performance of the tests."
   ]
  },
  {
   "cell_type": "code",
   "execution_count": 1,
   "metadata": {
    "execution": {
     "iopub.execute_input": "2024-04-16T17:33:52.634423Z",
     "iopub.status.busy": "2024-04-16T17:33:52.634197Z",
     "iopub.status.idle": "2024-04-16T17:33:55.144519Z",
     "shell.execute_reply": "2024-04-16T17:33:55.143455Z"
    }
   },
   "outputs": [],
   "source": [
    "import pandas as pd\n",
    "import numpy as np\n",
    "from scipy.stats.distributions import norm, poisson\n",
    "import statsmodels.api as sm\n",
    "import matplotlib.pyplot as plt"
   ]
  },
  {
   "cell_type": "markdown",
   "metadata": {},
   "source": [
    "The function defined in the following cell uses a copula approach to simulate correlated random values that marginally follow a negative binomial distribution.  The input parameter `u` is an array of values in (0, 1).  The elements of `u` must be marginally uniformly distributed on (0, 1).  Correlation in `u` will induce correlations in the returned negative binomial values.  The array parameter `mu` gives the marginal means, and the scalar parameter `scale` defines the mean/variance relationship (the variance is `scale` times the mean).  The lengths of `u` and `mu` must be the same."
   ]
  },
  {
   "cell_type": "code",
   "execution_count": 2,
   "metadata": {
    "execution": {
     "iopub.execute_input": "2024-04-16T17:33:55.148877Z",
     "iopub.status.busy": "2024-04-16T17:33:55.148432Z",
     "iopub.status.idle": "2024-04-16T17:33:55.152909Z",
     "shell.execute_reply": "2024-04-16T17:33:55.152302Z"
    },
    "lines_to_next_cell": 1
   },
   "outputs": [],
   "source": [
    "def negbinom(u, mu, scale):\n",
    "    p = (scale - 1) / scale\n",
    "    r = mu * (1 - p) / p\n",
    "    x = np.random.gamma(r, p / (1 - p), len(u))\n",
    "    return poisson.ppf(u, mu=x)"
   ]
  },
  {
   "cell_type": "markdown",
   "metadata": {},
   "source": [
    "Below are some parameters that govern the data used in the simulation."
   ]
  },
  {
   "cell_type": "code",
   "execution_count": 3,
   "metadata": {
    "execution": {
     "iopub.execute_input": "2024-04-16T17:33:55.156291Z",
     "iopub.status.busy": "2024-04-16T17:33:55.155818Z",
     "iopub.status.idle": "2024-04-16T17:33:55.160549Z",
     "shell.execute_reply": "2024-04-16T17:33:55.159880Z"
    }
   },
   "outputs": [],
   "source": [
    "# Sample size\n",
    "n = 1000\n",
    "\n",
    "# Number of covariates (including intercept) in the alternative hypothesis model\n",
    "p = 5\n",
    "\n",
    "# Cluster size\n",
    "m = 10\n",
    "\n",
    "# Intraclass correlation (controls strength of clustering)\n",
    "r = 0.5\n",
    "\n",
    "# Group indicators\n",
    "grp = np.kron(np.arange(n/m), np.ones(m))"
   ]
  },
  {
   "cell_type": "markdown",
   "metadata": {},
   "source": [
    "The simulation uses a fixed design matrix."
   ]
  },
  {
   "cell_type": "code",
   "execution_count": 4,
   "metadata": {
    "execution": {
     "iopub.execute_input": "2024-04-16T17:33:55.163297Z",
     "iopub.status.busy": "2024-04-16T17:33:55.162922Z",
     "iopub.status.idle": "2024-04-16T17:33:55.167702Z",
     "shell.execute_reply": "2024-04-16T17:33:55.166885Z"
    }
   },
   "outputs": [],
   "source": [
    "# Build a design matrix for the alternative (more complex) model\n",
    "x = np.random.normal(size=(n, p))\n",
    "x[:, 0] = 1"
   ]
  },
  {
   "cell_type": "markdown",
   "metadata": {},
   "source": [
    "The null design matrix is nested in the alternative design matrix.  It has rank two less than the alternative design matrix."
   ]
  },
  {
   "cell_type": "code",
   "execution_count": 5,
   "metadata": {
    "execution": {
     "iopub.execute_input": "2024-04-16T17:33:55.170709Z",
     "iopub.status.busy": "2024-04-16T17:33:55.170473Z",
     "iopub.status.idle": "2024-04-16T17:33:55.175394Z",
     "shell.execute_reply": "2024-04-16T17:33:55.174536Z"
    }
   },
   "outputs": [],
   "source": [
    "x0 = x[:, 0:3]"
   ]
  },
  {
   "cell_type": "markdown",
   "metadata": {},
   "source": [
    "The GEE score test is robust to dependence and overdispersion.  Here we set the overdispersion parameter.  The variance of the negative binomial distribution for each observation is equal to `scale` times its mean value."
   ]
  },
  {
   "cell_type": "code",
   "execution_count": 6,
   "metadata": {
    "execution": {
     "iopub.execute_input": "2024-04-16T17:33:55.178465Z",
     "iopub.status.busy": "2024-04-16T17:33:55.178242Z",
     "iopub.status.idle": "2024-04-16T17:33:55.181694Z",
     "shell.execute_reply": "2024-04-16T17:33:55.180912Z"
    }
   },
   "outputs": [],
   "source": [
    "# Scale parameter for negative binomial distribution\n",
    "scale = 10"
   ]
  },
  {
   "cell_type": "markdown",
   "metadata": {},
   "source": [
    "In the next cell, we set up the mean structures for the null and alternative models"
   ]
  },
  {
   "cell_type": "code",
   "execution_count": 7,
   "metadata": {
    "execution": {
     "iopub.execute_input": "2024-04-16T17:33:55.184649Z",
     "iopub.status.busy": "2024-04-16T17:33:55.184411Z",
     "iopub.status.idle": "2024-04-16T17:33:55.189509Z",
     "shell.execute_reply": "2024-04-16T17:33:55.188757Z"
    }
   },
   "outputs": [],
   "source": [
    "# The coefficients used to define the linear predictors\n",
    "coeff = [[4, 0.4, -0.2], [4, 0.4, -0.2, 0, -0.04]]\n",
    "\n",
    "# The linear predictors\n",
    "lp = [np.dot(x0, coeff[0]), np.dot(x, coeff[1])]\n",
    "\n",
    "# The mean values\n",
    "mu = [np.exp(lp[0]), np.exp(lp[1])]"
   ]
  },
  {
   "cell_type": "markdown",
   "metadata": {},
   "source": [
    "Below is a function that carries out the simulation."
   ]
  },
  {
   "cell_type": "code",
   "execution_count": 8,
   "metadata": {
    "execution": {
     "iopub.execute_input": "2024-04-16T17:33:55.192722Z",
     "iopub.status.busy": "2024-04-16T17:33:55.192492Z",
     "iopub.status.idle": "2024-04-16T17:33:55.208976Z",
     "shell.execute_reply": "2024-04-16T17:33:55.208347Z"
    }
   },
   "outputs": [],
   "source": [
    "# hyp = 0 is the null hypothesis, hyp = 1 is the alternative hypothesis.\n",
    "# cov_struct is a statsmodels covariance structure\n",
    "def dosim(hyp, cov_struct=None, mcrep=500):\n",
    "    \n",
    "    # Storage for the simulation results\n",
    "    scales = [[], []]\n",
    "    \n",
    "    # P-values from the score test\n",
    "    pv = []\n",
    "    \n",
    "    # Monte Carlo loop\n",
    "    for k in range(mcrep):\n",
    "\n",
    "        # Generate random \"probability points\" u  that are uniformly \n",
    "        # distributed, and correlated within clusters\n",
    "        z = np.random.normal(size=n)\n",
    "        u = np.random.normal(size=n//m)\n",
    "        u = np.kron(u, np.ones(m))\n",
    "        z = r*z +np.sqrt(1-r**2)*u\n",
    "        u = norm.cdf(z)\n",
    "\n",
    "        # Generate the observed responses\n",
    "        y = negbinom(u, mu=mu[hyp], scale=scale)\n",
    "\n",
    "        # Fit the null model\n",
    "        m0 = sm.GEE(y, x0, groups=grp, cov_struct=cov_struct, family=sm.families.Poisson())\n",
    "        r0 = m0.fit(scale='X2')\n",
    "        scales[0].append(r0.scale)\n",
    "        \n",
    "        # Fit the alternative model\n",
    "        m1 = sm.GEE(y, x, groups=grp, cov_struct=cov_struct, family=sm.families.Poisson())\n",
    "        r1 = m1.fit(scale='X2')\n",
    "        scales[1].append(r1.scale)\n",
    "        \n",
    "        # Carry out the score test\n",
    "        st = m1.compare_score_test(r0)\n",
    "        pv.append(st[\"p-value\"])\n",
    "\n",
    "    pv = np.asarray(pv)\n",
    "    rslt = [np.mean(pv), np.mean(pv < 0.1)]\n",
    "    \n",
    "    return rslt, scales"
   ]
  },
  {
   "cell_type": "markdown",
   "metadata": {},
   "source": [
    "Run the simulation using the independence working covariance structure.  We expect the mean to be around 0 under the null hypothesis, and much lower under the alternative hypothesis.  Similarly, we expect that under the null hypothesis, around 10% of the p-values are less than 0.1, and a much greater fraction of the p-values are less than 0.1 under the alternative hypothesis."
   ]
  },
  {
   "cell_type": "code",
   "execution_count": 9,
   "metadata": {
    "execution": {
     "iopub.execute_input": "2024-04-16T17:33:55.212573Z",
     "iopub.status.busy": "2024-04-16T17:33:55.212098Z",
     "iopub.status.idle": "2024-04-16T17:36:24.846407Z",
     "shell.execute_reply": "2024-04-16T17:36:24.845770Z"
    }
   },
   "outputs": [
    {
     "name": "stdout",
     "output_type": "stream",
     "text": [
      "        Mean  Prop(p<0.1)\n",
      "H0  0.513351        0.096\n",
      "H1  0.038836        0.904\n"
     ]
    }
   ],
   "source": [
    "rslt, scales = [], []\n",
    "\n",
    "for hyp in 0, 1:\n",
    "    s, t = dosim(hyp, sm.cov_struct.Independence())\n",
    "    rslt.append(s)\n",
    "    scales.append(t)\n",
    "    \n",
    "rslt = pd.DataFrame(rslt, index=[\"H0\", \"H1\"], columns=[\"Mean\", \"Prop(p<0.1)\"])\n",
    "\n",
    "print(rslt)"
   ]
  },
  {
   "cell_type": "markdown",
   "metadata": {},
   "source": [
    "Next we check to make sure that the scale parameter estimates are reasonable. We are assessing the robustness of the GEE score test to dependence and overdispersion, so here we are confirming that the overdispersion is present as expected."
   ]
  },
  {
   "cell_type": "code",
   "execution_count": 10,
   "metadata": {
    "execution": {
     "iopub.execute_input": "2024-04-16T17:36:24.850818Z",
     "iopub.status.busy": "2024-04-16T17:36:24.849756Z",
     "iopub.status.idle": "2024-04-16T17:36:25.367458Z",
     "shell.execute_reply": "2024-04-16T17:36:25.366661Z"
    }
   },
   "outputs": [
    {
     "data": {
      "text/plain": [
       "Text(0, 0.5, 'Estimated scale')"
      ]
     },
     "execution_count": 10,
     "metadata": {},
     "output_type": "execute_result"
    },
    {
     "data": {
      "image/png": "[encoded data removed]",
      "text/plain": [
       "<Figure size 640x480 with 1 Axes>"
      ]
     },
     "metadata": {},
     "output_type": "display_data"
    }
   ],
   "source": [
    "_ = plt.boxplot([scales[0][0], scales[0][1], scales[1][0], scales[1][1]])\n",
    "plt.ylabel(\"Estimated scale\")"
   ]
  },
  {
   "cell_type": "markdown",
   "metadata": {},
   "source": [
    "Next we conduct the same analysis using an exchangeable working correlation model.  Note that this will be slower than the example above using independent working correlation, so we use fewer Monte Carlo repetitions."
   ]
  },
  {
   "cell_type": "code",
   "execution_count": 11,
   "metadata": {
    "execution": {
     "iopub.execute_input": "2024-04-16T17:36:25.370715Z",
     "iopub.status.busy": "2024-04-16T17:36:25.370417Z",
     "iopub.status.idle": "2024-04-16T17:37:46.519003Z",
     "shell.execute_reply": "2024-04-16T17:37:46.517739Z"
    }
   },
   "outputs": [
    {
     "name": "stdout",
     "output_type": "stream",
     "text": [
      "        Mean  Prop(p<0.1)\n",
      "H0  0.514727         0.09\n",
      "H1  0.031633         0.91\n"
     ]
    }
   ],
   "source": [
    "rslt, scales = [], []\n",
    "\n",
    "for hyp in 0, 1:\n",
    "    s, t = dosim(hyp, sm.cov_struct.Exchangeable(), mcrep=100)\n",
    "    rslt.append(s)\n",
    "    scales.append(t)\n",
    "    \n",
    "rslt = pd.DataFrame(rslt, index=[\"H0\", \"H1\"], columns=[\"Mean\", \"Prop(p<0.1)\"])\n",
    "\n",
    "print(rslt)"
   ]
  }
 ],
 "metadata": {
  "jupytext": {
   "cell_metadata_filter": "-all",
   "main_language": "python",
   "notebook_metadata_filter": "-all"
  },
  "kernelspec": {
   "display_name": "Python 3",
   "language": "python",
   "name": "python3"
  },
  "language_info": {
   "codemirror_mode": {
    "name": "ipython",
    "version": 3
   },
   "file_extension": ".py",
   "mimetype": "text/x-python",
   "name": "python",
   "nbconvert_exporter": "python",
   "pygments_lexer": "ipython3",
   "version": "3.10.14"
  }
 },
 "nbformat": 4,
 "nbformat_minor": 4
}
