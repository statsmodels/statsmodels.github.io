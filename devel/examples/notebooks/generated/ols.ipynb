{
 "cells": [
  {
   "cell_type": "markdown",
   "metadata": {},
   "source": [
    "# Ordinary Least Squares"
   ]
  },
  {
   "cell_type": "code",
   "execution_count": 1,
   "metadata": {
    "execution": {
     "iopub.execute_input": "2023-10-17T10:25:31.505776Z",
     "iopub.status.busy": "2023-10-17T10:25:31.505545Z",
     "iopub.status.idle": "2023-10-17T10:25:31.999524Z",
     "shell.execute_reply": "2023-10-17T10:25:31.998678Z"
    }
   },
   "outputs": [],
   "source": [
    "%matplotlib inline"
   ]
  },
  {
   "cell_type": "code",
   "execution_count": 2,
   "metadata": {
    "execution": {
     "iopub.execute_input": "2023-10-17T10:25:32.006382Z",
     "iopub.status.busy": "2023-10-17T10:25:32.005104Z",
     "iopub.status.idle": "2023-10-17T10:25:32.755165Z",
     "shell.execute_reply": "2023-10-17T10:25:32.754352Z"
    }
   },
   "outputs": [],
   "source": [
    "import matplotlib.pyplot as plt\n",
    "import numpy as np\n",
    "import pandas as pd\n",
    "import statsmodels.api as sm\n",
    "\n",
    "np.random.seed(9876789)"
   ]
  },
  {
   "cell_type": "markdown",
   "metadata": {},
   "source": [
    "## OLS estimation\n",
    "\n",
    "Artificial data:"
   ]
  },
  {
   "cell_type": "code",
   "execution_count": 3,
   "metadata": {
    "execution": {
     "iopub.execute_input": "2023-10-17T10:25:32.759887Z",
     "iopub.status.busy": "2023-10-17T10:25:32.758658Z",
     "iopub.status.idle": "2023-10-17T10:25:32.764212Z",
     "shell.execute_reply": "2023-10-17T10:25:32.763623Z"
    }
   },
   "outputs": [],
   "source": [
    "nsample = 100\n",
    "x = np.linspace(0, 10, 100)\n",
    "X = np.column_stack((x, x ** 2))\n",
    "beta = np.array([1, 0.1, 10])\n",
    "e = np.random.normal(size=nsample)"
   ]
  },
  {
   "cell_type": "markdown",
   "metadata": {},
   "source": [
    "Our model needs an intercept so we add a column of 1s:"
   ]
  },
  {
   "cell_type": "code",
   "execution_count": 4,
   "metadata": {
    "execution": {
     "iopub.execute_input": "2023-10-17T10:25:32.768394Z",
     "iopub.status.busy": "2023-10-17T10:25:32.767298Z",
     "iopub.status.idle": "2023-10-17T10:25:32.771899Z",
     "shell.execute_reply": "2023-10-17T10:25:32.771354Z"
    }
   },
   "outputs": [],
   "source": [
    "X = sm.add_constant(X)\n",
    "y = np.dot(X, beta) + e"
   ]
  },
  {
   "cell_type": "markdown",
   "metadata": {},
   "source": [
    "Fit and summary:"
   ]
  },
  {
   "cell_type": "code",
   "execution_count": 5,
   "metadata": {
    "execution": {
     "iopub.execute_input": "2023-10-17T10:25:32.775961Z",
     "iopub.status.busy": "2023-10-17T10:25:32.774893Z",
     "iopub.status.idle": "2023-10-17T10:25:32.787749Z",
     "shell.execute_reply": "2023-10-17T10:25:32.787194Z"
    }
   },
   "outputs": [
    {
     "name": "stdout",
     "output_type": "stream",
     "text": [
      "                            OLS Regression Results                            \n",
      "==============================================================================\n",
      "Dep. Variable:                      y   R-squared:                       1.000\n",
      "Model:                            OLS   Adj. R-squared:                  1.000\n",
      "Method:                 Least Squares   F-statistic:                 4.020e+06\n",
      "Date:                Tue, 17 Oct 2023   Prob (F-statistic):          2.83e-239\n",
      "Time:                        10:25:32   Log-Likelihood:                -146.51\n",
      "No. Observations:                 100   AIC:                             299.0\n",
      "Df Residuals:                      97   BIC:                             306.8\n",
      "Df Model:                           2                                         \n",
      "Covariance Type:            nonrobust                                         \n",
      "==============================================================================\n",
      "                 coef    std err          t      P>|t|      [0.025      0.975]\n",
      "------------------------------------------------------------------------------\n",
      "const          1.3423      0.313      4.292      0.000       0.722       1.963\n",
      "x1            -0.0402      0.145     -0.278      0.781      -0.327       0.247\n",
      "x2            10.0103      0.014    715.745      0.000       9.982      10.038\n",
      "==============================================================================\n",
      "Omnibus:                        2.042   Durbin-Watson:                   2.274\n",
      "Prob(Omnibus):                  0.360   Jarque-Bera (JB):                1.875\n",
      "Skew:                           0.234   Prob(JB):                        0.392\n",
      "Kurtosis:                       2.519   Cond. No.                         144.\n",
      "==============================================================================\n",
      "\n",
      "Notes:\n",
      "[1] Standard Errors assume that the covariance matrix of the errors is correctly specified.\n"
     ]
    }
   ],
   "source": [
    "model = sm.OLS(y, X)\n",
    "results = model.fit()\n",
    "print(results.summary())"
   ]
  },
  {
   "cell_type": "markdown",
   "metadata": {},
   "source": [
    "Quantities of interest can be extracted directly from the fitted model. Type ``dir(results)`` for a full list. Here are some examples:  "
   ]
  },
  {
   "cell_type": "code",
   "execution_count": 6,
   "metadata": {
    "execution": {
     "iopub.execute_input": "2023-10-17T10:25:32.791820Z",
     "iopub.status.busy": "2023-10-17T10:25:32.790746Z",
     "iopub.status.idle": "2023-10-17T10:25:32.796906Z",
     "shell.execute_reply": "2023-10-17T10:25:32.796354Z"
    }
   },
   "outputs": [
    {
     "name": "stdout",
     "output_type": "stream",
     "text": [
      "Parameters:  [ 1.34233516 -0.04024948 10.01025357]\n",
      "R2:  0.9999879365025871\n"
     ]
    }
   ],
   "source": [
    "print(\"Parameters: \", results.params)\n",
    "print(\"R2: \", results.rsquared)"
   ]
  },
  {
   "cell_type": "markdown",
   "metadata": {},
   "source": [
    "## OLS non-linear curve but linear in parameters\n",
    "\n",
    "We simulate artificial data with a non-linear relationship between x and y:"
   ]
  },
  {
   "cell_type": "code",
   "execution_count": 7,
   "metadata": {
    "execution": {
     "iopub.execute_input": "2023-10-17T10:25:32.800956Z",
     "iopub.status.busy": "2023-10-17T10:25:32.799872Z",
     "iopub.status.idle": "2023-10-17T10:25:32.805548Z",
     "shell.execute_reply": "2023-10-17T10:25:32.804999Z"
    }
   },
   "outputs": [],
   "source": [
    "nsample = 50\n",
    "sig = 0.5\n",
    "x = np.linspace(0, 20, nsample)\n",
    "X = np.column_stack((x, np.sin(x), (x - 5) ** 2, np.ones(nsample)))\n",
    "beta = [0.5, 0.5, -0.02, 5.0]\n",
    "\n",
    "y_true = np.dot(X, beta)\n",
    "y = y_true + sig * np.random.normal(size=nsample)"
   ]
  },
  {
   "cell_type": "markdown",
   "metadata": {},
   "source": [
    "Fit and summary:"
   ]
  },
  {
   "cell_type": "code",
   "execution_count": 8,
   "metadata": {
    "execution": {
     "iopub.execute_input": "2023-10-17T10:25:32.809624Z",
     "iopub.status.busy": "2023-10-17T10:25:32.808555Z",
     "iopub.status.idle": "2023-10-17T10:25:32.820611Z",
     "shell.execute_reply": "2023-10-17T10:25:32.819780Z"
    }
   },
   "outputs": [
    {
     "name": "stdout",
     "output_type": "stream",
     "text": [
      "                            OLS Regression Results                            \n",
      "==============================================================================\n",
      "Dep. Variable:                      y   R-squared:                       0.933\n",
      "Model:                            OLS   Adj. R-squared:                  0.928\n",
      "Method:                 Least Squares   F-statistic:                     211.8\n",
      "Date:                Tue, 17 Oct 2023   Prob (F-statistic):           6.30e-27\n",
      "Time:                        10:25:32   Log-Likelihood:                -34.438\n",
      "No. Observations:                  50   AIC:                             76.88\n",
      "Df Residuals:                      46   BIC:                             84.52\n",
      "Df Model:                           3                                         \n",
      "Covariance Type:            nonrobust                                         \n",
      "==============================================================================\n",
      "                 coef    std err          t      P>|t|      [0.025      0.975]\n",
      "------------------------------------------------------------------------------\n",
      "x1             0.4687      0.026     17.751      0.000       0.416       0.522\n",
      "x2             0.4836      0.104      4.659      0.000       0.275       0.693\n",
      "x3            -0.0174      0.002     -7.507      0.000      -0.022      -0.013\n",
      "const          5.2058      0.171     30.405      0.000       4.861       5.550\n",
      "==============================================================================\n",
      "Omnibus:                        0.655   Durbin-Watson:                   2.896\n",
      "Prob(Omnibus):                  0.721   Jarque-Bera (JB):                0.360\n",
      "Skew:                           0.207   Prob(JB):                        0.835\n",
      "Kurtosis:                       3.026   Cond. No.                         221.\n",
      "==============================================================================\n",
      "\n",
      "Notes:\n",
      "[1] Standard Errors assume that the covariance matrix of the errors is correctly specified.\n"
     ]
    }
   ],
   "source": [
    "res = sm.OLS(y, X).fit()\n",
    "print(res.summary())"
   ]
  },
  {
   "cell_type": "markdown",
   "metadata": {},
   "source": [
    "Extract other quantities of interest:"
   ]
  },
  {
   "cell_type": "code",
   "execution_count": 9,
   "metadata": {
    "execution": {
     "iopub.execute_input": "2023-10-17T10:25:32.824755Z",
     "iopub.status.busy": "2023-10-17T10:25:32.823669Z",
     "iopub.status.idle": "2023-10-17T10:25:32.830516Z",
     "shell.execute_reply": "2023-10-17T10:25:32.829964Z"
    }
   },
   "outputs": [
    {
     "name": "stdout",
     "output_type": "stream",
     "text": [
      "Parameters:  [ 0.46872448  0.48360119 -0.01740479  5.20584496]\n",
      "Standard errors:  [0.02640602 0.10380518 0.00231847 0.17121765]\n",
      "Predicted values:  [ 4.77072516  5.22213464  5.63620761  5.98658823  6.25643234  6.44117491\n",
      "  6.54928009  6.60085051  6.62432454  6.6518039   6.71377946  6.83412169\n",
      "  7.02615877  7.29048685  7.61487206  7.97626054  8.34456611  8.68761335\n",
      "  8.97642389  9.18997755  9.31866582  9.36587056  9.34740836  9.28893189\n",
      "  9.22171529  9.17751587  9.1833565   9.25708583  9.40444579  9.61812821\n",
      "  9.87897556 10.15912843 10.42660281 10.65054491 10.8063004  10.87946503\n",
      " 10.86825119 10.78378163 10.64826203 10.49133265 10.34519853 10.23933827\n",
      " 10.19566084 10.22490593 10.32487947 10.48081414 10.66779556 10.85485568\n",
      " 11.01006072 11.10575781]\n"
     ]
    }
   ],
   "source": [
    "print(\"Parameters: \", res.params)\n",
    "print(\"Standard errors: \", res.bse)\n",
    "print(\"Predicted values: \", res.predict())"
   ]
  },
  {
   "cell_type": "markdown",
   "metadata": {},
   "source": [
    "Draw a plot to compare the true relationship to OLS predictions. Confidence intervals around the predictions are built using the ``wls_prediction_std`` command."
   ]
  },
  {
   "cell_type": "code",
   "execution_count": 10,
   "metadata": {
    "execution": {
     "iopub.execute_input": "2023-10-17T10:25:32.834651Z",
     "iopub.status.busy": "2023-10-17T10:25:32.833569Z",
     "iopub.status.idle": "2023-10-17T10:25:33.110177Z",
     "shell.execute_reply": "2023-10-17T10:25:33.109520Z"
    }
   },
   "outputs": [
    {
     "data": {
      "text/plain": [
       "<matplotlib.legend.Legend at 0x7f3cebd23400>"
      ]
     },
     "execution_count": 10,
     "metadata": {},
     "output_type": "execute_result"
    },
    {
     "data": {
      "image/png": "[encoded data removed]",
      "text/plain": [
       "<Figure size 800x600 with 1 Axes>"
      ]
     },
     "metadata": {},
     "output_type": "display_data"
    }
   ],
   "source": [
    "pred_ols = res.get_prediction()\n",
    "iv_l = pred_ols.summary_frame()[\"obs_ci_lower\"]\n",
    "iv_u = pred_ols.summary_frame()[\"obs_ci_upper\"]\n",
    "\n",
    "fig, ax = plt.subplots(figsize=(8, 6))\n",
    "\n",
    "ax.plot(x, y, \"o\", label=\"data\")\n",
    "ax.plot(x, y_true, \"b-\", label=\"True\")\n",
    "ax.plot(x, res.fittedvalues, \"r--.\", label=\"OLS\")\n",
    "ax.plot(x, iv_u, \"r--\")\n",
    "ax.plot(x, iv_l, \"r--\")\n",
    "ax.legend(loc=\"best\")"
   ]
  },
  {
   "cell_type": "markdown",
   "metadata": {},
   "source": [
    "## OLS with dummy variables\n",
    "\n",
    "We generate some artificial data. There are 3 groups which will be modelled using dummy variables. Group 0 is the omitted/benchmark category."
   ]
  },
  {
   "cell_type": "code",
   "execution_count": 11,
   "metadata": {
    "execution": {
     "iopub.execute_input": "2023-10-17T10:25:33.114849Z",
     "iopub.status.busy": "2023-10-17T10:25:33.113729Z",
     "iopub.status.idle": "2023-10-17T10:25:33.121454Z",
     "shell.execute_reply": "2023-10-17T10:25:33.120870Z"
    }
   },
   "outputs": [],
   "source": [
    "nsample = 50\n",
    "groups = np.zeros(nsample, int)\n",
    "groups[20:40] = 1\n",
    "groups[40:] = 2\n",
    "# dummy = (groups[:,None] == np.unique(groups)).astype(float)\n",
    "\n",
    "dummy = pd.get_dummies(groups).values\n",
    "x = np.linspace(0, 20, nsample)\n",
    "# drop reference category\n",
    "X = np.column_stack((x, dummy[:, 1:]))\n",
    "X = sm.add_constant(X, prepend=False)\n",
    "\n",
    "beta = [1.0, 3, -3, 10]\n",
    "y_true = np.dot(X, beta)\n",
    "e = np.random.normal(size=nsample)\n",
    "y = y_true + e"
   ]
  },
  {
   "cell_type": "markdown",
   "metadata": {},
   "source": [
    "Inspect the data:"
   ]
  },
  {
   "cell_type": "code",
   "execution_count": 12,
   "metadata": {
    "execution": {
     "iopub.execute_input": "2023-10-17T10:25:33.125799Z",
     "iopub.status.busy": "2023-10-17T10:25:33.124704Z",
     "iopub.status.idle": "2023-10-17T10:25:33.131702Z",
     "shell.execute_reply": "2023-10-17T10:25:33.131133Z"
    }
   },
   "outputs": [
    {
     "name": "stdout",
     "output_type": "stream",
     "text": [
      "[[0.         0.         0.         1.        ]\n",
      " [0.40816327 0.         0.         1.        ]\n",
      " [0.81632653 0.         0.         1.        ]\n",
      " [1.2244898  0.         0.         1.        ]\n",
      " [1.63265306 0.         0.         1.        ]]\n",
      "[ 9.28223335 10.50481865 11.84389206 10.38508408 12.37941998]\n",
      "[0 0 0 0 0 0 0 0 0 0 0 0 0 0 0 0 0 0 0 0 1 1 1 1 1 1 1 1 1 1 1 1 1 1 1 1 1\n",
      " 1 1 1 2 2 2 2 2 2 2 2 2 2]\n",
      "[[ True False False]\n",
      " [ True False False]\n",
      " [ True False False]\n",
      " [ True False False]\n",
      " [ True False False]]\n"
     ]
    }
   ],
   "source": [
    "print(X[:5, :])\n",
    "print(y[:5])\n",
    "print(groups)\n",
    "print(dummy[:5, :])"
   ]
  },
  {
   "cell_type": "markdown",
   "metadata": {},
   "source": [
    "Fit and summary:"
   ]
  },
  {
   "cell_type": "code",
   "execution_count": 13,
   "metadata": {
    "execution": {
     "iopub.execute_input": "2023-10-17T10:25:33.135881Z",
     "iopub.status.busy": "2023-10-17T10:25:33.134802Z",
     "iopub.status.idle": "2023-10-17T10:25:33.147001Z",
     "shell.execute_reply": "2023-10-17T10:25:33.146437Z"
    }
   },
   "outputs": [
    {
     "name": "stdout",
     "output_type": "stream",
     "text": [
      "                            OLS Regression Results                            \n",
      "==============================================================================\n",
      "Dep. Variable:                      y   R-squared:                       0.978\n",
      "Model:                            OLS   Adj. R-squared:                  0.976\n",
      "Method:                 Least Squares   F-statistic:                     671.7\n",
      "Date:                Tue, 17 Oct 2023   Prob (F-statistic):           5.69e-38\n",
      "Time:                        10:25:33   Log-Likelihood:                -64.643\n",
      "No. Observations:                  50   AIC:                             137.3\n",
      "Df Residuals:                      46   BIC:                             144.9\n",
      "Df Model:                           3                                         \n",
      "Covariance Type:            nonrobust                                         \n",
      "==============================================================================\n",
      "                 coef    std err          t      P>|t|      [0.025      0.975]\n",
      "------------------------------------------------------------------------------\n",
      "x1             0.9999      0.060     16.689      0.000       0.879       1.121\n",
      "x2             2.8909      0.569      5.081      0.000       1.746       4.036\n",
      "x3            -3.2232      0.927     -3.477      0.001      -5.089      -1.357\n",
      "const         10.1031      0.310     32.573      0.000       9.479      10.727\n",
      "==============================================================================\n",
      "Omnibus:                        2.831   Durbin-Watson:                   1.998\n",
      "Prob(Omnibus):                  0.243   Jarque-Bera (JB):                1.927\n",
      "Skew:                          -0.279   Prob(JB):                        0.382\n",
      "Kurtosis:                       2.217   Cond. No.                         96.3\n",
      "==============================================================================\n",
      "\n",
      "Notes:\n",
      "[1] Standard Errors assume that the covariance matrix of the errors is correctly specified.\n"
     ]
    }
   ],
   "source": [
    "res2 = sm.OLS(y, X).fit()\n",
    "print(res2.summary())"
   ]
  },
  {
   "cell_type": "markdown",
   "metadata": {},
   "source": [
    "Draw a plot to compare the true relationship to OLS predictions:"
   ]
  },
  {
   "cell_type": "code",
   "execution_count": 14,
   "metadata": {
    "execution": {
     "iopub.execute_input": "2023-10-17T10:25:33.151197Z",
     "iopub.status.busy": "2023-10-17T10:25:33.150116Z",
     "iopub.status.idle": "2023-10-17T10:25:33.365058Z",
     "shell.execute_reply": "2023-10-17T10:25:33.364414Z"
    }
   },
   "outputs": [
    {
     "data": {
      "image/png": "[encoded data removed]",
      "text/plain": [
       "<Figure size 800x600 with 1 Axes>"
      ]
     },
     "metadata": {},
     "output_type": "display_data"
    }
   ],
   "source": [
    "pred_ols2 = res2.get_prediction()\n",
    "iv_l = pred_ols2.summary_frame()[\"obs_ci_lower\"]\n",
    "iv_u = pred_ols2.summary_frame()[\"obs_ci_upper\"]\n",
    "\n",
    "fig, ax = plt.subplots(figsize=(8, 6))\n",
    "\n",
    "ax.plot(x, y, \"o\", label=\"Data\")\n",
    "ax.plot(x, y_true, \"b-\", label=\"True\")\n",
    "ax.plot(x, res2.fittedvalues, \"r--.\", label=\"Predicted\")\n",
    "ax.plot(x, iv_u, \"r--\")\n",
    "ax.plot(x, iv_l, \"r--\")\n",
    "legend = ax.legend(loc=\"best\")"
   ]
  },
  {
   "cell_type": "markdown",
   "metadata": {},
   "source": [
    "## Joint hypothesis test\n",
    "\n",
    "### F test\n",
    "\n",
    "We want to test the hypothesis that both coefficients on the dummy variables are equal to zero, that is, $R \\times \\beta = 0$. An F test leads us to strongly reject the null hypothesis of identical constant in the 3 groups:"
   ]
  },
  {
   "cell_type": "code",
   "execution_count": 15,
   "metadata": {
    "execution": {
     "iopub.execute_input": "2023-10-17T10:25:33.369610Z",
     "iopub.status.busy": "2023-10-17T10:25:33.368501Z",
     "iopub.status.idle": "2023-10-17T10:25:33.375836Z",
     "shell.execute_reply": "2023-10-17T10:25:33.375258Z"
    }
   },
   "outputs": [
    {
     "name": "stdout",
     "output_type": "stream",
     "text": [
      "[[0 1 0 0]\n",
      " [0 0 1 0]]\n",
      "<F test: F=145.49268198027985, p=1.2834419617282554e-20, df_denom=46, df_num=2>\n"
     ]
    }
   ],
   "source": [
    "R = [[0, 1, 0, 0], [0, 0, 1, 0]]\n",
    "print(np.array(R))\n",
    "print(res2.f_test(R))"
   ]
  },
  {
   "cell_type": "markdown",
   "metadata": {},
   "source": [
    "You can also use formula-like syntax to test hypotheses"
   ]
  },
  {
   "cell_type": "code",
   "execution_count": 16,
   "metadata": {
    "execution": {
     "iopub.execute_input": "2023-10-17T10:25:33.380189Z",
     "iopub.status.busy": "2023-10-17T10:25:33.379082Z",
     "iopub.status.idle": "2023-10-17T10:25:33.386345Z",
     "shell.execute_reply": "2023-10-17T10:25:33.385776Z"
    }
   },
   "outputs": [
    {
     "name": "stdout",
     "output_type": "stream",
     "text": [
      "<F test: F=145.49268198028003, p=1.2834419617282254e-20, df_denom=46, df_num=2>\n"
     ]
    }
   ],
   "source": [
    "print(res2.f_test(\"x2 = x3 = 0\"))"
   ]
  },
  {
   "cell_type": "markdown",
   "metadata": {},
   "source": [
    "### Small group effects\n",
    "\n",
    "If we generate artificial data with smaller group effects, the T test can no longer reject the Null hypothesis: "
   ]
  },
  {
   "cell_type": "code",
   "execution_count": 17,
   "metadata": {
    "execution": {
     "iopub.execute_input": "2023-10-17T10:25:33.390687Z",
     "iopub.status.busy": "2023-10-17T10:25:33.389596Z",
     "iopub.status.idle": "2023-10-17T10:25:33.395228Z",
     "shell.execute_reply": "2023-10-17T10:25:33.394661Z"
    }
   },
   "outputs": [],
   "source": [
    "beta = [1.0, 0.3, -0.0, 10]\n",
    "y_true = np.dot(X, beta)\n",
    "y = y_true + np.random.normal(size=nsample)\n",
    "\n",
    "res3 = sm.OLS(y, X).fit()"
   ]
  },
  {
   "cell_type": "code",
   "execution_count": 18,
   "metadata": {
    "execution": {
     "iopub.execute_input": "2023-10-17T10:25:33.399511Z",
     "iopub.status.busy": "2023-10-17T10:25:33.398419Z",
     "iopub.status.idle": "2023-10-17T10:25:33.405060Z",
     "shell.execute_reply": "2023-10-17T10:25:33.404481Z"
    }
   },
   "outputs": [
    {
     "name": "stdout",
     "output_type": "stream",
     "text": [
      "<F test: F=1.2249111925408935, p=0.3031864410631272, df_denom=46, df_num=2>\n"
     ]
    }
   ],
   "source": [
    "print(res3.f_test(R))"
   ]
  },
  {
   "cell_type": "code",
   "execution_count": 19,
   "metadata": {
    "execution": {
     "iopub.execute_input": "2023-10-17T10:25:33.409316Z",
     "iopub.status.busy": "2023-10-17T10:25:33.408237Z",
     "iopub.status.idle": "2023-10-17T10:25:33.415388Z",
     "shell.execute_reply": "2023-10-17T10:25:33.414828Z"
    }
   },
   "outputs": [
    {
     "name": "stdout",
     "output_type": "stream",
     "text": [
      "<F test: F=1.2249111925408938, p=0.3031864410631272, df_denom=46, df_num=2>\n"
     ]
    }
   ],
   "source": [
    "print(res3.f_test(\"x2 = x3 = 0\"))"
   ]
  },
  {
   "cell_type": "markdown",
   "metadata": {},
   "source": [
    "### Multicollinearity\n",
    "\n",
    "The Longley dataset is well known to have high multicollinearity. That is, the exogenous predictors are highly correlated. This is problematic because it can affect the stability of our coefficient estimates as we make minor changes to model specification. "
   ]
  },
  {
   "cell_type": "code",
   "execution_count": 20,
   "metadata": {
    "execution": {
     "iopub.execute_input": "2023-10-17T10:25:33.419591Z",
     "iopub.status.busy": "2023-10-17T10:25:33.418513Z",
     "iopub.status.idle": "2023-10-17T10:25:33.432309Z",
     "shell.execute_reply": "2023-10-17T10:25:33.431638Z"
    }
   },
   "outputs": [],
   "source": [
    "from statsmodels.datasets.longley import load_pandas\n",
    "\n",
    "y = load_pandas().endog\n",
    "X = load_pandas().exog\n",
    "X = sm.add_constant(X)"
   ]
  },
  {
   "cell_type": "markdown",
   "metadata": {},
   "source": [
    "Fit and summary:"
   ]
  },
  {
   "cell_type": "code",
   "execution_count": 21,
   "metadata": {
    "execution": {
     "iopub.execute_input": "2023-10-17T10:25:33.437384Z",
     "iopub.status.busy": "2023-10-17T10:25:33.435966Z",
     "iopub.status.idle": "2023-10-17T10:25:33.452647Z",
     "shell.execute_reply": "2023-10-17T10:25:33.452056Z"
    }
   },
   "outputs": [
    {
     "name": "stdout",
     "output_type": "stream",
     "text": [
      "                            OLS Regression Results                            \n",
      "==============================================================================\n",
      "Dep. Variable:                 TOTEMP   R-squared:                       0.995\n",
      "Model:                            OLS   Adj. R-squared:                  0.992\n",
      "Method:                 Least Squares   F-statistic:                     330.3\n",
      "Date:                Tue, 17 Oct 2023   Prob (F-statistic):           4.98e-10\n",
      "Time:                        10:25:33   Log-Likelihood:                -109.62\n",
      "No. Observations:                  16   AIC:                             233.2\n",
      "Df Residuals:                       9   BIC:                             238.6\n",
      "Df Model:                           6                                         \n",
      "Covariance Type:            nonrobust                                         \n",
      "==============================================================================\n",
      "                 coef    std err          t      P>|t|      [0.025      0.975]\n",
      "------------------------------------------------------------------------------\n",
      "const      -3.482e+06    8.9e+05     -3.911      0.004    -5.5e+06   -1.47e+06\n",
      "GNPDEFL       15.0619     84.915      0.177      0.863    -177.029     207.153\n",
      "GNP           -0.0358      0.033     -1.070      0.313      -0.112       0.040\n",
      "UNEMP         -2.0202      0.488     -4.136      0.003      -3.125      -0.915\n",
      "ARMED         -1.0332      0.214     -4.822      0.001      -1.518      -0.549\n",
      "POP           -0.0511      0.226     -0.226      0.826      -0.563       0.460\n",
      "YEAR        1829.1515    455.478      4.016      0.003     798.788    2859.515\n",
      "==============================================================================\n",
      "Omnibus:                        0.749   Durbin-Watson:                   2.559\n",
      "Prob(Omnibus):                  0.688   Jarque-Bera (JB):                0.684\n",
      "Skew:                           0.420   Prob(JB):                        0.710\n",
      "Kurtosis:                       2.434   Cond. No.                     4.86e+09\n",
      "==============================================================================\n",
      "\n",
      "Notes:\n",
      "[1] Standard Errors assume that the covariance matrix of the errors is correctly specified.\n",
      "[2] The condition number is large, 4.86e+09. This might indicate that there are\n",
      "strong multicollinearity or other numerical problems.\n"
     ]
    },
    {
     "name": "stderr",
     "output_type": "stream",
     "text": [
      "/opt/hostedtoolcache/Python/3.10.13/x64/lib/python3.10/site-packages/scipy/stats/stats.py:1541: UserWarning: kurtosistest only valid for n>=20 ... continuing anyway, n=16\n",
      "  warnings.warn(\"kurtosistest only valid for n>=20 ... continuing \"\n"
     ]
    }
   ],
   "source": [
    "ols_model = sm.OLS(y, X)\n",
    "ols_results = ols_model.fit()\n",
    "print(ols_results.summary())"
   ]
  },
  {
   "cell_type": "markdown",
   "metadata": {},
   "source": [
    "#### Condition number\n",
    "\n",
    "One way to assess multicollinearity is to compute the condition number. Values over 20 are worrisome (see Greene 4.9). The first step is to normalize the independent variables to have unit length: "
   ]
  },
  {
   "cell_type": "code",
   "execution_count": 22,
   "metadata": {
    "execution": {
     "iopub.execute_input": "2023-10-17T10:25:33.457018Z",
     "iopub.status.busy": "2023-10-17T10:25:33.455906Z",
     "iopub.status.idle": "2023-10-17T10:25:33.462347Z",
     "shell.execute_reply": "2023-10-17T10:25:33.461789Z"
    }
   },
   "outputs": [],
   "source": [
    "norm_x = X.values\n",
    "for i, name in enumerate(X):\n",
    "    if name == \"const\":\n",
    "        continue\n",
    "    norm_x[:, i] = X[name] / np.linalg.norm(X[name])\n",
    "norm_xtx = np.dot(norm_x.T, norm_x)"
   ]
  },
  {
   "cell_type": "markdown",
   "metadata": {},
   "source": [
    "Then, we take the square root of the ratio of the biggest to the smallest eigen values. "
   ]
  },
  {
   "cell_type": "code",
   "execution_count": 23,
   "metadata": {
    "execution": {
     "iopub.execute_input": "2023-10-17T10:25:33.466493Z",
     "iopub.status.busy": "2023-10-17T10:25:33.465427Z",
     "iopub.status.idle": "2023-10-17T10:25:33.471588Z",
     "shell.execute_reply": "2023-10-17T10:25:33.471042Z"
    }
   },
   "outputs": [
    {
     "name": "stdout",
     "output_type": "stream",
     "text": [
      "56240.86912116517\n"
     ]
    }
   ],
   "source": [
    "eigs = np.linalg.eigvals(norm_xtx)\n",
    "condition_number = np.sqrt(eigs.max() / eigs.min())\n",
    "print(condition_number)"
   ]
  },
  {
   "cell_type": "markdown",
   "metadata": {},
   "source": [
    "#### Dropping an observation\n",
    "\n",
    "Greene also points out that dropping a single observation can have a dramatic effect on the coefficient estimates: "
   ]
  },
  {
   "cell_type": "code",
   "execution_count": 24,
   "metadata": {
    "execution": {
     "iopub.execute_input": "2023-10-17T10:25:33.475695Z",
     "iopub.status.busy": "2023-10-17T10:25:33.474630Z",
     "iopub.status.idle": "2023-10-17T10:25:33.482557Z",
     "shell.execute_reply": "2023-10-17T10:25:33.482008Z"
    }
   },
   "outputs": [
    {
     "name": "stdout",
     "output_type": "stream",
     "text": [
      "Percentage change 4.55%\n",
      "Percentage change -105.20%\n",
      "Percentage change -3.43%\n",
      "Percentage change 2.92%\n",
      "Percentage change 3.32%\n",
      "Percentage change 97.06%\n",
      "Percentage change 4.64%\n",
      "\n"
     ]
    }
   ],
   "source": [
    "ols_results2 = sm.OLS(y.iloc[:14], X.iloc[:14]).fit()\n",
    "print(\n",
    "    \"Percentage change %4.2f%%\\n\"\n",
    "    * 7\n",
    "    % tuple(\n",
    "        [\n",
    "            i\n",
    "            for i in (ols_results2.params - ols_results.params)\n",
    "            / ols_results.params\n",
    "            * 100\n",
    "        ]\n",
    "    )\n",
    ")"
   ]
  },
  {
   "cell_type": "markdown",
   "metadata": {},
   "source": [
    "We can also look at formal statistics for this such as the DFBETAS -- a standardized measure of how much each coefficient changes when that observation is left out."
   ]
  },
  {
   "cell_type": "code",
   "execution_count": 25,
   "metadata": {
    "execution": {
     "iopub.execute_input": "2023-10-17T10:25:33.487063Z",
     "iopub.status.busy": "2023-10-17T10:25:33.485994Z",
     "iopub.status.idle": "2023-10-17T10:25:33.491133Z",
     "shell.execute_reply": "2023-10-17T10:25:33.490582Z"
    }
   },
   "outputs": [],
   "source": [
    "infl = ols_results.get_influence()"
   ]
  },
  {
   "cell_type": "markdown",
   "metadata": {},
   "source": [
    "In general we may consider DBETAS in absolute value greater than $2/\\sqrt{N}$ to be influential observations"
   ]
  },
  {
   "cell_type": "code",
   "execution_count": 26,
   "metadata": {
    "execution": {
     "iopub.execute_input": "2023-10-17T10:25:33.495182Z",
     "iopub.status.busy": "2023-10-17T10:25:33.494119Z",
     "iopub.status.idle": "2023-10-17T10:25:33.500622Z",
     "shell.execute_reply": "2023-10-17T10:25:33.500062Z"
    }
   },
   "outputs": [
    {
     "data": {
      "text/plain": [
       "0.5"
      ]
     },
     "execution_count": 26,
     "metadata": {},
     "output_type": "execute_result"
    }
   ],
   "source": [
    "2.0 / len(X) ** 0.5"
   ]
  },
  {
   "cell_type": "code",
   "execution_count": 27,
   "metadata": {
    "execution": {
     "iopub.execute_input": "2023-10-17T10:25:33.504633Z",
     "iopub.status.busy": "2023-10-17T10:25:33.503553Z",
     "iopub.status.idle": "2023-10-17T10:25:33.521671Z",
     "shell.execute_reply": "2023-10-17T10:25:33.521094Z"
    }
   },
   "outputs": [
    {
     "name": "stdout",
     "output_type": "stream",
     "text": [
      "    dfb_const  dfb_GNPDEFL   dfb_GNP  dfb_UNEMP  dfb_ARMED   dfb_POP  dfb_YEAR\n",
      "0   -0.016406    -0.234566 -0.045095  -0.121513  -0.149026  0.211057  0.013388\n",
      "1   -0.020608    -0.289091  0.124453   0.156964   0.287700 -0.161890  0.025958\n",
      "2   -0.008382     0.007161 -0.016799   0.009575   0.002227  0.014871  0.008103\n",
      "3    0.018093     0.907968 -0.500022  -0.495996   0.089996  0.711142 -0.040056\n",
      "4    1.871260    -0.219351  1.611418   1.561520   1.169337 -1.081513 -1.864186\n",
      "5   -0.321373    -0.077045 -0.198129  -0.192961  -0.430626  0.079916  0.323275\n",
      "6    0.315945    -0.241983  0.438146   0.471797  -0.019546 -0.448515 -0.307517\n",
      "7    0.015816    -0.002742  0.018591   0.005064  -0.031320 -0.015823 -0.015583\n",
      "8   -0.004019    -0.045687  0.023708   0.018125   0.013683 -0.034770  0.005116\n",
      "9   -1.018242    -0.282131 -0.412621  -0.663904  -0.715020 -0.229501  1.035723\n",
      "10   0.030947    -0.024781  0.029480   0.035361   0.034508 -0.014194 -0.030805\n",
      "11   0.005987    -0.079727  0.030276  -0.008883  -0.006854 -0.010693 -0.005323\n",
      "12  -0.135883     0.092325 -0.253027  -0.211465   0.094720  0.331351  0.129120\n",
      "13   0.032736    -0.024249  0.017510   0.033242   0.090655  0.007634 -0.033114\n",
      "14   0.305868     0.148070  0.001428   0.169314   0.253431  0.342982 -0.318031\n",
      "15  -0.538323     0.432004 -0.261262  -0.143444  -0.360890 -0.467296  0.552421\n"
     ]
    }
   ],
   "source": [
    "print(infl.summary_frame().filter(regex=\"dfb\"))"
   ]
  }
 ],
 "metadata": {
  "kernelspec": {
   "display_name": "Python 3",
   "language": "python",
   "name": "python3"
  },
  "language_info": {
   "codemirror_mode": {
    "name": "ipython",
    "version": 3
   },
   "file_extension": ".py",
   "mimetype": "text/x-python",
   "name": "python",
   "nbconvert_exporter": "python",
   "pygments_lexer": "ipython3",
   "version": "3.10.13"
  }
 },
 "nbformat": 4,
 "nbformat_minor": 4
}
