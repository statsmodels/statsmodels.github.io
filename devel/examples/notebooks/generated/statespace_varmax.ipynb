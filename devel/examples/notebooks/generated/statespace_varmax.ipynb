{
 "cells": [
  {
   "cell_type": "markdown",
   "metadata": {},
   "source": [
    "# VARMAX models\n",
    "\n",
    "This is a brief introduction notebook to VARMAX models in statsmodels. The VARMAX model is generically specified as:\n",
    "$$\n",
    "y_t = \\nu + A_1 y_{t-1} + \\dots + A_p y_{t-p} + B x_t + \\epsilon_t +\n",
    "M_1 \\epsilon_{t-1} + \\dots M_q \\epsilon_{t-q}\n",
    "$$\n",
    "\n",
    "where $y_t$ is a $\\mathrm{k_endog} \\times 1$ vector."
   ]
  },
  {
   "cell_type": "code",
   "execution_count": 1,
   "metadata": {
    "execution": {
     "iopub.execute_input": "2025-09-19T10:10:19.196381Z",
     "iopub.status.busy": "2025-09-19T10:10:19.195932Z",
     "iopub.status.idle": "2025-09-19T10:10:20.180537Z",
     "shell.execute_reply": "2025-09-19T10:10:20.179628Z"
    }
   },
   "outputs": [],
   "source": [
    "%matplotlib inline"
   ]
  },
  {
   "cell_type": "code",
   "execution_count": 2,
   "metadata": {
    "collapsed": false,
    "execution": {
     "iopub.execute_input": "2025-09-19T10:10:20.185425Z",
     "iopub.status.busy": "2025-09-19T10:10:20.185126Z",
     "iopub.status.idle": "2025-09-19T10:10:21.934702Z",
     "shell.execute_reply": "2025-09-19T10:10:21.933903Z"
    },
    "jupyter": {
     "outputs_hidden": false
    }
   },
   "outputs": [],
   "source": [
    "import matplotlib.pyplot as plt\n",
    "import numpy as np\n",
    "import pandas as pd\n",
    "import statsmodels.api as sm"
   ]
  },
  {
   "cell_type": "code",
   "execution_count": 3,
   "metadata": {
    "collapsed": false,
    "execution": {
     "iopub.execute_input": "2025-09-19T10:10:21.937692Z",
     "iopub.status.busy": "2025-09-19T10:10:21.937324Z",
     "iopub.status.idle": "2025-09-19T10:10:22.203282Z",
     "shell.execute_reply": "2025-09-19T10:10:22.202376Z"
    },
    "jupyter": {
     "outputs_hidden": false
    }
   },
   "outputs": [],
   "source": [
    "import shutil\n",
    "\n",
    "import requests\n",
    "\n",
    "\n",
    "def download_file(url):\n",
    "    local_filename = url.split(\"/\")[-1]\n",
    "    with requests.get(url, stream=True) as r:\n",
    "        with open(local_filename, \"wb\") as f:\n",
    "            shutil.copyfileobj(r.raw, f)\n",
    "\n",
    "    return local_filename\n",
    "\n",
    "\n",
    "filename = download_file(\"https://www.stata-press.com/data/r12/lutkepohl2.dta\")\n",
    "\n",
    "dta = pd.read_stata(filename)\n",
    "dta.index = dta.qtr\n",
    "dta.index.freq = dta.index.inferred_freq\n",
    "endog = dta.loc[\"1960-04-01\":\"1978-10-01\", [\"dln_inv\", \"dln_inc\", \"dln_consump\"]]"
   ]
  },
  {
   "cell_type": "markdown",
   "metadata": {},
   "source": [
    "## Model specification\n",
    "\n",
    "The `VARMAX` class in statsmodels allows estimation of VAR, VMA, and VARMA models (through the `order` argument), optionally with a constant term (via the `trend` argument). Exogenous regressors may also be included (as usual in statsmodels, by the `exog` argument), and in this way a time trend may be added. Finally, the class allows measurement error (via the `measurement_error` argument) and allows specifying either a diagonal or unstructured innovation covariance matrix (via the `error_cov_type` argument)."
   ]
  },
  {
   "cell_type": "markdown",
   "metadata": {},
   "source": [
    "## Example 1: VAR\n",
    "\n",
    "Below is a simple VARX(2) model in two endogenous variables and an exogenous series, but no constant term. Notice that we needed to allow for more iterations than the default (which is `maxiter=50`) in order for the likelihood estimation to converge. This is not unusual in VAR models which have to estimate a large number of parameters, often on a relatively small number of time series: this model, for example, estimates 27 parameters off of 75 observations of 3 variables."
   ]
  },
  {
   "cell_type": "code",
   "execution_count": 4,
   "metadata": {
    "collapsed": false,
    "execution": {
     "iopub.execute_input": "2025-09-19T10:10:22.208691Z",
     "iopub.status.busy": "2025-09-19T10:10:22.208395Z",
     "iopub.status.idle": "2025-09-19T10:21:01.495344Z",
     "shell.execute_reply": "2025-09-19T10:21:01.494701Z"
    },
    "jupyter": {
     "outputs_hidden": false
    }
   },
   "outputs": [
    {
     "name": "stdout",
     "output_type": "stream",
     "text": [
      "                             Statespace Model Results                             \n",
      "==================================================================================\n",
      "Dep. Variable:     ['dln_inv', 'dln_inc']   No. Observations:                   75\n",
      "Model:                            VARX(2)   Log Likelihood                 361.032\n",
      "Date:                    Fri, 19 Sep 2025   AIC                           -696.063\n",
      "Time:                            10:21:01   BIC                           -665.936\n",
      "Sample:                        04-01-1960   HQIC                          -684.033\n",
      "                             - 10-01-1978                                         \n",
      "Covariance Type:                      opg                                         \n",
      "===================================================================================\n",
      "Ljung-Box (L1) (Q):            0.03, 10.27   Jarque-Bera (JB):          10.97, 2.38\n",
      "Prob(Q):                        0.86, 0.00   Prob(JB):                   0.00, 0.30\n",
      "Heteroskedasticity (H):         0.45, 0.40   Skew:                      0.15, -0.38\n",
      "Prob(H) (two-sided):            0.05, 0.02   Kurtosis:                   4.85, 3.44\n",
      "                            Results for equation dln_inv                            \n",
      "====================================================================================\n",
      "                       coef    std err          z      P>|z|      [0.025      0.975]\n",
      "------------------------------------------------------------------------------------\n",
      "L1.dln_inv          -0.2454      0.092     -2.654      0.008      -0.427      -0.064\n",
      "L1.dln_inc           0.2859      0.448      0.638      0.524      -0.593       1.165\n",
      "L2.dln_inv          -0.1629      0.155     -1.052      0.293      -0.466       0.141\n",
      "L2.dln_inc           0.0893      0.422      0.212      0.832      -0.737       0.916\n",
      "beta.dln_consump     0.9504      0.639      1.488      0.137      -0.302       2.203\n",
      "                            Results for equation dln_inc                            \n",
      "====================================================================================\n",
      "                       coef    std err          z      P>|z|      [0.025      0.975]\n",
      "------------------------------------------------------------------------------------\n",
      "L1.dln_inv           0.0618      0.036      1.715      0.086      -0.009       0.132\n",
      "L1.dln_inc           0.0851      0.107      0.793      0.428      -0.125       0.296\n",
      "L2.dln_inv           0.0077      0.033      0.235      0.814      -0.057       0.072\n",
      "L2.dln_inc           0.0358      0.134      0.267      0.790      -0.227       0.299\n",
      "beta.dln_consump     0.7722      0.112      6.885      0.000       0.552       0.992\n",
      "                                  Error covariance matrix                                   \n",
      "============================================================================================\n",
      "                               coef    std err          z      P>|z|      [0.025      0.975]\n",
      "--------------------------------------------------------------------------------------------\n",
      "sqrt.var.dln_inv             0.0433      0.004     12.310      0.000       0.036       0.050\n",
      "sqrt.cov.dln_inv.dln_inc  8.489e-06      0.002      0.004      0.997      -0.004       0.004\n",
      "sqrt.var.dln_inc             0.0109      0.001     11.202      0.000       0.009       0.013\n",
      "============================================================================================\n",
      "\n",
      "Warnings:\n",
      "[1] Covariance matrix calculated using the outer product of gradients (complex-step).\n"
     ]
    }
   ],
   "source": [
    "exog = endog[\"dln_consump\"]\n",
    "mod = sm.tsa.VARMAX(endog[[\"dln_inv\", \"dln_inc\"]], order=(2, 0), trend=\"n\", exog=exog)\n",
    "res = mod.fit(maxiter=1000, disp=False)\n",
    "print(res.summary())"
   ]
  },
  {
   "cell_type": "markdown",
   "metadata": {},
   "source": [
    "From the estimated VAR model, we can plot the impulse response functions of the endogenous variables."
   ]
  },
  {
   "cell_type": "code",
   "execution_count": 5,
   "metadata": {
    "collapsed": false,
    "execution": {
     "iopub.execute_input": "2025-09-19T10:21:01.499130Z",
     "iopub.status.busy": "2025-09-19T10:21:01.497628Z",
     "iopub.status.idle": "2025-09-19T10:21:01.741922Z",
     "shell.execute_reply": "2025-09-19T10:21:01.741295Z"
    },
    "jupyter": {
     "outputs_hidden": false
    }
   },
   "outputs": [
    {
     "data": {
      "image/png": "[encoded data removed]",
      "text/plain": [
       "<Figure size 1300x300 with 1 Axes>"
      ]
     },
     "metadata": {},
     "output_type": "display_data"
    }
   ],
   "source": [
    "ax = res.impulse_responses(10, orthogonalized=True, impulse=[1, 0]).plot(\n",
    "    figsize=(13, 3)\n",
    ")\n",
    "ax.set(xlabel=\"t\", title=\"Responses to a shock to `dln_inv`\");"
   ]
  },
  {
   "cell_type": "markdown",
   "metadata": {},
   "source": [
    "## Example 2: VMA\n",
    "\n",
    "A vector moving average model can also be formulated. Below we show a VMA(2) on the same data, but where the innovations to the process are uncorrelated. In this example we leave out the exogenous regressor but now include the constant term."
   ]
  },
  {
   "cell_type": "code",
   "execution_count": 6,
   "metadata": {
    "collapsed": false,
    "execution": {
     "iopub.execute_input": "2025-09-19T10:21:01.744622Z",
     "iopub.status.busy": "2025-09-19T10:21:01.744330Z",
     "iopub.status.idle": "2025-09-19T10:21:29.835206Z",
     "shell.execute_reply": "2025-09-19T10:21:29.834498Z"
    },
    "jupyter": {
     "outputs_hidden": false
    }
   },
   "outputs": [
    {
     "name": "stdout",
     "output_type": "stream",
     "text": [
      "                             Statespace Model Results                             \n",
      "==================================================================================\n",
      "Dep. Variable:     ['dln_inv', 'dln_inc']   No. Observations:                   75\n",
      "Model:                             VMA(2)   Log Likelihood                 353.880\n",
      "                              + intercept   AIC                           -683.761\n",
      "Date:                    Fri, 19 Sep 2025   BIC                           -655.951\n",
      "Time:                            10:21:29   HQIC                          -672.656\n",
      "Sample:                        04-01-1960                                         \n",
      "                             - 10-01-1978                                         \n",
      "Covariance Type:                      opg                                         \n",
      "===================================================================================\n",
      "Ljung-Box (L1) (Q):             0.00, 0.04   Jarque-Bera (JB):         13.44, 14.28\n",
      "Prob(Q):                        1.00, 0.84   Prob(JB):                   0.00, 0.00\n",
      "Heteroskedasticity (H):         0.44, 0.81   Skew:                      0.07, -0.49\n",
      "Prob(H) (two-sided):            0.04, 0.59   Kurtosis:                   5.07, 4.89\n",
      "                           Results for equation dln_inv                          \n",
      "=================================================================================\n",
      "                    coef    std err          z      P>|z|      [0.025      0.975]\n",
      "---------------------------------------------------------------------------------\n",
      "intercept         0.0182      0.005      3.788      0.000       0.009       0.028\n",
      "L1.e(dln_inv)    -0.2488      0.106     -2.342      0.019      -0.457      -0.041\n",
      "L1.e(dln_inc)     0.4801      0.628      0.765      0.444      -0.750       1.711\n",
      "L2.e(dln_inv)     0.0238      0.151      0.157      0.875      -0.273       0.320\n",
      "L2.e(dln_inc)     0.2147      0.475      0.452      0.651      -0.716       1.145\n",
      "                           Results for equation dln_inc                          \n",
      "=================================================================================\n",
      "                    coef    std err          z      P>|z|      [0.025      0.975]\n",
      "---------------------------------------------------------------------------------\n",
      "intercept         0.0207      0.002     13.094      0.000       0.018       0.024\n",
      "L1.e(dln_inv)     0.0467      0.042      1.120      0.263      -0.035       0.128\n",
      "L1.e(dln_inc)    -0.0692      0.141     -0.490      0.624      -0.346       0.208\n",
      "L2.e(dln_inv)     0.0188      0.043      0.442      0.659      -0.065       0.102\n",
      "L2.e(dln_inc)     0.1155      0.154      0.749      0.454      -0.187       0.418\n",
      "                             Error covariance matrix                              \n",
      "==================================================================================\n",
      "                     coef    std err          z      P>|z|      [0.025      0.975]\n",
      "----------------------------------------------------------------------------------\n",
      "sigma2.dln_inv     0.0020      0.000      7.322      0.000       0.001       0.003\n",
      "sigma2.dln_inc     0.0001   2.32e-05      5.847      0.000    9.02e-05       0.000\n",
      "==================================================================================\n",
      "\n",
      "Warnings:\n",
      "[1] Covariance matrix calculated using the outer product of gradients (complex-step).\n"
     ]
    }
   ],
   "source": [
    "mod = sm.tsa.VARMAX(\n",
    "    endog[[\"dln_inv\", \"dln_inc\"]], order=(0, 2), error_cov_type=\"diagonal\"\n",
    ")\n",
    "res = mod.fit(maxiter=1000, disp=False)\n",
    "print(res.summary())"
   ]
  },
  {
   "cell_type": "markdown",
   "metadata": {},
   "source": [
    "## Caution: VARMA(p,q) specifications\n",
    "\n",
    "Although the model allows estimating VARMA(p,q) specifications, these models are not identified without additional restrictions on the representation matrices, which are not built-in. For this reason, it is recommended that the user proceed with error (and indeed a warning is issued when these models are specified). Nonetheless, they may in some circumstances provide useful information."
   ]
  },
  {
   "cell_type": "code",
   "execution_count": 7,
   "metadata": {
    "collapsed": false,
    "execution": {
     "iopub.execute_input": "2025-09-19T10:21:29.837620Z",
     "iopub.status.busy": "2025-09-19T10:21:29.837208Z",
     "iopub.status.idle": "2025-09-19T10:21:30.780604Z",
     "shell.execute_reply": "2025-09-19T10:21:30.779943Z"
    },
    "jupyter": {
     "outputs_hidden": false
    }
   },
   "outputs": [
    {
     "name": "stderr",
     "output_type": "stream",
     "text": [
      "/opt/hostedtoolcache/Python/3.10.18/x64/lib/python3.10/site-packages/statsmodels/tsa/statespace/varmax.py:160: EstimationWarning: Estimation of VARMA(p,q) models is not generically robust, due especially to identification issues.\n",
      "  warn('Estimation of VARMA(p,q) models is not generically robust,'\n"
     ]
    },
    {
     "name": "stdout",
     "output_type": "stream",
     "text": [
      "                             Statespace Model Results                             \n",
      "==================================================================================\n",
      "Dep. Variable:     ['dln_inv', 'dln_inc']   No. Observations:                   75\n",
      "Model:                         VARMA(1,1)   Log Likelihood                 354.288\n",
      "                              + intercept   AIC                           -682.576\n",
      "Date:                    Fri, 19 Sep 2025   BIC                           -652.448\n",
      "Time:                            10:21:30   HQIC                          -670.546\n",
      "Sample:                        04-01-1960                                         \n",
      "                             - 10-01-1978                                         \n",
      "Covariance Type:                      opg                                         \n",
      "===================================================================================\n",
      "Ljung-Box (L1) (Q):             0.00, 0.06   Jarque-Bera (JB):         11.14, 14.18\n",
      "Prob(Q):                        0.95, 0.81   Prob(JB):                   0.00, 0.00\n",
      "Heteroskedasticity (H):         0.43, 0.91   Skew:                      0.01, -0.46\n",
      "Prob(H) (two-sided):            0.04, 0.81   Kurtosis:                   4.89, 4.92\n",
      "                           Results for equation dln_inv                          \n",
      "=================================================================================\n",
      "                    coef    std err          z      P>|z|      [0.025      0.975]\n",
      "---------------------------------------------------------------------------------\n",
      "intercept         0.0105      0.065      0.162      0.871      -0.116       0.137\n",
      "L1.dln_inv       -0.0050      0.696     -0.007      0.994      -1.369       1.359\n",
      "L1.dln_inc        0.3798      2.731      0.139      0.889      -4.972       5.732\n",
      "L1.e(dln_inv)    -0.2483      0.706     -0.352      0.725      -1.633       1.136\n",
      "L1.e(dln_inc)     0.1253      2.980      0.042      0.966      -5.716       5.967\n",
      "                           Results for equation dln_inc                          \n",
      "=================================================================================\n",
      "                    coef    std err          z      P>|z|      [0.025      0.975]\n",
      "---------------------------------------------------------------------------------\n",
      "intercept         0.0165      0.027      0.607      0.544      -0.037       0.070\n",
      "L1.dln_inv       -0.0337      0.278     -0.121      0.904      -0.579       0.511\n",
      "L1.dln_inc        0.2358      1.102      0.214      0.831      -1.925       2.396\n",
      "L1.e(dln_inv)     0.0892      0.285      0.313      0.754      -0.469       0.647\n",
      "L1.e(dln_inc)    -0.2374      1.137     -0.209      0.835      -2.466       1.991\n",
      "                                  Error covariance matrix                                   \n",
      "============================================================================================\n",
      "                               coef    std err          z      P>|z|      [0.025      0.975]\n",
      "--------------------------------------------------------------------------------------------\n",
      "sqrt.var.dln_inv             0.0449      0.003     14.527      0.000       0.039       0.051\n",
      "sqrt.cov.dln_inv.dln_inc     0.0017      0.003      0.651      0.515      -0.003       0.007\n",
      "sqrt.var.dln_inc             0.0116      0.001     11.722      0.000       0.010       0.013\n",
      "============================================================================================\n",
      "\n",
      "Warnings:\n",
      "[1] Covariance matrix calculated using the outer product of gradients (complex-step).\n"
     ]
    }
   ],
   "source": [
    "mod = sm.tsa.VARMAX(endog[[\"dln_inv\", \"dln_inc\"]], order=(1, 1))\n",
    "res = mod.fit(maxiter=1000, disp=False)\n",
    "print(res.summary())"
   ]
  }
 ],
 "metadata": {
  "kernelspec": {
   "display_name": "Python 3 (ipykernel)",
   "language": "python",
   "name": "python3"
  },
  "language_info": {
   "codemirror_mode": {
    "name": "ipython",
    "version": 3
   },
   "file_extension": ".py",
   "mimetype": "text/x-python",
   "name": "python",
   "nbconvert_exporter": "python",
   "pygments_lexer": "ipython3",
   "version": "3.10.18"
  }
 },
 "nbformat": 4,
 "nbformat_minor": 4
}
