{
 "cells": [
  {
   "cell_type": "markdown",
   "metadata": {},
   "source": [
    "# VARMAX models\n",
    "\n",
    "This is a brief introduction notebook to VARMAX models in statsmodels. The VARMAX model is generically specified as:\n",
    "$$\n",
    "y_t = \\nu + A_1 y_{t-1} + \\dots + A_p y_{t-p} + B x_t + \\epsilon_t +\n",
    "M_1 \\epsilon_{t-1} + \\dots M_q \\epsilon_{t-q}\n",
    "$$\n",
    "\n",
    "where $y_t$ is a $\\text{k_endog} \\times 1$ vector."
   ]
  },
  {
   "cell_type": "code",
   "execution_count": 1,
   "metadata": {
    "execution": {
     "iopub.execute_input": "2023-06-11T00:50:02.170580Z",
     "iopub.status.busy": "2023-06-11T00:50:02.170347Z",
     "iopub.status.idle": "2023-06-11T00:50:02.674254Z",
     "shell.execute_reply": "2023-06-11T00:50:02.673637Z"
    }
   },
   "outputs": [],
   "source": [
    "%matplotlib inline"
   ]
  },
  {
   "cell_type": "code",
   "execution_count": 2,
   "metadata": {
    "collapsed": false,
    "execution": {
     "iopub.execute_input": "2023-06-11T00:50:02.679096Z",
     "iopub.status.busy": "2023-06-11T00:50:02.677876Z",
     "iopub.status.idle": "2023-06-11T00:50:03.456431Z",
     "shell.execute_reply": "2023-06-11T00:50:03.455793Z"
    },
    "jupyter": {
     "outputs_hidden": false
    }
   },
   "outputs": [],
   "source": [
    "import numpy as np\n",
    "import pandas as pd\n",
    "import statsmodels.api as sm\n",
    "import matplotlib.pyplot as plt"
   ]
  },
  {
   "cell_type": "code",
   "execution_count": 3,
   "metadata": {
    "collapsed": false,
    "execution": {
     "iopub.execute_input": "2023-06-11T00:50:03.461294Z",
     "iopub.status.busy": "2023-06-11T00:50:03.460048Z",
     "iopub.status.idle": "2023-06-11T00:50:03.801217Z",
     "shell.execute_reply": "2023-06-11T00:50:03.800567Z"
    },
    "jupyter": {
     "outputs_hidden": false
    }
   },
   "outputs": [],
   "source": [
    "dta = sm.datasets.webuse('lutkepohl2', 'https://www.stata-press.com/data/r12/')\n",
    "dta.index = dta.qtr\n",
    "dta.index.freq = dta.index.inferred_freq\n",
    "endog = dta.loc['1960-04-01':'1978-10-01', ['dln_inv', 'dln_inc', 'dln_consump']]"
   ]
  },
  {
   "cell_type": "markdown",
   "metadata": {},
   "source": [
    "## Model specification\n",
    "\n",
    "The `VARMAX` class in statsmodels allows estimation of VAR, VMA, and VARMA models (through the `order` argument), optionally with a constant term (via the `trend` argument). Exogenous regressors may also be included (as usual in statsmodels, by the `exog` argument), and in this way a time trend may be added. Finally, the class allows measurement error (via the `measurement_error` argument) and allows specifying either a diagonal or unstructured innovation covariance matrix (via the `error_cov_type` argument)."
   ]
  },
  {
   "cell_type": "markdown",
   "metadata": {},
   "source": [
    "## Example 1: VAR\n",
    "\n",
    "Below is a simple VARX(2) model in two endogenous variables and an exogenous series, but no constant term. Notice that we needed to allow for more iterations than the default (which is `maxiter=50`) in order for the likelihood estimation to converge. This is not unusual in VAR models which have to estimate a large number of parameters, often on a relatively small number of time series: this model, for example, estimates 27 parameters off of 75 observations of 3 variables."
   ]
  },
  {
   "cell_type": "code",
   "execution_count": 4,
   "metadata": {
    "collapsed": false,
    "execution": {
     "iopub.execute_input": "2023-06-11T00:50:03.805961Z",
     "iopub.status.busy": "2023-06-11T00:50:03.804854Z",
     "iopub.status.idle": "2023-06-11T00:50:08.371118Z",
     "shell.execute_reply": "2023-06-11T00:50:08.370342Z"
    },
    "jupyter": {
     "outputs_hidden": false
    }
   },
   "outputs": [
    {
     "name": "stdout",
     "output_type": "stream",
     "text": [
      "                             Statespace Model Results                             \n",
      "==================================================================================\n",
      "Dep. Variable:     ['dln_inv', 'dln_inc']   No. Observations:                   75\n",
      "Model:                            VARX(2)   Log Likelihood                 361.037\n",
      "Date:                    Sun, 11 Jun 2023   AIC                           -696.075\n",
      "Time:                            00:50:08   BIC                           -665.947\n",
      "Sample:                        04-01-1960   HQIC                          -684.045\n",
      "                             - 10-01-1978                                         \n",
      "Covariance Type:                      opg                                         \n",
      "===================================================================================\n",
      "Ljung-Box (L1) (Q):            0.05, 10.07   Jarque-Bera (JB):          11.05, 2.46\n",
      "Prob(Q):                        0.82, 0.00   Prob(JB):                   0.00, 0.29\n",
      "Heteroskedasticity (H):         0.45, 0.40   Skew:                      0.16, -0.38\n",
      "Prob(H) (two-sided):            0.05, 0.03   Kurtosis:                   4.85, 3.44\n",
      "                            Results for equation dln_inv                            \n",
      "====================================================================================\n",
      "                       coef    std err          z      P>|z|      [0.025      0.975]\n",
      "------------------------------------------------------------------------------------\n",
      "L1.dln_inv          -0.2399      0.093     -2.578      0.010      -0.422      -0.058\n",
      "L1.dln_inc           0.2776      0.449      0.618      0.536      -0.602       1.157\n",
      "L2.dln_inv          -0.1654      0.155     -1.066      0.286      -0.470       0.139\n",
      "L2.dln_inc           0.0643      0.421      0.153      0.879      -0.761       0.889\n",
      "beta.dln_consump     0.9840      0.637      1.545      0.122      -0.264       2.232\n",
      "                            Results for equation dln_inc                            \n",
      "====================================================================================\n",
      "                       coef    std err          z      P>|z|      [0.025      0.975]\n",
      "------------------------------------------------------------------------------------\n",
      "L1.dln_inv           0.0633      0.036      1.770      0.077      -0.007       0.133\n",
      "L1.dln_inc           0.0803      0.107      0.750      0.453      -0.129       0.290\n",
      "L2.dln_inv           0.0111      0.033      0.337      0.736      -0.054       0.076\n",
      "L2.dln_inc           0.0335      0.134      0.250      0.803      -0.229       0.296\n",
      "beta.dln_consump     0.7756      0.113      6.893      0.000       0.555       0.996\n",
      "                                  Error covariance matrix                                   \n",
      "============================================================================================\n",
      "                               coef    std err          z      P>|z|      [0.025      0.975]\n",
      "--------------------------------------------------------------------------------------------\n",
      "sqrt.var.dln_inv             0.0434      0.004     12.295      0.000       0.036       0.050\n",
      "sqrt.cov.dln_inv.dln_inc  6.006e-05      0.002      0.030      0.976      -0.004       0.004\n",
      "sqrt.var.dln_inc             0.0109      0.001     11.212      0.000       0.009       0.013\n",
      "============================================================================================\n",
      "\n",
      "Warnings:\n",
      "[1] Covariance matrix calculated using the outer product of gradients (complex-step).\n"
     ]
    }
   ],
   "source": [
    "exog = endog['dln_consump']\n",
    "mod = sm.tsa.VARMAX(endog[['dln_inv', 'dln_inc']], order=(2,0), trend='n', exog=exog)\n",
    "res = mod.fit(maxiter=1000, disp=False)\n",
    "print(res.summary())"
   ]
  },
  {
   "cell_type": "markdown",
   "metadata": {},
   "source": [
    "From the estimated VAR model, we can plot the impulse response functions of the endogenous variables."
   ]
  },
  {
   "cell_type": "code",
   "execution_count": 5,
   "metadata": {
    "collapsed": false,
    "execution": {
     "iopub.execute_input": "2023-06-11T00:50:08.380691Z",
     "iopub.status.busy": "2023-06-11T00:50:08.379439Z",
     "iopub.status.idle": "2023-06-11T00:50:08.694435Z",
     "shell.execute_reply": "2023-06-11T00:50:08.693808Z"
    },
    "jupyter": {
     "outputs_hidden": false
    }
   },
   "outputs": [
    {
     "data": {
      "image/png": "[encoded data removed]",
      "text/plain": [
       "<Figure size 1300x300 with 1 Axes>"
      ]
     },
     "metadata": {},
     "output_type": "display_data"
    }
   ],
   "source": [
    "ax = res.impulse_responses(10, orthogonalized=True, impulse=[1, 0]).plot(figsize=(13,3))\n",
    "ax.set(xlabel='t', title='Responses to a shock to `dln_inv`');"
   ]
  },
  {
   "cell_type": "markdown",
   "metadata": {},
   "source": [
    "## Example 2: VMA\n",
    "\n",
    "A vector moving average model can also be formulated. Below we show a VMA(2) on the same data, but where the innovations to the process are uncorrelated. In this example we leave out the exogenous regressor but now include the constant term."
   ]
  },
  {
   "cell_type": "code",
   "execution_count": 6,
   "metadata": {
    "collapsed": false,
    "execution": {
     "iopub.execute_input": "2023-06-11T00:50:08.698999Z",
     "iopub.status.busy": "2023-06-11T00:50:08.697898Z",
     "iopub.status.idle": "2023-06-11T00:50:12.629472Z",
     "shell.execute_reply": "2023-06-11T00:50:12.628771Z"
    },
    "jupyter": {
     "outputs_hidden": false
    }
   },
   "outputs": [
    {
     "name": "stdout",
     "output_type": "stream",
     "text": [
      "                             Statespace Model Results                             \n",
      "==================================================================================\n",
      "Dep. Variable:     ['dln_inv', 'dln_inc']   No. Observations:                   75\n",
      "Model:                             VMA(2)   Log Likelihood                 353.883\n",
      "                              + intercept   AIC                           -683.766\n",
      "Date:                    Sun, 11 Jun 2023   BIC                           -655.956\n",
      "Time:                            00:50:12   HQIC                          -672.661\n",
      "Sample:                        04-01-1960                                         \n",
      "                             - 10-01-1978                                         \n",
      "Covariance Type:                      opg                                         \n",
      "===================================================================================\n",
      "Ljung-Box (L1) (Q):             0.02, 0.05   Jarque-Bera (JB):         11.85, 13.52\n",
      "Prob(Q):                        0.88, 0.83   Prob(JB):                   0.00, 0.00\n",
      "Heteroskedasticity (H):         0.44, 0.81   Skew:                      0.05, -0.48\n",
      "Prob(H) (two-sided):            0.05, 0.60   Kurtosis:                   4.95, 4.84\n",
      "                           Results for equation dln_inv                          \n",
      "=================================================================================\n",
      "                    coef    std err          z      P>|z|      [0.025      0.975]\n",
      "---------------------------------------------------------------------------------\n",
      "intercept         0.0182      0.005      3.815      0.000       0.009       0.028\n",
      "L1.e(dln_inv)    -0.2710      0.105     -2.579      0.010      -0.477      -0.065\n",
      "L1.e(dln_inc)     0.5424      0.631      0.859      0.390      -0.695       1.780\n",
      "L2.e(dln_inv)     0.0397      0.146      0.271      0.786      -0.247       0.326\n",
      "L2.e(dln_inc)     0.1665      0.478      0.348      0.728      -0.770       1.103\n",
      "                           Results for equation dln_inc                          \n",
      "=================================================================================\n",
      "                    coef    std err          z      P>|z|      [0.025      0.975]\n",
      "---------------------------------------------------------------------------------\n",
      "intercept         0.0207      0.002     12.977      0.000       0.018       0.024\n",
      "L1.e(dln_inv)     0.0483      0.042      1.158      0.247      -0.033       0.130\n",
      "L1.e(dln_inc)    -0.0742      0.140     -0.532      0.595      -0.348       0.199\n",
      "L2.e(dln_inv)     0.0172      0.042      0.406      0.685      -0.066       0.100\n",
      "L2.e(dln_inc)     0.1313      0.152      0.861      0.389      -0.168       0.430\n",
      "                             Error covariance matrix                              \n",
      "==================================================================================\n",
      "                     coef    std err          z      P>|z|      [0.025      0.975]\n",
      "----------------------------------------------------------------------------------\n",
      "sigma2.dln_inv     0.0020      0.000      7.384      0.000       0.001       0.003\n",
      "sigma2.dln_inc     0.0001   2.34e-05      5.812      0.000       9e-05       0.000\n",
      "==================================================================================\n",
      "\n",
      "Warnings:\n",
      "[1] Covariance matrix calculated using the outer product of gradients (complex-step).\n"
     ]
    }
   ],
   "source": [
    "mod = sm.tsa.VARMAX(endog[['dln_inv', 'dln_inc']], order=(0,2), error_cov_type='diagonal')\n",
    "res = mod.fit(maxiter=1000, disp=False)\n",
    "print(res.summary())"
   ]
  },
  {
   "cell_type": "markdown",
   "metadata": {},
   "source": [
    "## Caution: VARMA(p,q) specifications\n",
    "\n",
    "Although the model allows estimating VARMA(p,q) specifications, these models are not identified without additional restrictions on the representation matrices, which are not built-in. For this reason, it is recommended that the user proceed with error (and indeed a warning is issued when these models are specified). Nonetheless, they may in some circumstances provide useful information."
   ]
  },
  {
   "cell_type": "code",
   "execution_count": 7,
   "metadata": {
    "collapsed": false,
    "execution": {
     "iopub.execute_input": "2023-06-11T00:50:12.634043Z",
     "iopub.status.busy": "2023-06-11T00:50:12.632932Z",
     "iopub.status.idle": "2023-06-11T00:50:14.572959Z",
     "shell.execute_reply": "2023-06-11T00:50:14.572308Z"
    },
    "jupyter": {
     "outputs_hidden": false
    }
   },
   "outputs": [
    {
     "name": "stderr",
     "output_type": "stream",
     "text": [
      "/opt/hostedtoolcache/Python/3.10.11/x64/lib/python3.10/site-packages/statsmodels/tsa/statespace/varmax.py:161: EstimationWarning: Estimation of VARMA(p,q) models is not generically robust, due especially to identification issues.\n",
      "  warn('Estimation of VARMA(p,q) models is not generically robust,'\n"
     ]
    },
    {
     "name": "stdout",
     "output_type": "stream",
     "text": [
      "                             Statespace Model Results                             \n",
      "==================================================================================\n",
      "Dep. Variable:     ['dln_inv', 'dln_inc']   No. Observations:                   75\n",
      "Model:                         VARMA(1,1)   Log Likelihood                 354.290\n",
      "                              + intercept   AIC                           -682.580\n",
      "Date:                    Sun, 11 Jun 2023   BIC                           -652.452\n",
      "Time:                            00:50:14   HQIC                          -670.550\n",
      "Sample:                        04-01-1960                                         \n",
      "                             - 10-01-1978                                         \n",
      "Covariance Type:                      opg                                         \n",
      "===================================================================================\n",
      "Ljung-Box (L1) (Q):             0.00, 0.05   Jarque-Bera (JB):         11.18, 13.96\n",
      "Prob(Q):                        0.96, 0.82   Prob(JB):                   0.00, 0.00\n",
      "Heteroskedasticity (H):         0.43, 0.91   Skew:                      0.01, -0.45\n",
      "Prob(H) (two-sided):            0.04, 0.81   Kurtosis:                   4.89, 4.91\n",
      "                           Results for equation dln_inv                          \n",
      "=================================================================================\n",
      "                    coef    std err          z      P>|z|      [0.025      0.975]\n",
      "---------------------------------------------------------------------------------\n",
      "intercept         0.0104      0.066      0.159      0.874      -0.118       0.139\n",
      "L1.dln_inv       -0.0051      0.704     -0.007      0.994      -1.385       1.375\n",
      "L1.dln_inc        0.3827      2.766      0.138      0.890      -5.039       5.805\n",
      "L1.e(dln_inv)    -0.2475      0.714     -0.347      0.729      -1.647       1.152\n",
      "L1.e(dln_inc)     0.1232      3.017      0.041      0.967      -5.791       6.037\n",
      "                           Results for equation dln_inc                          \n",
      "=================================================================================\n",
      "                    coef    std err          z      P>|z|      [0.025      0.975]\n",
      "---------------------------------------------------------------------------------\n",
      "intercept         0.0165      0.027      0.600      0.548      -0.037       0.070\n",
      "L1.dln_inv       -0.0328      0.282     -0.117      0.907      -0.585       0.519\n",
      "L1.dln_inc        0.2351      1.114      0.211      0.833      -1.947       2.418\n",
      "L1.e(dln_inv)     0.0887      0.288      0.308      0.758      -0.476       0.654\n",
      "L1.e(dln_inc)    -0.2393      1.148     -0.208      0.835      -2.490       2.012\n",
      "                                  Error covariance matrix                                   \n",
      "============================================================================================\n",
      "                               coef    std err          z      P>|z|      [0.025      0.975]\n",
      "--------------------------------------------------------------------------------------------\n",
      "sqrt.var.dln_inv             0.0449      0.003     14.527      0.000       0.039       0.051\n",
      "sqrt.cov.dln_inv.dln_inc     0.0017      0.003      0.652      0.514      -0.003       0.007\n",
      "sqrt.var.dln_inc             0.0116      0.001     11.729      0.000       0.010       0.013\n",
      "============================================================================================\n",
      "\n",
      "Warnings:\n",
      "[1] Covariance matrix calculated using the outer product of gradients (complex-step).\n"
     ]
    }
   ],
   "source": [
    "mod = sm.tsa.VARMAX(endog[['dln_inv', 'dln_inc']], order=(1,1))\n",
    "res = mod.fit(maxiter=1000, disp=False)\n",
    "print(res.summary())"
   ]
  }
 ],
 "metadata": {
  "kernelspec": {
   "display_name": "Python 3",
   "language": "python",
   "name": "python3"
  },
  "language_info": {
   "codemirror_mode": {
    "name": "ipython",
    "version": 3
   },
   "file_extension": ".py",
   "mimetype": "text/x-python",
   "name": "python",
   "nbconvert_exporter": "python",
   "pygments_lexer": "ipython3",
   "version": "3.10.11"
  }
 },
 "nbformat": 4,
 "nbformat_minor": 4
}
