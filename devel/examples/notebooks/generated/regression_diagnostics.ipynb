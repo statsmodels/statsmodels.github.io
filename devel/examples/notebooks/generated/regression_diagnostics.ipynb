{
 "cells": [
  {
   "cell_type": "markdown",
   "metadata": {},
   "source": [
    "# Regression diagnostics"
   ]
  },
  {
   "cell_type": "markdown",
   "metadata": {},
   "source": [
    "This example file shows how to use a few of the ``statsmodels`` regression diagnostic tests in a real-life context. You can learn about more tests and find out more information about the tests here on the [Regression Diagnostics page.](https://www.statsmodels.org/stable/diagnostic.html)\n",
    "\n",
    "Note that most of the tests described here only return a tuple of numbers, without any annotation. A full description of outputs is always included in the docstring and in the online ``statsmodels`` documentation. For presentation purposes, we use the ``zip(name,test)`` construct to pretty-print short descriptions in the examples below."
   ]
  },
  {
   "cell_type": "markdown",
   "metadata": {},
   "source": [
    "## Estimate a regression model"
   ]
  },
  {
   "cell_type": "code",
   "execution_count": 1,
   "metadata": {
    "execution": {
     "iopub.execute_input": "2025-04-28T11:39:04.613382Z",
     "iopub.status.busy": "2025-04-28T11:39:04.613112Z",
     "iopub.status.idle": "2025-04-28T11:39:05.983020Z",
     "shell.execute_reply": "2025-04-28T11:39:05.979924Z"
    }
   },
   "outputs": [],
   "source": [
    "%matplotlib inline"
   ]
  },
  {
   "cell_type": "code",
   "execution_count": 2,
   "metadata": {
    "execution": {
     "iopub.execute_input": "2025-04-28T11:39:05.986363Z",
     "iopub.status.busy": "2025-04-28T11:39:05.986076Z",
     "iopub.status.idle": "2025-04-28T11:39:08.473123Z",
     "shell.execute_reply": "2025-04-28T11:39:08.472250Z"
    }
   },
   "outputs": [
    {
     "name": "stdout",
     "output_type": "stream",
     "text": [
      "                            OLS Regression Results                            \n",
      "==============================================================================\n",
      "Dep. Variable:                Lottery   R-squared:                       0.348\n",
      "Model:                            OLS   Adj. R-squared:                  0.333\n",
      "Method:                 Least Squares   F-statistic:                     22.20\n",
      "Date:                Mon, 28 Apr 2025   Prob (F-statistic):           1.90e-08\n",
      "Time:                        11:39:08   Log-Likelihood:                -379.82\n",
      "No. Observations:                  86   AIC:                             765.6\n",
      "Df Residuals:                      83   BIC:                             773.0\n",
      "Df Model:                           2                                         \n",
      "Covariance Type:            nonrobust                                         \n",
      "===================================================================================\n",
      "                      coef    std err          t      P>|t|      [0.025      0.975]\n",
      "-----------------------------------------------------------------------------------\n",
      "Intercept         246.4341     35.233      6.995      0.000     176.358     316.510\n",
      "Literacy           -0.4889      0.128     -3.832      0.000      -0.743      -0.235\n",
      "np.log(Pop1831)   -31.3114      5.977     -5.239      0.000     -43.199     -19.424\n",
      "==============================================================================\n",
      "Omnibus:                        3.713   Durbin-Watson:                   2.019\n",
      "Prob(Omnibus):                  0.156   Jarque-Bera (JB):                3.394\n",
      "Skew:                          -0.487   Prob(JB):                        0.183\n",
      "Kurtosis:                       3.003   Cond. No.                         702.\n",
      "==============================================================================\n",
      "\n",
      "Notes:\n",
      "[1] Standard Errors assume that the covariance matrix of the errors is correctly specified.\n"
     ]
    }
   ],
   "source": [
    "import matplotlib.pyplot as plt\n",
    "import numpy as np\n",
    "import pandas as pd\n",
    "import statsmodels.formula.api as smf\n",
    "import statsmodels.stats.api as sms\n",
    "from statsmodels.compat import lzip\n",
    "\n",
    "# Load data\n",
    "url = \"https://raw.githubusercontent.com/vincentarelbundock/Rdatasets/master/csv/HistData/Guerry.csv\"\n",
    "dat = pd.read_csv(url)\n",
    "\n",
    "# Fit regression model (using the natural log of one of the regressors)\n",
    "results = smf.ols(\"Lottery ~ Literacy + np.log(Pop1831)\", data=dat).fit()\n",
    "\n",
    "# Inspect the results\n",
    "print(results.summary())"
   ]
  },
  {
   "cell_type": "markdown",
   "metadata": {},
   "source": [
    "## Normality of the residuals"
   ]
  },
  {
   "cell_type": "markdown",
   "metadata": {},
   "source": [
    "Omni test:"
   ]
  },
  {
   "cell_type": "code",
   "execution_count": 3,
   "metadata": {
    "execution": {
     "iopub.execute_input": "2025-04-28T11:39:08.479329Z",
     "iopub.status.busy": "2025-04-28T11:39:08.479097Z",
     "iopub.status.idle": "2025-04-28T11:39:08.499292Z",
     "shell.execute_reply": "2025-04-28T11:39:08.498524Z"
    }
   },
   "outputs": [
    {
     "data": {
      "text/plain": [
       "[('Chi^2', np.float64(3.7134378115971933)),\n",
       " ('Two-tail probability', np.float64(0.15618424580304735))]"
      ]
     },
     "execution_count": 3,
     "metadata": {},
     "output_type": "execute_result"
    }
   ],
   "source": [
    "name = [\"Chi^2\", \"Two-tail probability\"]\n",
    "test = sms.omni_normtest(results.resid)\n",
    "lzip(name, test)"
   ]
  },
  {
   "cell_type": "markdown",
   "metadata": {},
   "source": [
    "Jarque-Bera test:\n",
    "\n",
    "Kurtosis below is the sample kurtosis, not the excess kurtosis. A sample from the normal distribution has kurtosis equal to 3."
   ]
  },
  {
   "cell_type": "code",
   "execution_count": 4,
   "metadata": {
    "execution": {
     "iopub.execute_input": "2025-04-28T11:39:08.501583Z",
     "iopub.status.busy": "2025-04-28T11:39:08.501120Z",
     "iopub.status.idle": "2025-04-28T11:39:08.520742Z",
     "shell.execute_reply": "2025-04-28T11:39:08.520129Z"
    }
   },
   "outputs": [
    {
     "data": {
      "text/plain": [
       "[('Jarque-Bera test', np.float64(3.39360802484318)),\n",
       " ('Chi^2 two-tail prob.', np.float64(0.18326831231663254)),\n",
       " ('Skew', np.float64(-0.4865803431122347)),\n",
       " ('Kurtosis', np.float64(3.003417757881634))]"
      ]
     },
     "execution_count": 4,
     "metadata": {},
     "output_type": "execute_result"
    }
   ],
   "source": [
    "name = [\"Jarque-Bera test\", \"Chi^2 two-tail prob.\", \"Skew\", \"Kurtosis\"]\n",
    "test = sms.jarque_bera(results.resid)\n",
    "lzip(name, test)"
   ]
  },
  {
   "cell_type": "markdown",
   "metadata": {},
   "source": [
    "## Autorelation\n",
    "\n",
    "Durbin-Watson test:\n",
    "\n",
    "DW statistic always ranges from 0 to 4. The closer to 2, the less autocorrelation is in the sample."
   ]
  },
  {
   "cell_type": "code",
   "execution_count": 5,
   "metadata": {
    "execution": {
     "iopub.execute_input": "2025-04-28T11:39:08.526483Z",
     "iopub.status.busy": "2025-04-28T11:39:08.526009Z",
     "iopub.status.idle": "2025-04-28T11:39:08.543380Z",
     "shell.execute_reply": "2025-04-28T11:39:08.542663Z"
    }
   },
   "outputs": [
    {
     "data": {
      "text/plain": [
       "[('Durbin-Watson statistic', np.float64(2.0192168224545077))]"
      ]
     },
     "execution_count": 5,
     "metadata": {},
     "output_type": "execute_result"
    }
   ],
   "source": [
    "name = [\"Durbin-Watson statistic\"]\n",
    "test = [sms.durbin_watson(results.resid)]\n",
    "lzip(name, test)"
   ]
  },
  {
   "cell_type": "markdown",
   "metadata": {},
   "source": [
    "Breusch–Godfrey test for serial correlation:"
   ]
  },
  {
   "cell_type": "code",
   "execution_count": 6,
   "metadata": {
    "execution": {
     "iopub.execute_input": "2025-04-28T11:39:08.545881Z",
     "iopub.status.busy": "2025-04-28T11:39:08.545487Z",
     "iopub.status.idle": "2025-04-28T11:39:08.566132Z",
     "shell.execute_reply": "2025-04-28T11:39:08.562667Z"
    }
   },
   "outputs": [
    {
     "data": {
      "text/plain": [
       "[('Breusch-Pagan Lagrange multiplier test statistic',\n",
       "  np.float64(2.9930462802518925)),\n",
       " ('p-value', np.float64(0.9815872336580139)),\n",
       " ('f-value', 0.2632217768117006),\n",
       " ('f p-value', 0.9871702599878219)]"
      ]
     },
     "execution_count": 6,
     "metadata": {},
     "output_type": "execute_result"
    }
   ],
   "source": [
    "name = [\n",
    "    \"Breusch-Pagan Lagrange multiplier test statistic\",\n",
    "    \"p-value\",\n",
    "    \"f-value\",\n",
    "    \"f p-value\",\n",
    "]\n",
    "test = sms.acorr_breusch_godfrey(results)\n",
    "lzip(name, test)"
   ]
  },
  {
   "cell_type": "markdown",
   "metadata": {},
   "source": [
    "## Multicollinearity\n",
    "\n",
    "Condition number"
   ]
  },
  {
   "cell_type": "code",
   "execution_count": 7,
   "metadata": {
    "execution": {
     "iopub.execute_input": "2025-04-28T11:39:08.568770Z",
     "iopub.status.busy": "2025-04-28T11:39:08.568527Z",
     "iopub.status.idle": "2025-04-28T11:39:08.586685Z",
     "shell.execute_reply": "2025-04-28T11:39:08.583444Z"
    }
   },
   "outputs": [
    {
     "data": {
      "text/plain": [
       "[('Condition Number', np.float64(702.1792145490066))]"
      ]
     },
     "execution_count": 7,
     "metadata": {},
     "output_type": "execute_result"
    }
   ],
   "source": [
    "name = [\"Condition Number\"]\n",
    "test = [np.linalg.cond(results.model.exog)]\n",
    "lzip(name, test)"
   ]
  },
  {
   "cell_type": "markdown",
   "metadata": {},
   "source": [
    "## Influence tests\n",
    "\n",
    "Once created, an object of class ``OLSInfluence`` holds attributes and methods that allow users to assess the influence of each observation. For example, we can compute and extract the first few rows of DFbetas by:"
   ]
  },
  {
   "cell_type": "code",
   "execution_count": 8,
   "metadata": {
    "execution": {
     "iopub.execute_input": "2025-04-28T11:39:08.589390Z",
     "iopub.status.busy": "2025-04-28T11:39:08.589134Z",
     "iopub.status.idle": "2025-04-28T11:39:08.686775Z",
     "shell.execute_reply": "2025-04-28T11:39:08.685948Z"
    }
   },
   "outputs": [
    {
     "data": {
      "text/plain": [
       "array([[-0.00301154,  0.00290872,  0.00118179],\n",
       "       [-0.06425662,  0.04043093,  0.06281609],\n",
       "       [ 0.01554894, -0.03556038, -0.00905336],\n",
       "       [ 0.17899858,  0.04098207, -0.18062352],\n",
       "       [ 0.29679073,  0.21249207, -0.3213655 ]])"
      ]
     },
     "execution_count": 8,
     "metadata": {},
     "output_type": "execute_result"
    }
   ],
   "source": [
    "from statsmodels.stats.outliers_influence import OLSInfluence\n",
    "\n",
    "test_class = OLSInfluence(results)\n",
    "test_class.dfbetas[:5, :]"
   ]
  },
  {
   "cell_type": "markdown",
   "metadata": {},
   "source": [
    "Explore other options by typing ``dir(influence_test)``\n",
    "\n",
    "Useful information on leverage can also be plotted:"
   ]
  },
  {
   "cell_type": "code",
   "execution_count": 9,
   "metadata": {
    "execution": {
     "iopub.execute_input": "2025-04-28T11:39:08.688998Z",
     "iopub.status.busy": "2025-04-28T11:39:08.688747Z",
     "iopub.status.idle": "2025-04-28T11:39:09.211920Z",
     "shell.execute_reply": "2025-04-28T11:39:09.211308Z"
    }
   },
   "outputs": [
    {
     "data": {
      "image/png": "[encoded data removed]",
      "text/plain": [
       "<Figure size 800x600 with 1 Axes>"
      ]
     },
     "metadata": {},
     "output_type": "display_data"
    }
   ],
   "source": [
    "from statsmodels.graphics.regressionplots import plot_leverage_resid2\n",
    "\n",
    "fig, ax = plt.subplots(figsize=(8, 6))\n",
    "fig = plot_leverage_resid2(results, ax=ax)"
   ]
  },
  {
   "cell_type": "markdown",
   "metadata": {},
   "source": [
    "Other plotting options can be found on the [Graphics page.](https://www.statsmodels.org/stable/graphics.html)"
   ]
  },
  {
   "cell_type": "markdown",
   "metadata": {},
   "source": [
    "## Heteroskedasticity tests\n",
    "\n",
    "Breush-Pagan test:"
   ]
  },
  {
   "cell_type": "code",
   "execution_count": 10,
   "metadata": {
    "execution": {
     "iopub.execute_input": "2025-04-28T11:39:09.217884Z",
     "iopub.status.busy": "2025-04-28T11:39:09.217508Z",
     "iopub.status.idle": "2025-04-28T11:39:09.230866Z",
     "shell.execute_reply": "2025-04-28T11:39:09.227929Z"
    }
   },
   "outputs": [
    {
     "data": {
      "text/plain": [
       "[('Lagrange multiplier statistic', np.float64(4.893213374094005)),\n",
       " ('p-value', np.float64(0.08658690502352002)),\n",
       " ('f-value', np.float64(2.5037159462564618)),\n",
       " ('f p-value', np.float64(0.08794028782672814))]"
      ]
     },
     "execution_count": 10,
     "metadata": {},
     "output_type": "execute_result"
    }
   ],
   "source": [
    "name = [\"Lagrange multiplier statistic\", \"p-value\", \"f-value\", \"f p-value\"]\n",
    "test = sms.het_breuschpagan(results.resid, results.model.exog)\n",
    "lzip(name, test)"
   ]
  },
  {
   "cell_type": "markdown",
   "metadata": {},
   "source": [
    "Goldfeld-Quandt test"
   ]
  },
  {
   "cell_type": "code",
   "execution_count": 11,
   "metadata": {
    "execution": {
     "iopub.execute_input": "2025-04-28T11:39:09.234175Z",
     "iopub.status.busy": "2025-04-28T11:39:09.233322Z",
     "iopub.status.idle": "2025-04-28T11:39:09.245858Z",
     "shell.execute_reply": "2025-04-28T11:39:09.243957Z"
    }
   },
   "outputs": [
    {
     "data": {
      "text/plain": [
       "[('F statistic', np.float64(1.1002422436378143)),\n",
       " ('p-value', np.float64(0.38202950686925324))]"
      ]
     },
     "execution_count": 11,
     "metadata": {},
     "output_type": "execute_result"
    }
   ],
   "source": [
    "name = [\"F statistic\", \"p-value\"]\n",
    "test = sms.het_goldfeldquandt(results.resid, results.model.exog)\n",
    "lzip(name, test)"
   ]
  },
  {
   "cell_type": "markdown",
   "metadata": {},
   "source": [
    "## Linearity\n",
    "\n",
    "Harvey-Collier multiplier test for Null hypothesis that the linear specification is correct:"
   ]
  },
  {
   "cell_type": "code",
   "execution_count": 12,
   "metadata": {
    "execution": {
     "iopub.execute_input": "2025-04-28T11:39:09.251212Z",
     "iopub.status.busy": "2025-04-28T11:39:09.250987Z",
     "iopub.status.idle": "2025-04-28T11:39:09.264821Z",
     "shell.execute_reply": "2025-04-28T11:39:09.262403Z"
    }
   },
   "outputs": [
    {
     "data": {
      "text/plain": [
       "[('t value', np.float64(-1.0796490077759802)),\n",
       " ('p value', np.float64(0.2834639247569222))]"
      ]
     },
     "execution_count": 12,
     "metadata": {},
     "output_type": "execute_result"
    }
   ],
   "source": [
    "name = [\"t value\", \"p value\"]\n",
    "test = sms.linear_harvey_collier(results)\n",
    "lzip(name, test)"
   ]
  }
 ],
 "metadata": {
  "kernelspec": {
   "display_name": "Python 3 (ipykernel)",
   "language": "python",
   "name": "python3"
  },
  "language_info": {
   "codemirror_mode": {
    "name": "ipython",
    "version": 3
   },
   "file_extension": ".py",
   "mimetype": "text/x-python",
   "name": "python",
   "nbconvert_exporter": "python",
   "pygments_lexer": "ipython3",
   "version": "3.10.17"
  }
 },
 "nbformat": 4,
 "nbformat_minor": 4
}
