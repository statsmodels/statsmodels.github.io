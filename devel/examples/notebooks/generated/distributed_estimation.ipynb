{
 "cells": [
  {
   "cell_type": "markdown",
   "metadata": {},
   "source": [
    "# Distributed Estimation \n",
    "\n",
    "This notebook goes through a couple of examples to show how to use `distributed_estimation`.  We import the `DistributedModel` class and make the exog and endog generators."
   ]
  },
  {
   "cell_type": "code",
   "execution_count": 1,
   "metadata": {
    "execution": {
     "iopub.execute_input": "2025-09-24T21:58:17.365148Z",
     "iopub.status.busy": "2025-09-24T21:58:17.364925Z",
     "iopub.status.idle": "2025-09-24T21:58:19.737540Z",
     "shell.execute_reply": "2025-09-24T21:58:19.736742Z"
    }
   },
   "outputs": [],
   "source": [
    "import numpy as np\n",
    "from scipy.stats.distributions import norm\n",
    "from statsmodels.base.distributed_estimation import DistributedModel\n",
    "\n",
    "\n",
    "def _exog_gen(exog, partitions):\n",
    "    \"\"\"partitions exog data\"\"\"\n",
    "\n",
    "    n_exog = exog.shape[0]\n",
    "    n_part = np.ceil(n_exog / partitions)\n",
    "\n",
    "    ii = 0\n",
    "    while ii < n_exog:\n",
    "        jj = int(min(ii + n_part, n_exog))\n",
    "        yield exog[ii:jj, :]\n",
    "        ii += int(n_part)\n",
    "\n",
    "\n",
    "def _endog_gen(endog, partitions):\n",
    "    \"\"\"partitions endog data\"\"\"\n",
    "\n",
    "    n_endog = endog.shape[0]\n",
    "    n_part = np.ceil(n_endog / partitions)\n",
    "\n",
    "    ii = 0\n",
    "    while ii < n_endog:\n",
    "        jj = int(min(ii + n_part, n_endog))\n",
    "        yield endog[ii:jj]\n",
    "        ii += int(n_part)"
   ]
  },
  {
   "cell_type": "markdown",
   "metadata": {},
   "source": [
    "Next we generate some random data to serve as an example."
   ]
  },
  {
   "cell_type": "code",
   "execution_count": 2,
   "metadata": {
    "execution": {
     "iopub.execute_input": "2025-09-24T21:58:19.745256Z",
     "iopub.status.busy": "2025-09-24T21:58:19.744934Z",
     "iopub.status.idle": "2025-09-24T21:58:19.759175Z",
     "shell.execute_reply": "2025-09-24T21:58:19.758588Z"
    }
   },
   "outputs": [],
   "source": [
    "X = np.random.normal(size=(1000, 25))\n",
    "beta = np.random.normal(size=25)\n",
    "beta *= np.random.randint(0, 2, size=25)\n",
    "y = norm.rvs(loc=X.dot(beta))\n",
    "m = 5"
   ]
  },
  {
   "cell_type": "markdown",
   "metadata": {},
   "source": [
    "This is the most basic fit, showing all of the defaults, which are to use OLS as the model class, and the debiasing procedure."
   ]
  },
  {
   "cell_type": "code",
   "execution_count": 3,
   "metadata": {
    "execution": {
     "iopub.execute_input": "2025-09-24T21:58:19.766397Z",
     "iopub.status.busy": "2025-09-24T21:58:19.766174Z",
     "iopub.status.idle": "2025-09-24T21:58:20.340168Z",
     "shell.execute_reply": "2025-09-24T21:58:20.339503Z"
    }
   },
   "outputs": [],
   "source": [
    "debiased_OLS_mod = DistributedModel(m)\n",
    "debiased_OLS_fit = debiased_OLS_mod.fit(\n",
    "    zip(_endog_gen(y, m), _exog_gen(X, m)), fit_kwds={\"alpha\": 0.2}\n",
    ")"
   ]
  },
  {
   "cell_type": "markdown",
   "metadata": {},
   "source": [
    "Then we run through a slightly more complicated example which uses the GLM model class."
   ]
  },
  {
   "cell_type": "code",
   "execution_count": 4,
   "metadata": {
    "execution": {
     "iopub.execute_input": "2025-09-24T21:58:20.345715Z",
     "iopub.status.busy": "2025-09-24T21:58:20.342969Z",
     "iopub.status.idle": "2025-09-24T21:58:21.488323Z",
     "shell.execute_reply": "2025-09-24T21:58:21.487645Z"
    }
   },
   "outputs": [],
   "source": [
    "from statsmodels.genmod.families import Gaussian\n",
    "from statsmodels.genmod.generalized_linear_model import GLM\n",
    "\n",
    "debiased_GLM_mod = DistributedModel(\n",
    "    m, model_class=GLM, init_kwds={\"family\": Gaussian()}\n",
    ")\n",
    "debiased_GLM_fit = debiased_GLM_mod.fit(\n",
    "    zip(_endog_gen(y, m), _exog_gen(X, m)), fit_kwds={\"alpha\": 0.2}\n",
    ")"
   ]
  },
  {
   "cell_type": "markdown",
   "metadata": {},
   "source": [
    "We can also change the `estimation_method` and the `join_method`.  The below example show how this works for the standard OLS case.  Here we using a naive averaging approach instead of the debiasing procedure."
   ]
  },
  {
   "cell_type": "code",
   "execution_count": 5,
   "metadata": {
    "execution": {
     "iopub.execute_input": "2025-09-24T21:58:21.494718Z",
     "iopub.status.busy": "2025-09-24T21:58:21.491145Z",
     "iopub.status.idle": "2025-09-24T21:58:21.782290Z",
     "shell.execute_reply": "2025-09-24T21:58:21.781450Z"
    }
   },
   "outputs": [],
   "source": [
    "from statsmodels.base.distributed_estimation import _est_regularized_naive, _join_naive\n",
    "\n",
    "naive_OLS_reg_mod = DistributedModel(\n",
    "    m, estimation_method=_est_regularized_naive, join_method=_join_naive\n",
    ")\n",
    "naive_OLS_reg_params = naive_OLS_reg_mod.fit(\n",
    "    zip(_endog_gen(y, m), _exog_gen(X, m)), fit_kwds={\"alpha\": 0.2}\n",
    ")"
   ]
  },
  {
   "cell_type": "markdown",
   "metadata": {},
   "source": [
    "Finally, we can also change the `results_class` used.  The following example shows how this work for a simple case with an unregularized model and naive averaging."
   ]
  },
  {
   "cell_type": "code",
   "execution_count": 6,
   "metadata": {
    "execution": {
     "iopub.execute_input": "2025-09-24T21:58:21.788226Z",
     "iopub.status.busy": "2025-09-24T21:58:21.787968Z",
     "iopub.status.idle": "2025-09-24T21:58:21.820370Z",
     "shell.execute_reply": "2025-09-24T21:58:21.819648Z"
    }
   },
   "outputs": [],
   "source": [
    "from statsmodels.base.distributed_estimation import (\n",
    "    DistributedResults,\n",
    "    _est_unregularized_naive,\n",
    ")\n",
    "\n",
    "naive_OLS_unreg_mod = DistributedModel(\n",
    "    m,\n",
    "    estimation_method=_est_unregularized_naive,\n",
    "    join_method=_join_naive,\n",
    "    results_class=DistributedResults,\n",
    ")\n",
    "naive_OLS_unreg_params = naive_OLS_unreg_mod.fit(\n",
    "    zip(_endog_gen(y, m), _exog_gen(X, m)), fit_kwds={\"alpha\": 0.2}\n",
    ")"
   ]
  }
 ],
 "metadata": {
  "kernelspec": {
   "display_name": "Python 3 (ipykernel)",
   "language": "python",
   "name": "python3"
  },
  "language_info": {
   "codemirror_mode": {
    "name": "ipython",
    "version": 3
   },
   "file_extension": ".py",
   "mimetype": "text/x-python",
   "name": "python",
   "nbconvert_exporter": "python",
   "pygments_lexer": "ipython3",
   "version": "3.10.18"
  }
 },
 "nbformat": 4,
 "nbformat_minor": 4
}
